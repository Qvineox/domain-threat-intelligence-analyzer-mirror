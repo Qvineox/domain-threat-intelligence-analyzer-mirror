{
 "cells": [
  {
   "cell_type": "markdown",
   "source": [
    "# Классификатор DGA доменов\n",
    "\n",
    "## Ссылки:\n",
    "\n",
    "- https://habr.com/ru/companies/pt/articles/282349/\n",
    "- https://www.securitylab.ru/blog/personal/Morning/347957.php\n",
    "- https://underdefense.com/guides/detecting-dga-domains-machine-learning-approach/\n",
    "- https://habr.com/ru/companies/wunderfund/articles/331310/\n",
    "- https://github.com/ryancollingwood/DGAClassifier\n",
    "\n",
    "## Наборы данных\n",
    "\n",
    "- https://www.kaggle.com/datasets/gtkcyber/dga-dataset\n",
    "- https://github.com/chrmor/DGA_domains_dataset\n"
   ],
   "metadata": {
    "collapsed": false
   },
   "id": "178010a7a2b29b95"
  },
  {
   "cell_type": "code",
   "execution_count": null,
   "id": "initial_id",
   "metadata": {
    "collapsed": true,
    "is_executing": true
   },
   "outputs": [],
   "source": [
    "!nvidia-smi"
   ]
  },
  {
   "cell_type": "code",
   "outputs": [],
   "source": [
    "import pandas as pd\n",
    "import numpy as np\n",
    "import matplotlib.pyplot as plt\n",
    "import seaborn as sns\n",
    "import keras\n",
    "\n",
    "from keras.preprocessing.sequence import pad_sequences\n",
    "from keras.models import Sequential\n",
    "from keras.layers import Dense, Dropout, Activation, Embedding\n",
    "from keras.layers import LSTM\n",
    "\n",
    "from sklearn.model_selection import train_test_split\n",
    "from sklearn.metrics import confusion_matrix, accuracy_score, classification_report\n",
    "\n",
    "dir_path = './work/models/dga/'"
   ],
   "metadata": {
    "collapsed": false,
    "ExecuteTime": {
     "end_time": "2024-03-20T11:26:21.526447Z",
     "start_time": "2024-03-20T11:26:21.522414Z"
    }
   },
   "id": "94f9a86050fb0a6f",
   "execution_count": 99
  },
  {
   "cell_type": "code",
   "outputs": [],
   "source": [
    "df1 = pd.read_csv('./work/datasets/dga_data.csv')\n",
    "df2 = pd.read_csv('./work/datasets/dga_domains_full.csv')\n",
    "df3 = pd.read_csv('./work/datasets/dga_domains.csv')"
   ],
   "metadata": {
    "collapsed": false,
    "ExecuteTime": {
     "end_time": "2024-03-20T11:26:22.820165Z",
     "start_time": "2024-03-20T11:26:22.270471Z"
    }
   },
   "id": "671808d435eb71a3",
   "execution_count": 100
  },
  {
   "cell_type": "code",
   "outputs": [],
   "source": [
    "## Очистка и преобразование исходных данных\n",
    "df1.loc[(df1['isDGA'] == 'dga'), 'isDGA'] = 1\n",
    "df1.loc[(df1['isDGA'] == 'legit'), 'isDGA'] = 0\n",
    "\n",
    "df1 = df1.drop(columns=df1.columns[1], axis=1)\n",
    "df1 = df1.rename(columns={'host': 'domain'})\n",
    "\n",
    "df2.loc[(df2['isDGA'] == 'legit'), 'isDGA'] = 0\n",
    "df2.loc[(df2['isDGA'] == 'dga'), 'isDGA'] = 1\n",
    "\n",
    "df3.loc[(df3['isDGA'] == 'legit'), 'isDGA'] = 0\n",
    "df3.loc[(df3['isDGA'] == 'dga'), 'isDGA'] = 1\n",
    "\n",
    "df3 = df3.drop(columns=df1.columns[2], axis=1)\n",
    "df3 = df3.drop(columns=df1.columns[1], axis=1)\n",
    "\n",
    "df3.head()\n",
    "\n",
    "df3 = df3.rename(columns={'host': 'domain'})"
   ],
   "metadata": {
    "collapsed": false,
    "ExecuteTime": {
     "end_time": "2024-03-20T11:26:24.084721Z",
     "start_time": "2024-03-20T11:26:23.951777Z"
    }
   },
   "id": "4cda4d956f97ceae",
   "execution_count": 101
  },
  {
   "cell_type": "code",
   "outputs": [],
   "source": [
    "df = pd.concat([df1, df2, df3])\n",
    "\n",
    "df = df.astype({'domain': 'string', 'isDGA': 'int8', 'subclass': 'category'})"
   ],
   "metadata": {
    "collapsed": false,
    "ExecuteTime": {
     "end_time": "2024-03-20T11:26:25.130241Z",
     "start_time": "2024-03-20T11:26:25.046627Z"
    }
   },
   "id": "3e67e25c6e383b1d",
   "execution_count": 102
  },
  {
   "cell_type": "code",
   "outputs": [
    {
     "data": {
      "text/plain": "   isDGA                          domain      subclass\n0      1  6xzxsw3sokvg1tc752y1a6p0af.com   gameoverdga\n1      1               glbtlxwwhbnpxs.ru  cryptolocker\n2      1               xxmamopyipbfpk.ru  cryptolocker\n3      1   zfd5szpi18i85wj9uy13l69rg.net        newgoz\n4      1                 jpqftymiuver.ru  cryptolocker\n5      1                   takenroll.net       nivdort\n6      1                 vrrtneoswsds.ru  cryptolocker\n7      1   mzapiwbcsbqiyxnlxa1hprx8n.com        newgoz\n8      1               xkoihiygtanuio.ru  cryptolocker\n9      1                   dreamdont.net       nivdort",
      "text/html": "<div>\n<style scoped>\n    .dataframe tbody tr th:only-of-type {\n        vertical-align: middle;\n    }\n\n    .dataframe tbody tr th {\n        vertical-align: top;\n    }\n\n    .dataframe thead th {\n        text-align: right;\n    }\n</style>\n<table border=\"1\" class=\"dataframe\">\n  <thead>\n    <tr style=\"text-align: right;\">\n      <th></th>\n      <th>isDGA</th>\n      <th>domain</th>\n      <th>subclass</th>\n    </tr>\n  </thead>\n  <tbody>\n    <tr>\n      <th>0</th>\n      <td>1</td>\n      <td>6xzxsw3sokvg1tc752y1a6p0af.com</td>\n      <td>gameoverdga</td>\n    </tr>\n    <tr>\n      <th>1</th>\n      <td>1</td>\n      <td>glbtlxwwhbnpxs.ru</td>\n      <td>cryptolocker</td>\n    </tr>\n    <tr>\n      <th>2</th>\n      <td>1</td>\n      <td>xxmamopyipbfpk.ru</td>\n      <td>cryptolocker</td>\n    </tr>\n    <tr>\n      <th>3</th>\n      <td>1</td>\n      <td>zfd5szpi18i85wj9uy13l69rg.net</td>\n      <td>newgoz</td>\n    </tr>\n    <tr>\n      <th>4</th>\n      <td>1</td>\n      <td>jpqftymiuver.ru</td>\n      <td>cryptolocker</td>\n    </tr>\n    <tr>\n      <th>5</th>\n      <td>1</td>\n      <td>takenroll.net</td>\n      <td>nivdort</td>\n    </tr>\n    <tr>\n      <th>6</th>\n      <td>1</td>\n      <td>vrrtneoswsds.ru</td>\n      <td>cryptolocker</td>\n    </tr>\n    <tr>\n      <th>7</th>\n      <td>1</td>\n      <td>mzapiwbcsbqiyxnlxa1hprx8n.com</td>\n      <td>newgoz</td>\n    </tr>\n    <tr>\n      <th>8</th>\n      <td>1</td>\n      <td>xkoihiygtanuio.ru</td>\n      <td>cryptolocker</td>\n    </tr>\n    <tr>\n      <th>9</th>\n      <td>1</td>\n      <td>dreamdont.net</td>\n      <td>nivdort</td>\n    </tr>\n  </tbody>\n</table>\n</div>"
     },
     "execution_count": 86,
     "metadata": {},
     "output_type": "execute_result"
    }
   ],
   "source": [
    "df.head(10)"
   ],
   "metadata": {
    "collapsed": false,
    "ExecuteTime": {
     "end_time": "2024-03-20T11:18:21.582137Z",
     "start_time": "2024-03-20T11:18:21.575476Z"
    }
   },
   "id": "f41897760c646b77",
   "execution_count": 86
  },
  {
   "cell_type": "code",
   "outputs": [],
   "source": [
    "X, y = df['domain'], df['isDGA']"
   ],
   "metadata": {
    "collapsed": false,
    "ExecuteTime": {
     "end_time": "2024-03-20T11:26:27.050826Z",
     "start_time": "2024-03-20T11:26:27.047731Z"
    }
   },
   "id": "e4725a4b41624be2",
   "execution_count": 103
  },
  {
   "cell_type": "code",
   "outputs": [
    {
     "name": "stdout",
     "output_type": "stream",
     "text": [
      "domain\n"
     ]
    },
    {
     "data": {
      "text/plain": "      0      1      2      3      4      5      6      7      8      9   ...  \\\n0   54.0  120.0  122.0  120.0  115.0  119.0   51.0  115.0  111.0  107.0  ...   \n1  103.0  108.0   98.0  116.0  108.0  120.0  119.0  119.0  104.0   98.0  ...   \n2  120.0  120.0  109.0   97.0  109.0  111.0  112.0  121.0  105.0  112.0  ...   \n3  122.0  102.0  100.0   53.0  115.0  122.0  112.0  105.0   49.0   56.0  ...   \n4  106.0  112.0  113.0  102.0  116.0  121.0  109.0  105.0  117.0  118.0  ...   \n\n   63  64  65  66  67  68  69  70  71  72  \n0 NaN NaN NaN NaN NaN NaN NaN NaN NaN NaN  \n1 NaN NaN NaN NaN NaN NaN NaN NaN NaN NaN  \n2 NaN NaN NaN NaN NaN NaN NaN NaN NaN NaN  \n3 NaN NaN NaN NaN NaN NaN NaN NaN NaN NaN  \n4 NaN NaN NaN NaN NaN NaN NaN NaN NaN NaN  \n\n[5 rows x 73 columns]",
      "text/html": "<div>\n<style scoped>\n    .dataframe tbody tr th:only-of-type {\n        vertical-align: middle;\n    }\n\n    .dataframe tbody tr th {\n        vertical-align: top;\n    }\n\n    .dataframe thead th {\n        text-align: right;\n    }\n</style>\n<table border=\"1\" class=\"dataframe\">\n  <thead>\n    <tr style=\"text-align: right;\">\n      <th></th>\n      <th>0</th>\n      <th>1</th>\n      <th>2</th>\n      <th>3</th>\n      <th>4</th>\n      <th>5</th>\n      <th>6</th>\n      <th>7</th>\n      <th>8</th>\n      <th>9</th>\n      <th>...</th>\n      <th>63</th>\n      <th>64</th>\n      <th>65</th>\n      <th>66</th>\n      <th>67</th>\n      <th>68</th>\n      <th>69</th>\n      <th>70</th>\n      <th>71</th>\n      <th>72</th>\n    </tr>\n  </thead>\n  <tbody>\n    <tr>\n      <th>0</th>\n      <td>54.0</td>\n      <td>120.0</td>\n      <td>122.0</td>\n      <td>120.0</td>\n      <td>115.0</td>\n      <td>119.0</td>\n      <td>51.0</td>\n      <td>115.0</td>\n      <td>111.0</td>\n      <td>107.0</td>\n      <td>...</td>\n      <td>NaN</td>\n      <td>NaN</td>\n      <td>NaN</td>\n      <td>NaN</td>\n      <td>NaN</td>\n      <td>NaN</td>\n      <td>NaN</td>\n      <td>NaN</td>\n      <td>NaN</td>\n      <td>NaN</td>\n    </tr>\n    <tr>\n      <th>1</th>\n      <td>103.0</td>\n      <td>108.0</td>\n      <td>98.0</td>\n      <td>116.0</td>\n      <td>108.0</td>\n      <td>120.0</td>\n      <td>119.0</td>\n      <td>119.0</td>\n      <td>104.0</td>\n      <td>98.0</td>\n      <td>...</td>\n      <td>NaN</td>\n      <td>NaN</td>\n      <td>NaN</td>\n      <td>NaN</td>\n      <td>NaN</td>\n      <td>NaN</td>\n      <td>NaN</td>\n      <td>NaN</td>\n      <td>NaN</td>\n      <td>NaN</td>\n    </tr>\n    <tr>\n      <th>2</th>\n      <td>120.0</td>\n      <td>120.0</td>\n      <td>109.0</td>\n      <td>97.0</td>\n      <td>109.0</td>\n      <td>111.0</td>\n      <td>112.0</td>\n      <td>121.0</td>\n      <td>105.0</td>\n      <td>112.0</td>\n      <td>...</td>\n      <td>NaN</td>\n      <td>NaN</td>\n      <td>NaN</td>\n      <td>NaN</td>\n      <td>NaN</td>\n      <td>NaN</td>\n      <td>NaN</td>\n      <td>NaN</td>\n      <td>NaN</td>\n      <td>NaN</td>\n    </tr>\n    <tr>\n      <th>3</th>\n      <td>122.0</td>\n      <td>102.0</td>\n      <td>100.0</td>\n      <td>53.0</td>\n      <td>115.0</td>\n      <td>122.0</td>\n      <td>112.0</td>\n      <td>105.0</td>\n      <td>49.0</td>\n      <td>56.0</td>\n      <td>...</td>\n      <td>NaN</td>\n      <td>NaN</td>\n      <td>NaN</td>\n      <td>NaN</td>\n      <td>NaN</td>\n      <td>NaN</td>\n      <td>NaN</td>\n      <td>NaN</td>\n      <td>NaN</td>\n      <td>NaN</td>\n    </tr>\n    <tr>\n      <th>4</th>\n      <td>106.0</td>\n      <td>112.0</td>\n      <td>113.0</td>\n      <td>102.0</td>\n      <td>116.0</td>\n      <td>121.0</td>\n      <td>109.0</td>\n      <td>105.0</td>\n      <td>117.0</td>\n      <td>118.0</td>\n      <td>...</td>\n      <td>NaN</td>\n      <td>NaN</td>\n      <td>NaN</td>\n      <td>NaN</td>\n      <td>NaN</td>\n      <td>NaN</td>\n      <td>NaN</td>\n      <td>NaN</td>\n      <td>NaN</td>\n      <td>NaN</td>\n    </tr>\n  </tbody>\n</table>\n<p>5 rows × 73 columns</p>\n</div>"
     },
     "metadata": {},
     "output_type": "display_data"
    }
   ],
   "source": [
    "ascii_ranges = [\"_\", \"-\", \".\", \"0\", \"1\", \"9\", \"a\", \"z\"]\n",
    "ascii_ord_ranges = list()\n",
    "for c in ascii_ranges:\n",
    "    ascii_ord_ranges.append(ord(c))\n",
    "\n",
    "expected_ords = [ord(\"-\"), ord(\"_\"), ord(\".\")] + list(range(ord(\"0\"), ord(\"9\") + 1)) + list(\n",
    "    range(ord(\"a\"), ord(\"z\") + 1))\n",
    "\n",
    "# a simple check to ensure the range domains we identified are present\n",
    "for i in ascii_ord_ranges:\n",
    "    assert (i in expected_ords)\n",
    "\n",
    "ord_data_dfs = dict()\n",
    "\n",
    "for column in ['domain']:\n",
    "    ord_data_dfs[column] = df[column].apply(lambda x: [ord(w) for w in x.lower()]).apply(pd.Series)\n",
    "    display(ord_data_dfs[column].head())"
   ],
   "metadata": {
    "collapsed": false,
    "ExecuteTime": {
     "end_time": "2024-03-20T11:27:29.978517Z",
     "start_time": "2024-03-20T11:26:28.685051Z"
    }
   },
   "id": "85b90c808522e0c0",
   "execution_count": 104
  },
  {
   "cell_type": "code",
   "outputs": [],
   "source": [
    "for column in ['domain']:\n",
    "    ord_data_dfs[column] = ord_data_dfs[column].fillna(-1)"
   ],
   "metadata": {
    "collapsed": false,
    "ExecuteTime": {
     "end_time": "2024-03-20T11:27:42.289124Z",
     "start_time": "2024-03-20T11:27:42.174044Z"
    }
   },
   "id": "92a270836569d40e",
   "execution_count": 105
  },
  {
   "cell_type": "code",
   "outputs": [
    {
     "name": "stdout",
     "output_type": "stream",
     "text": [
      "domain\n",
      "\n",
      "domain\n"
     ]
    }
   ],
   "source": [
    "unknown_ord_columns = dict()\n",
    "\n",
    "for column in ['domain']:\n",
    "    unknown_ord_columns[column] = set()\n",
    "\n",
    "    for ord_column in ord_data_dfs[column].columns:\n",
    "        try:\n",
    "            assert (all(ord_data_dfs[column][ord_column].isin(expected_ords + [-1])))\n",
    "        except AssertionError:\n",
    "            print(column, \"- column:\", ord_column, \"contained unknown ordinal value\")\n",
    "            unknown_ord_columns[column].add(ord_column)\n",
    "            continue\n",
    "\n",
    "    print()\n",
    "\n",
    "for column in ['domain']:\n",
    "    for ord_column in unknown_ord_columns[column]:\n",
    "        unknown_ord_index = (~ord_data_dfs[column][ord_column].isin(expected_ords + [-1]))\n",
    "        if any(unknown_ord_index):\n",
    "            print(ord_data_dfs[column].loc[unknown_ord_index][ord_column])\n",
    "            display(df.loc[unknown_ord_index][column])\n",
    "\n",
    "    print()"
   ],
   "metadata": {
    "collapsed": false,
    "ExecuteTime": {
     "end_time": "2024-03-20T11:27:50.961408Z",
     "start_time": "2024-03-20T11:27:44.491396Z"
    }
   },
   "id": "be4952ab6cba37e8",
   "execution_count": 106
  },
  {
   "cell_type": "code",
   "outputs": [],
   "source": [
    "validTokens = {x: idx + 1 for idx, x in enumerate(set(''.join(X)))}\n",
    "\n",
    "maxFeatures = len(validTokens) + 1\n",
    "maxLength = np.max([len(x) for x in X])"
   ],
   "metadata": {
    "collapsed": false,
    "ExecuteTime": {
     "end_time": "2024-03-20T11:29:12.483685Z",
     "start_time": "2024-03-20T11:29:11.796648Z"
    }
   },
   "id": "c12c050a08409450",
   "execution_count": 109
  },
  {
   "cell_type": "code",
   "outputs": [],
   "source": [
    "X = [[validTokens[y] for y in x] for x in X]\n",
    "X = pad_sequences(X, maxlen=maxLength)"
   ],
   "metadata": {
    "collapsed": false,
    "ExecuteTime": {
     "end_time": "2024-03-20T11:29:18.753491Z",
     "start_time": "2024-03-20T11:29:15.996899Z"
    }
   },
   "id": "b6210849a71167cf",
   "execution_count": 110
  },
  {
   "cell_type": "code",
   "outputs": [],
   "source": [
    "X_train, X_test, y_train, y_test = train_test_split(X, y, test_size=0.2, random_state=42)"
   ],
   "metadata": {
    "collapsed": false,
    "ExecuteTime": {
     "end_time": "2024-03-20T11:29:21.052663Z",
     "start_time": "2024-03-20T11:29:20.936993Z"
    }
   },
   "id": "9b49307c62805ecb",
   "execution_count": 111
  },
  {
   "cell_type": "code",
   "outputs": [],
   "source": [
    "# LSTM модель\n",
    "\n",
    "model = Sequential()\n",
    "model.add(Embedding(maxFeatures, 128, input_length=maxLength))\n",
    "model.add(LSTM(128))\n",
    "model.add(Dropout(0.5))\n",
    "model.add(Dense(1))\n",
    "model.add(Activation('sigmoid'))\n",
    "model.compile(loss='binary_crossentropy', optimizer='rmsprop', metrics=['accuracy'])"
   ],
   "metadata": {
    "collapsed": false,
    "ExecuteTime": {
     "end_time": "2024-03-20T11:29:23.860636Z",
     "start_time": "2024-03-20T11:29:23.729239Z"
    }
   },
   "id": "9da2c8757661b0a0",
   "execution_count": 112
  },
  {
   "cell_type": "code",
   "outputs": [
    {
     "name": "stdout",
     "output_type": "stream",
     "text": [
      "Epoch 1/5\n",
      "51671/51671 [==============================] - 393s 8ms/step - loss: 0.1598 - accuracy: 0.9395\n",
      "Epoch 2/5\n",
      "51671/51671 [==============================] - 399s 8ms/step - loss: 0.1008 - accuracy: 0.9678\n",
      "Epoch 3/5\n",
      "51671/51671 [==============================] - 375s 7ms/step - loss: 0.0973 - accuracy: 0.9708\n",
      "Epoch 4/5\n",
      "51671/51671 [==============================] - 389s 8ms/step - loss: 0.0992 - accuracy: 0.9714\n",
      "Epoch 5/5\n",
      "51671/51671 [==============================] - 410s 8ms/step - loss: 0.1006 - accuracy: 0.9720\n"
     ]
    },
    {
     "data": {
      "text/plain": "<keras.src.callbacks.History at 0x7fe1d5b1e6d0>"
     },
     "execution_count": 113,
     "metadata": {},
     "output_type": "execute_result"
    }
   ],
   "source": [
    "model.fit(X_train, y_train, batch_size=15, epochs=5)"
   ],
   "metadata": {
    "collapsed": false,
    "ExecuteTime": {
     "end_time": "2024-03-20T12:02:12.560672Z",
     "start_time": "2024-03-20T11:29:26.261400Z"
    }
   },
   "id": "a1df23b4df9809cb",
   "execution_count": 113
  },
  {
   "cell_type": "code",
   "outputs": [],
   "source": [
    "# https://www.tensorflow.org/guide/keras/serialization_and_saving\n",
    "model.save(dir_path + 'dga_lstm.keras')"
   ],
   "metadata": {
    "collapsed": false,
    "ExecuteTime": {
     "end_time": "2024-03-20T15:36:25.070683Z",
     "start_time": "2024-03-20T15:36:24.846153Z"
    }
   },
   "id": "ed4c4164569377fa",
   "execution_count": 115
  },
  {
   "cell_type": "code",
   "outputs": [],
   "source": [
    "# model = keras.models.load_model(path)"
   ],
   "metadata": {
    "collapsed": false
   },
   "id": "581cdd83b2ac1bac",
   "execution_count": null
  },
  {
   "cell_type": "code",
   "outputs": [
    {
     "name": "stdout",
     "output_type": "stream",
     "text": [
      "6056/6056 [==============================] - 16s 3ms/step\n"
     ]
    }
   ],
   "source": [
    "predictions = model.predict(X_test).round()"
   ],
   "metadata": {
    "collapsed": false,
    "ExecuteTime": {
     "end_time": "2024-03-20T15:37:22.196025Z",
     "start_time": "2024-03-20T15:37:02.797769Z"
    }
   },
   "id": "fe8cdbceb4f9c72",
   "execution_count": 116
  },
  {
   "cell_type": "code",
   "outputs": [],
   "source": [
    "acc = accuracy_score(y_test, predictions)\n",
    "classification_report = classification_report(y_test, predictions)"
   ],
   "metadata": {
    "collapsed": false,
    "ExecuteTime": {
     "end_time": "2024-03-20T15:37:30.028950Z",
     "start_time": "2024-03-20T15:37:29.904678Z"
    }
   },
   "id": "9d046148e0ce66a4",
   "execution_count": 117
  },
  {
   "cell_type": "code",
   "outputs": [
    {
     "name": "stdout",
     "output_type": "stream",
     "text": [
      "              precision    recall  f1-score   support\n",
      "\n",
      "           0       0.97      0.98      0.97     99677\n",
      "           1       0.97      0.97      0.97     94088\n",
      "\n",
      "    accuracy                           0.97    193765\n",
      "   macro avg       0.97      0.97      0.97    193765\n",
      "weighted avg       0.97      0.97      0.97    193765\n"
     ]
    }
   ],
   "source": [
    "print(classification_report)"
   ],
   "metadata": {
    "collapsed": false,
    "ExecuteTime": {
     "end_time": "2024-03-20T15:37:31.548532Z",
     "start_time": "2024-03-20T15:37:31.544969Z"
    }
   },
   "id": "427808a61093cb20",
   "execution_count": 118
  },
  {
   "cell_type": "code",
   "outputs": [],
   "source": [
    "def tokenize_domain(domain):\n",
    "    d_ = [[validTokens[char] for char in domain]]\n",
    "    d_ = pad_sequences(d_, maxlen=maxLength)\n",
    "\n",
    "    return d_"
   ],
   "metadata": {
    "collapsed": false,
    "ExecuteTime": {
     "end_time": "2024-03-20T15:37:40.183750Z",
     "start_time": "2024-03-20T15:37:40.180408Z"
    }
   },
   "id": "a15333618dc32a2d",
   "execution_count": 119
  },
  {
   "cell_type": "code",
   "outputs": [
    {
     "name": "stdout",
     "output_type": "stream",
     "text": [
      "1/1 [==============================] - 0s 22ms/step\n"
     ]
    },
    {
     "data": {
      "text/plain": "array([[0.00110966]], dtype=float32)"
     },
     "execution_count": 120,
     "metadata": {},
     "output_type": "execute_result"
    }
   ],
   "source": [
    "model.predict(tokenize_domain('example.com'))"
   ],
   "metadata": {
    "collapsed": false,
    "ExecuteTime": {
     "end_time": "2024-03-20T15:37:42.049173Z",
     "start_time": "2024-03-20T15:37:41.975870Z"
    }
   },
   "id": "f9a4ecb3a3ba1257",
   "execution_count": 120
  },
  {
   "cell_type": "code",
   "outputs": [
    {
     "name": "stdout",
     "output_type": "stream",
     "text": [
      "1/1 [==============================] - 0s 22ms/step\n"
     ]
    },
    {
     "data": {
      "text/plain": "array([[1.]], dtype=float32)"
     },
     "execution_count": 123,
     "metadata": {},
     "output_type": "execute_result"
    }
   ],
   "source": [
    "model.predict(tokenize_domain('cvyh1po636avyrsxebwbkn7.ddns.net'))"
   ],
   "metadata": {
    "collapsed": false,
    "ExecuteTime": {
     "end_time": "2024-03-20T15:37:50.013810Z",
     "start_time": "2024-03-20T15:37:49.957954Z"
    }
   },
   "id": "d42a8e3c42420961",
   "execution_count": 123
  },
  {
   "cell_type": "code",
   "outputs": [
    {
     "data": {
      "text/plain": "{'0': 1,\n 't': 2,\n '3': 3,\n 'b': 4,\n '7': 5,\n '9': 6,\n 'w': 7,\n 'u': 8,\n '_': 9,\n 'p': 10,\n 'n': 11,\n '2': 12,\n '1': 13,\n '8': 14,\n 'm': 15,\n 'r': 16,\n 'f': 17,\n 's': 18,\n 'v': 19,\n 'y': 20,\n 'x': 21,\n 'h': 22,\n '4': 23,\n '.': 24,\n 'j': 25,\n 'g': 26,\n 'o': 27,\n '-': 28,\n 'd': 29,\n 'l': 30,\n 'q': 31,\n 'e': 32,\n '5': 33,\n 'k': 34,\n 'z': 35,\n 'i': 36,\n 'c': 37,\n '6': 38,\n 'a': 39}"
     },
     "execution_count": 124,
     "metadata": {},
     "output_type": "execute_result"
    }
   ],
   "source": [
    "validTokens"
   ],
   "metadata": {
    "collapsed": false,
    "ExecuteTime": {
     "end_time": "2024-03-20T15:37:53.622641Z",
     "start_time": "2024-03-20T15:37:53.617781Z"
    }
   },
   "id": "38da0178b3c2143c",
   "execution_count": 124
  },
  {
   "cell_type": "code",
   "outputs": [],
   "source": [],
   "metadata": {
    "collapsed": false
   },
   "id": "d573482cec3007b4"
  }
 ],
 "metadata": {
  "kernelspec": {
   "display_name": "Python 3",
   "language": "python",
   "name": "python3"
  },
  "language_info": {
   "codemirror_mode": {
    "name": "ipython",
    "version": 2
   },
   "file_extension": ".py",
   "mimetype": "text/x-python",
   "name": "python",
   "nbconvert_exporter": "python",
   "pygments_lexer": "ipython2",
   "version": "2.7.6"
  }
 },
 "nbformat": 4,
 "nbformat_minor": 5
}
