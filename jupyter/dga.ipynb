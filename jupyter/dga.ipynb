{
 "cells": [
  {
   "cell_type": "markdown",
   "source": [
    "# Классификатор DGA доменов\n",
    "\n",
    "## Ссылки:\n",
    "\n",
    "- https://habr.com/ru/companies/pt/articles/282349/\n",
    "- https://www.securitylab.ru/blog/personal/Morning/347957.php\n",
    "- https://underdefense.com/guides/detecting-dga-domains-machine-learning-approach/\n",
    "- https://habr.com/ru/companies/wunderfund/articles/331310/\n",
    "- https://github.com/ryancollingwood/DGAClassifier\n",
    "\n",
    "## Наборы данных\n",
    "\n",
    "- https://www.kaggle.com/datasets/gtkcyber/dga-dataset\n",
    "- https://github.com/chrmor/DGA_domains_dataset\n"
   ],
   "metadata": {
    "collapsed": false
   },
   "id": "178010a7a2b29b95"
  },
  {
   "cell_type": "code",
   "execution_count": 1,
   "id": "initial_id",
   "metadata": {
    "collapsed": true,
    "ExecuteTime": {
     "end_time": "2024-03-19T18:54:39.038976Z",
     "start_time": "2024-03-19T18:54:38.878307Z"
    }
   },
   "outputs": [
    {
     "name": "stdout",
     "output_type": "stream",
     "text": [
      "Tue Mar 19 18:54:38 2024       \r\n",
      "+---------------------------------------------------------------------------------------+\r\n",
      "| NVIDIA-SMI 545.23.06              Driver Version: 545.92       CUDA Version: 12.3     |\r\n",
      "|-----------------------------------------+----------------------+----------------------+\r\n",
      "| GPU  Name                 Persistence-M | Bus-Id        Disp.A | Volatile Uncorr. ECC |\r\n",
      "| Fan  Temp   Perf          Pwr:Usage/Cap |         Memory-Usage | GPU-Util  Compute M. |\r\n",
      "|                                         |                      |               MIG M. |\r\n",
      "|=========================================+======================+======================|\r\n",
      "|   0  NVIDIA GeForce RTX 3070 Ti     On  | 00000000:01:00.0  On |                  N/A |\r\n",
      "| 78%   30C    P5              23W / 331W |   1547MiB /  8192MiB |      3%      Default |\r\n",
      "|                                         |                      |                  N/A |\r\n",
      "+-----------------------------------------+----------------------+----------------------+\r\n",
      "                                                                                         \r\n",
      "+---------------------------------------------------------------------------------------+\r\n",
      "| Processes:                                                                            |\r\n",
      "|  GPU   GI   CI        PID   Type   Process name                            GPU Memory |\r\n",
      "|        ID   ID                                                             Usage      |\r\n",
      "|=======================================================================================|\r\n",
      "|  No running processes found                                                           |\r\n",
      "+---------------------------------------------------------------------------------------+\r\n"
     ]
    }
   ],
   "source": [
    "!nvidia-smi"
   ]
  },
  {
   "cell_type": "code",
   "outputs": [],
   "source": [
    "import pandas as pd\n",
    "import numpy as np\n",
    "import matplotlib.pyplot as plt\n",
    "import seaborn as sns\n",
    "import keras\n",
    "\n",
    "from keras.preprocessing.sequence import pad_sequences\n",
    "from keras.models import Sequential\n",
    "from keras.layers import Dense, Dropout, Activation, Embedding\n",
    "from keras.layers import LSTM\n",
    "\n",
    "from sklearn.model_selection import train_test_split\n",
    "from sklearn.metrics import confusion_matrix, accuracy_score, classification_report\n",
    "\n",
    "dir_path = './work/models/dga/'"
   ],
   "metadata": {
    "collapsed": false,
    "ExecuteTime": {
     "end_time": "2024-03-19T19:25:21.728202Z",
     "start_time": "2024-03-19T19:25:21.724832Z"
    }
   },
   "id": "94f9a86050fb0a6f",
   "execution_count": 32
  },
  {
   "cell_type": "code",
   "outputs": [],
   "source": [
    "df1 = pd.read_csv('./work/datasets/dga_data.csv')"
   ],
   "metadata": {
    "collapsed": false,
    "ExecuteTime": {
     "end_time": "2024-03-19T18:54:40.596650Z",
     "start_time": "2024-03-19T18:54:40.452229Z"
    }
   },
   "id": "671808d435eb71a3",
   "execution_count": 3
  },
  {
   "cell_type": "code",
   "outputs": [],
   "source": [
    "df2 = pd.read_csv('./work/datasets/dga_domains_full.csv')"
   ],
   "metadata": {
    "collapsed": false,
    "ExecuteTime": {
     "end_time": "2024-03-19T18:54:40.995706Z",
     "start_time": "2024-03-19T18:54:40.598748Z"
    }
   },
   "id": "21f41e6821fdbf11",
   "execution_count": 4
  },
  {
   "cell_type": "code",
   "outputs": [],
   "source": [
    "## Очистка и преобразование исходных данных\n",
    "\n",
    "df1.loc[(df1['isDGA'] == 'dga'), 'isDGA'] = 1\n",
    "df1.loc[(df1['isDGA'] != 'dga'), 'isDGA'] = 0\n",
    "\n",
    "df1 = df1.drop(columns=df1.columns[1], axis=1)\n",
    "df1 = df1.rename(columns={'host': 'domain'})\n",
    "\n",
    "df2.loc[(df2['isDGA'] != 'dga'), 'isDGA'] = 0\n",
    "df2.loc[(df2['isDGA'] == 'dga'), 'isDGA'] = 1"
   ],
   "metadata": {
    "collapsed": false,
    "ExecuteTime": {
     "end_time": "2024-03-19T18:54:41.109059Z",
     "start_time": "2024-03-19T18:54:40.996930Z"
    }
   },
   "id": "4cda4d956f97ceae",
   "execution_count": 5
  },
  {
   "cell_type": "code",
   "outputs": [],
   "source": [
    "df = pd.concat([df1, df2])\n",
    "df = df.reset_index(drop=True)\n",
    "\n",
    "df = df.astype({'domain': 'string', 'isDGA': 'int8', 'subclass': 'category'})"
   ],
   "metadata": {
    "collapsed": false,
    "ExecuteTime": {
     "end_time": "2024-03-19T18:54:41.280767Z",
     "start_time": "2024-03-19T18:54:41.110490Z"
    }
   },
   "id": "3e67e25c6e383b1d",
   "execution_count": 6
  },
  {
   "cell_type": "code",
   "outputs": [
    {
     "data": {
      "text/plain": "        isDGA                            domain  subclass\n0           0  ihyztoftwmbpvydauaudiskvxobjb.ru       goz\n1           0                buscagrupos.com.br     alexa\n2           1  iraxi872o4m2143d5ngxuru.ddns.net   corebot\n3           1          ksoxukphifgxepaaxvva.pro    necurs\n4           1               mbafocecodfcbndd.co  padcrypt\n...       ...                               ...       ...\n834893      1                  i4ms28qseois.top    qadars\n834894      0                villagehatshop.com     legit\n834895      0                   cabinetbank.com     alexa\n834896      0            dragonballarchives.com     alexa\n834897      1      wdmhkvyxcf10i6yngh5.ddns.net   corebot\n\n[834898 rows x 3 columns]",
      "text/html": "<div>\n<style scoped>\n    .dataframe tbody tr th:only-of-type {\n        vertical-align: middle;\n    }\n\n    .dataframe tbody tr th {\n        vertical-align: top;\n    }\n\n    .dataframe thead th {\n        text-align: right;\n    }\n</style>\n<table border=\"1\" class=\"dataframe\">\n  <thead>\n    <tr style=\"text-align: right;\">\n      <th></th>\n      <th>isDGA</th>\n      <th>domain</th>\n      <th>subclass</th>\n    </tr>\n  </thead>\n  <tbody>\n    <tr>\n      <th>0</th>\n      <td>0</td>\n      <td>ihyztoftwmbpvydauaudiskvxobjb.ru</td>\n      <td>goz</td>\n    </tr>\n    <tr>\n      <th>1</th>\n      <td>0</td>\n      <td>buscagrupos.com.br</td>\n      <td>alexa</td>\n    </tr>\n    <tr>\n      <th>2</th>\n      <td>1</td>\n      <td>iraxi872o4m2143d5ngxuru.ddns.net</td>\n      <td>corebot</td>\n    </tr>\n    <tr>\n      <th>3</th>\n      <td>1</td>\n      <td>ksoxukphifgxepaaxvva.pro</td>\n      <td>necurs</td>\n    </tr>\n    <tr>\n      <th>4</th>\n      <td>1</td>\n      <td>mbafocecodfcbndd.co</td>\n      <td>padcrypt</td>\n    </tr>\n    <tr>\n      <th>...</th>\n      <td>...</td>\n      <td>...</td>\n      <td>...</td>\n    </tr>\n    <tr>\n      <th>834893</th>\n      <td>1</td>\n      <td>i4ms28qseois.top</td>\n      <td>qadars</td>\n    </tr>\n    <tr>\n      <th>834894</th>\n      <td>0</td>\n      <td>villagehatshop.com</td>\n      <td>legit</td>\n    </tr>\n    <tr>\n      <th>834895</th>\n      <td>0</td>\n      <td>cabinetbank.com</td>\n      <td>alexa</td>\n    </tr>\n    <tr>\n      <th>834896</th>\n      <td>0</td>\n      <td>dragonballarchives.com</td>\n      <td>alexa</td>\n    </tr>\n    <tr>\n      <th>834897</th>\n      <td>1</td>\n      <td>wdmhkvyxcf10i6yngh5.ddns.net</td>\n      <td>corebot</td>\n    </tr>\n  </tbody>\n</table>\n<p>834898 rows × 3 columns</p>\n</div>"
     },
     "execution_count": 7,
     "metadata": {},
     "output_type": "execute_result"
    }
   ],
   "source": [
    "df.sample(frac=1).reset_index(drop=True)"
   ],
   "metadata": {
    "collapsed": false,
    "ExecuteTime": {
     "end_time": "2024-03-19T18:54:41.444409Z",
     "start_time": "2024-03-19T18:54:41.282212Z"
    }
   },
   "id": "f41897760c646b77",
   "execution_count": 7
  },
  {
   "cell_type": "code",
   "outputs": [],
   "source": [
    "X, y = df['domain'], df['isDGA']"
   ],
   "metadata": {
    "collapsed": false,
    "ExecuteTime": {
     "end_time": "2024-03-19T18:54:41.448150Z",
     "start_time": "2024-03-19T18:54:41.445856Z"
    }
   },
   "id": "e4725a4b41624be2",
   "execution_count": 8
  },
  {
   "cell_type": "code",
   "outputs": [],
   "source": [
    "validTokens = {x: idx + 1 for idx, x in enumerate(set(''.join(X)))}\n",
    "\n",
    "maxFeatures = len(validTokens) + 1\n",
    "maxLength = np.max([len(x) for x in X])"
   ],
   "metadata": {
    "collapsed": false,
    "ExecuteTime": {
     "end_time": "2024-03-19T18:54:42.054093Z",
     "start_time": "2024-03-19T18:54:41.449529Z"
    }
   },
   "id": "c12c050a08409450",
   "execution_count": 9
  },
  {
   "cell_type": "code",
   "outputs": [],
   "source": [
    "X = [[validTokens[y] for y in x] for x in X]\n",
    "X = pad_sequences(X, maxlen=maxLength)"
   ],
   "metadata": {
    "collapsed": false,
    "ExecuteTime": {
     "end_time": "2024-03-19T18:54:45.210819Z",
     "start_time": "2024-03-19T18:54:42.056185Z"
    }
   },
   "id": "b6210849a71167cf",
   "execution_count": 10
  },
  {
   "cell_type": "code",
   "outputs": [],
   "source": [
    "X_train, X_test, y_train, y_test = train_test_split(X, y, test_size=0.2, random_state=42)"
   ],
   "metadata": {
    "collapsed": false,
    "ExecuteTime": {
     "end_time": "2024-03-19T18:54:45.329157Z",
     "start_time": "2024-03-19T18:54:45.212034Z"
    }
   },
   "id": "9b49307c62805ecb",
   "execution_count": 11
  },
  {
   "cell_type": "code",
   "outputs": [
    {
     "name": "stderr",
     "output_type": "stream",
     "text": [
      "2024-03-19 18:54:45.409382: I external/local_xla/xla/stream_executor/cuda/cuda_executor.cc:887] could not open file to read NUMA node: /sys/bus/pci/devices/0000:01:00.0/numa_node\n",
      "Your kernel may have been built without NUMA support.\n",
      "2024-03-19 18:54:45.424183: I external/local_xla/xla/stream_executor/cuda/cuda_executor.cc:887] could not open file to read NUMA node: /sys/bus/pci/devices/0000:01:00.0/numa_node\n",
      "Your kernel may have been built without NUMA support.\n",
      "2024-03-19 18:54:45.424240: I external/local_xla/xla/stream_executor/cuda/cuda_executor.cc:887] could not open file to read NUMA node: /sys/bus/pci/devices/0000:01:00.0/numa_node\n",
      "Your kernel may have been built without NUMA support.\n",
      "2024-03-19 18:54:45.426127: I external/local_xla/xla/stream_executor/cuda/cuda_executor.cc:887] could not open file to read NUMA node: /sys/bus/pci/devices/0000:01:00.0/numa_node\n",
      "Your kernel may have been built without NUMA support.\n",
      "2024-03-19 18:54:45.426210: I external/local_xla/xla/stream_executor/cuda/cuda_executor.cc:887] could not open file to read NUMA node: /sys/bus/pci/devices/0000:01:00.0/numa_node\n",
      "Your kernel may have been built without NUMA support.\n",
      "2024-03-19 18:54:45.426260: I external/local_xla/xla/stream_executor/cuda/cuda_executor.cc:887] could not open file to read NUMA node: /sys/bus/pci/devices/0000:01:00.0/numa_node\n",
      "Your kernel may have been built without NUMA support.\n",
      "2024-03-19 18:54:45.512786: I external/local_xla/xla/stream_executor/cuda/cuda_executor.cc:887] could not open file to read NUMA node: /sys/bus/pci/devices/0000:01:00.0/numa_node\n",
      "Your kernel may have been built without NUMA support.\n",
      "2024-03-19 18:54:45.512865: I external/local_xla/xla/stream_executor/cuda/cuda_executor.cc:887] could not open file to read NUMA node: /sys/bus/pci/devices/0000:01:00.0/numa_node\n",
      "Your kernel may have been built without NUMA support.\n",
      "2024-03-19 18:54:45.512874: I tensorflow/core/common_runtime/gpu/gpu_device.cc:2022] Could not identify NUMA node of platform GPU id 0, defaulting to 0.  Your kernel may not have been built with NUMA support.\n",
      "2024-03-19 18:54:45.512938: I external/local_xla/xla/stream_executor/cuda/cuda_executor.cc:887] could not open file to read NUMA node: /sys/bus/pci/devices/0000:01:00.0/numa_node\n",
      "Your kernel may have been built without NUMA support.\n",
      "2024-03-19 18:54:45.512957: I tensorflow/core/common_runtime/gpu/gpu_device.cc:1929] Created device /job:localhost/replica:0/task:0/device:GPU:0 with 5572 MB memory:  -> device: 0, name: NVIDIA GeForce RTX 3070 Ti, pci bus id: 0000:01:00.0, compute capability: 8.6\n"
     ]
    }
   ],
   "source": [
    "# LSTM модель\n",
    "\n",
    "model = Sequential()\n",
    "model.add(Embedding(maxFeatures, 128, input_length=maxLength))\n",
    "model.add(LSTM(128))\n",
    "model.add(Dropout(0.5))\n",
    "model.add(Dense(1))\n",
    "model.add(Activation('sigmoid'))\n",
    "model.compile(loss='binary_crossentropy', optimizer='rmsprop', metrics=['accuracy'])"
   ],
   "metadata": {
    "collapsed": false,
    "ExecuteTime": {
     "end_time": "2024-03-19T18:54:46.009293Z",
     "start_time": "2024-03-19T18:54:45.330469Z"
    }
   },
   "id": "9da2c8757661b0a0",
   "execution_count": 12
  },
  {
   "cell_type": "code",
   "outputs": [
    {
     "name": "stderr",
     "output_type": "stream",
     "text": [
      "2024-03-19 18:54:47.014813: I external/local_xla/xla/stream_executor/cuda/cuda_dnn.cc:454] Loaded cuDNN version 8902\n",
      "2024-03-19 18:54:47.720844: I external/local_xla/xla/service/service.cc:168] XLA service 0x7fd0800eae90 initialized for platform CUDA (this does not guarantee that XLA will be used). Devices:\n",
      "2024-03-19 18:54:47.720917: I external/local_xla/xla/service/service.cc:176]   StreamExecutor device (0): NVIDIA GeForce RTX 3070 Ti, Compute Capability 8.6\n",
      "2024-03-19 18:54:47.731412: I tensorflow/compiler/mlir/tensorflow/utils/dump_mlir_util.cc:269] disabling MLIR crash reproducer, set env var `MLIR_CRASH_REPRODUCER_DIRECTORY` to enable.\n",
      "WARNING: All log messages before absl::InitializeLog() is called are written to STDERR\n",
      "I0000 00:00:1710874487.781257   11791 device_compiler.h:186] Compiled cluster using XLA!  This line is logged at most once for the lifetime of the process.\n"
     ]
    },
    {
     "name": "stdout",
     "output_type": "stream",
     "text": [
      "41745/41745 [==============================] - 302s 7ms/step - loss: 0.2466 - accuracy: 0.9028\n",
      "41745/41745 [==============================] - 319s 8ms/step - loss: 0.1782 - accuracy: 0.9351\n",
      "41745/41745 [==============================] - 301s 7ms/step - loss: 0.1795 - accuracy: 0.9375\n",
      "41745/41745 [==============================] - 315s 8ms/step - loss: 0.1844 - accuracy: 0.9370\n",
      "41745/41745 [==============================] - 315s 8ms/step - loss: 0.1882 - accuracy: 0.9370\n"
     ]
    }
   ],
   "source": [
    "model.fit(X_train, y_train, batch_size=15, epochs=5)"
   ],
   "metadata": {
    "collapsed": false,
    "ExecuteTime": {
     "end_time": "2024-03-19T19:20:39.849862Z",
     "start_time": "2024-03-19T18:54:46.010486Z"
    }
   },
   "id": "a1df23b4df9809cb",
   "execution_count": 13
  },
  {
   "cell_type": "code",
   "outputs": [],
   "source": [
    "# https://www.tensorflow.org/guide/keras/serialization_and_saving\n",
    "model.save(path + 'dga_lstm.keras')"
   ],
   "metadata": {
    "collapsed": false,
    "ExecuteTime": {
     "end_time": "2024-03-19T19:20:39.902005Z",
     "start_time": "2024-03-19T19:20:39.852095Z"
    }
   },
   "id": "ed4c4164569377fa",
   "execution_count": 14
  },
  {
   "cell_type": "code",
   "outputs": [],
   "source": [
    "# model = keras.models.load_model(path)"
   ],
   "metadata": {
    "collapsed": false,
    "ExecuteTime": {
     "end_time": "2024-03-19T19:20:39.906305Z",
     "start_time": "2024-03-19T19:20:39.903563Z"
    }
   },
   "id": "581cdd83b2ac1bac",
   "execution_count": 15
  },
  {
   "cell_type": "code",
   "outputs": [
    {
     "name": "stdout",
     "output_type": "stream",
     "text": [
      "5219/5219 [==============================] - 15s 3ms/step\n"
     ]
    }
   ],
   "source": [
    "predictions = model.predict(X_test).round()"
   ],
   "metadata": {
    "collapsed": false,
    "ExecuteTime": {
     "end_time": "2024-03-19T19:24:49.225093Z",
     "start_time": "2024-03-19T19:24:33.632653Z"
    }
   },
   "id": "fe8cdbceb4f9c72",
   "execution_count": 29
  },
  {
   "cell_type": "code",
   "outputs": [],
   "source": [
    "acc = accuracy_score(y_test, predictions)\n",
    "classification_report = classification_report(y_test, predictions)"
   ],
   "metadata": {
    "collapsed": false,
    "ExecuteTime": {
     "end_time": "2024-03-19T19:25:31.361086Z",
     "start_time": "2024-03-19T19:25:31.262443Z"
    }
   },
   "id": "9d046148e0ce66a4",
   "execution_count": 33
  },
  {
   "cell_type": "code",
   "outputs": [
    {
     "name": "stdout",
     "output_type": "stream",
     "text": [
      "              precision    recall  f1-score   support\n",
      "\n",
      "           0       0.94      0.95      0.95     99488\n",
      "           1       0.93      0.92      0.92     67492\n",
      "\n",
      "    accuracy                           0.94    166980\n",
      "   macro avg       0.94      0.93      0.94    166980\n",
      "weighted avg       0.94      0.94      0.94    166980\n"
     ]
    }
   ],
   "source": [
    "print(classification_report)"
   ],
   "metadata": {
    "collapsed": false,
    "ExecuteTime": {
     "end_time": "2024-03-19T19:25:47.090749Z",
     "start_time": "2024-03-19T19:25:47.087782Z"
    }
   },
   "id": "427808a61093cb20",
   "execution_count": 35
  },
  {
   "cell_type": "code",
   "outputs": [],
   "source": [
    "def tokenize_domain(domain):\n",
    "    d_ = [[validTokens[char] for char in domain]]\n",
    "    d_ = pad_sequences(d_, maxlen=maxLength)\n",
    "\n",
    "    return d_"
   ],
   "metadata": {
    "collapsed": false,
    "ExecuteTime": {
     "end_time": "2024-03-19T19:29:56.459433Z",
     "start_time": "2024-03-19T19:29:56.456290Z"
    }
   },
   "id": "a15333618dc32a2d",
   "execution_count": 41
  },
  {
   "cell_type": "code",
   "outputs": [
    {
     "name": "stdout",
     "output_type": "stream",
     "text": [
      "1/1 [==============================] - 0s 19ms/step\n"
     ]
    },
    {
     "data": {
      "text/plain": "array([[0.0001923]], dtype=float32)"
     },
     "execution_count": 65,
     "metadata": {},
     "output_type": "execute_result"
    }
   ],
   "source": [
    "model.predict(tokenize_domain('example.com'))"
   ],
   "metadata": {
    "collapsed": false,
    "ExecuteTime": {
     "end_time": "2024-03-19T19:37:38.105393Z",
     "start_time": "2024-03-19T19:37:37.978204Z"
    }
   },
   "id": "f9a4ecb3a3ba1257",
   "execution_count": 65
  },
  {
   "cell_type": "code",
   "outputs": [
    {
     "name": "stdout",
     "output_type": "stream",
     "text": [
      "1/1 [==============================] - 0s 16ms/step\n"
     ]
    },
    {
     "data": {
      "text/plain": "array([[1.]], dtype=float32)"
     },
     "execution_count": 57,
     "metadata": {},
     "output_type": "execute_result"
    }
   ],
   "source": [
    "model.predict(tokenize_domain('cvyh1po636avyrsxebwbkn7.ddns.net'))"
   ],
   "metadata": {
    "collapsed": false,
    "ExecuteTime": {
     "end_time": "2024-03-19T19:36:49.136625Z",
     "start_time": "2024-03-19T19:36:49.090055Z"
    }
   },
   "id": "d42a8e3c42420961",
   "execution_count": 57
  },
  {
   "cell_type": "code",
   "outputs": [
    {
     "data": {
      "text/plain": "{'5': 1,\n 'g': 2,\n '1': 3,\n '6': 4,\n 't': 5,\n '9': 6,\n 'd': 7,\n 'c': 8,\n 'q': 9,\n 'x': 10,\n 'a': 11,\n 'j': 12,\n '.': 13,\n 'w': 14,\n 'f': 15,\n 'r': 16,\n '-': 17,\n '2': 18,\n '0': 19,\n 'z': 20,\n 'b': 21,\n '3': 22,\n '_': 23,\n 'v': 24,\n 'n': 25,\n 'm': 26,\n 'l': 27,\n 'i': 28,\n '8': 29,\n 'h': 30,\n 's': 31,\n '7': 32,\n '\\n': 33,\n 'y': 34,\n '4': 35,\n 'e': 36,\n 'u': 37,\n 'p': 38,\n 'k': 39,\n 'o': 40}"
     },
     "execution_count": 51,
     "metadata": {},
     "output_type": "execute_result"
    }
   ],
   "source": [
    "validTokens"
   ],
   "metadata": {
    "collapsed": false,
    "ExecuteTime": {
     "end_time": "2024-03-19T19:35:50.022578Z",
     "start_time": "2024-03-19T19:35:50.018573Z"
    }
   },
   "id": "38da0178b3c2143c",
   "execution_count": 51
  },
  {
   "cell_type": "code",
   "outputs": [],
   "source": [],
   "metadata": {
    "collapsed": false
   },
   "id": "d573482cec3007b4"
  }
 ],
 "metadata": {
  "kernelspec": {
   "display_name": "Python 3",
   "language": "python",
   "name": "python3"
  },
  "language_info": {
   "codemirror_mode": {
    "name": "ipython",
    "version": 2
   },
   "file_extension": ".py",
   "mimetype": "text/x-python",
   "name": "python",
   "nbconvert_exporter": "python",
   "pygments_lexer": "ipython2",
   "version": "2.7.6"
  }
 },
 "nbformat": 4,
 "nbformat_minor": 5
}
