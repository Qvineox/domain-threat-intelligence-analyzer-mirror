{
 "cells": [
  {
   "cell_type": "markdown",
   "source": [
    "# Регрессионный анализатор для оценки доменов \n",
    "\n",
    "## Наборы данных\n",
    "\n",
    "- https://data.mendeley.com/datasets/c4n7fckkz3/3"
   ],
   "metadata": {
    "collapsed": false
   },
   "id": "6b3f993d93591ec7"
  },
  {
   "cell_type": "code",
   "outputs": [],
   "source": [],
   "metadata": {
    "collapsed": true
   },
   "id": "initial_id",
   "execution_count": 0
  }
 ],
 "metadata": {
  "kernelspec": {
   "display_name": "Python 3",
   "language": "python",
   "name": "python3"
  },
  "language_info": {
   "codemirror_mode": {
    "name": "ipython",
    "version": 2
   },
   "file_extension": ".py",
   "mimetype": "text/x-python",
   "name": "python",
   "nbconvert_exporter": "python",
   "pygments_lexer": "ipython2",
   "version": "2.7.6"
  }
 },
 "nbformat": 4,
 "nbformat_minor": 5
}
