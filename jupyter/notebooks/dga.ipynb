{
 "cells": [
  {
   "cell_type": "markdown",
   "id": "178010a7a2b29b95",
   "metadata": {},
   "source": [
    "# Классификатор DGA доменов\n",
    "\n",
    "## Ссылки:\n",
    "\n",
    "- https://habr.com/ru/companies/pt/articles/282349/\n",
    "- https://www.securitylab.ru/blog/personal/Morning/347957.php\n",
    "- https://underdefense.com/guides/detecting-dga-domains-machine-learning-approach/\n",
    "- https://habr.com/ru/companies/wunderfund/articles/331310/\n",
    "- https://github.com/ryancollingwood/DGAClassifier\n",
    "\n",
    "## Наборы данных\n",
    "\n",
    "- https://www.kaggle.com/datasets/gtkcyber/dga-dataset\n",
    "- https://github.com/chrmor/DGA_domains_dataset\n"
   ]
  },
  {
   "cell_type": "code",
   "execution_count": 1,
   "id": "initial_id",
   "metadata": {
    "ExecuteTime": {
     "end_time": "2024-03-27T08:21:53.203798Z",
     "start_time": "2024-03-27T08:21:53.049290Z"
    },
    "collapsed": true,
    "jupyter": {
     "outputs_hidden": true
    }
   },
   "outputs": [
    {
     "name": "stdout",
     "output_type": "stream",
     "text": [
      "Wed Mar 27 08:21:53 2024       \n",
      "+-----------------------------------------------------------------------------------------+\n",
      "| NVIDIA-SMI 550.65                 Driver Version: 551.86         CUDA Version: 12.4     |\n",
      "|-----------------------------------------+------------------------+----------------------+\n",
      "| GPU  Name                 Persistence-M | Bus-Id          Disp.A | Volatile Uncorr. ECC |\n",
      "| Fan  Temp   Perf          Pwr:Usage/Cap |           Memory-Usage | GPU-Util  Compute M. |\n",
      "|                                         |                        |               MIG M. |\n",
      "|=========================================+========================+======================|\n",
      "|   0  NVIDIA GeForce RTX 3070 Ti     On  |   00000000:01:00.0  On |                  N/A |\n",
      "| 53%   32C    P8             20W /  310W |    2486MiB /   8192MiB |      7%      Default |\n",
      "|                                         |                        |                  N/A |\n",
      "+-----------------------------------------+------------------------+----------------------+\n",
      "                                                                                         \n",
      "+-----------------------------------------------------------------------------------------+\n",
      "| Processes:                                                                              |\n",
      "|  GPU   GI   CI        PID   Type   Process name                              GPU Memory |\n",
      "|        ID   ID                                                               Usage      |\n",
      "|=========================================================================================|\n",
      "|  No running processes found                                                             |\n",
      "+-----------------------------------------------------------------------------------------+\n"
     ]
    }
   ],
   "source": [
    "!nvidia-smi"
   ]
  },
  {
   "cell_type": "code",
   "execution_count": 2,
   "id": "94f9a86050fb0a6f",
   "metadata": {
    "ExecuteTime": {
     "end_time": "2024-03-27T08:22:04.430461Z",
     "start_time": "2024-03-27T08:22:01.418467Z"
    },
    "collapsed": false
   },
   "outputs": [
    {
     "name": "stderr",
     "output_type": "stream",
     "text": [
      "2024-03-27 08:22:01.896010: I tensorflow/core/util/port.cc:113] oneDNN custom operations are on. You may see slightly different numerical results due to floating-point round-off errors from different computation orders. To turn them off, set the environment variable `TF_ENABLE_ONEDNN_OPTS=0`.\n",
      "2024-03-27 08:22:02.097983: E external/local_xla/xla/stream_executor/cuda/cuda_dnn.cc:9261] Unable to register cuDNN factory: Attempting to register factory for plugin cuDNN when one has already been registered\n",
      "2024-03-27 08:22:02.098037: E external/local_xla/xla/stream_executor/cuda/cuda_fft.cc:607] Unable to register cuFFT factory: Attempting to register factory for plugin cuFFT when one has already been registered\n",
      "2024-03-27 08:22:02.133287: E external/local_xla/xla/stream_executor/cuda/cuda_blas.cc:1515] Unable to register cuBLAS factory: Attempting to register factory for plugin cuBLAS when one has already been registered\n",
      "2024-03-27 08:22:02.208471: I tensorflow/core/platform/cpu_feature_guard.cc:182] This TensorFlow binary is optimized to use available CPU instructions in performance-critical operations.\n",
      "To enable the following instructions: AVX2 AVX512F AVX512_VNNI AVX512_BF16 FMA, in other operations, rebuild TensorFlow with the appropriate compiler flags.\n",
      "2024-03-27 08:22:03.343410: W tensorflow/compiler/tf2tensorrt/utils/py_utils.cc:38] TF-TRT Warning: Could not find TensorRT\n"
     ]
    }
   ],
   "source": [
    "import pandas as pd\n",
    "import numpy as np\n",
    "import matplotlib.pyplot as plt\n",
    "import seaborn as sns\n",
    "import keras\n",
    "\n",
    "from keras.preprocessing.sequence import pad_sequences\n",
    "from keras.models import Sequential\n",
    "from keras.layers import Dense, Dropout, Activation, Embedding\n",
    "from keras.layers import LSTM\n",
    "\n",
    "from sklearn.model_selection import train_test_split\n",
    "from sklearn.metrics import confusion_matrix, accuracy_score, classification_report\n",
    "\n",
    "dir_path = 'work/models/dga/'"
   ]
  },
  {
   "cell_type": "code",
   "execution_count": 3,
   "id": "eaa05ab4f39b430d",
   "metadata": {
    "ExecuteTime": {
     "end_time": "2024-03-27T08:22:14.562284Z",
     "start_time": "2024-03-27T08:22:05.142418Z"
    },
    "collapsed": false
   },
   "outputs": [
    {
     "name": "stdout",
     "output_type": "stream",
     "text": [
      "Looking in indexes: https://pypi.org/simple, https://pypi.ngc.nvidia.com\n",
      "Requirement already satisfied: pycaret in /opt/conda/lib/python3.11/site-packages (3.3.0)\n",
      "Requirement already satisfied: ipython>=5.5.0 in /opt/conda/lib/python3.11/site-packages (from pycaret) (8.20.0)\n",
      "Requirement already satisfied: ipywidgets>=7.6.5 in /opt/conda/lib/python3.11/site-packages (from pycaret) (8.0.4)\n",
      "Requirement already satisfied: tqdm>=4.62.0 in /opt/conda/lib/python3.11/site-packages (from pycaret) (4.66.1)\n",
      "Requirement already satisfied: numpy<1.27,>=1.21 in /opt/conda/lib/python3.11/site-packages (from pycaret) (1.26.3)\n",
      "Requirement already satisfied: pandas<2.2.0 in /opt/conda/lib/python3.11/site-packages (from pycaret) (2.1.4)\n",
      "Requirement already satisfied: jinja2>=3 in /opt/conda/lib/python3.11/site-packages (from pycaret) (3.1.3)\n",
      "Requirement already satisfied: scipy<=1.11.4,>=1.6.1 in /opt/conda/lib/python3.11/site-packages (from pycaret) (1.11.4)\n",
      "Requirement already satisfied: joblib>=1.2.0 in /opt/conda/lib/python3.11/site-packages (from pycaret) (1.3.2)\n",
      "Requirement already satisfied: scikit-learn>1.4.0 in /opt/conda/lib/python3.11/site-packages (from pycaret) (1.4.1.post1)\n",
      "Requirement already satisfied: pyod>=1.1.3 in /opt/conda/lib/python3.11/site-packages (from pycaret) (1.1.3)\n",
      "Requirement already satisfied: imbalanced-learn>=0.12.0 in /opt/conda/lib/python3.11/site-packages (from pycaret) (0.12.0)\n",
      "Requirement already satisfied: category-encoders>=2.4.0 in /opt/conda/lib/python3.11/site-packages (from pycaret) (2.6.3)\n",
      "Requirement already satisfied: lightgbm>=3.0.0 in /opt/conda/lib/python3.11/site-packages (from pycaret) (4.3.0)\n",
      "Requirement already satisfied: numba>=0.55.0 in /opt/conda/lib/python3.11/site-packages (from pycaret) (0.58.1)\n",
      "Requirement already satisfied: requests>=2.27.1 in /opt/conda/lib/python3.11/site-packages (from pycaret) (2.31.0)\n",
      "Requirement already satisfied: psutil>=5.9.0 in /opt/conda/lib/python3.11/site-packages (from pycaret) (5.9.8)\n",
      "Requirement already satisfied: markupsafe>=2.0.1 in /opt/conda/lib/python3.11/site-packages (from pycaret) (2.1.4)\n",
      "Requirement already satisfied: importlib-metadata>=4.12.0 in /opt/conda/lib/python3.11/site-packages (from pycaret) (7.0.1)\n",
      "Requirement already satisfied: nbformat>=4.2.0 in /opt/conda/lib/python3.11/site-packages (from pycaret) (5.9.2)\n",
      "Requirement already satisfied: cloudpickle in /opt/conda/lib/python3.11/site-packages (from pycaret) (3.0.0)\n",
      "Requirement already satisfied: deprecation>=2.1.0 in /opt/conda/lib/python3.11/site-packages (from pycaret) (2.1.0)\n",
      "Requirement already satisfied: xxhash in /opt/conda/lib/python3.11/site-packages (from pycaret) (3.4.1)\n",
      "Requirement already satisfied: matplotlib<3.8.0 in /opt/conda/lib/python3.11/site-packages (from pycaret) (3.7.5)\n",
      "Requirement already satisfied: scikit-plot>=0.3.7 in /opt/conda/lib/python3.11/site-packages (from pycaret) (0.3.7)\n",
      "Requirement already satisfied: yellowbrick>=1.4 in /opt/conda/lib/python3.11/site-packages (from pycaret) (1.5)\n",
      "Requirement already satisfied: plotly>=5.14.0 in /opt/conda/lib/python3.11/site-packages (from pycaret) (5.20.0)\n",
      "Requirement already satisfied: kaleido>=0.2.1 in /opt/conda/lib/python3.11/site-packages (from pycaret) (0.2.1)\n",
      "Requirement already satisfied: schemdraw==0.15 in /opt/conda/lib/python3.11/site-packages (from pycaret) (0.15)\n",
      "Requirement already satisfied: plotly-resampler>=0.8.3.1 in /opt/conda/lib/python3.11/site-packages (from pycaret) (0.9.2)\n",
      "Requirement already satisfied: statsmodels>=0.12.1 in /opt/conda/lib/python3.11/site-packages (from pycaret) (0.14.1)\n",
      "Requirement already satisfied: sktime>=0.26.0 in /opt/conda/lib/python3.11/site-packages (from pycaret) (0.27.1)\n",
      "Requirement already satisfied: tbats>=1.1.3 in /opt/conda/lib/python3.11/site-packages (from pycaret) (1.1.3)\n",
      "Requirement already satisfied: pmdarima>=2.0.4 in /opt/conda/lib/python3.11/site-packages (from pycaret) (2.0.4)\n",
      "Requirement already satisfied: wurlitzer in /opt/conda/lib/python3.11/site-packages (from pycaret) (3.0.3)\n",
      "Requirement already satisfied: patsy>=0.5.1 in /opt/conda/lib/python3.11/site-packages (from category-encoders>=2.4.0->pycaret) (0.5.6)\n",
      "Requirement already satisfied: packaging in /opt/conda/lib/python3.11/site-packages (from deprecation>=2.1.0->pycaret) (23.2)\n",
      "Requirement already satisfied: threadpoolctl>=2.0.0 in /opt/conda/lib/python3.11/site-packages (from imbalanced-learn>=0.12.0->pycaret) (3.2.0)\n",
      "Requirement already satisfied: zipp>=0.5 in /opt/conda/lib/python3.11/site-packages (from importlib-metadata>=4.12.0->pycaret) (3.17.0)\n",
      "Requirement already satisfied: decorator in /opt/conda/lib/python3.11/site-packages (from ipython>=5.5.0->pycaret) (5.1.1)\n",
      "Requirement already satisfied: jedi>=0.16 in /opt/conda/lib/python3.11/site-packages (from ipython>=5.5.0->pycaret) (0.19.1)\n",
      "Requirement already satisfied: matplotlib-inline in /opt/conda/lib/python3.11/site-packages (from ipython>=5.5.0->pycaret) (0.1.6)\n",
      "Requirement already satisfied: prompt-toolkit<3.1.0,>=3.0.41 in /opt/conda/lib/python3.11/site-packages (from ipython>=5.5.0->pycaret) (3.0.42)\n",
      "Requirement already satisfied: pygments>=2.4.0 in /opt/conda/lib/python3.11/site-packages (from ipython>=5.5.0->pycaret) (2.17.2)\n",
      "Requirement already satisfied: stack-data in /opt/conda/lib/python3.11/site-packages (from ipython>=5.5.0->pycaret) (0.6.2)\n",
      "Requirement already satisfied: traitlets>=5 in /opt/conda/lib/python3.11/site-packages (from ipython>=5.5.0->pycaret) (5.14.1)\n",
      "Requirement already satisfied: pexpect>4.3 in /opt/conda/lib/python3.11/site-packages (from ipython>=5.5.0->pycaret) (4.8.0)\n",
      "Requirement already satisfied: ipykernel>=4.5.1 in /opt/conda/lib/python3.11/site-packages (from ipywidgets>=7.6.5->pycaret) (6.29.0)\n",
      "Requirement already satisfied: widgetsnbextension~=4.0 in /opt/conda/lib/python3.11/site-packages (from ipywidgets>=7.6.5->pycaret) (4.0.9)\n",
      "Requirement already satisfied: jupyterlab-widgets~=3.0 in /opt/conda/lib/python3.11/site-packages (from ipywidgets>=7.6.5->pycaret) (3.0.9)\n",
      "Requirement already satisfied: contourpy>=1.0.1 in /opt/conda/lib/python3.11/site-packages (from matplotlib<3.8.0->pycaret) (1.2.0)\n",
      "Requirement already satisfied: cycler>=0.10 in /opt/conda/lib/python3.11/site-packages (from matplotlib<3.8.0->pycaret) (0.12.1)\n",
      "Requirement already satisfied: fonttools>=4.22.0 in /opt/conda/lib/python3.11/site-packages (from matplotlib<3.8.0->pycaret) (4.47.2)\n",
      "Requirement already satisfied: kiwisolver>=1.0.1 in /opt/conda/lib/python3.11/site-packages (from matplotlib<3.8.0->pycaret) (1.4.5)\n",
      "Requirement already satisfied: pillow>=6.2.0 in /opt/conda/lib/python3.11/site-packages (from matplotlib<3.8.0->pycaret) (10.2.0)\n",
      "Requirement already satisfied: pyparsing>=2.3.1 in /opt/conda/lib/python3.11/site-packages (from matplotlib<3.8.0->pycaret) (3.1.1)\n",
      "Requirement already satisfied: python-dateutil>=2.7 in /opt/conda/lib/python3.11/site-packages (from matplotlib<3.8.0->pycaret) (2.8.2)\n",
      "Requirement already satisfied: fastjsonschema in /opt/conda/lib/python3.11/site-packages (from nbformat>=4.2.0->pycaret) (2.19.1)\n",
      "Requirement already satisfied: jsonschema>=2.6 in /opt/conda/lib/python3.11/site-packages (from nbformat>=4.2.0->pycaret) (4.21.1)\n",
      "Requirement already satisfied: jupyter-core in /opt/conda/lib/python3.11/site-packages (from nbformat>=4.2.0->pycaret) (5.7.1)\n",
      "Requirement already satisfied: llvmlite<0.42,>=0.41.0dev0 in /opt/conda/lib/python3.11/site-packages (from numba>=0.55.0->pycaret) (0.41.1)\n",
      "Requirement already satisfied: pytz>=2020.1 in /opt/conda/lib/python3.11/site-packages (from pandas<2.2.0->pycaret) (2023.3.post1)\n",
      "Requirement already satisfied: tzdata>=2022.1 in /opt/conda/lib/python3.11/site-packages (from pandas<2.2.0->pycaret) (2023.4)\n",
      "Requirement already satisfied: tenacity>=6.2.0 in /opt/conda/lib/python3.11/site-packages (from plotly>=5.14.0->pycaret) (8.2.3)\n",
      "Requirement already satisfied: dash>=2.9.0 in /opt/conda/lib/python3.11/site-packages (from plotly-resampler>=0.8.3.1->pycaret) (2.16.1)\n",
      "Requirement already satisfied: orjson<4.0.0,>=3.8.0 in /opt/conda/lib/python3.11/site-packages (from plotly-resampler>=0.8.3.1->pycaret) (3.9.15)\n",
      "Requirement already satisfied: tsdownsample==0.1.2 in /opt/conda/lib/python3.11/site-packages (from plotly-resampler>=0.8.3.1->pycaret) (0.1.2)\n",
      "Requirement already satisfied: Cython!=0.29.18,!=0.29.31,>=0.29 in /opt/conda/lib/python3.11/site-packages (from pmdarima>=2.0.4->pycaret) (3.0.7)\n",
      "Requirement already satisfied: urllib3 in /opt/conda/lib/python3.11/site-packages (from pmdarima>=2.0.4->pycaret) (2.1.0)\n",
      "Requirement already satisfied: setuptools!=50.0.0,>=38.6.0 in /opt/conda/lib/python3.11/site-packages (from pmdarima>=2.0.4->pycaret) (69.0.3)\n",
      "Requirement already satisfied: six in /opt/conda/lib/python3.11/site-packages (from pyod>=1.1.3->pycaret) (1.16.0)\n",
      "Requirement already satisfied: charset-normalizer<4,>=2 in /opt/conda/lib/python3.11/site-packages (from requests>=2.27.1->pycaret) (3.3.2)\n",
      "Requirement already satisfied: idna<4,>=2.5 in /opt/conda/lib/python3.11/site-packages (from requests>=2.27.1->pycaret) (3.6)\n",
      "Requirement already satisfied: certifi>=2017.4.17 in /opt/conda/lib/python3.11/site-packages (from requests>=2.27.1->pycaret) (2023.11.17)\n",
      "Requirement already satisfied: scikit-base<0.8.0 in /opt/conda/lib/python3.11/site-packages (from sktime>=0.26.0->pycaret) (0.7.5)\n",
      "Requirement already satisfied: Flask<3.1,>=1.0.4 in /opt/conda/lib/python3.11/site-packages (from dash>=2.9.0->plotly-resampler>=0.8.3.1->pycaret) (3.0.2)\n",
      "Requirement already satisfied: Werkzeug<3.1 in /opt/conda/lib/python3.11/site-packages (from dash>=2.9.0->plotly-resampler>=0.8.3.1->pycaret) (3.0.1)\n",
      "Requirement already satisfied: dash-html-components==2.0.0 in /opt/conda/lib/python3.11/site-packages (from dash>=2.9.0->plotly-resampler>=0.8.3.1->pycaret) (2.0.0)\n",
      "Requirement already satisfied: dash-core-components==2.0.0 in /opt/conda/lib/python3.11/site-packages (from dash>=2.9.0->plotly-resampler>=0.8.3.1->pycaret) (2.0.0)\n",
      "Requirement already satisfied: dash-table==5.0.0 in /opt/conda/lib/python3.11/site-packages (from dash>=2.9.0->plotly-resampler>=0.8.3.1->pycaret) (5.0.0)\n",
      "Requirement already satisfied: typing-extensions>=4.1.1 in /opt/conda/lib/python3.11/site-packages (from dash>=2.9.0->plotly-resampler>=0.8.3.1->pycaret) (4.9.0)\n",
      "Requirement already satisfied: retrying in /opt/conda/lib/python3.11/site-packages (from dash>=2.9.0->plotly-resampler>=0.8.3.1->pycaret) (1.3.4)\n",
      "Requirement already satisfied: nest-asyncio in /opt/conda/lib/python3.11/site-packages (from dash>=2.9.0->plotly-resampler>=0.8.3.1->pycaret) (1.6.0)\n",
      "Requirement already satisfied: comm>=0.1.1 in /opt/conda/lib/python3.11/site-packages (from ipykernel>=4.5.1->ipywidgets>=7.6.5->pycaret) (0.2.1)\n",
      "Requirement already satisfied: debugpy>=1.6.5 in /opt/conda/lib/python3.11/site-packages (from ipykernel>=4.5.1->ipywidgets>=7.6.5->pycaret) (1.8.0)\n",
      "Requirement already satisfied: jupyter-client>=6.1.12 in /opt/conda/lib/python3.11/site-packages (from ipykernel>=4.5.1->ipywidgets>=7.6.5->pycaret) (7.4.9)\n",
      "Requirement already satisfied: pyzmq>=24 in /opt/conda/lib/python3.11/site-packages (from ipykernel>=4.5.1->ipywidgets>=7.6.5->pycaret) (24.0.1)\n",
      "Requirement already satisfied: tornado>=6.1 in /opt/conda/lib/python3.11/site-packages (from ipykernel>=4.5.1->ipywidgets>=7.6.5->pycaret) (6.3.3)\n",
      "Requirement already satisfied: parso<0.9.0,>=0.8.3 in /opt/conda/lib/python3.11/site-packages (from jedi>=0.16->ipython>=5.5.0->pycaret) (0.8.3)\n",
      "Requirement already satisfied: attrs>=22.2.0 in /opt/conda/lib/python3.11/site-packages (from jsonschema>=2.6->nbformat>=4.2.0->pycaret) (23.2.0)\n",
      "Requirement already satisfied: jsonschema-specifications>=2023.03.6 in /opt/conda/lib/python3.11/site-packages (from jsonschema>=2.6->nbformat>=4.2.0->pycaret) (2023.12.1)\n",
      "Requirement already satisfied: referencing>=0.28.4 in /opt/conda/lib/python3.11/site-packages (from jsonschema>=2.6->nbformat>=4.2.0->pycaret) (0.32.1)\n",
      "Requirement already satisfied: rpds-py>=0.7.1 in /opt/conda/lib/python3.11/site-packages (from jsonschema>=2.6->nbformat>=4.2.0->pycaret) (0.17.1)\n",
      "Requirement already satisfied: platformdirs>=2.5 in /opt/conda/lib/python3.11/site-packages (from jupyter-core->nbformat>=4.2.0->pycaret) (4.1.0)\n",
      "Requirement already satisfied: ptyprocess>=0.5 in /opt/conda/lib/python3.11/site-packages (from pexpect>4.3->ipython>=5.5.0->pycaret) (0.7.0)\n",
      "Requirement already satisfied: wcwidth in /opt/conda/lib/python3.11/site-packages (from prompt-toolkit<3.1.0,>=3.0.41->ipython>=5.5.0->pycaret) (0.2.13)\n",
      "Requirement already satisfied: executing>=1.2.0 in /opt/conda/lib/python3.11/site-packages (from stack-data->ipython>=5.5.0->pycaret) (2.0.1)\n",
      "Requirement already satisfied: asttokens>=2.1.0 in /opt/conda/lib/python3.11/site-packages (from stack-data->ipython>=5.5.0->pycaret) (2.4.1)\n",
      "Requirement already satisfied: pure-eval in /opt/conda/lib/python3.11/site-packages (from stack-data->ipython>=5.5.0->pycaret) (0.2.2)\n",
      "Requirement already satisfied: itsdangerous>=2.1.2 in /opt/conda/lib/python3.11/site-packages (from Flask<3.1,>=1.0.4->dash>=2.9.0->plotly-resampler>=0.8.3.1->pycaret) (2.1.2)\n",
      "Requirement already satisfied: click>=8.1.3 in /opt/conda/lib/python3.11/site-packages (from Flask<3.1,>=1.0.4->dash>=2.9.0->plotly-resampler>=0.8.3.1->pycaret) (8.1.7)\n",
      "Requirement already satisfied: blinker>=1.6.2 in /opt/conda/lib/python3.11/site-packages (from Flask<3.1,>=1.0.4->dash>=2.9.0->plotly-resampler>=0.8.3.1->pycaret) (1.7.0)\n",
      "Requirement already satisfied: entrypoints in /opt/conda/lib/python3.11/site-packages (from jupyter-client>=6.1.12->ipykernel>=4.5.1->ipywidgets>=7.6.5->pycaret) (0.4)\n",
      "Looking in indexes: https://pypi.org/simple, https://pypi.ngc.nvidia.com\n",
      "Requirement already satisfied: mlflow in /opt/conda/lib/python3.11/site-packages (2.11.3)\n",
      "Requirement already satisfied: click<9,>=7.0 in /opt/conda/lib/python3.11/site-packages (from mlflow) (8.1.7)\n",
      "Requirement already satisfied: cloudpickle<4 in /opt/conda/lib/python3.11/site-packages (from mlflow) (3.0.0)\n",
      "Requirement already satisfied: entrypoints<1 in /opt/conda/lib/python3.11/site-packages (from mlflow) (0.4)\n",
      "Requirement already satisfied: gitpython<4,>=3.1.9 in /opt/conda/lib/python3.11/site-packages (from mlflow) (3.1.41)\n",
      "Requirement already satisfied: pyyaml<7,>=5.1 in /opt/conda/lib/python3.11/site-packages (from mlflow) (6.0.1)\n",
      "Requirement already satisfied: protobuf<5,>=3.12.0 in /opt/conda/lib/python3.11/site-packages (from mlflow) (4.23.4)\n",
      "Requirement already satisfied: pytz<2025 in /opt/conda/lib/python3.11/site-packages (from mlflow) (2023.3.post1)\n",
      "Requirement already satisfied: requests<3,>=2.17.3 in /opt/conda/lib/python3.11/site-packages (from mlflow) (2.31.0)\n",
      "Requirement already satisfied: packaging<24 in /opt/conda/lib/python3.11/site-packages (from mlflow) (23.2)\n",
      "Requirement already satisfied: importlib-metadata!=4.7.0,<8,>=3.7.0 in /opt/conda/lib/python3.11/site-packages (from mlflow) (7.0.1)\n",
      "Requirement already satisfied: sqlparse<1,>=0.4.0 in /opt/conda/lib/python3.11/site-packages (from mlflow) (0.4.4)\n",
      "Requirement already satisfied: alembic!=1.10.0,<2 in /opt/conda/lib/python3.11/site-packages (from mlflow) (1.13.1)\n",
      "Requirement already satisfied: docker<8,>=4.0.0 in /opt/conda/lib/python3.11/site-packages (from mlflow) (7.0.0)\n",
      "Requirement already satisfied: Flask<4 in /opt/conda/lib/python3.11/site-packages (from mlflow) (3.0.2)\n",
      "Requirement already satisfied: numpy<2 in /opt/conda/lib/python3.11/site-packages (from mlflow) (1.26.3)\n",
      "Requirement already satisfied: scipy<2 in /opt/conda/lib/python3.11/site-packages (from mlflow) (1.11.4)\n",
      "Requirement already satisfied: pandas<3 in /opt/conda/lib/python3.11/site-packages (from mlflow) (2.1.4)\n",
      "Requirement already satisfied: querystring-parser<2 in /opt/conda/lib/python3.11/site-packages (from mlflow) (1.2.4)\n",
      "Requirement already satisfied: sqlalchemy<3,>=1.4.0 in /opt/conda/lib/python3.11/site-packages (from mlflow) (2.0.25)\n",
      "Requirement already satisfied: scikit-learn<2 in /opt/conda/lib/python3.11/site-packages (from mlflow) (1.4.1.post1)\n",
      "Requirement already satisfied: pyarrow<16,>=4.0.0 in /opt/conda/lib/python3.11/site-packages (from mlflow) (14.0.2)\n",
      "Requirement already satisfied: markdown<4,>=3.3 in /opt/conda/lib/python3.11/site-packages (from mlflow) (3.5.2)\n",
      "Requirement already satisfied: matplotlib<4 in /opt/conda/lib/python3.11/site-packages (from mlflow) (3.7.5)\n",
      "Requirement already satisfied: graphene<4 in /opt/conda/lib/python3.11/site-packages (from mlflow) (3.3)\n",
      "Requirement already satisfied: gunicorn<22 in /opt/conda/lib/python3.11/site-packages (from mlflow) (21.2.0)\n",
      "Requirement already satisfied: Jinja2<4,>=2.11 in /opt/conda/lib/python3.11/site-packages (from mlflow) (3.1.3)\n",
      "Requirement already satisfied: Mako in /opt/conda/lib/python3.11/site-packages (from alembic!=1.10.0,<2->mlflow) (1.3.1)\n",
      "Requirement already satisfied: typing-extensions>=4 in /opt/conda/lib/python3.11/site-packages (from alembic!=1.10.0,<2->mlflow) (4.9.0)\n",
      "Requirement already satisfied: urllib3>=1.26.0 in /opt/conda/lib/python3.11/site-packages (from docker<8,>=4.0.0->mlflow) (2.1.0)\n",
      "Requirement already satisfied: Werkzeug>=3.0.0 in /opt/conda/lib/python3.11/site-packages (from Flask<4->mlflow) (3.0.1)\n",
      "Requirement already satisfied: itsdangerous>=2.1.2 in /opt/conda/lib/python3.11/site-packages (from Flask<4->mlflow) (2.1.2)\n",
      "Requirement already satisfied: blinker>=1.6.2 in /opt/conda/lib/python3.11/site-packages (from Flask<4->mlflow) (1.7.0)\n",
      "Requirement already satisfied: gitdb<5,>=4.0.1 in /opt/conda/lib/python3.11/site-packages (from gitpython<4,>=3.1.9->mlflow) (4.0.11)\n",
      "Requirement already satisfied: graphql-core<3.3,>=3.1 in /opt/conda/lib/python3.11/site-packages (from graphene<4->mlflow) (3.2.3)\n",
      "Requirement already satisfied: graphql-relay<3.3,>=3.1 in /opt/conda/lib/python3.11/site-packages (from graphene<4->mlflow) (3.2.0)\n",
      "Requirement already satisfied: aniso8601<10,>=8 in /opt/conda/lib/python3.11/site-packages (from graphene<4->mlflow) (9.0.1)\n",
      "Requirement already satisfied: zipp>=0.5 in /opt/conda/lib/python3.11/site-packages (from importlib-metadata!=4.7.0,<8,>=3.7.0->mlflow) (3.17.0)\n",
      "Requirement already satisfied: MarkupSafe>=2.0 in /opt/conda/lib/python3.11/site-packages (from Jinja2<4,>=2.11->mlflow) (2.1.4)\n",
      "Requirement already satisfied: contourpy>=1.0.1 in /opt/conda/lib/python3.11/site-packages (from matplotlib<4->mlflow) (1.2.0)\n",
      "Requirement already satisfied: cycler>=0.10 in /opt/conda/lib/python3.11/site-packages (from matplotlib<4->mlflow) (0.12.1)\n",
      "Requirement already satisfied: fonttools>=4.22.0 in /opt/conda/lib/python3.11/site-packages (from matplotlib<4->mlflow) (4.47.2)\n",
      "Requirement already satisfied: kiwisolver>=1.0.1 in /opt/conda/lib/python3.11/site-packages (from matplotlib<4->mlflow) (1.4.5)\n",
      "Requirement already satisfied: pillow>=6.2.0 in /opt/conda/lib/python3.11/site-packages (from matplotlib<4->mlflow) (10.2.0)\n",
      "Requirement already satisfied: pyparsing>=2.3.1 in /opt/conda/lib/python3.11/site-packages (from matplotlib<4->mlflow) (3.1.1)\n",
      "Requirement already satisfied: python-dateutil>=2.7 in /opt/conda/lib/python3.11/site-packages (from matplotlib<4->mlflow) (2.8.2)\n",
      "Requirement already satisfied: tzdata>=2022.1 in /opt/conda/lib/python3.11/site-packages (from pandas<3->mlflow) (2023.4)\n",
      "Requirement already satisfied: six in /opt/conda/lib/python3.11/site-packages (from querystring-parser<2->mlflow) (1.16.0)\n",
      "Requirement already satisfied: charset-normalizer<4,>=2 in /opt/conda/lib/python3.11/site-packages (from requests<3,>=2.17.3->mlflow) (3.3.2)\n",
      "Requirement already satisfied: idna<4,>=2.5 in /opt/conda/lib/python3.11/site-packages (from requests<3,>=2.17.3->mlflow) (3.6)\n",
      "Requirement already satisfied: certifi>=2017.4.17 in /opt/conda/lib/python3.11/site-packages (from requests<3,>=2.17.3->mlflow) (2023.11.17)\n",
      "Requirement already satisfied: joblib>=1.2.0 in /opt/conda/lib/python3.11/site-packages (from scikit-learn<2->mlflow) (1.3.2)\n",
      "Requirement already satisfied: threadpoolctl>=2.0.0 in /opt/conda/lib/python3.11/site-packages (from scikit-learn<2->mlflow) (3.2.0)\n",
      "Requirement already satisfied: greenlet!=0.4.17 in /opt/conda/lib/python3.11/site-packages (from sqlalchemy<3,>=1.4.0->mlflow) (3.0.3)\n",
      "Requirement already satisfied: smmap<6,>=3.0.1 in /opt/conda/lib/python3.11/site-packages (from gitdb<5,>=4.0.1->gitpython<4,>=3.1.9->mlflow) (5.0.0)\n",
      "Looking in indexes: https://pypi.org/simple, https://pypi.ngc.nvidia.com\n",
      "Requirement already satisfied: scipy==1.11.4 in /opt/conda/lib/python3.11/site-packages (1.11.4)\n",
      "Requirement already satisfied: numpy<1.28.0,>=1.21.6 in /opt/conda/lib/python3.11/site-packages (from scipy==1.11.4) (1.26.3)\n",
      "Note: you may need to restart the kernel to use updated packages.\n"
     ]
    }
   ],
   "source": [
    "!pip install pycaret\n",
    "!pip install mlflow\n",
    "%pip install scipy==1.11.4"
   ]
  },
  {
   "cell_type": "code",
   "execution_count": 4,
   "id": "671808d435eb71a3",
   "metadata": {
    "ExecuteTime": {
     "end_time": "2024-03-27T08:22:19.046393Z",
     "start_time": "2024-03-27T08:22:18.374051Z"
    },
    "collapsed": false
   },
   "outputs": [],
   "source": [
    "df1 = pd.read_csv('work/datasets/dga_data.csv')\n",
    "df2 = pd.read_csv('work/datasets/dga_domains_full.csv')\n",
    "df3 = pd.read_csv('work/datasets/dga_domains.csv')"
   ]
  },
  {
   "cell_type": "code",
   "execution_count": 5,
   "id": "4cda4d956f97ceae",
   "metadata": {
    "ExecuteTime": {
     "end_time": "2024-03-27T08:22:22.087816Z",
     "start_time": "2024-03-27T08:22:21.942898Z"
    },
    "collapsed": false
   },
   "outputs": [],
   "source": [
    "## Очистка и преобразование исходных данных\n",
    "df1.loc[(df1['isDGA'] == 'dga'), 'isDGA'] = 1\n",
    "df1.loc[(df1['isDGA'] == 'legit'), 'isDGA'] = 0\n",
    "\n",
    "df1 = df1.drop(columns=df1.columns[1], axis=1)\n",
    "df1 = df1.rename(columns={'host': 'domain'})\n",
    "\n",
    "df2.loc[(df2['isDGA'] == 'legit'), 'isDGA'] = 0\n",
    "df2.loc[(df2['isDGA'] == 'dga'), 'isDGA'] = 1\n",
    "\n",
    "df3.loc[(df3['isDGA'] == 'legit'), 'isDGA'] = 0\n",
    "df3.loc[(df3['isDGA'] == 'dga'), 'isDGA'] = 1\n",
    "\n",
    "df3 = df3.drop(columns=df1.columns[2], axis=1)\n",
    "df3 = df3.drop(columns=df1.columns[1], axis=1)\n",
    "\n",
    "df3.head()\n",
    "\n",
    "df3 = df3.rename(columns={'host': 'domain'})"
   ]
  },
  {
   "cell_type": "code",
   "execution_count": 6,
   "id": "3e67e25c6e383b1d",
   "metadata": {
    "ExecuteTime": {
     "end_time": "2024-03-27T08:24:15.987141Z",
     "start_time": "2024-03-27T08:24:15.883108Z"
    },
    "collapsed": false
   },
   "outputs": [],
   "source": [
    "df = pd.concat([df1, df2, df3])\n",
    "\n",
    "df = df.astype({'domain': 'string', 'isDGA': 'int8', 'subclass': 'category'})"
   ]
  },
  {
   "cell_type": "code",
   "execution_count": 7,
   "id": "f41897760c646b77",
   "metadata": {
    "ExecuteTime": {
     "end_time": "2024-03-27T08:24:17.245331Z",
     "start_time": "2024-03-27T08:24:17.219409Z"
    },
    "collapsed": false
   },
   "outputs": [
    {
     "name": "stdout",
     "output_type": "stream",
     "text": [
      "<class 'pandas.core.frame.DataFrame'>\n",
      "Index: 968824 entries, 0 to 133925\n",
      "Data columns (total 3 columns):\n",
      " #   Column    Non-Null Count   Dtype   \n",
      "---  ------    --------------   -----   \n",
      " 0   isDGA     968824 non-null  int8    \n",
      " 1   domain    968824 non-null  string  \n",
      " 2   subclass  834898 non-null  category\n",
      "dtypes: category(1), int8(1), string(1)\n",
      "memory usage: 16.6 MB\n"
     ]
    }
   ],
   "source": [
    "# df.head(10)\n",
    "df.info()"
   ]
  },
  {
   "cell_type": "code",
   "execution_count": 8,
   "id": "e4725a4b41624be2",
   "metadata": {
    "ExecuteTime": {
     "end_time": "2024-03-27T08:24:19.646237Z",
     "start_time": "2024-03-27T08:24:19.643284Z"
    },
    "collapsed": false
   },
   "outputs": [],
   "source": [
    "X, y = df['domain'], df['isDGA']"
   ]
  },
  {
   "cell_type": "code",
   "execution_count": 9,
   "id": "85b90c808522e0c0",
   "metadata": {
    "ExecuteTime": {
     "end_time": "2024-03-27T08:25:45.505959Z",
     "start_time": "2024-03-27T08:24:21.287905Z"
    },
    "collapsed": false
   },
   "outputs": [
    {
     "data": {
      "text/html": [
       "<div>\n",
       "<style scoped>\n",
       "    .dataframe tbody tr th:only-of-type {\n",
       "        vertical-align: middle;\n",
       "    }\n",
       "\n",
       "    .dataframe tbody tr th {\n",
       "        vertical-align: top;\n",
       "    }\n",
       "\n",
       "    .dataframe thead th {\n",
       "        text-align: right;\n",
       "    }\n",
       "</style>\n",
       "<table border=\"1\" class=\"dataframe\">\n",
       "  <thead>\n",
       "    <tr style=\"text-align: right;\">\n",
       "      <th></th>\n",
       "      <th>0</th>\n",
       "      <th>1</th>\n",
       "      <th>2</th>\n",
       "      <th>3</th>\n",
       "      <th>4</th>\n",
       "      <th>5</th>\n",
       "      <th>6</th>\n",
       "      <th>7</th>\n",
       "      <th>8</th>\n",
       "      <th>9</th>\n",
       "      <th>...</th>\n",
       "      <th>63</th>\n",
       "      <th>64</th>\n",
       "      <th>65</th>\n",
       "      <th>66</th>\n",
       "      <th>67</th>\n",
       "      <th>68</th>\n",
       "      <th>69</th>\n",
       "      <th>70</th>\n",
       "      <th>71</th>\n",
       "      <th>72</th>\n",
       "    </tr>\n",
       "  </thead>\n",
       "  <tbody>\n",
       "    <tr>\n",
       "      <th>0</th>\n",
       "      <td>54.0</td>\n",
       "      <td>120.0</td>\n",
       "      <td>122.0</td>\n",
       "      <td>120.0</td>\n",
       "      <td>115.0</td>\n",
       "      <td>119.0</td>\n",
       "      <td>51.0</td>\n",
       "      <td>115.0</td>\n",
       "      <td>111.0</td>\n",
       "      <td>107.0</td>\n",
       "      <td>...</td>\n",
       "      <td>NaN</td>\n",
       "      <td>NaN</td>\n",
       "      <td>NaN</td>\n",
       "      <td>NaN</td>\n",
       "      <td>NaN</td>\n",
       "      <td>NaN</td>\n",
       "      <td>NaN</td>\n",
       "      <td>NaN</td>\n",
       "      <td>NaN</td>\n",
       "      <td>NaN</td>\n",
       "    </tr>\n",
       "    <tr>\n",
       "      <th>1</th>\n",
       "      <td>103.0</td>\n",
       "      <td>108.0</td>\n",
       "      <td>98.0</td>\n",
       "      <td>116.0</td>\n",
       "      <td>108.0</td>\n",
       "      <td>120.0</td>\n",
       "      <td>119.0</td>\n",
       "      <td>119.0</td>\n",
       "      <td>104.0</td>\n",
       "      <td>98.0</td>\n",
       "      <td>...</td>\n",
       "      <td>NaN</td>\n",
       "      <td>NaN</td>\n",
       "      <td>NaN</td>\n",
       "      <td>NaN</td>\n",
       "      <td>NaN</td>\n",
       "      <td>NaN</td>\n",
       "      <td>NaN</td>\n",
       "      <td>NaN</td>\n",
       "      <td>NaN</td>\n",
       "      <td>NaN</td>\n",
       "    </tr>\n",
       "    <tr>\n",
       "      <th>2</th>\n",
       "      <td>120.0</td>\n",
       "      <td>120.0</td>\n",
       "      <td>109.0</td>\n",
       "      <td>97.0</td>\n",
       "      <td>109.0</td>\n",
       "      <td>111.0</td>\n",
       "      <td>112.0</td>\n",
       "      <td>121.0</td>\n",
       "      <td>105.0</td>\n",
       "      <td>112.0</td>\n",
       "      <td>...</td>\n",
       "      <td>NaN</td>\n",
       "      <td>NaN</td>\n",
       "      <td>NaN</td>\n",
       "      <td>NaN</td>\n",
       "      <td>NaN</td>\n",
       "      <td>NaN</td>\n",
       "      <td>NaN</td>\n",
       "      <td>NaN</td>\n",
       "      <td>NaN</td>\n",
       "      <td>NaN</td>\n",
       "    </tr>\n",
       "    <tr>\n",
       "      <th>3</th>\n",
       "      <td>122.0</td>\n",
       "      <td>102.0</td>\n",
       "      <td>100.0</td>\n",
       "      <td>53.0</td>\n",
       "      <td>115.0</td>\n",
       "      <td>122.0</td>\n",
       "      <td>112.0</td>\n",
       "      <td>105.0</td>\n",
       "      <td>49.0</td>\n",
       "      <td>56.0</td>\n",
       "      <td>...</td>\n",
       "      <td>NaN</td>\n",
       "      <td>NaN</td>\n",
       "      <td>NaN</td>\n",
       "      <td>NaN</td>\n",
       "      <td>NaN</td>\n",
       "      <td>NaN</td>\n",
       "      <td>NaN</td>\n",
       "      <td>NaN</td>\n",
       "      <td>NaN</td>\n",
       "      <td>NaN</td>\n",
       "    </tr>\n",
       "    <tr>\n",
       "      <th>4</th>\n",
       "      <td>106.0</td>\n",
       "      <td>112.0</td>\n",
       "      <td>113.0</td>\n",
       "      <td>102.0</td>\n",
       "      <td>116.0</td>\n",
       "      <td>121.0</td>\n",
       "      <td>109.0</td>\n",
       "      <td>105.0</td>\n",
       "      <td>117.0</td>\n",
       "      <td>118.0</td>\n",
       "      <td>...</td>\n",
       "      <td>NaN</td>\n",
       "      <td>NaN</td>\n",
       "      <td>NaN</td>\n",
       "      <td>NaN</td>\n",
       "      <td>NaN</td>\n",
       "      <td>NaN</td>\n",
       "      <td>NaN</td>\n",
       "      <td>NaN</td>\n",
       "      <td>NaN</td>\n",
       "      <td>NaN</td>\n",
       "    </tr>\n",
       "  </tbody>\n",
       "</table>\n",
       "<p>5 rows × 73 columns</p>\n",
       "</div>"
      ],
      "text/plain": [
       "      0      1      2      3      4      5      6      7      8      9   ...  \\\n",
       "0   54.0  120.0  122.0  120.0  115.0  119.0   51.0  115.0  111.0  107.0  ...   \n",
       "1  103.0  108.0   98.0  116.0  108.0  120.0  119.0  119.0  104.0   98.0  ...   \n",
       "2  120.0  120.0  109.0   97.0  109.0  111.0  112.0  121.0  105.0  112.0  ...   \n",
       "3  122.0  102.0  100.0   53.0  115.0  122.0  112.0  105.0   49.0   56.0  ...   \n",
       "4  106.0  112.0  113.0  102.0  116.0  121.0  109.0  105.0  117.0  118.0  ...   \n",
       "\n",
       "   63  64  65  66  67  68  69  70  71  72  \n",
       "0 NaN NaN NaN NaN NaN NaN NaN NaN NaN NaN  \n",
       "1 NaN NaN NaN NaN NaN NaN NaN NaN NaN NaN  \n",
       "2 NaN NaN NaN NaN NaN NaN NaN NaN NaN NaN  \n",
       "3 NaN NaN NaN NaN NaN NaN NaN NaN NaN NaN  \n",
       "4 NaN NaN NaN NaN NaN NaN NaN NaN NaN NaN  \n",
       "\n",
       "[5 rows x 73 columns]"
      ]
     },
     "metadata": {},
     "output_type": "display_data"
    }
   ],
   "source": [
    "ascii_ranges = [\"_\", \"-\", \".\", \"0\", \"1\", \"9\", \"a\", \"z\"]\n",
    "ascii_ord_ranges = list()\n",
    "for c in ascii_ranges:\n",
    "    ascii_ord_ranges.append(ord(c))\n",
    "\n",
    "expected_ords = [ord(\"-\"), ord(\"_\"), ord(\".\")] + list(range(ord(\"0\"), ord(\"9\") + 1)) + list(\n",
    "    range(ord(\"a\"), ord(\"z\") + 1))\n",
    "\n",
    "for i in ascii_ord_ranges:\n",
    "    assert (i in expected_ords)\n",
    "\n",
    "ord_data_dfs = dict()\n",
    "\n",
    "for column in ['domain']:\n",
    "    ord_data_dfs[column] = df[column].apply(lambda x: [ord(w) for w in x.lower()]).apply(pd.Series)\n",
    "    display(ord_data_dfs[column].head())"
   ]
  },
  {
   "cell_type": "code",
   "execution_count": 10,
   "id": "92a270836569d40e",
   "metadata": {
    "ExecuteTime": {
     "end_time": "2024-03-27T08:27:36.784847Z",
     "start_time": "2024-03-27T08:27:36.350703Z"
    },
    "collapsed": false
   },
   "outputs": [],
   "source": [
    "for column in ['domain']:\n",
    "    ord_data_dfs[column] = ord_data_dfs[column].fillna(-1)"
   ]
  },
  {
   "cell_type": "code",
   "execution_count": 12,
   "id": "be4952ab6cba37e8",
   "metadata": {
    "ExecuteTime": {
     "end_time": "2024-03-27T08:28:00.571192Z",
     "start_time": "2024-03-27T08:27:49.739067Z"
    },
    "collapsed": false
   },
   "outputs": [
    {
     "name": "stdout",
     "output_type": "stream",
     "text": []
    }
   ],
   "source": [
    "unknown_ord_columns = dict()\n",
    "\n",
    "for column in ['domain']:\n",
    "    unknown_ord_columns[column] = set()\n",
    "\n",
    "    for ord_column in ord_data_dfs[column].columns:\n",
    "        try:\n",
    "            assert (all(ord_data_dfs[column][ord_column].isin(expected_ords + [-1])))\n",
    "        except AssertionError:\n",
    "            print(column, \"- column:\", ord_column, \"contained unknown ordinal value\")\n",
    "            unknown_ord_columns[column].add(ord_column)\n",
    "            continue\n",
    "\n",
    "    print()\n",
    "\n",
    "for column in ['domain']:\n",
    "    for ord_column in unknown_ord_columns[column]:\n",
    "        unknown_ord_index = (~ord_data_dfs[column][ord_column].isin(expected_ords + [-1]))\n",
    "        if any(unknown_ord_index):\n",
    "            print(ord_data_dfs[column].loc[unknown_ord_index][ord_column])\n",
    "            display(df.loc[unknown_ord_index][column])\n",
    "\n",
    "    print()"
   ]
  },
  {
   "cell_type": "code",
   "execution_count": 13,
   "id": "c12c050a08409450",
   "metadata": {
    "ExecuteTime": {
     "end_time": "2024-03-27T08:28:01.562806Z",
     "start_time": "2024-03-27T08:28:00.573295Z"
    },
    "collapsed": false
   },
   "outputs": [],
   "source": [
    "validTokens = {x: idx + 1 for idx, x in enumerate(set(''.join(X)))}\n",
    "\n",
    "maxFeatures = len(validTokens) + 1\n",
    "maxLength = np.max([len(x) for x in X])"
   ]
  },
  {
   "cell_type": "code",
   "execution_count": 14,
   "id": "b6210849a71167cf",
   "metadata": {
    "ExecuteTime": {
     "end_time": "2024-03-27T08:28:07.089548Z",
     "start_time": "2024-03-27T08:28:01.568348Z"
    },
    "collapsed": false
   },
   "outputs": [],
   "source": [
    "X = [[validTokens[y] for y in x] for x in X]\n",
    "X = pad_sequences(X, maxlen=maxLength)"
   ]
  },
  {
   "cell_type": "code",
   "execution_count": 15,
   "id": "9b49307c62805ecb",
   "metadata": {
    "ExecuteTime": {
     "end_time": "2024-03-27T08:28:07.424884Z",
     "start_time": "2024-03-27T08:28:07.090425Z"
    },
    "collapsed": false
   },
   "outputs": [],
   "source": [
    "X_train, X_test, y_train, y_test = train_test_split(X, y, test_size=0.2, random_state=36)"
   ]
  },
  {
   "cell_type": "code",
   "execution_count": 16,
   "id": "9da2c8757661b0a0",
   "metadata": {
    "ExecuteTime": {
     "end_time": "2024-03-27T08:28:11.349256Z",
     "start_time": "2024-03-27T08:28:07.425987Z"
    },
    "collapsed": false
   },
   "outputs": [
    {
     "name": "stderr",
     "output_type": "stream",
     "text": [
      "2024-03-27 08:28:07.789185: I external/local_xla/xla/stream_executor/cuda/cuda_executor.cc:887] could not open file to read NUMA node: /sys/bus/pci/devices/0000:01:00.0/numa_node\n",
      "Your kernel may have been built without NUMA support.\n",
      "2024-03-27 08:28:08.303184: I external/local_xla/xla/stream_executor/cuda/cuda_executor.cc:887] could not open file to read NUMA node: /sys/bus/pci/devices/0000:01:00.0/numa_node\n",
      "Your kernel may have been built without NUMA support.\n",
      "2024-03-27 08:28:08.303262: I external/local_xla/xla/stream_executor/cuda/cuda_executor.cc:887] could not open file to read NUMA node: /sys/bus/pci/devices/0000:01:00.0/numa_node\n",
      "Your kernel may have been built without NUMA support.\n",
      "2024-03-27 08:28:08.305231: I external/local_xla/xla/stream_executor/cuda/cuda_executor.cc:887] could not open file to read NUMA node: /sys/bus/pci/devices/0000:01:00.0/numa_node\n",
      "Your kernel may have been built without NUMA support.\n",
      "2024-03-27 08:28:08.305295: I external/local_xla/xla/stream_executor/cuda/cuda_executor.cc:887] could not open file to read NUMA node: /sys/bus/pci/devices/0000:01:00.0/numa_node\n",
      "Your kernel may have been built without NUMA support.\n",
      "2024-03-27 08:28:08.305340: I external/local_xla/xla/stream_executor/cuda/cuda_executor.cc:887] could not open file to read NUMA node: /sys/bus/pci/devices/0000:01:00.0/numa_node\n",
      "Your kernel may have been built without NUMA support.\n",
      "2024-03-27 08:28:08.484459: I external/local_xla/xla/stream_executor/cuda/cuda_executor.cc:887] could not open file to read NUMA node: /sys/bus/pci/devices/0000:01:00.0/numa_node\n",
      "Your kernel may have been built without NUMA support.\n",
      "2024-03-27 08:28:08.484573: I external/local_xla/xla/stream_executor/cuda/cuda_executor.cc:887] could not open file to read NUMA node: /sys/bus/pci/devices/0000:01:00.0/numa_node\n",
      "Your kernel may have been built without NUMA support.\n",
      "2024-03-27 08:28:08.484590: I tensorflow/core/common_runtime/gpu/gpu_device.cc:2022] Could not identify NUMA node of platform GPU id 0, defaulting to 0.  Your kernel may not have been built with NUMA support.\n",
      "2024-03-27 08:28:08.484653: I external/local_xla/xla/stream_executor/cuda/cuda_executor.cc:887] could not open file to read NUMA node: /sys/bus/pci/devices/0000:01:00.0/numa_node\n",
      "Your kernel may have been built without NUMA support.\n",
      "2024-03-27 08:28:08.484675: I tensorflow/core/common_runtime/gpu/gpu_device.cc:1929] Created device /job:localhost/replica:0/task:0/device:GPU:0 with 5558 MB memory:  -> device: 0, name: NVIDIA GeForce RTX 3070 Ti, pci bus id: 0000:01:00.0, compute capability: 8.6\n"
     ]
    }
   ],
   "source": [
    "# LSTM модель\n",
    "model = Sequential()\n",
    "model.add(Embedding(maxFeatures, 128, input_length=maxLength))\n",
    "model.add(LSTM(128))\n",
    "model.add(Dropout(0.5))\n",
    "model.add(Dense(1))\n",
    "model.add(Activation('sigmoid'))\n",
    "model.compile(loss='binary_crossentropy', optimizer='rmsprop', metrics=['accuracy'])"
   ]
  },
  {
   "cell_type": "code",
   "execution_count": 17,
   "id": "a1df23b4df9809cb",
   "metadata": {
    "ExecuteTime": {
     "end_time": "2024-03-27T08:59:29.741583Z",
     "start_time": "2024-03-27T08:28:11.350360Z"
    },
    "collapsed": false
   },
   "outputs": [
    {
     "name": "stdout",
     "output_type": "stream",
     "text": [
      "Epoch 1/5\n"
     ]
    },
    {
     "name": "stderr",
     "output_type": "stream",
     "text": [
      "2024-03-27 08:28:13.441640: I external/local_xla/xla/stream_executor/cuda/cuda_dnn.cc:454] Loaded cuDNN version 8902\n",
      "2024-03-27 08:28:15.628770: I external/local_xla/xla/service/service.cc:168] XLA service 0x7fcb743d2630 initialized for platform CUDA (this does not guarantee that XLA will be used). Devices:\n",
      "2024-03-27 08:28:15.628847: I external/local_xla/xla/service/service.cc:176]   StreamExecutor device (0): NVIDIA GeForce RTX 3070 Ti, Compute Capability 8.6\n",
      "2024-03-27 08:28:15.661338: I tensorflow/compiler/mlir/tensorflow/utils/dump_mlir_util.cc:269] disabling MLIR crash reproducer, set env var `MLIR_CRASH_REPRODUCER_DIRECTORY` to enable.\n",
      "WARNING: All log messages before absl::InitializeLog() is called are written to STDERR\n",
      "I0000 00:00:1711528095.802062    2369 device_compiler.h:186] Compiled cluster using XLA!  This line is logged at most once for the lifetime of the process.\n"
     ]
    },
    {
     "name": "stdout",
     "output_type": "stream",
     "text": [
      "51671/51671 [==============================] - 412s 8ms/step - loss: 0.1582 - accuracy: 0.9397\n",
      "Epoch 2/5\n",
      "51671/51671 [==============================] - 338s 7ms/step - loss: 0.0996 - accuracy: 0.9684\n",
      "Epoch 3/5\n",
      "51671/51671 [==============================] - 347s 7ms/step - loss: 0.0971 - accuracy: 0.9710\n",
      "Epoch 4/5\n",
      "51671/51671 [==============================] - 374s 7ms/step - loss: 0.1009 - accuracy: 0.9709\n",
      "Epoch 5/5\n",
      "51671/51671 [==============================] - 406s 8ms/step - loss: 0.1064 - accuracy: 0.9703\n"
     ]
    },
    {
     "data": {
      "text/plain": [
       "<keras.src.callbacks.History at 0x7fcd2ba922d0>"
      ]
     },
     "execution_count": 17,
     "metadata": {},
     "output_type": "execute_result"
    }
   ],
   "source": [
    "model.fit(X_train, y_train, batch_size=15, epochs=5)"
   ]
  },
  {
   "cell_type": "code",
   "execution_count": 23,
   "id": "ed4c4164569377fa",
   "metadata": {
    "collapsed": false,
    "ExecuteTime": {
     "end_time": "2024-03-27T12:07:31.290702Z",
     "start_time": "2024-03-27T12:07:26.534079Z"
    }
   },
   "outputs": [
    {
     "name": "stdout",
     "output_type": "stream",
     "text": [
      "INFO:tensorflow:Assets written to: work/models/dga/dga_lstm.pkl/assets\n"
     ]
    },
    {
     "name": "stderr",
     "output_type": "stream",
     "text": [
      "INFO:tensorflow:Assets written to: work/models/dga/dga_lstm.pkl/assets\n"
     ]
    }
   ],
   "source": [
    "# https://www.tensorflow.org/guide/keras/serialization_and_saving\n",
    "model.save(dir_path + 'dga_lstm.pkl')\n",
    "model.save(dir_path + 'dga_lstm.keras')"
   ]
  },
  {
   "cell_type": "code",
   "execution_count": null,
   "id": "581cdd83b2ac1bac",
   "metadata": {
    "collapsed": false
   },
   "outputs": [],
   "source": [
    "# model = keras.models.load_model(path)"
   ]
  },
  {
   "cell_type": "code",
   "execution_count": 116,
   "id": "fe8cdbceb4f9c72",
   "metadata": {
    "ExecuteTime": {
     "end_time": "2024-03-20T15:37:22.196025Z",
     "start_time": "2024-03-20T15:37:02.797769Z"
    },
    "collapsed": false
   },
   "outputs": [
    {
     "name": "stdout",
     "output_type": "stream",
     "text": [
      "6056/6056 [==============================] - 16s 3ms/step\n"
     ]
    }
   ],
   "source": [
    "predictions = model.predict(X_test).round()"
   ]
  },
  {
   "cell_type": "code",
   "execution_count": 117,
   "id": "9d046148e0ce66a4",
   "metadata": {
    "ExecuteTime": {
     "end_time": "2024-03-20T15:37:30.028950Z",
     "start_time": "2024-03-20T15:37:29.904678Z"
    },
    "collapsed": false
   },
   "outputs": [],
   "source": [
    "acc = accuracy_score(y_test, predictions)\n",
    "classification_report = classification_report(y_test, predictions)"
   ]
  },
  {
   "cell_type": "code",
   "execution_count": 118,
   "id": "427808a61093cb20",
   "metadata": {
    "ExecuteTime": {
     "end_time": "2024-03-20T15:37:31.548532Z",
     "start_time": "2024-03-20T15:37:31.544969Z"
    },
    "collapsed": false
   },
   "outputs": [
    {
     "name": "stdout",
     "output_type": "stream",
     "text": [
      "              precision    recall  f1-score   support\n",
      "\n",
      "           0       0.97      0.98      0.97     99677\n",
      "           1       0.97      0.97      0.97     94088\n",
      "\n",
      "    accuracy                           0.97    193765\n",
      "   macro avg       0.97      0.97      0.97    193765\n",
      "weighted avg       0.97      0.97      0.97    193765\n"
     ]
    }
   ],
   "source": [
    "print(classification_report)"
   ]
  },
  {
   "cell_type": "code",
   "execution_count": 20,
   "id": "a15333618dc32a2d",
   "metadata": {
    "ExecuteTime": {
     "end_time": "2024-03-27T09:16:47.690145Z",
     "start_time": "2024-03-27T09:16:47.686357Z"
    },
    "collapsed": false
   },
   "outputs": [],
   "source": [
    "def tokenize_domain(domain):\n",
    "    d_ = [[validTokens[char] for char in domain]]\n",
    "    d_ = pad_sequences(d_, maxlen=maxLength)\n",
    "\n",
    "    return d_"
   ]
  },
  {
   "cell_type": "code",
   "execution_count": 21,
   "id": "f9a4ecb3a3ba1257",
   "metadata": {
    "ExecuteTime": {
     "end_time": "2024-03-27T09:16:50.180795Z",
     "start_time": "2024-03-27T09:16:49.805939Z"
    },
    "collapsed": false
   },
   "outputs": [
    {
     "name": "stdout",
     "output_type": "stream",
     "text": [
      "1/1 [==============================] - 0s 311ms/step\n"
     ]
    },
    {
     "data": {
      "text/plain": [
       "array([[1.7835644e-05]], dtype=float32)"
      ]
     },
     "execution_count": 21,
     "metadata": {},
     "output_type": "execute_result"
    }
   ],
   "source": [
    "model.predict(tokenize_domain('example.com'))"
   ]
  },
  {
   "cell_type": "code",
   "execution_count": 19,
   "id": "d42a8e3c42420961",
   "metadata": {
    "ExecuteTime": {
     "end_time": "2024-03-27T09:16:45.180959Z",
     "start_time": "2024-03-27T09:16:45.151319Z"
    },
    "collapsed": false
   },
   "outputs": [
    {
     "ename": "NameError",
     "evalue": "name 'tokenize_domain' is not defined",
     "output_type": "error",
     "traceback": [
      "\u001B[0;31m---------------------------------------------------------------------------\u001B[0m",
      "\u001B[0;31mNameError\u001B[0m                                 Traceback (most recent call last)",
      "Cell \u001B[0;32mIn[19], line 1\u001B[0m\n\u001B[0;32m----> 1\u001B[0m model\u001B[38;5;241m.\u001B[39mpredict(\u001B[43mtokenize_domain\u001B[49m(\u001B[38;5;124m'\u001B[39m\u001B[38;5;124mcvyh1po636avyrsxebwbkn7.ddns.net\u001B[39m\u001B[38;5;124m'\u001B[39m))\n",
      "\u001B[0;31mNameError\u001B[0m: name 'tokenize_domain' is not defined"
     ]
    }
   ],
   "source": [
    "model.predict(tokenize_domain('cvyh1po636avyrsxebwbkn7.ddns.net'))"
   ]
  },
  {
   "cell_type": "code",
   "execution_count": 22,
   "id": "38da0178b3c2143c",
   "metadata": {
    "collapsed": false,
    "ExecuteTime": {
     "end_time": "2024-03-27T12:07:15.221479Z",
     "start_time": "2024-03-27T12:07:15.213544Z"
    }
   },
   "outputs": [
    {
     "data": {
      "text/plain": "{'8': 1,\n 'r': 2,\n '6': 3,\n '9': 4,\n '7': 5,\n 'c': 6,\n 'y': 7,\n '2': 8,\n 'h': 9,\n '.': 10,\n 'l': 11,\n 'm': 12,\n 'n': 13,\n 'j': 14,\n '_': 15,\n 'z': 16,\n 'w': 17,\n '1': 18,\n 'q': 19,\n 'd': 20,\n 'u': 21,\n '3': 22,\n 'g': 23,\n 's': 24,\n 'f': 25,\n 'b': 26,\n 't': 27,\n 'x': 28,\n '-': 29,\n '4': 30,\n 'p': 31,\n 'e': 32,\n '5': 33,\n 'a': 34,\n 'o': 35,\n 'i': 36,\n 'v': 37,\n 'k': 38,\n '0': 39}"
     },
     "execution_count": 22,
     "metadata": {},
     "output_type": "execute_result"
    }
   ],
   "source": [
    "validTokens"
   ]
  },
  {
   "cell_type": "markdown",
   "id": "817213bc3f0e50e1",
   "metadata": {},
   "source": [
    "# PyCaret example"
   ]
  },
  {
   "cell_type": "code",
   "execution_count": 14,
   "id": "413505640d8b4f69",
   "metadata": {
    "ExecuteTime": {
     "end_time": "2024-03-25T16:57:13.134583Z",
     "start_time": "2024-03-25T16:57:13.116875Z"
    },
    "collapsed": false
   },
   "outputs": [
    {
     "ename": "ModuleNotFoundError",
     "evalue": "No module named 'pycaret.nlp'",
     "output_type": "error",
     "traceback": [
      "\u001B[0;31m---------------------------------------------------------------------------\u001B[0m",
      "\u001B[0;31mModuleNotFoundError\u001B[0m                       Traceback (most recent call last)",
      "Cell \u001B[0;32mIn[14], line 1\u001B[0m\n\u001B[0;32m----> 1\u001B[0m \u001B[38;5;28;01mfrom\u001B[39;00m \u001B[38;5;21;01mpycaret\u001B[39;00m\u001B[38;5;21;01m.\u001B[39;00m\u001B[38;5;21;01mnlp\u001B[39;00m \u001B[38;5;28;01mimport\u001B[39;00m \u001B[38;5;241m*\u001B[39m\n\u001B[1;32m      3\u001B[0m nlp_df \u001B[38;5;241m=\u001B[39m setup(df, target\u001B[38;5;241m=\u001B[39m\u001B[38;5;124m'\u001B[39m\u001B[38;5;124mdomain\u001B[39m\u001B[38;5;124m'\u001B[39m, session_id\u001B[38;5;241m=\u001B[39m\u001B[38;5;241m126\u001B[39m, log_experiment\u001B[38;5;241m=\u001B[39m\u001B[38;5;28;01mFalse\u001B[39;00m, log_plots\u001B[38;5;241m=\u001B[39m\u001B[38;5;28;01mTrue\u001B[39;00m, experiment_name\u001B[38;5;241m=\u001B[39m\u001B[38;5;124m'\u001B[39m\u001B[38;5;124mdga_nlp_1\u001B[39m\u001B[38;5;124m'\u001B[39m)\n",
      "\u001B[0;31mModuleNotFoundError\u001B[0m: No module named 'pycaret.nlp'"
     ]
    }
   ],
   "source": [
    "from pycaret.nlp import *\n",
    "\n",
    "nlp_df = setup(df, target='domain', session_id=126, log_experiment=False, log_plots=True, experiment_name='dga_nlp_1')"
   ]
  },
  {
   "cell_type": "code",
   "execution_count": null,
   "id": "d573482cec3007b4",
   "metadata": {
    "collapsed": false
   },
   "outputs": [],
   "source": [
    "s = ClassificationExperiment()\n",
    "s.setup(df, target='is_legit', session_id=123, use_gpu=True, log_experiment=False,\n",
    "        experiment_name='semantic_classification')\n",
    "\n",
    "best_regression_model = s.compare_models()"
   ]
  }
 ],
 "metadata": {
  "kernelspec": {
   "display_name": "Python 3 (ipykernel)",
   "language": "python",
   "name": "python3"
  },
  "language_info": {
   "codemirror_mode": {
    "name": "ipython",
    "version": 3
   },
   "file_extension": ".py",
   "mimetype": "text/x-python",
   "name": "python",
   "nbconvert_exporter": "python",
   "pygments_lexer": "ipython3",
   "version": "3.11.7"
  }
 },
 "nbformat": 4,
 "nbformat_minor": 5
}
