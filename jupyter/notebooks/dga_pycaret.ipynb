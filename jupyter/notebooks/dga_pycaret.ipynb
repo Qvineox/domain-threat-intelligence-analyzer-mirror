{
 "cells": [
  {
   "cell_type": "code",
   "execution_count": 1,
   "id": "initial_id",
   "metadata": {
    "collapsed": true,
    "ExecuteTime": {
     "end_time": "2024-03-27T12:05:23.353122Z",
     "start_time": "2024-03-27T12:05:22.012380Z"
    }
   },
   "outputs": [],
   "source": [
    "from pycaret.regression import *"
   ]
  },
  {
   "cell_type": "code",
   "outputs": [
    {
     "name": "stdout",
     "output_type": "stream",
     "text": [
      "dga_lstm.keras\r\n"
     ]
    }
   ],
   "source": [
    "!ls work/models/dga"
   ],
   "metadata": {
    "collapsed": false,
    "ExecuteTime": {
     "end_time": "2024-03-27T12:06:40.281972Z",
     "start_time": "2024-03-27T12:06:40.162835Z"
    }
   },
   "id": "d716478cb39ef9b1",
   "execution_count": 9
  },
  {
   "cell_type": "code",
   "outputs": [
    {
     "name": "stderr",
     "output_type": "stream",
     "text": [
      "2024-03-27 12:25:17.454616: I tensorflow/core/util/port.cc:113] oneDNN custom operations are on. You may see slightly different numerical results due to floating-point round-off errors from different computation orders. To turn them off, set the environment variable `TF_ENABLE_ONEDNN_OPTS=0`.\n",
      "2024-03-27 12:25:25.284978: E external/local_xla/xla/stream_executor/cuda/cuda_dnn.cc:9261] Unable to register cuDNN factory: Attempting to register factory for plugin cuDNN when one has already been registered\n",
      "2024-03-27 12:25:25.285093: E external/local_xla/xla/stream_executor/cuda/cuda_fft.cc:607] Unable to register cuFFT factory: Attempting to register factory for plugin cuFFT when one has already been registered\n",
      "2024-03-27 12:25:25.424047: E external/local_xla/xla/stream_executor/cuda/cuda_blas.cc:1515] Unable to register cuBLAS factory: Attempting to register factory for plugin cuBLAS when one has already been registered\n",
      "2024-03-27 12:25:26.842432: I tensorflow/core/platform/cpu_feature_guard.cc:182] This TensorFlow binary is optimized to use available CPU instructions in performance-critical operations.\n",
      "To enable the following instructions: AVX2 AVX512F AVX512_VNNI AVX512_BF16 FMA, in other operations, rebuild TensorFlow with the appropriate compiler flags.\n",
      "2024-03-27 12:26:12.567581: W tensorflow/compiler/tf2tensorrt/utils/py_utils.cc:38] TF-TRT Warning: Could not find TensorRT\n"
     ]
    }
   ],
   "source": [
    "import pandas as pd\n",
    "import numpy as np\n",
    "import matplotlib.pyplot as plt\n",
    "import seaborn as sns\n",
    "import keras\n",
    "\n",
    "from keras.preprocessing.sequence import pad_sequences\n",
    "from keras.models import Sequential\n",
    "from keras.layers import Dense, Dropout, Activation, Embedding\n",
    "from keras.layers import LSTM\n",
    "\n",
    "from sklearn.model_selection import train_test_split\n",
    "from sklearn.metrics import confusion_matrix, accuracy_score, classification_report"
   ],
   "metadata": {
    "collapsed": false,
    "ExecuteTime": {
     "end_time": "2024-03-27T12:26:54.852095Z",
     "start_time": "2024-03-27T12:24:59.044726Z"
    }
   },
   "id": "8fa40bfb4945073c",
   "execution_count": 16
  },
  {
   "cell_type": "code",
   "outputs": [],
   "source": [
    "df1 = pd.read_csv('work/datasets/dga_data.csv')\n",
    "df2 = pd.read_csv('work/datasets/dga_domains_full.csv')\n",
    "df3 = pd.read_csv('work/datasets/dga_domains.csv')"
   ],
   "metadata": {
    "collapsed": false,
    "ExecuteTime": {
     "end_time": "2024-03-27T12:31:28.752086Z",
     "start_time": "2024-03-27T12:30:56.594459Z"
    }
   },
   "id": "7bd3203508d3e5b1",
   "execution_count": 17
  },
  {
   "cell_type": "code",
   "outputs": [],
   "source": [
    "## Очистка и преобразование исходных данных\n",
    "df1.loc[(df1['isDGA'] == 'dga'), 'isDGA'] = 1\n",
    "df1.loc[(df1['isDGA'] == 'legit'), 'isDGA'] = 0\n",
    "\n",
    "df1 = df1.drop(columns=df1.columns[1], axis=1)\n",
    "df1 = df1.rename(columns={'host': 'domain'})\n",
    "\n",
    "df2.loc[(df2['isDGA'] == 'legit'), 'isDGA'] = 0\n",
    "df2.loc[(df2['isDGA'] == 'dga'), 'isDGA'] = 1\n",
    "\n",
    "df3.loc[(df3['isDGA'] == 'legit'), 'isDGA'] = 0\n",
    "df3.loc[(df3['isDGA'] == 'dga'), 'isDGA'] = 1\n",
    "\n",
    "df3 = df3.drop(columns=df1.columns[2], axis=1)\n",
    "df3 = df3.drop(columns=df1.columns[1], axis=1)\n",
    "\n",
    "df3.head()\n",
    "\n",
    "df3 = df3.rename(columns={'host': 'domain'})"
   ],
   "metadata": {
    "collapsed": false,
    "ExecuteTime": {
     "end_time": "2024-03-27T12:31:32.808864Z",
     "start_time": "2024-03-27T12:31:28.782087Z"
    }
   },
   "id": "dd08a3a3650b78b",
   "execution_count": 18
  },
  {
   "cell_type": "code",
   "outputs": [],
   "source": [
    "df = pd.concat([df1, df2, df3])\n",
    "\n",
    "df = df.drop(columns=df.columns[2], axis=1)\n",
    "\n",
    "df = df.astype({'domain': 'string', 'isDGA': 'int8'})"
   ],
   "metadata": {
    "collapsed": false,
    "ExecuteTime": {
     "end_time": "2024-03-27T13:20:10.773466Z",
     "start_time": "2024-03-27T13:20:08.664882Z"
    }
   },
   "id": "41ca1bb2bc72640c",
   "execution_count": 21
  },
  {
   "cell_type": "code",
   "outputs": [
    {
     "name": "stdout",
     "output_type": "stream",
     "text": [
      "<class 'pandas.core.frame.DataFrame'>\n",
      "Index: 968824 entries, 0 to 133925\n",
      "Data columns (total 2 columns):\n",
      " #   Column  Non-Null Count   Dtype \n",
      "---  ------  --------------   ----- \n",
      " 0   isDGA   968824 non-null  int8  \n",
      " 1   domain  968824 non-null  string\n",
      "dtypes: int8(1), string(1)\n",
      "memory usage: 15.7 MB\n"
     ]
    }
   ],
   "source": [
    "df.info()"
   ],
   "metadata": {
    "collapsed": false,
    "ExecuteTime": {
     "end_time": "2024-03-27T13:20:11.463527Z",
     "start_time": "2024-03-27T13:20:10.777260Z"
    }
   },
   "id": "a2e884c0b5ba15a5",
   "execution_count": 22
  },
  {
   "cell_type": "code",
   "outputs": [],
   "source": [
    "from pycaret.classification import *\n",
    "\n",
    "dga_exp = setup(df, target='isDGA', session_id=128, use_gpu=True, log_experiment=False, experiment_name='dga_classification', normalize=True)\n",
    "# et_model = create_model('et')\n",
    "# \n",
    "# tuned_et = tune_model(et_model)\n",
    "# \n",
    "# model_go_et = convert_model(tuned_et, 'go')\n",
    "# \n",
    "# f = open(\"golang_resource_records_extra_trees.go\", \"a\")\n",
    "# f.write(model_go_et)\n",
    "# f.close()"
   ],
   "metadata": {
    "collapsed": false
   },
   "id": "833d412a1bef727a"
  }
 ],
 "metadata": {
  "kernelspec": {
   "display_name": "Python 3",
   "language": "python",
   "name": "python3"
  },
  "language_info": {
   "codemirror_mode": {
    "name": "ipython",
    "version": 2
   },
   "file_extension": ".py",
   "mimetype": "text/x-python",
   "name": "python",
   "nbconvert_exporter": "python",
   "pygments_lexer": "ipython2",
   "version": "2.7.6"
  }
 },
 "nbformat": 4,
 "nbformat_minor": 5
}
