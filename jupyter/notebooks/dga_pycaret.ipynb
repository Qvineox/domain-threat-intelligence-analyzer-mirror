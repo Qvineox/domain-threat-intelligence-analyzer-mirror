{
 "cells": [
  {
   "cell_type": "code",
   "execution_count": 2,
   "id": "initial_id",
   "metadata": {
    "collapsed": true,
    "ExecuteTime": {
     "end_time": "2024-03-28T18:49:41.447331Z",
     "start_time": "2024-03-28T18:49:41.444971Z"
    }
   },
   "outputs": [],
   "source": [
    "from pycaret.regression import *"
   ]
  },
  {
   "cell_type": "code",
   "outputs": [
    {
     "name": "stdout",
     "output_type": "stream",
     "text": [
      "dga_lstm.keras\tdga_lstm.pkl\r\n"
     ]
    }
   ],
   "source": [
    "!ls work/models/dga"
   ],
   "metadata": {
    "collapsed": false,
    "ExecuteTime": {
     "end_time": "2024-03-28T18:49:41.567378Z",
     "start_time": "2024-03-28T18:49:41.448493Z"
    }
   },
   "id": "d716478cb39ef9b1",
   "execution_count": 3
  },
  {
   "cell_type": "code",
   "outputs": [
    {
     "name": "stderr",
     "output_type": "stream",
     "text": [
      "2024-03-28 18:49:41.859884: I tensorflow/core/util/port.cc:113] oneDNN custom operations are on. You may see slightly different numerical results due to floating-point round-off errors from different computation orders. To turn them off, set the environment variable `TF_ENABLE_ONEDNN_OPTS=0`.\n",
      "2024-03-28 18:49:42.037745: E external/local_xla/xla/stream_executor/cuda/cuda_dnn.cc:9261] Unable to register cuDNN factory: Attempting to register factory for plugin cuDNN when one has already been registered\n",
      "2024-03-28 18:49:42.037781: E external/local_xla/xla/stream_executor/cuda/cuda_fft.cc:607] Unable to register cuFFT factory: Attempting to register factory for plugin cuFFT when one has already been registered\n",
      "2024-03-28 18:49:42.067841: E external/local_xla/xla/stream_executor/cuda/cuda_blas.cc:1515] Unable to register cuBLAS factory: Attempting to register factory for plugin cuBLAS when one has already been registered\n",
      "2024-03-28 18:49:42.130878: I tensorflow/core/platform/cpu_feature_guard.cc:182] This TensorFlow binary is optimized to use available CPU instructions in performance-critical operations.\n",
      "To enable the following instructions: AVX2 AVX512F AVX512_VNNI AVX512_BF16 FMA, in other operations, rebuild TensorFlow with the appropriate compiler flags.\n",
      "2024-03-28 18:49:43.039426: W tensorflow/compiler/tf2tensorrt/utils/py_utils.cc:38] TF-TRT Warning: Could not find TensorRT\n"
     ]
    }
   ],
   "source": [
    "import pandas as pd\n",
    "import numpy as np\n",
    "import matplotlib.pyplot as plt\n",
    "import seaborn as sns\n",
    "import keras\n",
    "\n",
    "from keras.preprocessing.sequence import pad_sequences\n",
    "from keras.models import Sequential\n",
    "from keras.layers import Dense, Dropout, Activation, Embedding\n",
    "from keras.layers import LSTM\n",
    "\n",
    "from sklearn.model_selection import train_test_split\n",
    "from sklearn.metrics import confusion_matrix, accuracy_score, classification_report"
   ],
   "metadata": {
    "collapsed": false,
    "ExecuteTime": {
     "end_time": "2024-03-28T18:49:43.760061Z",
     "start_time": "2024-03-28T18:49:41.568724Z"
    }
   },
   "id": "8fa40bfb4945073c",
   "execution_count": 4
  },
  {
   "cell_type": "code",
   "outputs": [],
   "source": [
    "df1 = pd.read_csv('work/datasets/dga_data.csv')\n",
    "df2 = pd.read_csv('work/datasets/dga_domains_full.csv')\n",
    "df3 = pd.read_csv('work/datasets/dga_domains.csv')"
   ],
   "metadata": {
    "collapsed": false,
    "ExecuteTime": {
     "end_time": "2024-03-28T20:16:23.362473Z",
     "start_time": "2024-03-28T20:16:22.295391Z"
    }
   },
   "id": "7bd3203508d3e5b1",
   "execution_count": 12
  },
  {
   "cell_type": "code",
   "outputs": [],
   "source": [
    "## Очистка и преобразование исходных данных\n",
    "df1.loc[(df1['isDGA'] == 'dga'), 'isDGA'] = 1\n",
    "df1.loc[(df1['isDGA'] == 'legit'), 'isDGA'] = 0\n",
    "\n",
    "df1 = df1.drop(columns=df1.columns[1], axis=1)\n",
    "df1 = df1.rename(columns={'host': 'domain'})\n",
    "\n",
    "df2.loc[(df2['isDGA'] == 'legit'), 'isDGA'] = 0\n",
    "df2.loc[(df2['isDGA'] == 'dga'), 'isDGA'] = 1\n",
    "\n",
    "df3.loc[(df3['isDGA'] == 'legit'), 'isDGA'] = 0\n",
    "df3.loc[(df3['isDGA'] == 'dga'), 'isDGA'] = 1\n",
    "\n",
    "df3 = df3.drop(columns=df1.columns[2], axis=1)\n",
    "df3 = df3.drop(columns=df1.columns[1], axis=1)\n",
    "\n",
    "df3.head()\n",
    "\n",
    "df3 = df3.rename(columns={'host': 'domain'})"
   ],
   "metadata": {
    "collapsed": false,
    "ExecuteTime": {
     "end_time": "2024-03-28T20:16:23.496959Z",
     "start_time": "2024-03-28T20:16:23.364063Z"
    }
   },
   "id": "dd08a3a3650b78b",
   "execution_count": 13
  },
  {
   "cell_type": "code",
   "outputs": [],
   "source": [
    "df = pd.concat([df1, df2, df3])\n",
    "\n",
    "df = df.drop(columns=df.columns[2], axis=1)\n",
    "\n",
    "df = df.astype({'domain': 'string', 'isDGA': 'int8'})"
   ],
   "metadata": {
    "collapsed": false,
    "ExecuteTime": {
     "end_time": "2024-03-28T20:16:24.003991Z",
     "start_time": "2024-03-28T20:16:23.916249Z"
    }
   },
   "id": "41ca1bb2bc72640c",
   "execution_count": 14
  },
  {
   "cell_type": "code",
   "outputs": [
    {
     "name": "stdout",
     "output_type": "stream",
     "text": [
      "<class 'pandas.core.frame.DataFrame'>\n",
      "Index: 968824 entries, 0 to 133925\n",
      "Data columns (total 2 columns):\n",
      " #   Column  Non-Null Count   Dtype \n",
      "---  ------  --------------   ----- \n",
      " 0   isDGA   968824 non-null  int8  \n",
      " 1   domain  968824 non-null  string\n",
      "dtypes: int8(1), string(1)\n",
      "memory usage: 15.7 MB\n"
     ]
    }
   ],
   "source": [
    "df.info()"
   ],
   "metadata": {
    "collapsed": false,
    "ExecuteTime": {
     "end_time": "2024-03-28T20:16:24.697548Z",
     "start_time": "2024-03-28T20:16:24.669553Z"
    }
   },
   "id": "a2e884c0b5ba15a5",
   "execution_count": 15
  },
  {
   "cell_type": "code",
   "outputs": [
    {
     "name": "stdout",
     "output_type": "stream",
     "text": [
      "[LightGBM] [Warning] There are no meaningful features which satisfy the provided configuration. Decreasing Dataset parameters min_data_in_bin or min_data_in_leaf and re-constructing Dataset might resolve this warning.\n",
      "[LightGBM] [Info] Number of positive: 1, number of negative: 1\n",
      "[LightGBM] [Info] This is the GPU trainer!!\n",
      "[LightGBM] [Info] Total Bins 0\n",
      "[LightGBM] [Info] Number of data points in the train set: 2, number of used features: 0\n",
      "[LightGBM] [Warning] There are no meaningful features which satisfy the provided configuration. Decreasing Dataset parameters min_data_in_bin or min_data_in_leaf and re-constructing Dataset might resolve this warning.\n",
      "[LightGBM] [Warning] Using sparse features with CUDA is currently not supported.\n",
      "[LightGBM] [Info] Number of positive: 1, number of negative: 1\n",
      "[LightGBM] [Warning] There are no meaningful features which satisfy the provided configuration. Decreasing Dataset parameters min_data_in_bin or min_data_in_leaf and re-constructing Dataset might resolve this warning.\n",
      "[LightGBM] [Info] Number of positive: 1, number of negative: 1\n",
      "[LightGBM] [Info] This is the GPU trainer!!\n",
      "[LightGBM] [Info] Total Bins 0\n",
      "[LightGBM] [Info] Number of data points in the train set: 2, number of used features: 0\n",
      "[LightGBM] [Warning] There are no meaningful features which satisfy the provided configuration. Decreasing Dataset parameters min_data_in_bin or min_data_in_leaf and re-constructing Dataset might resolve this warning.\n",
      "[LightGBM] [Warning] Using sparse features with CUDA is currently not supported.\n",
      "[LightGBM] [Info] Number of positive: 1, number of negative: 1\n",
      "[LightGBM] [Warning] There are no meaningful features which satisfy the provided configuration. Decreasing Dataset parameters min_data_in_bin or min_data_in_leaf and re-constructing Dataset might resolve this warning.\n",
      "[LightGBM] [Info] Number of positive: 1, number of negative: 1\n",
      "[LightGBM] [Info] This is the GPU trainer!!\n",
      "[LightGBM] [Info] Total Bins 0\n",
      "[LightGBM] [Info] Number of data points in the train set: 2, number of used features: 0\n",
      "[LightGBM] [Warning] There are no meaningful features which satisfy the provided configuration. Decreasing Dataset parameters min_data_in_bin or min_data_in_leaf and re-constructing Dataset might resolve this warning.\n",
      "[LightGBM] [Warning] Using sparse features with CUDA is currently not supported.\n",
      "[LightGBM] [Info] Number of positive: 1, number of negative: 1\n",
      "[LightGBM] [Warning] There are no meaningful features which satisfy the provided configuration. Decreasing Dataset parameters min_data_in_bin or min_data_in_leaf and re-constructing Dataset might resolve this warning.\n",
      "[LightGBM] [Info] Number of positive: 1, number of negative: 1\n",
      "[LightGBM] [Info] This is the GPU trainer!!\n",
      "[LightGBM] [Info] Total Bins 0\n",
      "[LightGBM] [Info] Number of data points in the train set: 2, number of used features: 0\n",
      "[LightGBM] [Warning] There are no meaningful features which satisfy the provided configuration. Decreasing Dataset parameters min_data_in_bin or min_data_in_leaf and re-constructing Dataset might resolve this warning.\n",
      "[LightGBM] [Warning] Using sparse features with CUDA is currently not supported.\n",
      "[LightGBM] [Info] Number of positive: 1, number of negative: 1\n",
      "[LightGBM] [Warning] There are no meaningful features which satisfy the provided configuration. Decreasing Dataset parameters min_data_in_bin or min_data_in_leaf and re-constructing Dataset might resolve this warning.\n",
      "[LightGBM] [Info] Number of positive: 1, number of negative: 1\n",
      "[LightGBM] [Info] This is the GPU trainer!!\n",
      "[LightGBM] [Info] Total Bins 0\n",
      "[LightGBM] [Info] Number of data points in the train set: 2, number of used features: 0\n",
      "[LightGBM] [Warning] There are no meaningful features which satisfy the provided configuration. Decreasing Dataset parameters min_data_in_bin or min_data_in_leaf and re-constructing Dataset might resolve this warning.\n",
      "[LightGBM] [Warning] Using sparse features with CUDA is currently not supported.\n",
      "[LightGBM] [Info] Number of positive: 1, number of negative: 1\n"
     ]
    },
    {
     "name": "stderr",
     "output_type": "stream",
     "text": [
      "[LightGBM] [Fatal] CUDA Tree Learner was not enabled in this build.\n",
      "Please recompile with CMake option -DUSE_CUDA=1\n",
      "[LightGBM] [Fatal] CUDA Tree Learner was not enabled in this build.\n",
      "Please recompile with CMake option -DUSE_CUDA=1\n",
      "[LightGBM] [Fatal] CUDA Tree Learner was not enabled in this build.\n",
      "Please recompile with CMake option -DUSE_CUDA=1\n",
      "[LightGBM] [Fatal] CUDA Tree Learner was not enabled in this build.\n",
      "Please recompile with CMake option -DUSE_CUDA=1\n",
      "[LightGBM] [Fatal] CUDA Tree Learner was not enabled in this build.\n",
      "Please recompile with CMake option -DUSE_CUDA=1\n",
      "[LightGBM] [Fatal] CUDA Tree Learner was not enabled in this build.\n",
      "Please recompile with CMake option -DUSE_CUDA=1\n"
     ]
    },
    {
     "name": "stdout",
     "output_type": "stream",
     "text": [
      "[LightGBM] [Warning] There are no meaningful features which satisfy the provided configuration. Decreasing Dataset parameters min_data_in_bin or min_data_in_leaf and re-constructing Dataset might resolve this warning.\n",
      "[LightGBM] [Info] Number of positive: 1, number of negative: 1\n",
      "[LightGBM] [Info] This is the GPU trainer!!\n",
      "[LightGBM] [Info] Total Bins 0\n",
      "[LightGBM] [Info] Number of data points in the train set: 2, number of used features: 0\n",
      "[LightGBM] [Warning] There are no meaningful features which satisfy the provided configuration. Decreasing Dataset parameters min_data_in_bin or min_data_in_leaf and re-constructing Dataset might resolve this warning.\n",
      "[LightGBM] [Warning] Using sparse features with CUDA is currently not supported.\n",
      "[LightGBM] [Info] Number of positive: 1, number of negative: 1\n"
     ]
    },
    {
     "data": {
      "text/plain": "<pandas.io.formats.style.Styler at 0x7fb86c322d10>",
      "text/html": "<style type=\"text/css\">\n#T_31e40_row8_col1, #T_31e40_row14_col1, #T_31e40_row19_col1 {\n  background-color: lightgreen;\n}\n</style>\n<table id=\"T_31e40\">\n  <thead>\n    <tr>\n      <th class=\"blank level0\" >&nbsp;</th>\n      <th id=\"T_31e40_level0_col0\" class=\"col_heading level0 col0\" >Description</th>\n      <th id=\"T_31e40_level0_col1\" class=\"col_heading level0 col1\" >Value</th>\n    </tr>\n  </thead>\n  <tbody>\n    <tr>\n      <th id=\"T_31e40_level0_row0\" class=\"row_heading level0 row0\" >0</th>\n      <td id=\"T_31e40_row0_col0\" class=\"data row0 col0\" >Session id</td>\n      <td id=\"T_31e40_row0_col1\" class=\"data row0 col1\" >128</td>\n    </tr>\n    <tr>\n      <th id=\"T_31e40_level0_row1\" class=\"row_heading level0 row1\" >1</th>\n      <td id=\"T_31e40_row1_col0\" class=\"data row1 col0\" >Target</td>\n      <td id=\"T_31e40_row1_col1\" class=\"data row1 col1\" >isDGA</td>\n    </tr>\n    <tr>\n      <th id=\"T_31e40_level0_row2\" class=\"row_heading level0 row2\" >2</th>\n      <td id=\"T_31e40_row2_col0\" class=\"data row2 col0\" >Target type</td>\n      <td id=\"T_31e40_row2_col1\" class=\"data row2 col1\" >Binary</td>\n    </tr>\n    <tr>\n      <th id=\"T_31e40_level0_row3\" class=\"row_heading level0 row3\" >3</th>\n      <td id=\"T_31e40_row3_col0\" class=\"data row3 col0\" >Original data shape</td>\n      <td id=\"T_31e40_row3_col1\" class=\"data row3 col1\" >(1824528, 2)</td>\n    </tr>\n    <tr>\n      <th id=\"T_31e40_level0_row4\" class=\"row_heading level0 row4\" >4</th>\n      <td id=\"T_31e40_row4_col0\" class=\"data row4 col0\" >Transformed data shape</td>\n      <td id=\"T_31e40_row4_col1\" class=\"data row4 col1\" >(1824528, 2)</td>\n    </tr>\n    <tr>\n      <th id=\"T_31e40_level0_row5\" class=\"row_heading level0 row5\" >5</th>\n      <td id=\"T_31e40_row5_col0\" class=\"data row5 col0\" >Transformed train set shape</td>\n      <td id=\"T_31e40_row5_col1\" class=\"data row5 col1\" >(1277169, 2)</td>\n    </tr>\n    <tr>\n      <th id=\"T_31e40_level0_row6\" class=\"row_heading level0 row6\" >6</th>\n      <td id=\"T_31e40_row6_col0\" class=\"data row6 col0\" >Transformed test set shape</td>\n      <td id=\"T_31e40_row6_col1\" class=\"data row6 col1\" >(547359, 2)</td>\n    </tr>\n    <tr>\n      <th id=\"T_31e40_level0_row7\" class=\"row_heading level0 row7\" >7</th>\n      <td id=\"T_31e40_row7_col0\" class=\"data row7 col0\" >Categorical features</td>\n      <td id=\"T_31e40_row7_col1\" class=\"data row7 col1\" >1</td>\n    </tr>\n    <tr>\n      <th id=\"T_31e40_level0_row8\" class=\"row_heading level0 row8\" >8</th>\n      <td id=\"T_31e40_row8_col0\" class=\"data row8 col0\" >Preprocess</td>\n      <td id=\"T_31e40_row8_col1\" class=\"data row8 col1\" >True</td>\n    </tr>\n    <tr>\n      <th id=\"T_31e40_level0_row9\" class=\"row_heading level0 row9\" >9</th>\n      <td id=\"T_31e40_row9_col0\" class=\"data row9 col0\" >Imputation type</td>\n      <td id=\"T_31e40_row9_col1\" class=\"data row9 col1\" >simple</td>\n    </tr>\n    <tr>\n      <th id=\"T_31e40_level0_row10\" class=\"row_heading level0 row10\" >10</th>\n      <td id=\"T_31e40_row10_col0\" class=\"data row10 col0\" >Numeric imputation</td>\n      <td id=\"T_31e40_row10_col1\" class=\"data row10 col1\" >mean</td>\n    </tr>\n    <tr>\n      <th id=\"T_31e40_level0_row11\" class=\"row_heading level0 row11\" >11</th>\n      <td id=\"T_31e40_row11_col0\" class=\"data row11 col0\" >Categorical imputation</td>\n      <td id=\"T_31e40_row11_col1\" class=\"data row11 col1\" >mode</td>\n    </tr>\n    <tr>\n      <th id=\"T_31e40_level0_row12\" class=\"row_heading level0 row12\" >12</th>\n      <td id=\"T_31e40_row12_col0\" class=\"data row12 col0\" >Maximum one-hot encoding</td>\n      <td id=\"T_31e40_row12_col1\" class=\"data row12 col1\" >25</td>\n    </tr>\n    <tr>\n      <th id=\"T_31e40_level0_row13\" class=\"row_heading level0 row13\" >13</th>\n      <td id=\"T_31e40_row13_col0\" class=\"data row13 col0\" >Encoding method</td>\n      <td id=\"T_31e40_row13_col1\" class=\"data row13 col1\" >None</td>\n    </tr>\n    <tr>\n      <th id=\"T_31e40_level0_row14\" class=\"row_heading level0 row14\" >14</th>\n      <td id=\"T_31e40_row14_col0\" class=\"data row14 col0\" >Normalize</td>\n      <td id=\"T_31e40_row14_col1\" class=\"data row14 col1\" >True</td>\n    </tr>\n    <tr>\n      <th id=\"T_31e40_level0_row15\" class=\"row_heading level0 row15\" >15</th>\n      <td id=\"T_31e40_row15_col0\" class=\"data row15 col0\" >Normalize method</td>\n      <td id=\"T_31e40_row15_col1\" class=\"data row15 col1\" >zscore</td>\n    </tr>\n    <tr>\n      <th id=\"T_31e40_level0_row16\" class=\"row_heading level0 row16\" >16</th>\n      <td id=\"T_31e40_row16_col0\" class=\"data row16 col0\" >Fold Generator</td>\n      <td id=\"T_31e40_row16_col1\" class=\"data row16 col1\" >StratifiedKFold</td>\n    </tr>\n    <tr>\n      <th id=\"T_31e40_level0_row17\" class=\"row_heading level0 row17\" >17</th>\n      <td id=\"T_31e40_row17_col0\" class=\"data row17 col0\" >Fold Number</td>\n      <td id=\"T_31e40_row17_col1\" class=\"data row17 col1\" >10</td>\n    </tr>\n    <tr>\n      <th id=\"T_31e40_level0_row18\" class=\"row_heading level0 row18\" >18</th>\n      <td id=\"T_31e40_row18_col0\" class=\"data row18 col0\" >CPU Jobs</td>\n      <td id=\"T_31e40_row18_col1\" class=\"data row18 col1\" >-1</td>\n    </tr>\n    <tr>\n      <th id=\"T_31e40_level0_row19\" class=\"row_heading level0 row19\" >19</th>\n      <td id=\"T_31e40_row19_col0\" class=\"data row19 col0\" >Use GPU</td>\n      <td id=\"T_31e40_row19_col1\" class=\"data row19 col1\" >True</td>\n    </tr>\n    <tr>\n      <th id=\"T_31e40_level0_row20\" class=\"row_heading level0 row20\" >20</th>\n      <td id=\"T_31e40_row20_col0\" class=\"data row20 col0\" >Log Experiment</td>\n      <td id=\"T_31e40_row20_col1\" class=\"data row20 col1\" >False</td>\n    </tr>\n    <tr>\n      <th id=\"T_31e40_level0_row21\" class=\"row_heading level0 row21\" >21</th>\n      <td id=\"T_31e40_row21_col0\" class=\"data row21 col0\" >Experiment Name</td>\n      <td id=\"T_31e40_row21_col1\" class=\"data row21 col1\" >dga_classification</td>\n    </tr>\n    <tr>\n      <th id=\"T_31e40_level0_row22\" class=\"row_heading level0 row22\" >22</th>\n      <td id=\"T_31e40_row22_col0\" class=\"data row22 col0\" >USI</td>\n      <td id=\"T_31e40_row22_col1\" class=\"data row22 col1\" >d151</td>\n    </tr>\n  </tbody>\n</table>\n"
     },
     "metadata": {},
     "output_type": "display_data"
    },
    {
     "name": "stdout",
     "output_type": "stream",
     "text": [
      "[LightGBM] [Warning] There are no meaningful features which satisfy the provided configuration. Decreasing Dataset parameters min_data_in_bin or min_data_in_leaf and re-constructing Dataset might resolve this warning.\n",
      "[LightGBM] [Info] Number of positive: 1, number of negative: 1\n",
      "[LightGBM] [Info] This is the GPU trainer!!\n",
      "[LightGBM] [Info] Total Bins 0\n",
      "[LightGBM] [Info] Number of data points in the train set: 2, number of used features: 0\n",
      "[LightGBM] [Warning] There are no meaningful features which satisfy the provided configuration. Decreasing Dataset parameters min_data_in_bin or min_data_in_leaf and re-constructing Dataset might resolve this warning.\n",
      "[LightGBM] [Warning] Using sparse features with CUDA is currently not supported.\n",
      "[LightGBM] [Info] Number of positive: 1, number of negative: 1\n",
      "[LightGBM] [Warning] There are no meaningful features which satisfy the provided configuration. Decreasing Dataset parameters min_data_in_bin or min_data_in_leaf and re-constructing Dataset might resolve this warning.\n",
      "[LightGBM] [Info] Number of positive: 1, number of negative: 1\n",
      "[LightGBM] [Info] This is the GPU trainer!!\n",
      "[LightGBM] [Info] Total Bins 0\n",
      "[LightGBM] [Info] Number of data points in the train set: 2, number of used features: 0\n",
      "[LightGBM] [Warning] There are no meaningful features which satisfy the provided configuration. Decreasing Dataset parameters min_data_in_bin or min_data_in_leaf and re-constructing Dataset might resolve this warning.\n",
      "[LightGBM] [Warning] Using sparse features with CUDA is currently not supported.\n",
      "[LightGBM] [Info] Number of positive: 1, number of negative: 1\n"
     ]
    },
    {
     "name": "stderr",
     "output_type": "stream",
     "text": [
      "[LightGBM] [Fatal] CUDA Tree Learner was not enabled in this build.\n",
      "Please recompile with CMake option -DUSE_CUDA=1\n",
      "[LightGBM] [Fatal] CUDA Tree Learner was not enabled in this build.\n",
      "Please recompile with CMake option -DUSE_CUDA=1\n"
     ]
    }
   ],
   "source": [
    "from pycaret.classification import *\n",
    "\n",
    "dga_exp = setup(df, target='isDGA', session_id=128, use_gpu=True, index=False, log_experiment=False, experiment_name='dga_classification', normalize=True)\n",
    "# et_model = create_model('et')\n",
    "# \n",
    "# tuned_et = tune_model(et_model)\n",
    "# \n",
    "# model_go_et = convert_model(tuned_et, 'go')\n",
    "# \n",
    "# f = open(\"golang_resource_records_extra_trees.go\", \"a\")\n",
    "# f.write(model_go_et)\n",
    "# f.close()"
   ],
   "metadata": {
    "collapsed": false,
    "ExecuteTime": {
     "end_time": "2024-03-28T20:16:43.319382Z",
     "start_time": "2024-03-28T20:16:28.763816Z"
    }
   },
   "id": "833d412a1bef727a",
   "execution_count": 16
  },
  {
   "cell_type": "code",
   "outputs": [
    {
     "data": {
      "text/plain": "                                                                    \n                                                                    \nInitiated  . . . . . . . . . . . . . . . . . .              20:16:43\nStatus     . . . . . . . . . . . . . . . . . .  Loading Dependencies\nEstimator  . . . . . . . . . . . . . . . . . .     Compiling Library",
      "text/html": "<div>\n<style scoped>\n    .dataframe tbody tr th:only-of-type {\n        vertical-align: middle;\n    }\n\n    .dataframe tbody tr th {\n        vertical-align: top;\n    }\n\n    .dataframe thead th {\n        text-align: right;\n    }\n</style>\n<table border=\"1\" class=\"dataframe\">\n  <thead>\n    <tr style=\"text-align: right;\">\n      <th></th>\n      <th></th>\n      <th></th>\n    </tr>\n    <tr>\n      <th></th>\n      <th></th>\n      <th></th>\n    </tr>\n  </thead>\n  <tbody>\n    <tr>\n      <th>Initiated</th>\n      <td>. . . . . . . . . . . . . . . . . .</td>\n      <td>20:16:43</td>\n    </tr>\n    <tr>\n      <th>Status</th>\n      <td>. . . . . . . . . . . . . . . . . .</td>\n      <td>Loading Dependencies</td>\n    </tr>\n    <tr>\n      <th>Estimator</th>\n      <td>. . . . . . . . . . . . . . . . . .</td>\n      <td>Compiling Library</td>\n    </tr>\n  </tbody>\n</table>\n</div>"
     },
     "metadata": {},
     "output_type": "display_data"
    },
    {
     "data": {
      "text/plain": "<IPython.core.display.HTML object>",
      "text/html": ""
     },
     "metadata": {},
     "output_type": "display_data"
    },
    {
     "data": {
      "text/plain": "                                                                   \n                                                                   \nInitiated  . . . . . . . . . . . . . . . . . .             20:16:43\nStatus     . . . . . . . . . . . . . . . . . .     Fitting 10 Folds\nEstimator  . . . . . . . . . . . . . . . . . .  Logistic Regression",
      "text/html": "<div>\n<style scoped>\n    .dataframe tbody tr th:only-of-type {\n        vertical-align: middle;\n    }\n\n    .dataframe tbody tr th {\n        vertical-align: top;\n    }\n\n    .dataframe thead th {\n        text-align: right;\n    }\n</style>\n<table border=\"1\" class=\"dataframe\">\n  <thead>\n    <tr style=\"text-align: right;\">\n      <th></th>\n      <th></th>\n      <th></th>\n    </tr>\n    <tr>\n      <th></th>\n      <th></th>\n      <th></th>\n    </tr>\n  </thead>\n  <tbody>\n    <tr>\n      <th>Initiated</th>\n      <td>. . . . . . . . . . . . . . . . . .</td>\n      <td>20:16:43</td>\n    </tr>\n    <tr>\n      <th>Status</th>\n      <td>. . . . . . . . . . . . . . . . . .</td>\n      <td>Fitting 10 Folds</td>\n    </tr>\n    <tr>\n      <th>Estimator</th>\n      <td>. . . . . . . . . . . . . . . . . .</td>\n      <td>Logistic Regression</td>\n    </tr>\n  </tbody>\n</table>\n</div>"
     },
     "metadata": {},
     "output_type": "display_data"
    }
   ],
   "source": [
    "best_classification_model = dga_exp.compare_models()"
   ],
   "metadata": {
    "collapsed": false,
    "is_executing": true,
    "ExecuteTime": {
     "start_time": "2024-03-28T20:16:43.320893Z"
    }
   },
   "id": "7342ec36ca793dda",
   "execution_count": null
  },
  {
   "cell_type": "code",
   "outputs": [],
   "source": [
    "best_classification_model"
   ],
   "metadata": {
    "collapsed": false,
    "is_executing": true
   },
   "id": "c5fccaa50ba189e6",
   "execution_count": null
  }
 ],
 "metadata": {
  "kernelspec": {
   "display_name": "Python 3",
   "language": "python",
   "name": "python3"
  },
  "language_info": {
   "codemirror_mode": {
    "name": "ipython",
    "version": 2
   },
   "file_extension": ".py",
   "mimetype": "text/x-python",
   "name": "python",
   "nbconvert_exporter": "python",
   "pygments_lexer": "ipython2",
   "version": "2.7.6"
  }
 },
 "nbformat": 4,
 "nbformat_minor": 5
}
