{
 "cells": [
  {
   "cell_type": "markdown",
   "id": "6b3f993d93591ec7",
   "metadata": {},
   "source": [
    "# Регрессионный анализатор для оценки доменов "
   ]
  },
  {
   "cell_type": "code",
   "execution_count": 1,
   "id": "initial_id",
   "metadata": {
    "collapsed": true,
    "jupyter": {
     "outputs_hidden": true
    },
    "ExecuteTime": {
     "end_time": "2024-03-27T08:16:55.453495Z",
     "start_time": "2024-03-27T08:16:55.258670Z"
    }
   },
   "outputs": [
    {
     "name": "stdout",
     "output_type": "stream",
     "text": [
      "Wed Mar 27 08:16:55 2024       \r\n",
      "+-----------------------------------------------------------------------------------------+\r\n",
      "| NVIDIA-SMI 550.65                 Driver Version: 551.86         CUDA Version: 12.4     |\r\n",
      "|-----------------------------------------+------------------------+----------------------+\r\n",
      "| GPU  Name                 Persistence-M | Bus-Id          Disp.A | Volatile Uncorr. ECC |\r\n",
      "| Fan  Temp   Perf          Pwr:Usage/Cap |           Memory-Usage | GPU-Util  Compute M. |\r\n",
      "|                                         |                        |               MIG M. |\r\n",
      "|=========================================+========================+======================|\r\n",
      "|   0  NVIDIA GeForce RTX 3070 Ti     On  |   00000000:01:00.0  On |                  N/A |\r\n",
      "| 53%   32C    P5             20W /  310W |    2584MiB /   8192MiB |     11%      Default |\r\n",
      "|                                         |                        |                  N/A |\r\n",
      "+-----------------------------------------+------------------------+----------------------+\r\n",
      "                                                                                         \r\n",
      "+-----------------------------------------------------------------------------------------+\r\n",
      "| Processes:                                                                              |\r\n",
      "|  GPU   GI   CI        PID   Type   Process name                              GPU Memory |\r\n",
      "|        ID   ID                                                               Usage      |\r\n",
      "|=========================================================================================|\r\n",
      "|  No running processes found                                                             |\r\n",
      "+-----------------------------------------------------------------------------------------+\r\n"
     ]
    }
   ],
   "source": [
    "!nvidia-smi"
   ]
  },
  {
   "cell_type": "code",
   "execution_count": 2,
   "id": "ebffd88fdde053ab",
   "metadata": {
    "collapsed": false,
    "tags": [],
    "ExecuteTime": {
     "end_time": "2024-03-27T08:16:58.151676Z",
     "start_time": "2024-03-27T08:16:57.368202Z"
    }
   },
   "outputs": [],
   "source": [
    "import pandas as pd\n",
    "import numpy as np\n",
    "import matplotlib.pyplot as plt"
   ]
  },
  {
   "cell_type": "code",
   "execution_count": 3,
   "id": "299f9c70b9931d94",
   "metadata": {
    "tags": [],
    "ExecuteTime": {
     "end_time": "2024-03-27T08:17:10.365542Z",
     "start_time": "2024-03-27T08:16:59.410992Z"
    }
   },
   "outputs": [
    {
     "name": "stdout",
     "output_type": "stream",
     "text": [
      "Looking in indexes: https://pypi.org/simple, https://pypi.ngc.nvidia.com\r\n",
      "Requirement already satisfied: pycaret in /opt/conda/lib/python3.11/site-packages (3.3.0)\r\n",
      "Requirement already satisfied: ipython>=5.5.0 in /opt/conda/lib/python3.11/site-packages (from pycaret) (8.20.0)\r\n",
      "Requirement already satisfied: ipywidgets>=7.6.5 in /opt/conda/lib/python3.11/site-packages (from pycaret) (8.0.4)\r\n",
      "Requirement already satisfied: tqdm>=4.62.0 in /opt/conda/lib/python3.11/site-packages (from pycaret) (4.66.1)\r\n",
      "Requirement already satisfied: numpy<1.27,>=1.21 in /opt/conda/lib/python3.11/site-packages (from pycaret) (1.26.3)\r\n",
      "Requirement already satisfied: pandas<2.2.0 in /opt/conda/lib/python3.11/site-packages (from pycaret) (2.1.4)\r\n",
      "Requirement already satisfied: jinja2>=3 in /opt/conda/lib/python3.11/site-packages (from pycaret) (3.1.3)\r\n",
      "Requirement already satisfied: scipy<=1.11.4,>=1.6.1 in /opt/conda/lib/python3.11/site-packages (from pycaret) (1.11.4)\r\n",
      "Requirement already satisfied: joblib>=1.2.0 in /opt/conda/lib/python3.11/site-packages (from pycaret) (1.3.2)\r\n",
      "Requirement already satisfied: scikit-learn>1.4.0 in /opt/conda/lib/python3.11/site-packages (from pycaret) (1.4.1.post1)\r\n",
      "Requirement already satisfied: pyod>=1.1.3 in /opt/conda/lib/python3.11/site-packages (from pycaret) (1.1.3)\r\n",
      "Requirement already satisfied: imbalanced-learn>=0.12.0 in /opt/conda/lib/python3.11/site-packages (from pycaret) (0.12.0)\r\n",
      "Requirement already satisfied: category-encoders>=2.4.0 in /opt/conda/lib/python3.11/site-packages (from pycaret) (2.6.3)\r\n",
      "Requirement already satisfied: lightgbm>=3.0.0 in /opt/conda/lib/python3.11/site-packages (from pycaret) (4.3.0)\r\n",
      "Requirement already satisfied: numba>=0.55.0 in /opt/conda/lib/python3.11/site-packages (from pycaret) (0.58.1)\r\n",
      "Requirement already satisfied: requests>=2.27.1 in /opt/conda/lib/python3.11/site-packages (from pycaret) (2.31.0)\r\n",
      "Requirement already satisfied: psutil>=5.9.0 in /opt/conda/lib/python3.11/site-packages (from pycaret) (5.9.8)\r\n",
      "Requirement already satisfied: markupsafe>=2.0.1 in /opt/conda/lib/python3.11/site-packages (from pycaret) (2.1.4)\r\n",
      "Requirement already satisfied: importlib-metadata>=4.12.0 in /opt/conda/lib/python3.11/site-packages (from pycaret) (7.0.1)\r\n",
      "Requirement already satisfied: nbformat>=4.2.0 in /opt/conda/lib/python3.11/site-packages (from pycaret) (5.9.2)\r\n",
      "Requirement already satisfied: cloudpickle in /opt/conda/lib/python3.11/site-packages (from pycaret) (3.0.0)\r\n",
      "Requirement already satisfied: deprecation>=2.1.0 in /opt/conda/lib/python3.11/site-packages (from pycaret) (2.1.0)\r\n",
      "Requirement already satisfied: xxhash in /opt/conda/lib/python3.11/site-packages (from pycaret) (3.4.1)\r\n",
      "Requirement already satisfied: matplotlib<3.8.0 in /opt/conda/lib/python3.11/site-packages (from pycaret) (3.7.5)\r\n",
      "Requirement already satisfied: scikit-plot>=0.3.7 in /opt/conda/lib/python3.11/site-packages (from pycaret) (0.3.7)\r\n",
      "Requirement already satisfied: yellowbrick>=1.4 in /opt/conda/lib/python3.11/site-packages (from pycaret) (1.5)\r\n",
      "Requirement already satisfied: plotly>=5.14.0 in /opt/conda/lib/python3.11/site-packages (from pycaret) (5.20.0)\r\n",
      "Requirement already satisfied: kaleido>=0.2.1 in /opt/conda/lib/python3.11/site-packages (from pycaret) (0.2.1)\r\n",
      "Requirement already satisfied: schemdraw==0.15 in /opt/conda/lib/python3.11/site-packages (from pycaret) (0.15)\r\n",
      "Requirement already satisfied: plotly-resampler>=0.8.3.1 in /opt/conda/lib/python3.11/site-packages (from pycaret) (0.9.2)\r\n",
      "Requirement already satisfied: statsmodels>=0.12.1 in /opt/conda/lib/python3.11/site-packages (from pycaret) (0.14.1)\r\n",
      "Requirement already satisfied: sktime>=0.26.0 in /opt/conda/lib/python3.11/site-packages (from pycaret) (0.27.1)\r\n",
      "Requirement already satisfied: tbats>=1.1.3 in /opt/conda/lib/python3.11/site-packages (from pycaret) (1.1.3)\r\n",
      "Requirement already satisfied: pmdarima>=2.0.4 in /opt/conda/lib/python3.11/site-packages (from pycaret) (2.0.4)\r\n",
      "Requirement already satisfied: wurlitzer in /opt/conda/lib/python3.11/site-packages (from pycaret) (3.0.3)\r\n",
      "Requirement already satisfied: patsy>=0.5.1 in /opt/conda/lib/python3.11/site-packages (from category-encoders>=2.4.0->pycaret) (0.5.6)\r\n",
      "Requirement already satisfied: packaging in /opt/conda/lib/python3.11/site-packages (from deprecation>=2.1.0->pycaret) (23.2)\r\n",
      "Requirement already satisfied: threadpoolctl>=2.0.0 in /opt/conda/lib/python3.11/site-packages (from imbalanced-learn>=0.12.0->pycaret) (3.2.0)\r\n",
      "Requirement already satisfied: zipp>=0.5 in /opt/conda/lib/python3.11/site-packages (from importlib-metadata>=4.12.0->pycaret) (3.17.0)\r\n",
      "Requirement already satisfied: decorator in /opt/conda/lib/python3.11/site-packages (from ipython>=5.5.0->pycaret) (5.1.1)\r\n",
      "Requirement already satisfied: jedi>=0.16 in /opt/conda/lib/python3.11/site-packages (from ipython>=5.5.0->pycaret) (0.19.1)\r\n",
      "Requirement already satisfied: matplotlib-inline in /opt/conda/lib/python3.11/site-packages (from ipython>=5.5.0->pycaret) (0.1.6)\r\n",
      "Requirement already satisfied: prompt-toolkit<3.1.0,>=3.0.41 in /opt/conda/lib/python3.11/site-packages (from ipython>=5.5.0->pycaret) (3.0.42)\r\n",
      "Requirement already satisfied: pygments>=2.4.0 in /opt/conda/lib/python3.11/site-packages (from ipython>=5.5.0->pycaret) (2.17.2)\r\n",
      "Requirement already satisfied: stack-data in /opt/conda/lib/python3.11/site-packages (from ipython>=5.5.0->pycaret) (0.6.2)\r\n",
      "Requirement already satisfied: traitlets>=5 in /opt/conda/lib/python3.11/site-packages (from ipython>=5.5.0->pycaret) (5.14.1)\r\n",
      "Requirement already satisfied: pexpect>4.3 in /opt/conda/lib/python3.11/site-packages (from ipython>=5.5.0->pycaret) (4.8.0)\r\n",
      "Requirement already satisfied: ipykernel>=4.5.1 in /opt/conda/lib/python3.11/site-packages (from ipywidgets>=7.6.5->pycaret) (6.29.0)\r\n",
      "Requirement already satisfied: widgetsnbextension~=4.0 in /opt/conda/lib/python3.11/site-packages (from ipywidgets>=7.6.5->pycaret) (4.0.9)\r\n",
      "Requirement already satisfied: jupyterlab-widgets~=3.0 in /opt/conda/lib/python3.11/site-packages (from ipywidgets>=7.6.5->pycaret) (3.0.9)\r\n",
      "Requirement already satisfied: contourpy>=1.0.1 in /opt/conda/lib/python3.11/site-packages (from matplotlib<3.8.0->pycaret) (1.2.0)\r\n",
      "Requirement already satisfied: cycler>=0.10 in /opt/conda/lib/python3.11/site-packages (from matplotlib<3.8.0->pycaret) (0.12.1)\r\n",
      "Requirement already satisfied: fonttools>=4.22.0 in /opt/conda/lib/python3.11/site-packages (from matplotlib<3.8.0->pycaret) (4.47.2)\r\n",
      "Requirement already satisfied: kiwisolver>=1.0.1 in /opt/conda/lib/python3.11/site-packages (from matplotlib<3.8.0->pycaret) (1.4.5)\r\n",
      "Requirement already satisfied: pillow>=6.2.0 in /opt/conda/lib/python3.11/site-packages (from matplotlib<3.8.0->pycaret) (10.2.0)\r\n",
      "Requirement already satisfied: pyparsing>=2.3.1 in /opt/conda/lib/python3.11/site-packages (from matplotlib<3.8.0->pycaret) (3.1.1)\r\n",
      "Requirement already satisfied: python-dateutil>=2.7 in /opt/conda/lib/python3.11/site-packages (from matplotlib<3.8.0->pycaret) (2.8.2)\r\n",
      "Requirement already satisfied: fastjsonschema in /opt/conda/lib/python3.11/site-packages (from nbformat>=4.2.0->pycaret) (2.19.1)\r\n",
      "Requirement already satisfied: jsonschema>=2.6 in /opt/conda/lib/python3.11/site-packages (from nbformat>=4.2.0->pycaret) (4.21.1)\r\n",
      "Requirement already satisfied: jupyter-core in /opt/conda/lib/python3.11/site-packages (from nbformat>=4.2.0->pycaret) (5.7.1)\r\n",
      "Requirement already satisfied: llvmlite<0.42,>=0.41.0dev0 in /opt/conda/lib/python3.11/site-packages (from numba>=0.55.0->pycaret) (0.41.1)\r\n",
      "Requirement already satisfied: pytz>=2020.1 in /opt/conda/lib/python3.11/site-packages (from pandas<2.2.0->pycaret) (2023.3.post1)\r\n",
      "Requirement already satisfied: tzdata>=2022.1 in /opt/conda/lib/python3.11/site-packages (from pandas<2.2.0->pycaret) (2023.4)\r\n",
      "Requirement already satisfied: tenacity>=6.2.0 in /opt/conda/lib/python3.11/site-packages (from plotly>=5.14.0->pycaret) (8.2.3)\r\n",
      "Requirement already satisfied: dash>=2.9.0 in /opt/conda/lib/python3.11/site-packages (from plotly-resampler>=0.8.3.1->pycaret) (2.16.1)\r\n",
      "Requirement already satisfied: orjson<4.0.0,>=3.8.0 in /opt/conda/lib/python3.11/site-packages (from plotly-resampler>=0.8.3.1->pycaret) (3.9.15)\r\n",
      "Requirement already satisfied: tsdownsample==0.1.2 in /opt/conda/lib/python3.11/site-packages (from plotly-resampler>=0.8.3.1->pycaret) (0.1.2)\r\n",
      "Requirement already satisfied: Cython!=0.29.18,!=0.29.31,>=0.29 in /opt/conda/lib/python3.11/site-packages (from pmdarima>=2.0.4->pycaret) (3.0.7)\r\n",
      "Requirement already satisfied: urllib3 in /opt/conda/lib/python3.11/site-packages (from pmdarima>=2.0.4->pycaret) (2.1.0)\r\n",
      "Requirement already satisfied: setuptools!=50.0.0,>=38.6.0 in /opt/conda/lib/python3.11/site-packages (from pmdarima>=2.0.4->pycaret) (69.0.3)\r\n",
      "Requirement already satisfied: six in /opt/conda/lib/python3.11/site-packages (from pyod>=1.1.3->pycaret) (1.16.0)\r\n",
      "Requirement already satisfied: charset-normalizer<4,>=2 in /opt/conda/lib/python3.11/site-packages (from requests>=2.27.1->pycaret) (3.3.2)\r\n",
      "Requirement already satisfied: idna<4,>=2.5 in /opt/conda/lib/python3.11/site-packages (from requests>=2.27.1->pycaret) (3.6)\r\n",
      "Requirement already satisfied: certifi>=2017.4.17 in /opt/conda/lib/python3.11/site-packages (from requests>=2.27.1->pycaret) (2023.11.17)\r\n",
      "Requirement already satisfied: scikit-base<0.8.0 in /opt/conda/lib/python3.11/site-packages (from sktime>=0.26.0->pycaret) (0.7.5)\r\n",
      "Requirement already satisfied: Flask<3.1,>=1.0.4 in /opt/conda/lib/python3.11/site-packages (from dash>=2.9.0->plotly-resampler>=0.8.3.1->pycaret) (3.0.2)\r\n",
      "Requirement already satisfied: Werkzeug<3.1 in /opt/conda/lib/python3.11/site-packages (from dash>=2.9.0->plotly-resampler>=0.8.3.1->pycaret) (3.0.1)\r\n",
      "Requirement already satisfied: dash-html-components==2.0.0 in /opt/conda/lib/python3.11/site-packages (from dash>=2.9.0->plotly-resampler>=0.8.3.1->pycaret) (2.0.0)\r\n",
      "Requirement already satisfied: dash-core-components==2.0.0 in /opt/conda/lib/python3.11/site-packages (from dash>=2.9.0->plotly-resampler>=0.8.3.1->pycaret) (2.0.0)\r\n",
      "Requirement already satisfied: dash-table==5.0.0 in /opt/conda/lib/python3.11/site-packages (from dash>=2.9.0->plotly-resampler>=0.8.3.1->pycaret) (5.0.0)\r\n",
      "Requirement already satisfied: typing-extensions>=4.1.1 in /opt/conda/lib/python3.11/site-packages (from dash>=2.9.0->plotly-resampler>=0.8.3.1->pycaret) (4.9.0)\r\n",
      "Requirement already satisfied: retrying in /opt/conda/lib/python3.11/site-packages (from dash>=2.9.0->plotly-resampler>=0.8.3.1->pycaret) (1.3.4)\r\n",
      "Requirement already satisfied: nest-asyncio in /opt/conda/lib/python3.11/site-packages (from dash>=2.9.0->plotly-resampler>=0.8.3.1->pycaret) (1.6.0)\r\n",
      "Requirement already satisfied: comm>=0.1.1 in /opt/conda/lib/python3.11/site-packages (from ipykernel>=4.5.1->ipywidgets>=7.6.5->pycaret) (0.2.1)\r\n",
      "Requirement already satisfied: debugpy>=1.6.5 in /opt/conda/lib/python3.11/site-packages (from ipykernel>=4.5.1->ipywidgets>=7.6.5->pycaret) (1.8.0)\r\n",
      "Requirement already satisfied: jupyter-client>=6.1.12 in /opt/conda/lib/python3.11/site-packages (from ipykernel>=4.5.1->ipywidgets>=7.6.5->pycaret) (7.4.9)\r\n",
      "Requirement already satisfied: pyzmq>=24 in /opt/conda/lib/python3.11/site-packages (from ipykernel>=4.5.1->ipywidgets>=7.6.5->pycaret) (24.0.1)\r\n",
      "Requirement already satisfied: tornado>=6.1 in /opt/conda/lib/python3.11/site-packages (from ipykernel>=4.5.1->ipywidgets>=7.6.5->pycaret) (6.3.3)\r\n",
      "Requirement already satisfied: parso<0.9.0,>=0.8.3 in /opt/conda/lib/python3.11/site-packages (from jedi>=0.16->ipython>=5.5.0->pycaret) (0.8.3)\r\n",
      "Requirement already satisfied: attrs>=22.2.0 in /opt/conda/lib/python3.11/site-packages (from jsonschema>=2.6->nbformat>=4.2.0->pycaret) (23.2.0)\r\n",
      "Requirement already satisfied: jsonschema-specifications>=2023.03.6 in /opt/conda/lib/python3.11/site-packages (from jsonschema>=2.6->nbformat>=4.2.0->pycaret) (2023.12.1)\r\n",
      "Requirement already satisfied: referencing>=0.28.4 in /opt/conda/lib/python3.11/site-packages (from jsonschema>=2.6->nbformat>=4.2.0->pycaret) (0.32.1)\r\n",
      "Requirement already satisfied: rpds-py>=0.7.1 in /opt/conda/lib/python3.11/site-packages (from jsonschema>=2.6->nbformat>=4.2.0->pycaret) (0.17.1)\r\n",
      "Requirement already satisfied: platformdirs>=2.5 in /opt/conda/lib/python3.11/site-packages (from jupyter-core->nbformat>=4.2.0->pycaret) (4.1.0)\r\n",
      "Requirement already satisfied: ptyprocess>=0.5 in /opt/conda/lib/python3.11/site-packages (from pexpect>4.3->ipython>=5.5.0->pycaret) (0.7.0)\r\n",
      "Requirement already satisfied: wcwidth in /opt/conda/lib/python3.11/site-packages (from prompt-toolkit<3.1.0,>=3.0.41->ipython>=5.5.0->pycaret) (0.2.13)\r\n",
      "Requirement already satisfied: executing>=1.2.0 in /opt/conda/lib/python3.11/site-packages (from stack-data->ipython>=5.5.0->pycaret) (2.0.1)\r\n",
      "Requirement already satisfied: asttokens>=2.1.0 in /opt/conda/lib/python3.11/site-packages (from stack-data->ipython>=5.5.0->pycaret) (2.4.1)\r\n",
      "Requirement already satisfied: pure-eval in /opt/conda/lib/python3.11/site-packages (from stack-data->ipython>=5.5.0->pycaret) (0.2.2)\r\n",
      "Requirement already satisfied: itsdangerous>=2.1.2 in /opt/conda/lib/python3.11/site-packages (from Flask<3.1,>=1.0.4->dash>=2.9.0->plotly-resampler>=0.8.3.1->pycaret) (2.1.2)\r\n",
      "Requirement already satisfied: click>=8.1.3 in /opt/conda/lib/python3.11/site-packages (from Flask<3.1,>=1.0.4->dash>=2.9.0->plotly-resampler>=0.8.3.1->pycaret) (8.1.7)\r\n",
      "Requirement already satisfied: blinker>=1.6.2 in /opt/conda/lib/python3.11/site-packages (from Flask<3.1,>=1.0.4->dash>=2.9.0->plotly-resampler>=0.8.3.1->pycaret) (1.7.0)\r\n",
      "Requirement already satisfied: entrypoints in /opt/conda/lib/python3.11/site-packages (from jupyter-client>=6.1.12->ipykernel>=4.5.1->ipywidgets>=7.6.5->pycaret) (0.4)\r\n",
      "Looking in indexes: https://pypi.org/simple, https://pypi.ngc.nvidia.com\r\n",
      "Requirement already satisfied: mlflow in /opt/conda/lib/python3.11/site-packages (2.11.3)\r\n",
      "Requirement already satisfied: click<9,>=7.0 in /opt/conda/lib/python3.11/site-packages (from mlflow) (8.1.7)\r\n",
      "Requirement already satisfied: cloudpickle<4 in /opt/conda/lib/python3.11/site-packages (from mlflow) (3.0.0)\r\n",
      "Requirement already satisfied: entrypoints<1 in /opt/conda/lib/python3.11/site-packages (from mlflow) (0.4)\r\n",
      "Requirement already satisfied: gitpython<4,>=3.1.9 in /opt/conda/lib/python3.11/site-packages (from mlflow) (3.1.41)\r\n",
      "Requirement already satisfied: pyyaml<7,>=5.1 in /opt/conda/lib/python3.11/site-packages (from mlflow) (6.0.1)\r\n",
      "Requirement already satisfied: protobuf<5,>=3.12.0 in /opt/conda/lib/python3.11/site-packages (from mlflow) (4.23.4)\r\n",
      "Requirement already satisfied: pytz<2025 in /opt/conda/lib/python3.11/site-packages (from mlflow) (2023.3.post1)\r\n",
      "Requirement already satisfied: requests<3,>=2.17.3 in /opt/conda/lib/python3.11/site-packages (from mlflow) (2.31.0)\r\n",
      "Requirement already satisfied: packaging<24 in /opt/conda/lib/python3.11/site-packages (from mlflow) (23.2)\r\n",
      "Requirement already satisfied: importlib-metadata!=4.7.0,<8,>=3.7.0 in /opt/conda/lib/python3.11/site-packages (from mlflow) (7.0.1)\r\n",
      "Requirement already satisfied: sqlparse<1,>=0.4.0 in /opt/conda/lib/python3.11/site-packages (from mlflow) (0.4.4)\r\n",
      "Requirement already satisfied: alembic!=1.10.0,<2 in /opt/conda/lib/python3.11/site-packages (from mlflow) (1.13.1)\r\n",
      "Requirement already satisfied: docker<8,>=4.0.0 in /opt/conda/lib/python3.11/site-packages (from mlflow) (7.0.0)\r\n",
      "Requirement already satisfied: Flask<4 in /opt/conda/lib/python3.11/site-packages (from mlflow) (3.0.2)\r\n",
      "Requirement already satisfied: numpy<2 in /opt/conda/lib/python3.11/site-packages (from mlflow) (1.26.3)\r\n",
      "Requirement already satisfied: scipy<2 in /opt/conda/lib/python3.11/site-packages (from mlflow) (1.11.4)\r\n",
      "Requirement already satisfied: pandas<3 in /opt/conda/lib/python3.11/site-packages (from mlflow) (2.1.4)\r\n",
      "Requirement already satisfied: querystring-parser<2 in /opt/conda/lib/python3.11/site-packages (from mlflow) (1.2.4)\r\n",
      "Requirement already satisfied: sqlalchemy<3,>=1.4.0 in /opt/conda/lib/python3.11/site-packages (from mlflow) (2.0.25)\r\n",
      "Requirement already satisfied: scikit-learn<2 in /opt/conda/lib/python3.11/site-packages (from mlflow) (1.4.1.post1)\r\n",
      "Requirement already satisfied: pyarrow<16,>=4.0.0 in /opt/conda/lib/python3.11/site-packages (from mlflow) (14.0.2)\r\n",
      "Requirement already satisfied: markdown<4,>=3.3 in /opt/conda/lib/python3.11/site-packages (from mlflow) (3.5.2)\r\n",
      "Requirement already satisfied: matplotlib<4 in /opt/conda/lib/python3.11/site-packages (from mlflow) (3.7.5)\r\n",
      "Requirement already satisfied: graphene<4 in /opt/conda/lib/python3.11/site-packages (from mlflow) (3.3)\r\n",
      "Requirement already satisfied: gunicorn<22 in /opt/conda/lib/python3.11/site-packages (from mlflow) (21.2.0)\r\n",
      "Requirement already satisfied: Jinja2<4,>=2.11 in /opt/conda/lib/python3.11/site-packages (from mlflow) (3.1.3)\r\n",
      "Requirement already satisfied: Mako in /opt/conda/lib/python3.11/site-packages (from alembic!=1.10.0,<2->mlflow) (1.3.1)\r\n",
      "Requirement already satisfied: typing-extensions>=4 in /opt/conda/lib/python3.11/site-packages (from alembic!=1.10.0,<2->mlflow) (4.9.0)\r\n",
      "Requirement already satisfied: urllib3>=1.26.0 in /opt/conda/lib/python3.11/site-packages (from docker<8,>=4.0.0->mlflow) (2.1.0)\r\n",
      "Requirement already satisfied: Werkzeug>=3.0.0 in /opt/conda/lib/python3.11/site-packages (from Flask<4->mlflow) (3.0.1)\r\n",
      "Requirement already satisfied: itsdangerous>=2.1.2 in /opt/conda/lib/python3.11/site-packages (from Flask<4->mlflow) (2.1.2)\r\n",
      "Requirement already satisfied: blinker>=1.6.2 in /opt/conda/lib/python3.11/site-packages (from Flask<4->mlflow) (1.7.0)\r\n",
      "Requirement already satisfied: gitdb<5,>=4.0.1 in /opt/conda/lib/python3.11/site-packages (from gitpython<4,>=3.1.9->mlflow) (4.0.11)\r\n",
      "Requirement already satisfied: graphql-core<3.3,>=3.1 in /opt/conda/lib/python3.11/site-packages (from graphene<4->mlflow) (3.2.3)\r\n",
      "Requirement already satisfied: graphql-relay<3.3,>=3.1 in /opt/conda/lib/python3.11/site-packages (from graphene<4->mlflow) (3.2.0)\r\n",
      "Requirement already satisfied: aniso8601<10,>=8 in /opt/conda/lib/python3.11/site-packages (from graphene<4->mlflow) (9.0.1)\r\n",
      "Requirement already satisfied: zipp>=0.5 in /opt/conda/lib/python3.11/site-packages (from importlib-metadata!=4.7.0,<8,>=3.7.0->mlflow) (3.17.0)\r\n",
      "Requirement already satisfied: MarkupSafe>=2.0 in /opt/conda/lib/python3.11/site-packages (from Jinja2<4,>=2.11->mlflow) (2.1.4)\r\n",
      "Requirement already satisfied: contourpy>=1.0.1 in /opt/conda/lib/python3.11/site-packages (from matplotlib<4->mlflow) (1.2.0)\r\n",
      "Requirement already satisfied: cycler>=0.10 in /opt/conda/lib/python3.11/site-packages (from matplotlib<4->mlflow) (0.12.1)\r\n",
      "Requirement already satisfied: fonttools>=4.22.0 in /opt/conda/lib/python3.11/site-packages (from matplotlib<4->mlflow) (4.47.2)\r\n",
      "Requirement already satisfied: kiwisolver>=1.0.1 in /opt/conda/lib/python3.11/site-packages (from matplotlib<4->mlflow) (1.4.5)\r\n",
      "Requirement already satisfied: pillow>=6.2.0 in /opt/conda/lib/python3.11/site-packages (from matplotlib<4->mlflow) (10.2.0)\r\n",
      "Requirement already satisfied: pyparsing>=2.3.1 in /opt/conda/lib/python3.11/site-packages (from matplotlib<4->mlflow) (3.1.1)\r\n",
      "Requirement already satisfied: python-dateutil>=2.7 in /opt/conda/lib/python3.11/site-packages (from matplotlib<4->mlflow) (2.8.2)\r\n",
      "Requirement already satisfied: tzdata>=2022.1 in /opt/conda/lib/python3.11/site-packages (from pandas<3->mlflow) (2023.4)\r\n",
      "Requirement already satisfied: six in /opt/conda/lib/python3.11/site-packages (from querystring-parser<2->mlflow) (1.16.0)\r\n",
      "Requirement already satisfied: charset-normalizer<4,>=2 in /opt/conda/lib/python3.11/site-packages (from requests<3,>=2.17.3->mlflow) (3.3.2)\r\n",
      "Requirement already satisfied: idna<4,>=2.5 in /opt/conda/lib/python3.11/site-packages (from requests<3,>=2.17.3->mlflow) (3.6)\r\n",
      "Requirement already satisfied: certifi>=2017.4.17 in /opt/conda/lib/python3.11/site-packages (from requests<3,>=2.17.3->mlflow) (2023.11.17)\r\n",
      "Requirement already satisfied: joblib>=1.2.0 in /opt/conda/lib/python3.11/site-packages (from scikit-learn<2->mlflow) (1.3.2)\r\n",
      "Requirement already satisfied: threadpoolctl>=2.0.0 in /opt/conda/lib/python3.11/site-packages (from scikit-learn<2->mlflow) (3.2.0)\r\n",
      "Requirement already satisfied: greenlet!=0.4.17 in /opt/conda/lib/python3.11/site-packages (from sqlalchemy<3,>=1.4.0->mlflow) (3.0.3)\r\n",
      "Requirement already satisfied: smmap<6,>=3.0.1 in /opt/conda/lib/python3.11/site-packages (from gitdb<5,>=4.0.1->gitpython<4,>=3.1.9->mlflow) (5.0.0)\r\n",
      "Looking in indexes: https://pypi.org/simple, https://pypi.ngc.nvidia.com\r\n",
      "Requirement already satisfied: scipy==1.11.4 in /opt/conda/lib/python3.11/site-packages (1.11.4)\r\n",
      "Requirement already satisfied: numpy<1.28.0,>=1.21.6 in /opt/conda/lib/python3.11/site-packages (from scipy==1.11.4) (1.26.3)\r\n",
      "Note: you may need to restart the kernel to use updated packages.\n"
     ]
    }
   ],
   "source": [
    "!pip install pycaret\n",
    "!pip install mlflow\n",
    "%pip install scipy==1.11.4\n",
    "\n",
    "from pycaret.classification import *\n",
    "\n",
    "from pycaret.regression import RegressionExperiment"
   ]
  },
  {
   "cell_type": "code",
   "outputs": [],
   "source": [
    "dataset_file_name = 'work/datasets/processed_actual/merged_full_2024_03_27.csv'"
   ],
   "metadata": {
    "collapsed": false,
    "ExecuteTime": {
     "end_time": "2024-03-27T08:20:34.717829Z",
     "start_time": "2024-03-27T08:20:34.715220Z"
    }
   },
   "id": "21aff06a114f09bf",
   "execution_count": 25
  },
  {
   "cell_type": "code",
   "execution_count": 12,
   "id": "db691b246dff0c78",
   "metadata": {
    "collapsed": false,
    "tags": [],
    "ExecuteTime": {
     "end_time": "2024-03-27T08:18:12.843201Z",
     "start_time": "2024-03-27T08:18:12.550322Z"
    }
   },
   "outputs": [],
   "source": [
    "df = pd.read_csv(dataset_file_name)"
   ]
  },
  {
   "cell_type": "code",
   "execution_count": 13,
   "id": "d56b0a2cbf05e274",
   "metadata": {
    "collapsed": false,
    "tags": [],
    "ExecuteTime": {
     "end_time": "2024-03-27T08:18:14.398972Z",
     "start_time": "2024-03-27T08:18:14.369536Z"
    }
   },
   "outputs": [
    {
     "name": "stdout",
     "output_type": "stream",
     "text": [
      "<class 'pandas.core.frame.DataFrame'>\n",
      "RangeIndex: 239257 entries, 0 to 239256\n",
      "Data columns (total 19 columns):\n",
      " #   Column            Non-Null Count   Dtype  \n",
      "---  ------            --------------   -----  \n",
      " 0   domain            239257 non-null  object \n",
      " 1   tld               239257 non-null  object \n",
      " 2   levels_count      239257 non-null  int64  \n",
      " 3   levels_mad        239257 non-null  float64\n",
      " 4   symbols_count     239257 non-null  int64  \n",
      " 5   vowels_ratio      239257 non-null  float64\n",
      " 6   consonants_ratio  239257 non-null  float64\n",
      " 7   numbers_ratio     239257 non-null  float64\n",
      " 8   points_ratio      239257 non-null  float64\n",
      " 9   special_ratio     239257 non-null  float64\n",
      " 10  unique_ratio      239257 non-null  float64\n",
      " 11  max_repeated      239257 non-null  int64  \n",
      " 12  a_records         239257 non-null  int64  \n",
      " 13  mx_records        239257 non-null  int64  \n",
      " 14  cname_records     239257 non-null  int64  \n",
      " 15  txt_records       239257 non-null  int64  \n",
      " 16  ptr_records       239257 non-null  int64  \n",
      " 17  ptr_ratio         239257 non-null  float64\n",
      " 18  is_legit          239257 non-null  int64  \n",
      "dtypes: float64(8), int64(9), object(2)\n",
      "memory usage: 34.7+ MB\n"
     ]
    }
   ],
   "source": [
    "df.info()"
   ]
  },
  {
   "cell_type": "markdown",
   "id": "1e259d71b765c55f",
   "metadata": {},
   "source": [
    "## Визуализация и анализ собранных данных"
   ]
  },
  {
   "cell_type": "code",
   "execution_count": 14,
   "id": "490b7002af27519d",
   "metadata": {
    "collapsed": false,
    "ExecuteTime": {
     "end_time": "2024-03-27T08:18:20.640049Z",
     "start_time": "2024-03-27T08:18:20.636812Z"
    }
   },
   "outputs": [],
   "source": [
    "plt.style.use('fivethirtyeight')"
   ]
  },
  {
   "cell_type": "code",
   "execution_count": 27,
   "id": "7d4a0869fc710208",
   "metadata": {
    "collapsed": false,
    "ExecuteTime": {
     "end_time": "2024-03-27T09:04:12.953432Z",
     "start_time": "2024-03-27T09:04:12.471637Z"
    }
   },
   "outputs": [
    {
     "data": {
      "text/plain": "<Figure size 800x550 with 1 Axes>",
      "image/png": "[encoded data removed]"
     },
     "metadata": {},
     "output_type": "display_data"
    }
   ],
   "source": [
    "count_by_tld = df.groupby(['tld', 'is_legit']).size().unstack(level=1)\n",
    "count_by_tld = count_by_tld[count_by_tld[1] > 250]\n",
    "\n",
    "count_by_tld.plot(kind='bar')\n",
    "plt.savefig('savefig_tld.png')"
   ]
  },
  {
   "cell_type": "code",
   "execution_count": 28,
   "id": "63e0a503715aa349",
   "metadata": {
    "collapsed": false,
    "ExecuteTime": {
     "end_time": "2024-03-27T09:04:15.361849Z",
     "start_time": "2024-03-27T09:04:15.234885Z"
    }
   },
   "outputs": [
    {
     "data": {
      "text/plain": "<Figure size 800x550 with 1 Axes>",
      "image/png": "[encoded data removed]"
     },
     "metadata": {},
     "output_type": "display_data"
    }
   ],
   "source": [
    "count_by_levels = df.groupby(['levels_count', 'is_legit']).size().unstack(level=1)\n",
    "count_by_levels = count_by_levels[count_by_levels[0] > 5]\n",
    "\n",
    "count_by_levels.plot(kind='bar')\n",
    "plt.savefig('savefig_levels.png')"
   ]
  },
  {
   "cell_type": "code",
   "execution_count": 29,
   "id": "13792df15a00544f",
   "metadata": {
    "collapsed": false,
    "ExecuteTime": {
     "end_time": "2024-03-27T09:04:16.478915Z",
     "start_time": "2024-03-27T09:04:16.306856Z"
    }
   },
   "outputs": [
    {
     "data": {
      "text/plain": "<Figure size 800x550 with 1 Axes>",
      "image/png": "[encoded data removed]"
     },
     "metadata": {},
     "output_type": "display_data"
    }
   ],
   "source": [
    "count_by_a_records = df.groupby(['a_records', 'is_legit']).size().unstack(level=1)\n",
    "count_by_a_records = count_by_a_records[count_by_a_records[1] > 1]\n",
    "\n",
    "count_by_a_records.plot(kind='bar')\n",
    "plt.savefig('savefig_a_records.png')"
   ]
  },
  {
   "cell_type": "code",
   "execution_count": 30,
   "id": "9c4d592ea8865ef3",
   "metadata": {
    "collapsed": false,
    "ExecuteTime": {
     "end_time": "2024-03-27T09:04:17.456119Z",
     "start_time": "2024-03-27T09:04:17.294357Z"
    }
   },
   "outputs": [
    {
     "data": {
      "text/plain": "<Figure size 800x550 with 1 Axes>",
      "image/png": "[encoded data removed]"
     },
     "metadata": {},
     "output_type": "display_data"
    }
   ],
   "source": [
    "count_by_mx_records = df.groupby(['mx_records', 'is_legit']).size().unstack(level=1)\n",
    "count_by_mx_records = count_by_mx_records[count_by_mx_records[1] > 1]\n",
    "\n",
    "count_by_mx_records.plot(kind='bar')\n",
    "plt.savefig('savefig_mx_records.png')"
   ]
  },
  {
   "cell_type": "code",
   "execution_count": 31,
   "id": "da5c10e2cf9399a6",
   "metadata": {
    "collapsed": false,
    "ExecuteTime": {
     "end_time": "2024-03-27T09:04:18.641377Z",
     "start_time": "2024-03-27T09:04:18.454717Z"
    }
   },
   "outputs": [
    {
     "data": {
      "text/plain": "<Figure size 800x550 with 1 Axes>",
      "image/png": "[encoded data removed]"
     },
     "metadata": {},
     "output_type": "display_data"
    }
   ],
   "source": [
    "count_by_txt_records = df.groupby(['txt_records', 'is_legit']).size().unstack(level=1)\n",
    "count_by_txt_records = count_by_txt_records[count_by_txt_records[0] > 5]\n",
    "\n",
    "count_by_txt_records.plot(kind='bar')\n",
    "plt.savefig('savefig_txt_records.png')"
   ]
  },
  {
   "cell_type": "code",
   "execution_count": 32,
   "id": "9f5b630153208fb5",
   "metadata": {
    "collapsed": false,
    "ExecuteTime": {
     "end_time": "2024-03-27T09:04:19.938867Z",
     "start_time": "2024-03-27T09:04:19.678882Z"
    }
   },
   "outputs": [
    {
     "data": {
      "text/plain": "<Figure size 800x550 with 1 Axes>",
      "image/png": "[encoded data removed]"
     },
     "metadata": {},
     "output_type": "display_data"
    }
   ],
   "source": [
    "count_by_length_records = df.groupby(['symbols_count', 'is_legit']).size().unstack(level=1)\n",
    "count_by_length_records = count_by_length_records[count_by_length_records[1] > 1]\n",
    "\n",
    "count_by_length_records.plot(kind='bar')\n",
    "plt.savefig('savefig_length_records.png')"
   ]
  },
  {
   "cell_type": "code",
   "execution_count": 33,
   "id": "4c17e7432ce967c1",
   "metadata": {
    "collapsed": false,
    "ExecuteTime": {
     "end_time": "2024-03-27T09:04:21.183933Z",
     "start_time": "2024-03-27T09:04:21.036084Z"
    }
   },
   "outputs": [
    {
     "data": {
      "text/plain": "<Figure size 800x550 with 1 Axes>",
      "image/png": "[encoded data removed]"
     },
     "metadata": {},
     "output_type": "display_data"
    }
   ],
   "source": [
    "count_by_repeated_records = df.groupby(['max_repeated', 'is_legit']).size().unstack(level=1)\n",
    "# count_by_repeated_records = count_by_repeated_records[count_by_repeated_records[1] > 1]\n",
    "\n",
    "count_by_repeated_records.plot(kind='bar')\n",
    "plt.savefig('savefig_repeated_records.png')"
   ]
  },
  {
   "cell_type": "markdown",
   "id": "6a7e90312fd2dd0",
   "metadata": {},
   "source": [
    "## Семантический анализ"
   ]
  },
  {
   "cell_type": "code",
   "execution_count": 114,
   "id": "169e49b14664d352",
   "metadata": {
    "ExecuteTime": {
     "end_time": "2024-03-24T16:06:41.967527Z",
     "start_time": "2024-03-24T16:06:41.868092Z"
    },
    "collapsed": false
   },
   "outputs": [
    {
     "name": "stdout",
     "output_type": "stream",
     "text": [
      "<class 'pandas.core.frame.DataFrame'>\n",
      "RangeIndex: 183479 entries, 0 to 183478\n",
      "Data columns (total 19 columns):\n",
      " #   Column            Non-Null Count   Dtype  \n",
      "---  ------            --------------   -----  \n",
      " 0   domain            183479 non-null  object \n",
      " 1   tld               183479 non-null  object \n",
      " 2   levels_count      183479 non-null  int64  \n",
      " 3   levels_mad        183479 non-null  float64\n",
      " 4   symbols_count     183479 non-null  int64  \n",
      " 5   vowels_ratio      183479 non-null  float64\n",
      " 6   consonants_ratio  183479 non-null  float64\n",
      " 7   numbers_ratio     183479 non-null  float64\n",
      " 8   points_ratio      183479 non-null  float64\n",
      " 9   special_ratio     183479 non-null  float64\n",
      " 10  unique_ratio      183479 non-null  float64\n",
      " 11  max_repeated      183479 non-null  int64  \n",
      " 12  a_records         183479 non-null  int64  \n",
      " 13  mx_records        183479 non-null  int64  \n",
      " 14  cname_records     183479 non-null  int64  \n",
      " 15  txt_records       183479 non-null  int64  \n",
      " 16  ptr_records       183479 non-null  int64  \n",
      " 17  ptr_ratio         183479 non-null  float64\n",
      " 18  is_legit          183479 non-null  int64  \n",
      "dtypes: float64(8), int64(9), object(2)\n",
      "memory usage: 26.6+ MB\n"
     ]
    }
   ],
   "source": [
    "df.info()"
   ]
  },
  {
   "cell_type": "code",
   "execution_count": 26,
   "id": "a3bc5f8cb54336f",
   "metadata": {
    "collapsed": false,
    "tags": [],
    "ExecuteTime": {
     "end_time": "2024-03-27T08:20:41.287647Z",
     "start_time": "2024-03-27T08:20:40.990996Z"
    }
   },
   "outputs": [],
   "source": [
    "df = pd.read_csv(dataset_file_name)\n",
    "\n",
    "df_semantic = df[\n",
    "    [\"domain\", \"levels_count\", \"levels_mad\", \"symbols_count\", \"vowels_ratio\", \"consonants_ratio\", \"numbers_ratio\",\n",
    "     \"points_ratio\", \"special_ratio\", \"unique_ratio\", \"max_repeated\", \"is_legit\"]]\n",
    "\n",
    "df_semantic = df_semantic.astype({'domain': 'string'})"
   ]
  },
  {
   "cell_type": "code",
   "execution_count": 8,
   "id": "edfcb68d14743647",
   "metadata": {
    "ExecuteTime": {
     "end_time": "2024-03-24T16:34:56.900706Z",
     "start_time": "2024-03-24T16:34:15.982533Z"
    },
    "collapsed": false,
    "tags": []
   },
   "outputs": [
    {
     "name": "stdout",
     "output_type": "stream",
     "text": [
      "[LightGBM] [Warning] There are no meaningful features which satisfy the provided configuration. Decreasing Dataset parameters min_data_in_bin or min_data_in_leaf and re-constructing Dataset might resolve this warning.\n",
      "[LightGBM] [Info] Number of positive: 1, number of negative: 1\n",
      "[LightGBM] [Info] This is the GPU trainer!!\n",
      "[LightGBM] [Info] Total Bins 0\n",
      "[LightGBM] [Info] Number of data points in the train set: 2, number of used features: 0\n",
      "[LightGBM] [Warning] There are no meaningful features which satisfy the provided configuration. Decreasing Dataset parameters min_data_in_bin or min_data_in_leaf and re-constructing Dataset might resolve this warning.\n",
      "[LightGBM] [Warning] Using sparse features with CUDA is currently not supported.\n",
      "[LightGBM] [Info] Number of positive: 1, number of negative: 1\n",
      "[LightGBM] [Warning] There are no meaningful features which satisfy the provided configuration. Decreasing Dataset parameters min_data_in_bin or min_data_in_leaf and re-constructing Dataset might resolve this warning.\n",
      "[LightGBM] [Info] Number of positive: 1, number of negative: 1\n",
      "[LightGBM] [Info] This is the GPU trainer!!\n",
      "[LightGBM] [Info] Total Bins 0\n",
      "[LightGBM] [Info] Number of data points in the train set: 2, number of used features: 0\n",
      "[LightGBM] [Warning] There are no meaningful features which satisfy the provided configuration. Decreasing Dataset parameters min_data_in_bin or min_data_in_leaf and re-constructing Dataset might resolve this warning.\n",
      "[LightGBM] [Warning] Using sparse features with CUDA is currently not supported.\n",
      "[LightGBM] [Info] Number of positive: 1, number of negative: 1\n",
      "[LightGBM] [Warning] There are no meaningful features which satisfy the provided configuration. Decreasing Dataset parameters min_data_in_bin or min_data_in_leaf and re-constructing Dataset might resolve this warning.\n",
      "[LightGBM] [Info] Number of positive: 1, number of negative: 1\n",
      "[LightGBM] [Info] This is the GPU trainer!!\n",
      "[LightGBM] [Info] Total Bins 0\n",
      "[LightGBM] [Info] Number of data points in the train set: 2, number of used features: 0\n",
      "[LightGBM] [Warning] There are no meaningful features which satisfy the provided configuration. Decreasing Dataset parameters min_data_in_bin or min_data_in_leaf and re-constructing Dataset might resolve this warning.\n",
      "[LightGBM] [Warning] Using sparse features with CUDA is currently not supported.\n",
      "[LightGBM] [Info] Number of positive: 1, number of negative: 1\n",
      "[LightGBM] [Warning] There are no meaningful features which satisfy the provided configuration. Decreasing Dataset parameters min_data_in_bin or min_data_in_leaf and re-constructing Dataset might resolve this warning.\n",
      "[LightGBM] [Info] Number of positive: 1, number of negative: 1\n",
      "[LightGBM] [Info] This is the GPU trainer!!\n",
      "[LightGBM] [Info] Total Bins 0\n",
      "[LightGBM] [Info] Number of data points in the train set: 2, number of used features: 0\n",
      "[LightGBM] [Warning] There are no meaningful features which satisfy the provided configuration. Decreasing Dataset parameters min_data_in_bin or min_data_in_leaf and re-constructing Dataset might resolve this warning.\n",
      "[LightGBM] [Warning] Using sparse features with CUDA is currently not supported.\n",
      "[LightGBM] [Info] Number of positive: 1, number of negative: 1\n",
      "[LightGBM] [Warning] There are no meaningful features which satisfy the provided configuration. Decreasing Dataset parameters min_data_in_bin or min_data_in_leaf and re-constructing Dataset might resolve this warning.\n",
      "[LightGBM] [Info] Number of positive: 1, number of negative: 1\n",
      "[LightGBM] [Info] This is the GPU trainer!!\n",
      "[LightGBM] [Info] Total Bins 0\n",
      "[LightGBM] [Info] Number of data points in the train set: 2, number of used features: 0\n",
      "[LightGBM] [Warning] There are no meaningful features which satisfy the provided configuration. Decreasing Dataset parameters min_data_in_bin or min_data_in_leaf and re-constructing Dataset might resolve this warning.\n",
      "[LightGBM] [Warning] Using sparse features with CUDA is currently not supported.\n",
      "[LightGBM] [Info] Number of positive: 1, number of negative: 1\n"
     ]
    },
    {
     "name": "stderr",
     "output_type": "stream",
     "text": [
      "[LightGBM] [Fatal] CUDA Tree Learner was not enabled in this build.\n",
      "Please recompile with CMake option -DUSE_CUDA=1\n",
      "[LightGBM] [Fatal] CUDA Tree Learner was not enabled in this build.\n",
      "Please recompile with CMake option -DUSE_CUDA=1\n",
      "[LightGBM] [Fatal] CUDA Tree Learner was not enabled in this build.\n",
      "Please recompile with CMake option -DUSE_CUDA=1\n",
      "[LightGBM] [Fatal] CUDA Tree Learner was not enabled in this build.\n",
      "Please recompile with CMake option -DUSE_CUDA=1\n",
      "[LightGBM] [Fatal] CUDA Tree Learner was not enabled in this build.\n",
      "Please recompile with CMake option -DUSE_CUDA=1\n"
     ]
    },
    {
     "name": "stdout",
     "output_type": "stream",
     "text": [
      "[LightGBM] [Warning] There are no meaningful features which satisfy the provided configuration. Decreasing Dataset parameters min_data_in_bin or min_data_in_leaf and re-constructing Dataset might resolve this warning.\n",
      "[LightGBM] [Info] Number of positive: 1, number of negative: 1\n",
      "[LightGBM] [Info] This is the GPU trainer!!\n",
      "[LightGBM] [Info] Total Bins 0\n",
      "[LightGBM] [Info] Number of data points in the train set: 2, number of used features: 0\n",
      "[LightGBM] [Warning] There are no meaningful features which satisfy the provided configuration. Decreasing Dataset parameters min_data_in_bin or min_data_in_leaf and re-constructing Dataset might resolve this warning.\n",
      "[LightGBM] [Warning] Using sparse features with CUDA is currently not supported.\n",
      "[LightGBM] [Info] Number of positive: 1, number of negative: 1\n"
     ]
    },
    {
     "name": "stderr",
     "output_type": "stream",
     "text": [
      "[LightGBM] [Fatal] CUDA Tree Learner was not enabled in this build.\n",
      "Please recompile with CMake option -DUSE_CUDA=1\n"
     ]
    },
    {
     "data": {
      "text/html": [
       "<style type=\"text/css\">\n",
       "#T_89f03_row9_col1, #T_89f03_row18_col1 {\n",
       "  background-color: lightgreen;\n",
       "}\n",
       "</style>\n",
       "<table id=\"T_89f03\">\n",
       "  <thead>\n",
       "    <tr>\n",
       "      <th class=\"blank level0\" >&nbsp;</th>\n",
       "      <th id=\"T_89f03_level0_col0\" class=\"col_heading level0 col0\" >Description</th>\n",
       "      <th id=\"T_89f03_level0_col1\" class=\"col_heading level0 col1\" >Value</th>\n",
       "    </tr>\n",
       "  </thead>\n",
       "  <tbody>\n",
       "    <tr>\n",
       "      <th id=\"T_89f03_level0_row0\" class=\"row_heading level0 row0\" >0</th>\n",
       "      <td id=\"T_89f03_row0_col0\" class=\"data row0 col0\" >Session id</td>\n",
       "      <td id=\"T_89f03_row0_col1\" class=\"data row0 col1\" >123</td>\n",
       "    </tr>\n",
       "    <tr>\n",
       "      <th id=\"T_89f03_level0_row1\" class=\"row_heading level0 row1\" >1</th>\n",
       "      <td id=\"T_89f03_row1_col0\" class=\"data row1 col0\" >Target</td>\n",
       "      <td id=\"T_89f03_row1_col1\" class=\"data row1 col1\" >is_legit</td>\n",
       "    </tr>\n",
       "    <tr>\n",
       "      <th id=\"T_89f03_level0_row2\" class=\"row_heading level0 row2\" >2</th>\n",
       "      <td id=\"T_89f03_row2_col0\" class=\"data row2 col0\" >Target type</td>\n",
       "      <td id=\"T_89f03_row2_col1\" class=\"data row2 col1\" >Binary</td>\n",
       "    </tr>\n",
       "    <tr>\n",
       "      <th id=\"T_89f03_level0_row3\" class=\"row_heading level0 row3\" >3</th>\n",
       "      <td id=\"T_89f03_row3_col0\" class=\"data row3 col0\" >Original data shape</td>\n",
       "      <td id=\"T_89f03_row3_col1\" class=\"data row3 col1\" >(183479, 12)</td>\n",
       "    </tr>\n",
       "    <tr>\n",
       "      <th id=\"T_89f03_level0_row4\" class=\"row_heading level0 row4\" >4</th>\n",
       "      <td id=\"T_89f03_row4_col0\" class=\"data row4 col0\" >Transformed data shape</td>\n",
       "      <td id=\"T_89f03_row4_col1\" class=\"data row4 col1\" >(183479, 12)</td>\n",
       "    </tr>\n",
       "    <tr>\n",
       "      <th id=\"T_89f03_level0_row5\" class=\"row_heading level0 row5\" >5</th>\n",
       "      <td id=\"T_89f03_row5_col0\" class=\"data row5 col0\" >Transformed train set shape</td>\n",
       "      <td id=\"T_89f03_row5_col1\" class=\"data row5 col1\" >(128435, 12)</td>\n",
       "    </tr>\n",
       "    <tr>\n",
       "      <th id=\"T_89f03_level0_row6\" class=\"row_heading level0 row6\" >6</th>\n",
       "      <td id=\"T_89f03_row6_col0\" class=\"data row6 col0\" >Transformed test set shape</td>\n",
       "      <td id=\"T_89f03_row6_col1\" class=\"data row6 col1\" >(55044, 12)</td>\n",
       "    </tr>\n",
       "    <tr>\n",
       "      <th id=\"T_89f03_level0_row7\" class=\"row_heading level0 row7\" >7</th>\n",
       "      <td id=\"T_89f03_row7_col0\" class=\"data row7 col0\" >Numeric features</td>\n",
       "      <td id=\"T_89f03_row7_col1\" class=\"data row7 col1\" >10</td>\n",
       "    </tr>\n",
       "    <tr>\n",
       "      <th id=\"T_89f03_level0_row8\" class=\"row_heading level0 row8\" >8</th>\n",
       "      <td id=\"T_89f03_row8_col0\" class=\"data row8 col0\" >Categorical features</td>\n",
       "      <td id=\"T_89f03_row8_col1\" class=\"data row8 col1\" >1</td>\n",
       "    </tr>\n",
       "    <tr>\n",
       "      <th id=\"T_89f03_level0_row9\" class=\"row_heading level0 row9\" >9</th>\n",
       "      <td id=\"T_89f03_row9_col0\" class=\"data row9 col0\" >Preprocess</td>\n",
       "      <td id=\"T_89f03_row9_col1\" class=\"data row9 col1\" >True</td>\n",
       "    </tr>\n",
       "    <tr>\n",
       "      <th id=\"T_89f03_level0_row10\" class=\"row_heading level0 row10\" >10</th>\n",
       "      <td id=\"T_89f03_row10_col0\" class=\"data row10 col0\" >Imputation type</td>\n",
       "      <td id=\"T_89f03_row10_col1\" class=\"data row10 col1\" >simple</td>\n",
       "    </tr>\n",
       "    <tr>\n",
       "      <th id=\"T_89f03_level0_row11\" class=\"row_heading level0 row11\" >11</th>\n",
       "      <td id=\"T_89f03_row11_col0\" class=\"data row11 col0\" >Numeric imputation</td>\n",
       "      <td id=\"T_89f03_row11_col1\" class=\"data row11 col1\" >mean</td>\n",
       "    </tr>\n",
       "    <tr>\n",
       "      <th id=\"T_89f03_level0_row12\" class=\"row_heading level0 row12\" >12</th>\n",
       "      <td id=\"T_89f03_row12_col0\" class=\"data row12 col0\" >Categorical imputation</td>\n",
       "      <td id=\"T_89f03_row12_col1\" class=\"data row12 col1\" >mode</td>\n",
       "    </tr>\n",
       "    <tr>\n",
       "      <th id=\"T_89f03_level0_row13\" class=\"row_heading level0 row13\" >13</th>\n",
       "      <td id=\"T_89f03_row13_col0\" class=\"data row13 col0\" >Maximum one-hot encoding</td>\n",
       "      <td id=\"T_89f03_row13_col1\" class=\"data row13 col1\" >25</td>\n",
       "    </tr>\n",
       "    <tr>\n",
       "      <th id=\"T_89f03_level0_row14\" class=\"row_heading level0 row14\" >14</th>\n",
       "      <td id=\"T_89f03_row14_col0\" class=\"data row14 col0\" >Encoding method</td>\n",
       "      <td id=\"T_89f03_row14_col1\" class=\"data row14 col1\" >None</td>\n",
       "    </tr>\n",
       "    <tr>\n",
       "      <th id=\"T_89f03_level0_row15\" class=\"row_heading level0 row15\" >15</th>\n",
       "      <td id=\"T_89f03_row15_col0\" class=\"data row15 col0\" >Fold Generator</td>\n",
       "      <td id=\"T_89f03_row15_col1\" class=\"data row15 col1\" >StratifiedKFold</td>\n",
       "    </tr>\n",
       "    <tr>\n",
       "      <th id=\"T_89f03_level0_row16\" class=\"row_heading level0 row16\" >16</th>\n",
       "      <td id=\"T_89f03_row16_col0\" class=\"data row16 col0\" >Fold Number</td>\n",
       "      <td id=\"T_89f03_row16_col1\" class=\"data row16 col1\" >10</td>\n",
       "    </tr>\n",
       "    <tr>\n",
       "      <th id=\"T_89f03_level0_row17\" class=\"row_heading level0 row17\" >17</th>\n",
       "      <td id=\"T_89f03_row17_col0\" class=\"data row17 col0\" >CPU Jobs</td>\n",
       "      <td id=\"T_89f03_row17_col1\" class=\"data row17 col1\" >-1</td>\n",
       "    </tr>\n",
       "    <tr>\n",
       "      <th id=\"T_89f03_level0_row18\" class=\"row_heading level0 row18\" >18</th>\n",
       "      <td id=\"T_89f03_row18_col0\" class=\"data row18 col0\" >Use GPU</td>\n",
       "      <td id=\"T_89f03_row18_col1\" class=\"data row18 col1\" >True</td>\n",
       "    </tr>\n",
       "    <tr>\n",
       "      <th id=\"T_89f03_level0_row19\" class=\"row_heading level0 row19\" >19</th>\n",
       "      <td id=\"T_89f03_row19_col0\" class=\"data row19 col0\" >Log Experiment</td>\n",
       "      <td id=\"T_89f03_row19_col1\" class=\"data row19 col1\" >MlflowLogger</td>\n",
       "    </tr>\n",
       "    <tr>\n",
       "      <th id=\"T_89f03_level0_row20\" class=\"row_heading level0 row20\" >20</th>\n",
       "      <td id=\"T_89f03_row20_col0\" class=\"data row20 col0\" >Experiment Name</td>\n",
       "      <td id=\"T_89f03_row20_col1\" class=\"data row20 col1\" >semantic_classification</td>\n",
       "    </tr>\n",
       "    <tr>\n",
       "      <th id=\"T_89f03_level0_row21\" class=\"row_heading level0 row21\" >21</th>\n",
       "      <td id=\"T_89f03_row21_col0\" class=\"data row21 col0\" >USI</td>\n",
       "      <td id=\"T_89f03_row21_col1\" class=\"data row21 col1\" >c75f</td>\n",
       "    </tr>\n",
       "  </tbody>\n",
       "</table>\n"
      ],
      "text/plain": [
       "<pandas.io.formats.style.Styler at 0x7f61befc94d0>"
      ]
     },
     "metadata": {},
     "output_type": "display_data"
    },
    {
     "name": "stderr",
     "output_type": "stream",
     "text": [
      "[LightGBM] [Fatal] CUDA Tree Learner was not enabled in this build.\n",
      "Please recompile with CMake option -DUSE_CUDA=1\n",
      "[LightGBM] [Fatal] CUDA Tree Learner was not enabled in this build.\n",
      "Please recompile with CMake option -DUSE_CUDA=1\n",
      "2024/03/24 19:39:54 INFO mlflow.tracking.fluent: Experiment with name 'semantic_classification' does not exist. Creating a new experiment.\n"
     ]
    },
    {
     "name": "stdout",
     "output_type": "stream",
     "text": [
      "[LightGBM] [Warning] There are no meaningful features which satisfy the provided configuration. Decreasing Dataset parameters min_data_in_bin or min_data_in_leaf and re-constructing Dataset might resolve this warning.\n",
      "[LightGBM] [Info] Number of positive: 1, number of negative: 1\n",
      "[LightGBM] [Info] This is the GPU trainer!!\n",
      "[LightGBM] [Info] Total Bins 0\n",
      "[LightGBM] [Info] Number of data points in the train set: 2, number of used features: 0\n",
      "[LightGBM] [Warning] There are no meaningful features which satisfy the provided configuration. Decreasing Dataset parameters min_data_in_bin or min_data_in_leaf and re-constructing Dataset might resolve this warning.\n",
      "[LightGBM] [Warning] Using sparse features with CUDA is currently not supported.\n",
      "[LightGBM] [Info] Number of positive: 1, number of negative: 1\n",
      "[LightGBM] [Warning] There are no meaningful features which satisfy the provided configuration. Decreasing Dataset parameters min_data_in_bin or min_data_in_leaf and re-constructing Dataset might resolve this warning.\n",
      "[LightGBM] [Info] Number of positive: 1, number of negative: 1\n",
      "[LightGBM] [Info] This is the GPU trainer!!\n",
      "[LightGBM] [Info] Total Bins 0\n",
      "[LightGBM] [Info] Number of data points in the train set: 2, number of used features: 0\n",
      "[LightGBM] [Warning] There are no meaningful features which satisfy the provided configuration. Decreasing Dataset parameters min_data_in_bin or min_data_in_leaf and re-constructing Dataset might resolve this warning.\n",
      "[LightGBM] [Warning] Using sparse features with CUDA is currently not supported.\n",
      "[LightGBM] [Info] Number of positive: 1, number of negative: 1\n"
     ]
    },
    {
     "data": {
      "text/html": [],
      "text/plain": [
       "<IPython.core.display.HTML object>"
      ]
     },
     "metadata": {},
     "output_type": "display_data"
    },
    {
     "data": {
      "text/html": [
       "<style type=\"text/css\">\n",
       "#T_e5afe th {\n",
       "  text-align: left;\n",
       "}\n",
       "#T_e5afe_row0_col0, #T_e5afe_row0_col2, #T_e5afe_row1_col0, #T_e5afe_row1_col1, #T_e5afe_row1_col2, #T_e5afe_row1_col3, #T_e5afe_row1_col4, #T_e5afe_row1_col5, #T_e5afe_row1_col6, #T_e5afe_row1_col7, #T_e5afe_row2_col0, #T_e5afe_row2_col1, #T_e5afe_row2_col2, #T_e5afe_row2_col3, #T_e5afe_row2_col4, #T_e5afe_row2_col5, #T_e5afe_row2_col6, #T_e5afe_row2_col7, #T_e5afe_row3_col0, #T_e5afe_row3_col1, #T_e5afe_row3_col2, #T_e5afe_row3_col3, #T_e5afe_row3_col4, #T_e5afe_row3_col5, #T_e5afe_row3_col6, #T_e5afe_row3_col7, #T_e5afe_row4_col0, #T_e5afe_row4_col1, #T_e5afe_row4_col2, #T_e5afe_row4_col3, #T_e5afe_row4_col4, #T_e5afe_row4_col5, #T_e5afe_row4_col6, #T_e5afe_row4_col7, #T_e5afe_row5_col0, #T_e5afe_row5_col1, #T_e5afe_row5_col3, #T_e5afe_row5_col4, #T_e5afe_row5_col5, #T_e5afe_row5_col6, #T_e5afe_row5_col7, #T_e5afe_row6_col0, #T_e5afe_row6_col1, #T_e5afe_row6_col2, #T_e5afe_row6_col3, #T_e5afe_row6_col4, #T_e5afe_row6_col5, #T_e5afe_row6_col6, #T_e5afe_row6_col7, #T_e5afe_row7_col0, #T_e5afe_row7_col1, #T_e5afe_row7_col2, #T_e5afe_row7_col3, #T_e5afe_row7_col4, #T_e5afe_row7_col5, #T_e5afe_row7_col6, #T_e5afe_row7_col7, #T_e5afe_row8_col0, #T_e5afe_row8_col1, #T_e5afe_row8_col2, #T_e5afe_row8_col3, #T_e5afe_row8_col4, #T_e5afe_row8_col5, #T_e5afe_row8_col6, #T_e5afe_row8_col7, #T_e5afe_row9_col0, #T_e5afe_row9_col1, #T_e5afe_row9_col2, #T_e5afe_row9_col3, #T_e5afe_row9_col4, #T_e5afe_row9_col5, #T_e5afe_row9_col6, #T_e5afe_row9_col7, #T_e5afe_row10_col0, #T_e5afe_row10_col1, #T_e5afe_row10_col2, #T_e5afe_row10_col3, #T_e5afe_row10_col4, #T_e5afe_row10_col5, #T_e5afe_row10_col6, #T_e5afe_row10_col7, #T_e5afe_row11_col0, #T_e5afe_row11_col1, #T_e5afe_row11_col2, #T_e5afe_row11_col3, #T_e5afe_row11_col4, #T_e5afe_row11_col5, #T_e5afe_row11_col6, #T_e5afe_row11_col7, #T_e5afe_row12_col0, #T_e5afe_row12_col1, #T_e5afe_row12_col2, #T_e5afe_row12_col3, #T_e5afe_row12_col4, #T_e5afe_row12_col5, #T_e5afe_row12_col6, #T_e5afe_row12_col7, #T_e5afe_row13_col0, #T_e5afe_row13_col1, #T_e5afe_row13_col2, #T_e5afe_row13_col3, #T_e5afe_row13_col4, #T_e5afe_row13_col5, #T_e5afe_row13_col6, #T_e5afe_row13_col7 {\n",
       "  text-align: left;\n",
       "}\n",
       "#T_e5afe_row0_col1, #T_e5afe_row0_col3, #T_e5afe_row0_col4, #T_e5afe_row0_col5, #T_e5afe_row0_col6, #T_e5afe_row0_col7, #T_e5afe_row5_col2 {\n",
       "  text-align: left;\n",
       "  background-color: yellow;\n",
       "}\n",
       "#T_e5afe_row0_col8, #T_e5afe_row2_col8, #T_e5afe_row3_col8, #T_e5afe_row4_col8, #T_e5afe_row5_col8, #T_e5afe_row6_col8, #T_e5afe_row7_col8, #T_e5afe_row8_col8, #T_e5afe_row9_col8, #T_e5afe_row10_col8, #T_e5afe_row11_col8, #T_e5afe_row12_col8, #T_e5afe_row13_col8 {\n",
       "  text-align: left;\n",
       "  background-color: lightgrey;\n",
       "}\n",
       "#T_e5afe_row1_col8 {\n",
       "  text-align: left;\n",
       "  background-color: yellow;\n",
       "  background-color: lightgrey;\n",
       "}\n",
       "</style>\n",
       "<table id=\"T_e5afe\">\n",
       "  <thead>\n",
       "    <tr>\n",
       "      <th class=\"blank level0\" >&nbsp;</th>\n",
       "      <th id=\"T_e5afe_level0_col0\" class=\"col_heading level0 col0\" >Model</th>\n",
       "      <th id=\"T_e5afe_level0_col1\" class=\"col_heading level0 col1\" >Accuracy</th>\n",
       "      <th id=\"T_e5afe_level0_col2\" class=\"col_heading level0 col2\" >AUC</th>\n",
       "      <th id=\"T_e5afe_level0_col3\" class=\"col_heading level0 col3\" >Recall</th>\n",
       "      <th id=\"T_e5afe_level0_col4\" class=\"col_heading level0 col4\" >Prec.</th>\n",
       "      <th id=\"T_e5afe_level0_col5\" class=\"col_heading level0 col5\" >F1</th>\n",
       "      <th id=\"T_e5afe_level0_col6\" class=\"col_heading level0 col6\" >Kappa</th>\n",
       "      <th id=\"T_e5afe_level0_col7\" class=\"col_heading level0 col7\" >MCC</th>\n",
       "      <th id=\"T_e5afe_level0_col8\" class=\"col_heading level0 col8\" >TT (Sec)</th>\n",
       "    </tr>\n",
       "  </thead>\n",
       "  <tbody>\n",
       "    <tr>\n",
       "      <th id=\"T_e5afe_level0_row0\" class=\"row_heading level0 row0\" >knn</th>\n",
       "      <td id=\"T_e5afe_row0_col0\" class=\"data row0 col0\" >K Neighbors Classifier</td>\n",
       "      <td id=\"T_e5afe_row0_col1\" class=\"data row0 col1\" >0.8933</td>\n",
       "      <td id=\"T_e5afe_row0_col2\" class=\"data row0 col2\" >0.5318</td>\n",
       "      <td id=\"T_e5afe_row0_col3\" class=\"data row0 col3\" >0.0311</td>\n",
       "      <td id=\"T_e5afe_row0_col4\" class=\"data row0 col4\" >0.7499</td>\n",
       "      <td id=\"T_e5afe_row0_col5\" class=\"data row0 col5\" >0.0596</td>\n",
       "      <td id=\"T_e5afe_row0_col6\" class=\"data row0 col6\" >0.0514</td>\n",
       "      <td id=\"T_e5afe_row0_col7\" class=\"data row0 col7\" >0.1383</td>\n",
       "      <td id=\"T_e5afe_row0_col8\" class=\"data row0 col8\" >0.8390</td>\n",
       "    </tr>\n",
       "    <tr>\n",
       "      <th id=\"T_e5afe_level0_row1\" class=\"row_heading level0 row1\" >dummy</th>\n",
       "      <td id=\"T_e5afe_row1_col0\" class=\"data row1 col0\" >Dummy Classifier</td>\n",
       "      <td id=\"T_e5afe_row1_col1\" class=\"data row1 col1\" >0.8910</td>\n",
       "      <td id=\"T_e5afe_row1_col2\" class=\"data row1 col2\" >0.5000</td>\n",
       "      <td id=\"T_e5afe_row1_col3\" class=\"data row1 col3\" >0.0000</td>\n",
       "      <td id=\"T_e5afe_row1_col4\" class=\"data row1 col4\" >0.0000</td>\n",
       "      <td id=\"T_e5afe_row1_col5\" class=\"data row1 col5\" >0.0000</td>\n",
       "      <td id=\"T_e5afe_row1_col6\" class=\"data row1 col6\" >0.0000</td>\n",
       "      <td id=\"T_e5afe_row1_col7\" class=\"data row1 col7\" >0.0000</td>\n",
       "      <td id=\"T_e5afe_row1_col8\" class=\"data row1 col8\" >0.3090</td>\n",
       "    </tr>\n",
       "    <tr>\n",
       "      <th id=\"T_e5afe_level0_row2\" class=\"row_heading level0 row2\" >nb</th>\n",
       "      <td id=\"T_e5afe_row2_col0\" class=\"data row2 col0\" >Naive Bayes</td>\n",
       "      <td id=\"T_e5afe_row2_col1\" class=\"data row2 col1\" >0.8909</td>\n",
       "      <td id=\"T_e5afe_row2_col2\" class=\"data row2 col2\" >0.5000</td>\n",
       "      <td id=\"T_e5afe_row2_col3\" class=\"data row2 col3\" >0.0000</td>\n",
       "      <td id=\"T_e5afe_row2_col4\" class=\"data row2 col4\" >0.0000</td>\n",
       "      <td id=\"T_e5afe_row2_col5\" class=\"data row2 col5\" >0.0000</td>\n",
       "      <td id=\"T_e5afe_row2_col6\" class=\"data row2 col6\" >-0.0002</td>\n",
       "      <td id=\"T_e5afe_row2_col7\" class=\"data row2 col7\" >-0.0032</td>\n",
       "      <td id=\"T_e5afe_row2_col8\" class=\"data row2 col8\" >0.3100</td>\n",
       "    </tr>\n",
       "    <tr>\n",
       "      <th id=\"T_e5afe_level0_row3\" class=\"row_heading level0 row3\" >dt</th>\n",
       "      <td id=\"T_e5afe_row3_col0\" class=\"data row3 col0\" >Decision Tree Classifier</td>\n",
       "      <td id=\"T_e5afe_row3_col1\" class=\"data row3 col1\" >0.8909</td>\n",
       "      <td id=\"T_e5afe_row3_col2\" class=\"data row3 col2\" >0.5000</td>\n",
       "      <td id=\"T_e5afe_row3_col3\" class=\"data row3 col3\" >0.0000</td>\n",
       "      <td id=\"T_e5afe_row3_col4\" class=\"data row3 col4\" >0.0000</td>\n",
       "      <td id=\"T_e5afe_row3_col5\" class=\"data row3 col5\" >0.0000</td>\n",
       "      <td id=\"T_e5afe_row3_col6\" class=\"data row3 col6\" >-0.0002</td>\n",
       "      <td id=\"T_e5afe_row3_col7\" class=\"data row3 col7\" >-0.0027</td>\n",
       "      <td id=\"T_e5afe_row3_col8\" class=\"data row3 col8\" >0.3510</td>\n",
       "    </tr>\n",
       "    <tr>\n",
       "      <th id=\"T_e5afe_level0_row4\" class=\"row_heading level0 row4\" >svm</th>\n",
       "      <td id=\"T_e5afe_row4_col0\" class=\"data row4 col0\" >SVM - Linear Kernel</td>\n",
       "      <td id=\"T_e5afe_row4_col1\" class=\"data row4 col1\" >0.8909</td>\n",
       "      <td id=\"T_e5afe_row4_col2\" class=\"data row4 col2\" >0.0000</td>\n",
       "      <td id=\"T_e5afe_row4_col3\" class=\"data row4 col3\" >0.0002</td>\n",
       "      <td id=\"T_e5afe_row4_col4\" class=\"data row4 col4\" >0.1167</td>\n",
       "      <td id=\"T_e5afe_row4_col5\" class=\"data row4 col5\" >0.0004</td>\n",
       "      <td id=\"T_e5afe_row4_col6\" class=\"data row4 col6\" >0.0002</td>\n",
       "      <td id=\"T_e5afe_row4_col7\" class=\"data row4 col7\" >0.0016</td>\n",
       "      <td id=\"T_e5afe_row4_col8\" class=\"data row4 col8\" >0.3810</td>\n",
       "    </tr>\n",
       "    <tr>\n",
       "      <th id=\"T_e5afe_level0_row5\" class=\"row_heading level0 row5\" >lr</th>\n",
       "      <td id=\"T_e5afe_row5_col0\" class=\"data row5 col0\" >Logistic Regression</td>\n",
       "      <td id=\"T_e5afe_row5_col1\" class=\"data row5 col1\" >0.8909</td>\n",
       "      <td id=\"T_e5afe_row5_col2\" class=\"data row5 col2\" >0.8519</td>\n",
       "      <td id=\"T_e5afe_row5_col3\" class=\"data row5 col3\" >0.0000</td>\n",
       "      <td id=\"T_e5afe_row5_col4\" class=\"data row5 col4\" >0.0000</td>\n",
       "      <td id=\"T_e5afe_row5_col5\" class=\"data row5 col5\" >0.0000</td>\n",
       "      <td id=\"T_e5afe_row5_col6\" class=\"data row5 col6\" >-0.0002</td>\n",
       "      <td id=\"T_e5afe_row5_col7\" class=\"data row5 col7\" >-0.0032</td>\n",
       "      <td id=\"T_e5afe_row5_col8\" class=\"data row5 col8\" >0.6360</td>\n",
       "    </tr>\n",
       "    <tr>\n",
       "      <th id=\"T_e5afe_level0_row6\" class=\"row_heading level0 row6\" >ridge</th>\n",
       "      <td id=\"T_e5afe_row6_col0\" class=\"data row6 col0\" >Ridge Classifier</td>\n",
       "      <td id=\"T_e5afe_row6_col1\" class=\"data row6 col1\" >0.8909</td>\n",
       "      <td id=\"T_e5afe_row6_col2\" class=\"data row6 col2\" >0.0000</td>\n",
       "      <td id=\"T_e5afe_row6_col3\" class=\"data row6 col3\" >0.0000</td>\n",
       "      <td id=\"T_e5afe_row6_col4\" class=\"data row6 col4\" >0.0000</td>\n",
       "      <td id=\"T_e5afe_row6_col5\" class=\"data row6 col5\" >0.0000</td>\n",
       "      <td id=\"T_e5afe_row6_col6\" class=\"data row6 col6\" >-0.0002</td>\n",
       "      <td id=\"T_e5afe_row6_col7\" class=\"data row6 col7\" >-0.0032</td>\n",
       "      <td id=\"T_e5afe_row6_col8\" class=\"data row6 col8\" >0.3190</td>\n",
       "    </tr>\n",
       "    <tr>\n",
       "      <th id=\"T_e5afe_level0_row7\" class=\"row_heading level0 row7\" >rf</th>\n",
       "      <td id=\"T_e5afe_row7_col0\" class=\"data row7 col0\" >Random Forest Classifier</td>\n",
       "      <td id=\"T_e5afe_row7_col1\" class=\"data row7 col1\" >0.8909</td>\n",
       "      <td id=\"T_e5afe_row7_col2\" class=\"data row7 col2\" >0.5186</td>\n",
       "      <td id=\"T_e5afe_row7_col3\" class=\"data row7 col3\" >0.0000</td>\n",
       "      <td id=\"T_e5afe_row7_col4\" class=\"data row7 col4\" >0.0000</td>\n",
       "      <td id=\"T_e5afe_row7_col5\" class=\"data row7 col5\" >0.0000</td>\n",
       "      <td id=\"T_e5afe_row7_col6\" class=\"data row7 col6\" >-0.0002</td>\n",
       "      <td id=\"T_e5afe_row7_col7\" class=\"data row7 col7\" >-0.0032</td>\n",
       "      <td id=\"T_e5afe_row7_col8\" class=\"data row7 col8\" >0.9500</td>\n",
       "    </tr>\n",
       "    <tr>\n",
       "      <th id=\"T_e5afe_level0_row8\" class=\"row_heading level0 row8\" >ada</th>\n",
       "      <td id=\"T_e5afe_row8_col0\" class=\"data row8 col0\" >Ada Boost Classifier</td>\n",
       "      <td id=\"T_e5afe_row8_col1\" class=\"data row8 col1\" >0.8909</td>\n",
       "      <td id=\"T_e5afe_row8_col2\" class=\"data row8 col2\" >0.5328</td>\n",
       "      <td id=\"T_e5afe_row8_col3\" class=\"data row8 col3\" >0.0000</td>\n",
       "      <td id=\"T_e5afe_row8_col4\" class=\"data row8 col4\" >0.0000</td>\n",
       "      <td id=\"T_e5afe_row8_col5\" class=\"data row8 col5\" >0.0000</td>\n",
       "      <td id=\"T_e5afe_row8_col6\" class=\"data row8 col6\" >-0.0002</td>\n",
       "      <td id=\"T_e5afe_row8_col7\" class=\"data row8 col7\" >-0.0032</td>\n",
       "      <td id=\"T_e5afe_row8_col8\" class=\"data row8 col8\" >2.4570</td>\n",
       "    </tr>\n",
       "    <tr>\n",
       "      <th id=\"T_e5afe_level0_row9\" class=\"row_heading level0 row9\" >qda</th>\n",
       "      <td id=\"T_e5afe_row9_col0\" class=\"data row9 col0\" >Quadratic Discriminant Analysis</td>\n",
       "      <td id=\"T_e5afe_row9_col1\" class=\"data row9 col1\" >0.8909</td>\n",
       "      <td id=\"T_e5afe_row9_col2\" class=\"data row9 col2\" >0.5000</td>\n",
       "      <td id=\"T_e5afe_row9_col3\" class=\"data row9 col3\" >0.0000</td>\n",
       "      <td id=\"T_e5afe_row9_col4\" class=\"data row9 col4\" >0.0000</td>\n",
       "      <td id=\"T_e5afe_row9_col5\" class=\"data row9 col5\" >0.0000</td>\n",
       "      <td id=\"T_e5afe_row9_col6\" class=\"data row9 col6\" >-0.0002</td>\n",
       "      <td id=\"T_e5afe_row9_col7\" class=\"data row9 col7\" >-0.0032</td>\n",
       "      <td id=\"T_e5afe_row9_col8\" class=\"data row9 col8\" >0.3600</td>\n",
       "    </tr>\n",
       "    <tr>\n",
       "      <th id=\"T_e5afe_level0_row10\" class=\"row_heading level0 row10\" >gbc</th>\n",
       "      <td id=\"T_e5afe_row10_col0\" class=\"data row10 col0\" >Gradient Boosting Classifier</td>\n",
       "      <td id=\"T_e5afe_row10_col1\" class=\"data row10 col1\" >0.8909</td>\n",
       "      <td id=\"T_e5afe_row10_col2\" class=\"data row10 col2\" >0.5000</td>\n",
       "      <td id=\"T_e5afe_row10_col3\" class=\"data row10 col3\" >0.0000</td>\n",
       "      <td id=\"T_e5afe_row10_col4\" class=\"data row10 col4\" >0.0000</td>\n",
       "      <td id=\"T_e5afe_row10_col5\" class=\"data row10 col5\" >0.0000</td>\n",
       "      <td id=\"T_e5afe_row10_col6\" class=\"data row10 col6\" >-0.0002</td>\n",
       "      <td id=\"T_e5afe_row10_col7\" class=\"data row10 col7\" >-0.0027</td>\n",
       "      <td id=\"T_e5afe_row10_col8\" class=\"data row10 col8\" >4.5660</td>\n",
       "    </tr>\n",
       "    <tr>\n",
       "      <th id=\"T_e5afe_level0_row11\" class=\"row_heading level0 row11\" >lda</th>\n",
       "      <td id=\"T_e5afe_row11_col0\" class=\"data row11 col0\" >Linear Discriminant Analysis</td>\n",
       "      <td id=\"T_e5afe_row11_col1\" class=\"data row11 col1\" >0.8909</td>\n",
       "      <td id=\"T_e5afe_row11_col2\" class=\"data row11 col2\" >0.5000</td>\n",
       "      <td id=\"T_e5afe_row11_col3\" class=\"data row11 col3\" >0.0000</td>\n",
       "      <td id=\"T_e5afe_row11_col4\" class=\"data row11 col4\" >0.0000</td>\n",
       "      <td id=\"T_e5afe_row11_col5\" class=\"data row11 col5\" >0.0000</td>\n",
       "      <td id=\"T_e5afe_row11_col6\" class=\"data row11 col6\" >-0.0002</td>\n",
       "      <td id=\"T_e5afe_row11_col7\" class=\"data row11 col7\" >-0.0032</td>\n",
       "      <td id=\"T_e5afe_row11_col8\" class=\"data row11 col8\" >0.3730</td>\n",
       "    </tr>\n",
       "    <tr>\n",
       "      <th id=\"T_e5afe_level0_row12\" class=\"row_heading level0 row12\" >et</th>\n",
       "      <td id=\"T_e5afe_row12_col0\" class=\"data row12 col0\" >Extra Trees Classifier</td>\n",
       "      <td id=\"T_e5afe_row12_col1\" class=\"data row12 col1\" >0.8909</td>\n",
       "      <td id=\"T_e5afe_row12_col2\" class=\"data row12 col2\" >0.5564</td>\n",
       "      <td id=\"T_e5afe_row12_col3\" class=\"data row12 col3\" >0.0000</td>\n",
       "      <td id=\"T_e5afe_row12_col4\" class=\"data row12 col4\" >0.0000</td>\n",
       "      <td id=\"T_e5afe_row12_col5\" class=\"data row12 col5\" >0.0000</td>\n",
       "      <td id=\"T_e5afe_row12_col6\" class=\"data row12 col6\" >-0.0002</td>\n",
       "      <td id=\"T_e5afe_row12_col7\" class=\"data row12 col7\" >-0.0027</td>\n",
       "      <td id=\"T_e5afe_row12_col8\" class=\"data row12 col8\" >0.7770</td>\n",
       "    </tr>\n",
       "    <tr>\n",
       "      <th id=\"T_e5afe_level0_row13\" class=\"row_heading level0 row13\" >lightgbm</th>\n",
       "      <td id=\"T_e5afe_row13_col0\" class=\"data row13 col0\" >Light Gradient Boosting Machine</td>\n",
       "      <td id=\"T_e5afe_row13_col1\" class=\"data row13 col1\" >0.8909</td>\n",
       "      <td id=\"T_e5afe_row13_col2\" class=\"data row13 col2\" >0.4419</td>\n",
       "      <td id=\"T_e5afe_row13_col3\" class=\"data row13 col3\" >0.0000</td>\n",
       "      <td id=\"T_e5afe_row13_col4\" class=\"data row13 col4\" >0.0000</td>\n",
       "      <td id=\"T_e5afe_row13_col5\" class=\"data row13 col5\" >0.0000</td>\n",
       "      <td id=\"T_e5afe_row13_col6\" class=\"data row13 col6\" >-0.0002</td>\n",
       "      <td id=\"T_e5afe_row13_col7\" class=\"data row13 col7\" >-0.0029</td>\n",
       "      <td id=\"T_e5afe_row13_col8\" class=\"data row13 col8\" >0.5580</td>\n",
       "    </tr>\n",
       "  </tbody>\n",
       "</table>\n"
      ],
      "text/plain": [
       "<pandas.io.formats.style.Styler at 0x7f61bffea810>"
      ]
     },
     "metadata": {},
     "output_type": "display_data"
    },
    {
     "data": {
      "text/html": [],
      "text/plain": [
       "<IPython.core.display.HTML object>"
      ]
     },
     "metadata": {},
     "output_type": "display_data"
    }
   ],
   "source": [
    "s = ClassificationExperiment()\n",
    "s.setup(df_semantic, target='is_legit', session_id=123, use_gpu=True, log_experiment=False, experiment_name='semantic_classification')\n",
    "\n",
    "best_classification_model = s.compare_models()"
   ]
  },
  {
   "cell_type": "code",
   "execution_count": 11,
   "id": "eb9d3719-6d7e-4b75-84a7-d6185354a121",
   "metadata": {
    "tags": []
   },
   "outputs": [
    {
     "name": "stdout",
     "output_type": "stream",
     "text": [
      "[LightGBM] [Warning] There are no meaningful features which satisfy the provided configuration. Decreasing Dataset parameters min_data_in_bin or min_data_in_leaf and re-constructing Dataset might resolve this warning.\n",
      "[LightGBM] [Info] This is the GPU trainer!!\n",
      "[LightGBM] [Info] Total Bins 0\n",
      "[LightGBM] [Info] Number of data points in the train set: 2, number of used features: 0\n",
      "[LightGBM] [Warning] There are no meaningful features which satisfy the provided configuration. Decreasing Dataset parameters min_data_in_bin or min_data_in_leaf and re-constructing Dataset might resolve this warning.\n",
      "[LightGBM] [Warning] Using sparse features with CUDA is currently not supported.\n",
      "[LightGBM] [Warning] There are no meaningful features which satisfy the provided configuration. Decreasing Dataset parameters min_data_in_bin or min_data_in_leaf and re-constructing Dataset might resolve this warning.\n",
      "[LightGBM] [Info] This is the GPU trainer!!\n",
      "[LightGBM] [Info] Total Bins 0\n",
      "[LightGBM] [Info] Number of data points in the train set: 2, number of used features: 0\n",
      "[LightGBM] [Warning] There are no meaningful features which satisfy the provided configuration. Decreasing Dataset parameters min_data_in_bin or min_data_in_leaf and re-constructing Dataset might resolve this warning.\n",
      "[LightGBM] [Warning] Using sparse features with CUDA is currently not supported.\n"
     ]
    },
    {
     "name": "stderr",
     "output_type": "stream",
     "text": [
      "[LightGBM] [Fatal] CUDA Tree Learner was not enabled in this build.\n",
      "Please recompile with CMake option -DUSE_CUDA=1\n",
      "[LightGBM] [Fatal] CUDA Tree Learner was not enabled in this build.\n",
      "Please recompile with CMake option -DUSE_CUDA=1\n"
     ]
    },
    {
     "name": "stdout",
     "output_type": "stream",
     "text": [
      "[LightGBM] [Warning] There are no meaningful features which satisfy the provided configuration. Decreasing Dataset parameters min_data_in_bin or min_data_in_leaf and re-constructing Dataset might resolve this warning.\n",
      "[LightGBM] [Info] This is the GPU trainer!!\n",
      "[LightGBM] [Info] Total Bins 0\n",
      "[LightGBM] [Info] Number of data points in the train set: 2, number of used features: 0\n",
      "[LightGBM] [Warning] There are no meaningful features which satisfy the provided configuration. Decreasing Dataset parameters min_data_in_bin or min_data_in_leaf and re-constructing Dataset might resolve this warning.\n",
      "[LightGBM] [Warning] Using sparse features with CUDA is currently not supported.\n",
      "[LightGBM] [Warning] There are no meaningful features which satisfy the provided configuration. Decreasing Dataset parameters min_data_in_bin or min_data_in_leaf and re-constructing Dataset might resolve this warning.\n",
      "[LightGBM] [Info] This is the GPU trainer!!\n",
      "[LightGBM] [Info] Total Bins 0\n",
      "[LightGBM] [Info] Number of data points in the train set: 2, number of used features: 0\n",
      "[LightGBM] [Warning] There are no meaningful features which satisfy the provided configuration. Decreasing Dataset parameters min_data_in_bin or min_data_in_leaf and re-constructing Dataset might resolve this warning.\n",
      "[LightGBM] [Warning] Using sparse features with CUDA is currently not supported.\n"
     ]
    },
    {
     "name": "stderr",
     "output_type": "stream",
     "text": [
      "[LightGBM] [Fatal] CUDA Tree Learner was not enabled in this build.\n",
      "Please recompile with CMake option -DUSE_CUDA=1\n",
      "[LightGBM] [Fatal] CUDA Tree Learner was not enabled in this build.\n",
      "Please recompile with CMake option -DUSE_CUDA=1\n"
     ]
    },
    {
     "name": "stdout",
     "output_type": "stream",
     "text": [
      "[LightGBM] [Warning] There are no meaningful features which satisfy the provided configuration. Decreasing Dataset parameters min_data_in_bin or min_data_in_leaf and re-constructing Dataset might resolve this warning.\n",
      "[LightGBM] [Info] This is the GPU trainer!!\n",
      "[LightGBM] [Info] Total Bins 0\n",
      "[LightGBM] [Info] Number of data points in the train set: 2, number of used features: 0\n",
      "[LightGBM] [Warning] There are no meaningful features which satisfy the provided configuration. Decreasing Dataset parameters min_data_in_bin or min_data_in_leaf and re-constructing Dataset might resolve this warning.\n",
      "[LightGBM] [Warning] Using sparse features with CUDA is currently not supported.\n",
      "[LightGBM] [Warning] There are no meaningful features which satisfy the provided configuration. Decreasing Dataset parameters min_data_in_bin or min_data_in_leaf and re-constructing Dataset might resolve this warning.\n",
      "[LightGBM] [Info] This is the GPU trainer!!\n",
      "[LightGBM] [Info] Total Bins 0\n",
      "[LightGBM] [Info] Number of data points in the train set: 2, number of used features: 0\n",
      "[LightGBM] [Warning] There are no meaningful features which satisfy the provided configuration. Decreasing Dataset parameters min_data_in_bin or min_data_in_leaf and re-constructing Dataset might resolve this warning.\n",
      "[LightGBM] [Warning] Using sparse features with CUDA is currently not supported.\n"
     ]
    },
    {
     "name": "stderr",
     "output_type": "stream",
     "text": [
      "[LightGBM] [Fatal] CUDA Tree Learner was not enabled in this build.\n",
      "Please recompile with CMake option -DUSE_CUDA=1\n",
      "[LightGBM] [Fatal] CUDA Tree Learner was not enabled in this build.\n",
      "Please recompile with CMake option -DUSE_CUDA=1\n"
     ]
    },
    {
     "name": "stdout",
     "output_type": "stream",
     "text": [
      "[LightGBM] [Warning] There are no meaningful features which satisfy the provided configuration. Decreasing Dataset parameters min_data_in_bin or min_data_in_leaf and re-constructing Dataset might resolve this warning.\n",
      "[LightGBM] [Info] This is the GPU trainer!!\n",
      "[LightGBM] [Info] Total Bins 0\n",
      "[LightGBM] [Info] Number of data points in the train set: 2, number of used features: 0\n",
      "[LightGBM] [Warning] There are no meaningful features which satisfy the provided configuration. Decreasing Dataset parameters min_data_in_bin or min_data_in_leaf and re-constructing Dataset might resolve this warning.\n",
      "[LightGBM] [Warning] Using sparse features with CUDA is currently not supported.\n",
      "[LightGBM] [Warning] There are no meaningful features which satisfy the provided configuration. Decreasing Dataset parameters min_data_in_bin or min_data_in_leaf and re-constructing Dataset might resolve this warning.\n",
      "[LightGBM] [Info] This is the GPU trainer!!\n",
      "[LightGBM] [Info] Total Bins 0\n",
      "[LightGBM] [Info] Number of data points in the train set: 2, number of used features: 0\n",
      "[LightGBM] [Warning] There are no meaningful features which satisfy the provided configuration. Decreasing Dataset parameters min_data_in_bin or min_data_in_leaf and re-constructing Dataset might resolve this warning.\n",
      "[LightGBM] [Warning] Using sparse features with CUDA is currently not supported.\n"
     ]
    },
    {
     "name": "stderr",
     "output_type": "stream",
     "text": [
      "[LightGBM] [Fatal] CUDA Tree Learner was not enabled in this build.\n",
      "Please recompile with CMake option -DUSE_CUDA=1\n",
      "[LightGBM] [Fatal] CUDA Tree Learner was not enabled in this build.\n",
      "Please recompile with CMake option -DUSE_CUDA=1\n"
     ]
    },
    {
     "name": "stdout",
     "output_type": "stream",
     "text": [
      "[LightGBM] [Warning] There are no meaningful features which satisfy the provided configuration. Decreasing Dataset parameters min_data_in_bin or min_data_in_leaf and re-constructing Dataset might resolve this warning.\n",
      "[LightGBM] [Info] This is the GPU trainer!!\n",
      "[LightGBM] [Info] Total Bins 0\n",
      "[LightGBM] [Info] Number of data points in the train set: 2, number of used features: 0\n",
      "[LightGBM] [Warning] There are no meaningful features which satisfy the provided configuration. Decreasing Dataset parameters min_data_in_bin or min_data_in_leaf and re-constructing Dataset might resolve this warning.\n",
      "[LightGBM] [Warning] Using sparse features with CUDA is currently not supported.\n",
      "[LightGBM] [Warning] There are no meaningful features which satisfy the provided configuration. Decreasing Dataset parameters min_data_in_bin or min_data_in_leaf and re-constructing Dataset might resolve this warning.\n",
      "[LightGBM] [Info] This is the GPU trainer!!\n",
      "[LightGBM] [Info] Total Bins 0\n",
      "[LightGBM] [Info] Number of data points in the train set: 2, number of used features: 0\n",
      "[LightGBM] [Warning] There are no meaningful features which satisfy the provided configuration. Decreasing Dataset parameters min_data_in_bin or min_data_in_leaf and re-constructing Dataset might resolve this warning.\n",
      "[LightGBM] [Warning] Using sparse features with CUDA is currently not supported.\n"
     ]
    },
    {
     "name": "stderr",
     "output_type": "stream",
     "text": [
      "[LightGBM] [Fatal] CUDA Tree Learner was not enabled in this build.\n",
      "Please recompile with CMake option -DUSE_CUDA=1\n",
      "[LightGBM] [Fatal] CUDA Tree Learner was not enabled in this build.\n",
      "Please recompile with CMake option -DUSE_CUDA=1\n"
     ]
    },
    {
     "name": "stdout",
     "output_type": "stream",
     "text": [
      "[LightGBM] [Warning] There are no meaningful features which satisfy the provided configuration. Decreasing Dataset parameters min_data_in_bin or min_data_in_leaf and re-constructing Dataset might resolve this warning.\n",
      "[LightGBM] [Info] This is the GPU trainer!!\n",
      "[LightGBM] [Info] Total Bins 0\n",
      "[LightGBM] [Info] Number of data points in the train set: 2, number of used features: 0\n",
      "[LightGBM] [Warning] There are no meaningful features which satisfy the provided configuration. Decreasing Dataset parameters min_data_in_bin or min_data_in_leaf and re-constructing Dataset might resolve this warning.\n",
      "[LightGBM] [Warning] Using sparse features with CUDA is currently not supported.\n",
      "[LightGBM] [Warning] There are no meaningful features which satisfy the provided configuration. Decreasing Dataset parameters min_data_in_bin or min_data_in_leaf and re-constructing Dataset might resolve this warning.\n",
      "[LightGBM] [Info] This is the GPU trainer!!\n",
      "[LightGBM] [Info] Total Bins 0\n",
      "[LightGBM] [Info] Number of data points in the train set: 2, number of used features: 0\n",
      "[LightGBM] [Warning] There are no meaningful features which satisfy the provided configuration. Decreasing Dataset parameters min_data_in_bin or min_data_in_leaf and re-constructing Dataset might resolve this warning.\n",
      "[LightGBM] [Warning] Using sparse features with CUDA is currently not supported.\n"
     ]
    },
    {
     "name": "stderr",
     "output_type": "stream",
     "text": [
      "[LightGBM] [Fatal] CUDA Tree Learner was not enabled in this build.\n",
      "Please recompile with CMake option -DUSE_CUDA=1\n",
      "[LightGBM] [Fatal] CUDA Tree Learner was not enabled in this build.\n",
      "Please recompile with CMake option -DUSE_CUDA=1\n"
     ]
    },
    {
     "data": {
      "text/html": [
       "<style type=\"text/css\">\n",
       "#T_42bbe_row9_col1, #T_42bbe_row18_col1 {\n",
       "  background-color: lightgreen;\n",
       "}\n",
       "</style>\n",
       "<table id=\"T_42bbe\">\n",
       "  <thead>\n",
       "    <tr>\n",
       "      <th class=\"blank level0\" >&nbsp;</th>\n",
       "      <th id=\"T_42bbe_level0_col0\" class=\"col_heading level0 col0\" >Description</th>\n",
       "      <th id=\"T_42bbe_level0_col1\" class=\"col_heading level0 col1\" >Value</th>\n",
       "    </tr>\n",
       "  </thead>\n",
       "  <tbody>\n",
       "    <tr>\n",
       "      <th id=\"T_42bbe_level0_row0\" class=\"row_heading level0 row0\" >0</th>\n",
       "      <td id=\"T_42bbe_row0_col0\" class=\"data row0 col0\" >Session id</td>\n",
       "      <td id=\"T_42bbe_row0_col1\" class=\"data row0 col1\" >123</td>\n",
       "    </tr>\n",
       "    <tr>\n",
       "      <th id=\"T_42bbe_level0_row1\" class=\"row_heading level0 row1\" >1</th>\n",
       "      <td id=\"T_42bbe_row1_col0\" class=\"data row1 col0\" >Target</td>\n",
       "      <td id=\"T_42bbe_row1_col1\" class=\"data row1 col1\" >is_legit</td>\n",
       "    </tr>\n",
       "    <tr>\n",
       "      <th id=\"T_42bbe_level0_row2\" class=\"row_heading level0 row2\" >2</th>\n",
       "      <td id=\"T_42bbe_row2_col0\" class=\"data row2 col0\" >Target type</td>\n",
       "      <td id=\"T_42bbe_row2_col1\" class=\"data row2 col1\" >Regression</td>\n",
       "    </tr>\n",
       "    <tr>\n",
       "      <th id=\"T_42bbe_level0_row3\" class=\"row_heading level0 row3\" >3</th>\n",
       "      <td id=\"T_42bbe_row3_col0\" class=\"data row3 col0\" >Original data shape</td>\n",
       "      <td id=\"T_42bbe_row3_col1\" class=\"data row3 col1\" >(183479, 12)</td>\n",
       "    </tr>\n",
       "    <tr>\n",
       "      <th id=\"T_42bbe_level0_row4\" class=\"row_heading level0 row4\" >4</th>\n",
       "      <td id=\"T_42bbe_row4_col0\" class=\"data row4 col0\" >Transformed data shape</td>\n",
       "      <td id=\"T_42bbe_row4_col1\" class=\"data row4 col1\" >(183479, 12)</td>\n",
       "    </tr>\n",
       "    <tr>\n",
       "      <th id=\"T_42bbe_level0_row5\" class=\"row_heading level0 row5\" >5</th>\n",
       "      <td id=\"T_42bbe_row5_col0\" class=\"data row5 col0\" >Transformed train set shape</td>\n",
       "      <td id=\"T_42bbe_row5_col1\" class=\"data row5 col1\" >(128435, 12)</td>\n",
       "    </tr>\n",
       "    <tr>\n",
       "      <th id=\"T_42bbe_level0_row6\" class=\"row_heading level0 row6\" >6</th>\n",
       "      <td id=\"T_42bbe_row6_col0\" class=\"data row6 col0\" >Transformed test set shape</td>\n",
       "      <td id=\"T_42bbe_row6_col1\" class=\"data row6 col1\" >(55044, 12)</td>\n",
       "    </tr>\n",
       "    <tr>\n",
       "      <th id=\"T_42bbe_level0_row7\" class=\"row_heading level0 row7\" >7</th>\n",
       "      <td id=\"T_42bbe_row7_col0\" class=\"data row7 col0\" >Numeric features</td>\n",
       "      <td id=\"T_42bbe_row7_col1\" class=\"data row7 col1\" >10</td>\n",
       "    </tr>\n",
       "    <tr>\n",
       "      <th id=\"T_42bbe_level0_row8\" class=\"row_heading level0 row8\" >8</th>\n",
       "      <td id=\"T_42bbe_row8_col0\" class=\"data row8 col0\" >Categorical features</td>\n",
       "      <td id=\"T_42bbe_row8_col1\" class=\"data row8 col1\" >1</td>\n",
       "    </tr>\n",
       "    <tr>\n",
       "      <th id=\"T_42bbe_level0_row9\" class=\"row_heading level0 row9\" >9</th>\n",
       "      <td id=\"T_42bbe_row9_col0\" class=\"data row9 col0\" >Preprocess</td>\n",
       "      <td id=\"T_42bbe_row9_col1\" class=\"data row9 col1\" >True</td>\n",
       "    </tr>\n",
       "    <tr>\n",
       "      <th id=\"T_42bbe_level0_row10\" class=\"row_heading level0 row10\" >10</th>\n",
       "      <td id=\"T_42bbe_row10_col0\" class=\"data row10 col0\" >Imputation type</td>\n",
       "      <td id=\"T_42bbe_row10_col1\" class=\"data row10 col1\" >simple</td>\n",
       "    </tr>\n",
       "    <tr>\n",
       "      <th id=\"T_42bbe_level0_row11\" class=\"row_heading level0 row11\" >11</th>\n",
       "      <td id=\"T_42bbe_row11_col0\" class=\"data row11 col0\" >Numeric imputation</td>\n",
       "      <td id=\"T_42bbe_row11_col1\" class=\"data row11 col1\" >mean</td>\n",
       "    </tr>\n",
       "    <tr>\n",
       "      <th id=\"T_42bbe_level0_row12\" class=\"row_heading level0 row12\" >12</th>\n",
       "      <td id=\"T_42bbe_row12_col0\" class=\"data row12 col0\" >Categorical imputation</td>\n",
       "      <td id=\"T_42bbe_row12_col1\" class=\"data row12 col1\" >mode</td>\n",
       "    </tr>\n",
       "    <tr>\n",
       "      <th id=\"T_42bbe_level0_row13\" class=\"row_heading level0 row13\" >13</th>\n",
       "      <td id=\"T_42bbe_row13_col0\" class=\"data row13 col0\" >Maximum one-hot encoding</td>\n",
       "      <td id=\"T_42bbe_row13_col1\" class=\"data row13 col1\" >25</td>\n",
       "    </tr>\n",
       "    <tr>\n",
       "      <th id=\"T_42bbe_level0_row14\" class=\"row_heading level0 row14\" >14</th>\n",
       "      <td id=\"T_42bbe_row14_col0\" class=\"data row14 col0\" >Encoding method</td>\n",
       "      <td id=\"T_42bbe_row14_col1\" class=\"data row14 col1\" >None</td>\n",
       "    </tr>\n",
       "    <tr>\n",
       "      <th id=\"T_42bbe_level0_row15\" class=\"row_heading level0 row15\" >15</th>\n",
       "      <td id=\"T_42bbe_row15_col0\" class=\"data row15 col0\" >Fold Generator</td>\n",
       "      <td id=\"T_42bbe_row15_col1\" class=\"data row15 col1\" >KFold</td>\n",
       "    </tr>\n",
       "    <tr>\n",
       "      <th id=\"T_42bbe_level0_row16\" class=\"row_heading level0 row16\" >16</th>\n",
       "      <td id=\"T_42bbe_row16_col0\" class=\"data row16 col0\" >Fold Number</td>\n",
       "      <td id=\"T_42bbe_row16_col1\" class=\"data row16 col1\" >10</td>\n",
       "    </tr>\n",
       "    <tr>\n",
       "      <th id=\"T_42bbe_level0_row17\" class=\"row_heading level0 row17\" >17</th>\n",
       "      <td id=\"T_42bbe_row17_col0\" class=\"data row17 col0\" >CPU Jobs</td>\n",
       "      <td id=\"T_42bbe_row17_col1\" class=\"data row17 col1\" >-1</td>\n",
       "    </tr>\n",
       "    <tr>\n",
       "      <th id=\"T_42bbe_level0_row18\" class=\"row_heading level0 row18\" >18</th>\n",
       "      <td id=\"T_42bbe_row18_col0\" class=\"data row18 col0\" >Use GPU</td>\n",
       "      <td id=\"T_42bbe_row18_col1\" class=\"data row18 col1\" >True</td>\n",
       "    </tr>\n",
       "    <tr>\n",
       "      <th id=\"T_42bbe_level0_row19\" class=\"row_heading level0 row19\" >19</th>\n",
       "      <td id=\"T_42bbe_row19_col0\" class=\"data row19 col0\" >Log Experiment</td>\n",
       "      <td id=\"T_42bbe_row19_col1\" class=\"data row19 col1\" >False</td>\n",
       "    </tr>\n",
       "    <tr>\n",
       "      <th id=\"T_42bbe_level0_row20\" class=\"row_heading level0 row20\" >20</th>\n",
       "      <td id=\"T_42bbe_row20_col0\" class=\"data row20 col0\" >Experiment Name</td>\n",
       "      <td id=\"T_42bbe_row20_col1\" class=\"data row20 col1\" >semantic_classification</td>\n",
       "    </tr>\n",
       "    <tr>\n",
       "      <th id=\"T_42bbe_level0_row21\" class=\"row_heading level0 row21\" >21</th>\n",
       "      <td id=\"T_42bbe_row21_col0\" class=\"data row21 col0\" >USI</td>\n",
       "      <td id=\"T_42bbe_row21_col1\" class=\"data row21 col1\" >9671</td>\n",
       "    </tr>\n",
       "  </tbody>\n",
       "</table>\n"
      ],
      "text/plain": [
       "<pandas.io.formats.style.Styler at 0x7f61c5416390>"
      ]
     },
     "metadata": {},
     "output_type": "display_data"
    },
    {
     "name": "stdout",
     "output_type": "stream",
     "text": [
      "[LightGBM] [Warning] There are no meaningful features which satisfy the provided configuration. Decreasing Dataset parameters min_data_in_bin or min_data_in_leaf and re-constructing Dataset might resolve this warning.\n",
      "[LightGBM] [Info] This is the GPU trainer!!\n",
      "[LightGBM] [Info] Total Bins 0\n",
      "[LightGBM] [Info] Number of data points in the train set: 2, number of used features: 0\n",
      "[LightGBM] [Warning] There are no meaningful features which satisfy the provided configuration. Decreasing Dataset parameters min_data_in_bin or min_data_in_leaf and re-constructing Dataset might resolve this warning.\n",
      "[LightGBM] [Warning] Using sparse features with CUDA is currently not supported.\n",
      "[LightGBM] [Warning] There are no meaningful features which satisfy the provided configuration. Decreasing Dataset parameters min_data_in_bin or min_data_in_leaf and re-constructing Dataset might resolve this warning.\n",
      "[LightGBM] [Info] This is the GPU trainer!!\n",
      "[LightGBM] [Info] Total Bins 0\n",
      "[LightGBM] [Info] Number of data points in the train set: 2, number of used features: 0\n",
      "[LightGBM] [Warning] There are no meaningful features which satisfy the provided configuration. Decreasing Dataset parameters min_data_in_bin or min_data_in_leaf and re-constructing Dataset might resolve this warning.\n",
      "[LightGBM] [Warning] Using sparse features with CUDA is currently not supported.\n"
     ]
    },
    {
     "name": "stderr",
     "output_type": "stream",
     "text": [
      "[LightGBM] [Fatal] CUDA Tree Learner was not enabled in this build.\n",
      "Please recompile with CMake option -DUSE_CUDA=1\n",
      "[LightGBM] [Fatal] CUDA Tree Learner was not enabled in this build.\n",
      "Please recompile with CMake option -DUSE_CUDA=1\n"
     ]
    },
    {
     "data": {
      "text/html": [],
      "text/plain": [
       "<IPython.core.display.HTML object>"
      ]
     },
     "metadata": {},
     "output_type": "display_data"
    },
    {
     "data": {
      "text/html": [
       "<style type=\"text/css\">\n",
       "#T_d34d7 th {\n",
       "  text-align: left;\n",
       "}\n",
       "#T_d34d7_row0_col0, #T_d34d7_row0_col1, #T_d34d7_row0_col6, #T_d34d7_row1_col0, #T_d34d7_row1_col1, #T_d34d7_row1_col2, #T_d34d7_row1_col3, #T_d34d7_row1_col4, #T_d34d7_row1_col5, #T_d34d7_row1_col6, #T_d34d7_row2_col0, #T_d34d7_row2_col1, #T_d34d7_row2_col2, #T_d34d7_row2_col3, #T_d34d7_row2_col4, #T_d34d7_row2_col5, #T_d34d7_row2_col6, #T_d34d7_row3_col0, #T_d34d7_row3_col1, #T_d34d7_row3_col2, #T_d34d7_row3_col3, #T_d34d7_row3_col4, #T_d34d7_row3_col5, #T_d34d7_row3_col6, #T_d34d7_row4_col0, #T_d34d7_row4_col1, #T_d34d7_row4_col2, #T_d34d7_row4_col3, #T_d34d7_row4_col4, #T_d34d7_row4_col5, #T_d34d7_row4_col6, #T_d34d7_row5_col0, #T_d34d7_row5_col1, #T_d34d7_row5_col2, #T_d34d7_row5_col3, #T_d34d7_row5_col4, #T_d34d7_row5_col5, #T_d34d7_row5_col6, #T_d34d7_row6_col0, #T_d34d7_row6_col1, #T_d34d7_row6_col2, #T_d34d7_row6_col3, #T_d34d7_row6_col4, #T_d34d7_row6_col5, #T_d34d7_row6_col6, #T_d34d7_row7_col0, #T_d34d7_row7_col1, #T_d34d7_row7_col2, #T_d34d7_row7_col3, #T_d34d7_row7_col4, #T_d34d7_row7_col5, #T_d34d7_row7_col6, #T_d34d7_row8_col0, #T_d34d7_row8_col1, #T_d34d7_row8_col2, #T_d34d7_row8_col3, #T_d34d7_row8_col4, #T_d34d7_row8_col5, #T_d34d7_row8_col6, #T_d34d7_row9_col0, #T_d34d7_row9_col1, #T_d34d7_row9_col2, #T_d34d7_row9_col3, #T_d34d7_row9_col4, #T_d34d7_row9_col5, #T_d34d7_row10_col0, #T_d34d7_row10_col1, #T_d34d7_row10_col2, #T_d34d7_row10_col3, #T_d34d7_row10_col4, #T_d34d7_row10_col5, #T_d34d7_row10_col6, #T_d34d7_row11_col0, #T_d34d7_row11_col2, #T_d34d7_row11_col3, #T_d34d7_row11_col4, #T_d34d7_row11_col5, #T_d34d7_row11_col6, #T_d34d7_row12_col0, #T_d34d7_row12_col1, #T_d34d7_row12_col2, #T_d34d7_row12_col3, #T_d34d7_row12_col4, #T_d34d7_row12_col5, #T_d34d7_row12_col6, #T_d34d7_row13_col0, #T_d34d7_row13_col1, #T_d34d7_row13_col2, #T_d34d7_row13_col3, #T_d34d7_row13_col4, #T_d34d7_row13_col5, #T_d34d7_row13_col6, #T_d34d7_row14_col0, #T_d34d7_row14_col1, #T_d34d7_row14_col2, #T_d34d7_row14_col3, #T_d34d7_row14_col4, #T_d34d7_row14_col5, #T_d34d7_row14_col6, #T_d34d7_row15_col0, #T_d34d7_row15_col1, #T_d34d7_row15_col2, #T_d34d7_row15_col3, #T_d34d7_row15_col4, #T_d34d7_row15_col5, #T_d34d7_row15_col6, #T_d34d7_row16_col0, #T_d34d7_row16_col1, #T_d34d7_row16_col2, #T_d34d7_row16_col3, #T_d34d7_row16_col4, #T_d34d7_row16_col5, #T_d34d7_row16_col6, #T_d34d7_row17_col0, #T_d34d7_row17_col1, #T_d34d7_row17_col2, #T_d34d7_row17_col3, #T_d34d7_row17_col4, #T_d34d7_row17_col5, #T_d34d7_row17_col6 {\n",
       "  text-align: left;\n",
       "}\n",
       "#T_d34d7_row0_col2, #T_d34d7_row0_col3, #T_d34d7_row0_col4, #T_d34d7_row0_col5, #T_d34d7_row9_col6, #T_d34d7_row11_col1 {\n",
       "  text-align: left;\n",
       "  background-color: yellow;\n",
       "}\n",
       "#T_d34d7_row0_col7, #T_d34d7_row1_col7, #T_d34d7_row2_col7, #T_d34d7_row3_col7, #T_d34d7_row4_col7, #T_d34d7_row5_col7, #T_d34d7_row6_col7, #T_d34d7_row7_col7, #T_d34d7_row9_col7, #T_d34d7_row10_col7, #T_d34d7_row11_col7, #T_d34d7_row12_col7, #T_d34d7_row13_col7, #T_d34d7_row14_col7, #T_d34d7_row15_col7, #T_d34d7_row16_col7, #T_d34d7_row17_col7 {\n",
       "  text-align: left;\n",
       "  background-color: lightgrey;\n",
       "}\n",
       "#T_d34d7_row8_col7 {\n",
       "  text-align: left;\n",
       "  background-color: yellow;\n",
       "  background-color: lightgrey;\n",
       "}\n",
       "</style>\n",
       "<table id=\"T_d34d7\">\n",
       "  <thead>\n",
       "    <tr>\n",
       "      <th class=\"blank level0\" >&nbsp;</th>\n",
       "      <th id=\"T_d34d7_level0_col0\" class=\"col_heading level0 col0\" >Model</th>\n",
       "      <th id=\"T_d34d7_level0_col1\" class=\"col_heading level0 col1\" >MAE</th>\n",
       "      <th id=\"T_d34d7_level0_col2\" class=\"col_heading level0 col2\" >MSE</th>\n",
       "      <th id=\"T_d34d7_level0_col3\" class=\"col_heading level0 col3\" >RMSE</th>\n",
       "      <th id=\"T_d34d7_level0_col4\" class=\"col_heading level0 col4\" >R2</th>\n",
       "      <th id=\"T_d34d7_level0_col5\" class=\"col_heading level0 col5\" >RMSLE</th>\n",
       "      <th id=\"T_d34d7_level0_col6\" class=\"col_heading level0 col6\" >MAPE</th>\n",
       "      <th id=\"T_d34d7_level0_col7\" class=\"col_heading level0 col7\" >TT (Sec)</th>\n",
       "    </tr>\n",
       "  </thead>\n",
       "  <tbody>\n",
       "    <tr>\n",
       "      <th id=\"T_d34d7_level0_row0\" class=\"row_heading level0 row0\" >omp</th>\n",
       "      <td id=\"T_d34d7_row0_col0\" class=\"data row0 col0\" >Orthogonal Matching Pursuit</td>\n",
       "      <td id=\"T_d34d7_row0_col1\" class=\"data row0 col1\" >0.1943</td>\n",
       "      <td id=\"T_d34d7_row0_col2\" class=\"data row0 col2\" >0.0896</td>\n",
       "      <td id=\"T_d34d7_row0_col3\" class=\"data row0 col3\" >0.2994</td>\n",
       "      <td id=\"T_d34d7_row0_col4\" class=\"data row0 col4\" >0.0708</td>\n",
       "      <td id=\"T_d34d7_row0_col5\" class=\"data row0 col5\" >0.2103</td>\n",
       "      <td id=\"T_d34d7_row0_col6\" class=\"data row0 col6\" >0.8285</td>\n",
       "      <td id=\"T_d34d7_row0_col7\" class=\"data row0 col7\" >0.3040</td>\n",
       "    </tr>\n",
       "    <tr>\n",
       "      <th id=\"T_d34d7_level0_row1\" class=\"row_heading level0 row1\" >en</th>\n",
       "      <td id=\"T_d34d7_row1_col0\" class=\"data row1 col0\" >Elastic Net</td>\n",
       "      <td id=\"T_d34d7_row1_col1\" class=\"data row1 col1\" >0.1883</td>\n",
       "      <td id=\"T_d34d7_row1_col2\" class=\"data row1 col2\" >0.0923</td>\n",
       "      <td id=\"T_d34d7_row1_col3\" class=\"data row1 col3\" >0.3037</td>\n",
       "      <td id=\"T_d34d7_row1_col4\" class=\"data row1 col4\" >0.0437</td>\n",
       "      <td id=\"T_d34d7_row1_col5\" class=\"data row1 col5\" >0.2114</td>\n",
       "      <td id=\"T_d34d7_row1_col6\" class=\"data row1 col6\" >0.8677</td>\n",
       "      <td id=\"T_d34d7_row1_col7\" class=\"data row1 col7\" >0.2960</td>\n",
       "    </tr>\n",
       "    <tr>\n",
       "      <th id=\"T_d34d7_level0_row2\" class=\"row_heading level0 row2\" >et</th>\n",
       "      <td id=\"T_d34d7_row2_col0\" class=\"data row2 col0\" >Extra Trees Regressor</td>\n",
       "      <td id=\"T_d34d7_row2_col1\" class=\"data row2 col1\" >0.1881</td>\n",
       "      <td id=\"T_d34d7_row2_col2\" class=\"data row2 col2\" >0.0954</td>\n",
       "      <td id=\"T_d34d7_row2_col3\" class=\"data row2 col3\" >0.3088</td>\n",
       "      <td id=\"T_d34d7_row2_col4\" class=\"data row2 col4\" >0.0117</td>\n",
       "      <td id=\"T_d34d7_row2_col5\" class=\"data row2 col5\" >0.2151</td>\n",
       "      <td id=\"T_d34d7_row2_col6\" class=\"data row2 col6\" >0.8892</td>\n",
       "      <td id=\"T_d34d7_row2_col7\" class=\"data row2 col7\" >0.6520</td>\n",
       "    </tr>\n",
       "    <tr>\n",
       "      <th id=\"T_d34d7_level0_row3\" class=\"row_heading level0 row3\" >ridge</th>\n",
       "      <td id=\"T_d34d7_row3_col0\" class=\"data row3 col0\" >Ridge Regression</td>\n",
       "      <td id=\"T_d34d7_row3_col1\" class=\"data row3 col1\" >0.1914</td>\n",
       "      <td id=\"T_d34d7_row3_col2\" class=\"data row3 col2\" >0.0962</td>\n",
       "      <td id=\"T_d34d7_row3_col3\" class=\"data row3 col3\" >0.3102</td>\n",
       "      <td id=\"T_d34d7_row3_col4\" class=\"data row3 col4\" >0.0026</td>\n",
       "      <td id=\"T_d34d7_row3_col5\" class=\"data row3 col5\" >0.2166</td>\n",
       "      <td id=\"T_d34d7_row3_col6\" class=\"data row3 col6\" >0.8907</td>\n",
       "      <td id=\"T_d34d7_row3_col7\" class=\"data row3 col7\" >0.3130</td>\n",
       "    </tr>\n",
       "    <tr>\n",
       "      <th id=\"T_d34d7_level0_row4\" class=\"row_heading level0 row4\" >br</th>\n",
       "      <td id=\"T_d34d7_row4_col0\" class=\"data row4 col0\" >Bayesian Ridge</td>\n",
       "      <td id=\"T_d34d7_row4_col1\" class=\"data row4 col1\" >0.1916</td>\n",
       "      <td id=\"T_d34d7_row4_col2\" class=\"data row4 col2\" >0.0964</td>\n",
       "      <td id=\"T_d34d7_row4_col3\" class=\"data row4 col3\" >0.3105</td>\n",
       "      <td id=\"T_d34d7_row4_col4\" class=\"data row4 col4\" >0.0009</td>\n",
       "      <td id=\"T_d34d7_row4_col5\" class=\"data row4 col5\" >0.2169</td>\n",
       "      <td id=\"T_d34d7_row4_col6\" class=\"data row4 col6\" >0.8915</td>\n",
       "      <td id=\"T_d34d7_row4_col7\" class=\"data row4 col7\" >0.3630</td>\n",
       "    </tr>\n",
       "    <tr>\n",
       "      <th id=\"T_d34d7_level0_row5\" class=\"row_heading level0 row5\" >lr</th>\n",
       "      <td id=\"T_d34d7_row5_col0\" class=\"data row5 col0\" >Linear Regression</td>\n",
       "      <td id=\"T_d34d7_row5_col1\" class=\"data row5 col1\" >0.1916</td>\n",
       "      <td id=\"T_d34d7_row5_col2\" class=\"data row5 col2\" >0.0964</td>\n",
       "      <td id=\"T_d34d7_row5_col3\" class=\"data row5 col3\" >0.3105</td>\n",
       "      <td id=\"T_d34d7_row5_col4\" class=\"data row5 col4\" >0.0009</td>\n",
       "      <td id=\"T_d34d7_row5_col5\" class=\"data row5 col5\" >0.2169</td>\n",
       "      <td id=\"T_d34d7_row5_col6\" class=\"data row5 col6\" >0.8915</td>\n",
       "      <td id=\"T_d34d7_row5_col7\" class=\"data row5 col7\" >0.3170</td>\n",
       "    </tr>\n",
       "    <tr>\n",
       "      <th id=\"T_d34d7_level0_row6\" class=\"row_heading level0 row6\" >lasso</th>\n",
       "      <td id=\"T_d34d7_row6_col0\" class=\"data row6 col0\" >Lasso Regression</td>\n",
       "      <td id=\"T_d34d7_row6_col1\" class=\"data row6 col1\" >0.1930</td>\n",
       "      <td id=\"T_d34d7_row6_col2\" class=\"data row6 col2\" >0.0965</td>\n",
       "      <td id=\"T_d34d7_row6_col3\" class=\"data row6 col3\" >0.3106</td>\n",
       "      <td id=\"T_d34d7_row6_col4\" class=\"data row6 col4\" >-0.0001</td>\n",
       "      <td id=\"T_d34d7_row6_col5\" class=\"data row6 col5\" >0.2171</td>\n",
       "      <td id=\"T_d34d7_row6_col6\" class=\"data row6 col6\" >0.8918</td>\n",
       "      <td id=\"T_d34d7_row6_col7\" class=\"data row6 col7\" >0.3420</td>\n",
       "    </tr>\n",
       "    <tr>\n",
       "      <th id=\"T_d34d7_level0_row7\" class=\"row_heading level0 row7\" >llar</th>\n",
       "      <td id=\"T_d34d7_row7_col0\" class=\"data row7 col0\" >Lasso Least Angle Regression</td>\n",
       "      <td id=\"T_d34d7_row7_col1\" class=\"data row7 col1\" >0.1930</td>\n",
       "      <td id=\"T_d34d7_row7_col2\" class=\"data row7 col2\" >0.0965</td>\n",
       "      <td id=\"T_d34d7_row7_col3\" class=\"data row7 col3\" >0.3106</td>\n",
       "      <td id=\"T_d34d7_row7_col4\" class=\"data row7 col4\" >-0.0001</td>\n",
       "      <td id=\"T_d34d7_row7_col5\" class=\"data row7 col5\" >0.2171</td>\n",
       "      <td id=\"T_d34d7_row7_col6\" class=\"data row7 col6\" >0.8918</td>\n",
       "      <td id=\"T_d34d7_row7_col7\" class=\"data row7 col7\" >0.3550</td>\n",
       "    </tr>\n",
       "    <tr>\n",
       "      <th id=\"T_d34d7_level0_row8\" class=\"row_heading level0 row8\" >dummy</th>\n",
       "      <td id=\"T_d34d7_row8_col0\" class=\"data row8 col0\" >Dummy Regressor</td>\n",
       "      <td id=\"T_d34d7_row8_col1\" class=\"data row8 col1\" >0.1930</td>\n",
       "      <td id=\"T_d34d7_row8_col2\" class=\"data row8 col2\" >0.0965</td>\n",
       "      <td id=\"T_d34d7_row8_col3\" class=\"data row8 col3\" >0.3106</td>\n",
       "      <td id=\"T_d34d7_row8_col4\" class=\"data row8 col4\" >-0.0001</td>\n",
       "      <td id=\"T_d34d7_row8_col5\" class=\"data row8 col5\" >0.2171</td>\n",
       "      <td id=\"T_d34d7_row8_col6\" class=\"data row8 col6\" >0.8918</td>\n",
       "      <td id=\"T_d34d7_row8_col7\" class=\"data row8 col7\" >0.2780</td>\n",
       "    </tr>\n",
       "    <tr>\n",
       "      <th id=\"T_d34d7_level0_row9\" class=\"row_heading level0 row9\" >par</th>\n",
       "      <td id=\"T_d34d7_row9_col0\" class=\"data row9 col0\" >Passive Aggressive Regressor</td>\n",
       "      <td id=\"T_d34d7_row9_col1\" class=\"data row9 col1\" >0.2321</td>\n",
       "      <td id=\"T_d34d7_row9_col2\" class=\"data row9 col2\" >0.0971</td>\n",
       "      <td id=\"T_d34d7_row9_col3\" class=\"data row9 col3\" >0.3115</td>\n",
       "      <td id=\"T_d34d7_row9_col4\" class=\"data row9 col4\" >-0.0062</td>\n",
       "      <td id=\"T_d34d7_row9_col5\" class=\"data row9 col5\" >0.2251</td>\n",
       "      <td id=\"T_d34d7_row9_col6\" class=\"data row9 col6\" >0.8242</td>\n",
       "      <td id=\"T_d34d7_row9_col7\" class=\"data row9 col7\" >0.3460</td>\n",
       "    </tr>\n",
       "    <tr>\n",
       "      <th id=\"T_d34d7_level0_row10\" class=\"row_heading level0 row10\" >lar</th>\n",
       "      <td id=\"T_d34d7_row10_col0\" class=\"data row10 col0\" >Least Angle Regression</td>\n",
       "      <td id=\"T_d34d7_row10_col1\" class=\"data row10 col1\" >0.1919</td>\n",
       "      <td id=\"T_d34d7_row10_col2\" class=\"data row10 col2\" >0.0971</td>\n",
       "      <td id=\"T_d34d7_row10_col3\" class=\"data row10 col3\" >0.3115</td>\n",
       "      <td id=\"T_d34d7_row10_col4\" class=\"data row10 col4\" >-0.0062</td>\n",
       "      <td id=\"T_d34d7_row10_col5\" class=\"data row10 col5\" >0.2181</td>\n",
       "      <td id=\"T_d34d7_row10_col6\" class=\"data row10 col6\" >0.8915</td>\n",
       "      <td id=\"T_d34d7_row10_col7\" class=\"data row10 col7\" >0.3110</td>\n",
       "    </tr>\n",
       "    <tr>\n",
       "      <th id=\"T_d34d7_level0_row11\" class=\"row_heading level0 row11\" >knn</th>\n",
       "      <td id=\"T_d34d7_row11_col0\" class=\"data row11 col0\" >K Neighbors Regressor</td>\n",
       "      <td id=\"T_d34d7_row11_col1\" class=\"data row11 col1\" >0.1071</td>\n",
       "      <td id=\"T_d34d7_row11_col2\" class=\"data row11 col2\" >0.1048</td>\n",
       "      <td id=\"T_d34d7_row11_col3\" class=\"data row11 col3\" >0.3236</td>\n",
       "      <td id=\"T_d34d7_row11_col4\" class=\"data row11 col4\" >-0.0856</td>\n",
       "      <td id=\"T_d34d7_row11_col5\" class=\"data row11 col5\" >0.2242</td>\n",
       "      <td id=\"T_d34d7_row11_col6\" class=\"data row11 col6\" >0.9707</td>\n",
       "      <td id=\"T_d34d7_row11_col7\" class=\"data row11 col7\" >0.5300</td>\n",
       "    </tr>\n",
       "    <tr>\n",
       "      <th id=\"T_d34d7_level0_row12\" class=\"row_heading level0 row12\" >huber</th>\n",
       "      <td id=\"T_d34d7_row12_col0\" class=\"data row12 col0\" >Huber Regressor</td>\n",
       "      <td id=\"T_d34d7_row12_col1\" class=\"data row12 col1\" >0.1183</td>\n",
       "      <td id=\"T_d34d7_row12_col2\" class=\"data row12 col2\" >0.1070</td>\n",
       "      <td id=\"T_d34d7_row12_col3\" class=\"data row12 col3\" >0.3270</td>\n",
       "      <td id=\"T_d34d7_row12_col4\" class=\"data row12 col4\" >-0.1089</td>\n",
       "      <td id=\"T_d34d7_row12_col5\" class=\"data row12 col5\" >0.2273</td>\n",
       "      <td id=\"T_d34d7_row12_col6\" class=\"data row12 col6\" >0.9842</td>\n",
       "      <td id=\"T_d34d7_row12_col7\" class=\"data row12 col7\" >1.4340</td>\n",
       "    </tr>\n",
       "    <tr>\n",
       "      <th id=\"T_d34d7_level0_row13\" class=\"row_heading level0 row13\" >dt</th>\n",
       "      <td id=\"T_d34d7_row13_col0\" class=\"data row13 col0\" >Decision Tree Regressor</td>\n",
       "      <td id=\"T_d34d7_row13_col1\" class=\"data row13 col1\" >0.1083</td>\n",
       "      <td id=\"T_d34d7_row13_col2\" class=\"data row13 col2\" >0.1083</td>\n",
       "      <td id=\"T_d34d7_row13_col3\" class=\"data row13 col3\" >0.3291</td>\n",
       "      <td id=\"T_d34d7_row13_col4\" class=\"data row13 col4\" >-0.1225</td>\n",
       "      <td id=\"T_d34d7_row13_col5\" class=\"data row13 col5\" >0.2282</td>\n",
       "      <td id=\"T_d34d7_row13_col6\" class=\"data row13 col6\" >1.0000</td>\n",
       "      <td id=\"T_d34d7_row13_col7\" class=\"data row13 col7\" >0.3160</td>\n",
       "    </tr>\n",
       "    <tr>\n",
       "      <th id=\"T_d34d7_level0_row14\" class=\"row_heading level0 row14\" >rf</th>\n",
       "      <td id=\"T_d34d7_row14_col0\" class=\"data row14 col0\" >Random Forest Regressor</td>\n",
       "      <td id=\"T_d34d7_row14_col1\" class=\"data row14 col1\" >0.1083</td>\n",
       "      <td id=\"T_d34d7_row14_col2\" class=\"data row14 col2\" >0.1083</td>\n",
       "      <td id=\"T_d34d7_row14_col3\" class=\"data row14 col3\" >0.3291</td>\n",
       "      <td id=\"T_d34d7_row14_col4\" class=\"data row14 col4\" >-0.1225</td>\n",
       "      <td id=\"T_d34d7_row14_col5\" class=\"data row14 col5\" >0.2282</td>\n",
       "      <td id=\"T_d34d7_row14_col6\" class=\"data row14 col6\" >1.0000</td>\n",
       "      <td id=\"T_d34d7_row14_col7\" class=\"data row14 col7\" >0.7200</td>\n",
       "    </tr>\n",
       "    <tr>\n",
       "      <th id=\"T_d34d7_level0_row15\" class=\"row_heading level0 row15\" >gbr</th>\n",
       "      <td id=\"T_d34d7_row15_col0\" class=\"data row15 col0\" >Gradient Boosting Regressor</td>\n",
       "      <td id=\"T_d34d7_row15_col1\" class=\"data row15 col1\" >0.1083</td>\n",
       "      <td id=\"T_d34d7_row15_col2\" class=\"data row15 col2\" >0.1083</td>\n",
       "      <td id=\"T_d34d7_row15_col3\" class=\"data row15 col3\" >0.3291</td>\n",
       "      <td id=\"T_d34d7_row15_col4\" class=\"data row15 col4\" >-0.1225</td>\n",
       "      <td id=\"T_d34d7_row15_col5\" class=\"data row15 col5\" >0.2282</td>\n",
       "      <td id=\"T_d34d7_row15_col6\" class=\"data row15 col6\" >1.0000</td>\n",
       "      <td id=\"T_d34d7_row15_col7\" class=\"data row15 col7\" >4.4980</td>\n",
       "    </tr>\n",
       "    <tr>\n",
       "      <th id=\"T_d34d7_level0_row16\" class=\"row_heading level0 row16\" >lightgbm</th>\n",
       "      <td id=\"T_d34d7_row16_col0\" class=\"data row16 col0\" >Light Gradient Boosting Machine</td>\n",
       "      <td id=\"T_d34d7_row16_col1\" class=\"data row16 col1\" >0.1083</td>\n",
       "      <td id=\"T_d34d7_row16_col2\" class=\"data row16 col2\" >0.1083</td>\n",
       "      <td id=\"T_d34d7_row16_col3\" class=\"data row16 col3\" >0.3291</td>\n",
       "      <td id=\"T_d34d7_row16_col4\" class=\"data row16 col4\" >-0.1225</td>\n",
       "      <td id=\"T_d34d7_row16_col5\" class=\"data row16 col5\" >0.2282</td>\n",
       "      <td id=\"T_d34d7_row16_col6\" class=\"data row16 col6\" >1.0000</td>\n",
       "      <td id=\"T_d34d7_row16_col7\" class=\"data row16 col7\" >0.6920</td>\n",
       "    </tr>\n",
       "    <tr>\n",
       "      <th id=\"T_d34d7_level0_row17\" class=\"row_heading level0 row17\" >ada</th>\n",
       "      <td id=\"T_d34d7_row17_col0\" class=\"data row17 col0\" >AdaBoost Regressor</td>\n",
       "      <td id=\"T_d34d7_row17_col1\" class=\"data row17 col1\" >0.1083</td>\n",
       "      <td id=\"T_d34d7_row17_col2\" class=\"data row17 col2\" >0.1083</td>\n",
       "      <td id=\"T_d34d7_row17_col3\" class=\"data row17 col3\" >0.3291</td>\n",
       "      <td id=\"T_d34d7_row17_col4\" class=\"data row17 col4\" >-0.1226</td>\n",
       "      <td id=\"T_d34d7_row17_col5\" class=\"data row17 col5\" >0.2282</td>\n",
       "      <td id=\"T_d34d7_row17_col6\" class=\"data row17 col6\" >1.0000</td>\n",
       "      <td id=\"T_d34d7_row17_col7\" class=\"data row17 col7\" >0.7500</td>\n",
       "    </tr>\n",
       "  </tbody>\n",
       "</table>\n"
      ],
      "text/plain": [
       "<pandas.io.formats.style.Styler at 0x7f61be48c950>"
      ]
     },
     "metadata": {},
     "output_type": "display_data"
    },
    {
     "data": {
      "text/html": [],
      "text/plain": [
       "<IPython.core.display.HTML object>"
      ]
     },
     "metadata": {},
     "output_type": "display_data"
    }
   ],
   "source": [
    "r = RegressionExperiment()\n",
    "r.setup(df_semantic, target='is_legit', session_id=123, use_gpu=True, log_experiment=False, experiment_name='semantic_classification')\n",
    "\n",
    "best_regression_model = r.compare_models()"
   ]
  },
  {
   "cell_type": "code",
   "execution_count": null,
   "id": "87749e1b-e890-4321-a91f-b7bb32b7b6b0",
   "metadata": {},
   "outputs": [],
   "source": []
  }
 ],
 "metadata": {
  "kernelspec": {
   "display_name": "Python 3 (ipykernel)",
   "language": "python",
   "name": "python3"
  },
  "language_info": {
   "codemirror_mode": {
    "name": "ipython",
    "version": 3
   },
   "file_extension": ".py",
   "mimetype": "text/x-python",
   "name": "python",
   "nbconvert_exporter": "python",
   "pygments_lexer": "ipython3",
   "version": "3.11.7"
  }
 },
 "nbformat": 4,
 "nbformat_minor": 5
}
