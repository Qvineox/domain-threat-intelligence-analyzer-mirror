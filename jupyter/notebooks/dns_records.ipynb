{
 "cells": [
  {
   "cell_type": "code",
   "execution_count": null,
   "id": "initial_id",
   "metadata": {
    "collapsed": true
   },
   "outputs": [],
   "source": [
    "!nvidia-smi"
   ]
  },
  {
   "cell_type": "code",
   "execution_count": null,
   "id": "f96263aa4fcd7b74",
   "metadata": {},
   "outputs": [],
   "source": [
    "import pandas as pd\n",
    "import numpy as np\n",
    "import matplotlib.pyplot as plt"
   ]
  },
  {
   "cell_type": "code",
   "execution_count": null,
   "id": "83f9abab65e993c7",
   "metadata": {},
   "outputs": [],
   "source": [
    "!pip install pycaret\n",
    "!pip install mlflow\n",
    "!pip install m2cgen\n",
    "\n",
    "%pip install scipy==1.11.4"
   ]
  },
  {
   "cell_type": "code",
   "outputs": [],
   "source": [
    "dataset_file_name = 'work/datasets/processed_actual/merged_full_2024_03_27.csv'"
   ],
   "metadata": {
    "collapsed": false
   },
   "id": "3db1baf6eb63116e",
   "execution_count": null
  },
  {
   "cell_type": "code",
   "execution_count": null,
   "id": "d92db117c056078a",
   "metadata": {},
   "outputs": [],
   "source": [
    "df = pd.read_csv(dataset_file_name)\n",
    "df.set_index('domain')\n",
    "\n",
    "df.info()"
   ]
  },
  {
   "cell_type": "code",
   "execution_count": null,
   "id": "3a4b715d9c7aa7c6",
   "metadata": {},
   "outputs": [],
   "source": [
    "plt.style.use('fivethirtyeight')"
   ]
  },
  {
   "cell_type": "code",
   "execution_count": null,
   "id": "3b7cd22e80cfee34",
   "metadata": {},
   "outputs": [],
   "source": [
    "df_records = df[\n",
    "    [\"domain\", \"a_records\", \"mx_records\", \"cname_records\", \"txt_records\", \"ptr_records\", \"ptr_ratio\", \"is_legit\"]\n",
    "]\n",
    "    \n",
    "df_records = df_records.astype({'domain': 'string'})"
   ]
  },
  {
   "cell_type": "code",
   "execution_count": null,
   "id": "a070996bbed77a7a",
   "metadata": {},
   "outputs": [],
   "source": [
    "from pycaret.regression import RegressionExperiment\n",
    "\n",
    "r = RegressionExperiment()\n",
    "r.setup(df_records, target='is_legit', session_id=128, use_gpu=True, log_experiment=False,\n",
    "        experiment_name='records_regression', normalize=True)\n",
    "\n",
    "best_regression_model = r.compare_models()"
   ]
  },
  {
   "cell_type": "code",
   "outputs": [],
   "source": [
    "r.evaluate_model(best_regression_model)"
   ],
   "metadata": {
    "collapsed": false
   },
   "id": "15465138e55fc693",
   "execution_count": null
  },
  {
   "cell_type": "code",
   "outputs": [],
   "source": [
    "r.save_model(best_regression_model, model_name='resourse_records_regression_extre_trees')"
   ],
   "metadata": {
    "collapsed": false
   },
   "id": "2b6030a60c73fc4a",
   "execution_count": null
  },
  {
   "cell_type": "code",
   "outputs": [],
   "source": [],
   "metadata": {
    "collapsed": false
   },
   "id": "4743756abc9d054b",
   "execution_count": null
  },
  {
   "cell_type": "code",
   "outputs": [
    {
     "name": "stdout",
     "output_type": "stream",
     "text": [
      "[LightGBM] [Warning] There are no meaningful features which satisfy the provided configuration. Decreasing Dataset parameters min_data_in_bin or min_data_in_leaf and re-constructing Dataset might resolve this warning.\n",
      "[LightGBM] [Info] This is the GPU trainer!!\n",
      "[LightGBM] [Info] Total Bins 0\n",
      "[LightGBM] [Info] Number of data points in the train set: 2, number of used features: 0\n",
      "[LightGBM] [Warning] There are no meaningful features which satisfy the provided configuration. Decreasing Dataset parameters min_data_in_bin or min_data_in_leaf and re-constructing Dataset might resolve this warning.\n",
      "[LightGBM] [Warning] Using sparse features with CUDA is currently not supported.\n",
      "[LightGBM] [Warning] There are no meaningful features which satisfy the provided configuration. Decreasing Dataset parameters min_data_in_bin or min_data_in_leaf and re-constructing Dataset might resolve this warning.\n",
      "[LightGBM] [Info] This is the GPU trainer!!\n",
      "[LightGBM] [Info] Total Bins 0\n",
      "[LightGBM] [Info] Number of data points in the train set: 2, number of used features: 0\n",
      "[LightGBM] [Warning] There are no meaningful features which satisfy the provided configuration. Decreasing Dataset parameters min_data_in_bin or min_data_in_leaf and re-constructing Dataset might resolve this warning.\n",
      "[LightGBM] [Warning] Using sparse features with CUDA is currently not supported.\n"
     ]
    },
    {
     "name": "stderr",
     "output_type": "stream",
     "text": [
      "[LightGBM] [Fatal] CUDA Tree Learner was not enabled in this build.\n",
      "Please recompile with CMake option -DUSE_CUDA=1\n",
      "[LightGBM] [Fatal] CUDA Tree Learner was not enabled in this build.\n",
      "Please recompile with CMake option -DUSE_CUDA=1\n"
     ]
    },
    {
     "name": "stdout",
     "output_type": "stream",
     "text": [
      "[LightGBM] [Warning] There are no meaningful features which satisfy the provided configuration. Decreasing Dataset parameters min_data_in_bin or min_data_in_leaf and re-constructing Dataset might resolve this warning.\n",
      "[LightGBM] [Info] This is the GPU trainer!!\n",
      "[LightGBM] [Info] Total Bins 0\n",
      "[LightGBM] [Info] Number of data points in the train set: 2, number of used features: 0\n",
      "[LightGBM] [Warning] There are no meaningful features which satisfy the provided configuration. Decreasing Dataset parameters min_data_in_bin or min_data_in_leaf and re-constructing Dataset might resolve this warning.\n",
      "[LightGBM] [Warning] Using sparse features with CUDA is currently not supported.\n",
      "[LightGBM] [Warning] There are no meaningful features which satisfy the provided configuration. Decreasing Dataset parameters min_data_in_bin or min_data_in_leaf and re-constructing Dataset might resolve this warning.\n",
      "[LightGBM] [Info] This is the GPU trainer!!\n",
      "[LightGBM] [Info] Total Bins 0\n",
      "[LightGBM] [Info] Number of data points in the train set: 2, number of used features: 0\n",
      "[LightGBM] [Warning] There are no meaningful features which satisfy the provided configuration. Decreasing Dataset parameters min_data_in_bin or min_data_in_leaf and re-constructing Dataset might resolve this warning.\n",
      "[LightGBM] [Warning] Using sparse features with CUDA is currently not supported.\n"
     ]
    },
    {
     "name": "stderr",
     "output_type": "stream",
     "text": [
      "[LightGBM] [Fatal] CUDA Tree Learner was not enabled in this build.\n",
      "Please recompile with CMake option -DUSE_CUDA=1\n",
      "[LightGBM] [Fatal] CUDA Tree Learner was not enabled in this build.\n",
      "Please recompile with CMake option -DUSE_CUDA=1\n"
     ]
    },
    {
     "name": "stdout",
     "output_type": "stream",
     "text": [
      "[LightGBM] [Warning] There are no meaningful features which satisfy the provided configuration. Decreasing Dataset parameters min_data_in_bin or min_data_in_leaf and re-constructing Dataset might resolve this warning.\n",
      "[LightGBM] [Info] This is the GPU trainer!!\n",
      "[LightGBM] [Info] Total Bins 0\n",
      "[LightGBM] [Info] Number of data points in the train set: 2, number of used features: 0\n",
      "[LightGBM] [Warning] There are no meaningful features which satisfy the provided configuration. Decreasing Dataset parameters min_data_in_bin or min_data_in_leaf and re-constructing Dataset might resolve this warning.\n",
      "[LightGBM] [Warning] Using sparse features with CUDA is currently not supported.\n",
      "[LightGBM] [Warning] There are no meaningful features which satisfy the provided configuration. Decreasing Dataset parameters min_data_in_bin or min_data_in_leaf and re-constructing Dataset might resolve this warning.\n",
      "[LightGBM] [Info] This is the GPU trainer!!\n",
      "[LightGBM] [Info] Total Bins 0\n",
      "[LightGBM] [Info] Number of data points in the train set: 2, number of used features: 0\n",
      "[LightGBM] [Warning] There are no meaningful features which satisfy the provided configuration. Decreasing Dataset parameters min_data_in_bin or min_data_in_leaf and re-constructing Dataset might resolve this warning.\n",
      "[LightGBM] [Warning] Using sparse features with CUDA is currently not supported.\n"
     ]
    },
    {
     "name": "stderr",
     "output_type": "stream",
     "text": [
      "[LightGBM] [Fatal] CUDA Tree Learner was not enabled in this build.\n",
      "Please recompile with CMake option -DUSE_CUDA=1\n",
      "[LightGBM] [Fatal] CUDA Tree Learner was not enabled in this build.\n",
      "Please recompile with CMake option -DUSE_CUDA=1\n"
     ]
    },
    {
     "name": "stdout",
     "output_type": "stream",
     "text": [
      "[LightGBM] [Warning] There are no meaningful features which satisfy the provided configuration. Decreasing Dataset parameters min_data_in_bin or min_data_in_leaf and re-constructing Dataset might resolve this warning.\n",
      "[LightGBM] [Info] This is the GPU trainer!!\n",
      "[LightGBM] [Info] Total Bins 0\n",
      "[LightGBM] [Info] Number of data points in the train set: 2, number of used features: 0\n",
      "[LightGBM] [Warning] There are no meaningful features which satisfy the provided configuration. Decreasing Dataset parameters min_data_in_bin or min_data_in_leaf and re-constructing Dataset might resolve this warning.\n",
      "[LightGBM] [Warning] Using sparse features with CUDA is currently not supported.\n",
      "[LightGBM] [Warning] There are no meaningful features which satisfy the provided configuration. Decreasing Dataset parameters min_data_in_bin or min_data_in_leaf and re-constructing Dataset might resolve this warning.\n",
      "[LightGBM] [Info] This is the GPU trainer!!\n",
      "[LightGBM] [Info] Total Bins 0\n",
      "[LightGBM] [Info] Number of data points in the train set: 2, number of used features: 0\n",
      "[LightGBM] [Warning] There are no meaningful features which satisfy the provided configuration. Decreasing Dataset parameters min_data_in_bin or min_data_in_leaf and re-constructing Dataset might resolve this warning.\n",
      "[LightGBM] [Warning] Using sparse features with CUDA is currently not supported.\n"
     ]
    },
    {
     "name": "stderr",
     "output_type": "stream",
     "text": [
      "[LightGBM] [Fatal] CUDA Tree Learner was not enabled in this build.\n",
      "Please recompile with CMake option -DUSE_CUDA=1\n",
      "[LightGBM] [Fatal] CUDA Tree Learner was not enabled in this build.\n",
      "Please recompile with CMake option -DUSE_CUDA=1\n"
     ]
    },
    {
     "name": "stdout",
     "output_type": "stream",
     "text": [
      "[LightGBM] [Warning] There are no meaningful features which satisfy the provided configuration. Decreasing Dataset parameters min_data_in_bin or min_data_in_leaf and re-constructing Dataset might resolve this warning.\n",
      "[LightGBM] [Info] This is the GPU trainer!!\n",
      "[LightGBM] [Info] Total Bins 0\n",
      "[LightGBM] [Info] Number of data points in the train set: 2, number of used features: 0\n",
      "[LightGBM] [Warning] There are no meaningful features which satisfy the provided configuration. Decreasing Dataset parameters min_data_in_bin or min_data_in_leaf and re-constructing Dataset might resolve this warning.\n",
      "[LightGBM] [Warning] Using sparse features with CUDA is currently not supported.\n",
      "[LightGBM] [Warning] There are no meaningful features which satisfy the provided configuration. Decreasing Dataset parameters min_data_in_bin or min_data_in_leaf and re-constructing Dataset might resolve this warning.\n",
      "[LightGBM] [Info] This is the GPU trainer!!\n",
      "[LightGBM] [Info] Total Bins 0\n",
      "[LightGBM] [Info] Number of data points in the train set: 2, number of used features: 0\n",
      "[LightGBM] [Warning] There are no meaningful features which satisfy the provided configuration. Decreasing Dataset parameters min_data_in_bin or min_data_in_leaf and re-constructing Dataset might resolve this warning.\n",
      "[LightGBM] [Warning] Using sparse features with CUDA is currently not supported.\n"
     ]
    },
    {
     "name": "stderr",
     "output_type": "stream",
     "text": [
      "[LightGBM] [Fatal] CUDA Tree Learner was not enabled in this build.\n",
      "Please recompile with CMake option -DUSE_CUDA=1\n",
      "[LightGBM] [Fatal] CUDA Tree Learner was not enabled in this build.\n",
      "Please recompile with CMake option -DUSE_CUDA=1\n"
     ]
    },
    {
     "name": "stdout",
     "output_type": "stream",
     "text": [
      "[LightGBM] [Warning] There are no meaningful features which satisfy the provided configuration. Decreasing Dataset parameters min_data_in_bin or min_data_in_leaf and re-constructing Dataset might resolve this warning.\n",
      "[LightGBM] [Info] This is the GPU trainer!!\n",
      "[LightGBM] [Info] Total Bins 0\n",
      "[LightGBM] [Info] Number of data points in the train set: 2, number of used features: 0\n",
      "[LightGBM] [Warning] There are no meaningful features which satisfy the provided configuration. Decreasing Dataset parameters min_data_in_bin or min_data_in_leaf and re-constructing Dataset might resolve this warning.\n",
      "[LightGBM] [Warning] Using sparse features with CUDA is currently not supported.\n",
      "[LightGBM] [Warning] There are no meaningful features which satisfy the provided configuration. Decreasing Dataset parameters min_data_in_bin or min_data_in_leaf and re-constructing Dataset might resolve this warning.\n",
      "[LightGBM] [Info] This is the GPU trainer!!\n",
      "[LightGBM] [Info] Total Bins 0\n",
      "[LightGBM] [Info] Number of data points in the train set: 2, number of used features: 0\n",
      "[LightGBM] [Warning] There are no meaningful features which satisfy the provided configuration. Decreasing Dataset parameters min_data_in_bin or min_data_in_leaf and re-constructing Dataset might resolve this warning.\n",
      "[LightGBM] [Warning] Using sparse features with CUDA is currently not supported.\n"
     ]
    },
    {
     "name": "stderr",
     "output_type": "stream",
     "text": [
      "[LightGBM] [Fatal] CUDA Tree Learner was not enabled in this build.\n",
      "Please recompile with CMake option -DUSE_CUDA=1\n",
      "[LightGBM] [Fatal] CUDA Tree Learner was not enabled in this build.\n",
      "Please recompile with CMake option -DUSE_CUDA=1\n"
     ]
    },
    {
     "data": {
      "text/plain": "<pandas.io.formats.style.Styler at 0x7ff209e78b90>",
      "text/html": "<style type=\"text/css\">\n#T_db25f_row9_col1, #T_db25f_row15_col1, #T_db25f_row20_col1 {\n  background-color: lightgreen;\n}\n</style>\n<table id=\"T_db25f\">\n  <thead>\n    <tr>\n      <th class=\"blank level0\" >&nbsp;</th>\n      <th id=\"T_db25f_level0_col0\" class=\"col_heading level0 col0\" >Description</th>\n      <th id=\"T_db25f_level0_col1\" class=\"col_heading level0 col1\" >Value</th>\n    </tr>\n  </thead>\n  <tbody>\n    <tr>\n      <th id=\"T_db25f_level0_row0\" class=\"row_heading level0 row0\" >0</th>\n      <td id=\"T_db25f_row0_col0\" class=\"data row0 col0\" >Session id</td>\n      <td id=\"T_db25f_row0_col1\" class=\"data row0 col1\" >128</td>\n    </tr>\n    <tr>\n      <th id=\"T_db25f_level0_row1\" class=\"row_heading level0 row1\" >1</th>\n      <td id=\"T_db25f_row1_col0\" class=\"data row1 col0\" >Target</td>\n      <td id=\"T_db25f_row1_col1\" class=\"data row1 col1\" >is_legit</td>\n    </tr>\n    <tr>\n      <th id=\"T_db25f_level0_row2\" class=\"row_heading level0 row2\" >2</th>\n      <td id=\"T_db25f_row2_col0\" class=\"data row2 col0\" >Target type</td>\n      <td id=\"T_db25f_row2_col1\" class=\"data row2 col1\" >Regression</td>\n    </tr>\n    <tr>\n      <th id=\"T_db25f_level0_row3\" class=\"row_heading level0 row3\" >3</th>\n      <td id=\"T_db25f_row3_col0\" class=\"data row3 col0\" >Original data shape</td>\n      <td id=\"T_db25f_row3_col1\" class=\"data row3 col1\" >(239257, 8)</td>\n    </tr>\n    <tr>\n      <th id=\"T_db25f_level0_row4\" class=\"row_heading level0 row4\" >4</th>\n      <td id=\"T_db25f_row4_col0\" class=\"data row4 col0\" >Transformed data shape</td>\n      <td id=\"T_db25f_row4_col1\" class=\"data row4 col1\" >(239257, 8)</td>\n    </tr>\n    <tr>\n      <th id=\"T_db25f_level0_row5\" class=\"row_heading level0 row5\" >5</th>\n      <td id=\"T_db25f_row5_col0\" class=\"data row5 col0\" >Transformed train set shape</td>\n      <td id=\"T_db25f_row5_col1\" class=\"data row5 col1\" >(167479, 8)</td>\n    </tr>\n    <tr>\n      <th id=\"T_db25f_level0_row6\" class=\"row_heading level0 row6\" >6</th>\n      <td id=\"T_db25f_row6_col0\" class=\"data row6 col0\" >Transformed test set shape</td>\n      <td id=\"T_db25f_row6_col1\" class=\"data row6 col1\" >(71778, 8)</td>\n    </tr>\n    <tr>\n      <th id=\"T_db25f_level0_row7\" class=\"row_heading level0 row7\" >7</th>\n      <td id=\"T_db25f_row7_col0\" class=\"data row7 col0\" >Numeric features</td>\n      <td id=\"T_db25f_row7_col1\" class=\"data row7 col1\" >6</td>\n    </tr>\n    <tr>\n      <th id=\"T_db25f_level0_row8\" class=\"row_heading level0 row8\" >8</th>\n      <td id=\"T_db25f_row8_col0\" class=\"data row8 col0\" >Categorical features</td>\n      <td id=\"T_db25f_row8_col1\" class=\"data row8 col1\" >1</td>\n    </tr>\n    <tr>\n      <th id=\"T_db25f_level0_row9\" class=\"row_heading level0 row9\" >9</th>\n      <td id=\"T_db25f_row9_col0\" class=\"data row9 col0\" >Preprocess</td>\n      <td id=\"T_db25f_row9_col1\" class=\"data row9 col1\" >True</td>\n    </tr>\n    <tr>\n      <th id=\"T_db25f_level0_row10\" class=\"row_heading level0 row10\" >10</th>\n      <td id=\"T_db25f_row10_col0\" class=\"data row10 col0\" >Imputation type</td>\n      <td id=\"T_db25f_row10_col1\" class=\"data row10 col1\" >simple</td>\n    </tr>\n    <tr>\n      <th id=\"T_db25f_level0_row11\" class=\"row_heading level0 row11\" >11</th>\n      <td id=\"T_db25f_row11_col0\" class=\"data row11 col0\" >Numeric imputation</td>\n      <td id=\"T_db25f_row11_col1\" class=\"data row11 col1\" >mean</td>\n    </tr>\n    <tr>\n      <th id=\"T_db25f_level0_row12\" class=\"row_heading level0 row12\" >12</th>\n      <td id=\"T_db25f_row12_col0\" class=\"data row12 col0\" >Categorical imputation</td>\n      <td id=\"T_db25f_row12_col1\" class=\"data row12 col1\" >mode</td>\n    </tr>\n    <tr>\n      <th id=\"T_db25f_level0_row13\" class=\"row_heading level0 row13\" >13</th>\n      <td id=\"T_db25f_row13_col0\" class=\"data row13 col0\" >Maximum one-hot encoding</td>\n      <td id=\"T_db25f_row13_col1\" class=\"data row13 col1\" >25</td>\n    </tr>\n    <tr>\n      <th id=\"T_db25f_level0_row14\" class=\"row_heading level0 row14\" >14</th>\n      <td id=\"T_db25f_row14_col0\" class=\"data row14 col0\" >Encoding method</td>\n      <td id=\"T_db25f_row14_col1\" class=\"data row14 col1\" >None</td>\n    </tr>\n    <tr>\n      <th id=\"T_db25f_level0_row15\" class=\"row_heading level0 row15\" >15</th>\n      <td id=\"T_db25f_row15_col0\" class=\"data row15 col0\" >Normalize</td>\n      <td id=\"T_db25f_row15_col1\" class=\"data row15 col1\" >True</td>\n    </tr>\n    <tr>\n      <th id=\"T_db25f_level0_row16\" class=\"row_heading level0 row16\" >16</th>\n      <td id=\"T_db25f_row16_col0\" class=\"data row16 col0\" >Normalize method</td>\n      <td id=\"T_db25f_row16_col1\" class=\"data row16 col1\" >zscore</td>\n    </tr>\n    <tr>\n      <th id=\"T_db25f_level0_row17\" class=\"row_heading level0 row17\" >17</th>\n      <td id=\"T_db25f_row17_col0\" class=\"data row17 col0\" >Fold Generator</td>\n      <td id=\"T_db25f_row17_col1\" class=\"data row17 col1\" >KFold</td>\n    </tr>\n    <tr>\n      <th id=\"T_db25f_level0_row18\" class=\"row_heading level0 row18\" >18</th>\n      <td id=\"T_db25f_row18_col0\" class=\"data row18 col0\" >Fold Number</td>\n      <td id=\"T_db25f_row18_col1\" class=\"data row18 col1\" >10</td>\n    </tr>\n    <tr>\n      <th id=\"T_db25f_level0_row19\" class=\"row_heading level0 row19\" >19</th>\n      <td id=\"T_db25f_row19_col0\" class=\"data row19 col0\" >CPU Jobs</td>\n      <td id=\"T_db25f_row19_col1\" class=\"data row19 col1\" >-1</td>\n    </tr>\n    <tr>\n      <th id=\"T_db25f_level0_row20\" class=\"row_heading level0 row20\" >20</th>\n      <td id=\"T_db25f_row20_col0\" class=\"data row20 col0\" >Use GPU</td>\n      <td id=\"T_db25f_row20_col1\" class=\"data row20 col1\" >True</td>\n    </tr>\n    <tr>\n      <th id=\"T_db25f_level0_row21\" class=\"row_heading level0 row21\" >21</th>\n      <td id=\"T_db25f_row21_col0\" class=\"data row21 col0\" >Log Experiment</td>\n      <td id=\"T_db25f_row21_col1\" class=\"data row21 col1\" >False</td>\n    </tr>\n    <tr>\n      <th id=\"T_db25f_level0_row22\" class=\"row_heading level0 row22\" >22</th>\n      <td id=\"T_db25f_row22_col0\" class=\"data row22 col0\" >Experiment Name</td>\n      <td id=\"T_db25f_row22_col1\" class=\"data row22 col1\" >records_regression</td>\n    </tr>\n    <tr>\n      <th id=\"T_db25f_level0_row23\" class=\"row_heading level0 row23\" >23</th>\n      <td id=\"T_db25f_row23_col0\" class=\"data row23 col0\" >USI</td>\n      <td id=\"T_db25f_row23_col1\" class=\"data row23 col1\" >7018</td>\n    </tr>\n  </tbody>\n</table>\n"
     },
     "metadata": {},
     "output_type": "display_data"
    },
    {
     "name": "stdout",
     "output_type": "stream",
     "text": [
      "[LightGBM] [Warning] There are no meaningful features which satisfy the provided configuration. Decreasing Dataset parameters min_data_in_bin or min_data_in_leaf and re-constructing Dataset might resolve this warning.\n",
      "[LightGBM] [Info] This is the GPU trainer!!\n",
      "[LightGBM] [Info] Total Bins 0\n",
      "[LightGBM] [Info] Number of data points in the train set: 2, number of used features: 0\n",
      "[LightGBM] [Warning] There are no meaningful features which satisfy the provided configuration. Decreasing Dataset parameters min_data_in_bin or min_data_in_leaf and re-constructing Dataset might resolve this warning.\n",
      "[LightGBM] [Warning] Using sparse features with CUDA is currently not supported.\n",
      "[LightGBM] [Warning] There are no meaningful features which satisfy the provided configuration. Decreasing Dataset parameters min_data_in_bin or min_data_in_leaf and re-constructing Dataset might resolve this warning.\n",
      "[LightGBM] [Info] This is the GPU trainer!!\n",
      "[LightGBM] [Info] Total Bins 0\n",
      "[LightGBM] [Info] Number of data points in the train set: 2, number of used features: 0\n",
      "[LightGBM] [Warning] There are no meaningful features which satisfy the provided configuration. Decreasing Dataset parameters min_data_in_bin or min_data_in_leaf and re-constructing Dataset might resolve this warning.\n",
      "[LightGBM] [Warning] Using sparse features with CUDA is currently not supported.\n"
     ]
    },
    {
     "name": "stderr",
     "output_type": "stream",
     "text": [
      "[LightGBM] [Fatal] CUDA Tree Learner was not enabled in this build.\n",
      "Please recompile with CMake option -DUSE_CUDA=1\n",
      "[LightGBM] [Fatal] CUDA Tree Learner was not enabled in this build.\n",
      "Please recompile with CMake option -DUSE_CUDA=1\n"
     ]
    },
    {
     "data": {
      "text/plain": "                                                                    \n                                                                    \nInitiated  . . . . . . . . . . . . . . . . . .              12:00:43\nStatus     . . . . . . . . . . . . . . . . . .  Loading Dependencies\nEstimator  . . . . . . . . . . . . . . . . . .     Compiling Library",
      "text/html": "<div>\n<style scoped>\n    .dataframe tbody tr th:only-of-type {\n        vertical-align: middle;\n    }\n\n    .dataframe tbody tr th {\n        vertical-align: top;\n    }\n\n    .dataframe thead th {\n        text-align: right;\n    }\n</style>\n<table border=\"1\" class=\"dataframe\">\n  <thead>\n    <tr style=\"text-align: right;\">\n      <th></th>\n      <th></th>\n      <th></th>\n    </tr>\n    <tr>\n      <th></th>\n      <th></th>\n      <th></th>\n    </tr>\n  </thead>\n  <tbody>\n    <tr>\n      <th>Initiated</th>\n      <td>. . . . . . . . . . . . . . . . . .</td>\n      <td>12:00:43</td>\n    </tr>\n    <tr>\n      <th>Status</th>\n      <td>. . . . . . . . . . . . . . . . . .</td>\n      <td>Loading Dependencies</td>\n    </tr>\n    <tr>\n      <th>Estimator</th>\n      <td>. . . . . . . . . . . . . . . . . .</td>\n      <td>Compiling Library</td>\n    </tr>\n  </tbody>\n</table>\n</div>"
     },
     "metadata": {},
     "output_type": "display_data"
    },
    {
     "data": {
      "text/plain": "<IPython.core.display.HTML object>",
      "text/html": ""
     },
     "metadata": {},
     "output_type": "display_data"
    },
    {
     "data": {
      "text/plain": "<pandas.io.formats.style.Styler at 0x7ff209e30b90>",
      "text/html": "<style type=\"text/css\">\n#T_6ac89_row10_col0, #T_6ac89_row10_col1, #T_6ac89_row10_col2, #T_6ac89_row10_col3, #T_6ac89_row10_col4, #T_6ac89_row10_col5 {\n  background: yellow;\n}\n</style>\n<table id=\"T_6ac89\">\n  <thead>\n    <tr>\n      <th class=\"blank level0\" >&nbsp;</th>\n      <th id=\"T_6ac89_level0_col0\" class=\"col_heading level0 col0\" >MAE</th>\n      <th id=\"T_6ac89_level0_col1\" class=\"col_heading level0 col1\" >MSE</th>\n      <th id=\"T_6ac89_level0_col2\" class=\"col_heading level0 col2\" >RMSE</th>\n      <th id=\"T_6ac89_level0_col3\" class=\"col_heading level0 col3\" >R2</th>\n      <th id=\"T_6ac89_level0_col4\" class=\"col_heading level0 col4\" >RMSLE</th>\n      <th id=\"T_6ac89_level0_col5\" class=\"col_heading level0 col5\" >MAPE</th>\n    </tr>\n    <tr>\n      <th class=\"index_name level0\" >Fold</th>\n      <th class=\"blank col0\" >&nbsp;</th>\n      <th class=\"blank col1\" >&nbsp;</th>\n      <th class=\"blank col2\" >&nbsp;</th>\n      <th class=\"blank col3\" >&nbsp;</th>\n      <th class=\"blank col4\" >&nbsp;</th>\n      <th class=\"blank col5\" >&nbsp;</th>\n    </tr>\n  </thead>\n  <tbody>\n    <tr>\n      <th id=\"T_6ac89_level0_row0\" class=\"row_heading level0 row0\" >0</th>\n      <td id=\"T_6ac89_row0_col0\" class=\"data row0 col0\" >0.2952</td>\n      <td id=\"T_6ac89_row0_col1\" class=\"data row0 col1\" >0.2182</td>\n      <td id=\"T_6ac89_row0_col2\" class=\"data row0 col2\" >0.4671</td>\n      <td id=\"T_6ac89_row0_col3\" class=\"data row0 col3\" >-0.0048</td>\n      <td id=\"T_6ac89_row0_col4\" class=\"data row0 col4\" >0.3164</td>\n      <td id=\"T_6ac89_row0_col5\" class=\"data row0 col5\" >0.7465</td>\n    </tr>\n    <tr>\n      <th id=\"T_6ac89_level0_row1\" class=\"row_heading level0 row1\" >1</th>\n      <td id=\"T_6ac89_row1_col0\" class=\"data row1 col0\" >0.2954</td>\n      <td id=\"T_6ac89_row1_col1\" class=\"data row1 col1\" >0.2161</td>\n      <td id=\"T_6ac89_row1_col2\" class=\"data row1 col2\" >0.4649</td>\n      <td id=\"T_6ac89_row1_col3\" class=\"data row1 col3\" >0.0037</td>\n      <td id=\"T_6ac89_row1_col4\" class=\"data row1 col4\" >0.3150</td>\n      <td id=\"T_6ac89_row1_col5\" class=\"data row1 col5\" >0.7365</td>\n    </tr>\n    <tr>\n      <th id=\"T_6ac89_level0_row2\" class=\"row_heading level0 row2\" >2</th>\n      <td id=\"T_6ac89_row2_col0\" class=\"data row2 col0\" >0.2805</td>\n      <td id=\"T_6ac89_row2_col1\" class=\"data row2 col1\" >0.2143</td>\n      <td id=\"T_6ac89_row2_col2\" class=\"data row2 col2\" >0.4630</td>\n      <td id=\"T_6ac89_row2_col3\" class=\"data row2 col3\" >0.0044</td>\n      <td id=\"T_6ac89_row2_col4\" class=\"data row2 col4\" >0.3119</td>\n      <td id=\"T_6ac89_row2_col5\" class=\"data row2 col5\" >0.7492</td>\n    </tr>\n    <tr>\n      <th id=\"T_6ac89_level0_row3\" class=\"row_heading level0 row3\" >3</th>\n      <td id=\"T_6ac89_row3_col0\" class=\"data row3 col0\" >0.2858</td>\n      <td id=\"T_6ac89_row3_col1\" class=\"data row3 col1\" >0.2091</td>\n      <td id=\"T_6ac89_row3_col2\" class=\"data row3 col2\" >0.4573</td>\n      <td id=\"T_6ac89_row3_col3\" class=\"data row3 col3\" >0.0336</td>\n      <td id=\"T_6ac89_row3_col4\" class=\"data row3 col4\" >0.3083</td>\n      <td id=\"T_6ac89_row3_col5\" class=\"data row3 col5\" >0.7327</td>\n    </tr>\n    <tr>\n      <th id=\"T_6ac89_level0_row4\" class=\"row_heading level0 row4\" >4</th>\n      <td id=\"T_6ac89_row4_col0\" class=\"data row4 col0\" >0.2787</td>\n      <td id=\"T_6ac89_row4_col1\" class=\"data row4 col1\" >0.2107</td>\n      <td id=\"T_6ac89_row4_col2\" class=\"data row4 col2\" >0.4591</td>\n      <td id=\"T_6ac89_row4_col3\" class=\"data row4 col3\" >0.0161</td>\n      <td id=\"T_6ac89_row4_col4\" class=\"data row4 col4\" >0.3101</td>\n      <td id=\"T_6ac89_row4_col5\" class=\"data row4 col5\" >0.7447</td>\n    </tr>\n    <tr>\n      <th id=\"T_6ac89_level0_row5\" class=\"row_heading level0 row5\" >5</th>\n      <td id=\"T_6ac89_row5_col0\" class=\"data row5 col0\" >0.2939</td>\n      <td id=\"T_6ac89_row5_col1\" class=\"data row5 col1\" >0.2205</td>\n      <td id=\"T_6ac89_row5_col2\" class=\"data row5 col2\" >0.4696</td>\n      <td id=\"T_6ac89_row5_col3\" class=\"data row5 col3\" >-0.0149</td>\n      <td id=\"T_6ac89_row5_col4\" class=\"data row5 col4\" >0.3193</td>\n      <td id=\"T_6ac89_row5_col5\" class=\"data row5 col5\" >0.7469</td>\n    </tr>\n    <tr>\n      <th id=\"T_6ac89_level0_row6\" class=\"row_heading level0 row6\" >6</th>\n      <td id=\"T_6ac89_row6_col0\" class=\"data row6 col0\" >0.2893</td>\n      <td id=\"T_6ac89_row6_col1\" class=\"data row6 col1\" >0.2218</td>\n      <td id=\"T_6ac89_row6_col2\" class=\"data row6 col2\" >0.4709</td>\n      <td id=\"T_6ac89_row6_col3\" class=\"data row6 col3\" >-0.0271</td>\n      <td id=\"T_6ac89_row6_col4\" class=\"data row6 col4\" >0.3182</td>\n      <td id=\"T_6ac89_row6_col5\" class=\"data row6 col5\" >0.7633</td>\n    </tr>\n    <tr>\n      <th id=\"T_6ac89_level0_row7\" class=\"row_heading level0 row7\" >7</th>\n      <td id=\"T_6ac89_row7_col0\" class=\"data row7 col0\" >0.2931</td>\n      <td id=\"T_6ac89_row7_col1\" class=\"data row7 col1\" >0.2166</td>\n      <td id=\"T_6ac89_row7_col2\" class=\"data row7 col2\" >0.4654</td>\n      <td id=\"T_6ac89_row7_col3\" class=\"data row7 col3\" >-0.0072</td>\n      <td id=\"T_6ac89_row7_col4\" class=\"data row7 col4\" >0.3159</td>\n      <td id=\"T_6ac89_row7_col5\" class=\"data row7 col5\" >0.7427</td>\n    </tr>\n    <tr>\n      <th id=\"T_6ac89_level0_row8\" class=\"row_heading level0 row8\" >8</th>\n      <td id=\"T_6ac89_row8_col0\" class=\"data row8 col0\" >0.2912</td>\n      <td id=\"T_6ac89_row8_col1\" class=\"data row8 col1\" >0.2161</td>\n      <td id=\"T_6ac89_row8_col2\" class=\"data row8 col2\" >0.4648</td>\n      <td id=\"T_6ac89_row8_col3\" class=\"data row8 col3\" >0.0013</td>\n      <td id=\"T_6ac89_row8_col4\" class=\"data row8 col4\" >0.3141</td>\n      <td id=\"T_6ac89_row8_col5\" class=\"data row8 col5\" >0.7463</td>\n    </tr>\n    <tr>\n      <th id=\"T_6ac89_level0_row9\" class=\"row_heading level0 row9\" >9</th>\n      <td id=\"T_6ac89_row9_col0\" class=\"data row9 col0\" >0.2927</td>\n      <td id=\"T_6ac89_row9_col1\" class=\"data row9 col1\" >0.2146</td>\n      <td id=\"T_6ac89_row9_col2\" class=\"data row9 col2\" >0.4632</td>\n      <td id=\"T_6ac89_row9_col3\" class=\"data row9 col3\" >0.0101</td>\n      <td id=\"T_6ac89_row9_col4\" class=\"data row9 col4\" >0.3131</td>\n      <td id=\"T_6ac89_row9_col5\" class=\"data row9 col5\" >0.7437</td>\n    </tr>\n    <tr>\n      <th id=\"T_6ac89_level0_row10\" class=\"row_heading level0 row10\" >Mean</th>\n      <td id=\"T_6ac89_row10_col0\" class=\"data row10 col0\" >0.2896</td>\n      <td id=\"T_6ac89_row10_col1\" class=\"data row10 col1\" >0.2158</td>\n      <td id=\"T_6ac89_row10_col2\" class=\"data row10 col2\" >0.4645</td>\n      <td id=\"T_6ac89_row10_col3\" class=\"data row10 col3\" >0.0015</td>\n      <td id=\"T_6ac89_row10_col4\" class=\"data row10 col4\" >0.3142</td>\n      <td id=\"T_6ac89_row10_col5\" class=\"data row10 col5\" >0.7453</td>\n    </tr>\n    <tr>\n      <th id=\"T_6ac89_level0_row11\" class=\"row_heading level0 row11\" >Std</th>\n      <td id=\"T_6ac89_row11_col0\" class=\"data row11 col0\" >0.0057</td>\n      <td id=\"T_6ac89_row11_col1\" class=\"data row11 col1\" >0.0037</td>\n      <td id=\"T_6ac89_row11_col2\" class=\"data row11 col2\" >0.0040</td>\n      <td id=\"T_6ac89_row11_col3\" class=\"data row11 col3\" >0.0159</td>\n      <td id=\"T_6ac89_row11_col4\" class=\"data row11 col4\" >0.0033</td>\n      <td id=\"T_6ac89_row11_col5\" class=\"data row11 col5\" >0.0077</td>\n    </tr>\n  </tbody>\n</table>\n"
     },
     "metadata": {},
     "output_type": "display_data"
    },
    {
     "data": {
      "text/plain": "                                                                    \n                                                                    \nInitiated  . . . . . . . . . . . . . . . . . .              12:01:17\nStatus     . . . . . . . . . . . . . . . . . .  Loading Dependencies\nEstimator  . . . . . . . . . . . . . . . . . .     Compiling Library",
      "text/html": "<div>\n<style scoped>\n    .dataframe tbody tr th:only-of-type {\n        vertical-align: middle;\n    }\n\n    .dataframe tbody tr th {\n        vertical-align: top;\n    }\n\n    .dataframe thead th {\n        text-align: right;\n    }\n</style>\n<table border=\"1\" class=\"dataframe\">\n  <thead>\n    <tr style=\"text-align: right;\">\n      <th></th>\n      <th></th>\n      <th></th>\n    </tr>\n    <tr>\n      <th></th>\n      <th></th>\n      <th></th>\n    </tr>\n  </thead>\n  <tbody>\n    <tr>\n      <th>Initiated</th>\n      <td>. . . . . . . . . . . . . . . . . .</td>\n      <td>12:01:17</td>\n    </tr>\n    <tr>\n      <th>Status</th>\n      <td>. . . . . . . . . . . . . . . . . .</td>\n      <td>Loading Dependencies</td>\n    </tr>\n    <tr>\n      <th>Estimator</th>\n      <td>. . . . . . . . . . . . . . . . . .</td>\n      <td>Compiling Library</td>\n    </tr>\n  </tbody>\n</table>\n</div>"
     },
     "metadata": {},
     "output_type": "display_data"
    },
    {
     "data": {
      "text/plain": "<IPython.core.display.HTML object>",
      "text/html": ""
     },
     "metadata": {},
     "output_type": "display_data"
    },
    {
     "data": {
      "text/plain": "                                                                         \n                                                                         \nInitiated  . . . . . . . . . . . . . . . . . .                   12:01:17\nStatus     . . . . . . . . . . . . . . . . . .  Searching Hyperparameters\nEstimator  . . . . . . . . . . . . . . . . . .      K Neighbors Regressor",
      "text/html": "<div>\n<style scoped>\n    .dataframe tbody tr th:only-of-type {\n        vertical-align: middle;\n    }\n\n    .dataframe tbody tr th {\n        vertical-align: top;\n    }\n\n    .dataframe thead th {\n        text-align: right;\n    }\n</style>\n<table border=\"1\" class=\"dataframe\">\n  <thead>\n    <tr style=\"text-align: right;\">\n      <th></th>\n      <th></th>\n      <th></th>\n    </tr>\n    <tr>\n      <th></th>\n      <th></th>\n      <th></th>\n    </tr>\n  </thead>\n  <tbody>\n    <tr>\n      <th>Initiated</th>\n      <td>. . . . . . . . . . . . . . . . . .</td>\n      <td>12:01:17</td>\n    </tr>\n    <tr>\n      <th>Status</th>\n      <td>. . . . . . . . . . . . . . . . . .</td>\n      <td>Searching Hyperparameters</td>\n    </tr>\n    <tr>\n      <th>Estimator</th>\n      <td>. . . . . . . . . . . . . . . . . .</td>\n      <td>K Neighbors Regressor</td>\n    </tr>\n  </tbody>\n</table>\n</div>"
     },
     "metadata": {},
     "output_type": "display_data"
    },
    {
     "data": {
      "text/plain": "                                                                       \n                                                                       \nInitiated  . . . . . . . . . . . . . . . . . .                 12:01:17\nStatus     . . . . . . . . . . . . . . . . . .  Compiling Final Results\nEstimator  . . . . . . . . . . . . . . . . . .    K Neighbors Regressor",
      "text/html": "<div>\n<style scoped>\n    .dataframe tbody tr th:only-of-type {\n        vertical-align: middle;\n    }\n\n    .dataframe tbody tr th {\n        vertical-align: top;\n    }\n\n    .dataframe thead th {\n        text-align: right;\n    }\n</style>\n<table border=\"1\" class=\"dataframe\">\n  <thead>\n    <tr style=\"text-align: right;\">\n      <th></th>\n      <th></th>\n      <th></th>\n    </tr>\n    <tr>\n      <th></th>\n      <th></th>\n      <th></th>\n    </tr>\n  </thead>\n  <tbody>\n    <tr>\n      <th>Initiated</th>\n      <td>. . . . . . . . . . . . . . . . . .</td>\n      <td>12:01:17</td>\n    </tr>\n    <tr>\n      <th>Status</th>\n      <td>. . . . . . . . . . . . . . . . . .</td>\n      <td>Compiling Final Results</td>\n    </tr>\n    <tr>\n      <th>Estimator</th>\n      <td>. . . . . . . . . . . . . . . . . .</td>\n      <td>K Neighbors Regressor</td>\n    </tr>\n  </tbody>\n</table>\n</div>"
     },
     "metadata": {},
     "output_type": "display_data"
    },
    {
     "data": {
      "text/plain": "<pandas.io.formats.style.Styler at 0x7ff1eb36d250>",
      "text/html": "<style type=\"text/css\">\n#T_96017_row10_col0, #T_96017_row10_col1, #T_96017_row10_col2, #T_96017_row10_col3, #T_96017_row10_col4, #T_96017_row10_col5 {\n  background: yellow;\n}\n</style>\n<table id=\"T_96017\">\n  <thead>\n    <tr>\n      <th class=\"blank level0\" >&nbsp;</th>\n      <th id=\"T_96017_level0_col0\" class=\"col_heading level0 col0\" >MAE</th>\n      <th id=\"T_96017_level0_col1\" class=\"col_heading level0 col1\" >MSE</th>\n      <th id=\"T_96017_level0_col2\" class=\"col_heading level0 col2\" >RMSE</th>\n      <th id=\"T_96017_level0_col3\" class=\"col_heading level0 col3\" >R2</th>\n      <th id=\"T_96017_level0_col4\" class=\"col_heading level0 col4\" >RMSLE</th>\n      <th id=\"T_96017_level0_col5\" class=\"col_heading level0 col5\" >MAPE</th>\n    </tr>\n    <tr>\n      <th class=\"index_name level0\" >Fold</th>\n      <th class=\"blank col0\" >&nbsp;</th>\n      <th class=\"blank col1\" >&nbsp;</th>\n      <th class=\"blank col2\" >&nbsp;</th>\n      <th class=\"blank col3\" >&nbsp;</th>\n      <th class=\"blank col4\" >&nbsp;</th>\n      <th class=\"blank col5\" >&nbsp;</th>\n    </tr>\n  </thead>\n  <tbody>\n    <tr>\n      <th id=\"T_96017_level0_row0\" class=\"row_heading level0 row0\" >0</th>\n      <td id=\"T_96017_row0_col0\" class=\"data row0 col0\" >0.2944</td>\n      <td id=\"T_96017_row0_col1\" class=\"data row0 col1\" >0.2221</td>\n      <td id=\"T_96017_row0_col2\" class=\"data row0 col2\" >0.4713</td>\n      <td id=\"T_96017_row0_col3\" class=\"data row0 col3\" >-0.0232</td>\n      <td id=\"T_96017_row0_col4\" class=\"data row0 col4\" >0.3184</td>\n      <td id=\"T_96017_row0_col5\" class=\"data row0 col5\" >0.7629</td>\n    </tr>\n    <tr>\n      <th id=\"T_96017_level0_row1\" class=\"row_heading level0 row1\" >1</th>\n      <td id=\"T_96017_row1_col0\" class=\"data row1 col0\" >0.2934</td>\n      <td id=\"T_96017_row1_col1\" class=\"data row1 col1\" >0.2189</td>\n      <td id=\"T_96017_row1_col2\" class=\"data row1 col2\" >0.4678</td>\n      <td id=\"T_96017_row1_col3\" class=\"data row1 col3\" >-0.0090</td>\n      <td id=\"T_96017_row1_col4\" class=\"data row1 col4\" >0.3159</td>\n      <td id=\"T_96017_row1_col5\" class=\"data row1 col5\" >0.7550</td>\n    </tr>\n    <tr>\n      <th id=\"T_96017_level0_row2\" class=\"row_heading level0 row2\" >2</th>\n      <td id=\"T_96017_row2_col0\" class=\"data row2 col0\" >0.2790</td>\n      <td id=\"T_96017_row2_col1\" class=\"data row2 col1\" >0.2162</td>\n      <td id=\"T_96017_row2_col2\" class=\"data row2 col2\" >0.4650</td>\n      <td id=\"T_96017_row2_col3\" class=\"data row2 col3\" >-0.0042</td>\n      <td id=\"T_96017_row2_col4\" class=\"data row2 col4\" >0.3124</td>\n      <td id=\"T_96017_row2_col5\" class=\"data row2 col5\" >0.7642</td>\n    </tr>\n    <tr>\n      <th id=\"T_96017_level0_row3\" class=\"row_heading level0 row3\" >3</th>\n      <td id=\"T_96017_row3_col0\" class=\"data row3 col0\" >0.2842</td>\n      <td id=\"T_96017_row3_col1\" class=\"data row3 col1\" >0.2125</td>\n      <td id=\"T_96017_row3_col2\" class=\"data row3 col2\" >0.4610</td>\n      <td id=\"T_96017_row3_col3\" class=\"data row3 col3\" >0.0180</td>\n      <td id=\"T_96017_row3_col4\" class=\"data row3 col4\" >0.3099</td>\n      <td id=\"T_96017_row3_col5\" class=\"data row3 col5\" >0.7480</td>\n    </tr>\n    <tr>\n      <th id=\"T_96017_level0_row4\" class=\"row_heading level0 row4\" >4</th>\n      <td id=\"T_96017_row4_col0\" class=\"data row4 col0\" >0.2794</td>\n      <td id=\"T_96017_row4_col1\" class=\"data row4 col1\" >0.2154</td>\n      <td id=\"T_96017_row4_col2\" class=\"data row4 col2\" >0.4641</td>\n      <td id=\"T_96017_row4_col3\" class=\"data row4 col3\" >-0.0056</td>\n      <td id=\"T_96017_row4_col4\" class=\"data row4 col4\" >0.3129</td>\n      <td id=\"T_96017_row4_col5\" class=\"data row4 col5\" >0.7610</td>\n    </tr>\n    <tr>\n      <th id=\"T_96017_level0_row5\" class=\"row_heading level0 row5\" >5</th>\n      <td id=\"T_96017_row5_col0\" class=\"data row5 col0\" >0.2910</td>\n      <td id=\"T_96017_row5_col1\" class=\"data row5 col1\" >0.2219</td>\n      <td id=\"T_96017_row5_col2\" class=\"data row5 col2\" >0.4711</td>\n      <td id=\"T_96017_row5_col3\" class=\"data row5 col3\" >-0.0214</td>\n      <td id=\"T_96017_row5_col4\" class=\"data row5 col4\" >0.3190</td>\n      <td id=\"T_96017_row5_col5\" class=\"data row5 col5\" >0.7617</td>\n    </tr>\n    <tr>\n      <th id=\"T_96017_level0_row6\" class=\"row_heading level0 row6\" >6</th>\n      <td id=\"T_96017_row6_col0\" class=\"data row6 col0\" >0.2894</td>\n      <td id=\"T_96017_row6_col1\" class=\"data row6 col1\" >0.2259</td>\n      <td id=\"T_96017_row6_col2\" class=\"data row6 col2\" >0.4753</td>\n      <td id=\"T_96017_row6_col3\" class=\"data row6 col3\" >-0.0463</td>\n      <td id=\"T_96017_row6_col4\" class=\"data row6 col4\" >0.3207</td>\n      <td id=\"T_96017_row6_col5\" class=\"data row6 col5\" >0.7777</td>\n    </tr>\n    <tr>\n      <th id=\"T_96017_level0_row7\" class=\"row_heading level0 row7\" >7</th>\n      <td id=\"T_96017_row7_col0\" class=\"data row7 col0\" >0.2908</td>\n      <td id=\"T_96017_row7_col1\" class=\"data row7 col1\" >0.2184</td>\n      <td id=\"T_96017_row7_col2\" class=\"data row7 col2\" >0.4673</td>\n      <td id=\"T_96017_row7_col3\" class=\"data row7 col3\" >-0.0153</td>\n      <td id=\"T_96017_row7_col4\" class=\"data row7 col4\" >0.3161</td>\n      <td id=\"T_96017_row7_col5\" class=\"data row7 col5\" >0.7568</td>\n    </tr>\n    <tr>\n      <th id=\"T_96017_level0_row8\" class=\"row_heading level0 row8\" >8</th>\n      <td id=\"T_96017_row8_col0\" class=\"data row8 col0\" >0.2910</td>\n      <td id=\"T_96017_row8_col1\" class=\"data row8 col1\" >0.2202</td>\n      <td id=\"T_96017_row8_col2\" class=\"data row8 col2\" >0.4693</td>\n      <td id=\"T_96017_row8_col3\" class=\"data row8 col3\" >-0.0178</td>\n      <td id=\"T_96017_row8_col4\" class=\"data row8 col4\" >0.3165</td>\n      <td id=\"T_96017_row8_col5\" class=\"data row8 col5\" >0.7626</td>\n    </tr>\n    <tr>\n      <th id=\"T_96017_level0_row9\" class=\"row_heading level0 row9\" >9</th>\n      <td id=\"T_96017_row9_col0\" class=\"data row9 col0\" >0.2913</td>\n      <td id=\"T_96017_row9_col1\" class=\"data row9 col1\" >0.2182</td>\n      <td id=\"T_96017_row9_col2\" class=\"data row9 col2\" >0.4671</td>\n      <td id=\"T_96017_row9_col3\" class=\"data row9 col3\" >-0.0067</td>\n      <td id=\"T_96017_row9_col4\" class=\"data row9 col4\" >0.3147</td>\n      <td id=\"T_96017_row9_col5\" class=\"data row9 col5\" >0.7612</td>\n    </tr>\n    <tr>\n      <th id=\"T_96017_level0_row10\" class=\"row_heading level0 row10\" >Mean</th>\n      <td id=\"T_96017_row10_col0\" class=\"data row10 col0\" >0.2884</td>\n      <td id=\"T_96017_row10_col1\" class=\"data row10 col1\" >0.2190</td>\n      <td id=\"T_96017_row10_col2\" class=\"data row10 col2\" >0.4679</td>\n      <td id=\"T_96017_row10_col3\" class=\"data row10 col3\" >-0.0132</td>\n      <td id=\"T_96017_row10_col4\" class=\"data row10 col4\" >0.3156</td>\n      <td id=\"T_96017_row10_col5\" class=\"data row10 col5\" >0.7611</td>\n    </tr>\n    <tr>\n      <th id=\"T_96017_level0_row11\" class=\"row_heading level0 row11\" >Std</th>\n      <td id=\"T_96017_row11_col0\" class=\"data row11 col0\" >0.0052</td>\n      <td id=\"T_96017_row11_col1\" class=\"data row11 col1\" >0.0036</td>\n      <td id=\"T_96017_row11_col2\" class=\"data row11 col2\" >0.0039</td>\n      <td id=\"T_96017_row11_col3\" class=\"data row11 col3\" >0.0157</td>\n      <td id=\"T_96017_row11_col4\" class=\"data row11 col4\" >0.0031</td>\n      <td id=\"T_96017_row11_col5\" class=\"data row11 col5\" >0.0072</td>\n    </tr>\n  </tbody>\n</table>\n"
     },
     "metadata": {},
     "output_type": "display_data"
    },
    {
     "ename": "NotImplementedError",
     "evalue": "Model 'sklearn_KNeighborsRegressor' is not supported",
     "output_type": "error",
     "traceback": [
      "\u001B[0;31m---------------------------------------------------------------------------\u001B[0m",
      "\u001B[0;31mNotImplementedError\u001B[0m                       Traceback (most recent call last)",
      "Cell \u001B[0;32mIn[18], line 8\u001B[0m\n\u001B[1;32m      4\u001B[0m knn_model \u001B[38;5;241m=\u001B[39m create_model(\u001B[38;5;124m'\u001B[39m\u001B[38;5;124mknn\u001B[39m\u001B[38;5;124m'\u001B[39m)\n\u001B[1;32m      6\u001B[0m tuned_knn \u001B[38;5;241m=\u001B[39m tune_model(knn_model)\n\u001B[0;32m----> 8\u001B[0m model_go_knn \u001B[38;5;241m=\u001B[39m \u001B[43mconvert_model\u001B[49m\u001B[43m(\u001B[49m\u001B[43mtuned_knn\u001B[49m\u001B[43m,\u001B[49m\u001B[43m \u001B[49m\u001B[38;5;124;43m'\u001B[39;49m\u001B[38;5;124;43mgo\u001B[39;49m\u001B[38;5;124;43m'\u001B[39;49m\u001B[43m)\u001B[49m\n\u001B[1;32m     10\u001B[0m f \u001B[38;5;241m=\u001B[39m \u001B[38;5;28mopen\u001B[39m(\u001B[38;5;124m\"\u001B[39m\u001B[38;5;124mgolang_resource_records_knn.go\u001B[39m\u001B[38;5;124m\"\u001B[39m, \u001B[38;5;124m\"\u001B[39m\u001B[38;5;124ma\u001B[39m\u001B[38;5;124m\"\u001B[39m)\n\u001B[1;32m     11\u001B[0m f\u001B[38;5;241m.\u001B[39mwrite(model_go_knn)\n",
      "File \u001B[0;32m/opt/conda/lib/python3.11/site-packages/pycaret/utils/generic.py:964\u001B[0m, in \u001B[0;36mcheck_if_global_is_not_none.<locals>.decorator.<locals>.wrapper\u001B[0;34m(*args, **kwargs)\u001B[0m\n\u001B[1;32m    962\u001B[0m     \u001B[38;5;28;01mif\u001B[39;00m globals_d[name] \u001B[38;5;129;01mis\u001B[39;00m \u001B[38;5;28;01mNone\u001B[39;00m:\n\u001B[1;32m    963\u001B[0m         \u001B[38;5;28;01mraise\u001B[39;00m \u001B[38;5;167;01mValueError\u001B[39;00m(message)\n\u001B[0;32m--> 964\u001B[0m \u001B[38;5;28;01mreturn\u001B[39;00m \u001B[43mfunc\u001B[49m\u001B[43m(\u001B[49m\u001B[38;5;241;43m*\u001B[39;49m\u001B[43margs\u001B[49m\u001B[43m,\u001B[49m\u001B[43m \u001B[49m\u001B[38;5;241;43m*\u001B[39;49m\u001B[38;5;241;43m*\u001B[39;49m\u001B[43mkwargs\u001B[49m\u001B[43m)\u001B[49m\n",
      "File \u001B[0;32m/opt/conda/lib/python3.11/site-packages/pycaret/regression/functional.py:2797\u001B[0m, in \u001B[0;36mconvert_model\u001B[0;34m(estimator, language)\u001B[0m\n\u001B[1;32m   2748\u001B[0m \u001B[38;5;129m@check_if_global_is_not_none\u001B[39m(\u001B[38;5;28mglobals\u001B[39m(), _CURRENT_EXPERIMENT_DECORATOR_DICT)\n\u001B[1;32m   2749\u001B[0m \u001B[38;5;28;01mdef\u001B[39;00m \u001B[38;5;21mconvert_model\u001B[39m(estimator, language: \u001B[38;5;28mstr\u001B[39m \u001B[38;5;241m=\u001B[39m \u001B[38;5;124m\"\u001B[39m\u001B[38;5;124mpython\u001B[39m\u001B[38;5;124m\"\u001B[39m) \u001B[38;5;241m-\u001B[39m\u001B[38;5;241m>\u001B[39m \u001B[38;5;28mstr\u001B[39m:\n\u001B[1;32m   2750\u001B[0m \u001B[38;5;250m    \u001B[39m\u001B[38;5;124;03m\"\"\"\u001B[39;00m\n\u001B[1;32m   2751\u001B[0m \u001B[38;5;124;03m    This function transpiles trained machine learning models into native\u001B[39;00m\n\u001B[1;32m   2752\u001B[0m \u001B[38;5;124;03m    inference script in different programming languages (Python, C, Java,\u001B[39;00m\n\u001B[0;32m   (...)\u001B[0m\n\u001B[1;32m   2795\u001B[0m \n\u001B[1;32m   2796\u001B[0m \u001B[38;5;124;03m    \"\"\"\u001B[39;00m\n\u001B[0;32m-> 2797\u001B[0m     \u001B[38;5;28;01mreturn\u001B[39;00m \u001B[43m_CURRENT_EXPERIMENT\u001B[49m\u001B[38;5;241;43m.\u001B[39;49m\u001B[43mconvert_model\u001B[49m\u001B[43m(\u001B[49m\u001B[43mestimator\u001B[49m\u001B[43m,\u001B[49m\u001B[43m \u001B[49m\u001B[43mlanguage\u001B[49m\u001B[43m)\u001B[49m\n",
      "File \u001B[0;32m/opt/conda/lib/python3.11/site-packages/pycaret/internal/pycaret_experiment/tabular_experiment.py:2507\u001B[0m, in \u001B[0;36m_TabularExperiment.convert_model\u001B[0;34m(estimator, language)\u001B[0m\n\u001B[1;32m   2505\u001B[0m     \u001B[38;5;28;01mreturn\u001B[39;00m m2c\u001B[38;5;241m.\u001B[39mexport_to_f_sharp(estimator)\n\u001B[1;32m   2506\u001B[0m \u001B[38;5;28;01melif\u001B[39;00m language \u001B[38;5;241m==\u001B[39m \u001B[38;5;124m\"\u001B[39m\u001B[38;5;124mgo\u001B[39m\u001B[38;5;124m\"\u001B[39m:\n\u001B[0;32m-> 2507\u001B[0m     \u001B[38;5;28;01mreturn\u001B[39;00m \u001B[43mm2c\u001B[49m\u001B[38;5;241;43m.\u001B[39;49m\u001B[43mexport_to_go\u001B[49m\u001B[43m(\u001B[49m\u001B[43mestimator\u001B[49m\u001B[43m)\u001B[49m\n\u001B[1;32m   2508\u001B[0m \u001B[38;5;28;01melif\u001B[39;00m language \u001B[38;5;241m==\u001B[39m \u001B[38;5;124m\"\u001B[39m\u001B[38;5;124mhaskell\u001B[39m\u001B[38;5;124m\"\u001B[39m:\n\u001B[1;32m   2509\u001B[0m     \u001B[38;5;28;01mreturn\u001B[39;00m m2c\u001B[38;5;241m.\u001B[39mexport_to_haskell(estimator)\n",
      "File \u001B[0;32m/opt/conda/lib/python3.11/site-packages/m2cgen/exporters.py:105\u001B[0m, in \u001B[0;36mexport_to_go\u001B[0;34m(model, indent, function_name)\u001B[0m\n\u001B[1;32m     85\u001B[0m \u001B[38;5;250m\u001B[39m\u001B[38;5;124;03m\"\"\"\u001B[39;00m\n\u001B[1;32m     86\u001B[0m \u001B[38;5;124;03mGenerates a Go code representation of the given model.\u001B[39;00m\n\u001B[1;32m     87\u001B[0m \n\u001B[0;32m   (...)\u001B[0m\n\u001B[1;32m     99\u001B[0m \u001B[38;5;124;03mcode : string\u001B[39;00m\n\u001B[1;32m    100\u001B[0m \u001B[38;5;124;03m\"\"\"\u001B[39;00m\n\u001B[1;32m    101\u001B[0m interpreter \u001B[38;5;241m=\u001B[39m interpreters\u001B[38;5;241m.\u001B[39mGoInterpreter(\n\u001B[1;32m    102\u001B[0m     indent\u001B[38;5;241m=\u001B[39mindent,\n\u001B[1;32m    103\u001B[0m     function_name\u001B[38;5;241m=\u001B[39mfunction_name\n\u001B[1;32m    104\u001B[0m )\n\u001B[0;32m--> 105\u001B[0m \u001B[38;5;28;01mreturn\u001B[39;00m \u001B[43m_export\u001B[49m\u001B[43m(\u001B[49m\u001B[43mmodel\u001B[49m\u001B[43m,\u001B[49m\u001B[43m \u001B[49m\u001B[43minterpreter\u001B[49m\u001B[43m)\u001B[49m\n",
      "File \u001B[0;32m/opt/conda/lib/python3.11/site-packages/m2cgen/exporters.py:458\u001B[0m, in \u001B[0;36m_export\u001B[0;34m(model, interpreter)\u001B[0m\n\u001B[1;32m    457\u001B[0m \u001B[38;5;28;01mdef\u001B[39;00m \u001B[38;5;21m_export\u001B[39m(model, interpreter):\n\u001B[0;32m--> 458\u001B[0m     assembler_cls \u001B[38;5;241m=\u001B[39m \u001B[43mget_assembler_cls\u001B[49m\u001B[43m(\u001B[49m\u001B[43mmodel\u001B[49m\u001B[43m)\u001B[49m\n\u001B[1;32m    459\u001B[0m     model_ast \u001B[38;5;241m=\u001B[39m assembler_cls(model)\u001B[38;5;241m.\u001B[39massemble()\n\u001B[1;32m    460\u001B[0m     \u001B[38;5;28;01mreturn\u001B[39;00m interpreter\u001B[38;5;241m.\u001B[39minterpret(model_ast)\n",
      "File \u001B[0;32m/opt/conda/lib/python3.11/site-packages/m2cgen/assemblers/__init__.py:147\u001B[0m, in \u001B[0;36mget_assembler_cls\u001B[0;34m(model)\u001B[0m\n\u001B[1;32m    144\u001B[0m assembler_cls \u001B[38;5;241m=\u001B[39m SUPPORTED_MODELS\u001B[38;5;241m.\u001B[39mget(model_name)\n\u001B[1;32m    146\u001B[0m \u001B[38;5;28;01mif\u001B[39;00m \u001B[38;5;129;01mnot\u001B[39;00m assembler_cls:\n\u001B[0;32m--> 147\u001B[0m     \u001B[38;5;28;01mraise\u001B[39;00m \u001B[38;5;167;01mNotImplementedError\u001B[39;00m(\u001B[38;5;124mf\u001B[39m\u001B[38;5;124m\"\u001B[39m\u001B[38;5;124mModel \u001B[39m\u001B[38;5;124m'\u001B[39m\u001B[38;5;132;01m{\u001B[39;00mmodel_name\u001B[38;5;132;01m}\u001B[39;00m\u001B[38;5;124m'\u001B[39m\u001B[38;5;124m is not supported\u001B[39m\u001B[38;5;124m\"\u001B[39m)\n\u001B[1;32m    149\u001B[0m \u001B[38;5;28;01mreturn\u001B[39;00m assembler_cls\n",
      "\u001B[0;31mNotImplementedError\u001B[0m: Model 'sklearn_KNeighborsRegressor' is not supported"
     ]
    }
   ],
   "source": [
    "from pycaret.regression import *\n",
    "\n",
    "knn_exp = setup(df_records, target='is_legit', session_id=128, use_gpu=True, log_experiment=False, experiment_name='records_regression', normalize=True)\n",
    "knn_model = create_model('knn')\n",
    "\n",
    "tuned_knn = tune_model(knn_model)\n",
    "\n",
    "model_go_knn = convert_model(tuned_knn, 'go')\n",
    "\n",
    "f = open(\"golang_resource_records_knn.go\", \"a\")\n",
    "f.write(model_go_knn)\n",
    "f.close()"
   ],
   "metadata": {
    "collapsed": false,
    "ExecuteTime": {
     "end_time": "2024-03-27T12:04:33.179651Z",
     "start_time": "2024-03-27T12:00:39.607083Z"
    }
   },
   "id": "a5b01c6f691593d1",
   "execution_count": 18
  },
  {
   "cell_type": "code",
   "outputs": [],
   "source": [],
   "metadata": {
    "collapsed": false
   },
   "id": "d4e23b2cfedfc178"
  },
  {
   "cell_type": "code",
   "outputs": [
    {
     "name": "stdout",
     "output_type": "stream",
     "text": [
      "[LightGBM] [Warning] There are no meaningful features which satisfy the provided configuration. Decreasing Dataset parameters min_data_in_bin or min_data_in_leaf and re-constructing Dataset might resolve this warning.\n",
      "[LightGBM] [Info] This is the GPU trainer!!\n",
      "[LightGBM] [Info] Total Bins 0\n",
      "[LightGBM] [Info] Number of data points in the train set: 2, number of used features: 0\n",
      "[LightGBM] [Warning] There are no meaningful features which satisfy the provided configuration. Decreasing Dataset parameters min_data_in_bin or min_data_in_leaf and re-constructing Dataset might resolve this warning.\n",
      "[LightGBM] [Warning] Using sparse features with CUDA is currently not supported.\n",
      "[LightGBM] [Warning] There are no meaningful features which satisfy the provided configuration. Decreasing Dataset parameters min_data_in_bin or min_data_in_leaf and re-constructing Dataset might resolve this warning.\n",
      "[LightGBM] [Info] This is the GPU trainer!!\n",
      "[LightGBM] [Info] Total Bins 0\n",
      "[LightGBM] [Info] Number of data points in the train set: 2, number of used features: 0\n",
      "[LightGBM] [Warning] There are no meaningful features which satisfy the provided configuration. Decreasing Dataset parameters min_data_in_bin or min_data_in_leaf and re-constructing Dataset might resolve this warning.\n",
      "[LightGBM] [Warning] Using sparse features with CUDA is currently not supported.\n"
     ]
    },
    {
     "name": "stderr",
     "output_type": "stream",
     "text": [
      "[LightGBM] [Fatal] CUDA Tree Learner was not enabled in this build.\n",
      "Please recompile with CMake option -DUSE_CUDA=1\n",
      "[LightGBM] [Fatal] CUDA Tree Learner was not enabled in this build.\n",
      "Please recompile with CMake option -DUSE_CUDA=1\n"
     ]
    },
    {
     "name": "stdout",
     "output_type": "stream",
     "text": [
      "[LightGBM] [Warning] There are no meaningful features which satisfy the provided configuration. Decreasing Dataset parameters min_data_in_bin or min_data_in_leaf and re-constructing Dataset might resolve this warning.\n",
      "[LightGBM] [Info] This is the GPU trainer!!\n",
      "[LightGBM] [Info] Total Bins 0\n",
      "[LightGBM] [Info] Number of data points in the train set: 2, number of used features: 0\n",
      "[LightGBM] [Warning] There are no meaningful features which satisfy the provided configuration. Decreasing Dataset parameters min_data_in_bin or min_data_in_leaf and re-constructing Dataset might resolve this warning.\n",
      "[LightGBM] [Warning] Using sparse features with CUDA is currently not supported.\n",
      "[LightGBM] [Warning] There are no meaningful features which satisfy the provided configuration. Decreasing Dataset parameters min_data_in_bin or min_data_in_leaf and re-constructing Dataset might resolve this warning.\n",
      "[LightGBM] [Info] This is the GPU trainer!!\n",
      "[LightGBM] [Info] Total Bins 0\n",
      "[LightGBM] [Info] Number of data points in the train set: 2, number of used features: 0\n",
      "[LightGBM] [Warning] There are no meaningful features which satisfy the provided configuration. Decreasing Dataset parameters min_data_in_bin or min_data_in_leaf and re-constructing Dataset might resolve this warning.\n",
      "[LightGBM] [Warning] Using sparse features with CUDA is currently not supported.\n"
     ]
    },
    {
     "name": "stderr",
     "output_type": "stream",
     "text": [
      "[LightGBM] [Fatal] CUDA Tree Learner was not enabled in this build.\n",
      "Please recompile with CMake option -DUSE_CUDA=1\n",
      "[LightGBM] [Fatal] CUDA Tree Learner was not enabled in this build.\n",
      "Please recompile with CMake option -DUSE_CUDA=1\n"
     ]
    },
    {
     "name": "stdout",
     "output_type": "stream",
     "text": [
      "[LightGBM] [Warning] There are no meaningful features which satisfy the provided configuration. Decreasing Dataset parameters min_data_in_bin or min_data_in_leaf and re-constructing Dataset might resolve this warning.\n",
      "[LightGBM] [Info] This is the GPU trainer!!\n",
      "[LightGBM] [Info] Total Bins 0\n",
      "[LightGBM] [Info] Number of data points in the train set: 2, number of used features: 0\n",
      "[LightGBM] [Warning] There are no meaningful features which satisfy the provided configuration. Decreasing Dataset parameters min_data_in_bin or min_data_in_leaf and re-constructing Dataset might resolve this warning.\n",
      "[LightGBM] [Warning] Using sparse features with CUDA is currently not supported.\n",
      "[LightGBM] [Warning] There are no meaningful features which satisfy the provided configuration. Decreasing Dataset parameters min_data_in_bin or min_data_in_leaf and re-constructing Dataset might resolve this warning.\n",
      "[LightGBM] [Info] This is the GPU trainer!!\n",
      "[LightGBM] [Info] Total Bins 0\n",
      "[LightGBM] [Info] Number of data points in the train set: 2, number of used features: 0\n",
      "[LightGBM] [Warning] There are no meaningful features which satisfy the provided configuration. Decreasing Dataset parameters min_data_in_bin or min_data_in_leaf and re-constructing Dataset might resolve this warning.\n",
      "[LightGBM] [Warning] Using sparse features with CUDA is currently not supported.\n"
     ]
    },
    {
     "name": "stderr",
     "output_type": "stream",
     "text": [
      "[LightGBM] [Fatal] CUDA Tree Learner was not enabled in this build.\n",
      "Please recompile with CMake option -DUSE_CUDA=1\n",
      "[LightGBM] [Fatal] CUDA Tree Learner was not enabled in this build.\n",
      "Please recompile with CMake option -DUSE_CUDA=1\n"
     ]
    },
    {
     "name": "stdout",
     "output_type": "stream",
     "text": [
      "[LightGBM] [Warning] There are no meaningful features which satisfy the provided configuration. Decreasing Dataset parameters min_data_in_bin or min_data_in_leaf and re-constructing Dataset might resolve this warning.\n",
      "[LightGBM] [Info] This is the GPU trainer!!\n",
      "[LightGBM] [Info] Total Bins 0\n",
      "[LightGBM] [Info] Number of data points in the train set: 2, number of used features: 0\n",
      "[LightGBM] [Warning] There are no meaningful features which satisfy the provided configuration. Decreasing Dataset parameters min_data_in_bin or min_data_in_leaf and re-constructing Dataset might resolve this warning.\n",
      "[LightGBM] [Warning] Using sparse features with CUDA is currently not supported.\n",
      "[LightGBM] [Warning] There are no meaningful features which satisfy the provided configuration. Decreasing Dataset parameters min_data_in_bin or min_data_in_leaf and re-constructing Dataset might resolve this warning.\n",
      "[LightGBM] [Info] This is the GPU trainer!!\n",
      "[LightGBM] [Info] Total Bins 0\n",
      "[LightGBM] [Info] Number of data points in the train set: 2, number of used features: 0\n",
      "[LightGBM] [Warning] There are no meaningful features which satisfy the provided configuration. Decreasing Dataset parameters min_data_in_bin or min_data_in_leaf and re-constructing Dataset might resolve this warning.\n",
      "[LightGBM] [Warning] Using sparse features with CUDA is currently not supported.\n"
     ]
    },
    {
     "name": "stderr",
     "output_type": "stream",
     "text": [
      "[LightGBM] [Fatal] CUDA Tree Learner was not enabled in this build.\n",
      "Please recompile with CMake option -DUSE_CUDA=1\n",
      "[LightGBM] [Fatal] CUDA Tree Learner was not enabled in this build.\n",
      "Please recompile with CMake option -DUSE_CUDA=1\n"
     ]
    },
    {
     "name": "stdout",
     "output_type": "stream",
     "text": [
      "[LightGBM] [Warning] There are no meaningful features which satisfy the provided configuration. Decreasing Dataset parameters min_data_in_bin or min_data_in_leaf and re-constructing Dataset might resolve this warning.\n",
      "[LightGBM] [Info] This is the GPU trainer!!\n",
      "[LightGBM] [Info] Total Bins 0\n",
      "[LightGBM] [Info] Number of data points in the train set: 2, number of used features: 0\n",
      "[LightGBM] [Warning] There are no meaningful features which satisfy the provided configuration. Decreasing Dataset parameters min_data_in_bin or min_data_in_leaf and re-constructing Dataset might resolve this warning.\n",
      "[LightGBM] [Warning] Using sparse features with CUDA is currently not supported.\n",
      "[LightGBM] [Warning] There are no meaningful features which satisfy the provided configuration. Decreasing Dataset parameters min_data_in_bin or min_data_in_leaf and re-constructing Dataset might resolve this warning.\n",
      "[LightGBM] [Info] This is the GPU trainer!!\n",
      "[LightGBM] [Info] Total Bins 0\n",
      "[LightGBM] [Info] Number of data points in the train set: 2, number of used features: 0\n",
      "[LightGBM] [Warning] There are no meaningful features which satisfy the provided configuration. Decreasing Dataset parameters min_data_in_bin or min_data_in_leaf and re-constructing Dataset might resolve this warning.\n",
      "[LightGBM] [Warning] Using sparse features with CUDA is currently not supported.\n"
     ]
    },
    {
     "name": "stderr",
     "output_type": "stream",
     "text": [
      "[LightGBM] [Fatal] CUDA Tree Learner was not enabled in this build.\n",
      "Please recompile with CMake option -DUSE_CUDA=1\n",
      "[LightGBM] [Fatal] CUDA Tree Learner was not enabled in this build.\n",
      "Please recompile with CMake option -DUSE_CUDA=1\n"
     ]
    },
    {
     "name": "stdout",
     "output_type": "stream",
     "text": [
      "[LightGBM] [Warning] There are no meaningful features which satisfy the provided configuration. Decreasing Dataset parameters min_data_in_bin or min_data_in_leaf and re-constructing Dataset might resolve this warning.\n",
      "[LightGBM] [Info] This is the GPU trainer!!\n",
      "[LightGBM] [Info] Total Bins 0\n",
      "[LightGBM] [Info] Number of data points in the train set: 2, number of used features: 0\n",
      "[LightGBM] [Warning] There are no meaningful features which satisfy the provided configuration. Decreasing Dataset parameters min_data_in_bin or min_data_in_leaf and re-constructing Dataset might resolve this warning.\n",
      "[LightGBM] [Warning] Using sparse features with CUDA is currently not supported.\n",
      "[LightGBM] [Warning] There are no meaningful features which satisfy the provided configuration. Decreasing Dataset parameters min_data_in_bin or min_data_in_leaf and re-constructing Dataset might resolve this warning.\n",
      "[LightGBM] [Info] This is the GPU trainer!!\n",
      "[LightGBM] [Info] Total Bins 0\n",
      "[LightGBM] [Info] Number of data points in the train set: 2, number of used features: 0\n",
      "[LightGBM] [Warning] There are no meaningful features which satisfy the provided configuration. Decreasing Dataset parameters min_data_in_bin or min_data_in_leaf and re-constructing Dataset might resolve this warning.\n",
      "[LightGBM] [Warning] Using sparse features with CUDA is currently not supported.\n"
     ]
    },
    {
     "name": "stderr",
     "output_type": "stream",
     "text": [
      "[LightGBM] [Fatal] CUDA Tree Learner was not enabled in this build.\n",
      "Please recompile with CMake option -DUSE_CUDA=1\n",
      "[LightGBM] [Fatal] CUDA Tree Learner was not enabled in this build.\n",
      "Please recompile with CMake option -DUSE_CUDA=1\n"
     ]
    },
    {
     "data": {
      "text/plain": "<pandas.io.formats.style.Styler at 0x7ff1eb80dc10>",
      "text/html": "<style type=\"text/css\">\n#T_60e14_row9_col1, #T_60e14_row15_col1, #T_60e14_row20_col1 {\n  background-color: lightgreen;\n}\n</style>\n<table id=\"T_60e14\">\n  <thead>\n    <tr>\n      <th class=\"blank level0\" >&nbsp;</th>\n      <th id=\"T_60e14_level0_col0\" class=\"col_heading level0 col0\" >Description</th>\n      <th id=\"T_60e14_level0_col1\" class=\"col_heading level0 col1\" >Value</th>\n    </tr>\n  </thead>\n  <tbody>\n    <tr>\n      <th id=\"T_60e14_level0_row0\" class=\"row_heading level0 row0\" >0</th>\n      <td id=\"T_60e14_row0_col0\" class=\"data row0 col0\" >Session id</td>\n      <td id=\"T_60e14_row0_col1\" class=\"data row0 col1\" >128</td>\n    </tr>\n    <tr>\n      <th id=\"T_60e14_level0_row1\" class=\"row_heading level0 row1\" >1</th>\n      <td id=\"T_60e14_row1_col0\" class=\"data row1 col0\" >Target</td>\n      <td id=\"T_60e14_row1_col1\" class=\"data row1 col1\" >is_legit</td>\n    </tr>\n    <tr>\n      <th id=\"T_60e14_level0_row2\" class=\"row_heading level0 row2\" >2</th>\n      <td id=\"T_60e14_row2_col0\" class=\"data row2 col0\" >Target type</td>\n      <td id=\"T_60e14_row2_col1\" class=\"data row2 col1\" >Regression</td>\n    </tr>\n    <tr>\n      <th id=\"T_60e14_level0_row3\" class=\"row_heading level0 row3\" >3</th>\n      <td id=\"T_60e14_row3_col0\" class=\"data row3 col0\" >Original data shape</td>\n      <td id=\"T_60e14_row3_col1\" class=\"data row3 col1\" >(239257, 8)</td>\n    </tr>\n    <tr>\n      <th id=\"T_60e14_level0_row4\" class=\"row_heading level0 row4\" >4</th>\n      <td id=\"T_60e14_row4_col0\" class=\"data row4 col0\" >Transformed data shape</td>\n      <td id=\"T_60e14_row4_col1\" class=\"data row4 col1\" >(239257, 8)</td>\n    </tr>\n    <tr>\n      <th id=\"T_60e14_level0_row5\" class=\"row_heading level0 row5\" >5</th>\n      <td id=\"T_60e14_row5_col0\" class=\"data row5 col0\" >Transformed train set shape</td>\n      <td id=\"T_60e14_row5_col1\" class=\"data row5 col1\" >(167479, 8)</td>\n    </tr>\n    <tr>\n      <th id=\"T_60e14_level0_row6\" class=\"row_heading level0 row6\" >6</th>\n      <td id=\"T_60e14_row6_col0\" class=\"data row6 col0\" >Transformed test set shape</td>\n      <td id=\"T_60e14_row6_col1\" class=\"data row6 col1\" >(71778, 8)</td>\n    </tr>\n    <tr>\n      <th id=\"T_60e14_level0_row7\" class=\"row_heading level0 row7\" >7</th>\n      <td id=\"T_60e14_row7_col0\" class=\"data row7 col0\" >Numeric features</td>\n      <td id=\"T_60e14_row7_col1\" class=\"data row7 col1\" >6</td>\n    </tr>\n    <tr>\n      <th id=\"T_60e14_level0_row8\" class=\"row_heading level0 row8\" >8</th>\n      <td id=\"T_60e14_row8_col0\" class=\"data row8 col0\" >Categorical features</td>\n      <td id=\"T_60e14_row8_col1\" class=\"data row8 col1\" >1</td>\n    </tr>\n    <tr>\n      <th id=\"T_60e14_level0_row9\" class=\"row_heading level0 row9\" >9</th>\n      <td id=\"T_60e14_row9_col0\" class=\"data row9 col0\" >Preprocess</td>\n      <td id=\"T_60e14_row9_col1\" class=\"data row9 col1\" >True</td>\n    </tr>\n    <tr>\n      <th id=\"T_60e14_level0_row10\" class=\"row_heading level0 row10\" >10</th>\n      <td id=\"T_60e14_row10_col0\" class=\"data row10 col0\" >Imputation type</td>\n      <td id=\"T_60e14_row10_col1\" class=\"data row10 col1\" >simple</td>\n    </tr>\n    <tr>\n      <th id=\"T_60e14_level0_row11\" class=\"row_heading level0 row11\" >11</th>\n      <td id=\"T_60e14_row11_col0\" class=\"data row11 col0\" >Numeric imputation</td>\n      <td id=\"T_60e14_row11_col1\" class=\"data row11 col1\" >mean</td>\n    </tr>\n    <tr>\n      <th id=\"T_60e14_level0_row12\" class=\"row_heading level0 row12\" >12</th>\n      <td id=\"T_60e14_row12_col0\" class=\"data row12 col0\" >Categorical imputation</td>\n      <td id=\"T_60e14_row12_col1\" class=\"data row12 col1\" >mode</td>\n    </tr>\n    <tr>\n      <th id=\"T_60e14_level0_row13\" class=\"row_heading level0 row13\" >13</th>\n      <td id=\"T_60e14_row13_col0\" class=\"data row13 col0\" >Maximum one-hot encoding</td>\n      <td id=\"T_60e14_row13_col1\" class=\"data row13 col1\" >25</td>\n    </tr>\n    <tr>\n      <th id=\"T_60e14_level0_row14\" class=\"row_heading level0 row14\" >14</th>\n      <td id=\"T_60e14_row14_col0\" class=\"data row14 col0\" >Encoding method</td>\n      <td id=\"T_60e14_row14_col1\" class=\"data row14 col1\" >None</td>\n    </tr>\n    <tr>\n      <th id=\"T_60e14_level0_row15\" class=\"row_heading level0 row15\" >15</th>\n      <td id=\"T_60e14_row15_col0\" class=\"data row15 col0\" >Normalize</td>\n      <td id=\"T_60e14_row15_col1\" class=\"data row15 col1\" >True</td>\n    </tr>\n    <tr>\n      <th id=\"T_60e14_level0_row16\" class=\"row_heading level0 row16\" >16</th>\n      <td id=\"T_60e14_row16_col0\" class=\"data row16 col0\" >Normalize method</td>\n      <td id=\"T_60e14_row16_col1\" class=\"data row16 col1\" >zscore</td>\n    </tr>\n    <tr>\n      <th id=\"T_60e14_level0_row17\" class=\"row_heading level0 row17\" >17</th>\n      <td id=\"T_60e14_row17_col0\" class=\"data row17 col0\" >Fold Generator</td>\n      <td id=\"T_60e14_row17_col1\" class=\"data row17 col1\" >KFold</td>\n    </tr>\n    <tr>\n      <th id=\"T_60e14_level0_row18\" class=\"row_heading level0 row18\" >18</th>\n      <td id=\"T_60e14_row18_col0\" class=\"data row18 col0\" >Fold Number</td>\n      <td id=\"T_60e14_row18_col1\" class=\"data row18 col1\" >10</td>\n    </tr>\n    <tr>\n      <th id=\"T_60e14_level0_row19\" class=\"row_heading level0 row19\" >19</th>\n      <td id=\"T_60e14_row19_col0\" class=\"data row19 col0\" >CPU Jobs</td>\n      <td id=\"T_60e14_row19_col1\" class=\"data row19 col1\" >-1</td>\n    </tr>\n    <tr>\n      <th id=\"T_60e14_level0_row20\" class=\"row_heading level0 row20\" >20</th>\n      <td id=\"T_60e14_row20_col0\" class=\"data row20 col0\" >Use GPU</td>\n      <td id=\"T_60e14_row20_col1\" class=\"data row20 col1\" >True</td>\n    </tr>\n    <tr>\n      <th id=\"T_60e14_level0_row21\" class=\"row_heading level0 row21\" >21</th>\n      <td id=\"T_60e14_row21_col0\" class=\"data row21 col0\" >Log Experiment</td>\n      <td id=\"T_60e14_row21_col1\" class=\"data row21 col1\" >False</td>\n    </tr>\n    <tr>\n      <th id=\"T_60e14_level0_row22\" class=\"row_heading level0 row22\" >22</th>\n      <td id=\"T_60e14_row22_col0\" class=\"data row22 col0\" >Experiment Name</td>\n      <td id=\"T_60e14_row22_col1\" class=\"data row22 col1\" >records_regression</td>\n    </tr>\n    <tr>\n      <th id=\"T_60e14_level0_row23\" class=\"row_heading level0 row23\" >23</th>\n      <td id=\"T_60e14_row23_col0\" class=\"data row23 col0\" >USI</td>\n      <td id=\"T_60e14_row23_col1\" class=\"data row23 col1\" >1d45</td>\n    </tr>\n  </tbody>\n</table>\n"
     },
     "metadata": {},
     "output_type": "display_data"
    },
    {
     "name": "stdout",
     "output_type": "stream",
     "text": [
      "[LightGBM] [Warning] There are no meaningful features which satisfy the provided configuration. Decreasing Dataset parameters min_data_in_bin or min_data_in_leaf and re-constructing Dataset might resolve this warning.\n",
      "[LightGBM] [Info] This is the GPU trainer!!\n",
      "[LightGBM] [Info] Total Bins 0\n",
      "[LightGBM] [Info] Number of data points in the train set: 2, number of used features: 0\n",
      "[LightGBM] [Warning] There are no meaningful features which satisfy the provided configuration. Decreasing Dataset parameters min_data_in_bin or min_data_in_leaf and re-constructing Dataset might resolve this warning.\n",
      "[LightGBM] [Warning] Using sparse features with CUDA is currently not supported.\n",
      "[LightGBM] [Warning] There are no meaningful features which satisfy the provided configuration. Decreasing Dataset parameters min_data_in_bin or min_data_in_leaf and re-constructing Dataset might resolve this warning.\n",
      "[LightGBM] [Info] This is the GPU trainer!!\n",
      "[LightGBM] [Info] Total Bins 0\n",
      "[LightGBM] [Info] Number of data points in the train set: 2, number of used features: 0\n",
      "[LightGBM] [Warning] There are no meaningful features which satisfy the provided configuration. Decreasing Dataset parameters min_data_in_bin or min_data_in_leaf and re-constructing Dataset might resolve this warning.\n",
      "[LightGBM] [Warning] Using sparse features with CUDA is currently not supported.\n"
     ]
    },
    {
     "name": "stderr",
     "output_type": "stream",
     "text": [
      "[LightGBM] [Fatal] CUDA Tree Learner was not enabled in this build.\n",
      "Please recompile with CMake option -DUSE_CUDA=1\n",
      "[LightGBM] [Fatal] CUDA Tree Learner was not enabled in this build.\n",
      "Please recompile with CMake option -DUSE_CUDA=1\n"
     ]
    },
    {
     "data": {
      "text/plain": "                                                                    \n                                                                    \nInitiated  . . . . . . . . . . . . . . . . . .              12:09:58\nStatus     . . . . . . . . . . . . . . . . . .  Loading Dependencies\nEstimator  . . . . . . . . . . . . . . . . . .     Compiling Library",
      "text/html": "<div>\n<style scoped>\n    .dataframe tbody tr th:only-of-type {\n        vertical-align: middle;\n    }\n\n    .dataframe tbody tr th {\n        vertical-align: top;\n    }\n\n    .dataframe thead th {\n        text-align: right;\n    }\n</style>\n<table border=\"1\" class=\"dataframe\">\n  <thead>\n    <tr style=\"text-align: right;\">\n      <th></th>\n      <th></th>\n      <th></th>\n    </tr>\n    <tr>\n      <th></th>\n      <th></th>\n      <th></th>\n    </tr>\n  </thead>\n  <tbody>\n    <tr>\n      <th>Initiated</th>\n      <td>. . . . . . . . . . . . . . . . . .</td>\n      <td>12:09:58</td>\n    </tr>\n    <tr>\n      <th>Status</th>\n      <td>. . . . . . . . . . . . . . . . . .</td>\n      <td>Loading Dependencies</td>\n    </tr>\n    <tr>\n      <th>Estimator</th>\n      <td>. . . . . . . . . . . . . . . . . .</td>\n      <td>Compiling Library</td>\n    </tr>\n  </tbody>\n</table>\n</div>"
     },
     "metadata": {},
     "output_type": "display_data"
    },
    {
     "data": {
      "text/plain": "<IPython.core.display.HTML object>",
      "text/html": ""
     },
     "metadata": {},
     "output_type": "display_data"
    },
    {
     "data": {
      "text/plain": "<pandas.io.formats.style.Styler at 0x7ff1eb84ae50>",
      "text/html": "<style type=\"text/css\">\n#T_2d02e_row10_col0, #T_2d02e_row10_col1, #T_2d02e_row10_col2, #T_2d02e_row10_col3, #T_2d02e_row10_col4, #T_2d02e_row10_col5 {\n  background: yellow;\n}\n</style>\n<table id=\"T_2d02e\">\n  <thead>\n    <tr>\n      <th class=\"blank level0\" >&nbsp;</th>\n      <th id=\"T_2d02e_level0_col0\" class=\"col_heading level0 col0\" >MAE</th>\n      <th id=\"T_2d02e_level0_col1\" class=\"col_heading level0 col1\" >MSE</th>\n      <th id=\"T_2d02e_level0_col2\" class=\"col_heading level0 col2\" >RMSE</th>\n      <th id=\"T_2d02e_level0_col3\" class=\"col_heading level0 col3\" >R2</th>\n      <th id=\"T_2d02e_level0_col4\" class=\"col_heading level0 col4\" >RMSLE</th>\n      <th id=\"T_2d02e_level0_col5\" class=\"col_heading level0 col5\" >MAPE</th>\n    </tr>\n    <tr>\n      <th class=\"index_name level0\" >Fold</th>\n      <th class=\"blank col0\" >&nbsp;</th>\n      <th class=\"blank col1\" >&nbsp;</th>\n      <th class=\"blank col2\" >&nbsp;</th>\n      <th class=\"blank col3\" >&nbsp;</th>\n      <th class=\"blank col4\" >&nbsp;</th>\n      <th class=\"blank col5\" >&nbsp;</th>\n    </tr>\n  </thead>\n  <tbody>\n    <tr>\n      <th id=\"T_2d02e_level0_row0\" class=\"row_heading level0 row0\" >0</th>\n      <td id=\"T_2d02e_row0_col0\" class=\"data row0 col0\" >0.4213</td>\n      <td id=\"T_2d02e_row0_col1\" class=\"data row0 col1\" >0.2058</td>\n      <td id=\"T_2d02e_row0_col2\" class=\"data row0 col2\" >0.4536</td>\n      <td id=\"T_2d02e_row0_col3\" class=\"data row0 col3\" >0.0522</td>\n      <td id=\"T_2d02e_row0_col4\" class=\"data row0 col4\" >0.3219</td>\n      <td id=\"T_2d02e_row0_col5\" class=\"data row0 col5\" >0.6275</td>\n    </tr>\n    <tr>\n      <th id=\"T_2d02e_level0_row1\" class=\"row_heading level0 row1\" >1</th>\n      <td id=\"T_2d02e_row1_col0\" class=\"data row1 col0\" >0.3851</td>\n      <td id=\"T_2d02e_row1_col1\" class=\"data row1 col1\" >0.1922</td>\n      <td id=\"T_2d02e_row1_col2\" class=\"data row1 col2\" >0.4384</td>\n      <td id=\"T_2d02e_row1_col3\" class=\"data row1 col3\" >0.1138</td>\n      <td id=\"T_2d02e_row1_col4\" class=\"data row1 col4\" >0.3037</td>\n      <td id=\"T_2d02e_row1_col5\" class=\"data row1 col5\" >0.6529</td>\n    </tr>\n    <tr>\n      <th id=\"T_2d02e_level0_row2\" class=\"row_heading level0 row2\" >2</th>\n      <td id=\"T_2d02e_row2_col0\" class=\"data row2 col0\" >0.4134</td>\n      <td id=\"T_2d02e_row2_col1\" class=\"data row2 col1\" >0.1994</td>\n      <td id=\"T_2d02e_row2_col2\" class=\"data row2 col2\" >0.4466</td>\n      <td id=\"T_2d02e_row2_col3\" class=\"data row2 col3\" >0.0736</td>\n      <td id=\"T_2d02e_row2_col4\" class=\"data row2 col4\" >0.3174</td>\n      <td id=\"T_2d02e_row2_col5\" class=\"data row2 col5\" >0.6193</td>\n    </tr>\n    <tr>\n      <th id=\"T_2d02e_level0_row3\" class=\"row_heading level0 row3\" >3</th>\n      <td id=\"T_2d02e_row3_col0\" class=\"data row3 col0\" >0.4287</td>\n      <td id=\"T_2d02e_row3_col1\" class=\"data row3 col1\" >0.2087</td>\n      <td id=\"T_2d02e_row3_col2\" class=\"data row3 col2\" >0.4569</td>\n      <td id=\"T_2d02e_row3_col3\" class=\"data row3 col3\" >0.0355</td>\n      <td id=\"T_2d02e_row3_col4\" class=\"data row3 col4\" >0.3307</td>\n      <td id=\"T_2d02e_row3_col5\" class=\"data row3 col5\" >0.5683</td>\n    </tr>\n    <tr>\n      <th id=\"T_2d02e_level0_row4\" class=\"row_heading level0 row4\" >4</th>\n      <td id=\"T_2d02e_row4_col0\" class=\"data row4 col0\" >0.4012</td>\n      <td id=\"T_2d02e_row4_col1\" class=\"data row4 col1\" >0.1910</td>\n      <td id=\"T_2d02e_row4_col2\" class=\"data row4 col2\" >0.4371</td>\n      <td id=\"T_2d02e_row4_col3\" class=\"data row4 col3\" >0.1081</td>\n      <td id=\"T_2d02e_row4_col4\" class=\"data row4 col4\" >0.3110</td>\n      <td id=\"T_2d02e_row4_col5\" class=\"data row4 col5\" >0.6029</td>\n    </tr>\n    <tr>\n      <th id=\"T_2d02e_level0_row5\" class=\"row_heading level0 row5\" >5</th>\n      <td id=\"T_2d02e_row5_col0\" class=\"data row5 col0\" >0.4045</td>\n      <td id=\"T_2d02e_row5_col1\" class=\"data row5 col1\" >0.1988</td>\n      <td id=\"T_2d02e_row5_col2\" class=\"data row5 col2\" >0.4459</td>\n      <td id=\"T_2d02e_row5_col3\" class=\"data row5 col3\" >0.0848</td>\n      <td id=\"T_2d02e_row5_col4\" class=\"data row5 col4\" >0.3131</td>\n      <td id=\"T_2d02e_row5_col5\" class=\"data row5 col5\" >0.6391</td>\n    </tr>\n    <tr>\n      <th id=\"T_2d02e_level0_row6\" class=\"row_heading level0 row6\" >6</th>\n      <td id=\"T_2d02e_row6_col0\" class=\"data row6 col0\" >0.4170</td>\n      <td id=\"T_2d02e_row6_col1\" class=\"data row6 col1\" >0.2108</td>\n      <td id=\"T_2d02e_row6_col2\" class=\"data row6 col2\" >0.4592</td>\n      <td id=\"T_2d02e_row6_col3\" class=\"data row6 col3\" >0.0235</td>\n      <td id=\"T_2d02e_row6_col4\" class=\"data row6 col4\" >0.3231</td>\n      <td id=\"T_2d02e_row6_col5\" class=\"data row6 col5\" >0.6616</td>\n    </tr>\n    <tr>\n      <th id=\"T_2d02e_level0_row7\" class=\"row_heading level0 row7\" >7</th>\n      <td id=\"T_2d02e_row7_col0\" class=\"data row7 col0\" >0.4085</td>\n      <td id=\"T_2d02e_row7_col1\" class=\"data row7 col1\" >0.1965</td>\n      <td id=\"T_2d02e_row7_col2\" class=\"data row7 col2\" >0.4433</td>\n      <td id=\"T_2d02e_row7_col3\" class=\"data row7 col3\" >0.0864</td>\n      <td id=\"T_2d02e_row7_col4\" class=\"data row7 col4\" >0.3153</td>\n      <td id=\"T_2d02e_row7_col5\" class=\"data row7 col5\" >0.6121</td>\n    </tr>\n    <tr>\n      <th id=\"T_2d02e_level0_row8\" class=\"row_heading level0 row8\" >8</th>\n      <td id=\"T_2d02e_row8_col0\" class=\"data row8 col0\" >0.4219</td>\n      <td id=\"T_2d02e_row8_col1\" class=\"data row8 col1\" >0.2111</td>\n      <td id=\"T_2d02e_row8_col2\" class=\"data row8 col2\" >0.4595</td>\n      <td id=\"T_2d02e_row8_col3\" class=\"data row8 col3\" >0.0243</td>\n      <td id=\"T_2d02e_row8_col4\" class=\"data row8 col4\" >0.3240</td>\n      <td id=\"T_2d02e_row8_col5\" class=\"data row8 col5\" >0.6561</td>\n    </tr>\n    <tr>\n      <th id=\"T_2d02e_level0_row9\" class=\"row_heading level0 row9\" >9</th>\n      <td id=\"T_2d02e_row9_col0\" class=\"data row9 col0\" >0.4145</td>\n      <td id=\"T_2d02e_row9_col1\" class=\"data row9 col1\" >0.2025</td>\n      <td id=\"T_2d02e_row9_col2\" class=\"data row9 col2\" >0.4500</td>\n      <td id=\"T_2d02e_row9_col3\" class=\"data row9 col3\" >0.0660</td>\n      <td id=\"T_2d02e_row9_col4\" class=\"data row9 col4\" >0.3183</td>\n      <td id=\"T_2d02e_row9_col5\" class=\"data row9 col5\" >0.6305</td>\n    </tr>\n    <tr>\n      <th id=\"T_2d02e_level0_row10\" class=\"row_heading level0 row10\" >Mean</th>\n      <td id=\"T_2d02e_row10_col0\" class=\"data row10 col0\" >0.4116</td>\n      <td id=\"T_2d02e_row10_col1\" class=\"data row10 col1\" >0.2017</td>\n      <td id=\"T_2d02e_row10_col2\" class=\"data row10 col2\" >0.4490</td>\n      <td id=\"T_2d02e_row10_col3\" class=\"data row10 col3\" >0.0668</td>\n      <td id=\"T_2d02e_row10_col4\" class=\"data row10 col4\" >0.3179</td>\n      <td id=\"T_2d02e_row10_col5\" class=\"data row10 col5\" >0.6270</td>\n    </tr>\n    <tr>\n      <th id=\"T_2d02e_level0_row11\" class=\"row_heading level0 row11\" >Std</th>\n      <td id=\"T_2d02e_row11_col0\" class=\"data row11 col0\" >0.0118</td>\n      <td id=\"T_2d02e_row11_col1\" class=\"data row11 col1\" >0.0069</td>\n      <td id=\"T_2d02e_row11_col2\" class=\"data row11 col2\" >0.0077</td>\n      <td id=\"T_2d02e_row11_col3\" class=\"data row11 col3\" >0.0309</td>\n      <td id=\"T_2d02e_row11_col4\" class=\"data row11 col4\" >0.0072</td>\n      <td id=\"T_2d02e_row11_col5\" class=\"data row11 col5\" >0.0268</td>\n    </tr>\n  </tbody>\n</table>\n"
     },
     "metadata": {},
     "output_type": "display_data"
    },
    {
     "data": {
      "text/plain": "                                                                    \n                                                                    \nInitiated  . . . . . . . . . . . . . . . . . .              12:10:07\nStatus     . . . . . . . . . . . . . . . . . .  Loading Dependencies\nEstimator  . . . . . . . . . . . . . . . . . .     Compiling Library",
      "text/html": "<div>\n<style scoped>\n    .dataframe tbody tr th:only-of-type {\n        vertical-align: middle;\n    }\n\n    .dataframe tbody tr th {\n        vertical-align: top;\n    }\n\n    .dataframe thead th {\n        text-align: right;\n    }\n</style>\n<table border=\"1\" class=\"dataframe\">\n  <thead>\n    <tr style=\"text-align: right;\">\n      <th></th>\n      <th></th>\n      <th></th>\n    </tr>\n    <tr>\n      <th></th>\n      <th></th>\n      <th></th>\n    </tr>\n  </thead>\n  <tbody>\n    <tr>\n      <th>Initiated</th>\n      <td>. . . . . . . . . . . . . . . . . .</td>\n      <td>12:10:07</td>\n    </tr>\n    <tr>\n      <th>Status</th>\n      <td>. . . . . . . . . . . . . . . . . .</td>\n      <td>Loading Dependencies</td>\n    </tr>\n    <tr>\n      <th>Estimator</th>\n      <td>. . . . . . . . . . . . . . . . . .</td>\n      <td>Compiling Library</td>\n    </tr>\n  </tbody>\n</table>\n</div>"
     },
     "metadata": {},
     "output_type": "display_data"
    },
    {
     "data": {
      "text/plain": "<IPython.core.display.HTML object>",
      "text/html": ""
     },
     "metadata": {},
     "output_type": "display_data"
    },
    {
     "data": {
      "text/plain": "                                                                         \n                                                                         \nInitiated  . . . . . . . . . . . . . . . . . .                   12:10:07\nStatus     . . . . . . . . . . . . . . . . . .  Searching Hyperparameters\nEstimator  . . . . . . . . . . . . . . . . . .      Extra Trees Regressor",
      "text/html": "<div>\n<style scoped>\n    .dataframe tbody tr th:only-of-type {\n        vertical-align: middle;\n    }\n\n    .dataframe tbody tr th {\n        vertical-align: top;\n    }\n\n    .dataframe thead th {\n        text-align: right;\n    }\n</style>\n<table border=\"1\" class=\"dataframe\">\n  <thead>\n    <tr style=\"text-align: right;\">\n      <th></th>\n      <th></th>\n      <th></th>\n    </tr>\n    <tr>\n      <th></th>\n      <th></th>\n      <th></th>\n    </tr>\n  </thead>\n  <tbody>\n    <tr>\n      <th>Initiated</th>\n      <td>. . . . . . . . . . . . . . . . . .</td>\n      <td>12:10:07</td>\n    </tr>\n    <tr>\n      <th>Status</th>\n      <td>. . . . . . . . . . . . . . . . . .</td>\n      <td>Searching Hyperparameters</td>\n    </tr>\n    <tr>\n      <th>Estimator</th>\n      <td>. . . . . . . . . . . . . . . . . .</td>\n      <td>Extra Trees Regressor</td>\n    </tr>\n  </tbody>\n</table>\n</div>"
     },
     "metadata": {},
     "output_type": "display_data"
    },
    {
     "data": {
      "text/plain": "<pandas.io.formats.style.Styler at 0x7ff201d04910>",
      "text/html": "<style type=\"text/css\">\n#T_25ba6_row10_col0, #T_25ba6_row10_col1, #T_25ba6_row10_col2, #T_25ba6_row10_col3, #T_25ba6_row10_col4, #T_25ba6_row10_col5 {\n  background: yellow;\n}\n</style>\n<table id=\"T_25ba6\">\n  <thead>\n    <tr>\n      <th class=\"blank level0\" >&nbsp;</th>\n      <th id=\"T_25ba6_level0_col0\" class=\"col_heading level0 col0\" >MAE</th>\n      <th id=\"T_25ba6_level0_col1\" class=\"col_heading level0 col1\" >MSE</th>\n      <th id=\"T_25ba6_level0_col2\" class=\"col_heading level0 col2\" >RMSE</th>\n      <th id=\"T_25ba6_level0_col3\" class=\"col_heading level0 col3\" >R2</th>\n      <th id=\"T_25ba6_level0_col4\" class=\"col_heading level0 col4\" >RMSLE</th>\n      <th id=\"T_25ba6_level0_col5\" class=\"col_heading level0 col5\" >MAPE</th>\n    </tr>\n    <tr>\n      <th class=\"index_name level0\" >Fold</th>\n      <th class=\"blank col0\" >&nbsp;</th>\n      <th class=\"blank col1\" >&nbsp;</th>\n      <th class=\"blank col2\" >&nbsp;</th>\n      <th class=\"blank col3\" >&nbsp;</th>\n      <th class=\"blank col4\" >&nbsp;</th>\n      <th class=\"blank col5\" >&nbsp;</th>\n    </tr>\n  </thead>\n  <tbody>\n    <tr>\n      <th id=\"T_25ba6_level0_row0\" class=\"row_heading level0 row0\" >0</th>\n      <td id=\"T_25ba6_row0_col0\" class=\"data row0 col0\" >0.3748</td>\n      <td id=\"T_25ba6_row0_col1\" class=\"data row0 col1\" >0.1792</td>\n      <td id=\"T_25ba6_row0_col2\" class=\"data row0 col2\" >0.4233</td>\n      <td id=\"T_25ba6_row0_col3\" class=\"data row0 col3\" >0.1746</td>\n      <td id=\"T_25ba6_row0_col4\" class=\"data row0 col4\" >0.2909</td>\n      <td id=\"T_25ba6_row0_col5\" class=\"data row0 col5\" >0.6433</td>\n    </tr>\n    <tr>\n      <th id=\"T_25ba6_level0_row1\" class=\"row_heading level0 row1\" >1</th>\n      <td id=\"T_25ba6_row1_col0\" class=\"data row1 col0\" >0.3785</td>\n      <td id=\"T_25ba6_row1_col1\" class=\"data row1 col1\" >0.1827</td>\n      <td id=\"T_25ba6_row1_col2\" class=\"data row1 col2\" >0.4274</td>\n      <td id=\"T_25ba6_row1_col3\" class=\"data row1 col3\" >0.1578</td>\n      <td id=\"T_25ba6_row1_col4\" class=\"data row1 col4\" >0.2940</td>\n      <td id=\"T_25ba6_row1_col5\" class=\"data row1 col5\" >0.6513</td>\n    </tr>\n    <tr>\n      <th id=\"T_25ba6_level0_row2\" class=\"row_heading level0 row2\" >2</th>\n      <td id=\"T_25ba6_row2_col0\" class=\"data row2 col0\" >0.3810</td>\n      <td id=\"T_25ba6_row2_col1\" class=\"data row2 col1\" >0.1821</td>\n      <td id=\"T_25ba6_row2_col2\" class=\"data row2 col2\" >0.4267</td>\n      <td id=\"T_25ba6_row2_col3\" class=\"data row2 col3\" >0.1541</td>\n      <td id=\"T_25ba6_row2_col4\" class=\"data row2 col4\" >0.2950</td>\n      <td id=\"T_25ba6_row2_col5\" class=\"data row2 col5\" >0.6476</td>\n    </tr>\n    <tr>\n      <th id=\"T_25ba6_level0_row3\" class=\"row_heading level0 row3\" >3</th>\n      <td id=\"T_25ba6_row3_col0\" class=\"data row3 col0\" >0.3858</td>\n      <td id=\"T_25ba6_row3_col1\" class=\"data row3 col1\" >0.1857</td>\n      <td id=\"T_25ba6_row3_col2\" class=\"data row3 col2\" >0.4309</td>\n      <td id=\"T_25ba6_row3_col3\" class=\"data row3 col3\" >0.1420</td>\n      <td id=\"T_25ba6_row3_col4\" class=\"data row3 col4\" >0.2982</td>\n      <td id=\"T_25ba6_row3_col5\" class=\"data row3 col5\" >0.6501</td>\n    </tr>\n    <tr>\n      <th id=\"T_25ba6_level0_row4\" class=\"row_heading level0 row4\" >4</th>\n      <td id=\"T_25ba6_row4_col0\" class=\"data row4 col0\" >0.3788</td>\n      <td id=\"T_25ba6_row4_col1\" class=\"data row4 col1\" >0.1808</td>\n      <td id=\"T_25ba6_row4_col2\" class=\"data row4 col2\" >0.4252</td>\n      <td id=\"T_25ba6_row4_col3\" class=\"data row4 col3\" >0.1558</td>\n      <td id=\"T_25ba6_row4_col4\" class=\"data row4 col4\" >0.2940</td>\n      <td id=\"T_25ba6_row4_col5\" class=\"data row4 col5\" >0.6493</td>\n    </tr>\n    <tr>\n      <th id=\"T_25ba6_level0_row5\" class=\"row_heading level0 row5\" >5</th>\n      <td id=\"T_25ba6_row5_col0\" class=\"data row5 col0\" >0.3763</td>\n      <td id=\"T_25ba6_row5_col1\" class=\"data row5 col1\" >0.1842</td>\n      <td id=\"T_25ba6_row5_col2\" class=\"data row5 col2\" >0.4292</td>\n      <td id=\"T_25ba6_row5_col3\" class=\"data row5 col3\" >0.1521</td>\n      <td id=\"T_25ba6_row5_col4\" class=\"data row5 col4\" >0.2940</td>\n      <td id=\"T_25ba6_row5_col5\" class=\"data row5 col5\" >0.6602</td>\n    </tr>\n    <tr>\n      <th id=\"T_25ba6_level0_row6\" class=\"row_heading level0 row6\" >6</th>\n      <td id=\"T_25ba6_row6_col0\" class=\"data row6 col0\" >0.3813</td>\n      <td id=\"T_25ba6_row6_col1\" class=\"data row6 col1\" >0.1846</td>\n      <td id=\"T_25ba6_row6_col2\" class=\"data row6 col2\" >0.4296</td>\n      <td id=\"T_25ba6_row6_col3\" class=\"data row6 col3\" >0.1450</td>\n      <td id=\"T_25ba6_row6_col4\" class=\"data row6 col4\" >0.2961</td>\n      <td id=\"T_25ba6_row6_col5\" class=\"data row6 col5\" >0.6560</td>\n    </tr>\n    <tr>\n      <th id=\"T_25ba6_level0_row7\" class=\"row_heading level0 row7\" >7</th>\n      <td id=\"T_25ba6_row7_col0\" class=\"data row7 col0\" >0.3809</td>\n      <td id=\"T_25ba6_row7_col1\" class=\"data row7 col1\" >0.1820</td>\n      <td id=\"T_25ba6_row7_col2\" class=\"data row7 col2\" >0.4267</td>\n      <td id=\"T_25ba6_row7_col3\" class=\"data row7 col3\" >0.1536</td>\n      <td id=\"T_25ba6_row7_col4\" class=\"data row7 col4\" >0.2950</td>\n      <td id=\"T_25ba6_row7_col5\" class=\"data row7 col5\" >0.6484</td>\n    </tr>\n    <tr>\n      <th id=\"T_25ba6_level0_row8\" class=\"row_heading level0 row8\" >8</th>\n      <td id=\"T_25ba6_row8_col0\" class=\"data row8 col0\" >0.3803</td>\n      <td id=\"T_25ba6_row8_col1\" class=\"data row8 col1\" >0.1821</td>\n      <td id=\"T_25ba6_row8_col2\" class=\"data row8 col2\" >0.4267</td>\n      <td id=\"T_25ba6_row8_col3\" class=\"data row8 col3\" >0.1585</td>\n      <td id=\"T_25ba6_row8_col4\" class=\"data row8 col4\" >0.2944</td>\n      <td id=\"T_25ba6_row8_col5\" class=\"data row8 col5\" >0.6465</td>\n    </tr>\n    <tr>\n      <th id=\"T_25ba6_level0_row9\" class=\"row_heading level0 row9\" >9</th>\n      <td id=\"T_25ba6_row9_col0\" class=\"data row9 col0\" >0.3849</td>\n      <td id=\"T_25ba6_row9_col1\" class=\"data row9 col1\" >0.1852</td>\n      <td id=\"T_25ba6_row9_col2\" class=\"data row9 col2\" >0.4303</td>\n      <td id=\"T_25ba6_row9_col3\" class=\"data row9 col3\" >0.1459</td>\n      <td id=\"T_25ba6_row9_col4\" class=\"data row9 col4\" >0.2972</td>\n      <td id=\"T_25ba6_row9_col5\" class=\"data row9 col5\" >0.6506</td>\n    </tr>\n    <tr>\n      <th id=\"T_25ba6_level0_row10\" class=\"row_heading level0 row10\" >Mean</th>\n      <td id=\"T_25ba6_row10_col0\" class=\"data row10 col0\" >0.3803</td>\n      <td id=\"T_25ba6_row10_col1\" class=\"data row10 col1\" >0.1829</td>\n      <td id=\"T_25ba6_row10_col2\" class=\"data row10 col2\" >0.4276</td>\n      <td id=\"T_25ba6_row10_col3\" class=\"data row10 col3\" >0.1539</td>\n      <td id=\"T_25ba6_row10_col4\" class=\"data row10 col4\" >0.2949</td>\n      <td id=\"T_25ba6_row10_col5\" class=\"data row10 col5\" >0.6503</td>\n    </tr>\n    <tr>\n      <th id=\"T_25ba6_level0_row11\" class=\"row_heading level0 row11\" >Std</th>\n      <td id=\"T_25ba6_row11_col0\" class=\"data row11 col0\" >0.0032</td>\n      <td id=\"T_25ba6_row11_col1\" class=\"data row11 col1\" >0.0019</td>\n      <td id=\"T_25ba6_row11_col2\" class=\"data row11 col2\" >0.0023</td>\n      <td id=\"T_25ba6_row11_col3\" class=\"data row11 col3\" >0.0087</td>\n      <td id=\"T_25ba6_row11_col4\" class=\"data row11 col4\" >0.0019</td>\n      <td id=\"T_25ba6_row11_col5\" class=\"data row11 col5\" >0.0046</td>\n    </tr>\n  </tbody>\n</table>\n"
     },
     "metadata": {},
     "output_type": "display_data"
    }
   ],
   "source": [
    "from pycaret.regression import *\n",
    "\n",
    "et_exp = setup(df_records, target='is_legit', session_id=128, use_gpu=True, log_experiment=False, experiment_name='records_regression', normalize=True)\n",
    "et_model = create_model('et')\n",
    "\n",
    "tuned_et = tune_model(et_model)\n",
    "\n",
    "model_go_et = convert_model(tuned_et, 'go')\n",
    "\n",
    "f = open(\"golang_resource_records_extra_trees.go\", \"a\")\n",
    "f.write(model_go_et)\n",
    "f.close()"
   ],
   "metadata": {
    "collapsed": false,
    "ExecuteTime": {
     "end_time": "2024-03-27T16:21:17.077046Z",
     "start_time": "2024-03-27T12:09:54.277449Z"
    }
   },
   "id": "cff94d834dd270a4",
   "execution_count": 19
  },
  {
   "cell_type": "code",
   "outputs": [],
   "source": [
    "r.save_model(best_regression_model, model_name='resourse_records_regression_extre_trees')"
   ],
   "metadata": {
    "collapsed": false
   },
   "id": "dc4f0deb01bc65b1"
  }
 ],
 "metadata": {
  "kernelspec": {
   "display_name": "Python 3 (ipykernel)",
   "language": "python",
   "name": "python3"
  },
  "language_info": {
   "codemirror_mode": {
    "name": "ipython",
    "version": 3
   },
   "file_extension": ".py",
   "mimetype": "text/x-python",
   "name": "python",
   "nbconvert_exporter": "python",
   "pygments_lexer": "ipython3",
   "version": "3.11.7"
  }
 },
 "nbformat": 4,
 "nbformat_minor": 5
}
