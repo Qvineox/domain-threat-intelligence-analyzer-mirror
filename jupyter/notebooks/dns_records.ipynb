{
 "cells": [
  {
   "cell_type": "code",
   "execution_count": null,
   "id": "initial_id",
   "metadata": {
    "collapsed": true
   },
   "outputs": [],
   "source": [
    "!nvidia-smi"
   ]
  },
  {
   "cell_type": "code",
   "execution_count": null,
   "id": "f96263aa4fcd7b74",
   "metadata": {},
   "outputs": [],
   "source": [
    "import pandas as pd\n",
    "import numpy as np\n",
    "import matplotlib.pyplot as plt"
   ]
  },
  {
   "cell_type": "code",
   "execution_count": null,
   "id": "83f9abab65e993c7",
   "metadata": {},
   "outputs": [],
   "source": [
    "!pip install pycaret\n",
    "!pip install mlflow\n",
    "!pip install m2cgen\n",
    "\n",
    "%pip install scipy==1.11.4"
   ]
  },
  {
   "cell_type": "code",
   "outputs": [],
   "source": [
    "dataset_file_name = 'work/datasets/processed_actual/merged_full_2024_03_27.csv'"
   ],
   "metadata": {
    "collapsed": false
   },
   "id": "3db1baf6eb63116e",
   "execution_count": null
  },
  {
   "cell_type": "code",
   "execution_count": null,
   "id": "d92db117c056078a",
   "metadata": {},
   "outputs": [],
   "source": [
    "df = pd.read_csv(dataset_file_name)\n",
    "df.set_index('domain')\n",
    "\n",
    "df.info()"
   ]
  },
  {
   "cell_type": "code",
   "execution_count": null,
   "id": "3a4b715d9c7aa7c6",
   "metadata": {},
   "outputs": [],
   "source": [
    "plt.style.use('fivethirtyeight')"
   ]
  },
  {
   "cell_type": "code",
   "execution_count": null,
   "id": "3b7cd22e80cfee34",
   "metadata": {},
   "outputs": [],
   "source": [
    "df_records = df[\n",
    "    [\"a_records\", \"mx_records\", \"cname_records\", \"txt_records\", \"ptr_records\", \"ptr_ratio\", \"is_legit\"]\n",
    "]\n",
    "    \n",
    "# df_records = df_records.astype({'domain': 'string'})"
   ]
  },
  {
   "cell_type": "code",
   "execution_count": 42,
   "id": "a070996bbed77a7a",
   "metadata": {
    "ExecuteTime": {
     "end_time": "2024-03-27T20:52:29.442440Z",
     "start_time": "2024-03-27T20:50:49.644853Z"
    }
   },
   "outputs": [
    {
     "name": "stdout",
     "output_type": "stream",
     "text": [
      "[LightGBM] [Warning] There are no meaningful features which satisfy the provided configuration. Decreasing Dataset parameters min_data_in_bin or min_data_in_leaf and re-constructing Dataset might resolve this warning.\n",
      "[LightGBM] [Info] This is the GPU trainer!!\n",
      "[LightGBM] [Info] Total Bins 0\n",
      "[LightGBM] [Info] Number of data points in the train set: 2, number of used features: 0\n",
      "[LightGBM] [Warning] There are no meaningful features which satisfy the provided configuration. Decreasing Dataset parameters min_data_in_bin or min_data_in_leaf and re-constructing Dataset might resolve this warning.\n",
      "[LightGBM] [Warning] Using sparse features with CUDA is currently not supported.\n",
      "[LightGBM] [Warning] There are no meaningful features which satisfy the provided configuration. Decreasing Dataset parameters min_data_in_bin or min_data_in_leaf and re-constructing Dataset might resolve this warning.\n",
      "[LightGBM] [Info] This is the GPU trainer!!\n",
      "[LightGBM] [Info] Total Bins 0\n",
      "[LightGBM] [Info] Number of data points in the train set: 2, number of used features: 0\n",
      "[LightGBM] [Warning] There are no meaningful features which satisfy the provided configuration. Decreasing Dataset parameters min_data_in_bin or min_data_in_leaf and re-constructing Dataset might resolve this warning.\n",
      "[LightGBM] [Warning] Using sparse features with CUDA is currently not supported.\n",
      "[LightGBM] [Warning] There are no meaningful features which satisfy the provided configuration. Decreasing Dataset parameters min_data_in_bin or min_data_in_leaf and re-constructing Dataset might resolve this warning.\n",
      "[LightGBM] [Info] This is the GPU trainer!!\n",
      "[LightGBM] [Info] Total Bins 0\n",
      "[LightGBM] [Info] Number of data points in the train set: 2, number of used features: 0\n",
      "[LightGBM] [Warning] There are no meaningful features which satisfy the provided configuration. Decreasing Dataset parameters min_data_in_bin or min_data_in_leaf and re-constructing Dataset might resolve this warning.\n",
      "[LightGBM] [Warning] Using sparse features with CUDA is currently not supported.\n"
     ]
    },
    {
     "name": "stderr",
     "output_type": "stream",
     "text": [
      "[LightGBM] [Fatal] CUDA Tree Learner was not enabled in this build.\n",
      "Please recompile with CMake option -DUSE_CUDA=1\n",
      "[LightGBM] [Fatal] CUDA Tree Learner was not enabled in this build.\n",
      "Please recompile with CMake option -DUSE_CUDA=1\n",
      "[LightGBM] [Fatal] CUDA Tree Learner was not enabled in this build.\n",
      "Please recompile with CMake option -DUSE_CUDA=1\n"
     ]
    },
    {
     "name": "stdout",
     "output_type": "stream",
     "text": [
      "[LightGBM] [Warning] There are no meaningful features which satisfy the provided configuration. Decreasing Dataset parameters min_data_in_bin or min_data_in_leaf and re-constructing Dataset might resolve this warning.\n",
      "[LightGBM] [Info] This is the GPU trainer!!\n",
      "[LightGBM] [Info] Total Bins 0\n",
      "[LightGBM] [Info] Number of data points in the train set: 2, number of used features: 0\n",
      "[LightGBM] [Warning] There are no meaningful features which satisfy the provided configuration. Decreasing Dataset parameters min_data_in_bin or min_data_in_leaf and re-constructing Dataset might resolve this warning.\n",
      "[LightGBM] [Warning] Using sparse features with CUDA is currently not supported.\n",
      "[LightGBM] [Warning] There are no meaningful features which satisfy the provided configuration. Decreasing Dataset parameters min_data_in_bin or min_data_in_leaf and re-constructing Dataset might resolve this warning.\n",
      "[LightGBM] [Info] This is the GPU trainer!!\n",
      "[LightGBM] [Info] Total Bins 0\n",
      "[LightGBM] [Info] Number of data points in the train set: 2, number of used features: 0\n",
      "[LightGBM] [Warning] There are no meaningful features which satisfy the provided configuration. Decreasing Dataset parameters min_data_in_bin or min_data_in_leaf and re-constructing Dataset might resolve this warning.\n",
      "[LightGBM] [Warning] Using sparse features with CUDA is currently not supported.\n",
      "[LightGBM] [Warning] There are no meaningful features which satisfy the provided configuration. Decreasing Dataset parameters min_data_in_bin or min_data_in_leaf and re-constructing Dataset might resolve this warning.\n",
      "[LightGBM] [Info] This is the GPU trainer!!\n",
      "[LightGBM] [Info] Total Bins 0\n",
      "[LightGBM] [Info] Number of data points in the train set: 2, number of used features: 0\n",
      "[LightGBM] [Warning] There are no meaningful features which satisfy the provided configuration. Decreasing Dataset parameters min_data_in_bin or min_data_in_leaf and re-constructing Dataset might resolve this warning.\n",
      "[LightGBM] [Warning] Using sparse features with CUDA is currently not supported.\n"
     ]
    },
    {
     "name": "stderr",
     "output_type": "stream",
     "text": [
      "[LightGBM] [Fatal] CUDA Tree Learner was not enabled in this build.\n",
      "Please recompile with CMake option -DUSE_CUDA=1\n",
      "[LightGBM] [Fatal] CUDA Tree Learner was not enabled in this build.\n",
      "Please recompile with CMake option -DUSE_CUDA=1\n",
      "[LightGBM] [Fatal] CUDA Tree Learner was not enabled in this build.\n",
      "Please recompile with CMake option -DUSE_CUDA=1\n"
     ]
    },
    {
     "name": "stdout",
     "output_type": "stream",
     "text": [
      "[LightGBM] [Warning] There are no meaningful features which satisfy the provided configuration. Decreasing Dataset parameters min_data_in_bin or min_data_in_leaf and re-constructing Dataset might resolve this warning.\n",
      "[LightGBM] [Info] This is the GPU trainer!!\n",
      "[LightGBM] [Info] Total Bins 0\n",
      "[LightGBM] [Info] Number of data points in the train set: 2, number of used features: 0\n",
      "[LightGBM] [Warning] There are no meaningful features which satisfy the provided configuration. Decreasing Dataset parameters min_data_in_bin or min_data_in_leaf and re-constructing Dataset might resolve this warning.\n",
      "[LightGBM] [Warning] Using sparse features with CUDA is currently not supported.\n",
      "[LightGBM] [Warning] There are no meaningful features which satisfy the provided configuration. Decreasing Dataset parameters min_data_in_bin or min_data_in_leaf and re-constructing Dataset might resolve this warning.\n",
      "[LightGBM] [Info] This is the GPU trainer!!\n",
      "[LightGBM] [Info] Total Bins 0\n",
      "[LightGBM] [Info] Number of data points in the train set: 2, number of used features: 0\n",
      "[LightGBM] [Warning] There are no meaningful features which satisfy the provided configuration. Decreasing Dataset parameters min_data_in_bin or min_data_in_leaf and re-constructing Dataset might resolve this warning.\n",
      "[LightGBM] [Warning] Using sparse features with CUDA is currently not supported.\n",
      "[LightGBM] [Warning] There are no meaningful features which satisfy the provided configuration. Decreasing Dataset parameters min_data_in_bin or min_data_in_leaf and re-constructing Dataset might resolve this warning.\n",
      "[LightGBM] [Info] This is the GPU trainer!!\n",
      "[LightGBM] [Info] Total Bins 0\n",
      "[LightGBM] [Info] Number of data points in the train set: 2, number of used features: 0\n",
      "[LightGBM] [Warning] There are no meaningful features which satisfy the provided configuration. Decreasing Dataset parameters min_data_in_bin or min_data_in_leaf and re-constructing Dataset might resolve this warning.\n",
      "[LightGBM] [Warning] Using sparse features with CUDA is currently not supported.\n"
     ]
    },
    {
     "name": "stderr",
     "output_type": "stream",
     "text": [
      "[LightGBM] [Fatal] CUDA Tree Learner was not enabled in this build.\n",
      "Please recompile with CMake option -DUSE_CUDA=1\n",
      "[LightGBM] [Fatal] CUDA Tree Learner was not enabled in this build.\n",
      "Please recompile with CMake option -DUSE_CUDA=1\n",
      "[LightGBM] [Fatal] CUDA Tree Learner was not enabled in this build.\n",
      "Please recompile with CMake option -DUSE_CUDA=1\n"
     ]
    },
    {
     "name": "stdout",
     "output_type": "stream",
     "text": [
      "[LightGBM] [Warning] There are no meaningful features which satisfy the provided configuration. Decreasing Dataset parameters min_data_in_bin or min_data_in_leaf and re-constructing Dataset might resolve this warning.\n",
      "[LightGBM] [Info] This is the GPU trainer!!\n",
      "[LightGBM] [Info] Total Bins 0\n",
      "[LightGBM] [Info] Number of data points in the train set: 2, number of used features: 0\n",
      "[LightGBM] [Warning] There are no meaningful features which satisfy the provided configuration. Decreasing Dataset parameters min_data_in_bin or min_data_in_leaf and re-constructing Dataset might resolve this warning.\n",
      "[LightGBM] [Warning] Using sparse features with CUDA is currently not supported.\n",
      "[LightGBM] [Warning] There are no meaningful features which satisfy the provided configuration. Decreasing Dataset parameters min_data_in_bin or min_data_in_leaf and re-constructing Dataset might resolve this warning.\n",
      "[LightGBM] [Info] This is the GPU trainer!!\n",
      "[LightGBM] [Info] Total Bins 0\n",
      "[LightGBM] [Info] Number of data points in the train set: 2, number of used features: 0\n",
      "[LightGBM] [Warning] There are no meaningful features which satisfy the provided configuration. Decreasing Dataset parameters min_data_in_bin or min_data_in_leaf and re-constructing Dataset might resolve this warning.\n",
      "[LightGBM] [Warning] Using sparse features with CUDA is currently not supported.\n",
      "[LightGBM] [Warning] There are no meaningful features which satisfy the provided configuration. Decreasing Dataset parameters min_data_in_bin or min_data_in_leaf and re-constructing Dataset might resolve this warning.\n",
      "[LightGBM] [Info] This is the GPU trainer!!\n",
      "[LightGBM] [Info] Total Bins 0\n",
      "[LightGBM] [Info] Number of data points in the train set: 2, number of used features: 0\n",
      "[LightGBM] [Warning] There are no meaningful features which satisfy the provided configuration. Decreasing Dataset parameters min_data_in_bin or min_data_in_leaf and re-constructing Dataset might resolve this warning.\n",
      "[LightGBM] [Warning] Using sparse features with CUDA is currently not supported.\n"
     ]
    },
    {
     "name": "stderr",
     "output_type": "stream",
     "text": [
      "[LightGBM] [Fatal] CUDA Tree Learner was not enabled in this build.\n",
      "Please recompile with CMake option -DUSE_CUDA=1\n",
      "[LightGBM] [Fatal] CUDA Tree Learner was not enabled in this build.\n",
      "Please recompile with CMake option -DUSE_CUDA=1\n",
      "[LightGBM] [Fatal] CUDA Tree Learner was not enabled in this build.\n",
      "Please recompile with CMake option -DUSE_CUDA=1\n"
     ]
    },
    {
     "data": {
      "text/plain": "<pandas.io.formats.style.Styler at 0x7f647f84d690>",
      "text/html": "<style type=\"text/css\">\n#T_19881_row8_col1, #T_19881_row12_col1, #T_19881_row17_col1 {\n  background-color: lightgreen;\n}\n</style>\n<table id=\"T_19881\">\n  <thead>\n    <tr>\n      <th class=\"blank level0\" >&nbsp;</th>\n      <th id=\"T_19881_level0_col0\" class=\"col_heading level0 col0\" >Description</th>\n      <th id=\"T_19881_level0_col1\" class=\"col_heading level0 col1\" >Value</th>\n    </tr>\n  </thead>\n  <tbody>\n    <tr>\n      <th id=\"T_19881_level0_row0\" class=\"row_heading level0 row0\" >0</th>\n      <td id=\"T_19881_row0_col0\" class=\"data row0 col0\" >Session id</td>\n      <td id=\"T_19881_row0_col1\" class=\"data row0 col1\" >128</td>\n    </tr>\n    <tr>\n      <th id=\"T_19881_level0_row1\" class=\"row_heading level0 row1\" >1</th>\n      <td id=\"T_19881_row1_col0\" class=\"data row1 col0\" >Target</td>\n      <td id=\"T_19881_row1_col1\" class=\"data row1 col1\" >is_legit</td>\n    </tr>\n    <tr>\n      <th id=\"T_19881_level0_row2\" class=\"row_heading level0 row2\" >2</th>\n      <td id=\"T_19881_row2_col0\" class=\"data row2 col0\" >Target type</td>\n      <td id=\"T_19881_row2_col1\" class=\"data row2 col1\" >Regression</td>\n    </tr>\n    <tr>\n      <th id=\"T_19881_level0_row3\" class=\"row_heading level0 row3\" >3</th>\n      <td id=\"T_19881_row3_col0\" class=\"data row3 col0\" >Original data shape</td>\n      <td id=\"T_19881_row3_col1\" class=\"data row3 col1\" >(239257, 7)</td>\n    </tr>\n    <tr>\n      <th id=\"T_19881_level0_row4\" class=\"row_heading level0 row4\" >4</th>\n      <td id=\"T_19881_row4_col0\" class=\"data row4 col0\" >Transformed data shape</td>\n      <td id=\"T_19881_row4_col1\" class=\"data row4 col1\" >(239257, 7)</td>\n    </tr>\n    <tr>\n      <th id=\"T_19881_level0_row5\" class=\"row_heading level0 row5\" >5</th>\n      <td id=\"T_19881_row5_col0\" class=\"data row5 col0\" >Transformed train set shape</td>\n      <td id=\"T_19881_row5_col1\" class=\"data row5 col1\" >(167479, 7)</td>\n    </tr>\n    <tr>\n      <th id=\"T_19881_level0_row6\" class=\"row_heading level0 row6\" >6</th>\n      <td id=\"T_19881_row6_col0\" class=\"data row6 col0\" >Transformed test set shape</td>\n      <td id=\"T_19881_row6_col1\" class=\"data row6 col1\" >(71778, 7)</td>\n    </tr>\n    <tr>\n      <th id=\"T_19881_level0_row7\" class=\"row_heading level0 row7\" >7</th>\n      <td id=\"T_19881_row7_col0\" class=\"data row7 col0\" >Numeric features</td>\n      <td id=\"T_19881_row7_col1\" class=\"data row7 col1\" >6</td>\n    </tr>\n    <tr>\n      <th id=\"T_19881_level0_row8\" class=\"row_heading level0 row8\" >8</th>\n      <td id=\"T_19881_row8_col0\" class=\"data row8 col0\" >Preprocess</td>\n      <td id=\"T_19881_row8_col1\" class=\"data row8 col1\" >True</td>\n    </tr>\n    <tr>\n      <th id=\"T_19881_level0_row9\" class=\"row_heading level0 row9\" >9</th>\n      <td id=\"T_19881_row9_col0\" class=\"data row9 col0\" >Imputation type</td>\n      <td id=\"T_19881_row9_col1\" class=\"data row9 col1\" >simple</td>\n    </tr>\n    <tr>\n      <th id=\"T_19881_level0_row10\" class=\"row_heading level0 row10\" >10</th>\n      <td id=\"T_19881_row10_col0\" class=\"data row10 col0\" >Numeric imputation</td>\n      <td id=\"T_19881_row10_col1\" class=\"data row10 col1\" >mean</td>\n    </tr>\n    <tr>\n      <th id=\"T_19881_level0_row11\" class=\"row_heading level0 row11\" >11</th>\n      <td id=\"T_19881_row11_col0\" class=\"data row11 col0\" >Categorical imputation</td>\n      <td id=\"T_19881_row11_col1\" class=\"data row11 col1\" >mode</td>\n    </tr>\n    <tr>\n      <th id=\"T_19881_level0_row12\" class=\"row_heading level0 row12\" >12</th>\n      <td id=\"T_19881_row12_col0\" class=\"data row12 col0\" >Normalize</td>\n      <td id=\"T_19881_row12_col1\" class=\"data row12 col1\" >True</td>\n    </tr>\n    <tr>\n      <th id=\"T_19881_level0_row13\" class=\"row_heading level0 row13\" >13</th>\n      <td id=\"T_19881_row13_col0\" class=\"data row13 col0\" >Normalize method</td>\n      <td id=\"T_19881_row13_col1\" class=\"data row13 col1\" >zscore</td>\n    </tr>\n    <tr>\n      <th id=\"T_19881_level0_row14\" class=\"row_heading level0 row14\" >14</th>\n      <td id=\"T_19881_row14_col0\" class=\"data row14 col0\" >Fold Generator</td>\n      <td id=\"T_19881_row14_col1\" class=\"data row14 col1\" >KFold</td>\n    </tr>\n    <tr>\n      <th id=\"T_19881_level0_row15\" class=\"row_heading level0 row15\" >15</th>\n      <td id=\"T_19881_row15_col0\" class=\"data row15 col0\" >Fold Number</td>\n      <td id=\"T_19881_row15_col1\" class=\"data row15 col1\" >10</td>\n    </tr>\n    <tr>\n      <th id=\"T_19881_level0_row16\" class=\"row_heading level0 row16\" >16</th>\n      <td id=\"T_19881_row16_col0\" class=\"data row16 col0\" >CPU Jobs</td>\n      <td id=\"T_19881_row16_col1\" class=\"data row16 col1\" >-1</td>\n    </tr>\n    <tr>\n      <th id=\"T_19881_level0_row17\" class=\"row_heading level0 row17\" >17</th>\n      <td id=\"T_19881_row17_col0\" class=\"data row17 col0\" >Use GPU</td>\n      <td id=\"T_19881_row17_col1\" class=\"data row17 col1\" >True</td>\n    </tr>\n    <tr>\n      <th id=\"T_19881_level0_row18\" class=\"row_heading level0 row18\" >18</th>\n      <td id=\"T_19881_row18_col0\" class=\"data row18 col0\" >Log Experiment</td>\n      <td id=\"T_19881_row18_col1\" class=\"data row18 col1\" >False</td>\n    </tr>\n    <tr>\n      <th id=\"T_19881_level0_row19\" class=\"row_heading level0 row19\" >19</th>\n      <td id=\"T_19881_row19_col0\" class=\"data row19 col0\" >Experiment Name</td>\n      <td id=\"T_19881_row19_col1\" class=\"data row19 col1\" >records_regression</td>\n    </tr>\n    <tr>\n      <th id=\"T_19881_level0_row20\" class=\"row_heading level0 row20\" >20</th>\n      <td id=\"T_19881_row20_col0\" class=\"data row20 col0\" >USI</td>\n      <td id=\"T_19881_row20_col1\" class=\"data row20 col1\" >bd8c</td>\n    </tr>\n  </tbody>\n</table>\n"
     },
     "metadata": {},
     "output_type": "display_data"
    },
    {
     "name": "stdout",
     "output_type": "stream",
     "text": [
      "[LightGBM] [Warning] There are no meaningful features which satisfy the provided configuration. Decreasing Dataset parameters min_data_in_bin or min_data_in_leaf and re-constructing Dataset might resolve this warning.\n",
      "[LightGBM] [Info] This is the GPU trainer!!\n",
      "[LightGBM] [Info] Total Bins 0\n",
      "[LightGBM] [Info] Number of data points in the train set: 2, number of used features: 0\n",
      "[LightGBM] [Warning] There are no meaningful features which satisfy the provided configuration. Decreasing Dataset parameters min_data_in_bin or min_data_in_leaf and re-constructing Dataset might resolve this warning.\n",
      "[LightGBM] [Warning] Using sparse features with CUDA is currently not supported.\n",
      "[LightGBM] [Warning] There are no meaningful features which satisfy the provided configuration. Decreasing Dataset parameters min_data_in_bin or min_data_in_leaf and re-constructing Dataset might resolve this warning.\n",
      "[LightGBM] [Info] This is the GPU trainer!!\n",
      "[LightGBM] [Info] Total Bins 0\n",
      "[LightGBM] [Info] Number of data points in the train set: 2, number of used features: 0\n",
      "[LightGBM] [Warning] There are no meaningful features which satisfy the provided configuration. Decreasing Dataset parameters min_data_in_bin or min_data_in_leaf and re-constructing Dataset might resolve this warning.\n",
      "[LightGBM] [Warning] Using sparse features with CUDA is currently not supported.\n"
     ]
    },
    {
     "name": "stderr",
     "output_type": "stream",
     "text": [
      "[LightGBM] [Fatal] CUDA Tree Learner was not enabled in this build.\n",
      "Please recompile with CMake option -DUSE_CUDA=1\n",
      "[LightGBM] [Fatal] CUDA Tree Learner was not enabled in this build.\n",
      "Please recompile with CMake option -DUSE_CUDA=1\n"
     ]
    },
    {
     "data": {
      "text/plain": "                                                                    \n                                                                    \nInitiated  . . . . . . . . . . . . . . . . . .              20:50:51\nStatus     . . . . . . . . . . . . . . . . . .  Loading Dependencies\nEstimator  . . . . . . . . . . . . . . . . . .     Compiling Library",
      "text/html": "<div>\n<style scoped>\n    .dataframe tbody tr th:only-of-type {\n        vertical-align: middle;\n    }\n\n    .dataframe tbody tr th {\n        vertical-align: top;\n    }\n\n    .dataframe thead th {\n        text-align: right;\n    }\n</style>\n<table border=\"1\" class=\"dataframe\">\n  <thead>\n    <tr style=\"text-align: right;\">\n      <th></th>\n      <th></th>\n      <th></th>\n    </tr>\n    <tr>\n      <th></th>\n      <th></th>\n      <th></th>\n    </tr>\n  </thead>\n  <tbody>\n    <tr>\n      <th>Initiated</th>\n      <td>. . . . . . . . . . . . . . . . . .</td>\n      <td>20:50:51</td>\n    </tr>\n    <tr>\n      <th>Status</th>\n      <td>. . . . . . . . . . . . . . . . . .</td>\n      <td>Loading Dependencies</td>\n    </tr>\n    <tr>\n      <th>Estimator</th>\n      <td>. . . . . . . . . . . . . . . . . .</td>\n      <td>Compiling Library</td>\n    </tr>\n  </tbody>\n</table>\n</div>"
     },
     "metadata": {},
     "output_type": "display_data"
    },
    {
     "data": {
      "text/plain": "<IPython.core.display.HTML object>",
      "text/html": ""
     },
     "metadata": {},
     "output_type": "display_data"
    },
    {
     "data": {
      "text/plain": "<pandas.io.formats.style.Styler at 0x7f64cf57cad0>",
      "text/html": "<style type=\"text/css\">\n#T_234f8 th {\n  text-align: left;\n}\n#T_234f8_row0_col0, #T_234f8_row0_col1, #T_234f8_row0_col6, #T_234f8_row1_col0, #T_234f8_row1_col1, #T_234f8_row1_col2, #T_234f8_row1_col3, #T_234f8_row1_col4, #T_234f8_row1_col5, #T_234f8_row1_col6, #T_234f8_row2_col0, #T_234f8_row2_col2, #T_234f8_row2_col3, #T_234f8_row2_col4, #T_234f8_row2_col5, #T_234f8_row3_col0, #T_234f8_row3_col1, #T_234f8_row3_col2, #T_234f8_row3_col3, #T_234f8_row3_col4, #T_234f8_row3_col5, #T_234f8_row3_col6, #T_234f8_row4_col0, #T_234f8_row4_col1, #T_234f8_row4_col2, #T_234f8_row4_col3, #T_234f8_row4_col4, #T_234f8_row4_col5, #T_234f8_row4_col6, #T_234f8_row5_col0, #T_234f8_row5_col1, #T_234f8_row5_col2, #T_234f8_row5_col3, #T_234f8_row5_col4, #T_234f8_row5_col5, #T_234f8_row5_col6, #T_234f8_row6_col0, #T_234f8_row6_col1, #T_234f8_row6_col2, #T_234f8_row6_col3, #T_234f8_row6_col4, #T_234f8_row6_col5, #T_234f8_row6_col6, #T_234f8_row7_col0, #T_234f8_row7_col1, #T_234f8_row7_col2, #T_234f8_row7_col3, #T_234f8_row7_col4, #T_234f8_row7_col5, #T_234f8_row7_col6, #T_234f8_row8_col0, #T_234f8_row8_col1, #T_234f8_row8_col2, #T_234f8_row8_col3, #T_234f8_row8_col4, #T_234f8_row8_col5, #T_234f8_row8_col6, #T_234f8_row9_col0, #T_234f8_row9_col1, #T_234f8_row9_col2, #T_234f8_row9_col3, #T_234f8_row9_col4, #T_234f8_row9_col5, #T_234f8_row9_col6, #T_234f8_row10_col0, #T_234f8_row10_col1, #T_234f8_row10_col2, #T_234f8_row10_col3, #T_234f8_row10_col4, #T_234f8_row10_col5, #T_234f8_row10_col6, #T_234f8_row11_col0, #T_234f8_row11_col1, #T_234f8_row11_col2, #T_234f8_row11_col3, #T_234f8_row11_col4, #T_234f8_row11_col5, #T_234f8_row11_col6, #T_234f8_row12_col0, #T_234f8_row12_col1, #T_234f8_row12_col2, #T_234f8_row12_col3, #T_234f8_row12_col4, #T_234f8_row12_col5, #T_234f8_row12_col6, #T_234f8_row13_col0, #T_234f8_row13_col1, #T_234f8_row13_col2, #T_234f8_row13_col3, #T_234f8_row13_col4, #T_234f8_row13_col5, #T_234f8_row13_col6, #T_234f8_row14_col0, #T_234f8_row14_col1, #T_234f8_row14_col2, #T_234f8_row14_col3, #T_234f8_row14_col4, #T_234f8_row14_col5, #T_234f8_row14_col6, #T_234f8_row15_col0, #T_234f8_row15_col1, #T_234f8_row15_col2, #T_234f8_row15_col3, #T_234f8_row15_col4, #T_234f8_row15_col5, #T_234f8_row15_col6, #T_234f8_row16_col0, #T_234f8_row16_col1, #T_234f8_row16_col2, #T_234f8_row16_col3, #T_234f8_row16_col4, #T_234f8_row16_col5, #T_234f8_row16_col6, #T_234f8_row17_col0, #T_234f8_row17_col1, #T_234f8_row17_col2, #T_234f8_row17_col3, #T_234f8_row17_col4, #T_234f8_row17_col5, #T_234f8_row17_col6 {\n  text-align: left;\n}\n#T_234f8_row0_col2, #T_234f8_row0_col3, #T_234f8_row0_col4, #T_234f8_row0_col5, #T_234f8_row2_col1, #T_234f8_row2_col6 {\n  text-align: left;\n  background-color: yellow;\n}\n#T_234f8_row0_col7, #T_234f8_row1_col7, #T_234f8_row2_col7, #T_234f8_row3_col7, #T_234f8_row4_col7, #T_234f8_row5_col7, #T_234f8_row6_col7, #T_234f8_row7_col7, #T_234f8_row8_col7, #T_234f8_row9_col7, #T_234f8_row10_col7, #T_234f8_row11_col7, #T_234f8_row12_col7, #T_234f8_row13_col7, #T_234f8_row14_col7, #T_234f8_row15_col7, #T_234f8_row17_col7 {\n  text-align: left;\n  background-color: lightgrey;\n}\n#T_234f8_row16_col7 {\n  text-align: left;\n  background-color: yellow;\n  background-color: lightgrey;\n}\n</style>\n<table id=\"T_234f8\">\n  <thead>\n    <tr>\n      <th class=\"blank level0\" >&nbsp;</th>\n      <th id=\"T_234f8_level0_col0\" class=\"col_heading level0 col0\" >Model</th>\n      <th id=\"T_234f8_level0_col1\" class=\"col_heading level0 col1\" >MAE</th>\n      <th id=\"T_234f8_level0_col2\" class=\"col_heading level0 col2\" >MSE</th>\n      <th id=\"T_234f8_level0_col3\" class=\"col_heading level0 col3\" >RMSE</th>\n      <th id=\"T_234f8_level0_col4\" class=\"col_heading level0 col4\" >R2</th>\n      <th id=\"T_234f8_level0_col5\" class=\"col_heading level0 col5\" >RMSLE</th>\n      <th id=\"T_234f8_level0_col6\" class=\"col_heading level0 col6\" >MAPE</th>\n      <th id=\"T_234f8_level0_col7\" class=\"col_heading level0 col7\" >TT (Sec)</th>\n    </tr>\n  </thead>\n  <tbody>\n    <tr>\n      <th id=\"T_234f8_level0_row0\" class=\"row_heading level0 row0\" >lightgbm</th>\n      <td id=\"T_234f8_row0_col0\" class=\"data row0 col0\" >Light Gradient Boosting Machine</td>\n      <td id=\"T_234f8_row0_col1\" class=\"data row0 col1\" >0.1577</td>\n      <td id=\"T_234f8_row0_col2\" class=\"data row0 col2\" >0.0773</td>\n      <td id=\"T_234f8_row0_col3\" class=\"data row0 col3\" >0.2781</td>\n      <td id=\"T_234f8_row0_col4\" class=\"data row0 col4\" >0.6422</td>\n      <td id=\"T_234f8_row0_col5\" class=\"data row0 col5\" >0.1946</td>\n      <td id=\"T_234f8_row0_col6\" class=\"data row0 col6\" >0.2498</td>\n      <td id=\"T_234f8_row0_col7\" class=\"data row0 col7\" >0.4110</td>\n    </tr>\n    <tr>\n      <th id=\"T_234f8_level0_row1\" class=\"row_heading level0 row1\" >rf</th>\n      <td id=\"T_234f8_row1_col0\" class=\"data row1 col0\" >Random Forest Regressor</td>\n      <td id=\"T_234f8_row1_col1\" class=\"data row1 col1\" >0.1494</td>\n      <td id=\"T_234f8_row1_col2\" class=\"data row1 col2\" >0.0795</td>\n      <td id=\"T_234f8_row1_col3\" class=\"data row1 col3\" >0.2820</td>\n      <td id=\"T_234f8_row1_col4\" class=\"data row1 col4\" >0.6321</td>\n      <td id=\"T_234f8_row1_col5\" class=\"data row1 col5\" >0.1963</td>\n      <td id=\"T_234f8_row1_col6\" class=\"data row1 col6\" >0.2388</td>\n      <td id=\"T_234f8_row1_col7\" class=\"data row1 col7\" >0.5770</td>\n    </tr>\n    <tr>\n      <th id=\"T_234f8_level0_row2\" class=\"row_heading level0 row2\" >et</th>\n      <td id=\"T_234f8_row2_col0\" class=\"data row2 col0\" >Extra Trees Regressor</td>\n      <td id=\"T_234f8_row2_col1\" class=\"data row2 col1\" >0.1488</td>\n      <td id=\"T_234f8_row2_col2\" class=\"data row2 col2\" >0.0810</td>\n      <td id=\"T_234f8_row2_col3\" class=\"data row2 col3\" >0.2847</td>\n      <td id=\"T_234f8_row2_col4\" class=\"data row2 col4\" >0.6250</td>\n      <td id=\"T_234f8_row2_col5\" class=\"data row2 col5\" >0.1983</td>\n      <td id=\"T_234f8_row2_col6\" class=\"data row2 col6\" >0.2366</td>\n      <td id=\"T_234f8_row2_col7\" class=\"data row2 col7\" >0.4610</td>\n    </tr>\n    <tr>\n      <th id=\"T_234f8_level0_row3\" class=\"row_heading level0 row3\" >dt</th>\n      <td id=\"T_234f8_row3_col0\" class=\"data row3 col0\" >Decision Tree Regressor</td>\n      <td id=\"T_234f8_row3_col1\" class=\"data row3 col1\" >0.1489</td>\n      <td id=\"T_234f8_row3_col2\" class=\"data row3 col2\" >0.0833</td>\n      <td id=\"T_234f8_row3_col3\" class=\"data row3 col3\" >0.2887</td>\n      <td id=\"T_234f8_row3_col4\" class=\"data row3 col4\" >0.6144</td>\n      <td id=\"T_234f8_row3_col5\" class=\"data row3 col5\" >0.2011</td>\n      <td id=\"T_234f8_row3_col6\" class=\"data row3 col6\" >0.2371</td>\n      <td id=\"T_234f8_row3_col7\" class=\"data row3 col7\" >0.0910</td>\n    </tr>\n    <tr>\n      <th id=\"T_234f8_level0_row4\" class=\"row_heading level0 row4\" >gbr</th>\n      <td id=\"T_234f8_row4_col0\" class=\"data row4 col0\" >Gradient Boosting Regressor</td>\n      <td id=\"T_234f8_row4_col1\" class=\"data row4 col1\" >0.1719</td>\n      <td id=\"T_234f8_row4_col2\" class=\"data row4 col2\" >0.0834</td>\n      <td id=\"T_234f8_row4_col3\" class=\"data row4 col3\" >0.2888</td>\n      <td id=\"T_234f8_row4_col4\" class=\"data row4 col4\" >0.6142</td>\n      <td id=\"T_234f8_row4_col5\" class=\"data row4 col5\" >0.2024</td>\n      <td id=\"T_234f8_row4_col6\" class=\"data row4 col6\" >0.2736</td>\n      <td id=\"T_234f8_row4_col7\" class=\"data row4 col7\" >2.6180</td>\n    </tr>\n    <tr>\n      <th id=\"T_234f8_level0_row5\" class=\"row_heading level0 row5\" >knn</th>\n      <td id=\"T_234f8_row5_col0\" class=\"data row5 col0\" >K Neighbors Regressor</td>\n      <td id=\"T_234f8_row5_col1\" class=\"data row5 col1\" >0.1494</td>\n      <td id=\"T_234f8_row5_col2\" class=\"data row5 col2\" >0.0889</td>\n      <td id=\"T_234f8_row5_col3\" class=\"data row5 col3\" >0.2982</td>\n      <td id=\"T_234f8_row5_col4\" class=\"data row5 col4\" >0.5885</td>\n      <td id=\"T_234f8_row5_col5\" class=\"data row5 col5\" >0.2099</td>\n      <td id=\"T_234f8_row5_col6\" class=\"data row5 col6\" >0.2384</td>\n      <td id=\"T_234f8_row5_col7\" class=\"data row5 col7\" >2.9120</td>\n    </tr>\n    <tr>\n      <th id=\"T_234f8_level0_row6\" class=\"row_heading level0 row6\" >ada</th>\n      <td id=\"T_234f8_row6_col0\" class=\"data row6 col0\" >AdaBoost Regressor</td>\n      <td id=\"T_234f8_row6_col1\" class=\"data row6 col1\" >0.1959</td>\n      <td id=\"T_234f8_row6_col2\" class=\"data row6 col2\" >0.0981</td>\n      <td id=\"T_234f8_row6_col3\" class=\"data row6 col3\" >0.3132</td>\n      <td id=\"T_234f8_row6_col4\" class=\"data row6 col4\" >0.5462</td>\n      <td id=\"T_234f8_row6_col5\" class=\"data row6 col5\" >0.2192</td>\n      <td id=\"T_234f8_row6_col6\" class=\"data row6 col6\" >0.3082</td>\n      <td id=\"T_234f8_row6_col7\" class=\"data row6 col7\" >0.5280</td>\n    </tr>\n    <tr>\n      <th id=\"T_234f8_level0_row7\" class=\"row_heading level0 row7\" >lr</th>\n      <td id=\"T_234f8_row7_col0\" class=\"data row7 col0\" >Linear Regression</td>\n      <td id=\"T_234f8_row7_col1\" class=\"data row7 col1\" >0.2794</td>\n      <td id=\"T_234f8_row7_col2\" class=\"data row7 col2\" >0.1327</td>\n      <td id=\"T_234f8_row7_col3\" class=\"data row7 col3\" >0.3642</td>\n      <td id=\"T_234f8_row7_col4\" class=\"data row7 col4\" >0.3862</td>\n      <td id=\"T_234f8_row7_col5\" class=\"data row7 col5\" >0.2484</td>\n      <td id=\"T_234f8_row7_col6\" class=\"data row7 col6\" >0.4652</td>\n      <td id=\"T_234f8_row7_col7\" class=\"data row7 col7\" >0.0600</td>\n    </tr>\n    <tr>\n      <th id=\"T_234f8_level0_row8\" class=\"row_heading level0 row8\" >ridge</th>\n      <td id=\"T_234f8_row8_col0\" class=\"data row8 col0\" >Ridge Regression</td>\n      <td id=\"T_234f8_row8_col1\" class=\"data row8 col1\" >0.2794</td>\n      <td id=\"T_234f8_row8_col2\" class=\"data row8 col2\" >0.1327</td>\n      <td id=\"T_234f8_row8_col3\" class=\"data row8 col3\" >0.3642</td>\n      <td id=\"T_234f8_row8_col4\" class=\"data row8 col4\" >0.3862</td>\n      <td id=\"T_234f8_row8_col5\" class=\"data row8 col5\" >0.2484</td>\n      <td id=\"T_234f8_row8_col6\" class=\"data row8 col6\" >0.4652</td>\n      <td id=\"T_234f8_row8_col7\" class=\"data row8 col7\" >0.0530</td>\n    </tr>\n    <tr>\n      <th id=\"T_234f8_level0_row9\" class=\"row_heading level0 row9\" >lar</th>\n      <td id=\"T_234f8_row9_col0\" class=\"data row9 col0\" >Least Angle Regression</td>\n      <td id=\"T_234f8_row9_col1\" class=\"data row9 col1\" >0.2794</td>\n      <td id=\"T_234f8_row9_col2\" class=\"data row9 col2\" >0.1327</td>\n      <td id=\"T_234f8_row9_col3\" class=\"data row9 col3\" >0.3642</td>\n      <td id=\"T_234f8_row9_col4\" class=\"data row9 col4\" >0.3862</td>\n      <td id=\"T_234f8_row9_col5\" class=\"data row9 col5\" >0.2484</td>\n      <td id=\"T_234f8_row9_col6\" class=\"data row9 col6\" >0.4652</td>\n      <td id=\"T_234f8_row9_col7\" class=\"data row9 col7\" >0.0530</td>\n    </tr>\n    <tr>\n      <th id=\"T_234f8_level0_row10\" class=\"row_heading level0 row10\" >br</th>\n      <td id=\"T_234f8_row10_col0\" class=\"data row10 col0\" >Bayesian Ridge</td>\n      <td id=\"T_234f8_row10_col1\" class=\"data row10 col1\" >0.2795</td>\n      <td id=\"T_234f8_row10_col2\" class=\"data row10 col2\" >0.1327</td>\n      <td id=\"T_234f8_row10_col3\" class=\"data row10 col3\" >0.3642</td>\n      <td id=\"T_234f8_row10_col4\" class=\"data row10 col4\" >0.3862</td>\n      <td id=\"T_234f8_row10_col5\" class=\"data row10 col5\" >0.2484</td>\n      <td id=\"T_234f8_row10_col6\" class=\"data row10 col6\" >0.4652</td>\n      <td id=\"T_234f8_row10_col7\" class=\"data row10 col7\" >0.0840</td>\n    </tr>\n    <tr>\n      <th id=\"T_234f8_level0_row11\" class=\"row_heading level0 row11\" >omp</th>\n      <td id=\"T_234f8_row11_col0\" class=\"data row11 col0\" >Orthogonal Matching Pursuit</td>\n      <td id=\"T_234f8_row11_col1\" class=\"data row11 col1\" >0.3268</td>\n      <td id=\"T_234f8_row11_col2\" class=\"data row11 col2\" >0.1602</td>\n      <td id=\"T_234f8_row11_col3\" class=\"data row11 col3\" >0.4003</td>\n      <td id=\"T_234f8_row11_col4\" class=\"data row11 col4\" >0.2587</td>\n      <td id=\"T_234f8_row11_col5\" class=\"data row11 col5\" >0.2757</td>\n      <td id=\"T_234f8_row11_col6\" class=\"data row11 col6\" >0.5272</td>\n      <td id=\"T_234f8_row11_col7\" class=\"data row11 col7\" >0.0400</td>\n    </tr>\n    <tr>\n      <th id=\"T_234f8_level0_row12\" class=\"row_heading level0 row12\" >huber</th>\n      <td id=\"T_234f8_row12_col0\" class=\"data row12 col0\" >Huber Regressor</td>\n      <td id=\"T_234f8_row12_col1\" class=\"data row12 col1\" >0.2232</td>\n      <td id=\"T_234f8_row12_col2\" class=\"data row12 col2\" >0.1711</td>\n      <td id=\"T_234f8_row12_col3\" class=\"data row12 col3\" >0.4135</td>\n      <td id=\"T_234f8_row12_col4\" class=\"data row12 col4\" >0.2084</td>\n      <td id=\"T_234f8_row12_col5\" class=\"data row12 col5\" >0.2659</td>\n      <td id=\"T_234f8_row12_col6\" class=\"data row12 col6\" >0.5980</td>\n      <td id=\"T_234f8_row12_col7\" class=\"data row12 col7\" >1.1870</td>\n    </tr>\n    <tr>\n      <th id=\"T_234f8_level0_row13\" class=\"row_heading level0 row13\" >llar</th>\n      <td id=\"T_234f8_row13_col0\" class=\"data row13 col0\" >Lasso Least Angle Regression</td>\n      <td id=\"T_234f8_row13_col1\" class=\"data row13 col1\" >0.4323</td>\n      <td id=\"T_234f8_row13_col2\" class=\"data row13 col2\" >0.2161</td>\n      <td id=\"T_234f8_row13_col3\" class=\"data row13 col3\" >0.4649</td>\n      <td id=\"T_234f8_row13_col4\" class=\"data row13 col4\" >-0.0000</td>\n      <td id=\"T_234f8_row13_col5\" class=\"data row13 col5\" >0.3271</td>\n      <td id=\"T_234f8_row13_col6\" class=\"data row13 col6\" >0.6840</td>\n      <td id=\"T_234f8_row13_col7\" class=\"data row13 col7\" >0.0400</td>\n    </tr>\n    <tr>\n      <th id=\"T_234f8_level0_row14\" class=\"row_heading level0 row14\" >lasso</th>\n      <td id=\"T_234f8_row14_col0\" class=\"data row14 col0\" >Lasso Regression</td>\n      <td id=\"T_234f8_row14_col1\" class=\"data row14 col1\" >0.4323</td>\n      <td id=\"T_234f8_row14_col2\" class=\"data row14 col2\" >0.2161</td>\n      <td id=\"T_234f8_row14_col3\" class=\"data row14 col3\" >0.4649</td>\n      <td id=\"T_234f8_row14_col4\" class=\"data row14 col4\" >-0.0000</td>\n      <td id=\"T_234f8_row14_col5\" class=\"data row14 col5\" >0.3271</td>\n      <td id=\"T_234f8_row14_col6\" class=\"data row14 col6\" >0.6840</td>\n      <td id=\"T_234f8_row14_col7\" class=\"data row14 col7\" >0.0720</td>\n    </tr>\n    <tr>\n      <th id=\"T_234f8_level0_row15\" class=\"row_heading level0 row15\" >en</th>\n      <td id=\"T_234f8_row15_col0\" class=\"data row15 col0\" >Elastic Net</td>\n      <td id=\"T_234f8_row15_col1\" class=\"data row15 col1\" >0.4323</td>\n      <td id=\"T_234f8_row15_col2\" class=\"data row15 col2\" >0.2161</td>\n      <td id=\"T_234f8_row15_col3\" class=\"data row15 col3\" >0.4649</td>\n      <td id=\"T_234f8_row15_col4\" class=\"data row15 col4\" >-0.0000</td>\n      <td id=\"T_234f8_row15_col5\" class=\"data row15 col5\" >0.3271</td>\n      <td id=\"T_234f8_row15_col6\" class=\"data row15 col6\" >0.6840</td>\n      <td id=\"T_234f8_row15_col7\" class=\"data row15 col7\" >0.0690</td>\n    </tr>\n    <tr>\n      <th id=\"T_234f8_level0_row16\" class=\"row_heading level0 row16\" >dummy</th>\n      <td id=\"T_234f8_row16_col0\" class=\"data row16 col0\" >Dummy Regressor</td>\n      <td id=\"T_234f8_row16_col1\" class=\"data row16 col1\" >0.4323</td>\n      <td id=\"T_234f8_row16_col2\" class=\"data row16 col2\" >0.2161</td>\n      <td id=\"T_234f8_row16_col3\" class=\"data row16 col3\" >0.4649</td>\n      <td id=\"T_234f8_row16_col4\" class=\"data row16 col4\" >-0.0000</td>\n      <td id=\"T_234f8_row16_col5\" class=\"data row16 col5\" >0.3271</td>\n      <td id=\"T_234f8_row16_col6\" class=\"data row16 col6\" >0.6840</td>\n      <td id=\"T_234f8_row16_col7\" class=\"data row16 col7\" >0.0260</td>\n    </tr>\n    <tr>\n      <th id=\"T_234f8_level0_row17\" class=\"row_heading level0 row17\" >par</th>\n      <td id=\"T_234f8_row17_col0\" class=\"data row17 col0\" >Passive Aggressive Regressor</td>\n      <td id=\"T_234f8_row17_col1\" class=\"data row17 col1\" >0.6972</td>\n      <td id=\"T_234f8_row17_col2\" class=\"data row17 col2\" >1.6146</td>\n      <td id=\"T_234f8_row17_col3\" class=\"data row17 col3\" >1.2245</td>\n      <td id=\"T_234f8_row17_col4\" class=\"data row17 col4\" >-6.4639</td>\n      <td id=\"T_234f8_row17_col5\" class=\"data row17 col5\" >0.4882</td>\n      <td id=\"T_234f8_row17_col6\" class=\"data row17 col6\" >0.8800</td>\n      <td id=\"T_234f8_row17_col7\" class=\"data row17 col7\" >0.1100</td>\n    </tr>\n  </tbody>\n</table>\n"
     },
     "metadata": {},
     "output_type": "display_data"
    }
   ],
   "source": [
    "from pycaret.regression import RegressionExperiment\n",
    "\n",
    "r = RegressionExperiment()\n",
    "r.setup(data=df_records, target='is_legit', session_id=128, use_gpu=True, log_experiment=False,\n",
    "        experiment_name='records_regression', normalize=True)\n",
    "\n",
    "best_regression_model = r.compare_models(sort='MSE')"
   ]
  },
  {
   "cell_type": "code",
   "outputs": [
    {
     "data": {
      "text/plain": "interactive(children=(ToggleButtons(description='Plot Type:', icons=('',), options=(('Pipeline Plot', 'pipelin…",
      "application/vnd.jupyter.widget-view+json": {
       "version_major": 2,
       "version_minor": 0,
       "model_id": "86c39b19a72a42cd988cc4eabed90097"
      }
     },
     "metadata": {},
     "output_type": "display_data"
    }
   ],
   "source": [
    "r.evaluate_model('rf')"
   ],
   "metadata": {
    "collapsed": false,
    "ExecuteTime": {
     "end_time": "2024-03-27T20:37:56.681003Z",
     "start_time": "2024-03-27T20:37:56.552697Z"
    }
   },
   "id": "15465138e55fc693",
   "execution_count": 35
  },
  {
   "cell_type": "code",
   "outputs": [],
   "source": [
    "# !pip install shap\n",
    "\n",
    "# r.interpret_model('summary')"
   ],
   "metadata": {
    "collapsed": false
   },
   "id": "c0a7c42f92c4ff62",
   "execution_count": null
  },
  {
   "cell_type": "code",
   "outputs": [],
   "source": [
    "r.plot_model"
   ],
   "metadata": {
    "collapsed": false
   },
   "id": "e5a86e095ee05f2d",
   "execution_count": null
  },
  {
   "cell_type": "code",
   "outputs": [],
   "source": [
    "r.tune_model(best_regression_model)"
   ],
   "metadata": {
    "collapsed": false
   },
   "id": "abc8922b4282a976",
   "execution_count": null
  },
  {
   "cell_type": "code",
   "outputs": [
    {
     "data": {
      "text/plain": "<pandas.io.formats.style.Styler at 0x7f647fb18950>",
      "text/html": "<style type=\"text/css\">\n</style>\n<table id=\"T_aa708\">\n  <thead>\n    <tr>\n      <th class=\"blank level0\" >&nbsp;</th>\n      <th id=\"T_aa708_level0_col0\" class=\"col_heading level0 col0\" >Model</th>\n      <th id=\"T_aa708_level0_col1\" class=\"col_heading level0 col1\" >MAE</th>\n      <th id=\"T_aa708_level0_col2\" class=\"col_heading level0 col2\" >MSE</th>\n      <th id=\"T_aa708_level0_col3\" class=\"col_heading level0 col3\" >RMSE</th>\n      <th id=\"T_aa708_level0_col4\" class=\"col_heading level0 col4\" >R2</th>\n      <th id=\"T_aa708_level0_col5\" class=\"col_heading level0 col5\" >RMSLE</th>\n      <th id=\"T_aa708_level0_col6\" class=\"col_heading level0 col6\" >MAPE</th>\n    </tr>\n  </thead>\n  <tbody>\n    <tr>\n      <th id=\"T_aa708_level0_row0\" class=\"row_heading level0 row0\" >0</th>\n      <td id=\"T_aa708_row0_col0\" class=\"data row0 col0\" >Light Gradient Boosting Machine</td>\n      <td id=\"T_aa708_row0_col1\" class=\"data row0 col1\" >0.1568</td>\n      <td id=\"T_aa708_row0_col2\" class=\"data row0 col2\" >0.0766</td>\n      <td id=\"T_aa708_row0_col3\" class=\"data row0 col3\" >0.2767</td>\n      <td id=\"T_aa708_row0_col4\" class=\"data row0 col4\" >0.6462</td>\n      <td id=\"T_aa708_row0_col5\" class=\"data row0 col5\" >0.1937</td>\n      <td id=\"T_aa708_row0_col6\" class=\"data row0 col6\" >0.2482</td>\n    </tr>\n  </tbody>\n</table>\n"
     },
     "metadata": {},
     "output_type": "display_data"
    },
    {
     "data": {
      "text/plain": "   a_records  mx_records  cname_records  txt_records  ptr_records  ptr_ratio  \\\n0          2           1             13            5            2        1.0   \n1          2           0             21            0            3        0.0   \n2          8           1             12            3           12        0.0   \n3         10           1             11           11           14        0.0   \n4          2           0             21            1            3        0.0   \n\n   is_legit  prediction_label  \n0         1          0.982995  \n1         1          0.431670  \n2         1          0.942293  \n3         1          1.027679  \n4         1          0.458081  ",
      "text/html": "<div>\n<style scoped>\n    .dataframe tbody tr th:only-of-type {\n        vertical-align: middle;\n    }\n\n    .dataframe tbody tr th {\n        vertical-align: top;\n    }\n\n    .dataframe thead th {\n        text-align: right;\n    }\n</style>\n<table border=\"1\" class=\"dataframe\">\n  <thead>\n    <tr style=\"text-align: right;\">\n      <th></th>\n      <th>a_records</th>\n      <th>mx_records</th>\n      <th>cname_records</th>\n      <th>txt_records</th>\n      <th>ptr_records</th>\n      <th>ptr_ratio</th>\n      <th>is_legit</th>\n      <th>prediction_label</th>\n    </tr>\n  </thead>\n  <tbody>\n    <tr>\n      <th>0</th>\n      <td>2</td>\n      <td>1</td>\n      <td>13</td>\n      <td>5</td>\n      <td>2</td>\n      <td>1.0</td>\n      <td>1</td>\n      <td>0.982995</td>\n    </tr>\n    <tr>\n      <th>1</th>\n      <td>2</td>\n      <td>0</td>\n      <td>21</td>\n      <td>0</td>\n      <td>3</td>\n      <td>0.0</td>\n      <td>1</td>\n      <td>0.431670</td>\n    </tr>\n    <tr>\n      <th>2</th>\n      <td>8</td>\n      <td>1</td>\n      <td>12</td>\n      <td>3</td>\n      <td>12</td>\n      <td>0.0</td>\n      <td>1</td>\n      <td>0.942293</td>\n    </tr>\n    <tr>\n      <th>3</th>\n      <td>10</td>\n      <td>1</td>\n      <td>11</td>\n      <td>11</td>\n      <td>14</td>\n      <td>0.0</td>\n      <td>1</td>\n      <td>1.027679</td>\n    </tr>\n    <tr>\n      <th>4</th>\n      <td>2</td>\n      <td>0</td>\n      <td>21</td>\n      <td>1</td>\n      <td>3</td>\n      <td>0.0</td>\n      <td>1</td>\n      <td>0.458081</td>\n    </tr>\n  </tbody>\n</table>\n</div>"
     },
     "execution_count": 43,
     "metadata": {},
     "output_type": "execute_result"
    }
   ],
   "source": [
    "predictions = r.predict_model(best_regression_model, data=df_records)\n",
    "predictions.head()"
   ],
   "metadata": {
    "collapsed": false,
    "ExecuteTime": {
     "end_time": "2024-03-27T20:52:29.877432Z",
     "start_time": "2024-03-27T20:52:29.444856Z"
    }
   },
   "id": "14e45c4cfd2a6167",
   "execution_count": 43
  },
  {
   "cell_type": "code",
   "outputs": [],
   "source": [
    "r.save_model(best_regression_model, model_name='resourse_records_regression_extre_trees')"
   ],
   "metadata": {
    "collapsed": false
   },
   "id": "2b6030a60c73fc4a",
   "execution_count": null
  },
  {
   "cell_type": "code",
   "outputs": [
    {
     "name": "stdout",
     "output_type": "stream",
     "text": [
      "Looking in indexes: https://pypi.org/simple, https://pypi.ngc.nvidia.com\r\n",
      "Requirement already satisfied: m2cgen in /opt/conda/lib/python3.11/site-packages (0.10.0)\r\n",
      "Requirement already satisfied: numpy in /opt/conda/lib/python3.11/site-packages (from m2cgen) (1.26.3)\r\n"
     ]
    }
   ],
   "source": [
    "!pip install m2cgen\n",
    "\n",
    "model_go = r.convert_model(best_regression_model, 'go')"
   ],
   "metadata": {
    "collapsed": false,
    "ExecuteTime": {
     "end_time": "2024-03-27T20:43:48.572623Z",
     "start_time": "2024-03-27T20:42:41.800374Z"
    }
   },
   "id": "4743756abc9d054b",
   "execution_count": 39
  },
  {
   "cell_type": "code",
   "outputs": [],
   "source": [
    "f = open(\"golang_records_extra_trees.go\", \"a\")\n",
    "f.write(model_go)\n",
    "f.close()"
   ],
   "metadata": {
    "collapsed": false,
    "ExecuteTime": {
     "end_time": "2024-03-27T20:43:48.721517Z",
     "start_time": "2024-03-27T20:43:48.574371Z"
    }
   },
   "id": "690166d3578d7d61",
   "execution_count": 40
  },
  {
   "cell_type": "code",
   "outputs": [],
   "source": [
    "from pycaret.regression import *\n",
    "\n",
    "knn_exp = setup(df_records, target='is_legit', session_id=128, use_gpu=True, log_experiment=False, experiment_name='records_regression', normalize=True)\n",
    "knn_model = create_model('knn')\n",
    "\n",
    "tuned_knn = tune_model(knn_model)\n",
    "\n",
    "model_go_knn = convert_model(tuned_knn, 'go')\n",
    "\n",
    "f = open(\"golang_resource_records_knn.go\", \"a\")\n",
    "f.write(model_go_knn)\n",
    "f.close()"
   ],
   "metadata": {
    "collapsed": false
   },
   "id": "a5b01c6f691593d1",
   "execution_count": null
  },
  {
   "cell_type": "code",
   "outputs": [],
   "source": [],
   "metadata": {
    "collapsed": false
   },
   "id": "d4e23b2cfedfc178"
  },
  {
   "cell_type": "code",
   "outputs": [],
   "source": [
    "from pycaret.regression import *\n",
    "\n",
    "et_exp = setup(df_records, target='is_legit', session_id=128, use_gpu=True, log_experiment=False, experiment_name='records_regression', normalize=True)\n",
    "et_model = create_model('et')\n",
    "\n",
    "tuned_et = tune_model(et_model)\n",
    "\n",
    "model_go_et = convert_model(tuned_et, 'go')\n",
    "\n",
    "f = open(\"golang_resource_records_extra_trees.go\", \"a\")\n",
    "f.write(model_go_et)\n",
    "f.close()"
   ],
   "metadata": {
    "collapsed": false
   },
   "id": "cff94d834dd270a4",
   "execution_count": null
  },
  {
   "cell_type": "code",
   "outputs": [],
   "source": [
    "r.save_model(best_regression_model, model_name='resourse_records_regression_extre_trees')"
   ],
   "metadata": {
    "collapsed": false
   },
   "id": "dc4f0deb01bc65b1",
   "execution_count": null
  }
 ],
 "metadata": {
  "kernelspec": {
   "display_name": "Python 3 (ipykernel)",
   "language": "python",
   "name": "python3"
  },
  "language_info": {
   "codemirror_mode": {
    "name": "ipython",
    "version": 3
   },
   "file_extension": ".py",
   "mimetype": "text/x-python",
   "name": "python",
   "nbconvert_exporter": "python",
   "pygments_lexer": "ipython3",
   "version": "3.11.7"
  }
 },
 "nbformat": 4,
 "nbformat_minor": 5
}
