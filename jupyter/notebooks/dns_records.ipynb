{
 "cells": [
  {
   "cell_type": "code",
   "execution_count": 1,
   "id": "initial_id",
   "metadata": {
    "collapsed": true,
    "ExecuteTime": {
     "end_time": "2024-03-28T17:10:29.829662Z",
     "start_time": "2024-03-28T17:10:29.629091Z"
    }
   },
   "outputs": [
    {
     "name": "stdout",
     "output_type": "stream",
     "text": [
      "Thu Mar 28 17:10:29 2024       \r\n",
      "+-----------------------------------------------------------------------------------------+\r\n",
      "| NVIDIA-SMI 550.65                 Driver Version: 551.86         CUDA Version: 12.4     |\r\n",
      "|-----------------------------------------+------------------------+----------------------+\r\n",
      "| GPU  Name                 Persistence-M | Bus-Id          Disp.A | Volatile Uncorr. ECC |\r\n",
      "| Fan  Temp   Perf          Pwr:Usage/Cap |           Memory-Usage | GPU-Util  Compute M. |\r\n",
      "|                                         |                        |               MIG M. |\r\n",
      "|=========================================+========================+======================|\r\n",
      "|   0  NVIDIA GeForce RTX 3070 Ti     On  |   00000000:01:00.0  On |                  N/A |\r\n",
      "|  0%   43C    P5             20W /  310W |    1389MiB /   8192MiB |      7%      Default |\r\n",
      "|                                         |                        |                  N/A |\r\n",
      "+-----------------------------------------+------------------------+----------------------+\r\n",
      "                                                                                         \r\n",
      "+-----------------------------------------------------------------------------------------+\r\n",
      "| Processes:                                                                              |\r\n",
      "|  GPU   GI   CI        PID   Type   Process name                              GPU Memory |\r\n",
      "|        ID   ID                                                               Usage      |\r\n",
      "|=========================================================================================|\r\n",
      "|  No running processes found                                                             |\r\n",
      "+-----------------------------------------------------------------------------------------+\r\n"
     ]
    }
   ],
   "source": [
    "!nvidia-smi"
   ]
  },
  {
   "cell_type": "code",
   "outputs": [],
   "source": [],
   "metadata": {
    "collapsed": false
   },
   "id": "cc6550f1bc7ada59"
  },
  {
   "cell_type": "code",
   "execution_count": 4,
   "id": "f96263aa4fcd7b74",
   "metadata": {
    "ExecuteTime": {
     "end_time": "2024-03-28T17:14:45.974239Z",
     "start_time": "2024-03-28T17:14:45.531484Z"
    }
   },
   "outputs": [],
   "source": [
    "import pandas as pd\n",
    "import numpy as np\n",
    "import matplotlib.pyplot as plt"
   ]
  },
  {
   "cell_type": "code",
   "execution_count": 10,
   "id": "83f9abab65e993c7",
   "metadata": {
    "ExecuteTime": {
     "end_time": "2024-03-28T17:22:54.302435Z",
     "start_time": "2024-03-28T17:22:42.611792Z"
    }
   },
   "outputs": [
    {
     "name": "stdout",
     "output_type": "stream",
     "text": [
      "Looking in indexes: https://pypi.org/simple, https://pypi.ngc.nvidia.com\r\n",
      "Requirement already satisfied: pycaret==3.3 in /opt/conda/lib/python3.11/site-packages (3.3.0)\r\n",
      "Requirement already satisfied: ipython>=5.5.0 in /opt/conda/lib/python3.11/site-packages (from pycaret==3.3) (8.20.0)\r\n",
      "Requirement already satisfied: ipywidgets>=7.6.5 in /opt/conda/lib/python3.11/site-packages (from pycaret==3.3) (8.0.4)\r\n",
      "Requirement already satisfied: tqdm>=4.62.0 in /opt/conda/lib/python3.11/site-packages (from pycaret==3.3) (4.66.1)\r\n",
      "Requirement already satisfied: numpy<1.27,>=1.21 in /opt/conda/lib/python3.11/site-packages (from pycaret==3.3) (1.26.3)\r\n",
      "Requirement already satisfied: pandas<2.2.0 in /opt/conda/lib/python3.11/site-packages (from pycaret==3.3) (2.1.4)\r\n",
      "Requirement already satisfied: jinja2>=3 in /opt/conda/lib/python3.11/site-packages (from pycaret==3.3) (3.1.3)\r\n",
      "Requirement already satisfied: scipy<=1.11.4,>=1.6.1 in /opt/conda/lib/python3.11/site-packages (from pycaret==3.3) (1.11.4)\r\n",
      "Requirement already satisfied: joblib>=1.2.0 in /opt/conda/lib/python3.11/site-packages (from pycaret==3.3) (1.3.2)\r\n",
      "Requirement already satisfied: scikit-learn>1.4.0 in /opt/conda/lib/python3.11/site-packages (from pycaret==3.3) (1.4.1.post1)\r\n",
      "Requirement already satisfied: pyod>=1.1.3 in /opt/conda/lib/python3.11/site-packages (from pycaret==3.3) (1.1.3)\r\n",
      "Requirement already satisfied: imbalanced-learn>=0.12.0 in /opt/conda/lib/python3.11/site-packages (from pycaret==3.3) (0.12.0)\r\n",
      "Requirement already satisfied: category-encoders>=2.4.0 in /opt/conda/lib/python3.11/site-packages (from pycaret==3.3) (2.6.3)\r\n",
      "Requirement already satisfied: lightgbm>=3.0.0 in /opt/conda/lib/python3.11/site-packages (from pycaret==3.3) (4.3.0)\r\n",
      "Requirement already satisfied: numba>=0.55.0 in /opt/conda/lib/python3.11/site-packages (from pycaret==3.3) (0.58.1)\r\n",
      "Requirement already satisfied: requests>=2.27.1 in /opt/conda/lib/python3.11/site-packages (from pycaret==3.3) (2.31.0)\r\n",
      "Requirement already satisfied: psutil>=5.9.0 in /opt/conda/lib/python3.11/site-packages (from pycaret==3.3) (5.9.8)\r\n",
      "Requirement already satisfied: markupsafe>=2.0.1 in /opt/conda/lib/python3.11/site-packages (from pycaret==3.3) (2.1.4)\r\n",
      "Requirement already satisfied: importlib-metadata>=4.12.0 in /opt/conda/lib/python3.11/site-packages (from pycaret==3.3) (7.0.1)\r\n",
      "Requirement already satisfied: nbformat>=4.2.0 in /opt/conda/lib/python3.11/site-packages (from pycaret==3.3) (5.9.2)\r\n",
      "Requirement already satisfied: cloudpickle in /opt/conda/lib/python3.11/site-packages (from pycaret==3.3) (3.0.0)\r\n",
      "Requirement already satisfied: deprecation>=2.1.0 in /opt/conda/lib/python3.11/site-packages (from pycaret==3.3) (2.1.0)\r\n",
      "Requirement already satisfied: xxhash in /opt/conda/lib/python3.11/site-packages (from pycaret==3.3) (3.4.1)\r\n",
      "Requirement already satisfied: matplotlib<3.8.0 in /opt/conda/lib/python3.11/site-packages (from pycaret==3.3) (3.7.5)\r\n",
      "Requirement already satisfied: scikit-plot>=0.3.7 in /opt/conda/lib/python3.11/site-packages (from pycaret==3.3) (0.3.7)\r\n",
      "Requirement already satisfied: yellowbrick>=1.4 in /opt/conda/lib/python3.11/site-packages (from pycaret==3.3) (1.5)\r\n",
      "Requirement already satisfied: plotly>=5.14.0 in /opt/conda/lib/python3.11/site-packages (from pycaret==3.3) (5.20.0)\r\n",
      "Requirement already satisfied: kaleido>=0.2.1 in /opt/conda/lib/python3.11/site-packages (from pycaret==3.3) (0.2.1)\r\n",
      "Requirement already satisfied: schemdraw==0.15 in /opt/conda/lib/python3.11/site-packages (from pycaret==3.3) (0.15)\r\n",
      "Requirement already satisfied: plotly-resampler>=0.8.3.1 in /opt/conda/lib/python3.11/site-packages (from pycaret==3.3) (0.9.2)\r\n",
      "Requirement already satisfied: statsmodels>=0.12.1 in /opt/conda/lib/python3.11/site-packages (from pycaret==3.3) (0.14.1)\r\n",
      "Requirement already satisfied: sktime>=0.26.0 in /opt/conda/lib/python3.11/site-packages (from pycaret==3.3) (0.27.1)\r\n",
      "Requirement already satisfied: tbats>=1.1.3 in /opt/conda/lib/python3.11/site-packages (from pycaret==3.3) (1.1.3)\r\n",
      "Requirement already satisfied: pmdarima>=2.0.4 in /opt/conda/lib/python3.11/site-packages (from pycaret==3.3) (2.0.4)\r\n",
      "Requirement already satisfied: wurlitzer in /opt/conda/lib/python3.11/site-packages (from pycaret==3.3) (3.0.3)\r\n",
      "Requirement already satisfied: patsy>=0.5.1 in /opt/conda/lib/python3.11/site-packages (from category-encoders>=2.4.0->pycaret==3.3) (0.5.6)\r\n",
      "Requirement already satisfied: packaging in /opt/conda/lib/python3.11/site-packages (from deprecation>=2.1.0->pycaret==3.3) (23.2)\r\n",
      "Requirement already satisfied: threadpoolctl>=2.0.0 in /opt/conda/lib/python3.11/site-packages (from imbalanced-learn>=0.12.0->pycaret==3.3) (3.2.0)\r\n",
      "Requirement already satisfied: zipp>=0.5 in /opt/conda/lib/python3.11/site-packages (from importlib-metadata>=4.12.0->pycaret==3.3) (3.17.0)\r\n",
      "Requirement already satisfied: decorator in /opt/conda/lib/python3.11/site-packages (from ipython>=5.5.0->pycaret==3.3) (5.1.1)\r\n",
      "Requirement already satisfied: jedi>=0.16 in /opt/conda/lib/python3.11/site-packages (from ipython>=5.5.0->pycaret==3.3) (0.19.1)\r\n",
      "Requirement already satisfied: matplotlib-inline in /opt/conda/lib/python3.11/site-packages (from ipython>=5.5.0->pycaret==3.3) (0.1.6)\r\n",
      "Requirement already satisfied: prompt-toolkit<3.1.0,>=3.0.41 in /opt/conda/lib/python3.11/site-packages (from ipython>=5.5.0->pycaret==3.3) (3.0.42)\r\n",
      "Requirement already satisfied: pygments>=2.4.0 in /opt/conda/lib/python3.11/site-packages (from ipython>=5.5.0->pycaret==3.3) (2.17.2)\r\n",
      "Requirement already satisfied: stack-data in /opt/conda/lib/python3.11/site-packages (from ipython>=5.5.0->pycaret==3.3) (0.6.2)\r\n",
      "Requirement already satisfied: traitlets>=5 in /opt/conda/lib/python3.11/site-packages (from ipython>=5.5.0->pycaret==3.3) (5.14.1)\r\n",
      "Requirement already satisfied: pexpect>4.3 in /opt/conda/lib/python3.11/site-packages (from ipython>=5.5.0->pycaret==3.3) (4.8.0)\r\n",
      "Requirement already satisfied: ipykernel>=4.5.1 in /opt/conda/lib/python3.11/site-packages (from ipywidgets>=7.6.5->pycaret==3.3) (6.29.0)\r\n",
      "Requirement already satisfied: widgetsnbextension~=4.0 in /opt/conda/lib/python3.11/site-packages (from ipywidgets>=7.6.5->pycaret==3.3) (4.0.9)\r\n",
      "Requirement already satisfied: jupyterlab-widgets~=3.0 in /opt/conda/lib/python3.11/site-packages (from ipywidgets>=7.6.5->pycaret==3.3) (3.0.9)\r\n",
      "Requirement already satisfied: contourpy>=1.0.1 in /opt/conda/lib/python3.11/site-packages (from matplotlib<3.8.0->pycaret==3.3) (1.2.0)\r\n",
      "Requirement already satisfied: cycler>=0.10 in /opt/conda/lib/python3.11/site-packages (from matplotlib<3.8.0->pycaret==3.3) (0.12.1)\r\n",
      "Requirement already satisfied: fonttools>=4.22.0 in /opt/conda/lib/python3.11/site-packages (from matplotlib<3.8.0->pycaret==3.3) (4.47.2)\r\n",
      "Requirement already satisfied: kiwisolver>=1.0.1 in /opt/conda/lib/python3.11/site-packages (from matplotlib<3.8.0->pycaret==3.3) (1.4.5)\r\n",
      "Requirement already satisfied: pillow>=6.2.0 in /opt/conda/lib/python3.11/site-packages (from matplotlib<3.8.0->pycaret==3.3) (10.2.0)\r\n",
      "Requirement already satisfied: pyparsing>=2.3.1 in /opt/conda/lib/python3.11/site-packages (from matplotlib<3.8.0->pycaret==3.3) (3.1.1)\r\n",
      "Requirement already satisfied: python-dateutil>=2.7 in /opt/conda/lib/python3.11/site-packages (from matplotlib<3.8.0->pycaret==3.3) (2.8.2)\r\n",
      "Requirement already satisfied: fastjsonschema in /opt/conda/lib/python3.11/site-packages (from nbformat>=4.2.0->pycaret==3.3) (2.19.1)\r\n",
      "Requirement already satisfied: jsonschema>=2.6 in /opt/conda/lib/python3.11/site-packages (from nbformat>=4.2.0->pycaret==3.3) (4.21.1)\r\n",
      "Requirement already satisfied: jupyter-core in /opt/conda/lib/python3.11/site-packages (from nbformat>=4.2.0->pycaret==3.3) (5.7.1)\r\n",
      "Requirement already satisfied: llvmlite<0.42,>=0.41.0dev0 in /opt/conda/lib/python3.11/site-packages (from numba>=0.55.0->pycaret==3.3) (0.41.1)\r\n",
      "Requirement already satisfied: pytz>=2020.1 in /opt/conda/lib/python3.11/site-packages (from pandas<2.2.0->pycaret==3.3) (2023.3.post1)\r\n",
      "Requirement already satisfied: tzdata>=2022.1 in /opt/conda/lib/python3.11/site-packages (from pandas<2.2.0->pycaret==3.3) (2023.4)\r\n",
      "Requirement already satisfied: tenacity>=6.2.0 in /opt/conda/lib/python3.11/site-packages (from plotly>=5.14.0->pycaret==3.3) (8.2.3)\r\n",
      "Requirement already satisfied: dash>=2.9.0 in /opt/conda/lib/python3.11/site-packages (from plotly-resampler>=0.8.3.1->pycaret==3.3) (2.16.1)\r\n",
      "Requirement already satisfied: orjson<4.0.0,>=3.8.0 in /opt/conda/lib/python3.11/site-packages (from plotly-resampler>=0.8.3.1->pycaret==3.3) (3.9.15)\r\n",
      "Requirement already satisfied: tsdownsample==0.1.2 in /opt/conda/lib/python3.11/site-packages (from plotly-resampler>=0.8.3.1->pycaret==3.3) (0.1.2)\r\n",
      "Requirement already satisfied: Cython!=0.29.18,!=0.29.31,>=0.29 in /opt/conda/lib/python3.11/site-packages (from pmdarima>=2.0.4->pycaret==3.3) (3.0.7)\r\n",
      "Requirement already satisfied: urllib3 in /opt/conda/lib/python3.11/site-packages (from pmdarima>=2.0.4->pycaret==3.3) (2.1.0)\r\n",
      "Requirement already satisfied: setuptools!=50.0.0,>=38.6.0 in /opt/conda/lib/python3.11/site-packages (from pmdarima>=2.0.4->pycaret==3.3) (69.0.3)\r\n",
      "Requirement already satisfied: six in /opt/conda/lib/python3.11/site-packages (from pyod>=1.1.3->pycaret==3.3) (1.16.0)\r\n",
      "Requirement already satisfied: charset-normalizer<4,>=2 in /opt/conda/lib/python3.11/site-packages (from requests>=2.27.1->pycaret==3.3) (3.3.2)\r\n",
      "Requirement already satisfied: idna<4,>=2.5 in /opt/conda/lib/python3.11/site-packages (from requests>=2.27.1->pycaret==3.3) (3.6)\r\n",
      "Requirement already satisfied: certifi>=2017.4.17 in /opt/conda/lib/python3.11/site-packages (from requests>=2.27.1->pycaret==3.3) (2023.11.17)\r\n",
      "Requirement already satisfied: scikit-base<0.8.0 in /opt/conda/lib/python3.11/site-packages (from sktime>=0.26.0->pycaret==3.3) (0.7.5)\r\n",
      "Requirement already satisfied: Flask<3.1,>=1.0.4 in /opt/conda/lib/python3.11/site-packages (from dash>=2.9.0->plotly-resampler>=0.8.3.1->pycaret==3.3) (3.0.2)\r\n",
      "Requirement already satisfied: Werkzeug<3.1 in /opt/conda/lib/python3.11/site-packages (from dash>=2.9.0->plotly-resampler>=0.8.3.1->pycaret==3.3) (3.0.1)\r\n",
      "Requirement already satisfied: dash-html-components==2.0.0 in /opt/conda/lib/python3.11/site-packages (from dash>=2.9.0->plotly-resampler>=0.8.3.1->pycaret==3.3) (2.0.0)\r\n",
      "Requirement already satisfied: dash-core-components==2.0.0 in /opt/conda/lib/python3.11/site-packages (from dash>=2.9.0->plotly-resampler>=0.8.3.1->pycaret==3.3) (2.0.0)\r\n",
      "Requirement already satisfied: dash-table==5.0.0 in /opt/conda/lib/python3.11/site-packages (from dash>=2.9.0->plotly-resampler>=0.8.3.1->pycaret==3.3) (5.0.0)\r\n",
      "Requirement already satisfied: typing-extensions>=4.1.1 in /opt/conda/lib/python3.11/site-packages (from dash>=2.9.0->plotly-resampler>=0.8.3.1->pycaret==3.3) (4.9.0)\r\n",
      "Requirement already satisfied: retrying in /opt/conda/lib/python3.11/site-packages (from dash>=2.9.0->plotly-resampler>=0.8.3.1->pycaret==3.3) (1.3.4)\r\n",
      "Requirement already satisfied: nest-asyncio in /opt/conda/lib/python3.11/site-packages (from dash>=2.9.0->plotly-resampler>=0.8.3.1->pycaret==3.3) (1.6.0)\r\n",
      "Requirement already satisfied: comm>=0.1.1 in /opt/conda/lib/python3.11/site-packages (from ipykernel>=4.5.1->ipywidgets>=7.6.5->pycaret==3.3) (0.2.1)\r\n",
      "Requirement already satisfied: debugpy>=1.6.5 in /opt/conda/lib/python3.11/site-packages (from ipykernel>=4.5.1->ipywidgets>=7.6.5->pycaret==3.3) (1.8.0)\r\n",
      "Requirement already satisfied: jupyter-client>=6.1.12 in /opt/conda/lib/python3.11/site-packages (from ipykernel>=4.5.1->ipywidgets>=7.6.5->pycaret==3.3) (7.4.9)\r\n",
      "Requirement already satisfied: pyzmq>=24 in /opt/conda/lib/python3.11/site-packages (from ipykernel>=4.5.1->ipywidgets>=7.6.5->pycaret==3.3) (24.0.1)\r\n",
      "Requirement already satisfied: tornado>=6.1 in /opt/conda/lib/python3.11/site-packages (from ipykernel>=4.5.1->ipywidgets>=7.6.5->pycaret==3.3) (6.3.3)\r\n",
      "Requirement already satisfied: parso<0.9.0,>=0.8.3 in /opt/conda/lib/python3.11/site-packages (from jedi>=0.16->ipython>=5.5.0->pycaret==3.3) (0.8.3)\r\n",
      "Requirement already satisfied: attrs>=22.2.0 in /opt/conda/lib/python3.11/site-packages (from jsonschema>=2.6->nbformat>=4.2.0->pycaret==3.3) (23.2.0)\r\n",
      "Requirement already satisfied: jsonschema-specifications>=2023.03.6 in /opt/conda/lib/python3.11/site-packages (from jsonschema>=2.6->nbformat>=4.2.0->pycaret==3.3) (2023.12.1)\r\n",
      "Requirement already satisfied: referencing>=0.28.4 in /opt/conda/lib/python3.11/site-packages (from jsonschema>=2.6->nbformat>=4.2.0->pycaret==3.3) (0.32.1)\r\n",
      "Requirement already satisfied: rpds-py>=0.7.1 in /opt/conda/lib/python3.11/site-packages (from jsonschema>=2.6->nbformat>=4.2.0->pycaret==3.3) (0.17.1)\r\n",
      "Requirement already satisfied: platformdirs>=2.5 in /opt/conda/lib/python3.11/site-packages (from jupyter-core->nbformat>=4.2.0->pycaret==3.3) (4.1.0)\r\n",
      "Requirement already satisfied: ptyprocess>=0.5 in /opt/conda/lib/python3.11/site-packages (from pexpect>4.3->ipython>=5.5.0->pycaret==3.3) (0.7.0)\r\n",
      "Requirement already satisfied: wcwidth in /opt/conda/lib/python3.11/site-packages (from prompt-toolkit<3.1.0,>=3.0.41->ipython>=5.5.0->pycaret==3.3) (0.2.13)\r\n",
      "Requirement already satisfied: executing>=1.2.0 in /opt/conda/lib/python3.11/site-packages (from stack-data->ipython>=5.5.0->pycaret==3.3) (2.0.1)\r\n",
      "Requirement already satisfied: asttokens>=2.1.0 in /opt/conda/lib/python3.11/site-packages (from stack-data->ipython>=5.5.0->pycaret==3.3) (2.4.1)\r\n",
      "Requirement already satisfied: pure-eval in /opt/conda/lib/python3.11/site-packages (from stack-data->ipython>=5.5.0->pycaret==3.3) (0.2.2)\r\n",
      "Requirement already satisfied: itsdangerous>=2.1.2 in /opt/conda/lib/python3.11/site-packages (from Flask<3.1,>=1.0.4->dash>=2.9.0->plotly-resampler>=0.8.3.1->pycaret==3.3) (2.1.2)\r\n",
      "Requirement already satisfied: click>=8.1.3 in /opt/conda/lib/python3.11/site-packages (from Flask<3.1,>=1.0.4->dash>=2.9.0->plotly-resampler>=0.8.3.1->pycaret==3.3) (8.1.7)\r\n",
      "Requirement already satisfied: blinker>=1.6.2 in /opt/conda/lib/python3.11/site-packages (from Flask<3.1,>=1.0.4->dash>=2.9.0->plotly-resampler>=0.8.3.1->pycaret==3.3) (1.7.0)\r\n",
      "Requirement already satisfied: entrypoints in /opt/conda/lib/python3.11/site-packages (from jupyter-client>=6.1.12->ipykernel>=4.5.1->ipywidgets>=7.6.5->pycaret==3.3) (0.4)\r\n",
      "Looking in indexes: https://pypi.org/simple, https://pypi.ngc.nvidia.com\r\n",
      "Requirement already satisfied: mlflow in /opt/conda/lib/python3.11/site-packages (2.11.3)\r\n",
      "Requirement already satisfied: click<9,>=7.0 in /opt/conda/lib/python3.11/site-packages (from mlflow) (8.1.7)\r\n",
      "Requirement already satisfied: cloudpickle<4 in /opt/conda/lib/python3.11/site-packages (from mlflow) (3.0.0)\r\n",
      "Requirement already satisfied: entrypoints<1 in /opt/conda/lib/python3.11/site-packages (from mlflow) (0.4)\r\n",
      "Requirement already satisfied: gitpython<4,>=3.1.9 in /opt/conda/lib/python3.11/site-packages (from mlflow) (3.1.41)\r\n",
      "Requirement already satisfied: pyyaml<7,>=5.1 in /opt/conda/lib/python3.11/site-packages (from mlflow) (6.0.1)\r\n",
      "Requirement already satisfied: protobuf<5,>=3.12.0 in /opt/conda/lib/python3.11/site-packages (from mlflow) (4.23.4)\r\n",
      "Requirement already satisfied: pytz<2025 in /opt/conda/lib/python3.11/site-packages (from mlflow) (2023.3.post1)\r\n",
      "Requirement already satisfied: requests<3,>=2.17.3 in /opt/conda/lib/python3.11/site-packages (from mlflow) (2.31.0)\r\n",
      "Requirement already satisfied: packaging<24 in /opt/conda/lib/python3.11/site-packages (from mlflow) (23.2)\r\n",
      "Requirement already satisfied: importlib-metadata!=4.7.0,<8,>=3.7.0 in /opt/conda/lib/python3.11/site-packages (from mlflow) (7.0.1)\r\n",
      "Requirement already satisfied: sqlparse<1,>=0.4.0 in /opt/conda/lib/python3.11/site-packages (from mlflow) (0.4.4)\r\n",
      "Requirement already satisfied: alembic!=1.10.0,<2 in /opt/conda/lib/python3.11/site-packages (from mlflow) (1.13.1)\r\n",
      "Requirement already satisfied: docker<8,>=4.0.0 in /opt/conda/lib/python3.11/site-packages (from mlflow) (7.0.0)\r\n",
      "Requirement already satisfied: Flask<4 in /opt/conda/lib/python3.11/site-packages (from mlflow) (3.0.2)\r\n",
      "Requirement already satisfied: numpy<2 in /opt/conda/lib/python3.11/site-packages (from mlflow) (1.26.3)\r\n",
      "Requirement already satisfied: scipy<2 in /opt/conda/lib/python3.11/site-packages (from mlflow) (1.11.4)\r\n",
      "Requirement already satisfied: pandas<3 in /opt/conda/lib/python3.11/site-packages (from mlflow) (2.1.4)\r\n",
      "Requirement already satisfied: querystring-parser<2 in /opt/conda/lib/python3.11/site-packages (from mlflow) (1.2.4)\r\n",
      "Requirement already satisfied: sqlalchemy<3,>=1.4.0 in /opt/conda/lib/python3.11/site-packages (from mlflow) (2.0.25)\r\n",
      "Requirement already satisfied: scikit-learn<2 in /opt/conda/lib/python3.11/site-packages (from mlflow) (1.4.1.post1)\r\n",
      "Requirement already satisfied: pyarrow<16,>=4.0.0 in /opt/conda/lib/python3.11/site-packages (from mlflow) (14.0.2)\r\n",
      "Requirement already satisfied: markdown<4,>=3.3 in /opt/conda/lib/python3.11/site-packages (from mlflow) (3.5.2)\r\n",
      "Requirement already satisfied: matplotlib<4 in /opt/conda/lib/python3.11/site-packages (from mlflow) (3.7.5)\r\n",
      "Requirement already satisfied: graphene<4 in /opt/conda/lib/python3.11/site-packages (from mlflow) (3.3)\r\n",
      "Requirement already satisfied: gunicorn<22 in /opt/conda/lib/python3.11/site-packages (from mlflow) (21.2.0)\r\n",
      "Requirement already satisfied: Jinja2<4,>=2.11 in /opt/conda/lib/python3.11/site-packages (from mlflow) (3.1.3)\r\n",
      "Requirement already satisfied: Mako in /opt/conda/lib/python3.11/site-packages (from alembic!=1.10.0,<2->mlflow) (1.3.1)\r\n",
      "Requirement already satisfied: typing-extensions>=4 in /opt/conda/lib/python3.11/site-packages (from alembic!=1.10.0,<2->mlflow) (4.9.0)\r\n",
      "Requirement already satisfied: urllib3>=1.26.0 in /opt/conda/lib/python3.11/site-packages (from docker<8,>=4.0.0->mlflow) (2.1.0)\r\n",
      "Requirement already satisfied: Werkzeug>=3.0.0 in /opt/conda/lib/python3.11/site-packages (from Flask<4->mlflow) (3.0.1)\r\n",
      "Requirement already satisfied: itsdangerous>=2.1.2 in /opt/conda/lib/python3.11/site-packages (from Flask<4->mlflow) (2.1.2)\r\n",
      "Requirement already satisfied: blinker>=1.6.2 in /opt/conda/lib/python3.11/site-packages (from Flask<4->mlflow) (1.7.0)\r\n",
      "Requirement already satisfied: gitdb<5,>=4.0.1 in /opt/conda/lib/python3.11/site-packages (from gitpython<4,>=3.1.9->mlflow) (4.0.11)\r\n",
      "Requirement already satisfied: graphql-core<3.3,>=3.1 in /opt/conda/lib/python3.11/site-packages (from graphene<4->mlflow) (3.2.3)\r\n",
      "Requirement already satisfied: graphql-relay<3.3,>=3.1 in /opt/conda/lib/python3.11/site-packages (from graphene<4->mlflow) (3.2.0)\r\n",
      "Requirement already satisfied: aniso8601<10,>=8 in /opt/conda/lib/python3.11/site-packages (from graphene<4->mlflow) (9.0.1)\r\n",
      "Requirement already satisfied: zipp>=0.5 in /opt/conda/lib/python3.11/site-packages (from importlib-metadata!=4.7.0,<8,>=3.7.0->mlflow) (3.17.0)\r\n",
      "Requirement already satisfied: MarkupSafe>=2.0 in /opt/conda/lib/python3.11/site-packages (from Jinja2<4,>=2.11->mlflow) (2.1.4)\r\n",
      "Requirement already satisfied: contourpy>=1.0.1 in /opt/conda/lib/python3.11/site-packages (from matplotlib<4->mlflow) (1.2.0)\r\n",
      "Requirement already satisfied: cycler>=0.10 in /opt/conda/lib/python3.11/site-packages (from matplotlib<4->mlflow) (0.12.1)\r\n",
      "Requirement already satisfied: fonttools>=4.22.0 in /opt/conda/lib/python3.11/site-packages (from matplotlib<4->mlflow) (4.47.2)\r\n",
      "Requirement already satisfied: kiwisolver>=1.0.1 in /opt/conda/lib/python3.11/site-packages (from matplotlib<4->mlflow) (1.4.5)\r\n",
      "Requirement already satisfied: pillow>=6.2.0 in /opt/conda/lib/python3.11/site-packages (from matplotlib<4->mlflow) (10.2.0)\r\n",
      "Requirement already satisfied: pyparsing>=2.3.1 in /opt/conda/lib/python3.11/site-packages (from matplotlib<4->mlflow) (3.1.1)\r\n",
      "Requirement already satisfied: python-dateutil>=2.7 in /opt/conda/lib/python3.11/site-packages (from matplotlib<4->mlflow) (2.8.2)\r\n",
      "Requirement already satisfied: tzdata>=2022.1 in /opt/conda/lib/python3.11/site-packages (from pandas<3->mlflow) (2023.4)\r\n",
      "Requirement already satisfied: six in /opt/conda/lib/python3.11/site-packages (from querystring-parser<2->mlflow) (1.16.0)\r\n",
      "Requirement already satisfied: charset-normalizer<4,>=2 in /opt/conda/lib/python3.11/site-packages (from requests<3,>=2.17.3->mlflow) (3.3.2)\r\n",
      "Requirement already satisfied: idna<4,>=2.5 in /opt/conda/lib/python3.11/site-packages (from requests<3,>=2.17.3->mlflow) (3.6)\r\n",
      "Requirement already satisfied: certifi>=2017.4.17 in /opt/conda/lib/python3.11/site-packages (from requests<3,>=2.17.3->mlflow) (2023.11.17)\r\n",
      "Requirement already satisfied: joblib>=1.2.0 in /opt/conda/lib/python3.11/site-packages (from scikit-learn<2->mlflow) (1.3.2)\r\n",
      "Requirement already satisfied: threadpoolctl>=2.0.0 in /opt/conda/lib/python3.11/site-packages (from scikit-learn<2->mlflow) (3.2.0)\r\n",
      "Requirement already satisfied: greenlet!=0.4.17 in /opt/conda/lib/python3.11/site-packages (from sqlalchemy<3,>=1.4.0->mlflow) (3.0.3)\r\n",
      "Requirement already satisfied: smmap<6,>=3.0.1 in /opt/conda/lib/python3.11/site-packages (from gitdb<5,>=4.0.1->gitpython<4,>=3.1.9->mlflow) (5.0.0)\r\n",
      "Looking in indexes: https://pypi.org/simple, https://pypi.ngc.nvidia.com\r\n",
      "Requirement already satisfied: m2cgen in /opt/conda/lib/python3.11/site-packages (0.10.0)\r\n",
      "Requirement already satisfied: numpy in /opt/conda/lib/python3.11/site-packages (from m2cgen) (1.26.3)\r\n",
      "Looking in indexes: https://pypi.org/simple, https://pypi.ngc.nvidia.com\r\n",
      "Requirement already satisfied: scipy==1.11.4 in /opt/conda/lib/python3.11/site-packages (1.11.4)\r\n",
      "Requirement already satisfied: numpy<1.28.0,>=1.21.6 in /opt/conda/lib/python3.11/site-packages (from scipy==1.11.4) (1.26.3)\r\n",
      "Note: you may need to restart the kernel to use updated packages.\n"
     ]
    }
   ],
   "source": [
    "!pip install pycaret==3.3\n",
    "!pip install mlflow\n",
    "!pip install m2cgen\n",
    "\n",
    "%pip install scipy==1.11.4"
   ]
  },
  {
   "cell_type": "code",
   "outputs": [],
   "source": [
    "dataset_file_name = 'work/datasets/processed_actual/merged_full_2024_03_27.csv'"
   ],
   "metadata": {
    "collapsed": false,
    "ExecuteTime": {
     "end_time": "2024-03-28T17:14:40.859550Z",
     "start_time": "2024-03-28T17:14:40.856629Z"
    }
   },
   "id": "3db1baf6eb63116e",
   "execution_count": 2
  },
  {
   "cell_type": "code",
   "execution_count": 5,
   "id": "d92db117c056078a",
   "metadata": {
    "ExecuteTime": {
     "end_time": "2024-03-28T17:14:47.431483Z",
     "start_time": "2024-03-28T17:14:47.087659Z"
    }
   },
   "outputs": [
    {
     "name": "stdout",
     "output_type": "stream",
     "text": [
      "<class 'pandas.core.frame.DataFrame'>\n",
      "RangeIndex: 239257 entries, 0 to 239256\n",
      "Data columns (total 19 columns):\n",
      " #   Column            Non-Null Count   Dtype  \n",
      "---  ------            --------------   -----  \n",
      " 0   domain            239257 non-null  object \n",
      " 1   tld               239257 non-null  object \n",
      " 2   levels_count      239257 non-null  int64  \n",
      " 3   levels_mad        239257 non-null  float64\n",
      " 4   symbols_count     239257 non-null  int64  \n",
      " 5   vowels_ratio      239257 non-null  float64\n",
      " 6   consonants_ratio  239257 non-null  float64\n",
      " 7   numbers_ratio     239257 non-null  float64\n",
      " 8   points_ratio      239257 non-null  float64\n",
      " 9   special_ratio     239257 non-null  float64\n",
      " 10  unique_ratio      239257 non-null  float64\n",
      " 11  max_repeated      239257 non-null  int64  \n",
      " 12  a_records         239257 non-null  int64  \n",
      " 13  mx_records        239257 non-null  int64  \n",
      " 14  cname_records     239257 non-null  int64  \n",
      " 15  txt_records       239257 non-null  int64  \n",
      " 16  ptr_records       239257 non-null  int64  \n",
      " 17  ptr_ratio         239257 non-null  float64\n",
      " 18  is_legit          239257 non-null  int64  \n",
      "dtypes: float64(8), int64(9), object(2)\n",
      "memory usage: 34.7+ MB\n"
     ]
    }
   ],
   "source": [
    "df = pd.read_csv(dataset_file_name)\n",
    "df.set_index('domain')\n",
    "\n",
    "df.info()"
   ]
  },
  {
   "cell_type": "code",
   "execution_count": 6,
   "id": "3a4b715d9c7aa7c6",
   "metadata": {
    "ExecuteTime": {
     "end_time": "2024-03-28T17:14:50.334330Z",
     "start_time": "2024-03-28T17:14:50.331388Z"
    }
   },
   "outputs": [],
   "source": [
    "plt.style.use('fivethirtyeight')"
   ]
  },
  {
   "cell_type": "code",
   "execution_count": 7,
   "id": "3b7cd22e80cfee34",
   "metadata": {
    "ExecuteTime": {
     "end_time": "2024-03-28T17:14:51.150158Z",
     "start_time": "2024-03-28T17:14:51.145087Z"
    }
   },
   "outputs": [],
   "source": [
    "df_records = df[\n",
    "    [\"a_records\", \"mx_records\", \"cname_records\", \"txt_records\", \"ptr_records\", \"ptr_ratio\", \"is_legit\"]\n",
    "]\n",
    "    \n",
    "# df_records = df_records.astype({'domain': 'string'})"
   ]
  },
  {
   "cell_type": "code",
   "execution_count": 8,
   "id": "a070996bbed77a7a",
   "metadata": {
    "ExecuteTime": {
     "end_time": "2024-03-28T17:17:00.084258Z",
     "start_time": "2024-03-28T17:14:54.735626Z"
    }
   },
   "outputs": [
    {
     "name": "stdout",
     "output_type": "stream",
     "text": [
      "[LightGBM] [Warning] There are no meaningful features which satisfy the provided configuration. Decreasing Dataset parameters min_data_in_bin or min_data_in_leaf and re-constructing Dataset might resolve this warning.\n",
      "[LightGBM] [Info] This is the GPU trainer!!\n",
      "[LightGBM] [Info] Total Bins 0\n",
      "[LightGBM] [Info] Number of data points in the train set: 2, number of used features: 0\n",
      "[LightGBM] [Warning] There are no meaningful features which satisfy the provided configuration. Decreasing Dataset parameters min_data_in_bin or min_data_in_leaf and re-constructing Dataset might resolve this warning.\n",
      "[LightGBM] [Warning] Using sparse features with CUDA is currently not supported.\n",
      "[LightGBM] [Warning] There are no meaningful features which satisfy the provided configuration. Decreasing Dataset parameters min_data_in_bin or min_data_in_leaf and re-constructing Dataset might resolve this warning.\n",
      "[LightGBM] [Info] This is the GPU trainer!!\n",
      "[LightGBM] [Info] Total Bins 0\n",
      "[LightGBM] [Info] Number of data points in the train set: 2, number of used features: 0\n",
      "[LightGBM] [Warning] There are no meaningful features which satisfy the provided configuration. Decreasing Dataset parameters min_data_in_bin or min_data_in_leaf and re-constructing Dataset might resolve this warning.\n",
      "[LightGBM] [Warning] Using sparse features with CUDA is currently not supported.\n",
      "[LightGBM] [Warning] There are no meaningful features which satisfy the provided configuration. Decreasing Dataset parameters min_data_in_bin or min_data_in_leaf and re-constructing Dataset might resolve this warning.\n",
      "[LightGBM] [Info] This is the GPU trainer!!\n",
      "[LightGBM] [Info] Total Bins 0\n",
      "[LightGBM] [Info] Number of data points in the train set: 2, number of used features: 0\n",
      "[LightGBM] [Warning] There are no meaningful features which satisfy the provided configuration. Decreasing Dataset parameters min_data_in_bin or min_data_in_leaf and re-constructing Dataset might resolve this warning.\n",
      "[LightGBM] [Warning] Using sparse features with CUDA is currently not supported.\n"
     ]
    },
    {
     "name": "stderr",
     "output_type": "stream",
     "text": [
      "[LightGBM] [Fatal] CUDA Tree Learner was not enabled in this build.\n",
      "Please recompile with CMake option -DUSE_CUDA=1\n",
      "[LightGBM] [Fatal] CUDA Tree Learner was not enabled in this build.\n",
      "Please recompile with CMake option -DUSE_CUDA=1\n",
      "[LightGBM] [Fatal] CUDA Tree Learner was not enabled in this build.\n",
      "Please recompile with CMake option -DUSE_CUDA=1\n"
     ]
    },
    {
     "name": "stdout",
     "output_type": "stream",
     "text": [
      "[LightGBM] [Warning] There are no meaningful features which satisfy the provided configuration. Decreasing Dataset parameters min_data_in_bin or min_data_in_leaf and re-constructing Dataset might resolve this warning.\n",
      "[LightGBM] [Info] This is the GPU trainer!!\n",
      "[LightGBM] [Info] Total Bins 0\n",
      "[LightGBM] [Info] Number of data points in the train set: 2, number of used features: 0\n",
      "[LightGBM] [Warning] There are no meaningful features which satisfy the provided configuration. Decreasing Dataset parameters min_data_in_bin or min_data_in_leaf and re-constructing Dataset might resolve this warning.\n",
      "[LightGBM] [Warning] Using sparse features with CUDA is currently not supported.\n",
      "[LightGBM] [Warning] There are no meaningful features which satisfy the provided configuration. Decreasing Dataset parameters min_data_in_bin or min_data_in_leaf and re-constructing Dataset might resolve this warning.\n",
      "[LightGBM] [Info] This is the GPU trainer!!\n",
      "[LightGBM] [Info] Total Bins 0\n",
      "[LightGBM] [Info] Number of data points in the train set: 2, number of used features: 0\n",
      "[LightGBM] [Warning] There are no meaningful features which satisfy the provided configuration. Decreasing Dataset parameters min_data_in_bin or min_data_in_leaf and re-constructing Dataset might resolve this warning.\n",
      "[LightGBM] [Warning] Using sparse features with CUDA is currently not supported.\n",
      "[LightGBM] [Warning] There are no meaningful features which satisfy the provided configuration. Decreasing Dataset parameters min_data_in_bin or min_data_in_leaf and re-constructing Dataset might resolve this warning.\n",
      "[LightGBM] [Info] This is the GPU trainer!!\n",
      "[LightGBM] [Info] Total Bins 0\n",
      "[LightGBM] [Info] Number of data points in the train set: 2, number of used features: 0\n",
      "[LightGBM] [Warning] There are no meaningful features which satisfy the provided configuration. Decreasing Dataset parameters min_data_in_bin or min_data_in_leaf and re-constructing Dataset might resolve this warning.\n",
      "[LightGBM] [Warning] Using sparse features with CUDA is currently not supported.\n"
     ]
    },
    {
     "name": "stderr",
     "output_type": "stream",
     "text": [
      "[LightGBM] [Fatal] CUDA Tree Learner was not enabled in this build.\n",
      "Please recompile with CMake option -DUSE_CUDA=1\n",
      "[LightGBM] [Fatal] CUDA Tree Learner was not enabled in this build.\n",
      "Please recompile with CMake option -DUSE_CUDA=1\n",
      "[LightGBM] [Fatal] CUDA Tree Learner was not enabled in this build.\n",
      "Please recompile with CMake option -DUSE_CUDA=1\n"
     ]
    },
    {
     "name": "stdout",
     "output_type": "stream",
     "text": [
      "[LightGBM] [Warning] There are no meaningful features which satisfy the provided configuration. Decreasing Dataset parameters min_data_in_bin or min_data_in_leaf and re-constructing Dataset might resolve this warning.\n",
      "[LightGBM] [Info] This is the GPU trainer!!\n",
      "[LightGBM] [Info] Total Bins 0\n",
      "[LightGBM] [Info] Number of data points in the train set: 2, number of used features: 0\n",
      "[LightGBM] [Warning] There are no meaningful features which satisfy the provided configuration. Decreasing Dataset parameters min_data_in_bin or min_data_in_leaf and re-constructing Dataset might resolve this warning.\n",
      "[LightGBM] [Warning] Using sparse features with CUDA is currently not supported.\n",
      "[LightGBM] [Warning] There are no meaningful features which satisfy the provided configuration. Decreasing Dataset parameters min_data_in_bin or min_data_in_leaf and re-constructing Dataset might resolve this warning.\n",
      "[LightGBM] [Info] This is the GPU trainer!!\n",
      "[LightGBM] [Info] Total Bins 0\n",
      "[LightGBM] [Info] Number of data points in the train set: 2, number of used features: 0\n",
      "[LightGBM] [Warning] There are no meaningful features which satisfy the provided configuration. Decreasing Dataset parameters min_data_in_bin or min_data_in_leaf and re-constructing Dataset might resolve this warning.\n",
      "[LightGBM] [Warning] Using sparse features with CUDA is currently not supported.\n",
      "[LightGBM] [Warning] There are no meaningful features which satisfy the provided configuration. Decreasing Dataset parameters min_data_in_bin or min_data_in_leaf and re-constructing Dataset might resolve this warning.\n",
      "[LightGBM] [Info] This is the GPU trainer!!\n",
      "[LightGBM] [Info] Total Bins 0\n",
      "[LightGBM] [Info] Number of data points in the train set: 2, number of used features: 0\n",
      "[LightGBM] [Warning] There are no meaningful features which satisfy the provided configuration. Decreasing Dataset parameters min_data_in_bin or min_data_in_leaf and re-constructing Dataset might resolve this warning.\n",
      "[LightGBM] [Warning] Using sparse features with CUDA is currently not supported.\n"
     ]
    },
    {
     "name": "stderr",
     "output_type": "stream",
     "text": [
      "[LightGBM] [Fatal] CUDA Tree Learner was not enabled in this build.\n",
      "Please recompile with CMake option -DUSE_CUDA=1\n",
      "[LightGBM] [Fatal] CUDA Tree Learner was not enabled in this build.\n",
      "Please recompile with CMake option -DUSE_CUDA=1\n",
      "[LightGBM] [Fatal] CUDA Tree Learner was not enabled in this build.\n",
      "Please recompile with CMake option -DUSE_CUDA=1\n"
     ]
    },
    {
     "name": "stdout",
     "output_type": "stream",
     "text": [
      "[LightGBM] [Warning] There are no meaningful features which satisfy the provided configuration. Decreasing Dataset parameters min_data_in_bin or min_data_in_leaf and re-constructing Dataset might resolve this warning.\n",
      "[LightGBM] [Info] This is the GPU trainer!!\n",
      "[LightGBM] [Info] Total Bins 0\n",
      "[LightGBM] [Info] Number of data points in the train set: 2, number of used features: 0\n",
      "[LightGBM] [Warning] There are no meaningful features which satisfy the provided configuration. Decreasing Dataset parameters min_data_in_bin or min_data_in_leaf and re-constructing Dataset might resolve this warning.\n",
      "[LightGBM] [Warning] Using sparse features with CUDA is currently not supported.\n",
      "[LightGBM] [Warning] There are no meaningful features which satisfy the provided configuration. Decreasing Dataset parameters min_data_in_bin or min_data_in_leaf and re-constructing Dataset might resolve this warning.\n",
      "[LightGBM] [Info] This is the GPU trainer!!\n",
      "[LightGBM] [Info] Total Bins 0\n",
      "[LightGBM] [Info] Number of data points in the train set: 2, number of used features: 0\n",
      "[LightGBM] [Warning] There are no meaningful features which satisfy the provided configuration. Decreasing Dataset parameters min_data_in_bin or min_data_in_leaf and re-constructing Dataset might resolve this warning.\n",
      "[LightGBM] [Warning] Using sparse features with CUDA is currently not supported.\n"
     ]
    },
    {
     "name": "stderr",
     "output_type": "stream",
     "text": [
      "[LightGBM] [Fatal] CUDA Tree Learner was not enabled in this build.\n",
      "Please recompile with CMake option -DUSE_CUDA=1\n",
      "[LightGBM] [Fatal] CUDA Tree Learner was not enabled in this build.\n",
      "Please recompile with CMake option -DUSE_CUDA=1\n"
     ]
    },
    {
     "name": "stdout",
     "output_type": "stream",
     "text": [
      "[LightGBM] [Warning] There are no meaningful features which satisfy the provided configuration. Decreasing Dataset parameters min_data_in_bin or min_data_in_leaf and re-constructing Dataset might resolve this warning.\n",
      "[LightGBM] [Info] This is the GPU trainer!!\n",
      "[LightGBM] [Info] Total Bins 0\n",
      "[LightGBM] [Info] Number of data points in the train set: 2, number of used features: 0\n",
      "[LightGBM] [Warning] There are no meaningful features which satisfy the provided configuration. Decreasing Dataset parameters min_data_in_bin or min_data_in_leaf and re-constructing Dataset might resolve this warning.\n",
      "[LightGBM] [Warning] Using sparse features with CUDA is currently not supported.\n"
     ]
    },
    {
     "name": "stderr",
     "output_type": "stream",
     "text": [
      "[LightGBM] [Fatal] CUDA Tree Learner was not enabled in this build.\n",
      "Please recompile with CMake option -DUSE_CUDA=1\n"
     ]
    },
    {
     "data": {
      "text/plain": "<pandas.io.formats.style.Styler at 0x7f236ccfe790>",
      "text/html": "<style type=\"text/css\">\n#T_c0370_row8_col1, #T_c0370_row12_col1, #T_c0370_row17_col1 {\n  background-color: lightgreen;\n}\n</style>\n<table id=\"T_c0370\">\n  <thead>\n    <tr>\n      <th class=\"blank level0\" >&nbsp;</th>\n      <th id=\"T_c0370_level0_col0\" class=\"col_heading level0 col0\" >Description</th>\n      <th id=\"T_c0370_level0_col1\" class=\"col_heading level0 col1\" >Value</th>\n    </tr>\n  </thead>\n  <tbody>\n    <tr>\n      <th id=\"T_c0370_level0_row0\" class=\"row_heading level0 row0\" >0</th>\n      <td id=\"T_c0370_row0_col0\" class=\"data row0 col0\" >Session id</td>\n      <td id=\"T_c0370_row0_col1\" class=\"data row0 col1\" >128</td>\n    </tr>\n    <tr>\n      <th id=\"T_c0370_level0_row1\" class=\"row_heading level0 row1\" >1</th>\n      <td id=\"T_c0370_row1_col0\" class=\"data row1 col0\" >Target</td>\n      <td id=\"T_c0370_row1_col1\" class=\"data row1 col1\" >is_legit</td>\n    </tr>\n    <tr>\n      <th id=\"T_c0370_level0_row2\" class=\"row_heading level0 row2\" >2</th>\n      <td id=\"T_c0370_row2_col0\" class=\"data row2 col0\" >Target type</td>\n      <td id=\"T_c0370_row2_col1\" class=\"data row2 col1\" >Regression</td>\n    </tr>\n    <tr>\n      <th id=\"T_c0370_level0_row3\" class=\"row_heading level0 row3\" >3</th>\n      <td id=\"T_c0370_row3_col0\" class=\"data row3 col0\" >Original data shape</td>\n      <td id=\"T_c0370_row3_col1\" class=\"data row3 col1\" >(239257, 7)</td>\n    </tr>\n    <tr>\n      <th id=\"T_c0370_level0_row4\" class=\"row_heading level0 row4\" >4</th>\n      <td id=\"T_c0370_row4_col0\" class=\"data row4 col0\" >Transformed data shape</td>\n      <td id=\"T_c0370_row4_col1\" class=\"data row4 col1\" >(239257, 7)</td>\n    </tr>\n    <tr>\n      <th id=\"T_c0370_level0_row5\" class=\"row_heading level0 row5\" >5</th>\n      <td id=\"T_c0370_row5_col0\" class=\"data row5 col0\" >Transformed train set shape</td>\n      <td id=\"T_c0370_row5_col1\" class=\"data row5 col1\" >(167479, 7)</td>\n    </tr>\n    <tr>\n      <th id=\"T_c0370_level0_row6\" class=\"row_heading level0 row6\" >6</th>\n      <td id=\"T_c0370_row6_col0\" class=\"data row6 col0\" >Transformed test set shape</td>\n      <td id=\"T_c0370_row6_col1\" class=\"data row6 col1\" >(71778, 7)</td>\n    </tr>\n    <tr>\n      <th id=\"T_c0370_level0_row7\" class=\"row_heading level0 row7\" >7</th>\n      <td id=\"T_c0370_row7_col0\" class=\"data row7 col0\" >Numeric features</td>\n      <td id=\"T_c0370_row7_col1\" class=\"data row7 col1\" >6</td>\n    </tr>\n    <tr>\n      <th id=\"T_c0370_level0_row8\" class=\"row_heading level0 row8\" >8</th>\n      <td id=\"T_c0370_row8_col0\" class=\"data row8 col0\" >Preprocess</td>\n      <td id=\"T_c0370_row8_col1\" class=\"data row8 col1\" >True</td>\n    </tr>\n    <tr>\n      <th id=\"T_c0370_level0_row9\" class=\"row_heading level0 row9\" >9</th>\n      <td id=\"T_c0370_row9_col0\" class=\"data row9 col0\" >Imputation type</td>\n      <td id=\"T_c0370_row9_col1\" class=\"data row9 col1\" >simple</td>\n    </tr>\n    <tr>\n      <th id=\"T_c0370_level0_row10\" class=\"row_heading level0 row10\" >10</th>\n      <td id=\"T_c0370_row10_col0\" class=\"data row10 col0\" >Numeric imputation</td>\n      <td id=\"T_c0370_row10_col1\" class=\"data row10 col1\" >mean</td>\n    </tr>\n    <tr>\n      <th id=\"T_c0370_level0_row11\" class=\"row_heading level0 row11\" >11</th>\n      <td id=\"T_c0370_row11_col0\" class=\"data row11 col0\" >Categorical imputation</td>\n      <td id=\"T_c0370_row11_col1\" class=\"data row11 col1\" >mode</td>\n    </tr>\n    <tr>\n      <th id=\"T_c0370_level0_row12\" class=\"row_heading level0 row12\" >12</th>\n      <td id=\"T_c0370_row12_col0\" class=\"data row12 col0\" >Normalize</td>\n      <td id=\"T_c0370_row12_col1\" class=\"data row12 col1\" >True</td>\n    </tr>\n    <tr>\n      <th id=\"T_c0370_level0_row13\" class=\"row_heading level0 row13\" >13</th>\n      <td id=\"T_c0370_row13_col0\" class=\"data row13 col0\" >Normalize method</td>\n      <td id=\"T_c0370_row13_col1\" class=\"data row13 col1\" >zscore</td>\n    </tr>\n    <tr>\n      <th id=\"T_c0370_level0_row14\" class=\"row_heading level0 row14\" >14</th>\n      <td id=\"T_c0370_row14_col0\" class=\"data row14 col0\" >Fold Generator</td>\n      <td id=\"T_c0370_row14_col1\" class=\"data row14 col1\" >KFold</td>\n    </tr>\n    <tr>\n      <th id=\"T_c0370_level0_row15\" class=\"row_heading level0 row15\" >15</th>\n      <td id=\"T_c0370_row15_col0\" class=\"data row15 col0\" >Fold Number</td>\n      <td id=\"T_c0370_row15_col1\" class=\"data row15 col1\" >10</td>\n    </tr>\n    <tr>\n      <th id=\"T_c0370_level0_row16\" class=\"row_heading level0 row16\" >16</th>\n      <td id=\"T_c0370_row16_col0\" class=\"data row16 col0\" >CPU Jobs</td>\n      <td id=\"T_c0370_row16_col1\" class=\"data row16 col1\" >-1</td>\n    </tr>\n    <tr>\n      <th id=\"T_c0370_level0_row17\" class=\"row_heading level0 row17\" >17</th>\n      <td id=\"T_c0370_row17_col0\" class=\"data row17 col0\" >Use GPU</td>\n      <td id=\"T_c0370_row17_col1\" class=\"data row17 col1\" >True</td>\n    </tr>\n    <tr>\n      <th id=\"T_c0370_level0_row18\" class=\"row_heading level0 row18\" >18</th>\n      <td id=\"T_c0370_row18_col0\" class=\"data row18 col0\" >Log Experiment</td>\n      <td id=\"T_c0370_row18_col1\" class=\"data row18 col1\" >False</td>\n    </tr>\n    <tr>\n      <th id=\"T_c0370_level0_row19\" class=\"row_heading level0 row19\" >19</th>\n      <td id=\"T_c0370_row19_col0\" class=\"data row19 col0\" >Experiment Name</td>\n      <td id=\"T_c0370_row19_col1\" class=\"data row19 col1\" >records_regression</td>\n    </tr>\n    <tr>\n      <th id=\"T_c0370_level0_row20\" class=\"row_heading level0 row20\" >20</th>\n      <td id=\"T_c0370_row20_col0\" class=\"data row20 col0\" >USI</td>\n      <td id=\"T_c0370_row20_col1\" class=\"data row20 col1\" >81e1</td>\n    </tr>\n  </tbody>\n</table>\n"
     },
     "metadata": {},
     "output_type": "display_data"
    },
    {
     "name": "stdout",
     "output_type": "stream",
     "text": [
      "[LightGBM] [Warning] There are no meaningful features which satisfy the provided configuration. Decreasing Dataset parameters min_data_in_bin or min_data_in_leaf and re-constructing Dataset might resolve this warning.\n",
      "[LightGBM] [Info] This is the GPU trainer!!\n",
      "[LightGBM] [Info] Total Bins 0\n",
      "[LightGBM] [Info] Number of data points in the train set: 2, number of used features: 0\n",
      "[LightGBM] [Warning] There are no meaningful features which satisfy the provided configuration. Decreasing Dataset parameters min_data_in_bin or min_data_in_leaf and re-constructing Dataset might resolve this warning.\n",
      "[LightGBM] [Warning] Using sparse features with CUDA is currently not supported.\n",
      "[LightGBM] [Warning] There are no meaningful features which satisfy the provided configuration. Decreasing Dataset parameters min_data_in_bin or min_data_in_leaf and re-constructing Dataset might resolve this warning.\n",
      "[LightGBM] [Info] This is the GPU trainer!!\n",
      "[LightGBM] [Info] Total Bins 0\n",
      "[LightGBM] [Info] Number of data points in the train set: 2, number of used features: 0\n",
      "[LightGBM] [Warning] There are no meaningful features which satisfy the provided configuration. Decreasing Dataset parameters min_data_in_bin or min_data_in_leaf and re-constructing Dataset might resolve this warning.\n",
      "[LightGBM] [Warning] Using sparse features with CUDA is currently not supported.\n"
     ]
    },
    {
     "name": "stderr",
     "output_type": "stream",
     "text": [
      "[LightGBM] [Fatal] CUDA Tree Learner was not enabled in this build.\n",
      "Please recompile with CMake option -DUSE_CUDA=1\n",
      "[LightGBM] [Fatal] CUDA Tree Learner was not enabled in this build.\n",
      "Please recompile with CMake option -DUSE_CUDA=1\n"
     ]
    },
    {
     "data": {
      "text/plain": "                                                                    \n                                                                    \nInitiated  . . . . . . . . . . . . . . . . . .              17:14:58\nStatus     . . . . . . . . . . . . . . . . . .  Loading Dependencies\nEstimator  . . . . . . . . . . . . . . . . . .     Compiling Library",
      "text/html": "<div>\n<style scoped>\n    .dataframe tbody tr th:only-of-type {\n        vertical-align: middle;\n    }\n\n    .dataframe tbody tr th {\n        vertical-align: top;\n    }\n\n    .dataframe thead th {\n        text-align: right;\n    }\n</style>\n<table border=\"1\" class=\"dataframe\">\n  <thead>\n    <tr style=\"text-align: right;\">\n      <th></th>\n      <th></th>\n      <th></th>\n    </tr>\n    <tr>\n      <th></th>\n      <th></th>\n      <th></th>\n    </tr>\n  </thead>\n  <tbody>\n    <tr>\n      <th>Initiated</th>\n      <td>. . . . . . . . . . . . . . . . . .</td>\n      <td>17:14:58</td>\n    </tr>\n    <tr>\n      <th>Status</th>\n      <td>. . . . . . . . . . . . . . . . . .</td>\n      <td>Loading Dependencies</td>\n    </tr>\n    <tr>\n      <th>Estimator</th>\n      <td>. . . . . . . . . . . . . . . . . .</td>\n      <td>Compiling Library</td>\n    </tr>\n  </tbody>\n</table>\n</div>"
     },
     "metadata": {},
     "output_type": "display_data"
    },
    {
     "data": {
      "text/plain": "<IPython.core.display.HTML object>",
      "text/html": ""
     },
     "metadata": {},
     "output_type": "display_data"
    },
    {
     "data": {
      "text/plain": "<pandas.io.formats.style.Styler at 0x7f23754edad0>",
      "text/html": "<style type=\"text/css\">\n#T_e0788 th {\n  text-align: left;\n}\n#T_e0788_row0_col0, #T_e0788_row0_col1, #T_e0788_row0_col6, #T_e0788_row1_col0, #T_e0788_row1_col1, #T_e0788_row1_col2, #T_e0788_row1_col3, #T_e0788_row1_col4, #T_e0788_row1_col5, #T_e0788_row1_col6, #T_e0788_row2_col0, #T_e0788_row2_col2, #T_e0788_row2_col3, #T_e0788_row2_col4, #T_e0788_row2_col5, #T_e0788_row3_col0, #T_e0788_row3_col1, #T_e0788_row3_col2, #T_e0788_row3_col3, #T_e0788_row3_col4, #T_e0788_row3_col5, #T_e0788_row3_col6, #T_e0788_row4_col0, #T_e0788_row4_col1, #T_e0788_row4_col2, #T_e0788_row4_col3, #T_e0788_row4_col4, #T_e0788_row4_col5, #T_e0788_row4_col6, #T_e0788_row5_col0, #T_e0788_row5_col1, #T_e0788_row5_col2, #T_e0788_row5_col3, #T_e0788_row5_col4, #T_e0788_row5_col5, #T_e0788_row5_col6, #T_e0788_row6_col0, #T_e0788_row6_col1, #T_e0788_row6_col2, #T_e0788_row6_col3, #T_e0788_row6_col4, #T_e0788_row6_col5, #T_e0788_row6_col6, #T_e0788_row7_col0, #T_e0788_row7_col1, #T_e0788_row7_col2, #T_e0788_row7_col3, #T_e0788_row7_col4, #T_e0788_row7_col5, #T_e0788_row7_col6, #T_e0788_row8_col0, #T_e0788_row8_col1, #T_e0788_row8_col2, #T_e0788_row8_col3, #T_e0788_row8_col4, #T_e0788_row8_col5, #T_e0788_row8_col6, #T_e0788_row9_col0, #T_e0788_row9_col1, #T_e0788_row9_col2, #T_e0788_row9_col3, #T_e0788_row9_col4, #T_e0788_row9_col5, #T_e0788_row9_col6, #T_e0788_row10_col0, #T_e0788_row10_col1, #T_e0788_row10_col2, #T_e0788_row10_col3, #T_e0788_row10_col4, #T_e0788_row10_col5, #T_e0788_row10_col6, #T_e0788_row11_col0, #T_e0788_row11_col1, #T_e0788_row11_col2, #T_e0788_row11_col3, #T_e0788_row11_col4, #T_e0788_row11_col5, #T_e0788_row11_col6, #T_e0788_row12_col0, #T_e0788_row12_col1, #T_e0788_row12_col2, #T_e0788_row12_col3, #T_e0788_row12_col4, #T_e0788_row12_col5, #T_e0788_row12_col6, #T_e0788_row13_col0, #T_e0788_row13_col1, #T_e0788_row13_col2, #T_e0788_row13_col3, #T_e0788_row13_col4, #T_e0788_row13_col5, #T_e0788_row13_col6, #T_e0788_row14_col0, #T_e0788_row14_col1, #T_e0788_row14_col2, #T_e0788_row14_col3, #T_e0788_row14_col4, #T_e0788_row14_col5, #T_e0788_row14_col6, #T_e0788_row15_col0, #T_e0788_row15_col1, #T_e0788_row15_col2, #T_e0788_row15_col3, #T_e0788_row15_col4, #T_e0788_row15_col5, #T_e0788_row15_col6, #T_e0788_row16_col0, #T_e0788_row16_col1, #T_e0788_row16_col2, #T_e0788_row16_col3, #T_e0788_row16_col4, #T_e0788_row16_col5, #T_e0788_row16_col6, #T_e0788_row17_col0, #T_e0788_row17_col1, #T_e0788_row17_col2, #T_e0788_row17_col3, #T_e0788_row17_col4, #T_e0788_row17_col5, #T_e0788_row17_col6 {\n  text-align: left;\n}\n#T_e0788_row0_col2, #T_e0788_row0_col3, #T_e0788_row0_col4, #T_e0788_row0_col5, #T_e0788_row2_col1, #T_e0788_row2_col6 {\n  text-align: left;\n  background-color: yellow;\n}\n#T_e0788_row0_col7, #T_e0788_row1_col7, #T_e0788_row2_col7, #T_e0788_row3_col7, #T_e0788_row4_col7, #T_e0788_row5_col7, #T_e0788_row6_col7, #T_e0788_row7_col7, #T_e0788_row8_col7, #T_e0788_row9_col7, #T_e0788_row10_col7, #T_e0788_row11_col7, #T_e0788_row12_col7, #T_e0788_row13_col7, #T_e0788_row14_col7, #T_e0788_row15_col7, #T_e0788_row17_col7 {\n  text-align: left;\n  background-color: lightgrey;\n}\n#T_e0788_row16_col7 {\n  text-align: left;\n  background-color: yellow;\n  background-color: lightgrey;\n}\n</style>\n<table id=\"T_e0788\">\n  <thead>\n    <tr>\n      <th class=\"blank level0\" >&nbsp;</th>\n      <th id=\"T_e0788_level0_col0\" class=\"col_heading level0 col0\" >Model</th>\n      <th id=\"T_e0788_level0_col1\" class=\"col_heading level0 col1\" >MAE</th>\n      <th id=\"T_e0788_level0_col2\" class=\"col_heading level0 col2\" >MSE</th>\n      <th id=\"T_e0788_level0_col3\" class=\"col_heading level0 col3\" >RMSE</th>\n      <th id=\"T_e0788_level0_col4\" class=\"col_heading level0 col4\" >R2</th>\n      <th id=\"T_e0788_level0_col5\" class=\"col_heading level0 col5\" >RMSLE</th>\n      <th id=\"T_e0788_level0_col6\" class=\"col_heading level0 col6\" >MAPE</th>\n      <th id=\"T_e0788_level0_col7\" class=\"col_heading level0 col7\" >TT (Sec)</th>\n    </tr>\n  </thead>\n  <tbody>\n    <tr>\n      <th id=\"T_e0788_level0_row0\" class=\"row_heading level0 row0\" >lightgbm</th>\n      <td id=\"T_e0788_row0_col0\" class=\"data row0 col0\" >Light Gradient Boosting Machine</td>\n      <td id=\"T_e0788_row0_col1\" class=\"data row0 col1\" >0.1577</td>\n      <td id=\"T_e0788_row0_col2\" class=\"data row0 col2\" >0.0773</td>\n      <td id=\"T_e0788_row0_col3\" class=\"data row0 col3\" >0.2781</td>\n      <td id=\"T_e0788_row0_col4\" class=\"data row0 col4\" >0.6422</td>\n      <td id=\"T_e0788_row0_col5\" class=\"data row0 col5\" >0.1946</td>\n      <td id=\"T_e0788_row0_col6\" class=\"data row0 col6\" >0.2498</td>\n      <td id=\"T_e0788_row0_col7\" class=\"data row0 col7\" >1.7910</td>\n    </tr>\n    <tr>\n      <th id=\"T_e0788_level0_row1\" class=\"row_heading level0 row1\" >rf</th>\n      <td id=\"T_e0788_row1_col0\" class=\"data row1 col0\" >Random Forest Regressor</td>\n      <td id=\"T_e0788_row1_col1\" class=\"data row1 col1\" >0.1494</td>\n      <td id=\"T_e0788_row1_col2\" class=\"data row1 col2\" >0.0795</td>\n      <td id=\"T_e0788_row1_col3\" class=\"data row1 col3\" >0.2820</td>\n      <td id=\"T_e0788_row1_col4\" class=\"data row1 col4\" >0.6321</td>\n      <td id=\"T_e0788_row1_col5\" class=\"data row1 col5\" >0.1963</td>\n      <td id=\"T_e0788_row1_col6\" class=\"data row1 col6\" >0.2388</td>\n      <td id=\"T_e0788_row1_col7\" class=\"data row1 col7\" >0.6650</td>\n    </tr>\n    <tr>\n      <th id=\"T_e0788_level0_row2\" class=\"row_heading level0 row2\" >et</th>\n      <td id=\"T_e0788_row2_col0\" class=\"data row2 col0\" >Extra Trees Regressor</td>\n      <td id=\"T_e0788_row2_col1\" class=\"data row2 col1\" >0.1488</td>\n      <td id=\"T_e0788_row2_col2\" class=\"data row2 col2\" >0.0810</td>\n      <td id=\"T_e0788_row2_col3\" class=\"data row2 col3\" >0.2847</td>\n      <td id=\"T_e0788_row2_col4\" class=\"data row2 col4\" >0.6250</td>\n      <td id=\"T_e0788_row2_col5\" class=\"data row2 col5\" >0.1983</td>\n      <td id=\"T_e0788_row2_col6\" class=\"data row2 col6\" >0.2366</td>\n      <td id=\"T_e0788_row2_col7\" class=\"data row2 col7\" >0.4430</td>\n    </tr>\n    <tr>\n      <th id=\"T_e0788_level0_row3\" class=\"row_heading level0 row3\" >dt</th>\n      <td id=\"T_e0788_row3_col0\" class=\"data row3 col0\" >Decision Tree Regressor</td>\n      <td id=\"T_e0788_row3_col1\" class=\"data row3 col1\" >0.1489</td>\n      <td id=\"T_e0788_row3_col2\" class=\"data row3 col2\" >0.0833</td>\n      <td id=\"T_e0788_row3_col3\" class=\"data row3 col3\" >0.2887</td>\n      <td id=\"T_e0788_row3_col4\" class=\"data row3 col4\" >0.6144</td>\n      <td id=\"T_e0788_row3_col5\" class=\"data row3 col5\" >0.2011</td>\n      <td id=\"T_e0788_row3_col6\" class=\"data row3 col6\" >0.2371</td>\n      <td id=\"T_e0788_row3_col7\" class=\"data row3 col7\" >0.1060</td>\n    </tr>\n    <tr>\n      <th id=\"T_e0788_level0_row4\" class=\"row_heading level0 row4\" >gbr</th>\n      <td id=\"T_e0788_row4_col0\" class=\"data row4 col0\" >Gradient Boosting Regressor</td>\n      <td id=\"T_e0788_row4_col1\" class=\"data row4 col1\" >0.1719</td>\n      <td id=\"T_e0788_row4_col2\" class=\"data row4 col2\" >0.0834</td>\n      <td id=\"T_e0788_row4_col3\" class=\"data row4 col3\" >0.2888</td>\n      <td id=\"T_e0788_row4_col4\" class=\"data row4 col4\" >0.6142</td>\n      <td id=\"T_e0788_row4_col5\" class=\"data row4 col5\" >0.2024</td>\n      <td id=\"T_e0788_row4_col6\" class=\"data row4 col6\" >0.2736</td>\n      <td id=\"T_e0788_row4_col7\" class=\"data row4 col7\" >2.6120</td>\n    </tr>\n    <tr>\n      <th id=\"T_e0788_level0_row5\" class=\"row_heading level0 row5\" >knn</th>\n      <td id=\"T_e0788_row5_col0\" class=\"data row5 col0\" >K Neighbors Regressor</td>\n      <td id=\"T_e0788_row5_col1\" class=\"data row5 col1\" >0.1494</td>\n      <td id=\"T_e0788_row5_col2\" class=\"data row5 col2\" >0.0889</td>\n      <td id=\"T_e0788_row5_col3\" class=\"data row5 col3\" >0.2982</td>\n      <td id=\"T_e0788_row5_col4\" class=\"data row5 col4\" >0.5885</td>\n      <td id=\"T_e0788_row5_col5\" class=\"data row5 col5\" >0.2099</td>\n      <td id=\"T_e0788_row5_col6\" class=\"data row5 col6\" >0.2384</td>\n      <td id=\"T_e0788_row5_col7\" class=\"data row5 col7\" >2.0190</td>\n    </tr>\n    <tr>\n      <th id=\"T_e0788_level0_row6\" class=\"row_heading level0 row6\" >ada</th>\n      <td id=\"T_e0788_row6_col0\" class=\"data row6 col0\" >AdaBoost Regressor</td>\n      <td id=\"T_e0788_row6_col1\" class=\"data row6 col1\" >0.1959</td>\n      <td id=\"T_e0788_row6_col2\" class=\"data row6 col2\" >0.0981</td>\n      <td id=\"T_e0788_row6_col3\" class=\"data row6 col3\" >0.3132</td>\n      <td id=\"T_e0788_row6_col4\" class=\"data row6 col4\" >0.5462</td>\n      <td id=\"T_e0788_row6_col5\" class=\"data row6 col5\" >0.2192</td>\n      <td id=\"T_e0788_row6_col6\" class=\"data row6 col6\" >0.3082</td>\n      <td id=\"T_e0788_row6_col7\" class=\"data row6 col7\" >0.5310</td>\n    </tr>\n    <tr>\n      <th id=\"T_e0788_level0_row7\" class=\"row_heading level0 row7\" >lr</th>\n      <td id=\"T_e0788_row7_col0\" class=\"data row7 col0\" >Linear Regression</td>\n      <td id=\"T_e0788_row7_col1\" class=\"data row7 col1\" >0.2794</td>\n      <td id=\"T_e0788_row7_col2\" class=\"data row7 col2\" >0.1327</td>\n      <td id=\"T_e0788_row7_col3\" class=\"data row7 col3\" >0.3642</td>\n      <td id=\"T_e0788_row7_col4\" class=\"data row7 col4\" >0.3862</td>\n      <td id=\"T_e0788_row7_col5\" class=\"data row7 col5\" >0.2484</td>\n      <td id=\"T_e0788_row7_col6\" class=\"data row7 col6\" >0.4652</td>\n      <td id=\"T_e0788_row7_col7\" class=\"data row7 col7\" >0.0600</td>\n    </tr>\n    <tr>\n      <th id=\"T_e0788_level0_row8\" class=\"row_heading level0 row8\" >ridge</th>\n      <td id=\"T_e0788_row8_col0\" class=\"data row8 col0\" >Ridge Regression</td>\n      <td id=\"T_e0788_row8_col1\" class=\"data row8 col1\" >0.2794</td>\n      <td id=\"T_e0788_row8_col2\" class=\"data row8 col2\" >0.1327</td>\n      <td id=\"T_e0788_row8_col3\" class=\"data row8 col3\" >0.3642</td>\n      <td id=\"T_e0788_row8_col4\" class=\"data row8 col4\" >0.3862</td>\n      <td id=\"T_e0788_row8_col5\" class=\"data row8 col5\" >0.2484</td>\n      <td id=\"T_e0788_row8_col6\" class=\"data row8 col6\" >0.4652</td>\n      <td id=\"T_e0788_row8_col7\" class=\"data row8 col7\" >0.0610</td>\n    </tr>\n    <tr>\n      <th id=\"T_e0788_level0_row9\" class=\"row_heading level0 row9\" >lar</th>\n      <td id=\"T_e0788_row9_col0\" class=\"data row9 col0\" >Least Angle Regression</td>\n      <td id=\"T_e0788_row9_col1\" class=\"data row9 col1\" >0.2794</td>\n      <td id=\"T_e0788_row9_col2\" class=\"data row9 col2\" >0.1327</td>\n      <td id=\"T_e0788_row9_col3\" class=\"data row9 col3\" >0.3642</td>\n      <td id=\"T_e0788_row9_col4\" class=\"data row9 col4\" >0.3862</td>\n      <td id=\"T_e0788_row9_col5\" class=\"data row9 col5\" >0.2484</td>\n      <td id=\"T_e0788_row9_col6\" class=\"data row9 col6\" >0.4652</td>\n      <td id=\"T_e0788_row9_col7\" class=\"data row9 col7\" >0.0740</td>\n    </tr>\n    <tr>\n      <th id=\"T_e0788_level0_row10\" class=\"row_heading level0 row10\" >br</th>\n      <td id=\"T_e0788_row10_col0\" class=\"data row10 col0\" >Bayesian Ridge</td>\n      <td id=\"T_e0788_row10_col1\" class=\"data row10 col1\" >0.2795</td>\n      <td id=\"T_e0788_row10_col2\" class=\"data row10 col2\" >0.1327</td>\n      <td id=\"T_e0788_row10_col3\" class=\"data row10 col3\" >0.3642</td>\n      <td id=\"T_e0788_row10_col4\" class=\"data row10 col4\" >0.3862</td>\n      <td id=\"T_e0788_row10_col5\" class=\"data row10 col5\" >0.2484</td>\n      <td id=\"T_e0788_row10_col6\" class=\"data row10 col6\" >0.4652</td>\n      <td id=\"T_e0788_row10_col7\" class=\"data row10 col7\" >0.1170</td>\n    </tr>\n    <tr>\n      <th id=\"T_e0788_level0_row11\" class=\"row_heading level0 row11\" >omp</th>\n      <td id=\"T_e0788_row11_col0\" class=\"data row11 col0\" >Orthogonal Matching Pursuit</td>\n      <td id=\"T_e0788_row11_col1\" class=\"data row11 col1\" >0.3268</td>\n      <td id=\"T_e0788_row11_col2\" class=\"data row11 col2\" >0.1602</td>\n      <td id=\"T_e0788_row11_col3\" class=\"data row11 col3\" >0.4003</td>\n      <td id=\"T_e0788_row11_col4\" class=\"data row11 col4\" >0.2587</td>\n      <td id=\"T_e0788_row11_col5\" class=\"data row11 col5\" >0.2757</td>\n      <td id=\"T_e0788_row11_col6\" class=\"data row11 col6\" >0.5272</td>\n      <td id=\"T_e0788_row11_col7\" class=\"data row11 col7\" >0.0710</td>\n    </tr>\n    <tr>\n      <th id=\"T_e0788_level0_row12\" class=\"row_heading level0 row12\" >huber</th>\n      <td id=\"T_e0788_row12_col0\" class=\"data row12 col0\" >Huber Regressor</td>\n      <td id=\"T_e0788_row12_col1\" class=\"data row12 col1\" >0.2232</td>\n      <td id=\"T_e0788_row12_col2\" class=\"data row12 col2\" >0.1711</td>\n      <td id=\"T_e0788_row12_col3\" class=\"data row12 col3\" >0.4135</td>\n      <td id=\"T_e0788_row12_col4\" class=\"data row12 col4\" >0.2084</td>\n      <td id=\"T_e0788_row12_col5\" class=\"data row12 col5\" >0.2659</td>\n      <td id=\"T_e0788_row12_col6\" class=\"data row12 col6\" >0.5980</td>\n      <td id=\"T_e0788_row12_col7\" class=\"data row12 col7\" >2.5870</td>\n    </tr>\n    <tr>\n      <th id=\"T_e0788_level0_row13\" class=\"row_heading level0 row13\" >llar</th>\n      <td id=\"T_e0788_row13_col0\" class=\"data row13 col0\" >Lasso Least Angle Regression</td>\n      <td id=\"T_e0788_row13_col1\" class=\"data row13 col1\" >0.4323</td>\n      <td id=\"T_e0788_row13_col2\" class=\"data row13 col2\" >0.2161</td>\n      <td id=\"T_e0788_row13_col3\" class=\"data row13 col3\" >0.4649</td>\n      <td id=\"T_e0788_row13_col4\" class=\"data row13 col4\" >-0.0000</td>\n      <td id=\"T_e0788_row13_col5\" class=\"data row13 col5\" >0.3271</td>\n      <td id=\"T_e0788_row13_col6\" class=\"data row13 col6\" >0.6840</td>\n      <td id=\"T_e0788_row13_col7\" class=\"data row13 col7\" >0.0650</td>\n    </tr>\n    <tr>\n      <th id=\"T_e0788_level0_row14\" class=\"row_heading level0 row14\" >lasso</th>\n      <td id=\"T_e0788_row14_col0\" class=\"data row14 col0\" >Lasso Regression</td>\n      <td id=\"T_e0788_row14_col1\" class=\"data row14 col1\" >0.4323</td>\n      <td id=\"T_e0788_row14_col2\" class=\"data row14 col2\" >0.2161</td>\n      <td id=\"T_e0788_row14_col3\" class=\"data row14 col3\" >0.4649</td>\n      <td id=\"T_e0788_row14_col4\" class=\"data row14 col4\" >-0.0000</td>\n      <td id=\"T_e0788_row14_col5\" class=\"data row14 col5\" >0.3271</td>\n      <td id=\"T_e0788_row14_col6\" class=\"data row14 col6\" >0.6840</td>\n      <td id=\"T_e0788_row14_col7\" class=\"data row14 col7\" >0.1000</td>\n    </tr>\n    <tr>\n      <th id=\"T_e0788_level0_row15\" class=\"row_heading level0 row15\" >en</th>\n      <td id=\"T_e0788_row15_col0\" class=\"data row15 col0\" >Elastic Net</td>\n      <td id=\"T_e0788_row15_col1\" class=\"data row15 col1\" >0.4323</td>\n      <td id=\"T_e0788_row15_col2\" class=\"data row15 col2\" >0.2161</td>\n      <td id=\"T_e0788_row15_col3\" class=\"data row15 col3\" >0.4649</td>\n      <td id=\"T_e0788_row15_col4\" class=\"data row15 col4\" >-0.0000</td>\n      <td id=\"T_e0788_row15_col5\" class=\"data row15 col5\" >0.3271</td>\n      <td id=\"T_e0788_row15_col6\" class=\"data row15 col6\" >0.6840</td>\n      <td id=\"T_e0788_row15_col7\" class=\"data row15 col7\" >0.1070</td>\n    </tr>\n    <tr>\n      <th id=\"T_e0788_level0_row16\" class=\"row_heading level0 row16\" >dummy</th>\n      <td id=\"T_e0788_row16_col0\" class=\"data row16 col0\" >Dummy Regressor</td>\n      <td id=\"T_e0788_row16_col1\" class=\"data row16 col1\" >0.4323</td>\n      <td id=\"T_e0788_row16_col2\" class=\"data row16 col2\" >0.2161</td>\n      <td id=\"T_e0788_row16_col3\" class=\"data row16 col3\" >0.4649</td>\n      <td id=\"T_e0788_row16_col4\" class=\"data row16 col4\" >-0.0000</td>\n      <td id=\"T_e0788_row16_col5\" class=\"data row16 col5\" >0.3271</td>\n      <td id=\"T_e0788_row16_col6\" class=\"data row16 col6\" >0.6840</td>\n      <td id=\"T_e0788_row16_col7\" class=\"data row16 col7\" >0.0290</td>\n    </tr>\n    <tr>\n      <th id=\"T_e0788_level0_row17\" class=\"row_heading level0 row17\" >par</th>\n      <td id=\"T_e0788_row17_col0\" class=\"data row17 col0\" >Passive Aggressive Regressor</td>\n      <td id=\"T_e0788_row17_col1\" class=\"data row17 col1\" >0.6972</td>\n      <td id=\"T_e0788_row17_col2\" class=\"data row17 col2\" >1.6146</td>\n      <td id=\"T_e0788_row17_col3\" class=\"data row17 col3\" >1.2245</td>\n      <td id=\"T_e0788_row17_col4\" class=\"data row17 col4\" >-6.4639</td>\n      <td id=\"T_e0788_row17_col5\" class=\"data row17 col5\" >0.4882</td>\n      <td id=\"T_e0788_row17_col6\" class=\"data row17 col6\" >0.8800</td>\n      <td id=\"T_e0788_row17_col7\" class=\"data row17 col7\" >0.1780</td>\n    </tr>\n  </tbody>\n</table>\n"
     },
     "metadata": {},
     "output_type": "display_data"
    }
   ],
   "source": [
    "from pycaret.regression import RegressionExperiment\n",
    "\n",
    "r = RegressionExperiment()\n",
    "r.setup(data=df_records, target='is_legit', session_id=128, use_gpu=True, log_experiment=False,\n",
    "        experiment_name='records_regression', normalize=True)\n",
    "\n",
    "best_regression_model = r.compare_models(sort='MSE')"
   ]
  },
  {
   "cell_type": "code",
   "outputs": [],
   "source": [
    "r.tune_model(best_regression_model)"
   ],
   "metadata": {
    "collapsed": false
   },
   "id": "abc8922b4282a976",
   "execution_count": null
  },
  {
   "cell_type": "code",
   "outputs": [
    {
     "data": {
      "text/plain": "<pandas.io.formats.style.Styler at 0x7f655368b8d0>",
      "text/html": "<style type=\"text/css\">\n</style>\n<table id=\"T_4105e\">\n  <thead>\n    <tr>\n      <th class=\"blank level0\" >&nbsp;</th>\n      <th id=\"T_4105e_level0_col0\" class=\"col_heading level0 col0\" >Model</th>\n      <th id=\"T_4105e_level0_col1\" class=\"col_heading level0 col1\" >MAE</th>\n      <th id=\"T_4105e_level0_col2\" class=\"col_heading level0 col2\" >MSE</th>\n      <th id=\"T_4105e_level0_col3\" class=\"col_heading level0 col3\" >RMSE</th>\n      <th id=\"T_4105e_level0_col4\" class=\"col_heading level0 col4\" >R2</th>\n      <th id=\"T_4105e_level0_col5\" class=\"col_heading level0 col5\" >RMSLE</th>\n      <th id=\"T_4105e_level0_col6\" class=\"col_heading level0 col6\" >MAPE</th>\n    </tr>\n  </thead>\n  <tbody>\n    <tr>\n      <th id=\"T_4105e_level0_row0\" class=\"row_heading level0 row0\" >0</th>\n      <td id=\"T_4105e_row0_col0\" class=\"data row0 col0\" >Light Gradient Boosting Machine</td>\n      <td id=\"T_4105e_row0_col1\" class=\"data row0 col1\" >0.1568</td>\n      <td id=\"T_4105e_row0_col2\" class=\"data row0 col2\" >0.0766</td>\n      <td id=\"T_4105e_row0_col3\" class=\"data row0 col3\" >0.2767</td>\n      <td id=\"T_4105e_row0_col4\" class=\"data row0 col4\" >0.6462</td>\n      <td id=\"T_4105e_row0_col5\" class=\"data row0 col5\" >0.1937</td>\n      <td id=\"T_4105e_row0_col6\" class=\"data row0 col6\" >0.2482</td>\n    </tr>\n  </tbody>\n</table>\n"
     },
     "metadata": {},
     "output_type": "display_data"
    },
    {
     "data": {
      "text/plain": "   a_records  mx_records  cname_records  txt_records  ptr_records  ptr_ratio  \\\n0          2           1             13            5            2        1.0   \n1          2           0             21            0            3        0.0   \n2          8           1             12            3           12        0.0   \n3         10           1             11           11           14        0.0   \n4          2           0             21            1            3        0.0   \n\n   is_legit  prediction_label  \n0         1          0.982995  \n1         1          0.431670  \n2         1          0.942293  \n3         1          1.027679  \n4         1          0.458081  ",
      "text/html": "<div>\n<style scoped>\n    .dataframe tbody tr th:only-of-type {\n        vertical-align: middle;\n    }\n\n    .dataframe tbody tr th {\n        vertical-align: top;\n    }\n\n    .dataframe thead th {\n        text-align: right;\n    }\n</style>\n<table border=\"1\" class=\"dataframe\">\n  <thead>\n    <tr style=\"text-align: right;\">\n      <th></th>\n      <th>a_records</th>\n      <th>mx_records</th>\n      <th>cname_records</th>\n      <th>txt_records</th>\n      <th>ptr_records</th>\n      <th>ptr_ratio</th>\n      <th>is_legit</th>\n      <th>prediction_label</th>\n    </tr>\n  </thead>\n  <tbody>\n    <tr>\n      <th>0</th>\n      <td>2</td>\n      <td>1</td>\n      <td>13</td>\n      <td>5</td>\n      <td>2</td>\n      <td>1.0</td>\n      <td>1</td>\n      <td>0.982995</td>\n    </tr>\n    <tr>\n      <th>1</th>\n      <td>2</td>\n      <td>0</td>\n      <td>21</td>\n      <td>0</td>\n      <td>3</td>\n      <td>0.0</td>\n      <td>1</td>\n      <td>0.431670</td>\n    </tr>\n    <tr>\n      <th>2</th>\n      <td>8</td>\n      <td>1</td>\n      <td>12</td>\n      <td>3</td>\n      <td>12</td>\n      <td>0.0</td>\n      <td>1</td>\n      <td>0.942293</td>\n    </tr>\n    <tr>\n      <th>3</th>\n      <td>10</td>\n      <td>1</td>\n      <td>11</td>\n      <td>11</td>\n      <td>14</td>\n      <td>0.0</td>\n      <td>1</td>\n      <td>1.027679</td>\n    </tr>\n    <tr>\n      <th>4</th>\n      <td>2</td>\n      <td>0</td>\n      <td>21</td>\n      <td>1</td>\n      <td>3</td>\n      <td>0.0</td>\n      <td>1</td>\n      <td>0.458081</td>\n    </tr>\n  </tbody>\n</table>\n</div>"
     },
     "execution_count": 52,
     "metadata": {},
     "output_type": "execute_result"
    }
   ],
   "source": [
    "predictions = r.predict_model(best_regression_model, data=df_records)\n",
    "predictions.head()"
   ],
   "metadata": {
    "collapsed": false,
    "ExecuteTime": {
     "end_time": "2024-03-28T16:18:14.118616Z",
     "start_time": "2024-03-28T16:18:13.787821Z"
    }
   },
   "id": "14e45c4cfd2a6167",
   "execution_count": 52
  },
  {
   "cell_type": "code",
   "outputs": [
    {
     "name": "stdout",
     "output_type": "stream",
     "text": [
      "Transformation Pipeline and Model Successfully Saved\n"
     ]
    },
    {
     "data": {
      "text/plain": "(Pipeline(memory=Memory(location=None),\n          steps=[('numerical_imputer',\n                  TransformerWrapper(include=['a_records', 'mx_records',\n                                              'cname_records', 'txt_records',\n                                              'ptr_records', 'ptr_ratio'],\n                                     transformer=SimpleImputer())),\n                 ('categorical_imputer',\n                  TransformerWrapper(include=[],\n                                     transformer=SimpleImputer(strategy='most_frequent'))),\n                 ('normalize', TransformerWrapper(transformer=StandardScaler())),\n                 ('trained_model', LGBMRegressor(n_jobs=-1, random_state=128))]),\n 'resourse_records_regression_lgbm.pkl')"
     },
     "execution_count": 9,
     "metadata": {},
     "output_type": "execute_result"
    }
   ],
   "source": [
    "r.save_model(best_regression_model, model_name='resourse_records_regression_lgbm')"
   ],
   "metadata": {
    "collapsed": false,
    "ExecuteTime": {
     "end_time": "2024-03-28T17:19:07.871571Z",
     "start_time": "2024-03-28T17:19:07.754469Z"
    }
   },
   "id": "2b6030a60c73fc4a",
   "execution_count": 9
  },
  {
   "cell_type": "code",
   "outputs": [
    {
     "name": "stdout",
     "output_type": "stream",
     "text": [
      "Looking in indexes: https://pypi.org/simple, https://pypi.ngc.nvidia.com\r\n",
      "Requirement already satisfied: m2cgen in /opt/conda/lib/python3.11/site-packages (0.10.0)\r\n",
      "Requirement already satisfied: numpy in /opt/conda/lib/python3.11/site-packages (from m2cgen) (1.26.3)\r\n"
     ]
    }
   ],
   "source": [
    "!pip install m2cgen\n",
    "\n",
    "model_go = r.convert_model(best_regression_model, 'go')"
   ],
   "metadata": {
    "collapsed": false,
    "ExecuteTime": {
     "end_time": "2024-03-27T20:43:48.572623Z",
     "start_time": "2024-03-27T20:42:41.800374Z"
    }
   },
   "id": "4743756abc9d054b",
   "execution_count": 39
  },
  {
   "cell_type": "code",
   "outputs": [],
   "source": [
    "f = open(\"golang_records_extra_trees.go\", \"a\")\n",
    "f.write(model_go)\n",
    "f.close()"
   ],
   "metadata": {
    "collapsed": false,
    "ExecuteTime": {
     "end_time": "2024-03-27T20:43:48.721517Z",
     "start_time": "2024-03-27T20:43:48.574371Z"
    }
   },
   "id": "690166d3578d7d61",
   "execution_count": 40
  },
  {
   "cell_type": "code",
   "outputs": [],
   "source": [
    "from pycaret.regression import *\n",
    "\n",
    "knn_exp = setup(df_records, target='is_legit', session_id=128, use_gpu=True, log_experiment=False, experiment_name='records_regression', normalize=True)\n",
    "knn_model = create_model('knn')\n",
    "\n",
    "tuned_knn = tune_model(knn_model)\n",
    "\n",
    "model_go_knn = convert_model(tuned_knn, 'go')\n",
    "\n",
    "f = open(\"golang_resource_records_knn.go\", \"a\")\n",
    "f.write(model_go_knn)\n",
    "f.close()"
   ],
   "metadata": {
    "collapsed": false
   },
   "id": "a5b01c6f691593d1",
   "execution_count": null
  },
  {
   "cell_type": "code",
   "outputs": [],
   "source": [],
   "metadata": {
    "collapsed": false
   },
   "id": "d4e23b2cfedfc178"
  },
  {
   "cell_type": "code",
   "outputs": [],
   "source": [
    "from pycaret.regression import *\n",
    "\n",
    "et_exp = setup(df_records, target='is_legit', session_id=128, use_gpu=True, log_experiment=False, experiment_name='records_regression', normalize=True)\n",
    "et_model = create_model('et')\n",
    "\n",
    "tuned_et = tune_model(et_model)\n",
    "\n",
    "model_go_et = convert_model(tuned_et, 'go')\n",
    "\n",
    "f = open(\"golang_resource_records_extra_trees.go\", \"a\")\n",
    "f.write(model_go_et)\n",
    "f.close()"
   ],
   "metadata": {
    "collapsed": false
   },
   "id": "cff94d834dd270a4",
   "execution_count": null
  },
  {
   "cell_type": "code",
   "outputs": [],
   "source": [
    "r.save_model(best_regression_model, model_name='resourse_records_regression_extre_trees')"
   ],
   "metadata": {
    "collapsed": false
   },
   "id": "dc4f0deb01bc65b1",
   "execution_count": null
  }
 ],
 "metadata": {
  "kernelspec": {
   "display_name": "Python 3 (ipykernel)",
   "language": "python",
   "name": "python3"
  },
  "language_info": {
   "codemirror_mode": {
    "name": "ipython",
    "version": 3
   },
   "file_extension": ".py",
   "mimetype": "text/x-python",
   "name": "python",
   "nbconvert_exporter": "python",
   "pygments_lexer": "ipython3",
   "version": "3.11.7"
  }
 },
 "nbformat": 4,
 "nbformat_minor": 5
}
