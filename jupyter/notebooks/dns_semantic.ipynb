{
 "cells": [
  {
   "cell_type": "code",
   "execution_count": 25,
   "id": "initial_id",
   "metadata": {
    "collapsed": true,
    "jupyter": {
     "outputs_hidden": true
    },
    "ExecuteTime": {
     "end_time": "2024-03-28T16:06:26.420115Z",
     "start_time": "2024-03-28T16:06:26.094383Z"
    }
   },
   "outputs": [
    {
     "name": "stdout",
     "output_type": "stream",
     "text": [
      "Thu Mar 28 16:06:26 2024       \r\n",
      "+-----------------------------------------------------------------------------------------+\r\n",
      "| NVIDIA-SMI 550.65                 Driver Version: 551.86         CUDA Version: 12.4     |\r\n",
      "|-----------------------------------------+------------------------+----------------------+\r\n",
      "| GPU  Name                 Persistence-M | Bus-Id          Disp.A | Volatile Uncorr. ECC |\r\n",
      "| Fan  Temp   Perf          Pwr:Usage/Cap |           Memory-Usage | GPU-Util  Compute M. |\r\n",
      "|                                         |                        |               MIG M. |\r\n",
      "|=========================================+========================+======================|\r\n",
      "|   0  NVIDIA GeForce RTX 3070 Ti     On  |   00000000:01:00.0  On |                  N/A |\r\n",
      "| 53%   29C    P8             21W /  310W |    1192MiB /   8192MiB |     50%      Default |\r\n",
      "|                                         |                        |                  N/A |\r\n",
      "+-----------------------------------------+------------------------+----------------------+\r\n",
      "                                                                                         \r\n",
      "+-----------------------------------------------------------------------------------------+\r\n",
      "| Processes:                                                                              |\r\n",
      "|  GPU   GI   CI        PID   Type   Process name                              GPU Memory |\r\n",
      "|        ID   ID                                                               Usage      |\r\n",
      "|=========================================================================================|\r\n",
      "|  No running processes found                                                             |\r\n",
      "+-----------------------------------------------------------------------------------------+\r\n"
     ]
    }
   ],
   "source": [
    "!nvidia-smi"
   ]
  },
  {
   "cell_type": "code",
   "execution_count": null,
   "id": "b22bf2c06c01edb2",
   "metadata": {
    "collapsed": false,
    "tags": []
   },
   "outputs": [],
   "source": [
    "import pandas as pd\n",
    "import numpy as np\n",
    "import matplotlib.pyplot as plt"
   ]
  },
  {
   "cell_type": "code",
   "execution_count": 26,
   "id": "1e9b3e8eba854a5b",
   "metadata": {
    "collapsed": false,
    "tags": [],
    "ExecuteTime": {
     "end_time": "2024-03-28T16:06:38.628033Z",
     "start_time": "2024-03-28T16:06:29.440002Z"
    }
   },
   "outputs": [
    {
     "name": "stdout",
     "output_type": "stream",
     "text": [
      "Looking in indexes: https://pypi.org/simple, https://pypi.ngc.nvidia.com\r\n",
      "Requirement already satisfied: pycaret in /opt/conda/lib/python3.11/site-packages (3.3.0)\r\n",
      "Requirement already satisfied: ipython>=5.5.0 in /opt/conda/lib/python3.11/site-packages (from pycaret) (8.20.0)\r\n",
      "Requirement already satisfied: ipywidgets>=7.6.5 in /opt/conda/lib/python3.11/site-packages (from pycaret) (8.0.4)\r\n",
      "Requirement already satisfied: tqdm>=4.62.0 in /opt/conda/lib/python3.11/site-packages (from pycaret) (4.66.1)\r\n",
      "Requirement already satisfied: numpy<1.27,>=1.21 in /opt/conda/lib/python3.11/site-packages (from pycaret) (1.26.3)\r\n",
      "Requirement already satisfied: pandas<2.2.0 in /opt/conda/lib/python3.11/site-packages (from pycaret) (2.1.4)\r\n",
      "Requirement already satisfied: jinja2>=3 in /opt/conda/lib/python3.11/site-packages (from pycaret) (3.1.3)\r\n",
      "Requirement already satisfied: scipy<=1.11.4,>=1.6.1 in /opt/conda/lib/python3.11/site-packages (from pycaret) (1.11.4)\r\n",
      "Requirement already satisfied: joblib>=1.2.0 in /opt/conda/lib/python3.11/site-packages (from pycaret) (1.3.2)\r\n",
      "Requirement already satisfied: scikit-learn>1.4.0 in /opt/conda/lib/python3.11/site-packages (from pycaret) (1.4.1.post1)\r\n",
      "Requirement already satisfied: pyod>=1.1.3 in /opt/conda/lib/python3.11/site-packages (from pycaret) (1.1.3)\r\n",
      "Requirement already satisfied: imbalanced-learn>=0.12.0 in /opt/conda/lib/python3.11/site-packages (from pycaret) (0.12.0)\r\n",
      "Requirement already satisfied: category-encoders>=2.4.0 in /opt/conda/lib/python3.11/site-packages (from pycaret) (2.6.3)\r\n",
      "Requirement already satisfied: lightgbm>=3.0.0 in /opt/conda/lib/python3.11/site-packages (from pycaret) (4.3.0)\r\n",
      "Requirement already satisfied: numba>=0.55.0 in /opt/conda/lib/python3.11/site-packages (from pycaret) (0.58.1)\r\n",
      "Requirement already satisfied: requests>=2.27.1 in /opt/conda/lib/python3.11/site-packages (from pycaret) (2.31.0)\r\n",
      "Requirement already satisfied: psutil>=5.9.0 in /opt/conda/lib/python3.11/site-packages (from pycaret) (5.9.8)\r\n",
      "Requirement already satisfied: markupsafe>=2.0.1 in /opt/conda/lib/python3.11/site-packages (from pycaret) (2.1.4)\r\n",
      "Requirement already satisfied: importlib-metadata>=4.12.0 in /opt/conda/lib/python3.11/site-packages (from pycaret) (7.0.1)\r\n",
      "Requirement already satisfied: nbformat>=4.2.0 in /opt/conda/lib/python3.11/site-packages (from pycaret) (5.9.2)\r\n",
      "Requirement already satisfied: cloudpickle in /opt/conda/lib/python3.11/site-packages (from pycaret) (3.0.0)\r\n",
      "Requirement already satisfied: deprecation>=2.1.0 in /opt/conda/lib/python3.11/site-packages (from pycaret) (2.1.0)\r\n",
      "Requirement already satisfied: xxhash in /opt/conda/lib/python3.11/site-packages (from pycaret) (3.4.1)\r\n",
      "Requirement already satisfied: matplotlib<3.8.0 in /opt/conda/lib/python3.11/site-packages (from pycaret) (3.7.5)\r\n",
      "Requirement already satisfied: scikit-plot>=0.3.7 in /opt/conda/lib/python3.11/site-packages (from pycaret) (0.3.7)\r\n",
      "Requirement already satisfied: yellowbrick>=1.4 in /opt/conda/lib/python3.11/site-packages (from pycaret) (1.5)\r\n",
      "Requirement already satisfied: plotly>=5.14.0 in /opt/conda/lib/python3.11/site-packages (from pycaret) (5.20.0)\r\n",
      "Requirement already satisfied: kaleido>=0.2.1 in /opt/conda/lib/python3.11/site-packages (from pycaret) (0.2.1)\r\n",
      "Requirement already satisfied: schemdraw==0.15 in /opt/conda/lib/python3.11/site-packages (from pycaret) (0.15)\r\n",
      "Requirement already satisfied: plotly-resampler>=0.8.3.1 in /opt/conda/lib/python3.11/site-packages (from pycaret) (0.9.2)\r\n",
      "Requirement already satisfied: statsmodels>=0.12.1 in /opt/conda/lib/python3.11/site-packages (from pycaret) (0.14.1)\r\n",
      "Requirement already satisfied: sktime>=0.26.0 in /opt/conda/lib/python3.11/site-packages (from pycaret) (0.27.1)\r\n",
      "Requirement already satisfied: tbats>=1.1.3 in /opt/conda/lib/python3.11/site-packages (from pycaret) (1.1.3)\r\n",
      "Requirement already satisfied: pmdarima>=2.0.4 in /opt/conda/lib/python3.11/site-packages (from pycaret) (2.0.4)\r\n",
      "Requirement already satisfied: wurlitzer in /opt/conda/lib/python3.11/site-packages (from pycaret) (3.0.3)\r\n",
      "Requirement already satisfied: patsy>=0.5.1 in /opt/conda/lib/python3.11/site-packages (from category-encoders>=2.4.0->pycaret) (0.5.6)\r\n",
      "Requirement already satisfied: packaging in /opt/conda/lib/python3.11/site-packages (from deprecation>=2.1.0->pycaret) (23.2)\r\n",
      "Requirement already satisfied: threadpoolctl>=2.0.0 in /opt/conda/lib/python3.11/site-packages (from imbalanced-learn>=0.12.0->pycaret) (3.2.0)\r\n",
      "Requirement already satisfied: zipp>=0.5 in /opt/conda/lib/python3.11/site-packages (from importlib-metadata>=4.12.0->pycaret) (3.17.0)\r\n",
      "Requirement already satisfied: decorator in /opt/conda/lib/python3.11/site-packages (from ipython>=5.5.0->pycaret) (5.1.1)\r\n",
      "Requirement already satisfied: jedi>=0.16 in /opt/conda/lib/python3.11/site-packages (from ipython>=5.5.0->pycaret) (0.19.1)\r\n",
      "Requirement already satisfied: matplotlib-inline in /opt/conda/lib/python3.11/site-packages (from ipython>=5.5.0->pycaret) (0.1.6)\r\n",
      "Requirement already satisfied: prompt-toolkit<3.1.0,>=3.0.41 in /opt/conda/lib/python3.11/site-packages (from ipython>=5.5.0->pycaret) (3.0.42)\r\n",
      "Requirement already satisfied: pygments>=2.4.0 in /opt/conda/lib/python3.11/site-packages (from ipython>=5.5.0->pycaret) (2.17.2)\r\n",
      "Requirement already satisfied: stack-data in /opt/conda/lib/python3.11/site-packages (from ipython>=5.5.0->pycaret) (0.6.2)\r\n",
      "Requirement already satisfied: traitlets>=5 in /opt/conda/lib/python3.11/site-packages (from ipython>=5.5.0->pycaret) (5.14.1)\r\n",
      "Requirement already satisfied: pexpect>4.3 in /opt/conda/lib/python3.11/site-packages (from ipython>=5.5.0->pycaret) (4.8.0)\r\n",
      "Requirement already satisfied: ipykernel>=4.5.1 in /opt/conda/lib/python3.11/site-packages (from ipywidgets>=7.6.5->pycaret) (6.29.0)\r\n",
      "Requirement already satisfied: widgetsnbextension~=4.0 in /opt/conda/lib/python3.11/site-packages (from ipywidgets>=7.6.5->pycaret) (4.0.9)\r\n",
      "Requirement already satisfied: jupyterlab-widgets~=3.0 in /opt/conda/lib/python3.11/site-packages (from ipywidgets>=7.6.5->pycaret) (3.0.9)\r\n",
      "Requirement already satisfied: contourpy>=1.0.1 in /opt/conda/lib/python3.11/site-packages (from matplotlib<3.8.0->pycaret) (1.2.0)\r\n",
      "Requirement already satisfied: cycler>=0.10 in /opt/conda/lib/python3.11/site-packages (from matplotlib<3.8.0->pycaret) (0.12.1)\r\n",
      "Requirement already satisfied: fonttools>=4.22.0 in /opt/conda/lib/python3.11/site-packages (from matplotlib<3.8.0->pycaret) (4.47.2)\r\n",
      "Requirement already satisfied: kiwisolver>=1.0.1 in /opt/conda/lib/python3.11/site-packages (from matplotlib<3.8.0->pycaret) (1.4.5)\r\n",
      "Requirement already satisfied: pillow>=6.2.0 in /opt/conda/lib/python3.11/site-packages (from matplotlib<3.8.0->pycaret) (10.2.0)\r\n",
      "Requirement already satisfied: pyparsing>=2.3.1 in /opt/conda/lib/python3.11/site-packages (from matplotlib<3.8.0->pycaret) (3.1.1)\r\n",
      "Requirement already satisfied: python-dateutil>=2.7 in /opt/conda/lib/python3.11/site-packages (from matplotlib<3.8.0->pycaret) (2.8.2)\r\n",
      "Requirement already satisfied: fastjsonschema in /opt/conda/lib/python3.11/site-packages (from nbformat>=4.2.0->pycaret) (2.19.1)\r\n",
      "Requirement already satisfied: jsonschema>=2.6 in /opt/conda/lib/python3.11/site-packages (from nbformat>=4.2.0->pycaret) (4.21.1)\r\n",
      "Requirement already satisfied: jupyter-core in /opt/conda/lib/python3.11/site-packages (from nbformat>=4.2.0->pycaret) (5.7.1)\r\n",
      "Requirement already satisfied: llvmlite<0.42,>=0.41.0dev0 in /opt/conda/lib/python3.11/site-packages (from numba>=0.55.0->pycaret) (0.41.1)\r\n",
      "Requirement already satisfied: pytz>=2020.1 in /opt/conda/lib/python3.11/site-packages (from pandas<2.2.0->pycaret) (2023.3.post1)\r\n",
      "Requirement already satisfied: tzdata>=2022.1 in /opt/conda/lib/python3.11/site-packages (from pandas<2.2.0->pycaret) (2023.4)\r\n",
      "Requirement already satisfied: tenacity>=6.2.0 in /opt/conda/lib/python3.11/site-packages (from plotly>=5.14.0->pycaret) (8.2.3)\r\n",
      "Requirement already satisfied: dash>=2.9.0 in /opt/conda/lib/python3.11/site-packages (from plotly-resampler>=0.8.3.1->pycaret) (2.16.1)\r\n",
      "Requirement already satisfied: orjson<4.0.0,>=3.8.0 in /opt/conda/lib/python3.11/site-packages (from plotly-resampler>=0.8.3.1->pycaret) (3.9.15)\r\n",
      "Requirement already satisfied: tsdownsample==0.1.2 in /opt/conda/lib/python3.11/site-packages (from plotly-resampler>=0.8.3.1->pycaret) (0.1.2)\r\n",
      "Requirement already satisfied: Cython!=0.29.18,!=0.29.31,>=0.29 in /opt/conda/lib/python3.11/site-packages (from pmdarima>=2.0.4->pycaret) (3.0.7)\r\n",
      "Requirement already satisfied: urllib3 in /opt/conda/lib/python3.11/site-packages (from pmdarima>=2.0.4->pycaret) (2.1.0)\r\n",
      "Requirement already satisfied: setuptools!=50.0.0,>=38.6.0 in /opt/conda/lib/python3.11/site-packages (from pmdarima>=2.0.4->pycaret) (69.0.3)\r\n",
      "Requirement already satisfied: six in /opt/conda/lib/python3.11/site-packages (from pyod>=1.1.3->pycaret) (1.16.0)\r\n",
      "Requirement already satisfied: charset-normalizer<4,>=2 in /opt/conda/lib/python3.11/site-packages (from requests>=2.27.1->pycaret) (3.3.2)\r\n",
      "Requirement already satisfied: idna<4,>=2.5 in /opt/conda/lib/python3.11/site-packages (from requests>=2.27.1->pycaret) (3.6)\r\n",
      "Requirement already satisfied: certifi>=2017.4.17 in /opt/conda/lib/python3.11/site-packages (from requests>=2.27.1->pycaret) (2023.11.17)\r\n",
      "Requirement already satisfied: scikit-base<0.8.0 in /opt/conda/lib/python3.11/site-packages (from sktime>=0.26.0->pycaret) (0.7.5)\r\n",
      "Requirement already satisfied: Flask<3.1,>=1.0.4 in /opt/conda/lib/python3.11/site-packages (from dash>=2.9.0->plotly-resampler>=0.8.3.1->pycaret) (3.0.2)\r\n",
      "Requirement already satisfied: Werkzeug<3.1 in /opt/conda/lib/python3.11/site-packages (from dash>=2.9.0->plotly-resampler>=0.8.3.1->pycaret) (3.0.1)\r\n",
      "Requirement already satisfied: dash-html-components==2.0.0 in /opt/conda/lib/python3.11/site-packages (from dash>=2.9.0->plotly-resampler>=0.8.3.1->pycaret) (2.0.0)\r\n",
      "Requirement already satisfied: dash-core-components==2.0.0 in /opt/conda/lib/python3.11/site-packages (from dash>=2.9.0->plotly-resampler>=0.8.3.1->pycaret) (2.0.0)\r\n",
      "Requirement already satisfied: dash-table==5.0.0 in /opt/conda/lib/python3.11/site-packages (from dash>=2.9.0->plotly-resampler>=0.8.3.1->pycaret) (5.0.0)\r\n",
      "Requirement already satisfied: typing-extensions>=4.1.1 in /opt/conda/lib/python3.11/site-packages (from dash>=2.9.0->plotly-resampler>=0.8.3.1->pycaret) (4.9.0)\r\n",
      "Requirement already satisfied: retrying in /opt/conda/lib/python3.11/site-packages (from dash>=2.9.0->plotly-resampler>=0.8.3.1->pycaret) (1.3.4)\r\n",
      "Requirement already satisfied: nest-asyncio in /opt/conda/lib/python3.11/site-packages (from dash>=2.9.0->plotly-resampler>=0.8.3.1->pycaret) (1.6.0)\r\n",
      "Requirement already satisfied: comm>=0.1.1 in /opt/conda/lib/python3.11/site-packages (from ipykernel>=4.5.1->ipywidgets>=7.6.5->pycaret) (0.2.1)\r\n",
      "Requirement already satisfied: debugpy>=1.6.5 in /opt/conda/lib/python3.11/site-packages (from ipykernel>=4.5.1->ipywidgets>=7.6.5->pycaret) (1.8.0)\r\n",
      "Requirement already satisfied: jupyter-client>=6.1.12 in /opt/conda/lib/python3.11/site-packages (from ipykernel>=4.5.1->ipywidgets>=7.6.5->pycaret) (7.4.9)\r\n",
      "Requirement already satisfied: pyzmq>=24 in /opt/conda/lib/python3.11/site-packages (from ipykernel>=4.5.1->ipywidgets>=7.6.5->pycaret) (24.0.1)\r\n",
      "Requirement already satisfied: tornado>=6.1 in /opt/conda/lib/python3.11/site-packages (from ipykernel>=4.5.1->ipywidgets>=7.6.5->pycaret) (6.3.3)\r\n",
      "Requirement already satisfied: parso<0.9.0,>=0.8.3 in /opt/conda/lib/python3.11/site-packages (from jedi>=0.16->ipython>=5.5.0->pycaret) (0.8.3)\r\n",
      "Requirement already satisfied: attrs>=22.2.0 in /opt/conda/lib/python3.11/site-packages (from jsonschema>=2.6->nbformat>=4.2.0->pycaret) (23.2.0)\r\n",
      "Requirement already satisfied: jsonschema-specifications>=2023.03.6 in /opt/conda/lib/python3.11/site-packages (from jsonschema>=2.6->nbformat>=4.2.0->pycaret) (2023.12.1)\r\n",
      "Requirement already satisfied: referencing>=0.28.4 in /opt/conda/lib/python3.11/site-packages (from jsonschema>=2.6->nbformat>=4.2.0->pycaret) (0.32.1)\r\n",
      "Requirement already satisfied: rpds-py>=0.7.1 in /opt/conda/lib/python3.11/site-packages (from jsonschema>=2.6->nbformat>=4.2.0->pycaret) (0.17.1)\r\n",
      "Requirement already satisfied: platformdirs>=2.5 in /opt/conda/lib/python3.11/site-packages (from jupyter-core->nbformat>=4.2.0->pycaret) (4.1.0)\r\n",
      "Requirement already satisfied: ptyprocess>=0.5 in /opt/conda/lib/python3.11/site-packages (from pexpect>4.3->ipython>=5.5.0->pycaret) (0.7.0)\r\n",
      "Requirement already satisfied: wcwidth in /opt/conda/lib/python3.11/site-packages (from prompt-toolkit<3.1.0,>=3.0.41->ipython>=5.5.0->pycaret) (0.2.13)\r\n",
      "Requirement already satisfied: executing>=1.2.0 in /opt/conda/lib/python3.11/site-packages (from stack-data->ipython>=5.5.0->pycaret) (2.0.1)\r\n",
      "Requirement already satisfied: asttokens>=2.1.0 in /opt/conda/lib/python3.11/site-packages (from stack-data->ipython>=5.5.0->pycaret) (2.4.1)\r\n",
      "Requirement already satisfied: pure-eval in /opt/conda/lib/python3.11/site-packages (from stack-data->ipython>=5.5.0->pycaret) (0.2.2)\r\n",
      "Requirement already satisfied: itsdangerous>=2.1.2 in /opt/conda/lib/python3.11/site-packages (from Flask<3.1,>=1.0.4->dash>=2.9.0->plotly-resampler>=0.8.3.1->pycaret) (2.1.2)\r\n",
      "Requirement already satisfied: click>=8.1.3 in /opt/conda/lib/python3.11/site-packages (from Flask<3.1,>=1.0.4->dash>=2.9.0->plotly-resampler>=0.8.3.1->pycaret) (8.1.7)\r\n",
      "Requirement already satisfied: blinker>=1.6.2 in /opt/conda/lib/python3.11/site-packages (from Flask<3.1,>=1.0.4->dash>=2.9.0->plotly-resampler>=0.8.3.1->pycaret) (1.7.0)\r\n",
      "Requirement already satisfied: entrypoints in /opt/conda/lib/python3.11/site-packages (from jupyter-client>=6.1.12->ipykernel>=4.5.1->ipywidgets>=7.6.5->pycaret) (0.4)\r\n",
      "Looking in indexes: https://pypi.org/simple, https://pypi.ngc.nvidia.com\r\n",
      "Requirement already satisfied: mlflow in /opt/conda/lib/python3.11/site-packages (2.11.3)\r\n",
      "Requirement already satisfied: click<9,>=7.0 in /opt/conda/lib/python3.11/site-packages (from mlflow) (8.1.7)\r\n",
      "Requirement already satisfied: cloudpickle<4 in /opt/conda/lib/python3.11/site-packages (from mlflow) (3.0.0)\r\n",
      "Requirement already satisfied: entrypoints<1 in /opt/conda/lib/python3.11/site-packages (from mlflow) (0.4)\r\n",
      "Requirement already satisfied: gitpython<4,>=3.1.9 in /opt/conda/lib/python3.11/site-packages (from mlflow) (3.1.41)\r\n",
      "Requirement already satisfied: pyyaml<7,>=5.1 in /opt/conda/lib/python3.11/site-packages (from mlflow) (6.0.1)\r\n",
      "Requirement already satisfied: protobuf<5,>=3.12.0 in /opt/conda/lib/python3.11/site-packages (from mlflow) (4.23.4)\r\n",
      "Requirement already satisfied: pytz<2025 in /opt/conda/lib/python3.11/site-packages (from mlflow) (2023.3.post1)\r\n",
      "Requirement already satisfied: requests<3,>=2.17.3 in /opt/conda/lib/python3.11/site-packages (from mlflow) (2.31.0)\r\n",
      "Requirement already satisfied: packaging<24 in /opt/conda/lib/python3.11/site-packages (from mlflow) (23.2)\r\n",
      "Requirement already satisfied: importlib-metadata!=4.7.0,<8,>=3.7.0 in /opt/conda/lib/python3.11/site-packages (from mlflow) (7.0.1)\r\n",
      "Requirement already satisfied: sqlparse<1,>=0.4.0 in /opt/conda/lib/python3.11/site-packages (from mlflow) (0.4.4)\r\n",
      "Requirement already satisfied: alembic!=1.10.0,<2 in /opt/conda/lib/python3.11/site-packages (from mlflow) (1.13.1)\r\n",
      "Requirement already satisfied: docker<8,>=4.0.0 in /opt/conda/lib/python3.11/site-packages (from mlflow) (7.0.0)\r\n",
      "Requirement already satisfied: Flask<4 in /opt/conda/lib/python3.11/site-packages (from mlflow) (3.0.2)\r\n",
      "Requirement already satisfied: numpy<2 in /opt/conda/lib/python3.11/site-packages (from mlflow) (1.26.3)\r\n",
      "Requirement already satisfied: scipy<2 in /opt/conda/lib/python3.11/site-packages (from mlflow) (1.11.4)\r\n",
      "Requirement already satisfied: pandas<3 in /opt/conda/lib/python3.11/site-packages (from mlflow) (2.1.4)\r\n",
      "Requirement already satisfied: querystring-parser<2 in /opt/conda/lib/python3.11/site-packages (from mlflow) (1.2.4)\r\n",
      "Requirement already satisfied: sqlalchemy<3,>=1.4.0 in /opt/conda/lib/python3.11/site-packages (from mlflow) (2.0.25)\r\n",
      "Requirement already satisfied: scikit-learn<2 in /opt/conda/lib/python3.11/site-packages (from mlflow) (1.4.1.post1)\r\n",
      "Requirement already satisfied: pyarrow<16,>=4.0.0 in /opt/conda/lib/python3.11/site-packages (from mlflow) (14.0.2)\r\n",
      "Requirement already satisfied: markdown<4,>=3.3 in /opt/conda/lib/python3.11/site-packages (from mlflow) (3.5.2)\r\n",
      "Requirement already satisfied: matplotlib<4 in /opt/conda/lib/python3.11/site-packages (from mlflow) (3.7.5)\r\n",
      "Requirement already satisfied: graphene<4 in /opt/conda/lib/python3.11/site-packages (from mlflow) (3.3)\r\n",
      "Requirement already satisfied: gunicorn<22 in /opt/conda/lib/python3.11/site-packages (from mlflow) (21.2.0)\r\n",
      "Requirement already satisfied: Jinja2<4,>=2.11 in /opt/conda/lib/python3.11/site-packages (from mlflow) (3.1.3)\r\n",
      "Requirement already satisfied: Mako in /opt/conda/lib/python3.11/site-packages (from alembic!=1.10.0,<2->mlflow) (1.3.1)\r\n",
      "Requirement already satisfied: typing-extensions>=4 in /opt/conda/lib/python3.11/site-packages (from alembic!=1.10.0,<2->mlflow) (4.9.0)\r\n",
      "Requirement already satisfied: urllib3>=1.26.0 in /opt/conda/lib/python3.11/site-packages (from docker<8,>=4.0.0->mlflow) (2.1.0)\r\n",
      "Requirement already satisfied: Werkzeug>=3.0.0 in /opt/conda/lib/python3.11/site-packages (from Flask<4->mlflow) (3.0.1)\r\n",
      "Requirement already satisfied: itsdangerous>=2.1.2 in /opt/conda/lib/python3.11/site-packages (from Flask<4->mlflow) (2.1.2)\r\n",
      "Requirement already satisfied: blinker>=1.6.2 in /opt/conda/lib/python3.11/site-packages (from Flask<4->mlflow) (1.7.0)\r\n",
      "Requirement already satisfied: gitdb<5,>=4.0.1 in /opt/conda/lib/python3.11/site-packages (from gitpython<4,>=3.1.9->mlflow) (4.0.11)\r\n",
      "Requirement already satisfied: graphql-core<3.3,>=3.1 in /opt/conda/lib/python3.11/site-packages (from graphene<4->mlflow) (3.2.3)\r\n",
      "Requirement already satisfied: graphql-relay<3.3,>=3.1 in /opt/conda/lib/python3.11/site-packages (from graphene<4->mlflow) (3.2.0)\r\n",
      "Requirement already satisfied: aniso8601<10,>=8 in /opt/conda/lib/python3.11/site-packages (from graphene<4->mlflow) (9.0.1)\r\n",
      "Requirement already satisfied: zipp>=0.5 in /opt/conda/lib/python3.11/site-packages (from importlib-metadata!=4.7.0,<8,>=3.7.0->mlflow) (3.17.0)\r\n",
      "Requirement already satisfied: MarkupSafe>=2.0 in /opt/conda/lib/python3.11/site-packages (from Jinja2<4,>=2.11->mlflow) (2.1.4)\r\n",
      "Requirement already satisfied: contourpy>=1.0.1 in /opt/conda/lib/python3.11/site-packages (from matplotlib<4->mlflow) (1.2.0)\r\n",
      "Requirement already satisfied: cycler>=0.10 in /opt/conda/lib/python3.11/site-packages (from matplotlib<4->mlflow) (0.12.1)\r\n",
      "Requirement already satisfied: fonttools>=4.22.0 in /opt/conda/lib/python3.11/site-packages (from matplotlib<4->mlflow) (4.47.2)\r\n",
      "Requirement already satisfied: kiwisolver>=1.0.1 in /opt/conda/lib/python3.11/site-packages (from matplotlib<4->mlflow) (1.4.5)\r\n",
      "Requirement already satisfied: pillow>=6.2.0 in /opt/conda/lib/python3.11/site-packages (from matplotlib<4->mlflow) (10.2.0)\r\n",
      "Requirement already satisfied: pyparsing>=2.3.1 in /opt/conda/lib/python3.11/site-packages (from matplotlib<4->mlflow) (3.1.1)\r\n",
      "Requirement already satisfied: python-dateutil>=2.7 in /opt/conda/lib/python3.11/site-packages (from matplotlib<4->mlflow) (2.8.2)\r\n",
      "Requirement already satisfied: tzdata>=2022.1 in /opt/conda/lib/python3.11/site-packages (from pandas<3->mlflow) (2023.4)\r\n",
      "Requirement already satisfied: six in /opt/conda/lib/python3.11/site-packages (from querystring-parser<2->mlflow) (1.16.0)\r\n",
      "Requirement already satisfied: charset-normalizer<4,>=2 in /opt/conda/lib/python3.11/site-packages (from requests<3,>=2.17.3->mlflow) (3.3.2)\r\n",
      "Requirement already satisfied: idna<4,>=2.5 in /opt/conda/lib/python3.11/site-packages (from requests<3,>=2.17.3->mlflow) (3.6)\r\n",
      "Requirement already satisfied: certifi>=2017.4.17 in /opt/conda/lib/python3.11/site-packages (from requests<3,>=2.17.3->mlflow) (2023.11.17)\r\n",
      "Requirement already satisfied: joblib>=1.2.0 in /opt/conda/lib/python3.11/site-packages (from scikit-learn<2->mlflow) (1.3.2)\r\n",
      "Requirement already satisfied: threadpoolctl>=2.0.0 in /opt/conda/lib/python3.11/site-packages (from scikit-learn<2->mlflow) (3.2.0)\r\n",
      "Requirement already satisfied: greenlet!=0.4.17 in /opt/conda/lib/python3.11/site-packages (from sqlalchemy<3,>=1.4.0->mlflow) (3.0.3)\r\n",
      "Requirement already satisfied: smmap<6,>=3.0.1 in /opt/conda/lib/python3.11/site-packages (from gitdb<5,>=4.0.1->gitpython<4,>=3.1.9->mlflow) (5.0.0)\r\n",
      "Looking in indexes: https://pypi.org/simple, https://pypi.ngc.nvidia.com\r\n",
      "Requirement already satisfied: scipy==1.11.4 in /opt/conda/lib/python3.11/site-packages (1.11.4)\r\n",
      "Requirement already satisfied: numpy<1.28.0,>=1.21.6 in /opt/conda/lib/python3.11/site-packages (from scipy==1.11.4) (1.26.3)\r\n",
      "Note: you may need to restart the kernel to use updated packages.\n"
     ]
    }
   ],
   "source": [
    "!pip install pycaret\n",
    "!pip install mlflow\n",
    "%pip install scipy==1.11.4\n",
    "\n",
    "from pycaret.classification import *\n",
    "\n",
    "from pycaret.regression import RegressionExperiment"
   ]
  },
  {
   "cell_type": "code",
   "execution_count": 27,
   "id": "fa8a3a7e9ca5e07d",
   "metadata": {
    "collapsed": false,
    "tags": [],
    "ExecuteTime": {
     "end_time": "2024-03-28T16:06:39.793481Z",
     "start_time": "2024-03-28T16:06:38.630089Z"
    }
   },
   "outputs": [
    {
     "name": "stdout",
     "output_type": "stream",
     "text": [
      "<class 'pandas.core.frame.DataFrame'>\n",
      "RangeIndex: 239257 entries, 0 to 239256\n",
      "Data columns (total 19 columns):\n",
      " #   Column            Non-Null Count   Dtype  \n",
      "---  ------            --------------   -----  \n",
      " 0   domain            239257 non-null  object \n",
      " 1   tld               239257 non-null  object \n",
      " 2   levels_count      239257 non-null  int64  \n",
      " 3   levels_mad        239257 non-null  float64\n",
      " 4   symbols_count     239257 non-null  int64  \n",
      " 5   vowels_ratio      239257 non-null  float64\n",
      " 6   consonants_ratio  239257 non-null  float64\n",
      " 7   numbers_ratio     239257 non-null  float64\n",
      " 8   points_ratio      239257 non-null  float64\n",
      " 9   special_ratio     239257 non-null  float64\n",
      " 10  unique_ratio      239257 non-null  float64\n",
      " 11  max_repeated      239257 non-null  int64  \n",
      " 12  a_records         239257 non-null  int64  \n",
      " 13  mx_records        239257 non-null  int64  \n",
      " 14  cname_records     239257 non-null  int64  \n",
      " 15  txt_records       239257 non-null  int64  \n",
      " 16  ptr_records       239257 non-null  int64  \n",
      " 17  ptr_ratio         239257 non-null  float64\n",
      " 18  is_legit          239257 non-null  int64  \n",
      "dtypes: float64(8), int64(9), object(2)\n",
      "memory usage: 34.7+ MB\n"
     ]
    }
   ],
   "source": [
    "df = pd.read_csv('work/datasets/processed_actual/merged_full_2024_03_27.csv')\n",
    "df.set_index('domain')\n",
    "\n",
    "df.info()"
   ]
  },
  {
   "cell_type": "code",
   "execution_count": 28,
   "id": "a773a0af3ed07d11",
   "metadata": {
    "collapsed": false,
    "tags": [],
    "ExecuteTime": {
     "end_time": "2024-03-28T16:06:39.806779Z",
     "start_time": "2024-03-28T16:06:39.794978Z"
    }
   },
   "outputs": [],
   "source": [
    "plt.style.use('fivethirtyeight')"
   ]
  },
  {
   "cell_type": "code",
   "execution_count": 29,
   "id": "3faeca80fbbeb3b3",
   "metadata": {
    "collapsed": false,
    "tags": [],
    "ExecuteTime": {
     "end_time": "2024-03-28T16:06:41.444008Z",
     "start_time": "2024-03-28T16:06:41.433473Z"
    }
   },
   "outputs": [],
   "source": [
    "df_semantic = df[\n",
    "    [\"levels_count\", \"levels_mad\", \"symbols_count\", \"vowels_ratio\", \"consonants_ratio\", \"numbers_ratio\",\n",
    "     \"points_ratio\", \"special_ratio\", \"unique_ratio\", \"max_repeated\", \"is_legit\"]]\n"
   ]
  },
  {
   "cell_type": "code",
   "execution_count": 30,
   "id": "cf9798b7542163fa",
   "metadata": {
    "collapsed": false,
    "ExecuteTime": {
     "end_time": "2024-03-28T16:06:51.879212Z",
     "start_time": "2024-03-28T16:06:50.018454Z"
    }
   },
   "outputs": [
    {
     "name": "stdout",
     "output_type": "stream",
     "text": [
      "[LightGBM] [Warning] There are no meaningful features which satisfy the provided configuration. Decreasing Dataset parameters min_data_in_bin or min_data_in_leaf and re-constructing Dataset might resolve this warning.\n",
      "[LightGBM] [Info] This is the GPU trainer!!\n",
      "[LightGBM] [Info] Total Bins 0\n",
      "[LightGBM] [Info] Number of data points in the train set: 2, number of used features: 0\n",
      "[LightGBM] [Warning] There are no meaningful features which satisfy the provided configuration. Decreasing Dataset parameters min_data_in_bin or min_data_in_leaf and re-constructing Dataset might resolve this warning.\n",
      "[LightGBM] [Warning] Using sparse features with CUDA is currently not supported.\n",
      "[LightGBM] [Warning] There are no meaningful features which satisfy the provided configuration. Decreasing Dataset parameters min_data_in_bin or min_data_in_leaf and re-constructing Dataset might resolve this warning.\n",
      "[LightGBM] [Info] This is the GPU trainer!!\n",
      "[LightGBM] [Info] Total Bins 0\n",
      "[LightGBM] [Info] Number of data points in the train set: 2, number of used features: 0\n",
      "[LightGBM] [Warning] There are no meaningful features which satisfy the provided configuration. Decreasing Dataset parameters min_data_in_bin or min_data_in_leaf and re-constructing Dataset might resolve this warning.\n",
      "[LightGBM] [Warning] Using sparse features with CUDA is currently not supported.\n"
     ]
    },
    {
     "name": "stderr",
     "output_type": "stream",
     "text": [
      "[LightGBM] [Fatal] CUDA Tree Learner was not enabled in this build.\n",
      "Please recompile with CMake option -DUSE_CUDA=1\n",
      "[LightGBM] [Fatal] CUDA Tree Learner was not enabled in this build.\n",
      "Please recompile with CMake option -DUSE_CUDA=1\n"
     ]
    },
    {
     "name": "stdout",
     "output_type": "stream",
     "text": [
      "[LightGBM] [Warning] There are no meaningful features which satisfy the provided configuration. Decreasing Dataset parameters min_data_in_bin or min_data_in_leaf and re-constructing Dataset might resolve this warning.\n",
      "[LightGBM] [Info] This is the GPU trainer!!\n",
      "[LightGBM] [Info] Total Bins 0\n",
      "[LightGBM] [Info] Number of data points in the train set: 2, number of used features: 0\n",
      "[LightGBM] [Warning] There are no meaningful features which satisfy the provided configuration. Decreasing Dataset parameters min_data_in_bin or min_data_in_leaf and re-constructing Dataset might resolve this warning.\n",
      "[LightGBM] [Warning] Using sparse features with CUDA is currently not supported.\n",
      "[LightGBM] [Warning] There are no meaningful features which satisfy the provided configuration. Decreasing Dataset parameters min_data_in_bin or min_data_in_leaf and re-constructing Dataset might resolve this warning.\n",
      "[LightGBM] [Info] This is the GPU trainer!!\n",
      "[LightGBM] [Info] Total Bins 0\n",
      "[LightGBM] [Info] Number of data points in the train set: 2, number of used features: 0\n",
      "[LightGBM] [Warning] There are no meaningful features which satisfy the provided configuration. Decreasing Dataset parameters min_data_in_bin or min_data_in_leaf and re-constructing Dataset might resolve this warning.\n",
      "[LightGBM] [Warning] Using sparse features with CUDA is currently not supported.\n",
      "[LightGBM] [Warning] There are no meaningful features which satisfy the provided configuration. Decreasing Dataset parameters min_data_in_bin or min_data_in_leaf and re-constructing Dataset might resolve this warning.\n",
      "[LightGBM] [Info] This is the GPU trainer!!\n",
      "[LightGBM] [Info] Total Bins 0\n",
      "[LightGBM] [Info] Number of data points in the train set: 2, number of used features: 0\n",
      "[LightGBM] [Warning] There are no meaningful features which satisfy the provided configuration. Decreasing Dataset parameters min_data_in_bin or min_data_in_leaf and re-constructing Dataset might resolve this warning.\n",
      "[LightGBM] [Warning] Using sparse features with CUDA is currently not supported.\n"
     ]
    },
    {
     "name": "stderr",
     "output_type": "stream",
     "text": [
      "[LightGBM] [Fatal] CUDA Tree Learner was not enabled in this build.\n",
      "Please recompile with CMake option -DUSE_CUDA=1\n",
      "[LightGBM] [Fatal] CUDA Tree Learner was not enabled in this build.\n",
      "Please recompile with CMake option -DUSE_CUDA=1\n",
      "[LightGBM] [Fatal] CUDA Tree Learner was not enabled in this build.\n",
      "Please recompile with CMake option -DUSE_CUDA=1\n"
     ]
    },
    {
     "name": "stdout",
     "output_type": "stream",
     "text": [
      "[LightGBM] [Warning] There are no meaningful features which satisfy the provided configuration. Decreasing Dataset parameters min_data_in_bin or min_data_in_leaf and re-constructing Dataset might resolve this warning.\n",
      "[LightGBM] [Info] This is the GPU trainer!!\n",
      "[LightGBM] [Info] Total Bins 0\n",
      "[LightGBM] [Info] Number of data points in the train set: 2, number of used features: 0\n",
      "[LightGBM] [Warning] There are no meaningful features which satisfy the provided configuration. Decreasing Dataset parameters min_data_in_bin or min_data_in_leaf and re-constructing Dataset might resolve this warning.\n",
      "[LightGBM] [Warning] Using sparse features with CUDA is currently not supported.\n",
      "[LightGBM] [Warning] There are no meaningful features which satisfy the provided configuration. Decreasing Dataset parameters min_data_in_bin or min_data_in_leaf and re-constructing Dataset might resolve this warning.\n",
      "[LightGBM] [Info] This is the GPU trainer!!\n",
      "[LightGBM] [Info] Total Bins 0\n",
      "[LightGBM] [Info] Number of data points in the train set: 2, number of used features: 0\n",
      "[LightGBM] [Warning] There are no meaningful features which satisfy the provided configuration. Decreasing Dataset parameters min_data_in_bin or min_data_in_leaf and re-constructing Dataset might resolve this warning.\n",
      "[LightGBM] [Warning] Using sparse features with CUDA is currently not supported.\n",
      "[LightGBM] [Warning] There are no meaningful features which satisfy the provided configuration. Decreasing Dataset parameters min_data_in_bin or min_data_in_leaf and re-constructing Dataset might resolve this warning.\n",
      "[LightGBM] [Info] This is the GPU trainer!!\n",
      "[LightGBM] [Info] Total Bins 0\n",
      "[LightGBM] [Info] Number of data points in the train set: 2, number of used features: 0\n",
      "[LightGBM] [Warning] There are no meaningful features which satisfy the provided configuration. Decreasing Dataset parameters min_data_in_bin or min_data_in_leaf and re-constructing Dataset might resolve this warning.\n",
      "[LightGBM] [Warning] Using sparse features with CUDA is currently not supported.\n"
     ]
    },
    {
     "name": "stderr",
     "output_type": "stream",
     "text": [
      "[LightGBM] [Fatal] CUDA Tree Learner was not enabled in this build.\n",
      "Please recompile with CMake option -DUSE_CUDA=1\n",
      "[LightGBM] [Fatal] CUDA Tree Learner was not enabled in this build.\n",
      "Please recompile with CMake option -DUSE_CUDA=1\n",
      "[LightGBM] [Fatal] CUDA Tree Learner was not enabled in this build.\n",
      "Please recompile with CMake option -DUSE_CUDA=1\n"
     ]
    },
    {
     "name": "stdout",
     "output_type": "stream",
     "text": [
      "[LightGBM] [Warning] There are no meaningful features which satisfy the provided configuration. Decreasing Dataset parameters min_data_in_bin or min_data_in_leaf and re-constructing Dataset might resolve this warning.\n",
      "[LightGBM] [Info] This is the GPU trainer!!\n",
      "[LightGBM] [Info] Total Bins 0\n",
      "[LightGBM] [Info] Number of data points in the train set: 2, number of used features: 0\n",
      "[LightGBM] [Warning] There are no meaningful features which satisfy the provided configuration. Decreasing Dataset parameters min_data_in_bin or min_data_in_leaf and re-constructing Dataset might resolve this warning.\n",
      "[LightGBM] [Warning] Using sparse features with CUDA is currently not supported.\n",
      "[LightGBM] [Warning] There are no meaningful features which satisfy the provided configuration. Decreasing Dataset parameters min_data_in_bin or min_data_in_leaf and re-constructing Dataset might resolve this warning.\n",
      "[LightGBM] [Info] This is the GPU trainer!!\n",
      "[LightGBM] [Info] Total Bins 0\n",
      "[LightGBM] [Info] Number of data points in the train set: 2, number of used features: 0\n",
      "[LightGBM] [Warning] There are no meaningful features which satisfy the provided configuration. Decreasing Dataset parameters min_data_in_bin or min_data_in_leaf and re-constructing Dataset might resolve this warning.\n",
      "[LightGBM] [Warning] Using sparse features with CUDA is currently not supported.\n",
      "[LightGBM] [Warning] There are no meaningful features which satisfy the provided configuration. Decreasing Dataset parameters min_data_in_bin or min_data_in_leaf and re-constructing Dataset might resolve this warning.\n",
      "[LightGBM] [Info] This is the GPU trainer!!\n",
      "[LightGBM] [Info] Total Bins 0\n",
      "[LightGBM] [Info] Number of data points in the train set: 2, number of used features: 0\n",
      "[LightGBM] [Warning] There are no meaningful features which satisfy the provided configuration. Decreasing Dataset parameters min_data_in_bin or min_data_in_leaf and re-constructing Dataset might resolve this warning.\n",
      "[LightGBM] [Warning] Using sparse features with CUDA is currently not supported.\n"
     ]
    },
    {
     "name": "stderr",
     "output_type": "stream",
     "text": [
      "[LightGBM] [Fatal] CUDA Tree Learner was not enabled in this build.\n",
      "Please recompile with CMake option -DUSE_CUDA=1\n",
      "[LightGBM] [Fatal] CUDA Tree Learner was not enabled in this build.\n",
      "Please recompile with CMake option -DUSE_CUDA=1\n",
      "[LightGBM] [Fatal] CUDA Tree Learner was not enabled in this build.\n",
      "Please recompile with CMake option -DUSE_CUDA=1\n"
     ]
    },
    {
     "name": "stdout",
     "output_type": "stream",
     "text": [
      "[LightGBM] [Warning] There are no meaningful features which satisfy the provided configuration. Decreasing Dataset parameters min_data_in_bin or min_data_in_leaf and re-constructing Dataset might resolve this warning.\n",
      "[LightGBM] [Info] This is the GPU trainer!!\n",
      "[LightGBM] [Info] Total Bins 0\n",
      "[LightGBM] [Info] Number of data points in the train set: 2, number of used features: 0\n",
      "[LightGBM] [Warning] There are no meaningful features which satisfy the provided configuration. Decreasing Dataset parameters min_data_in_bin or min_data_in_leaf and re-constructing Dataset might resolve this warning.\n",
      "[LightGBM] [Warning] Using sparse features with CUDA is currently not supported.\n"
     ]
    },
    {
     "name": "stderr",
     "output_type": "stream",
     "text": [
      "[LightGBM] [Fatal] CUDA Tree Learner was not enabled in this build.\n",
      "Please recompile with CMake option -DUSE_CUDA=1\n"
     ]
    },
    {
     "data": {
      "text/plain": "<pandas.io.formats.style.Styler at 0x7fef3bf34050>",
      "text/html": "<style type=\"text/css\">\n#T_b3c82_row8_col1, #T_b3c82_row12_col1, #T_b3c82_row17_col1 {\n  background-color: lightgreen;\n}\n</style>\n<table id=\"T_b3c82\">\n  <thead>\n    <tr>\n      <th class=\"blank level0\" >&nbsp;</th>\n      <th id=\"T_b3c82_level0_col0\" class=\"col_heading level0 col0\" >Description</th>\n      <th id=\"T_b3c82_level0_col1\" class=\"col_heading level0 col1\" >Value</th>\n    </tr>\n  </thead>\n  <tbody>\n    <tr>\n      <th id=\"T_b3c82_level0_row0\" class=\"row_heading level0 row0\" >0</th>\n      <td id=\"T_b3c82_row0_col0\" class=\"data row0 col0\" >Session id</td>\n      <td id=\"T_b3c82_row0_col1\" class=\"data row0 col1\" >123</td>\n    </tr>\n    <tr>\n      <th id=\"T_b3c82_level0_row1\" class=\"row_heading level0 row1\" >1</th>\n      <td id=\"T_b3c82_row1_col0\" class=\"data row1 col0\" >Target</td>\n      <td id=\"T_b3c82_row1_col1\" class=\"data row1 col1\" >is_legit</td>\n    </tr>\n    <tr>\n      <th id=\"T_b3c82_level0_row2\" class=\"row_heading level0 row2\" >2</th>\n      <td id=\"T_b3c82_row2_col0\" class=\"data row2 col0\" >Target type</td>\n      <td id=\"T_b3c82_row2_col1\" class=\"data row2 col1\" >Regression</td>\n    </tr>\n    <tr>\n      <th id=\"T_b3c82_level0_row3\" class=\"row_heading level0 row3\" >3</th>\n      <td id=\"T_b3c82_row3_col0\" class=\"data row3 col0\" >Original data shape</td>\n      <td id=\"T_b3c82_row3_col1\" class=\"data row3 col1\" >(239257, 11)</td>\n    </tr>\n    <tr>\n      <th id=\"T_b3c82_level0_row4\" class=\"row_heading level0 row4\" >4</th>\n      <td id=\"T_b3c82_row4_col0\" class=\"data row4 col0\" >Transformed data shape</td>\n      <td id=\"T_b3c82_row4_col1\" class=\"data row4 col1\" >(239257, 11)</td>\n    </tr>\n    <tr>\n      <th id=\"T_b3c82_level0_row5\" class=\"row_heading level0 row5\" >5</th>\n      <td id=\"T_b3c82_row5_col0\" class=\"data row5 col0\" >Transformed train set shape</td>\n      <td id=\"T_b3c82_row5_col1\" class=\"data row5 col1\" >(167479, 11)</td>\n    </tr>\n    <tr>\n      <th id=\"T_b3c82_level0_row6\" class=\"row_heading level0 row6\" >6</th>\n      <td id=\"T_b3c82_row6_col0\" class=\"data row6 col0\" >Transformed test set shape</td>\n      <td id=\"T_b3c82_row6_col1\" class=\"data row6 col1\" >(71778, 11)</td>\n    </tr>\n    <tr>\n      <th id=\"T_b3c82_level0_row7\" class=\"row_heading level0 row7\" >7</th>\n      <td id=\"T_b3c82_row7_col0\" class=\"data row7 col0\" >Numeric features</td>\n      <td id=\"T_b3c82_row7_col1\" class=\"data row7 col1\" >10</td>\n    </tr>\n    <tr>\n      <th id=\"T_b3c82_level0_row8\" class=\"row_heading level0 row8\" >8</th>\n      <td id=\"T_b3c82_row8_col0\" class=\"data row8 col0\" >Preprocess</td>\n      <td id=\"T_b3c82_row8_col1\" class=\"data row8 col1\" >True</td>\n    </tr>\n    <tr>\n      <th id=\"T_b3c82_level0_row9\" class=\"row_heading level0 row9\" >9</th>\n      <td id=\"T_b3c82_row9_col0\" class=\"data row9 col0\" >Imputation type</td>\n      <td id=\"T_b3c82_row9_col1\" class=\"data row9 col1\" >simple</td>\n    </tr>\n    <tr>\n      <th id=\"T_b3c82_level0_row10\" class=\"row_heading level0 row10\" >10</th>\n      <td id=\"T_b3c82_row10_col0\" class=\"data row10 col0\" >Numeric imputation</td>\n      <td id=\"T_b3c82_row10_col1\" class=\"data row10 col1\" >mean</td>\n    </tr>\n    <tr>\n      <th id=\"T_b3c82_level0_row11\" class=\"row_heading level0 row11\" >11</th>\n      <td id=\"T_b3c82_row11_col0\" class=\"data row11 col0\" >Categorical imputation</td>\n      <td id=\"T_b3c82_row11_col1\" class=\"data row11 col1\" >mode</td>\n    </tr>\n    <tr>\n      <th id=\"T_b3c82_level0_row12\" class=\"row_heading level0 row12\" >12</th>\n      <td id=\"T_b3c82_row12_col0\" class=\"data row12 col0\" >Normalize</td>\n      <td id=\"T_b3c82_row12_col1\" class=\"data row12 col1\" >True</td>\n    </tr>\n    <tr>\n      <th id=\"T_b3c82_level0_row13\" class=\"row_heading level0 row13\" >13</th>\n      <td id=\"T_b3c82_row13_col0\" class=\"data row13 col0\" >Normalize method</td>\n      <td id=\"T_b3c82_row13_col1\" class=\"data row13 col1\" >zscore</td>\n    </tr>\n    <tr>\n      <th id=\"T_b3c82_level0_row14\" class=\"row_heading level0 row14\" >14</th>\n      <td id=\"T_b3c82_row14_col0\" class=\"data row14 col0\" >Fold Generator</td>\n      <td id=\"T_b3c82_row14_col1\" class=\"data row14 col1\" >KFold</td>\n    </tr>\n    <tr>\n      <th id=\"T_b3c82_level0_row15\" class=\"row_heading level0 row15\" >15</th>\n      <td id=\"T_b3c82_row15_col0\" class=\"data row15 col0\" >Fold Number</td>\n      <td id=\"T_b3c82_row15_col1\" class=\"data row15 col1\" >10</td>\n    </tr>\n    <tr>\n      <th id=\"T_b3c82_level0_row16\" class=\"row_heading level0 row16\" >16</th>\n      <td id=\"T_b3c82_row16_col0\" class=\"data row16 col0\" >CPU Jobs</td>\n      <td id=\"T_b3c82_row16_col1\" class=\"data row16 col1\" >-1</td>\n    </tr>\n    <tr>\n      <th id=\"T_b3c82_level0_row17\" class=\"row_heading level0 row17\" >17</th>\n      <td id=\"T_b3c82_row17_col0\" class=\"data row17 col0\" >Use GPU</td>\n      <td id=\"T_b3c82_row17_col1\" class=\"data row17 col1\" >True</td>\n    </tr>\n    <tr>\n      <th id=\"T_b3c82_level0_row18\" class=\"row_heading level0 row18\" >18</th>\n      <td id=\"T_b3c82_row18_col0\" class=\"data row18 col0\" >Log Experiment</td>\n      <td id=\"T_b3c82_row18_col1\" class=\"data row18 col1\" >False</td>\n    </tr>\n    <tr>\n      <th id=\"T_b3c82_level0_row19\" class=\"row_heading level0 row19\" >19</th>\n      <td id=\"T_b3c82_row19_col0\" class=\"data row19 col0\" >Experiment Name</td>\n      <td id=\"T_b3c82_row19_col1\" class=\"data row19 col1\" >semantic_regression</td>\n    </tr>\n    <tr>\n      <th id=\"T_b3c82_level0_row20\" class=\"row_heading level0 row20\" >20</th>\n      <td id=\"T_b3c82_row20_col0\" class=\"data row20 col0\" >USI</td>\n      <td id=\"T_b3c82_row20_col1\" class=\"data row20 col1\" >6c29</td>\n    </tr>\n  </tbody>\n</table>\n"
     },
     "metadata": {},
     "output_type": "display_data"
    },
    {
     "name": "stdout",
     "output_type": "stream",
     "text": [
      "[LightGBM] [Warning] There are no meaningful features which satisfy the provided configuration. Decreasing Dataset parameters min_data_in_bin or min_data_in_leaf and re-constructing Dataset might resolve this warning.\n",
      "[LightGBM] [Info] This is the GPU trainer!!\n",
      "[LightGBM] [Info] Total Bins 0\n",
      "[LightGBM] [Info] Number of data points in the train set: 2, number of used features: 0\n",
      "[LightGBM] [Warning] There are no meaningful features which satisfy the provided configuration. Decreasing Dataset parameters min_data_in_bin or min_data_in_leaf and re-constructing Dataset might resolve this warning.\n",
      "[LightGBM] [Warning] Using sparse features with CUDA is currently not supported.\n",
      "[LightGBM] [Warning] There are no meaningful features which satisfy the provided configuration. Decreasing Dataset parameters min_data_in_bin or min_data_in_leaf and re-constructing Dataset might resolve this warning.\n",
      "[LightGBM] [Info] This is the GPU trainer!!\n",
      "[LightGBM] [Info] Total Bins 0\n",
      "[LightGBM] [Info] Number of data points in the train set: 2, number of used features: 0\n",
      "[LightGBM] [Warning] There are no meaningful features which satisfy the provided configuration. Decreasing Dataset parameters min_data_in_bin or min_data_in_leaf and re-constructing Dataset might resolve this warning.\n",
      "[LightGBM] [Warning] Using sparse features with CUDA is currently not supported.\n"
     ]
    },
    {
     "name": "stderr",
     "output_type": "stream",
     "text": [
      "[LightGBM] [Fatal] CUDA Tree Learner was not enabled in this build.\n",
      "Please recompile with CMake option -DUSE_CUDA=1\n",
      "[LightGBM] [Fatal] CUDA Tree Learner was not enabled in this build.\n",
      "Please recompile with CMake option -DUSE_CUDA=1\n"
     ]
    },
    {
     "data": {
      "text/plain": "<pycaret.regression.oop.RegressionExperiment at 0x7fef84385250>"
     },
     "execution_count": 30,
     "metadata": {},
     "output_type": "execute_result"
    }
   ],
   "source": [
    "r = RegressionExperiment()\n",
    "r.setup(data=df_semantic, target='is_legit', session_id=123, use_gpu=True, log_experiment=False,\n",
    "        experiment_name='semantic_regression', normalize=True)"
   ]
  },
  {
   "cell_type": "code",
   "outputs": [
    {
     "data": {
      "text/plain": "                                                                    \n                                                                    \nInitiated  . . . . . . . . . . . . . . . . . .              16:06:58\nStatus     . . . . . . . . . . . . . . . . . .  Loading Dependencies\nEstimator  . . . . . . . . . . . . . . . . . .     Compiling Library",
      "text/html": "<div>\n<style scoped>\n    .dataframe tbody tr th:only-of-type {\n        vertical-align: middle;\n    }\n\n    .dataframe tbody tr th {\n        vertical-align: top;\n    }\n\n    .dataframe thead th {\n        text-align: right;\n    }\n</style>\n<table border=\"1\" class=\"dataframe\">\n  <thead>\n    <tr style=\"text-align: right;\">\n      <th></th>\n      <th></th>\n      <th></th>\n    </tr>\n    <tr>\n      <th></th>\n      <th></th>\n      <th></th>\n    </tr>\n  </thead>\n  <tbody>\n    <tr>\n      <th>Initiated</th>\n      <td>. . . . . . . . . . . . . . . . . .</td>\n      <td>16:06:58</td>\n    </tr>\n    <tr>\n      <th>Status</th>\n      <td>. . . . . . . . . . . . . . . . . .</td>\n      <td>Loading Dependencies</td>\n    </tr>\n    <tr>\n      <th>Estimator</th>\n      <td>. . . . . . . . . . . . . . . . . .</td>\n      <td>Compiling Library</td>\n    </tr>\n  </tbody>\n</table>\n</div>"
     },
     "metadata": {},
     "output_type": "display_data"
    },
    {
     "data": {
      "text/plain": "<IPython.core.display.HTML object>",
      "text/html": ""
     },
     "metadata": {},
     "output_type": "display_data"
    },
    {
     "data": {
      "text/plain": "<pandas.io.formats.style.Styler at 0x7fef17410a10>",
      "text/html": "<style type=\"text/css\">\n#T_582b8 th {\n  text-align: left;\n}\n#T_582b8_row0_col0, #T_582b8_row0_col1, #T_582b8_row0_col6, #T_582b8_row1_col0, #T_582b8_row1_col1, #T_582b8_row1_col2, #T_582b8_row1_col3, #T_582b8_row1_col4, #T_582b8_row1_col5, #T_582b8_row1_col6, #T_582b8_row2_col0, #T_582b8_row2_col1, #T_582b8_row2_col2, #T_582b8_row2_col3, #T_582b8_row2_col4, #T_582b8_row2_col5, #T_582b8_row2_col6, #T_582b8_row3_col0, #T_582b8_row3_col2, #T_582b8_row3_col3, #T_582b8_row3_col4, #T_582b8_row3_col5, #T_582b8_row4_col0, #T_582b8_row4_col1, #T_582b8_row4_col2, #T_582b8_row4_col3, #T_582b8_row4_col4, #T_582b8_row4_col5, #T_582b8_row4_col6, #T_582b8_row5_col0, #T_582b8_row5_col1, #T_582b8_row5_col2, #T_582b8_row5_col3, #T_582b8_row5_col4, #T_582b8_row5_col5, #T_582b8_row5_col6, #T_582b8_row6_col0, #T_582b8_row6_col1, #T_582b8_row6_col2, #T_582b8_row6_col3, #T_582b8_row6_col4, #T_582b8_row6_col5, #T_582b8_row6_col6, #T_582b8_row7_col0, #T_582b8_row7_col1, #T_582b8_row7_col2, #T_582b8_row7_col3, #T_582b8_row7_col4, #T_582b8_row7_col5, #T_582b8_row7_col6, #T_582b8_row8_col0, #T_582b8_row8_col1, #T_582b8_row8_col2, #T_582b8_row8_col3, #T_582b8_row8_col4, #T_582b8_row8_col5, #T_582b8_row8_col6, #T_582b8_row9_col0, #T_582b8_row9_col1, #T_582b8_row9_col2, #T_582b8_row9_col3, #T_582b8_row9_col4, #T_582b8_row9_col5, #T_582b8_row9_col6, #T_582b8_row10_col0, #T_582b8_row10_col1, #T_582b8_row10_col2, #T_582b8_row10_col3, #T_582b8_row10_col4, #T_582b8_row10_col5, #T_582b8_row10_col6, #T_582b8_row11_col0, #T_582b8_row11_col1, #T_582b8_row11_col2, #T_582b8_row11_col3, #T_582b8_row11_col4, #T_582b8_row11_col5, #T_582b8_row11_col6, #T_582b8_row12_col0, #T_582b8_row12_col1, #T_582b8_row12_col2, #T_582b8_row12_col3, #T_582b8_row12_col4, #T_582b8_row12_col5, #T_582b8_row12_col6, #T_582b8_row13_col0, #T_582b8_row13_col1, #T_582b8_row13_col2, #T_582b8_row13_col3, #T_582b8_row13_col4, #T_582b8_row13_col5, #T_582b8_row13_col6, #T_582b8_row14_col0, #T_582b8_row14_col1, #T_582b8_row14_col2, #T_582b8_row14_col3, #T_582b8_row14_col4, #T_582b8_row14_col5, #T_582b8_row14_col6, #T_582b8_row15_col0, #T_582b8_row15_col1, #T_582b8_row15_col2, #T_582b8_row15_col3, #T_582b8_row15_col4, #T_582b8_row15_col5, #T_582b8_row15_col6, #T_582b8_row16_col0, #T_582b8_row16_col1, #T_582b8_row16_col2, #T_582b8_row16_col3, #T_582b8_row16_col4, #T_582b8_row16_col5, #T_582b8_row16_col6, #T_582b8_row17_col0, #T_582b8_row17_col1, #T_582b8_row17_col2, #T_582b8_row17_col3, #T_582b8_row17_col4, #T_582b8_row17_col5, #T_582b8_row17_col6 {\n  text-align: left;\n}\n#T_582b8_row0_col2, #T_582b8_row0_col3, #T_582b8_row0_col4, #T_582b8_row0_col5, #T_582b8_row3_col1, #T_582b8_row3_col6 {\n  text-align: left;\n  background-color: yellow;\n}\n#T_582b8_row0_col7, #T_582b8_row1_col7, #T_582b8_row2_col7, #T_582b8_row3_col7, #T_582b8_row4_col7, #T_582b8_row5_col7, #T_582b8_row6_col7, #T_582b8_row7_col7, #T_582b8_row8_col7, #T_582b8_row9_col7, #T_582b8_row10_col7, #T_582b8_row11_col7, #T_582b8_row12_col7, #T_582b8_row13_col7, #T_582b8_row14_col7, #T_582b8_row15_col7, #T_582b8_row17_col7 {\n  text-align: left;\n  background-color: lightgrey;\n}\n#T_582b8_row16_col7 {\n  text-align: left;\n  background-color: yellow;\n  background-color: lightgrey;\n}\n</style>\n<table id=\"T_582b8\">\n  <thead>\n    <tr>\n      <th class=\"blank level0\" >&nbsp;</th>\n      <th id=\"T_582b8_level0_col0\" class=\"col_heading level0 col0\" >Model</th>\n      <th id=\"T_582b8_level0_col1\" class=\"col_heading level0 col1\" >MAE</th>\n      <th id=\"T_582b8_level0_col2\" class=\"col_heading level0 col2\" >MSE</th>\n      <th id=\"T_582b8_level0_col3\" class=\"col_heading level0 col3\" >RMSE</th>\n      <th id=\"T_582b8_level0_col4\" class=\"col_heading level0 col4\" >R2</th>\n      <th id=\"T_582b8_level0_col5\" class=\"col_heading level0 col5\" >RMSLE</th>\n      <th id=\"T_582b8_level0_col6\" class=\"col_heading level0 col6\" >MAPE</th>\n      <th id=\"T_582b8_level0_col7\" class=\"col_heading level0 col7\" >TT (Sec)</th>\n    </tr>\n  </thead>\n  <tbody>\n    <tr>\n      <th id=\"T_582b8_level0_row0\" class=\"row_heading level0 row0\" >lightgbm</th>\n      <td id=\"T_582b8_row0_col0\" class=\"data row0 col0\" >Light Gradient Boosting Machine</td>\n      <td id=\"T_582b8_row0_col1\" class=\"data row0 col1\" >0.3074</td>\n      <td id=\"T_582b8_row0_col2\" class=\"data row0 col2\" >0.1516</td>\n      <td id=\"T_582b8_row0_col3\" class=\"data row0 col3\" >0.3894</td>\n      <td id=\"T_582b8_row0_col4\" class=\"data row0 col4\" >0.2992</td>\n      <td id=\"T_582b8_row0_col5\" class=\"data row0 col5\" >0.2734</td>\n      <td id=\"T_582b8_row0_col6\" class=\"data row0 col6\" >0.4842</td>\n      <td id=\"T_582b8_row0_col7\" class=\"data row0 col7\" >1.4360</td>\n    </tr>\n    <tr>\n      <th id=\"T_582b8_level0_row1\" class=\"row_heading level0 row1\" >gbr</th>\n      <td id=\"T_582b8_row1_col0\" class=\"data row1 col0\" >Gradient Boosting Regressor</td>\n      <td id=\"T_582b8_row1_col1\" class=\"data row1 col1\" >0.3279</td>\n      <td id=\"T_582b8_row1_col2\" class=\"data row1 col2\" >0.1581</td>\n      <td id=\"T_582b8_row1_col3\" class=\"data row1 col3\" >0.3976</td>\n      <td id=\"T_582b8_row1_col4\" class=\"data row1 col4\" >0.2692</td>\n      <td id=\"T_582b8_row1_col5\" class=\"data row1 col5\" >0.2798</td>\n      <td id=\"T_582b8_row1_col6\" class=\"data row1 col6\" >0.5094</td>\n      <td id=\"T_582b8_row1_col7\" class=\"data row1 col7\" >6.2360</td>\n    </tr>\n    <tr>\n      <th id=\"T_582b8_level0_row2\" class=\"row_heading level0 row2\" >rf</th>\n      <td id=\"T_582b8_row2_col0\" class=\"data row2 col0\" >Random Forest Regressor</td>\n      <td id=\"T_582b8_row2_col1\" class=\"data row2 col1\" >0.2970</td>\n      <td id=\"T_582b8_row2_col2\" class=\"data row2 col2\" >0.1592</td>\n      <td id=\"T_582b8_row2_col3\" class=\"data row2 col3\" >0.3991</td>\n      <td id=\"T_582b8_row2_col4\" class=\"data row2 col4\" >0.2639</td>\n      <td id=\"T_582b8_row2_col5\" class=\"data row2 col5\" >0.2810</td>\n      <td id=\"T_582b8_row2_col6\" class=\"data row2 col6\" >0.4650</td>\n      <td id=\"T_582b8_row2_col7\" class=\"data row2 col7\" >1.4480</td>\n    </tr>\n    <tr>\n      <th id=\"T_582b8_level0_row3\" class=\"row_heading level0 row3\" >et</th>\n      <td id=\"T_582b8_row3_col0\" class=\"data row3 col0\" >Extra Trees Regressor</td>\n      <td id=\"T_582b8_row3_col1\" class=\"data row3 col1\" >0.2951</td>\n      <td id=\"T_582b8_row3_col2\" class=\"data row3 col2\" >0.1635</td>\n      <td id=\"T_582b8_row3_col3\" class=\"data row3 col3\" >0.4043</td>\n      <td id=\"T_582b8_row3_col4\" class=\"data row3 col4\" >0.2443</td>\n      <td id=\"T_582b8_row3_col5\" class=\"data row3 col5\" >0.2844</td>\n      <td id=\"T_582b8_row3_col6\" class=\"data row3 col6\" >0.4638</td>\n      <td id=\"T_582b8_row3_col7\" class=\"data row3 col7\" >0.7960</td>\n    </tr>\n    <tr>\n      <th id=\"T_582b8_level0_row4\" class=\"row_heading level0 row4\" >dt</th>\n      <td id=\"T_582b8_row4_col0\" class=\"data row4 col0\" >Decision Tree Regressor</td>\n      <td id=\"T_582b8_row4_col1\" class=\"data row4 col1\" >0.2957</td>\n      <td id=\"T_582b8_row4_col2\" class=\"data row4 col2\" >0.1725</td>\n      <td id=\"T_582b8_row4_col3\" class=\"data row4 col3\" >0.4154</td>\n      <td id=\"T_582b8_row4_col4\" class=\"data row4 col4\" >0.2025</td>\n      <td id=\"T_582b8_row4_col5\" class=\"data row4 col5\" >0.2916</td>\n      <td id=\"T_582b8_row4_col6\" class=\"data row4 col6\" >0.4641</td>\n      <td id=\"T_582b8_row4_col7\" class=\"data row4 col7\" >0.2360</td>\n    </tr>\n    <tr>\n      <th id=\"T_582b8_level0_row5\" class=\"row_heading level0 row5\" >knn</th>\n      <td id=\"T_582b8_row5_col0\" class=\"data row5 col0\" >K Neighbors Regressor</td>\n      <td id=\"T_582b8_row5_col1\" class=\"data row5 col1\" >0.3012</td>\n      <td id=\"T_582b8_row5_col2\" class=\"data row5 col2\" >0.1802</td>\n      <td id=\"T_582b8_row5_col3\" class=\"data row5 col3\" >0.4245</td>\n      <td id=\"T_582b8_row5_col4\" class=\"data row5 col4\" >0.1672</td>\n      <td id=\"T_582b8_row5_col5\" class=\"data row5 col5\" >0.2988</td>\n      <td id=\"T_582b8_row5_col6\" class=\"data row5 col6\" >0.4641</td>\n      <td id=\"T_582b8_row5_col7\" class=\"data row5 col7\" >0.5940</td>\n    </tr>\n    <tr>\n      <th id=\"T_582b8_level0_row6\" class=\"row_heading level0 row6\" >lr</th>\n      <td id=\"T_582b8_row6_col0\" class=\"data row6 col0\" >Linear Regression</td>\n      <td id=\"T_582b8_row6_col1\" class=\"data row6 col1\" >0.3738</td>\n      <td id=\"T_582b8_row6_col2\" class=\"data row6 col2\" >0.1814</td>\n      <td id=\"T_582b8_row6_col3\" class=\"data row6 col3\" >0.4259</td>\n      <td id=\"T_582b8_row6_col4\" class=\"data row6 col4\" >0.1614</td>\n      <td id=\"T_582b8_row6_col5\" class=\"data row6 col5\" >0.3007</td>\n      <td id=\"T_582b8_row6_col6\" class=\"data row6 col6\" >0.5733</td>\n      <td id=\"T_582b8_row6_col7\" class=\"data row6 col7\" >0.0760</td>\n    </tr>\n    <tr>\n      <th id=\"T_582b8_level0_row7\" class=\"row_heading level0 row7\" >ridge</th>\n      <td id=\"T_582b8_row7_col0\" class=\"data row7 col0\" >Ridge Regression</td>\n      <td id=\"T_582b8_row7_col1\" class=\"data row7 col1\" >0.3738</td>\n      <td id=\"T_582b8_row7_col2\" class=\"data row7 col2\" >0.1814</td>\n      <td id=\"T_582b8_row7_col3\" class=\"data row7 col3\" >0.4259</td>\n      <td id=\"T_582b8_row7_col4\" class=\"data row7 col4\" >0.1614</td>\n      <td id=\"T_582b8_row7_col5\" class=\"data row7 col5\" >0.3007</td>\n      <td id=\"T_582b8_row7_col6\" class=\"data row7 col6\" >0.5733</td>\n      <td id=\"T_582b8_row7_col7\" class=\"data row7 col7\" >0.0440</td>\n    </tr>\n    <tr>\n      <th id=\"T_582b8_level0_row8\" class=\"row_heading level0 row8\" >br</th>\n      <td id=\"T_582b8_row8_col0\" class=\"data row8 col0\" >Bayesian Ridge</td>\n      <td id=\"T_582b8_row8_col1\" class=\"data row8 col1\" >0.3738</td>\n      <td id=\"T_582b8_row8_col2\" class=\"data row8 col2\" >0.1814</td>\n      <td id=\"T_582b8_row8_col3\" class=\"data row8 col3\" >0.4259</td>\n      <td id=\"T_582b8_row8_col4\" class=\"data row8 col4\" >0.1614</td>\n      <td id=\"T_582b8_row8_col5\" class=\"data row8 col5\" >0.3007</td>\n      <td id=\"T_582b8_row8_col6\" class=\"data row8 col6\" >0.5734</td>\n      <td id=\"T_582b8_row8_col7\" class=\"data row8 col7\" >0.1020</td>\n    </tr>\n    <tr>\n      <th id=\"T_582b8_level0_row9\" class=\"row_heading level0 row9\" >ada</th>\n      <td id=\"T_582b8_row9_col0\" class=\"data row9 col0\" >AdaBoost Regressor</td>\n      <td id=\"T_582b8_row9_col1\" class=\"data row9 col1\" >0.3936</td>\n      <td id=\"T_582b8_row9_col2\" class=\"data row9 col2\" >0.1851</td>\n      <td id=\"T_582b8_row9_col3\" class=\"data row9 col3\" >0.4302</td>\n      <td id=\"T_582b8_row9_col4\" class=\"data row9 col4\" >0.1444</td>\n      <td id=\"T_582b8_row9_col5\" class=\"data row9 col5\" >0.3105</td>\n      <td id=\"T_582b8_row9_col6\" class=\"data row9 col6\" >0.5303</td>\n      <td id=\"T_582b8_row9_col7\" class=\"data row9 col7\" >1.9740</td>\n    </tr>\n    <tr>\n      <th id=\"T_582b8_level0_row10\" class=\"row_heading level0 row10\" >lar</th>\n      <td id=\"T_582b8_row10_col0\" class=\"data row10 col0\" >Least Angle Regression</td>\n      <td id=\"T_582b8_row10_col1\" class=\"data row10 col1\" >0.3811</td>\n      <td id=\"T_582b8_row10_col2\" class=\"data row10 col2\" >0.1958</td>\n      <td id=\"T_582b8_row10_col3\" class=\"data row10 col3\" >0.4422</td>\n      <td id=\"T_582b8_row10_col4\" class=\"data row10 col4\" >0.0948</td>\n      <td id=\"T_582b8_row10_col5\" class=\"data row10 col5\" >0.3117</td>\n      <td id=\"T_582b8_row10_col6\" class=\"data row10 col6\" >0.5738</td>\n      <td id=\"T_582b8_row10_col7\" class=\"data row10 col7\" >0.0540</td>\n    </tr>\n    <tr>\n      <th id=\"T_582b8_level0_row11\" class=\"row_heading level0 row11\" >omp</th>\n      <td id=\"T_582b8_row11_col0\" class=\"data row11 col0\" >Orthogonal Matching Pursuit</td>\n      <td id=\"T_582b8_row11_col1\" class=\"data row11 col1\" >0.4022</td>\n      <td id=\"T_582b8_row11_col2\" class=\"data row11 col2\" >0.1968</td>\n      <td id=\"T_582b8_row11_col3\" class=\"data row11 col3\" >0.4436</td>\n      <td id=\"T_582b8_row11_col4\" class=\"data row11 col4\" >0.0905</td>\n      <td id=\"T_582b8_row11_col5\" class=\"data row11 col5\" >0.3127</td>\n      <td id=\"T_582b8_row11_col6\" class=\"data row11 col6\" >0.6215</td>\n      <td id=\"T_582b8_row11_col7\" class=\"data row11 col7\" >0.0560</td>\n    </tr>\n    <tr>\n      <th id=\"T_582b8_level0_row12\" class=\"row_heading level0 row12\" >huber</th>\n      <td id=\"T_582b8_row12_col0\" class=\"data row12 col0\" >Huber Regressor</td>\n      <td id=\"T_582b8_row12_col1\" class=\"data row12 col1\" >0.3369</td>\n      <td id=\"T_582b8_row12_col2\" class=\"data row12 col2\" >0.1998</td>\n      <td id=\"T_582b8_row12_col3\" class=\"data row12 col3\" >0.4470</td>\n      <td id=\"T_582b8_row12_col4\" class=\"data row12 col4\" >0.0766</td>\n      <td id=\"T_582b8_row12_col5\" class=\"data row12 col5\" >0.3039</td>\n      <td id=\"T_582b8_row12_col6\" class=\"data row12 col6\" >0.6905</td>\n      <td id=\"T_582b8_row12_col7\" class=\"data row12 col7\" >0.4140</td>\n    </tr>\n    <tr>\n      <th id=\"T_582b8_level0_row13\" class=\"row_heading level0 row13\" >lasso</th>\n      <td id=\"T_582b8_row13_col0\" class=\"data row13 col0\" >Lasso Regression</td>\n      <td id=\"T_582b8_row13_col1\" class=\"data row13 col1\" >0.4327</td>\n      <td id=\"T_582b8_row13_col2\" class=\"data row13 col2\" >0.2164</td>\n      <td id=\"T_582b8_row13_col3\" class=\"data row13 col3\" >0.4651</td>\n      <td id=\"T_582b8_row13_col4\" class=\"data row13 col4\" >-0.0000</td>\n      <td id=\"T_582b8_row13_col5\" class=\"data row13 col5\" >0.3273</td>\n      <td id=\"T_582b8_row13_col6\" class=\"data row13 col6\" >0.6834</td>\n      <td id=\"T_582b8_row13_col7\" class=\"data row13 col7\" >0.0680</td>\n    </tr>\n    <tr>\n      <th id=\"T_582b8_level0_row14\" class=\"row_heading level0 row14\" >en</th>\n      <td id=\"T_582b8_row14_col0\" class=\"data row14 col0\" >Elastic Net</td>\n      <td id=\"T_582b8_row14_col1\" class=\"data row14 col1\" >0.4327</td>\n      <td id=\"T_582b8_row14_col2\" class=\"data row14 col2\" >0.2164</td>\n      <td id=\"T_582b8_row14_col3\" class=\"data row14 col3\" >0.4651</td>\n      <td id=\"T_582b8_row14_col4\" class=\"data row14 col4\" >-0.0000</td>\n      <td id=\"T_582b8_row14_col5\" class=\"data row14 col5\" >0.3273</td>\n      <td id=\"T_582b8_row14_col6\" class=\"data row14 col6\" >0.6834</td>\n      <td id=\"T_582b8_row14_col7\" class=\"data row14 col7\" >0.0540</td>\n    </tr>\n    <tr>\n      <th id=\"T_582b8_level0_row15\" class=\"row_heading level0 row15\" >llar</th>\n      <td id=\"T_582b8_row15_col0\" class=\"data row15 col0\" >Lasso Least Angle Regression</td>\n      <td id=\"T_582b8_row15_col1\" class=\"data row15 col1\" >0.4327</td>\n      <td id=\"T_582b8_row15_col2\" class=\"data row15 col2\" >0.2164</td>\n      <td id=\"T_582b8_row15_col3\" class=\"data row15 col3\" >0.4651</td>\n      <td id=\"T_582b8_row15_col4\" class=\"data row15 col4\" >-0.0000</td>\n      <td id=\"T_582b8_row15_col5\" class=\"data row15 col5\" >0.3273</td>\n      <td id=\"T_582b8_row15_col6\" class=\"data row15 col6\" >0.6834</td>\n      <td id=\"T_582b8_row15_col7\" class=\"data row15 col7\" >0.0580</td>\n    </tr>\n    <tr>\n      <th id=\"T_582b8_level0_row16\" class=\"row_heading level0 row16\" >dummy</th>\n      <td id=\"T_582b8_row16_col0\" class=\"data row16 col0\" >Dummy Regressor</td>\n      <td id=\"T_582b8_row16_col1\" class=\"data row16 col1\" >0.4327</td>\n      <td id=\"T_582b8_row16_col2\" class=\"data row16 col2\" >0.2164</td>\n      <td id=\"T_582b8_row16_col3\" class=\"data row16 col3\" >0.4651</td>\n      <td id=\"T_582b8_row16_col4\" class=\"data row16 col4\" >-0.0000</td>\n      <td id=\"T_582b8_row16_col5\" class=\"data row16 col5\" >0.3273</td>\n      <td id=\"T_582b8_row16_col6\" class=\"data row16 col6\" >0.6834</td>\n      <td id=\"T_582b8_row16_col7\" class=\"data row16 col7\" >0.0340</td>\n    </tr>\n    <tr>\n      <th id=\"T_582b8_level0_row17\" class=\"row_heading level0 row17\" >par</th>\n      <td id=\"T_582b8_row17_col0\" class=\"data row17 col0\" >Passive Aggressive Regressor</td>\n      <td id=\"T_582b8_row17_col1\" class=\"data row17 col1\" >0.6464</td>\n      <td id=\"T_582b8_row17_col2\" class=\"data row17 col2\" >0.6536</td>\n      <td id=\"T_582b8_row17_col3\" class=\"data row17 col3\" >0.7978</td>\n      <td id=\"T_582b8_row17_col4\" class=\"data row17 col4\" >-2.0192</td>\n      <td id=\"T_582b8_row17_col5\" class=\"data row17 col5\" >0.4567</td>\n      <td id=\"T_582b8_row17_col6\" class=\"data row17 col6\" >0.8778</td>\n      <td id=\"T_582b8_row17_col7\" class=\"data row17 col7\" >0.1460</td>\n    </tr>\n  </tbody>\n</table>\n"
     },
     "metadata": {},
     "output_type": "display_data"
    }
   ],
   "source": [
    "best_regression_model = r.compare_models(fold=5)"
   ],
   "metadata": {
    "collapsed": false,
    "tags": [],
    "ExecuteTime": {
     "end_time": "2024-03-28T16:08:11.870789Z",
     "start_time": "2024-03-28T16:06:58.040570Z"
    }
   },
   "id": "ccb21b2418747d88",
   "execution_count": 31
  },
  {
   "cell_type": "code",
   "outputs": [
    {
     "name": "stdout",
     "output_type": "stream",
     "text": [
      "LGBMRegressor(n_jobs=-1, random_state=123)\n"
     ]
    }
   ],
   "source": [
    "print(best_regression_model)"
   ],
   "metadata": {
    "collapsed": false,
    "ExecuteTime": {
     "end_time": "2024-03-28T16:08:11.876398Z",
     "start_time": "2024-03-28T16:08:11.873441Z"
    }
   },
   "id": "e63c3e9df74e5eda",
   "execution_count": 32
  },
  {
   "cell_type": "code",
   "outputs": [
    {
     "data": {
      "text/plain": "<pandas.io.formats.style.Styler at 0x7fef399b7850>",
      "text/html": "<style type=\"text/css\">\n</style>\n<table id=\"T_41f04\">\n  <thead>\n    <tr>\n      <th class=\"blank level0\" >&nbsp;</th>\n      <th id=\"T_41f04_level0_col0\" class=\"col_heading level0 col0\" >Model</th>\n      <th id=\"T_41f04_level0_col1\" class=\"col_heading level0 col1\" >MAE</th>\n      <th id=\"T_41f04_level0_col2\" class=\"col_heading level0 col2\" >MSE</th>\n      <th id=\"T_41f04_level0_col3\" class=\"col_heading level0 col3\" >RMSE</th>\n      <th id=\"T_41f04_level0_col4\" class=\"col_heading level0 col4\" >R2</th>\n      <th id=\"T_41f04_level0_col5\" class=\"col_heading level0 col5\" >RMSLE</th>\n      <th id=\"T_41f04_level0_col6\" class=\"col_heading level0 col6\" >MAPE</th>\n    </tr>\n  </thead>\n  <tbody>\n    <tr>\n      <th id=\"T_41f04_level0_row0\" class=\"row_heading level0 row0\" >0</th>\n      <td id=\"T_41f04_row0_col0\" class=\"data row0 col0\" >Light Gradient Boosting Machine</td>\n      <td id=\"T_41f04_row0_col1\" class=\"data row0 col1\" >0.3062</td>\n      <td id=\"T_41f04_row0_col2\" class=\"data row0 col2\" >0.1504</td>\n      <td id=\"T_41f04_row0_col3\" class=\"data row0 col3\" >0.3878</td>\n      <td id=\"T_41f04_row0_col4\" class=\"data row0 col4\" >0.3052</td>\n      <td id=\"T_41f04_row0_col5\" class=\"data row0 col5\" >0.2722</td>\n      <td id=\"T_41f04_row0_col6\" class=\"data row0 col6\" >0.4827</td>\n    </tr>\n  </tbody>\n</table>\n"
     },
     "metadata": {},
     "output_type": "display_data"
    },
    {
     "data": {
      "text/plain": "   levels_count  levels_mad  symbols_count  vowels_ratio  consonants_ratio  \\\n0             2         2.5             12        0.4167            0.5000   \n1             3         2.0             20        0.3500            0.5500   \n2             2         2.0             11        0.4545            0.4545   \n3             2         1.5             10        0.4000            0.5000   \n4             2         6.5             20        0.4000            0.5500   \n\n   numbers_ratio  points_ratio  special_ratio  unique_ratio  max_repeated  \\\n0            0.0        0.0833            0.0        0.7500             2   \n1            0.0        0.1000            0.0        0.7000             2   \n2            0.0        0.0909            0.0        0.8182             1   \n3            0.0        0.1000            0.0        0.7000             2   \n4            0.0        0.0500            0.0        0.5500             2   \n\n   is_legit  prediction_label  \n0         1          0.359503  \n1         1          0.432224  \n2         1          0.486415  \n3         1          0.511948  \n4         1          0.319804  ",
      "text/html": "<div>\n<style scoped>\n    .dataframe tbody tr th:only-of-type {\n        vertical-align: middle;\n    }\n\n    .dataframe tbody tr th {\n        vertical-align: top;\n    }\n\n    .dataframe thead th {\n        text-align: right;\n    }\n</style>\n<table border=\"1\" class=\"dataframe\">\n  <thead>\n    <tr style=\"text-align: right;\">\n      <th></th>\n      <th>levels_count</th>\n      <th>levels_mad</th>\n      <th>symbols_count</th>\n      <th>vowels_ratio</th>\n      <th>consonants_ratio</th>\n      <th>numbers_ratio</th>\n      <th>points_ratio</th>\n      <th>special_ratio</th>\n      <th>unique_ratio</th>\n      <th>max_repeated</th>\n      <th>is_legit</th>\n      <th>prediction_label</th>\n    </tr>\n  </thead>\n  <tbody>\n    <tr>\n      <th>0</th>\n      <td>2</td>\n      <td>2.5</td>\n      <td>12</td>\n      <td>0.4167</td>\n      <td>0.5000</td>\n      <td>0.0</td>\n      <td>0.0833</td>\n      <td>0.0</td>\n      <td>0.7500</td>\n      <td>2</td>\n      <td>1</td>\n      <td>0.359503</td>\n    </tr>\n    <tr>\n      <th>1</th>\n      <td>3</td>\n      <td>2.0</td>\n      <td>20</td>\n      <td>0.3500</td>\n      <td>0.5500</td>\n      <td>0.0</td>\n      <td>0.1000</td>\n      <td>0.0</td>\n      <td>0.7000</td>\n      <td>2</td>\n      <td>1</td>\n      <td>0.432224</td>\n    </tr>\n    <tr>\n      <th>2</th>\n      <td>2</td>\n      <td>2.0</td>\n      <td>11</td>\n      <td>0.4545</td>\n      <td>0.4545</td>\n      <td>0.0</td>\n      <td>0.0909</td>\n      <td>0.0</td>\n      <td>0.8182</td>\n      <td>1</td>\n      <td>1</td>\n      <td>0.486415</td>\n    </tr>\n    <tr>\n      <th>3</th>\n      <td>2</td>\n      <td>1.5</td>\n      <td>10</td>\n      <td>0.4000</td>\n      <td>0.5000</td>\n      <td>0.0</td>\n      <td>0.1000</td>\n      <td>0.0</td>\n      <td>0.7000</td>\n      <td>2</td>\n      <td>1</td>\n      <td>0.511948</td>\n    </tr>\n    <tr>\n      <th>4</th>\n      <td>2</td>\n      <td>6.5</td>\n      <td>20</td>\n      <td>0.4000</td>\n      <td>0.5500</td>\n      <td>0.0</td>\n      <td>0.0500</td>\n      <td>0.0</td>\n      <td>0.5500</td>\n      <td>2</td>\n      <td>1</td>\n      <td>0.319804</td>\n    </tr>\n  </tbody>\n</table>\n</div>"
     },
     "execution_count": 33,
     "metadata": {},
     "output_type": "execute_result"
    }
   ],
   "source": [
    "predictions = r.predict_model(best_regression_model, data=df_semantic)\n",
    "predictions.head()"
   ],
   "metadata": {
    "collapsed": false,
    "ExecuteTime": {
     "end_time": "2024-03-28T16:08:38.382533Z",
     "start_time": "2024-03-28T16:08:38.066726Z"
    }
   },
   "id": "d6f88f04f9a36de7",
   "execution_count": 33
  },
  {
   "cell_type": "code",
   "outputs": [
    {
     "data": {
      "text/plain": "                                                                    \n                                                                    \nInitiated  . . . . . . . . . . . . . . . . . .              16:08:52\nStatus     . . . . . . . . . . . . . . . . . .  Loading Dependencies\nEstimator  . . . . . . . . . . . . . . . . . .     Compiling Library",
      "text/html": "<div>\n<style scoped>\n    .dataframe tbody tr th:only-of-type {\n        vertical-align: middle;\n    }\n\n    .dataframe tbody tr th {\n        vertical-align: top;\n    }\n\n    .dataframe thead th {\n        text-align: right;\n    }\n</style>\n<table border=\"1\" class=\"dataframe\">\n  <thead>\n    <tr style=\"text-align: right;\">\n      <th></th>\n      <th></th>\n      <th></th>\n    </tr>\n    <tr>\n      <th></th>\n      <th></th>\n      <th></th>\n    </tr>\n  </thead>\n  <tbody>\n    <tr>\n      <th>Initiated</th>\n      <td>. . . . . . . . . . . . . . . . . .</td>\n      <td>16:08:52</td>\n    </tr>\n    <tr>\n      <th>Status</th>\n      <td>. . . . . . . . . . . . . . . . . .</td>\n      <td>Loading Dependencies</td>\n    </tr>\n    <tr>\n      <th>Estimator</th>\n      <td>. . . . . . . . . . . . . . . . . .</td>\n      <td>Compiling Library</td>\n    </tr>\n  </tbody>\n</table>\n</div>"
     },
     "metadata": {},
     "output_type": "display_data"
    },
    {
     "data": {
      "text/plain": "<IPython.core.display.HTML object>",
      "text/html": ""
     },
     "metadata": {},
     "output_type": "display_data"
    },
    {
     "data": {
      "text/plain": "                                                \\\n                                                 \nInitiated  . . . . . . . . . . . . . . . . . .   \nStatus     . . . . . . . . . . . . . . . . . .   \nEstimator  . . . . . . . . . . . . . . . . . .   \n\n                                            \n                                            \nInitiated                         16:08:52  \nStatus           Searching Hyperparameters  \nEstimator  Light Gradient Boosting Machine  ",
      "text/html": "<div>\n<style scoped>\n    .dataframe tbody tr th:only-of-type {\n        vertical-align: middle;\n    }\n\n    .dataframe tbody tr th {\n        vertical-align: top;\n    }\n\n    .dataframe thead th {\n        text-align: right;\n    }\n</style>\n<table border=\"1\" class=\"dataframe\">\n  <thead>\n    <tr style=\"text-align: right;\">\n      <th></th>\n      <th></th>\n      <th></th>\n    </tr>\n    <tr>\n      <th></th>\n      <th></th>\n      <th></th>\n    </tr>\n  </thead>\n  <tbody>\n    <tr>\n      <th>Initiated</th>\n      <td>. . . . . . . . . . . . . . . . . .</td>\n      <td>16:08:52</td>\n    </tr>\n    <tr>\n      <th>Status</th>\n      <td>. . . . . . . . . . . . . . . . . .</td>\n      <td>Searching Hyperparameters</td>\n    </tr>\n    <tr>\n      <th>Estimator</th>\n      <td>. . . . . . . . . . . . . . . . . .</td>\n      <td>Light Gradient Boosting Machine</td>\n    </tr>\n  </tbody>\n</table>\n</div>"
     },
     "metadata": {},
     "output_type": "display_data"
    },
    {
     "data": {
      "text/plain": "                                                \\\n                                                 \nInitiated  . . . . . . . . . . . . . . . . . .   \nStatus     . . . . . . . . . . . . . . . . . .   \nEstimator  . . . . . . . . . . . . . . . . . .   \n\n                                            \n                                            \nInitiated                         16:08:52  \nStatus             Compiling Final Results  \nEstimator  Light Gradient Boosting Machine  ",
      "text/html": "<div>\n<style scoped>\n    .dataframe tbody tr th:only-of-type {\n        vertical-align: middle;\n    }\n\n    .dataframe tbody tr th {\n        vertical-align: top;\n    }\n\n    .dataframe thead th {\n        text-align: right;\n    }\n</style>\n<table border=\"1\" class=\"dataframe\">\n  <thead>\n    <tr style=\"text-align: right;\">\n      <th></th>\n      <th></th>\n      <th></th>\n    </tr>\n    <tr>\n      <th></th>\n      <th></th>\n      <th></th>\n    </tr>\n  </thead>\n  <tbody>\n    <tr>\n      <th>Initiated</th>\n      <td>. . . . . . . . . . . . . . . . . .</td>\n      <td>16:08:52</td>\n    </tr>\n    <tr>\n      <th>Status</th>\n      <td>. . . . . . . . . . . . . . . . . .</td>\n      <td>Compiling Final Results</td>\n    </tr>\n    <tr>\n      <th>Estimator</th>\n      <td>. . . . . . . . . . . . . . . . . .</td>\n      <td>Light Gradient Boosting Machine</td>\n    </tr>\n  </tbody>\n</table>\n</div>"
     },
     "metadata": {},
     "output_type": "display_data"
    },
    {
     "data": {
      "text/plain": "<pandas.io.formats.style.Styler at 0x7fef399a1a90>",
      "text/html": "<style type=\"text/css\">\n#T_85015_row10_col0, #T_85015_row10_col1, #T_85015_row10_col2, #T_85015_row10_col3, #T_85015_row10_col4, #T_85015_row10_col5 {\n  background: yellow;\n}\n</style>\n<table id=\"T_85015\">\n  <thead>\n    <tr>\n      <th class=\"blank level0\" >&nbsp;</th>\n      <th id=\"T_85015_level0_col0\" class=\"col_heading level0 col0\" >MAE</th>\n      <th id=\"T_85015_level0_col1\" class=\"col_heading level0 col1\" >MSE</th>\n      <th id=\"T_85015_level0_col2\" class=\"col_heading level0 col2\" >RMSE</th>\n      <th id=\"T_85015_level0_col3\" class=\"col_heading level0 col3\" >R2</th>\n      <th id=\"T_85015_level0_col4\" class=\"col_heading level0 col4\" >RMSLE</th>\n      <th id=\"T_85015_level0_col5\" class=\"col_heading level0 col5\" >MAPE</th>\n    </tr>\n    <tr>\n      <th class=\"index_name level0\" >Fold</th>\n      <th class=\"blank col0\" >&nbsp;</th>\n      <th class=\"blank col1\" >&nbsp;</th>\n      <th class=\"blank col2\" >&nbsp;</th>\n      <th class=\"blank col3\" >&nbsp;</th>\n      <th class=\"blank col4\" >&nbsp;</th>\n      <th class=\"blank col5\" >&nbsp;</th>\n    </tr>\n  </thead>\n  <tbody>\n    <tr>\n      <th id=\"T_85015_level0_row0\" class=\"row_heading level0 row0\" >0</th>\n      <td id=\"T_85015_row0_col0\" class=\"data row0 col0\" >0.3102</td>\n      <td id=\"T_85015_row0_col1\" class=\"data row0 col1\" >0.1534</td>\n      <td id=\"T_85015_row0_col2\" class=\"data row0 col2\" >0.3917</td>\n      <td id=\"T_85015_row0_col3\" class=\"data row0 col3\" >0.2904</td>\n      <td id=\"T_85015_row0_col4\" class=\"data row0 col4\" >0.2749</td>\n      <td id=\"T_85015_row0_col5\" class=\"data row0 col5\" >0.4924</td>\n    </tr>\n    <tr>\n      <th id=\"T_85015_level0_row1\" class=\"row_heading level0 row1\" >1</th>\n      <td id=\"T_85015_row1_col0\" class=\"data row1 col0\" >0.3075</td>\n      <td id=\"T_85015_row1_col1\" class=\"data row1 col1\" >0.1517</td>\n      <td id=\"T_85015_row1_col2\" class=\"data row1 col2\" >0.3895</td>\n      <td id=\"T_85015_row1_col3\" class=\"data row1 col3\" >0.2974</td>\n      <td id=\"T_85015_row1_col4\" class=\"data row1 col4\" >0.2735</td>\n      <td id=\"T_85015_row1_col5\" class=\"data row1 col5\" >0.4865</td>\n    </tr>\n    <tr>\n      <th id=\"T_85015_level0_row2\" class=\"row_heading level0 row2\" >2</th>\n      <td id=\"T_85015_row2_col0\" class=\"data row2 col0\" >0.3075</td>\n      <td id=\"T_85015_row2_col1\" class=\"data row2 col1\" >0.1507</td>\n      <td id=\"T_85015_row2_col2\" class=\"data row2 col2\" >0.3882</td>\n      <td id=\"T_85015_row2_col3\" class=\"data row2 col3\" >0.3046</td>\n      <td id=\"T_85015_row2_col4\" class=\"data row2 col4\" >0.2729</td>\n      <td id=\"T_85015_row2_col5\" class=\"data row2 col5\" >0.4806</td>\n    </tr>\n    <tr>\n      <th id=\"T_85015_level0_row3\" class=\"row_heading level0 row3\" >3</th>\n      <td id=\"T_85015_row3_col0\" class=\"data row3 col0\" >0.3110</td>\n      <td id=\"T_85015_row3_col1\" class=\"data row3 col1\" >0.1536</td>\n      <td id=\"T_85015_row3_col2\" class=\"data row3 col2\" >0.3919</td>\n      <td id=\"T_85015_row3_col3\" class=\"data row3 col3\" >0.2921</td>\n      <td id=\"T_85015_row3_col4\" class=\"data row3 col4\" >0.2752</td>\n      <td id=\"T_85015_row3_col5\" class=\"data row3 col5\" >0.4890</td>\n    </tr>\n    <tr>\n      <th id=\"T_85015_level0_row4\" class=\"row_heading level0 row4\" >4</th>\n      <td id=\"T_85015_row4_col0\" class=\"data row4 col0\" >0.3080</td>\n      <td id=\"T_85015_row4_col1\" class=\"data row4 col1\" >0.1520</td>\n      <td id=\"T_85015_row4_col2\" class=\"data row4 col2\" >0.3899</td>\n      <td id=\"T_85015_row4_col3\" class=\"data row4 col3\" >0.2972</td>\n      <td id=\"T_85015_row4_col4\" class=\"data row4 col4\" >0.2741</td>\n      <td id=\"T_85015_row4_col5\" class=\"data row4 col5\" >0.4819</td>\n    </tr>\n    <tr>\n      <th id=\"T_85015_level0_row5\" class=\"row_heading level0 row5\" >5</th>\n      <td id=\"T_85015_row5_col0\" class=\"data row5 col0\" >0.3087</td>\n      <td id=\"T_85015_row5_col1\" class=\"data row5 col1\" >0.1525</td>\n      <td id=\"T_85015_row5_col2\" class=\"data row5 col2\" >0.3905</td>\n      <td id=\"T_85015_row5_col3\" class=\"data row5 col3\" >0.2956</td>\n      <td id=\"T_85015_row5_col4\" class=\"data row5 col4\" >0.2741</td>\n      <td id=\"T_85015_row5_col5\" class=\"data row5 col5\" >0.4876</td>\n    </tr>\n    <tr>\n      <th id=\"T_85015_level0_row6\" class=\"row_heading level0 row6\" >6</th>\n      <td id=\"T_85015_row6_col0\" class=\"data row6 col0\" >0.3100</td>\n      <td id=\"T_85015_row6_col1\" class=\"data row6 col1\" >0.1528</td>\n      <td id=\"T_85015_row6_col2\" class=\"data row6 col2\" >0.3909</td>\n      <td id=\"T_85015_row6_col3\" class=\"data row6 col3\" >0.2895</td>\n      <td id=\"T_85015_row6_col4\" class=\"data row6 col4\" >0.2752</td>\n      <td id=\"T_85015_row6_col5\" class=\"data row6 col5\" >0.4855</td>\n    </tr>\n    <tr>\n      <th id=\"T_85015_level0_row7\" class=\"row_heading level0 row7\" >7</th>\n      <td id=\"T_85015_row7_col0\" class=\"data row7 col0\" >0.3087</td>\n      <td id=\"T_85015_row7_col1\" class=\"data row7 col1\" >0.1523</td>\n      <td id=\"T_85015_row7_col2\" class=\"data row7 col2\" >0.3902</td>\n      <td id=\"T_85015_row7_col3\" class=\"data row7 col3\" >0.2911</td>\n      <td id=\"T_85015_row7_col4\" class=\"data row7 col4\" >0.2747</td>\n      <td id=\"T_85015_row7_col5\" class=\"data row7 col5\" >0.4845</td>\n    </tr>\n    <tr>\n      <th id=\"T_85015_level0_row8\" class=\"row_heading level0 row8\" >8</th>\n      <td id=\"T_85015_row8_col0\" class=\"data row8 col0\" >0.3087</td>\n      <td id=\"T_85015_row8_col1\" class=\"data row8 col1\" >0.1518</td>\n      <td id=\"T_85015_row8_col2\" class=\"data row8 col2\" >0.3897</td>\n      <td id=\"T_85015_row8_col3\" class=\"data row8 col3\" >0.3028</td>\n      <td id=\"T_85015_row8_col4\" class=\"data row8 col4\" >0.2734</td>\n      <td id=\"T_85015_row8_col5\" class=\"data row8 col5\" >0.4840</td>\n    </tr>\n    <tr>\n      <th id=\"T_85015_level0_row9\" class=\"row_heading level0 row9\" >9</th>\n      <td id=\"T_85015_row9_col0\" class=\"data row9 col0\" >0.3096</td>\n      <td id=\"T_85015_row9_col1\" class=\"data row9 col1\" >0.1530</td>\n      <td id=\"T_85015_row9_col2\" class=\"data row9 col2\" >0.3912</td>\n      <td id=\"T_85015_row9_col3\" class=\"data row9 col3\" >0.2954</td>\n      <td id=\"T_85015_row9_col4\" class=\"data row9 col4\" >0.2746</td>\n      <td id=\"T_85015_row9_col5\" class=\"data row9 col5\" >0.4852</td>\n    </tr>\n    <tr>\n      <th id=\"T_85015_level0_row10\" class=\"row_heading level0 row10\" >Mean</th>\n      <td id=\"T_85015_row10_col0\" class=\"data row10 col0\" >0.3090</td>\n      <td id=\"T_85015_row10_col1\" class=\"data row10 col1\" >0.1524</td>\n      <td id=\"T_85015_row10_col2\" class=\"data row10 col2\" >0.3904</td>\n      <td id=\"T_85015_row10_col3\" class=\"data row10 col3\" >0.2956</td>\n      <td id=\"T_85015_row10_col4\" class=\"data row10 col4\" >0.2743</td>\n      <td id=\"T_85015_row10_col5\" class=\"data row10 col5\" >0.4857</td>\n    </tr>\n    <tr>\n      <th id=\"T_85015_level0_row11\" class=\"row_heading level0 row11\" >Std</th>\n      <td id=\"T_85015_row11_col0\" class=\"data row11 col0\" >0.0011</td>\n      <td id=\"T_85015_row11_col1\" class=\"data row11 col1\" >0.0008</td>\n      <td id=\"T_85015_row11_col2\" class=\"data row11 col2\" >0.0011</td>\n      <td id=\"T_85015_row11_col3\" class=\"data row11 col3\" >0.0048</td>\n      <td id=\"T_85015_row11_col4\" class=\"data row11 col4\" >0.0008</td>\n      <td id=\"T_85015_row11_col5\" class=\"data row11 col5\" >0.0033</td>\n    </tr>\n  </tbody>\n</table>\n"
     },
     "metadata": {},
     "output_type": "display_data"
    },
    {
     "data": {
      "text/plain": "LGBMRegressor(n_jobs=-1, random_state=123)",
      "text/html": "<style>#sk-container-id-1 {\n  /* Definition of color scheme common for light and dark mode */\n  --sklearn-color-text: black;\n  --sklearn-color-line: gray;\n  /* Definition of color scheme for unfitted estimators */\n  --sklearn-color-unfitted-level-0: #fff5e6;\n  --sklearn-color-unfitted-level-1: #f6e4d2;\n  --sklearn-color-unfitted-level-2: #ffe0b3;\n  --sklearn-color-unfitted-level-3: chocolate;\n  /* Definition of color scheme for fitted estimators */\n  --sklearn-color-fitted-level-0: #f0f8ff;\n  --sklearn-color-fitted-level-1: #d4ebff;\n  --sklearn-color-fitted-level-2: #b3dbfd;\n  --sklearn-color-fitted-level-3: cornflowerblue;\n\n  /* Specific color for light theme */\n  --sklearn-color-text-on-default-background: var(--sg-text-color, var(--theme-code-foreground, var(--jp-content-font-color1, black)));\n  --sklearn-color-background: var(--sg-background-color, var(--theme-background, var(--jp-layout-color0, white)));\n  --sklearn-color-border-box: var(--sg-text-color, var(--theme-code-foreground, var(--jp-content-font-color1, black)));\n  --sklearn-color-icon: #696969;\n\n  @media (prefers-color-scheme: dark) {\n    /* Redefinition of color scheme for dark theme */\n    --sklearn-color-text-on-default-background: var(--sg-text-color, var(--theme-code-foreground, var(--jp-content-font-color1, white)));\n    --sklearn-color-background: var(--sg-background-color, var(--theme-background, var(--jp-layout-color0, #111)));\n    --sklearn-color-border-box: var(--sg-text-color, var(--theme-code-foreground, var(--jp-content-font-color1, white)));\n    --sklearn-color-icon: #878787;\n  }\n}\n\n#sk-container-id-1 {\n  color: var(--sklearn-color-text);\n}\n\n#sk-container-id-1 pre {\n  padding: 0;\n}\n\n#sk-container-id-1 input.sk-hidden--visually {\n  border: 0;\n  clip: rect(1px 1px 1px 1px);\n  clip: rect(1px, 1px, 1px, 1px);\n  height: 1px;\n  margin: -1px;\n  overflow: hidden;\n  padding: 0;\n  position: absolute;\n  width: 1px;\n}\n\n#sk-container-id-1 div.sk-dashed-wrapped {\n  border: 1px dashed var(--sklearn-color-line);\n  margin: 0 0.4em 0.5em 0.4em;\n  box-sizing: border-box;\n  padding-bottom: 0.4em;\n  background-color: var(--sklearn-color-background);\n}\n\n#sk-container-id-1 div.sk-container {\n  /* jupyter's `normalize.less` sets `[hidden] { display: none; }`\n     but bootstrap.min.css set `[hidden] { display: none !important; }`\n     so we also need the `!important` here to be able to override the\n     default hidden behavior on the sphinx rendered scikit-learn.org.\n     See: https://github.com/scikit-learn/scikit-learn/issues/21755 */\n  display: inline-block !important;\n  position: relative;\n}\n\n#sk-container-id-1 div.sk-text-repr-fallback {\n  display: none;\n}\n\ndiv.sk-parallel-item,\ndiv.sk-serial,\ndiv.sk-item {\n  /* draw centered vertical line to link estimators */\n  background-image: linear-gradient(var(--sklearn-color-text-on-default-background), var(--sklearn-color-text-on-default-background));\n  background-size: 2px 100%;\n  background-repeat: no-repeat;\n  background-position: center center;\n}\n\n/* Parallel-specific style estimator block */\n\n#sk-container-id-1 div.sk-parallel-item::after {\n  content: \"\";\n  width: 100%;\n  border-bottom: 2px solid var(--sklearn-color-text-on-default-background);\n  flex-grow: 1;\n}\n\n#sk-container-id-1 div.sk-parallel {\n  display: flex;\n  align-items: stretch;\n  justify-content: center;\n  background-color: var(--sklearn-color-background);\n  position: relative;\n}\n\n#sk-container-id-1 div.sk-parallel-item {\n  display: flex;\n  flex-direction: column;\n}\n\n#sk-container-id-1 div.sk-parallel-item:first-child::after {\n  align-self: flex-end;\n  width: 50%;\n}\n\n#sk-container-id-1 div.sk-parallel-item:last-child::after {\n  align-self: flex-start;\n  width: 50%;\n}\n\n#sk-container-id-1 div.sk-parallel-item:only-child::after {\n  width: 0;\n}\n\n/* Serial-specific style estimator block */\n\n#sk-container-id-1 div.sk-serial {\n  display: flex;\n  flex-direction: column;\n  align-items: center;\n  background-color: var(--sklearn-color-background);\n  padding-right: 1em;\n  padding-left: 1em;\n}\n\n\n/* Toggleable style: style used for estimator/Pipeline/ColumnTransformer box that is\nclickable and can be expanded/collapsed.\n- Pipeline and ColumnTransformer use this feature and define the default style\n- Estimators will overwrite some part of the style using the `sk-estimator` class\n*/\n\n/* Pipeline and ColumnTransformer style (default) */\n\n#sk-container-id-1 div.sk-toggleable {\n  /* Default theme specific background. It is overwritten whether we have a\n  specific estimator or a Pipeline/ColumnTransformer */\n  background-color: var(--sklearn-color-background);\n}\n\n/* Toggleable label */\n#sk-container-id-1 label.sk-toggleable__label {\n  cursor: pointer;\n  display: block;\n  width: 100%;\n  margin-bottom: 0;\n  padding: 0.5em;\n  box-sizing: border-box;\n  text-align: center;\n}\n\n#sk-container-id-1 label.sk-toggleable__label-arrow:before {\n  /* Arrow on the left of the label */\n  content: \"▸\";\n  float: left;\n  margin-right: 0.25em;\n  color: var(--sklearn-color-icon);\n}\n\n#sk-container-id-1 label.sk-toggleable__label-arrow:hover:before {\n  color: var(--sklearn-color-text);\n}\n\n/* Toggleable content - dropdown */\n\n#sk-container-id-1 div.sk-toggleable__content {\n  max-height: 0;\n  max-width: 0;\n  overflow: hidden;\n  text-align: left;\n  /* unfitted */\n  background-color: var(--sklearn-color-unfitted-level-0);\n}\n\n#sk-container-id-1 div.sk-toggleable__content.fitted {\n  /* fitted */\n  background-color: var(--sklearn-color-fitted-level-0);\n}\n\n#sk-container-id-1 div.sk-toggleable__content pre {\n  margin: 0.2em;\n  border-radius: 0.25em;\n  color: var(--sklearn-color-text);\n  /* unfitted */\n  background-color: var(--sklearn-color-unfitted-level-0);\n}\n\n#sk-container-id-1 div.sk-toggleable__content.fitted pre {\n  /* unfitted */\n  background-color: var(--sklearn-color-fitted-level-0);\n}\n\n#sk-container-id-1 input.sk-toggleable__control:checked~div.sk-toggleable__content {\n  /* Expand drop-down */\n  max-height: 200px;\n  max-width: 100%;\n  overflow: auto;\n}\n\n#sk-container-id-1 input.sk-toggleable__control:checked~label.sk-toggleable__label-arrow:before {\n  content: \"▾\";\n}\n\n/* Pipeline/ColumnTransformer-specific style */\n\n#sk-container-id-1 div.sk-label input.sk-toggleable__control:checked~label.sk-toggleable__label {\n  color: var(--sklearn-color-text);\n  background-color: var(--sklearn-color-unfitted-level-2);\n}\n\n#sk-container-id-1 div.sk-label.fitted input.sk-toggleable__control:checked~label.sk-toggleable__label {\n  background-color: var(--sklearn-color-fitted-level-2);\n}\n\n/* Estimator-specific style */\n\n/* Colorize estimator box */\n#sk-container-id-1 div.sk-estimator input.sk-toggleable__control:checked~label.sk-toggleable__label {\n  /* unfitted */\n  background-color: var(--sklearn-color-unfitted-level-2);\n}\n\n#sk-container-id-1 div.sk-estimator.fitted input.sk-toggleable__control:checked~label.sk-toggleable__label {\n  /* fitted */\n  background-color: var(--sklearn-color-fitted-level-2);\n}\n\n#sk-container-id-1 div.sk-label label.sk-toggleable__label,\n#sk-container-id-1 div.sk-label label {\n  /* The background is the default theme color */\n  color: var(--sklearn-color-text-on-default-background);\n}\n\n/* On hover, darken the color of the background */\n#sk-container-id-1 div.sk-label:hover label.sk-toggleable__label {\n  color: var(--sklearn-color-text);\n  background-color: var(--sklearn-color-unfitted-level-2);\n}\n\n/* Label box, darken color on hover, fitted */\n#sk-container-id-1 div.sk-label.fitted:hover label.sk-toggleable__label.fitted {\n  color: var(--sklearn-color-text);\n  background-color: var(--sklearn-color-fitted-level-2);\n}\n\n/* Estimator label */\n\n#sk-container-id-1 div.sk-label label {\n  font-family: monospace;\n  font-weight: bold;\n  display: inline-block;\n  line-height: 1.2em;\n}\n\n#sk-container-id-1 div.sk-label-container {\n  text-align: center;\n}\n\n/* Estimator-specific */\n#sk-container-id-1 div.sk-estimator {\n  font-family: monospace;\n  border: 1px dotted var(--sklearn-color-border-box);\n  border-radius: 0.25em;\n  box-sizing: border-box;\n  margin-bottom: 0.5em;\n  /* unfitted */\n  background-color: var(--sklearn-color-unfitted-level-0);\n}\n\n#sk-container-id-1 div.sk-estimator.fitted {\n  /* fitted */\n  background-color: var(--sklearn-color-fitted-level-0);\n}\n\n/* on hover */\n#sk-container-id-1 div.sk-estimator:hover {\n  /* unfitted */\n  background-color: var(--sklearn-color-unfitted-level-2);\n}\n\n#sk-container-id-1 div.sk-estimator.fitted:hover {\n  /* fitted */\n  background-color: var(--sklearn-color-fitted-level-2);\n}\n\n/* Specification for estimator info (e.g. \"i\" and \"?\") */\n\n/* Common style for \"i\" and \"?\" */\n\n.sk-estimator-doc-link,\na:link.sk-estimator-doc-link,\na:visited.sk-estimator-doc-link {\n  float: right;\n  font-size: smaller;\n  line-height: 1em;\n  font-family: monospace;\n  background-color: var(--sklearn-color-background);\n  border-radius: 1em;\n  height: 1em;\n  width: 1em;\n  text-decoration: none !important;\n  margin-left: 1ex;\n  /* unfitted */\n  border: var(--sklearn-color-unfitted-level-1) 1pt solid;\n  color: var(--sklearn-color-unfitted-level-1);\n}\n\n.sk-estimator-doc-link.fitted,\na:link.sk-estimator-doc-link.fitted,\na:visited.sk-estimator-doc-link.fitted {\n  /* fitted */\n  border: var(--sklearn-color-fitted-level-1) 1pt solid;\n  color: var(--sklearn-color-fitted-level-1);\n}\n\n/* On hover */\ndiv.sk-estimator:hover .sk-estimator-doc-link:hover,\n.sk-estimator-doc-link:hover,\ndiv.sk-label-container:hover .sk-estimator-doc-link:hover,\n.sk-estimator-doc-link:hover {\n  /* unfitted */\n  background-color: var(--sklearn-color-unfitted-level-3);\n  color: var(--sklearn-color-background);\n  text-decoration: none;\n}\n\ndiv.sk-estimator.fitted:hover .sk-estimator-doc-link.fitted:hover,\n.sk-estimator-doc-link.fitted:hover,\ndiv.sk-label-container:hover .sk-estimator-doc-link.fitted:hover,\n.sk-estimator-doc-link.fitted:hover {\n  /* fitted */\n  background-color: var(--sklearn-color-fitted-level-3);\n  color: var(--sklearn-color-background);\n  text-decoration: none;\n}\n\n/* Span, style for the box shown on hovering the info icon */\n.sk-estimator-doc-link span {\n  display: none;\n  z-index: 9999;\n  position: relative;\n  font-weight: normal;\n  right: .2ex;\n  padding: .5ex;\n  margin: .5ex;\n  width: min-content;\n  min-width: 20ex;\n  max-width: 50ex;\n  color: var(--sklearn-color-text);\n  box-shadow: 2pt 2pt 4pt #999;\n  /* unfitted */\n  background: var(--sklearn-color-unfitted-level-0);\n  border: .5pt solid var(--sklearn-color-unfitted-level-3);\n}\n\n.sk-estimator-doc-link.fitted span {\n  /* fitted */\n  background: var(--sklearn-color-fitted-level-0);\n  border: var(--sklearn-color-fitted-level-3);\n}\n\n.sk-estimator-doc-link:hover span {\n  display: block;\n}\n\n/* \"?\"-specific style due to the `<a>` HTML tag */\n\n#sk-container-id-1 a.estimator_doc_link {\n  float: right;\n  font-size: 1rem;\n  line-height: 1em;\n  font-family: monospace;\n  background-color: var(--sklearn-color-background);\n  border-radius: 1rem;\n  height: 1rem;\n  width: 1rem;\n  text-decoration: none;\n  /* unfitted */\n  color: var(--sklearn-color-unfitted-level-1);\n  border: var(--sklearn-color-unfitted-level-1) 1pt solid;\n}\n\n#sk-container-id-1 a.estimator_doc_link.fitted {\n  /* fitted */\n  border: var(--sklearn-color-fitted-level-1) 1pt solid;\n  color: var(--sklearn-color-fitted-level-1);\n}\n\n/* On hover */\n#sk-container-id-1 a.estimator_doc_link:hover {\n  /* unfitted */\n  background-color: var(--sklearn-color-unfitted-level-3);\n  color: var(--sklearn-color-background);\n  text-decoration: none;\n}\n\n#sk-container-id-1 a.estimator_doc_link.fitted:hover {\n  /* fitted */\n  background-color: var(--sklearn-color-fitted-level-3);\n}\n</style><div id=\"sk-container-id-1\" class=\"sk-top-container\"><div class=\"sk-text-repr-fallback\"><pre>LGBMRegressor(n_jobs=-1, random_state=123)</pre><b>In a Jupyter environment, please rerun this cell to show the HTML representation or trust the notebook. <br />On GitHub, the HTML representation is unable to render, please try loading this page with nbviewer.org.</b></div><div class=\"sk-container\" hidden><div class=\"sk-item\"><div class=\"sk-estimator fitted sk-toggleable\"><input class=\"sk-toggleable__control sk-hidden--visually\" id=\"sk-estimator-id-1\" type=\"checkbox\" checked><label for=\"sk-estimator-id-1\" class=\"sk-toggleable__label fitted sk-toggleable__label-arrow fitted\">&nbsp;LGBMRegressor<span class=\"sk-estimator-doc-link fitted\">i<span>Fitted</span></span></label><div class=\"sk-toggleable__content fitted\"><pre>LGBMRegressor(n_jobs=-1, random_state=123)</pre></div> </div></div></div></div>"
     },
     "execution_count": 34,
     "metadata": {},
     "output_type": "execute_result"
    }
   ],
   "source": [
    "r.tune_model(best_regression_model)"
   ],
   "metadata": {
    "collapsed": false,
    "ExecuteTime": {
     "end_time": "2024-03-28T16:14:37.864966Z",
     "start_time": "2024-03-28T16:08:52.638413Z"
    }
   },
   "id": "8c16d6fd8a23109",
   "execution_count": 34
  },
  {
   "cell_type": "code",
   "outputs": [
    {
     "data": {
      "text/plain": "<pandas.io.formats.style.Styler at 0x7fef3c09e890>",
      "text/html": "<style type=\"text/css\">\n</style>\n<table id=\"T_f7a67\">\n  <thead>\n    <tr>\n      <th class=\"blank level0\" >&nbsp;</th>\n      <th id=\"T_f7a67_level0_col0\" class=\"col_heading level0 col0\" >Model</th>\n      <th id=\"T_f7a67_level0_col1\" class=\"col_heading level0 col1\" >MAE</th>\n      <th id=\"T_f7a67_level0_col2\" class=\"col_heading level0 col2\" >MSE</th>\n      <th id=\"T_f7a67_level0_col3\" class=\"col_heading level0 col3\" >RMSE</th>\n      <th id=\"T_f7a67_level0_col4\" class=\"col_heading level0 col4\" >R2</th>\n      <th id=\"T_f7a67_level0_col5\" class=\"col_heading level0 col5\" >RMSLE</th>\n      <th id=\"T_f7a67_level0_col6\" class=\"col_heading level0 col6\" >MAPE</th>\n    </tr>\n  </thead>\n  <tbody>\n    <tr>\n      <th id=\"T_f7a67_level0_row0\" class=\"row_heading level0 row0\" >0</th>\n      <td id=\"T_f7a67_row0_col0\" class=\"data row0 col0\" >Light Gradient Boosting Machine</td>\n      <td id=\"T_f7a67_row0_col1\" class=\"data row0 col1\" >0.3062</td>\n      <td id=\"T_f7a67_row0_col2\" class=\"data row0 col2\" >0.1504</td>\n      <td id=\"T_f7a67_row0_col3\" class=\"data row0 col3\" >0.3878</td>\n      <td id=\"T_f7a67_row0_col4\" class=\"data row0 col4\" >0.3052</td>\n      <td id=\"T_f7a67_row0_col5\" class=\"data row0 col5\" >0.2722</td>\n      <td id=\"T_f7a67_row0_col6\" class=\"data row0 col6\" >0.4827</td>\n    </tr>\n  </tbody>\n</table>\n"
     },
     "metadata": {},
     "output_type": "display_data"
    },
    {
     "data": {
      "text/plain": "   levels_count  levels_mad  symbols_count  vowels_ratio  consonants_ratio  \\\n0             2         2.5             12        0.4167            0.5000   \n1             3         2.0             20        0.3500            0.5500   \n2             2         2.0             11        0.4545            0.4545   \n3             2         1.5             10        0.4000            0.5000   \n4             2         6.5             20        0.4000            0.5500   \n\n   numbers_ratio  points_ratio  special_ratio  unique_ratio  max_repeated  \\\n0            0.0        0.0833            0.0        0.7500             2   \n1            0.0        0.1000            0.0        0.7000             2   \n2            0.0        0.0909            0.0        0.8182             1   \n3            0.0        0.1000            0.0        0.7000             2   \n4            0.0        0.0500            0.0        0.5500             2   \n\n   is_legit  prediction_label  \n0         1          0.359503  \n1         1          0.432224  \n2         1          0.486415  \n3         1          0.511948  \n4         1          0.319804  ",
      "text/html": "<div>\n<style scoped>\n    .dataframe tbody tr th:only-of-type {\n        vertical-align: middle;\n    }\n\n    .dataframe tbody tr th {\n        vertical-align: top;\n    }\n\n    .dataframe thead th {\n        text-align: right;\n    }\n</style>\n<table border=\"1\" class=\"dataframe\">\n  <thead>\n    <tr style=\"text-align: right;\">\n      <th></th>\n      <th>levels_count</th>\n      <th>levels_mad</th>\n      <th>symbols_count</th>\n      <th>vowels_ratio</th>\n      <th>consonants_ratio</th>\n      <th>numbers_ratio</th>\n      <th>points_ratio</th>\n      <th>special_ratio</th>\n      <th>unique_ratio</th>\n      <th>max_repeated</th>\n      <th>is_legit</th>\n      <th>prediction_label</th>\n    </tr>\n  </thead>\n  <tbody>\n    <tr>\n      <th>0</th>\n      <td>2</td>\n      <td>2.5</td>\n      <td>12</td>\n      <td>0.4167</td>\n      <td>0.5000</td>\n      <td>0.0</td>\n      <td>0.0833</td>\n      <td>0.0</td>\n      <td>0.7500</td>\n      <td>2</td>\n      <td>1</td>\n      <td>0.359503</td>\n    </tr>\n    <tr>\n      <th>1</th>\n      <td>3</td>\n      <td>2.0</td>\n      <td>20</td>\n      <td>0.3500</td>\n      <td>0.5500</td>\n      <td>0.0</td>\n      <td>0.1000</td>\n      <td>0.0</td>\n      <td>0.7000</td>\n      <td>2</td>\n      <td>1</td>\n      <td>0.432224</td>\n    </tr>\n    <tr>\n      <th>2</th>\n      <td>2</td>\n      <td>2.0</td>\n      <td>11</td>\n      <td>0.4545</td>\n      <td>0.4545</td>\n      <td>0.0</td>\n      <td>0.0909</td>\n      <td>0.0</td>\n      <td>0.8182</td>\n      <td>1</td>\n      <td>1</td>\n      <td>0.486415</td>\n    </tr>\n    <tr>\n      <th>3</th>\n      <td>2</td>\n      <td>1.5</td>\n      <td>10</td>\n      <td>0.4000</td>\n      <td>0.5000</td>\n      <td>0.0</td>\n      <td>0.1000</td>\n      <td>0.0</td>\n      <td>0.7000</td>\n      <td>2</td>\n      <td>1</td>\n      <td>0.511948</td>\n    </tr>\n    <tr>\n      <th>4</th>\n      <td>2</td>\n      <td>6.5</td>\n      <td>20</td>\n      <td>0.4000</td>\n      <td>0.5500</td>\n      <td>0.0</td>\n      <td>0.0500</td>\n      <td>0.0</td>\n      <td>0.5500</td>\n      <td>2</td>\n      <td>1</td>\n      <td>0.319804</td>\n    </tr>\n  </tbody>\n</table>\n</div>"
     },
     "execution_count": 35,
     "metadata": {},
     "output_type": "execute_result"
    }
   ],
   "source": [
    "predictions = r.predict_model(best_regression_model, data=df_semantic)\n",
    "predictions.head()"
   ],
   "metadata": {
    "collapsed": false,
    "ExecuteTime": {
     "end_time": "2024-03-28T16:14:38.201325Z",
     "start_time": "2024-03-28T16:14:37.866730Z"
    }
   },
   "id": "2f208b3e04b66978",
   "execution_count": 35
  },
  {
   "cell_type": "code",
   "outputs": [
    {
     "name": "stdout",
     "output_type": "stream",
     "text": [
      "Transformation Pipeline and Model Successfully Saved\n"
     ]
    },
    {
     "data": {
      "text/plain": "(Pipeline(memory=Memory(location=None),\n          steps=[('numerical_imputer',\n                  TransformerWrapper(include=['levels_count', 'levels_mad',\n                                              'symbols_count', 'vowels_ratio',\n                                              'consonants_ratio',\n                                              'numbers_ratio', 'points_ratio',\n                                              'special_ratio', 'unique_ratio',\n                                              'max_repeated'],\n                                     transformer=SimpleImputer())),\n                 ('categorical_imputer',\n                  TransformerWrapper(include=[],\n                                     transformer=SimpleImputer(strategy='most_frequent'))),\n                 ('normalize', TransformerWrapper(transformer=StandardScaler())),\n                 ('trained_model', LGBMRegressor(n_jobs=-1, random_state=123))]),\n 'semantic_regression_lgbm.pkl')"
     },
     "execution_count": 36,
     "metadata": {},
     "output_type": "execute_result"
    }
   ],
   "source": [
    "r.save_model(best_regression_model, model_name='semantic_regression_lgbm')"
   ],
   "metadata": {
    "collapsed": false,
    "ExecuteTime": {
     "end_time": "2024-03-28T16:15:46.421139Z",
     "start_time": "2024-03-28T16:15:46.284911Z"
    }
   },
   "id": "bb3bc2e62b2c53dc",
   "execution_count": 36
  },
  {
   "cell_type": "code",
   "outputs": [],
   "source": [
    "model_go = r.convert_model(best_regression_model, 'go')\n",
    "model_python = r.convert_model(best_regression_model, 'python')"
   ],
   "metadata": {
    "collapsed": false,
    "ExecuteTime": {
     "end_time": "2024-03-27T19:51:43.949929Z",
     "start_time": "2024-03-27T19:51:43.478948Z"
    }
   },
   "id": "e469f2a0d77d5cb8",
   "execution_count": 21
  },
  {
   "cell_type": "code",
   "outputs": [
    {
     "name": "stdout",
     "output_type": "stream",
     "text": [
      "Looking in indexes: https://pypi.org/simple, https://pypi.ngc.nvidia.com\r\n",
      "Requirement already satisfied: m2cgen in /opt/conda/lib/python3.11/site-packages (0.10.0)\r\n",
      "Requirement already satisfied: numpy in /opt/conda/lib/python3.11/site-packages (from m2cgen) (1.26.3)\r\n"
     ]
    }
   ],
   "source": [
    "!pip install m2cgen\n",
    "\n",
    "from pycaret.regression import load_model\n",
    "from pycaret.regression import *"
   ],
   "metadata": {
    "collapsed": false,
    "ExecuteTime": {
     "end_time": "2024-03-27T19:47:39.921878Z",
     "start_time": "2024-03-27T19:47:36.996516Z"
    }
   },
   "id": "71ed9fbf56fd2816",
   "execution_count": 20
  },
  {
   "cell_type": "code",
   "outputs": [],
   "source": [
    "model_setup = setup(data=df_semantic, target='is_legit', session_id=812, use_gpu=True, log_experiment=False,\n",
    "                    experiment_name='semantic_regression', normalize=True)"
   ],
   "metadata": {
    "collapsed": false
   },
   "id": "2a5fceb279825afa",
   "execution_count": null
  },
  {
   "cell_type": "code",
   "outputs": [],
   "source": [
    "all_models = models()\n",
    "all_models"
   ],
   "metadata": {
    "collapsed": false
   },
   "id": "c9be7090e6dc8349",
   "execution_count": null
  },
  {
   "cell_type": "code",
   "outputs": [],
   "source": [
    "model = load_model('semantic_regression_et')\n",
    "et = create_model('et')\n",
    "\n",
    "et.load_model('semantic_regression_et')\n",
    "\n",
    "model_go = convert_model(et, 'go')"
   ],
   "metadata": {
    "collapsed": false
   },
   "id": "1e9c10ab5307757",
   "execution_count": null
  },
  {
   "cell_type": "code",
   "outputs": [],
   "source": [
    "# f = open(\"golang_semantics_lightgbm.go\", \"a\")\n",
    "f = open(\"golang_semantics_lightgbm.py\", \"a\")\n",
    "f.write(model_python)\n",
    "f.close()"
   ],
   "metadata": {
    "collapsed": false,
    "ExecuteTime": {
     "end_time": "2024-03-27T19:52:03.145588Z",
     "start_time": "2024-03-27T19:52:03.142275Z"
    }
   },
   "id": "f6c7c6f63ee8755a",
   "execution_count": 24
  }
 ],
 "metadata": {
  "kernelspec": {
   "display_name": "Python 3 (ipykernel)",
   "language": "python",
   "name": "python3"
  },
  "language_info": {
   "codemirror_mode": {
    "name": "ipython",
    "version": 3
   },
   "file_extension": ".py",
   "mimetype": "text/x-python",
   "name": "python",
   "nbconvert_exporter": "python",
   "pygments_lexer": "ipython3",
   "version": "3.11.7"
  }
 },
 "nbformat": 4,
 "nbformat_minor": 5
}
