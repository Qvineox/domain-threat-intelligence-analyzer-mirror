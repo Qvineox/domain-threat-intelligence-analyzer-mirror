{
 "cells": [
  {
   "cell_type": "code",
   "execution_count": null,
   "id": "initial_id",
   "metadata": {
    "collapsed": true,
    "jupyter": {
     "outputs_hidden": true
    }
   },
   "outputs": [],
   "source": [
    "!nvidia-smi"
   ]
  },
  {
   "cell_type": "code",
   "execution_count": null,
   "id": "b22bf2c06c01edb2",
   "metadata": {
    "collapsed": false,
    "tags": []
   },
   "outputs": [],
   "source": [
    "import pandas as pd\n",
    "import numpy as np\n",
    "import matplotlib.pyplot as plt"
   ]
  },
  {
   "cell_type": "code",
   "execution_count": null,
   "id": "1e9b3e8eba854a5b",
   "metadata": {
    "collapsed": false,
    "tags": []
   },
   "outputs": [],
   "source": [
    "!pip install pycaret\n",
    "!pip install mlflow\n",
    "%pip install scipy==1.11.4\n",
    "\n",
    "from pycaret.classification import *\n",
    "\n",
    "from pycaret.regression import RegressionExperiment"
   ]
  },
  {
   "cell_type": "code",
   "execution_count": 11,
   "id": "fa8a3a7e9ca5e07d",
   "metadata": {
    "collapsed": false,
    "tags": [],
    "ExecuteTime": {
     "end_time": "2024-03-27T19:45:58.607769Z",
     "start_time": "2024-03-27T19:45:58.275185Z"
    }
   },
   "outputs": [
    {
     "name": "stdout",
     "output_type": "stream",
     "text": [
      "<class 'pandas.core.frame.DataFrame'>\n",
      "RangeIndex: 239257 entries, 0 to 239256\n",
      "Data columns (total 19 columns):\n",
      " #   Column            Non-Null Count   Dtype  \n",
      "---  ------            --------------   -----  \n",
      " 0   domain            239257 non-null  object \n",
      " 1   tld               239257 non-null  object \n",
      " 2   levels_count      239257 non-null  int64  \n",
      " 3   levels_mad        239257 non-null  float64\n",
      " 4   symbols_count     239257 non-null  int64  \n",
      " 5   vowels_ratio      239257 non-null  float64\n",
      " 6   consonants_ratio  239257 non-null  float64\n",
      " 7   numbers_ratio     239257 non-null  float64\n",
      " 8   points_ratio      239257 non-null  float64\n",
      " 9   special_ratio     239257 non-null  float64\n",
      " 10  unique_ratio      239257 non-null  float64\n",
      " 11  max_repeated      239257 non-null  int64  \n",
      " 12  a_records         239257 non-null  int64  \n",
      " 13  mx_records        239257 non-null  int64  \n",
      " 14  cname_records     239257 non-null  int64  \n",
      " 15  txt_records       239257 non-null  int64  \n",
      " 16  ptr_records       239257 non-null  int64  \n",
      " 17  ptr_ratio         239257 non-null  float64\n",
      " 18  is_legit          239257 non-null  int64  \n",
      "dtypes: float64(8), int64(9), object(2)\n",
      "memory usage: 34.7+ MB\n"
     ]
    }
   ],
   "source": [
    "df = pd.read_csv('work/datasets/processed_actual/merged_full_2024_03_27.csv')\n",
    "df.set_index('domain')\n",
    "\n",
    "df.info()"
   ]
  },
  {
   "cell_type": "code",
   "execution_count": 12,
   "id": "a773a0af3ed07d11",
   "metadata": {
    "collapsed": false,
    "tags": [],
    "ExecuteTime": {
     "end_time": "2024-03-27T19:46:00.375641Z",
     "start_time": "2024-03-27T19:46:00.372391Z"
    }
   },
   "outputs": [],
   "source": [
    "plt.style.use('fivethirtyeight')"
   ]
  },
  {
   "cell_type": "code",
   "execution_count": 13,
   "id": "3faeca80fbbeb3b3",
   "metadata": {
    "collapsed": false,
    "tags": [],
    "ExecuteTime": {
     "end_time": "2024-03-27T19:46:01.530013Z",
     "start_time": "2024-03-27T19:46:01.524758Z"
    }
   },
   "outputs": [],
   "source": [
    "df_semantic = df[\n",
    "    [\"levels_count\", \"levels_mad\", \"symbols_count\", \"vowels_ratio\", \"consonants_ratio\", \"numbers_ratio\",\n",
    "     \"points_ratio\", \"special_ratio\", \"unique_ratio\", \"max_repeated\", \"is_legit\"]]\n",
    "\n",
    "# df_semantic = df_semantic.astype({'domain': 'string'})"
   ]
  },
  {
   "cell_type": "code",
   "execution_count": 14,
   "id": "cf9798b7542163fa",
   "metadata": {
    "collapsed": false,
    "ExecuteTime": {
     "end_time": "2024-03-27T19:46:05.469379Z",
     "start_time": "2024-03-27T19:46:03.494971Z"
    }
   },
   "outputs": [
    {
     "name": "stdout",
     "output_type": "stream",
     "text": [
      "[LightGBM] [Warning] There are no meaningful features which satisfy the provided configuration. Decreasing Dataset parameters min_data_in_bin or min_data_in_leaf and re-constructing Dataset might resolve this warning.\n",
      "[LightGBM] [Info] This is the GPU trainer!!\n",
      "[LightGBM] [Info] Total Bins 0\n",
      "[LightGBM] [Info] Number of data points in the train set: 2, number of used features: 0\n",
      "[LightGBM] [Warning] There are no meaningful features which satisfy the provided configuration. Decreasing Dataset parameters min_data_in_bin or min_data_in_leaf and re-constructing Dataset might resolve this warning.\n",
      "[LightGBM] [Warning] Using sparse features with CUDA is currently not supported.\n",
      "[LightGBM] [Warning] There are no meaningful features which satisfy the provided configuration. Decreasing Dataset parameters min_data_in_bin or min_data_in_leaf and re-constructing Dataset might resolve this warning.\n",
      "[LightGBM] [Info] This is the GPU trainer!!\n",
      "[LightGBM] [Info] Total Bins 0\n",
      "[LightGBM] [Info] Number of data points in the train set: 2, number of used features: 0\n",
      "[LightGBM] [Warning] There are no meaningful features which satisfy the provided configuration. Decreasing Dataset parameters min_data_in_bin or min_data_in_leaf and re-constructing Dataset might resolve this warning.\n",
      "[LightGBM] [Warning] Using sparse features with CUDA is currently not supported.\n"
     ]
    },
    {
     "name": "stderr",
     "output_type": "stream",
     "text": [
      "[LightGBM] [Fatal] CUDA Tree Learner was not enabled in this build.\n",
      "Please recompile with CMake option -DUSE_CUDA=1\n",
      "[LightGBM] [Fatal] CUDA Tree Learner was not enabled in this build.\n",
      "Please recompile with CMake option -DUSE_CUDA=1\n"
     ]
    },
    {
     "name": "stdout",
     "output_type": "stream",
     "text": [
      "[LightGBM] [Warning] There are no meaningful features which satisfy the provided configuration. Decreasing Dataset parameters min_data_in_bin or min_data_in_leaf and re-constructing Dataset might resolve this warning.\n",
      "[LightGBM] [Info] This is the GPU trainer!!\n",
      "[LightGBM] [Info] Total Bins 0\n",
      "[LightGBM] [Info] Number of data points in the train set: 2, number of used features: 0\n",
      "[LightGBM] [Warning] There are no meaningful features which satisfy the provided configuration. Decreasing Dataset parameters min_data_in_bin or min_data_in_leaf and re-constructing Dataset might resolve this warning.\n",
      "[LightGBM] [Warning] Using sparse features with CUDA is currently not supported.\n",
      "[LightGBM] [Warning] There are no meaningful features which satisfy the provided configuration. Decreasing Dataset parameters min_data_in_bin or min_data_in_leaf and re-constructing Dataset might resolve this warning.\n",
      "[LightGBM] [Info] This is the GPU trainer!!\n",
      "[LightGBM] [Info] Total Bins 0\n",
      "[LightGBM] [Info] Number of data points in the train set: 2, number of used features: 0\n",
      "[LightGBM] [Warning] There are no meaningful features which satisfy the provided configuration. Decreasing Dataset parameters min_data_in_bin or min_data_in_leaf and re-constructing Dataset might resolve this warning.\n",
      "[LightGBM] [Warning] Using sparse features with CUDA is currently not supported.\n"
     ]
    },
    {
     "name": "stderr",
     "output_type": "stream",
     "text": [
      "[LightGBM] [Fatal] CUDA Tree Learner was not enabled in this build.\n",
      "Please recompile with CMake option -DUSE_CUDA=1\n",
      "[LightGBM] [Fatal] CUDA Tree Learner was not enabled in this build.\n",
      "Please recompile with CMake option -DUSE_CUDA=1\n"
     ]
    },
    {
     "name": "stdout",
     "output_type": "stream",
     "text": [
      "[LightGBM] [Warning] There are no meaningful features which satisfy the provided configuration. Decreasing Dataset parameters min_data_in_bin or min_data_in_leaf and re-constructing Dataset might resolve this warning.\n",
      "[LightGBM] [Info] This is the GPU trainer!!\n",
      "[LightGBM] [Info] Total Bins 0\n",
      "[LightGBM] [Info] Number of data points in the train set: 2, number of used features: 0\n",
      "[LightGBM] [Warning] There are no meaningful features which satisfy the provided configuration. Decreasing Dataset parameters min_data_in_bin or min_data_in_leaf and re-constructing Dataset might resolve this warning.\n",
      "[LightGBM] [Warning] Using sparse features with CUDA is currently not supported.\n",
      "[LightGBM] [Warning] There are no meaningful features which satisfy the provided configuration. Decreasing Dataset parameters min_data_in_bin or min_data_in_leaf and re-constructing Dataset might resolve this warning.\n",
      "[LightGBM] [Info] This is the GPU trainer!!\n",
      "[LightGBM] [Info] Total Bins 0\n",
      "[LightGBM] [Info] Number of data points in the train set: 2, number of used features: 0\n",
      "[LightGBM] [Warning] There are no meaningful features which satisfy the provided configuration. Decreasing Dataset parameters min_data_in_bin or min_data_in_leaf and re-constructing Dataset might resolve this warning.\n",
      "[LightGBM] [Warning] Using sparse features with CUDA is currently not supported.\n"
     ]
    },
    {
     "name": "stderr",
     "output_type": "stream",
     "text": [
      "[LightGBM] [Fatal] CUDA Tree Learner was not enabled in this build.\n",
      "Please recompile with CMake option -DUSE_CUDA=1\n",
      "[LightGBM] [Fatal] CUDA Tree Learner was not enabled in this build.\n",
      "Please recompile with CMake option -DUSE_CUDA=1\n"
     ]
    },
    {
     "name": "stdout",
     "output_type": "stream",
     "text": [
      "[LightGBM] [Warning] There are no meaningful features which satisfy the provided configuration. Decreasing Dataset parameters min_data_in_bin or min_data_in_leaf and re-constructing Dataset might resolve this warning.\n",
      "[LightGBM] [Info] This is the GPU trainer!!\n",
      "[LightGBM] [Info] Total Bins 0\n",
      "[LightGBM] [Info] Number of data points in the train set: 2, number of used features: 0\n",
      "[LightGBM] [Warning] There are no meaningful features which satisfy the provided configuration. Decreasing Dataset parameters min_data_in_bin or min_data_in_leaf and re-constructing Dataset might resolve this warning.\n",
      "[LightGBM] [Warning] Using sparse features with CUDA is currently not supported.\n",
      "[LightGBM] [Warning] There are no meaningful features which satisfy the provided configuration. Decreasing Dataset parameters min_data_in_bin or min_data_in_leaf and re-constructing Dataset might resolve this warning.\n",
      "[LightGBM] [Info] This is the GPU trainer!!\n",
      "[LightGBM] [Info] Total Bins 0\n",
      "[LightGBM] [Info] Number of data points in the train set: 2, number of used features: 0\n",
      "[LightGBM] [Warning] There are no meaningful features which satisfy the provided configuration. Decreasing Dataset parameters min_data_in_bin or min_data_in_leaf and re-constructing Dataset might resolve this warning.\n",
      "[LightGBM] [Warning] Using sparse features with CUDA is currently not supported.\n"
     ]
    },
    {
     "name": "stderr",
     "output_type": "stream",
     "text": [
      "[LightGBM] [Fatal] CUDA Tree Learner was not enabled in this build.\n",
      "Please recompile with CMake option -DUSE_CUDA=1\n",
      "[LightGBM] [Fatal] CUDA Tree Learner was not enabled in this build.\n",
      "Please recompile with CMake option -DUSE_CUDA=1\n"
     ]
    },
    {
     "name": "stdout",
     "output_type": "stream",
     "text": [
      "[LightGBM] [Warning] There are no meaningful features which satisfy the provided configuration. Decreasing Dataset parameters min_data_in_bin or min_data_in_leaf and re-constructing Dataset might resolve this warning.\n",
      "[LightGBM] [Info] This is the GPU trainer!!\n",
      "[LightGBM] [Info] Total Bins 0\n",
      "[LightGBM] [Info] Number of data points in the train set: 2, number of used features: 0\n",
      "[LightGBM] [Warning] There are no meaningful features which satisfy the provided configuration. Decreasing Dataset parameters min_data_in_bin or min_data_in_leaf and re-constructing Dataset might resolve this warning.\n",
      "[LightGBM] [Warning] Using sparse features with CUDA is currently not supported.\n",
      "[LightGBM] [Warning] There are no meaningful features which satisfy the provided configuration. Decreasing Dataset parameters min_data_in_bin or min_data_in_leaf and re-constructing Dataset might resolve this warning.\n",
      "[LightGBM] [Info] This is the GPU trainer!!\n",
      "[LightGBM] [Info] Total Bins 0\n",
      "[LightGBM] [Info] Number of data points in the train set: 2, number of used features: 0\n",
      "[LightGBM] [Warning] There are no meaningful features which satisfy the provided configuration. Decreasing Dataset parameters min_data_in_bin or min_data_in_leaf and re-constructing Dataset might resolve this warning.\n",
      "[LightGBM] [Warning] Using sparse features with CUDA is currently not supported.\n"
     ]
    },
    {
     "name": "stderr",
     "output_type": "stream",
     "text": [
      "[LightGBM] [Fatal] CUDA Tree Learner was not enabled in this build.\n",
      "Please recompile with CMake option -DUSE_CUDA=1\n",
      "[LightGBM] [Fatal] CUDA Tree Learner was not enabled in this build.\n",
      "Please recompile with CMake option -DUSE_CUDA=1\n"
     ]
    },
    {
     "name": "stdout",
     "output_type": "stream",
     "text": [
      "[LightGBM] [Warning] There are no meaningful features which satisfy the provided configuration. Decreasing Dataset parameters min_data_in_bin or min_data_in_leaf and re-constructing Dataset might resolve this warning.\n",
      "[LightGBM] [Info] This is the GPU trainer!!\n",
      "[LightGBM] [Info] Total Bins 0\n",
      "[LightGBM] [Info] Number of data points in the train set: 2, number of used features: 0\n",
      "[LightGBM] [Warning] There are no meaningful features which satisfy the provided configuration. Decreasing Dataset parameters min_data_in_bin or min_data_in_leaf and re-constructing Dataset might resolve this warning.\n",
      "[LightGBM] [Warning] Using sparse features with CUDA is currently not supported.\n",
      "[LightGBM] [Warning] There are no meaningful features which satisfy the provided configuration. Decreasing Dataset parameters min_data_in_bin or min_data_in_leaf and re-constructing Dataset might resolve this warning.\n",
      "[LightGBM] [Info] This is the GPU trainer!!\n",
      "[LightGBM] [Info] Total Bins 0\n",
      "[LightGBM] [Info] Number of data points in the train set: 2, number of used features: 0\n",
      "[LightGBM] [Warning] There are no meaningful features which satisfy the provided configuration. Decreasing Dataset parameters min_data_in_bin or min_data_in_leaf and re-constructing Dataset might resolve this warning.\n",
      "[LightGBM] [Warning] Using sparse features with CUDA is currently not supported.\n"
     ]
    },
    {
     "name": "stderr",
     "output_type": "stream",
     "text": [
      "[LightGBM] [Fatal] CUDA Tree Learner was not enabled in this build.\n",
      "Please recompile with CMake option -DUSE_CUDA=1\n",
      "[LightGBM] [Fatal] CUDA Tree Learner was not enabled in this build.\n",
      "Please recompile with CMake option -DUSE_CUDA=1\n"
     ]
    },
    {
     "data": {
      "text/plain": "<pandas.io.formats.style.Styler at 0x7fef3c05f0d0>",
      "text/html": "<style type=\"text/css\">\n#T_f3703_row8_col1, #T_f3703_row12_col1, #T_f3703_row17_col1 {\n  background-color: lightgreen;\n}\n</style>\n<table id=\"T_f3703\">\n  <thead>\n    <tr>\n      <th class=\"blank level0\" >&nbsp;</th>\n      <th id=\"T_f3703_level0_col0\" class=\"col_heading level0 col0\" >Description</th>\n      <th id=\"T_f3703_level0_col1\" class=\"col_heading level0 col1\" >Value</th>\n    </tr>\n  </thead>\n  <tbody>\n    <tr>\n      <th id=\"T_f3703_level0_row0\" class=\"row_heading level0 row0\" >0</th>\n      <td id=\"T_f3703_row0_col0\" class=\"data row0 col0\" >Session id</td>\n      <td id=\"T_f3703_row0_col1\" class=\"data row0 col1\" >123</td>\n    </tr>\n    <tr>\n      <th id=\"T_f3703_level0_row1\" class=\"row_heading level0 row1\" >1</th>\n      <td id=\"T_f3703_row1_col0\" class=\"data row1 col0\" >Target</td>\n      <td id=\"T_f3703_row1_col1\" class=\"data row1 col1\" >is_legit</td>\n    </tr>\n    <tr>\n      <th id=\"T_f3703_level0_row2\" class=\"row_heading level0 row2\" >2</th>\n      <td id=\"T_f3703_row2_col0\" class=\"data row2 col0\" >Target type</td>\n      <td id=\"T_f3703_row2_col1\" class=\"data row2 col1\" >Regression</td>\n    </tr>\n    <tr>\n      <th id=\"T_f3703_level0_row3\" class=\"row_heading level0 row3\" >3</th>\n      <td id=\"T_f3703_row3_col0\" class=\"data row3 col0\" >Original data shape</td>\n      <td id=\"T_f3703_row3_col1\" class=\"data row3 col1\" >(239257, 11)</td>\n    </tr>\n    <tr>\n      <th id=\"T_f3703_level0_row4\" class=\"row_heading level0 row4\" >4</th>\n      <td id=\"T_f3703_row4_col0\" class=\"data row4 col0\" >Transformed data shape</td>\n      <td id=\"T_f3703_row4_col1\" class=\"data row4 col1\" >(239257, 11)</td>\n    </tr>\n    <tr>\n      <th id=\"T_f3703_level0_row5\" class=\"row_heading level0 row5\" >5</th>\n      <td id=\"T_f3703_row5_col0\" class=\"data row5 col0\" >Transformed train set shape</td>\n      <td id=\"T_f3703_row5_col1\" class=\"data row5 col1\" >(167479, 11)</td>\n    </tr>\n    <tr>\n      <th id=\"T_f3703_level0_row6\" class=\"row_heading level0 row6\" >6</th>\n      <td id=\"T_f3703_row6_col0\" class=\"data row6 col0\" >Transformed test set shape</td>\n      <td id=\"T_f3703_row6_col1\" class=\"data row6 col1\" >(71778, 11)</td>\n    </tr>\n    <tr>\n      <th id=\"T_f3703_level0_row7\" class=\"row_heading level0 row7\" >7</th>\n      <td id=\"T_f3703_row7_col0\" class=\"data row7 col0\" >Numeric features</td>\n      <td id=\"T_f3703_row7_col1\" class=\"data row7 col1\" >10</td>\n    </tr>\n    <tr>\n      <th id=\"T_f3703_level0_row8\" class=\"row_heading level0 row8\" >8</th>\n      <td id=\"T_f3703_row8_col0\" class=\"data row8 col0\" >Preprocess</td>\n      <td id=\"T_f3703_row8_col1\" class=\"data row8 col1\" >True</td>\n    </tr>\n    <tr>\n      <th id=\"T_f3703_level0_row9\" class=\"row_heading level0 row9\" >9</th>\n      <td id=\"T_f3703_row9_col0\" class=\"data row9 col0\" >Imputation type</td>\n      <td id=\"T_f3703_row9_col1\" class=\"data row9 col1\" >simple</td>\n    </tr>\n    <tr>\n      <th id=\"T_f3703_level0_row10\" class=\"row_heading level0 row10\" >10</th>\n      <td id=\"T_f3703_row10_col0\" class=\"data row10 col0\" >Numeric imputation</td>\n      <td id=\"T_f3703_row10_col1\" class=\"data row10 col1\" >mean</td>\n    </tr>\n    <tr>\n      <th id=\"T_f3703_level0_row11\" class=\"row_heading level0 row11\" >11</th>\n      <td id=\"T_f3703_row11_col0\" class=\"data row11 col0\" >Categorical imputation</td>\n      <td id=\"T_f3703_row11_col1\" class=\"data row11 col1\" >mode</td>\n    </tr>\n    <tr>\n      <th id=\"T_f3703_level0_row12\" class=\"row_heading level0 row12\" >12</th>\n      <td id=\"T_f3703_row12_col0\" class=\"data row12 col0\" >Normalize</td>\n      <td id=\"T_f3703_row12_col1\" class=\"data row12 col1\" >True</td>\n    </tr>\n    <tr>\n      <th id=\"T_f3703_level0_row13\" class=\"row_heading level0 row13\" >13</th>\n      <td id=\"T_f3703_row13_col0\" class=\"data row13 col0\" >Normalize method</td>\n      <td id=\"T_f3703_row13_col1\" class=\"data row13 col1\" >zscore</td>\n    </tr>\n    <tr>\n      <th id=\"T_f3703_level0_row14\" class=\"row_heading level0 row14\" >14</th>\n      <td id=\"T_f3703_row14_col0\" class=\"data row14 col0\" >Fold Generator</td>\n      <td id=\"T_f3703_row14_col1\" class=\"data row14 col1\" >KFold</td>\n    </tr>\n    <tr>\n      <th id=\"T_f3703_level0_row15\" class=\"row_heading level0 row15\" >15</th>\n      <td id=\"T_f3703_row15_col0\" class=\"data row15 col0\" >Fold Number</td>\n      <td id=\"T_f3703_row15_col1\" class=\"data row15 col1\" >10</td>\n    </tr>\n    <tr>\n      <th id=\"T_f3703_level0_row16\" class=\"row_heading level0 row16\" >16</th>\n      <td id=\"T_f3703_row16_col0\" class=\"data row16 col0\" >CPU Jobs</td>\n      <td id=\"T_f3703_row16_col1\" class=\"data row16 col1\" >-1</td>\n    </tr>\n    <tr>\n      <th id=\"T_f3703_level0_row17\" class=\"row_heading level0 row17\" >17</th>\n      <td id=\"T_f3703_row17_col0\" class=\"data row17 col0\" >Use GPU</td>\n      <td id=\"T_f3703_row17_col1\" class=\"data row17 col1\" >True</td>\n    </tr>\n    <tr>\n      <th id=\"T_f3703_level0_row18\" class=\"row_heading level0 row18\" >18</th>\n      <td id=\"T_f3703_row18_col0\" class=\"data row18 col0\" >Log Experiment</td>\n      <td id=\"T_f3703_row18_col1\" class=\"data row18 col1\" >False</td>\n    </tr>\n    <tr>\n      <th id=\"T_f3703_level0_row19\" class=\"row_heading level0 row19\" >19</th>\n      <td id=\"T_f3703_row19_col0\" class=\"data row19 col0\" >Experiment Name</td>\n      <td id=\"T_f3703_row19_col1\" class=\"data row19 col1\" >semantic_regression</td>\n    </tr>\n    <tr>\n      <th id=\"T_f3703_level0_row20\" class=\"row_heading level0 row20\" >20</th>\n      <td id=\"T_f3703_row20_col0\" class=\"data row20 col0\" >USI</td>\n      <td id=\"T_f3703_row20_col1\" class=\"data row20 col1\" >dcc0</td>\n    </tr>\n  </tbody>\n</table>\n"
     },
     "metadata": {},
     "output_type": "display_data"
    },
    {
     "name": "stdout",
     "output_type": "stream",
     "text": [
      "[LightGBM] [Warning] There are no meaningful features which satisfy the provided configuration. Decreasing Dataset parameters min_data_in_bin or min_data_in_leaf and re-constructing Dataset might resolve this warning.\n",
      "[LightGBM] [Info] This is the GPU trainer!!\n",
      "[LightGBM] [Info] Total Bins 0\n",
      "[LightGBM] [Info] Number of data points in the train set: 2, number of used features: 0\n",
      "[LightGBM] [Warning] There are no meaningful features which satisfy the provided configuration. Decreasing Dataset parameters min_data_in_bin or min_data_in_leaf and re-constructing Dataset might resolve this warning.\n",
      "[LightGBM] [Warning] Using sparse features with CUDA is currently not supported.\n",
      "[LightGBM] [Warning] There are no meaningful features which satisfy the provided configuration. Decreasing Dataset parameters min_data_in_bin or min_data_in_leaf and re-constructing Dataset might resolve this warning.\n",
      "[LightGBM] [Info] This is the GPU trainer!!\n",
      "[LightGBM] [Info] Total Bins 0\n",
      "[LightGBM] [Info] Number of data points in the train set: 2, number of used features: 0\n",
      "[LightGBM] [Warning] There are no meaningful features which satisfy the provided configuration. Decreasing Dataset parameters min_data_in_bin or min_data_in_leaf and re-constructing Dataset might resolve this warning.\n",
      "[LightGBM] [Warning] Using sparse features with CUDA is currently not supported.\n"
     ]
    },
    {
     "name": "stderr",
     "output_type": "stream",
     "text": [
      "[LightGBM] [Fatal] CUDA Tree Learner was not enabled in this build.\n",
      "Please recompile with CMake option -DUSE_CUDA=1\n",
      "[LightGBM] [Fatal] CUDA Tree Learner was not enabled in this build.\n",
      "Please recompile with CMake option -DUSE_CUDA=1\n"
     ]
    },
    {
     "data": {
      "text/plain": "<pycaret.regression.oop.RegressionExperiment at 0x7fef9da1ea90>"
     },
     "execution_count": 14,
     "metadata": {},
     "output_type": "execute_result"
    }
   ],
   "source": [
    "r = RegressionExperiment()\n",
    "r.setup(data=df_semantic, target='is_legit', session_id=123, use_gpu=True, log_experiment=False,\n",
    "        experiment_name='semantic_regression', normalize=True)"
   ]
  },
  {
   "cell_type": "code",
   "outputs": [
    {
     "data": {
      "text/plain": "                                                                    \n                                                                    \nInitiated  . . . . . . . . . . . . . . . . . .              19:46:09\nStatus     . . . . . . . . . . . . . . . . . .  Loading Dependencies\nEstimator  . . . . . . . . . . . . . . . . . .     Compiling Library",
      "text/html": "<div>\n<style scoped>\n    .dataframe tbody tr th:only-of-type {\n        vertical-align: middle;\n    }\n\n    .dataframe tbody tr th {\n        vertical-align: top;\n    }\n\n    .dataframe thead th {\n        text-align: right;\n    }\n</style>\n<table border=\"1\" class=\"dataframe\">\n  <thead>\n    <tr style=\"text-align: right;\">\n      <th></th>\n      <th></th>\n      <th></th>\n    </tr>\n    <tr>\n      <th></th>\n      <th></th>\n      <th></th>\n    </tr>\n  </thead>\n  <tbody>\n    <tr>\n      <th>Initiated</th>\n      <td>. . . . . . . . . . . . . . . . . .</td>\n      <td>19:46:09</td>\n    </tr>\n    <tr>\n      <th>Status</th>\n      <td>. . . . . . . . . . . . . . . . . .</td>\n      <td>Loading Dependencies</td>\n    </tr>\n    <tr>\n      <th>Estimator</th>\n      <td>. . . . . . . . . . . . . . . . . .</td>\n      <td>Compiling Library</td>\n    </tr>\n  </tbody>\n</table>\n</div>"
     },
     "metadata": {},
     "output_type": "display_data"
    },
    {
     "data": {
      "text/plain": "<IPython.core.display.HTML object>",
      "text/html": ""
     },
     "metadata": {},
     "output_type": "display_data"
    },
    {
     "data": {
      "text/plain": "<pandas.io.formats.style.Styler at 0x7fef3beecb50>",
      "text/html": "<style type=\"text/css\">\n#T_3c5b7 th {\n  text-align: left;\n}\n#T_3c5b7_row0_col0, #T_3c5b7_row0_col1, #T_3c5b7_row0_col6, #T_3c5b7_row1_col0, #T_3c5b7_row1_col1, #T_3c5b7_row1_col2, #T_3c5b7_row1_col3, #T_3c5b7_row1_col4, #T_3c5b7_row1_col5, #T_3c5b7_row1_col6, #T_3c5b7_row2_col0, #T_3c5b7_row2_col1, #T_3c5b7_row2_col2, #T_3c5b7_row2_col3, #T_3c5b7_row2_col4, #T_3c5b7_row2_col5, #T_3c5b7_row2_col6, #T_3c5b7_row3_col0, #T_3c5b7_row3_col2, #T_3c5b7_row3_col3, #T_3c5b7_row3_col4, #T_3c5b7_row3_col5, #T_3c5b7_row4_col0, #T_3c5b7_row4_col1, #T_3c5b7_row4_col2, #T_3c5b7_row4_col3, #T_3c5b7_row4_col4, #T_3c5b7_row4_col5, #T_3c5b7_row4_col6, #T_3c5b7_row5_col0, #T_3c5b7_row5_col1, #T_3c5b7_row5_col2, #T_3c5b7_row5_col3, #T_3c5b7_row5_col4, #T_3c5b7_row5_col5, #T_3c5b7_row5_col6, #T_3c5b7_row6_col0, #T_3c5b7_row6_col1, #T_3c5b7_row6_col2, #T_3c5b7_row6_col3, #T_3c5b7_row6_col4, #T_3c5b7_row6_col5, #T_3c5b7_row6_col6, #T_3c5b7_row7_col0, #T_3c5b7_row7_col1, #T_3c5b7_row7_col2, #T_3c5b7_row7_col3, #T_3c5b7_row7_col4, #T_3c5b7_row7_col5, #T_3c5b7_row7_col6, #T_3c5b7_row8_col0, #T_3c5b7_row8_col1, #T_3c5b7_row8_col2, #T_3c5b7_row8_col3, #T_3c5b7_row8_col4, #T_3c5b7_row8_col5, #T_3c5b7_row8_col6, #T_3c5b7_row9_col0, #T_3c5b7_row9_col1, #T_3c5b7_row9_col2, #T_3c5b7_row9_col3, #T_3c5b7_row9_col4, #T_3c5b7_row9_col5, #T_3c5b7_row9_col6, #T_3c5b7_row10_col0, #T_3c5b7_row10_col1, #T_3c5b7_row10_col2, #T_3c5b7_row10_col3, #T_3c5b7_row10_col4, #T_3c5b7_row10_col5, #T_3c5b7_row10_col6, #T_3c5b7_row11_col0, #T_3c5b7_row11_col1, #T_3c5b7_row11_col2, #T_3c5b7_row11_col3, #T_3c5b7_row11_col4, #T_3c5b7_row11_col5, #T_3c5b7_row11_col6, #T_3c5b7_row12_col0, #T_3c5b7_row12_col1, #T_3c5b7_row12_col2, #T_3c5b7_row12_col3, #T_3c5b7_row12_col4, #T_3c5b7_row12_col5, #T_3c5b7_row12_col6, #T_3c5b7_row13_col0, #T_3c5b7_row13_col1, #T_3c5b7_row13_col2, #T_3c5b7_row13_col3, #T_3c5b7_row13_col4, #T_3c5b7_row13_col5, #T_3c5b7_row13_col6, #T_3c5b7_row14_col0, #T_3c5b7_row14_col1, #T_3c5b7_row14_col2, #T_3c5b7_row14_col3, #T_3c5b7_row14_col4, #T_3c5b7_row14_col5, #T_3c5b7_row14_col6, #T_3c5b7_row15_col0, #T_3c5b7_row15_col1, #T_3c5b7_row15_col2, #T_3c5b7_row15_col3, #T_3c5b7_row15_col4, #T_3c5b7_row15_col5, #T_3c5b7_row15_col6, #T_3c5b7_row16_col0, #T_3c5b7_row16_col1, #T_3c5b7_row16_col2, #T_3c5b7_row16_col3, #T_3c5b7_row16_col4, #T_3c5b7_row16_col5, #T_3c5b7_row16_col6, #T_3c5b7_row17_col0, #T_3c5b7_row17_col1, #T_3c5b7_row17_col2, #T_3c5b7_row17_col3, #T_3c5b7_row17_col4, #T_3c5b7_row17_col5, #T_3c5b7_row17_col6 {\n  text-align: left;\n}\n#T_3c5b7_row0_col2, #T_3c5b7_row0_col3, #T_3c5b7_row0_col4, #T_3c5b7_row0_col5, #T_3c5b7_row3_col1, #T_3c5b7_row3_col6 {\n  text-align: left;\n  background-color: yellow;\n}\n#T_3c5b7_row0_col7, #T_3c5b7_row1_col7, #T_3c5b7_row2_col7, #T_3c5b7_row3_col7, #T_3c5b7_row4_col7, #T_3c5b7_row5_col7, #T_3c5b7_row6_col7, #T_3c5b7_row7_col7, #T_3c5b7_row8_col7, #T_3c5b7_row9_col7, #T_3c5b7_row10_col7, #T_3c5b7_row11_col7, #T_3c5b7_row12_col7, #T_3c5b7_row13_col7, #T_3c5b7_row14_col7, #T_3c5b7_row15_col7, #T_3c5b7_row17_col7 {\n  text-align: left;\n  background-color: lightgrey;\n}\n#T_3c5b7_row16_col7 {\n  text-align: left;\n  background-color: yellow;\n  background-color: lightgrey;\n}\n</style>\n<table id=\"T_3c5b7\">\n  <thead>\n    <tr>\n      <th class=\"blank level0\" >&nbsp;</th>\n      <th id=\"T_3c5b7_level0_col0\" class=\"col_heading level0 col0\" >Model</th>\n      <th id=\"T_3c5b7_level0_col1\" class=\"col_heading level0 col1\" >MAE</th>\n      <th id=\"T_3c5b7_level0_col2\" class=\"col_heading level0 col2\" >MSE</th>\n      <th id=\"T_3c5b7_level0_col3\" class=\"col_heading level0 col3\" >RMSE</th>\n      <th id=\"T_3c5b7_level0_col4\" class=\"col_heading level0 col4\" >R2</th>\n      <th id=\"T_3c5b7_level0_col5\" class=\"col_heading level0 col5\" >RMSLE</th>\n      <th id=\"T_3c5b7_level0_col6\" class=\"col_heading level0 col6\" >MAPE</th>\n      <th id=\"T_3c5b7_level0_col7\" class=\"col_heading level0 col7\" >TT (Sec)</th>\n    </tr>\n  </thead>\n  <tbody>\n    <tr>\n      <th id=\"T_3c5b7_level0_row0\" class=\"row_heading level0 row0\" >lightgbm</th>\n      <td id=\"T_3c5b7_row0_col0\" class=\"data row0 col0\" >Light Gradient Boosting Machine</td>\n      <td id=\"T_3c5b7_row0_col1\" class=\"data row0 col1\" >0.3074</td>\n      <td id=\"T_3c5b7_row0_col2\" class=\"data row0 col2\" >0.1516</td>\n      <td id=\"T_3c5b7_row0_col3\" class=\"data row0 col3\" >0.3894</td>\n      <td id=\"T_3c5b7_row0_col4\" class=\"data row0 col4\" >0.2992</td>\n      <td id=\"T_3c5b7_row0_col5\" class=\"data row0 col5\" >0.2734</td>\n      <td id=\"T_3c5b7_row0_col6\" class=\"data row0 col6\" >0.4842</td>\n      <td id=\"T_3c5b7_row0_col7\" class=\"data row0 col7\" >1.7840</td>\n    </tr>\n    <tr>\n      <th id=\"T_3c5b7_level0_row1\" class=\"row_heading level0 row1\" >gbr</th>\n      <td id=\"T_3c5b7_row1_col0\" class=\"data row1 col0\" >Gradient Boosting Regressor</td>\n      <td id=\"T_3c5b7_row1_col1\" class=\"data row1 col1\" >0.3279</td>\n      <td id=\"T_3c5b7_row1_col2\" class=\"data row1 col2\" >0.1581</td>\n      <td id=\"T_3c5b7_row1_col3\" class=\"data row1 col3\" >0.3976</td>\n      <td id=\"T_3c5b7_row1_col4\" class=\"data row1 col4\" >0.2692</td>\n      <td id=\"T_3c5b7_row1_col5\" class=\"data row1 col5\" >0.2798</td>\n      <td id=\"T_3c5b7_row1_col6\" class=\"data row1 col6\" >0.5094</td>\n      <td id=\"T_3c5b7_row1_col7\" class=\"data row1 col7\" >7.1260</td>\n    </tr>\n    <tr>\n      <th id=\"T_3c5b7_level0_row2\" class=\"row_heading level0 row2\" >rf</th>\n      <td id=\"T_3c5b7_row2_col0\" class=\"data row2 col0\" >Random Forest Regressor</td>\n      <td id=\"T_3c5b7_row2_col1\" class=\"data row2 col1\" >0.2970</td>\n      <td id=\"T_3c5b7_row2_col2\" class=\"data row2 col2\" >0.1592</td>\n      <td id=\"T_3c5b7_row2_col3\" class=\"data row2 col3\" >0.3991</td>\n      <td id=\"T_3c5b7_row2_col4\" class=\"data row2 col4\" >0.2639</td>\n      <td id=\"T_3c5b7_row2_col5\" class=\"data row2 col5\" >0.2810</td>\n      <td id=\"T_3c5b7_row2_col6\" class=\"data row2 col6\" >0.4650</td>\n      <td id=\"T_3c5b7_row2_col7\" class=\"data row2 col7\" >1.6800</td>\n    </tr>\n    <tr>\n      <th id=\"T_3c5b7_level0_row3\" class=\"row_heading level0 row3\" >et</th>\n      <td id=\"T_3c5b7_row3_col0\" class=\"data row3 col0\" >Extra Trees Regressor</td>\n      <td id=\"T_3c5b7_row3_col1\" class=\"data row3 col1\" >0.2951</td>\n      <td id=\"T_3c5b7_row3_col2\" class=\"data row3 col2\" >0.1635</td>\n      <td id=\"T_3c5b7_row3_col3\" class=\"data row3 col3\" >0.4043</td>\n      <td id=\"T_3c5b7_row3_col4\" class=\"data row3 col4\" >0.2443</td>\n      <td id=\"T_3c5b7_row3_col5\" class=\"data row3 col5\" >0.2844</td>\n      <td id=\"T_3c5b7_row3_col6\" class=\"data row3 col6\" >0.4638</td>\n      <td id=\"T_3c5b7_row3_col7\" class=\"data row3 col7\" >0.9920</td>\n    </tr>\n    <tr>\n      <th id=\"T_3c5b7_level0_row4\" class=\"row_heading level0 row4\" >dt</th>\n      <td id=\"T_3c5b7_row4_col0\" class=\"data row4 col0\" >Decision Tree Regressor</td>\n      <td id=\"T_3c5b7_row4_col1\" class=\"data row4 col1\" >0.2957</td>\n      <td id=\"T_3c5b7_row4_col2\" class=\"data row4 col2\" >0.1725</td>\n      <td id=\"T_3c5b7_row4_col3\" class=\"data row4 col3\" >0.4154</td>\n      <td id=\"T_3c5b7_row4_col4\" class=\"data row4 col4\" >0.2025</td>\n      <td id=\"T_3c5b7_row4_col5\" class=\"data row4 col5\" >0.2916</td>\n      <td id=\"T_3c5b7_row4_col6\" class=\"data row4 col6\" >0.4641</td>\n      <td id=\"T_3c5b7_row4_col7\" class=\"data row4 col7\" >0.2680</td>\n    </tr>\n    <tr>\n      <th id=\"T_3c5b7_level0_row5\" class=\"row_heading level0 row5\" >knn</th>\n      <td id=\"T_3c5b7_row5_col0\" class=\"data row5 col0\" >K Neighbors Regressor</td>\n      <td id=\"T_3c5b7_row5_col1\" class=\"data row5 col1\" >0.3012</td>\n      <td id=\"T_3c5b7_row5_col2\" class=\"data row5 col2\" >0.1802</td>\n      <td id=\"T_3c5b7_row5_col3\" class=\"data row5 col3\" >0.4245</td>\n      <td id=\"T_3c5b7_row5_col4\" class=\"data row5 col4\" >0.1672</td>\n      <td id=\"T_3c5b7_row5_col5\" class=\"data row5 col5\" >0.2988</td>\n      <td id=\"T_3c5b7_row5_col6\" class=\"data row5 col6\" >0.4641</td>\n      <td id=\"T_3c5b7_row5_col7\" class=\"data row5 col7\" >0.7760</td>\n    </tr>\n    <tr>\n      <th id=\"T_3c5b7_level0_row6\" class=\"row_heading level0 row6\" >lr</th>\n      <td id=\"T_3c5b7_row6_col0\" class=\"data row6 col0\" >Linear Regression</td>\n      <td id=\"T_3c5b7_row6_col1\" class=\"data row6 col1\" >0.3738</td>\n      <td id=\"T_3c5b7_row6_col2\" class=\"data row6 col2\" >0.1814</td>\n      <td id=\"T_3c5b7_row6_col3\" class=\"data row6 col3\" >0.4259</td>\n      <td id=\"T_3c5b7_row6_col4\" class=\"data row6 col4\" >0.1614</td>\n      <td id=\"T_3c5b7_row6_col5\" class=\"data row6 col5\" >0.3007</td>\n      <td id=\"T_3c5b7_row6_col6\" class=\"data row6 col6\" >0.5733</td>\n      <td id=\"T_3c5b7_row6_col7\" class=\"data row6 col7\" >0.0840</td>\n    </tr>\n    <tr>\n      <th id=\"T_3c5b7_level0_row7\" class=\"row_heading level0 row7\" >ridge</th>\n      <td id=\"T_3c5b7_row7_col0\" class=\"data row7 col0\" >Ridge Regression</td>\n      <td id=\"T_3c5b7_row7_col1\" class=\"data row7 col1\" >0.3738</td>\n      <td id=\"T_3c5b7_row7_col2\" class=\"data row7 col2\" >0.1814</td>\n      <td id=\"T_3c5b7_row7_col3\" class=\"data row7 col3\" >0.4259</td>\n      <td id=\"T_3c5b7_row7_col4\" class=\"data row7 col4\" >0.1614</td>\n      <td id=\"T_3c5b7_row7_col5\" class=\"data row7 col5\" >0.3007</td>\n      <td id=\"T_3c5b7_row7_col6\" class=\"data row7 col6\" >0.5733</td>\n      <td id=\"T_3c5b7_row7_col7\" class=\"data row7 col7\" >0.0560</td>\n    </tr>\n    <tr>\n      <th id=\"T_3c5b7_level0_row8\" class=\"row_heading level0 row8\" >br</th>\n      <td id=\"T_3c5b7_row8_col0\" class=\"data row8 col0\" >Bayesian Ridge</td>\n      <td id=\"T_3c5b7_row8_col1\" class=\"data row8 col1\" >0.3738</td>\n      <td id=\"T_3c5b7_row8_col2\" class=\"data row8 col2\" >0.1814</td>\n      <td id=\"T_3c5b7_row8_col3\" class=\"data row8 col3\" >0.4259</td>\n      <td id=\"T_3c5b7_row8_col4\" class=\"data row8 col4\" >0.1614</td>\n      <td id=\"T_3c5b7_row8_col5\" class=\"data row8 col5\" >0.3007</td>\n      <td id=\"T_3c5b7_row8_col6\" class=\"data row8 col6\" >0.5734</td>\n      <td id=\"T_3c5b7_row8_col7\" class=\"data row8 col7\" >0.1080</td>\n    </tr>\n    <tr>\n      <th id=\"T_3c5b7_level0_row9\" class=\"row_heading level0 row9\" >ada</th>\n      <td id=\"T_3c5b7_row9_col0\" class=\"data row9 col0\" >AdaBoost Regressor</td>\n      <td id=\"T_3c5b7_row9_col1\" class=\"data row9 col1\" >0.3936</td>\n      <td id=\"T_3c5b7_row9_col2\" class=\"data row9 col2\" >0.1851</td>\n      <td id=\"T_3c5b7_row9_col3\" class=\"data row9 col3\" >0.4302</td>\n      <td id=\"T_3c5b7_row9_col4\" class=\"data row9 col4\" >0.1444</td>\n      <td id=\"T_3c5b7_row9_col5\" class=\"data row9 col5\" >0.3105</td>\n      <td id=\"T_3c5b7_row9_col6\" class=\"data row9 col6\" >0.5303</td>\n      <td id=\"T_3c5b7_row9_col7\" class=\"data row9 col7\" >2.3360</td>\n    </tr>\n    <tr>\n      <th id=\"T_3c5b7_level0_row10\" class=\"row_heading level0 row10\" >lar</th>\n      <td id=\"T_3c5b7_row10_col0\" class=\"data row10 col0\" >Least Angle Regression</td>\n      <td id=\"T_3c5b7_row10_col1\" class=\"data row10 col1\" >0.3811</td>\n      <td id=\"T_3c5b7_row10_col2\" class=\"data row10 col2\" >0.1958</td>\n      <td id=\"T_3c5b7_row10_col3\" class=\"data row10 col3\" >0.4422</td>\n      <td id=\"T_3c5b7_row10_col4\" class=\"data row10 col4\" >0.0948</td>\n      <td id=\"T_3c5b7_row10_col5\" class=\"data row10 col5\" >0.3117</td>\n      <td id=\"T_3c5b7_row10_col6\" class=\"data row10 col6\" >0.5738</td>\n      <td id=\"T_3c5b7_row10_col7\" class=\"data row10 col7\" >0.0740</td>\n    </tr>\n    <tr>\n      <th id=\"T_3c5b7_level0_row11\" class=\"row_heading level0 row11\" >omp</th>\n      <td id=\"T_3c5b7_row11_col0\" class=\"data row11 col0\" >Orthogonal Matching Pursuit</td>\n      <td id=\"T_3c5b7_row11_col1\" class=\"data row11 col1\" >0.4022</td>\n      <td id=\"T_3c5b7_row11_col2\" class=\"data row11 col2\" >0.1968</td>\n      <td id=\"T_3c5b7_row11_col3\" class=\"data row11 col3\" >0.4436</td>\n      <td id=\"T_3c5b7_row11_col4\" class=\"data row11 col4\" >0.0905</td>\n      <td id=\"T_3c5b7_row11_col5\" class=\"data row11 col5\" >0.3127</td>\n      <td id=\"T_3c5b7_row11_col6\" class=\"data row11 col6\" >0.6215</td>\n      <td id=\"T_3c5b7_row11_col7\" class=\"data row11 col7\" >0.0660</td>\n    </tr>\n    <tr>\n      <th id=\"T_3c5b7_level0_row12\" class=\"row_heading level0 row12\" >huber</th>\n      <td id=\"T_3c5b7_row12_col0\" class=\"data row12 col0\" >Huber Regressor</td>\n      <td id=\"T_3c5b7_row12_col1\" class=\"data row12 col1\" >0.3369</td>\n      <td id=\"T_3c5b7_row12_col2\" class=\"data row12 col2\" >0.1998</td>\n      <td id=\"T_3c5b7_row12_col3\" class=\"data row12 col3\" >0.4470</td>\n      <td id=\"T_3c5b7_row12_col4\" class=\"data row12 col4\" >0.0766</td>\n      <td id=\"T_3c5b7_row12_col5\" class=\"data row12 col5\" >0.3039</td>\n      <td id=\"T_3c5b7_row12_col6\" class=\"data row12 col6\" >0.6905</td>\n      <td id=\"T_3c5b7_row12_col7\" class=\"data row12 col7\" >0.5280</td>\n    </tr>\n    <tr>\n      <th id=\"T_3c5b7_level0_row13\" class=\"row_heading level0 row13\" >lasso</th>\n      <td id=\"T_3c5b7_row13_col0\" class=\"data row13 col0\" >Lasso Regression</td>\n      <td id=\"T_3c5b7_row13_col1\" class=\"data row13 col1\" >0.4327</td>\n      <td id=\"T_3c5b7_row13_col2\" class=\"data row13 col2\" >0.2164</td>\n      <td id=\"T_3c5b7_row13_col3\" class=\"data row13 col3\" >0.4651</td>\n      <td id=\"T_3c5b7_row13_col4\" class=\"data row13 col4\" >-0.0000</td>\n      <td id=\"T_3c5b7_row13_col5\" class=\"data row13 col5\" >0.3273</td>\n      <td id=\"T_3c5b7_row13_col6\" class=\"data row13 col6\" >0.6834</td>\n      <td id=\"T_3c5b7_row13_col7\" class=\"data row13 col7\" >0.0840</td>\n    </tr>\n    <tr>\n      <th id=\"T_3c5b7_level0_row14\" class=\"row_heading level0 row14\" >en</th>\n      <td id=\"T_3c5b7_row14_col0\" class=\"data row14 col0\" >Elastic Net</td>\n      <td id=\"T_3c5b7_row14_col1\" class=\"data row14 col1\" >0.4327</td>\n      <td id=\"T_3c5b7_row14_col2\" class=\"data row14 col2\" >0.2164</td>\n      <td id=\"T_3c5b7_row14_col3\" class=\"data row14 col3\" >0.4651</td>\n      <td id=\"T_3c5b7_row14_col4\" class=\"data row14 col4\" >-0.0000</td>\n      <td id=\"T_3c5b7_row14_col5\" class=\"data row14 col5\" >0.3273</td>\n      <td id=\"T_3c5b7_row14_col6\" class=\"data row14 col6\" >0.6834</td>\n      <td id=\"T_3c5b7_row14_col7\" class=\"data row14 col7\" >0.0840</td>\n    </tr>\n    <tr>\n      <th id=\"T_3c5b7_level0_row15\" class=\"row_heading level0 row15\" >llar</th>\n      <td id=\"T_3c5b7_row15_col0\" class=\"data row15 col0\" >Lasso Least Angle Regression</td>\n      <td id=\"T_3c5b7_row15_col1\" class=\"data row15 col1\" >0.4327</td>\n      <td id=\"T_3c5b7_row15_col2\" class=\"data row15 col2\" >0.2164</td>\n      <td id=\"T_3c5b7_row15_col3\" class=\"data row15 col3\" >0.4651</td>\n      <td id=\"T_3c5b7_row15_col4\" class=\"data row15 col4\" >-0.0000</td>\n      <td id=\"T_3c5b7_row15_col5\" class=\"data row15 col5\" >0.3273</td>\n      <td id=\"T_3c5b7_row15_col6\" class=\"data row15 col6\" >0.6834</td>\n      <td id=\"T_3c5b7_row15_col7\" class=\"data row15 col7\" >0.0540</td>\n    </tr>\n    <tr>\n      <th id=\"T_3c5b7_level0_row16\" class=\"row_heading level0 row16\" >dummy</th>\n      <td id=\"T_3c5b7_row16_col0\" class=\"data row16 col0\" >Dummy Regressor</td>\n      <td id=\"T_3c5b7_row16_col1\" class=\"data row16 col1\" >0.4327</td>\n      <td id=\"T_3c5b7_row16_col2\" class=\"data row16 col2\" >0.2164</td>\n      <td id=\"T_3c5b7_row16_col3\" class=\"data row16 col3\" >0.4651</td>\n      <td id=\"T_3c5b7_row16_col4\" class=\"data row16 col4\" >-0.0000</td>\n      <td id=\"T_3c5b7_row16_col5\" class=\"data row16 col5\" >0.3273</td>\n      <td id=\"T_3c5b7_row16_col6\" class=\"data row16 col6\" >0.6834</td>\n      <td id=\"T_3c5b7_row16_col7\" class=\"data row16 col7\" >0.0440</td>\n    </tr>\n    <tr>\n      <th id=\"T_3c5b7_level0_row17\" class=\"row_heading level0 row17\" >par</th>\n      <td id=\"T_3c5b7_row17_col0\" class=\"data row17 col0\" >Passive Aggressive Regressor</td>\n      <td id=\"T_3c5b7_row17_col1\" class=\"data row17 col1\" >0.6464</td>\n      <td id=\"T_3c5b7_row17_col2\" class=\"data row17 col2\" >0.6536</td>\n      <td id=\"T_3c5b7_row17_col3\" class=\"data row17 col3\" >0.7978</td>\n      <td id=\"T_3c5b7_row17_col4\" class=\"data row17 col4\" >-2.0192</td>\n      <td id=\"T_3c5b7_row17_col5\" class=\"data row17 col5\" >0.4567</td>\n      <td id=\"T_3c5b7_row17_col6\" class=\"data row17 col6\" >0.8778</td>\n      <td id=\"T_3c5b7_row17_col7\" class=\"data row17 col7\" >0.1640</td>\n    </tr>\n  </tbody>\n</table>\n"
     },
     "metadata": {},
     "output_type": "display_data"
    }
   ],
   "source": [
    "best_regression_model = r.compare_models(fold=5)"
   ],
   "metadata": {
    "collapsed": false,
    "tags": [],
    "ExecuteTime": {
     "end_time": "2024-03-27T19:47:35.906250Z",
     "start_time": "2024-03-27T19:46:09.279139Z"
    }
   },
   "id": "ccb21b2418747d88",
   "execution_count": 15
  },
  {
   "cell_type": "code",
   "outputs": [
    {
     "name": "stdout",
     "output_type": "stream",
     "text": [
      "LGBMRegressor(n_jobs=-1, random_state=123)\n"
     ]
    }
   ],
   "source": [
    "print(best_regression_model)"
   ],
   "metadata": {
    "collapsed": false,
    "ExecuteTime": {
     "end_time": "2024-03-27T19:47:35.911261Z",
     "start_time": "2024-03-27T19:47:35.908125Z"
    }
   },
   "id": "e63c3e9df74e5eda",
   "execution_count": 16
  },
  {
   "cell_type": "code",
   "outputs": [
    {
     "data": {
      "text/plain": "interactive(children=(ToggleButtons(description='Plot Type:', icons=('',), options=(('Pipeline Plot', 'pipelin…",
      "application/vnd.jupyter.widget-view+json": {
       "version_major": 2,
       "version_minor": 0,
       "model_id": "701c21eecf7a4ed094803d826c050cba"
      }
     },
     "metadata": {},
     "output_type": "display_data"
    }
   ],
   "source": [
    "r.evaluate_model(best_regression_model)\n",
    "\n",
    "# model_decision_tree = create_model('dt')"
   ],
   "metadata": {
    "collapsed": false,
    "ExecuteTime": {
     "end_time": "2024-03-27T19:47:36.364511Z",
     "start_time": "2024-03-27T19:47:35.912684Z"
    }
   },
   "id": "357cdcb6af60f6ce",
   "execution_count": 17
  },
  {
   "cell_type": "code",
   "outputs": [
    {
     "data": {
      "text/plain": "<pandas.io.formats.style.Styler at 0x7fefd59c2150>",
      "text/html": "<style type=\"text/css\">\n</style>\n<table id=\"T_aa0a1\">\n  <thead>\n    <tr>\n      <th class=\"blank level0\" >&nbsp;</th>\n      <th id=\"T_aa0a1_level0_col0\" class=\"col_heading level0 col0\" >Model</th>\n      <th id=\"T_aa0a1_level0_col1\" class=\"col_heading level0 col1\" >MAE</th>\n      <th id=\"T_aa0a1_level0_col2\" class=\"col_heading level0 col2\" >MSE</th>\n      <th id=\"T_aa0a1_level0_col3\" class=\"col_heading level0 col3\" >RMSE</th>\n      <th id=\"T_aa0a1_level0_col4\" class=\"col_heading level0 col4\" >R2</th>\n      <th id=\"T_aa0a1_level0_col5\" class=\"col_heading level0 col5\" >RMSLE</th>\n      <th id=\"T_aa0a1_level0_col6\" class=\"col_heading level0 col6\" >MAPE</th>\n    </tr>\n  </thead>\n  <tbody>\n    <tr>\n      <th id=\"T_aa0a1_level0_row0\" class=\"row_heading level0 row0\" >0</th>\n      <td id=\"T_aa0a1_row0_col0\" class=\"data row0 col0\" >Light Gradient Boosting Machine</td>\n      <td id=\"T_aa0a1_row0_col1\" class=\"data row0 col1\" >0.3062</td>\n      <td id=\"T_aa0a1_row0_col2\" class=\"data row0 col2\" >0.1504</td>\n      <td id=\"T_aa0a1_row0_col3\" class=\"data row0 col3\" >0.3878</td>\n      <td id=\"T_aa0a1_row0_col4\" class=\"data row0 col4\" >0.3052</td>\n      <td id=\"T_aa0a1_row0_col5\" class=\"data row0 col5\" >0.2722</td>\n      <td id=\"T_aa0a1_row0_col6\" class=\"data row0 col6\" >0.4827</td>\n    </tr>\n  </tbody>\n</table>\n"
     },
     "metadata": {},
     "output_type": "display_data"
    },
    {
     "data": {
      "text/plain": "   levels_count  levels_mad  symbols_count  vowels_ratio  consonants_ratio  \\\n0             2         2.5             12        0.4167            0.5000   \n1             3         2.0             20        0.3500            0.5500   \n2             2         2.0             11        0.4545            0.4545   \n3             2         1.5             10        0.4000            0.5000   \n4             2         6.5             20        0.4000            0.5500   \n\n   numbers_ratio  points_ratio  special_ratio  unique_ratio  max_repeated  \\\n0            0.0        0.0833            0.0        0.7500             2   \n1            0.0        0.1000            0.0        0.7000             2   \n2            0.0        0.0909            0.0        0.8182             1   \n3            0.0        0.1000            0.0        0.7000             2   \n4            0.0        0.0500            0.0        0.5500             2   \n\n   is_legit  prediction_label  \n0         1          0.359503  \n1         1          0.432224  \n2         1          0.486415  \n3         1          0.511948  \n4         1          0.319804  ",
      "text/html": "<div>\n<style scoped>\n    .dataframe tbody tr th:only-of-type {\n        vertical-align: middle;\n    }\n\n    .dataframe tbody tr th {\n        vertical-align: top;\n    }\n\n    .dataframe thead th {\n        text-align: right;\n    }\n</style>\n<table border=\"1\" class=\"dataframe\">\n  <thead>\n    <tr style=\"text-align: right;\">\n      <th></th>\n      <th>levels_count</th>\n      <th>levels_mad</th>\n      <th>symbols_count</th>\n      <th>vowels_ratio</th>\n      <th>consonants_ratio</th>\n      <th>numbers_ratio</th>\n      <th>points_ratio</th>\n      <th>special_ratio</th>\n      <th>unique_ratio</th>\n      <th>max_repeated</th>\n      <th>is_legit</th>\n      <th>prediction_label</th>\n    </tr>\n  </thead>\n  <tbody>\n    <tr>\n      <th>0</th>\n      <td>2</td>\n      <td>2.5</td>\n      <td>12</td>\n      <td>0.4167</td>\n      <td>0.5000</td>\n      <td>0.0</td>\n      <td>0.0833</td>\n      <td>0.0</td>\n      <td>0.7500</td>\n      <td>2</td>\n      <td>1</td>\n      <td>0.359503</td>\n    </tr>\n    <tr>\n      <th>1</th>\n      <td>3</td>\n      <td>2.0</td>\n      <td>20</td>\n      <td>0.3500</td>\n      <td>0.5500</td>\n      <td>0.0</td>\n      <td>0.1000</td>\n      <td>0.0</td>\n      <td>0.7000</td>\n      <td>2</td>\n      <td>1</td>\n      <td>0.432224</td>\n    </tr>\n    <tr>\n      <th>2</th>\n      <td>2</td>\n      <td>2.0</td>\n      <td>11</td>\n      <td>0.4545</td>\n      <td>0.4545</td>\n      <td>0.0</td>\n      <td>0.0909</td>\n      <td>0.0</td>\n      <td>0.8182</td>\n      <td>1</td>\n      <td>1</td>\n      <td>0.486415</td>\n    </tr>\n    <tr>\n      <th>3</th>\n      <td>2</td>\n      <td>1.5</td>\n      <td>10</td>\n      <td>0.4000</td>\n      <td>0.5000</td>\n      <td>0.0</td>\n      <td>0.1000</td>\n      <td>0.0</td>\n      <td>0.7000</td>\n      <td>2</td>\n      <td>1</td>\n      <td>0.511948</td>\n    </tr>\n    <tr>\n      <th>4</th>\n      <td>2</td>\n      <td>6.5</td>\n      <td>20</td>\n      <td>0.4000</td>\n      <td>0.5500</td>\n      <td>0.0</td>\n      <td>0.0500</td>\n      <td>0.0</td>\n      <td>0.5500</td>\n      <td>2</td>\n      <td>1</td>\n      <td>0.319804</td>\n    </tr>\n  </tbody>\n</table>\n</div>"
     },
     "execution_count": 18,
     "metadata": {},
     "output_type": "execute_result"
    }
   ],
   "source": [
    "predictions = r.predict_model(best_regression_model, data=df_semantic)\n",
    "predictions.head()"
   ],
   "metadata": {
    "collapsed": false,
    "ExecuteTime": {
     "end_time": "2024-03-27T19:47:36.722126Z",
     "start_time": "2024-03-27T19:47:36.366014Z"
    }
   },
   "id": "215d25138ac1336f",
   "execution_count": 18
  },
  {
   "cell_type": "code",
   "outputs": [
    {
     "ename": "NameError",
     "evalue": "name 'best_regression_model' is not defined",
     "output_type": "error",
     "traceback": [
      "\u001B[0;31m---------------------------------------------------------------------------\u001B[0m",
      "\u001B[0;31mNameError\u001B[0m                                 Traceback (most recent call last)",
      "Cell \u001B[0;32mIn[8], line 1\u001B[0m\n\u001B[0;32m----> 1\u001B[0m r\u001B[38;5;241m.\u001B[39mtune_model(\u001B[43mbest_regression_model\u001B[49m)\n",
      "\u001B[0;31mNameError\u001B[0m: name 'best_regression_model' is not defined"
     ]
    }
   ],
   "source": [
    "r.tune_model(best_regression_model)"
   ],
   "metadata": {
    "collapsed": false,
    "ExecuteTime": {
     "end_time": "2024-03-27T19:27:20.044984Z",
     "start_time": "2024-03-27T19:27:20.023395Z"
    }
   },
   "id": "32bf4edd9ccf2ea3",
   "execution_count": 8
  },
  {
   "cell_type": "code",
   "outputs": [],
   "source": [
    "r.save_model(best_regression_model, model_name='semantic_regression_lgbm')"
   ],
   "metadata": {
    "collapsed": false
   },
   "id": "bb3bc2e62b2c53dc",
   "execution_count": null
  },
  {
   "cell_type": "code",
   "outputs": [],
   "source": [
    "model_go = r.convert_model(best_regression_model, 'go')\n",
    "model_python = r.convert_model(best_regression_model, 'python')"
   ],
   "metadata": {
    "collapsed": false,
    "ExecuteTime": {
     "end_time": "2024-03-27T19:51:43.949929Z",
     "start_time": "2024-03-27T19:51:43.478948Z"
    }
   },
   "id": "e469f2a0d77d5cb8",
   "execution_count": 21
  },
  {
   "cell_type": "code",
   "outputs": [
    {
     "name": "stdout",
     "output_type": "stream",
     "text": [
      "Looking in indexes: https://pypi.org/simple, https://pypi.ngc.nvidia.com\r\n",
      "Requirement already satisfied: m2cgen in /opt/conda/lib/python3.11/site-packages (0.10.0)\r\n",
      "Requirement already satisfied: numpy in /opt/conda/lib/python3.11/site-packages (from m2cgen) (1.26.3)\r\n"
     ]
    }
   ],
   "source": [
    "!pip install m2cgen\n",
    "\n",
    "from pycaret.regression import load_model\n",
    "from pycaret.regression import *"
   ],
   "metadata": {
    "collapsed": false,
    "ExecuteTime": {
     "end_time": "2024-03-27T19:47:39.921878Z",
     "start_time": "2024-03-27T19:47:36.996516Z"
    }
   },
   "id": "71ed9fbf56fd2816",
   "execution_count": 20
  },
  {
   "cell_type": "code",
   "outputs": [],
   "source": [
    "model_setup = setup(data=df_semantic, target='is_legit', session_id=812, use_gpu=True, log_experiment=False,\n",
    "                    experiment_name='semantic_regression', normalize=True)"
   ],
   "metadata": {
    "collapsed": false
   },
   "id": "2a5fceb279825afa",
   "execution_count": null
  },
  {
   "cell_type": "code",
   "outputs": [],
   "source": [
    "all_models = models()\n",
    "all_models"
   ],
   "metadata": {
    "collapsed": false
   },
   "id": "c9be7090e6dc8349",
   "execution_count": null
  },
  {
   "cell_type": "code",
   "outputs": [],
   "source": [
    "model = load_model('semantic_regression_et')\n",
    "et = create_model('et')\n",
    "\n",
    "et.load_model('semantic_regression_et')\n",
    "\n",
    "model_go = convert_model(et, 'go')"
   ],
   "metadata": {
    "collapsed": false
   },
   "id": "1e9c10ab5307757",
   "execution_count": null
  },
  {
   "cell_type": "code",
   "outputs": [],
   "source": [
    "# f = open(\"golang_semantics_lightgbm.go\", \"a\")\n",
    "f = open(\"golang_semantics_lightgbm.py\", \"a\")\n",
    "f.write(model_python)\n",
    "f.close()"
   ],
   "metadata": {
    "collapsed": false,
    "ExecuteTime": {
     "end_time": "2024-03-27T19:52:03.145588Z",
     "start_time": "2024-03-27T19:52:03.142275Z"
    }
   },
   "id": "f6c7c6f63ee8755a",
   "execution_count": 24
  }
 ],
 "metadata": {
  "kernelspec": {
   "display_name": "Python 3 (ipykernel)",
   "language": "python",
   "name": "python3"
  },
  "language_info": {
   "codemirror_mode": {
    "name": "ipython",
    "version": 3
   },
   "file_extension": ".py",
   "mimetype": "text/x-python",
   "name": "python",
   "nbconvert_exporter": "python",
   "pygments_lexer": "ipython3",
   "version": "3.11.7"
  }
 },
 "nbformat": 4,
 "nbformat_minor": 5
}
