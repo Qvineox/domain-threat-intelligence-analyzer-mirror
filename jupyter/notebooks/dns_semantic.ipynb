{
 "cells": [
  {
   "cell_type": "code",
   "execution_count": 3,
   "id": "initial_id",
   "metadata": {
    "collapsed": true,
    "jupyter": {
     "outputs_hidden": true
    },
    "ExecuteTime": {
     "end_time": "2024-03-27T09:25:05.836797Z",
     "start_time": "2024-03-27T09:25:05.674519Z"
    }
   },
   "outputs": [
    {
     "name": "stdout",
     "output_type": "stream",
     "text": [
      "Wed Mar 27 09:25:05 2024       \r\n",
      "+-----------------------------------------------------------------------------------------+\r\n",
      "| NVIDIA-SMI 550.65                 Driver Version: 551.86         CUDA Version: 12.4     |\r\n",
      "|-----------------------------------------+------------------------+----------------------+\r\n",
      "| GPU  Name                 Persistence-M | Bus-Id          Disp.A | Volatile Uncorr. ECC |\r\n",
      "| Fan  Temp   Perf          Pwr:Usage/Cap |           Memory-Usage | GPU-Util  Compute M. |\r\n",
      "|                                         |                        |               MIG M. |\r\n",
      "|=========================================+========================+======================|\r\n",
      "|   0  NVIDIA GeForce RTX 3070 Ti     On  |   00000000:01:00.0  On |                  N/A |\r\n",
      "| 53%   32C    P5             21W /  310W |    7699MiB /   8192MiB |      5%      Default |\r\n",
      "|                                         |                        |                  N/A |\r\n",
      "+-----------------------------------------+------------------------+----------------------+\r\n",
      "                                                                                         \r\n",
      "+-----------------------------------------------------------------------------------------+\r\n",
      "| Processes:                                                                              |\r\n",
      "|  GPU   GI   CI        PID   Type   Process name                              GPU Memory |\r\n",
      "|        ID   ID                                                               Usage      |\r\n",
      "|=========================================================================================|\r\n",
      "|  No running processes found                                                             |\r\n",
      "+-----------------------------------------------------------------------------------------+\r\n"
     ]
    }
   ],
   "source": [
    "!nvidia-smi"
   ]
  },
  {
   "cell_type": "code",
   "execution_count": 5,
   "id": "b22bf2c06c01edb2",
   "metadata": {
    "collapsed": false,
    "tags": [],
    "ExecuteTime": {
     "end_time": "2024-03-27T11:22:03.255114Z",
     "start_time": "2024-03-27T11:22:03.252290Z"
    }
   },
   "outputs": [],
   "source": [
    "import pandas as pd\n",
    "import numpy as np\n",
    "import matplotlib.pyplot as plt"
   ]
  },
  {
   "cell_type": "code",
   "execution_count": 5,
   "id": "1e9b3e8eba854a5b",
   "metadata": {
    "collapsed": false,
    "tags": [],
    "ExecuteTime": {
     "end_time": "2024-03-27T09:25:18.083175Z",
     "start_time": "2024-03-27T09:25:08.526373Z"
    }
   },
   "outputs": [
    {
     "name": "stdout",
     "output_type": "stream",
     "text": [
      "Looking in indexes: https://pypi.org/simple, https://pypi.ngc.nvidia.com\r\n",
      "Requirement already satisfied: pycaret in /opt/conda/lib/python3.11/site-packages (3.3.0)\r\n",
      "Requirement already satisfied: ipython>=5.5.0 in /opt/conda/lib/python3.11/site-packages (from pycaret) (8.20.0)\r\n",
      "Requirement already satisfied: ipywidgets>=7.6.5 in /opt/conda/lib/python3.11/site-packages (from pycaret) (8.0.4)\r\n",
      "Requirement already satisfied: tqdm>=4.62.0 in /opt/conda/lib/python3.11/site-packages (from pycaret) (4.66.1)\r\n",
      "Requirement already satisfied: numpy<1.27,>=1.21 in /opt/conda/lib/python3.11/site-packages (from pycaret) (1.26.3)\r\n",
      "Requirement already satisfied: pandas<2.2.0 in /opt/conda/lib/python3.11/site-packages (from pycaret) (2.1.4)\r\n",
      "Requirement already satisfied: jinja2>=3 in /opt/conda/lib/python3.11/site-packages (from pycaret) (3.1.3)\r\n",
      "Requirement already satisfied: scipy<=1.11.4,>=1.6.1 in /opt/conda/lib/python3.11/site-packages (from pycaret) (1.11.4)\r\n",
      "Requirement already satisfied: joblib>=1.2.0 in /opt/conda/lib/python3.11/site-packages (from pycaret) (1.3.2)\r\n",
      "Requirement already satisfied: scikit-learn>1.4.0 in /opt/conda/lib/python3.11/site-packages (from pycaret) (1.4.1.post1)\r\n",
      "Requirement already satisfied: pyod>=1.1.3 in /opt/conda/lib/python3.11/site-packages (from pycaret) (1.1.3)\r\n",
      "Requirement already satisfied: imbalanced-learn>=0.12.0 in /opt/conda/lib/python3.11/site-packages (from pycaret) (0.12.0)\r\n",
      "Requirement already satisfied: category-encoders>=2.4.0 in /opt/conda/lib/python3.11/site-packages (from pycaret) (2.6.3)\r\n",
      "Requirement already satisfied: lightgbm>=3.0.0 in /opt/conda/lib/python3.11/site-packages (from pycaret) (4.3.0)\r\n",
      "Requirement already satisfied: numba>=0.55.0 in /opt/conda/lib/python3.11/site-packages (from pycaret) (0.58.1)\r\n",
      "Requirement already satisfied: requests>=2.27.1 in /opt/conda/lib/python3.11/site-packages (from pycaret) (2.31.0)\r\n",
      "Requirement already satisfied: psutil>=5.9.0 in /opt/conda/lib/python3.11/site-packages (from pycaret) (5.9.8)\r\n",
      "Requirement already satisfied: markupsafe>=2.0.1 in /opt/conda/lib/python3.11/site-packages (from pycaret) (2.1.4)\r\n",
      "Requirement already satisfied: importlib-metadata>=4.12.0 in /opt/conda/lib/python3.11/site-packages (from pycaret) (7.0.1)\r\n",
      "Requirement already satisfied: nbformat>=4.2.0 in /opt/conda/lib/python3.11/site-packages (from pycaret) (5.9.2)\r\n",
      "Requirement already satisfied: cloudpickle in /opt/conda/lib/python3.11/site-packages (from pycaret) (3.0.0)\r\n",
      "Requirement already satisfied: deprecation>=2.1.0 in /opt/conda/lib/python3.11/site-packages (from pycaret) (2.1.0)\r\n",
      "Requirement already satisfied: xxhash in /opt/conda/lib/python3.11/site-packages (from pycaret) (3.4.1)\r\n",
      "Requirement already satisfied: matplotlib<3.8.0 in /opt/conda/lib/python3.11/site-packages (from pycaret) (3.7.5)\r\n",
      "Requirement already satisfied: scikit-plot>=0.3.7 in /opt/conda/lib/python3.11/site-packages (from pycaret) (0.3.7)\r\n",
      "Requirement already satisfied: yellowbrick>=1.4 in /opt/conda/lib/python3.11/site-packages (from pycaret) (1.5)\r\n",
      "Requirement already satisfied: plotly>=5.14.0 in /opt/conda/lib/python3.11/site-packages (from pycaret) (5.20.0)\r\n",
      "Requirement already satisfied: kaleido>=0.2.1 in /opt/conda/lib/python3.11/site-packages (from pycaret) (0.2.1)\r\n",
      "Requirement already satisfied: schemdraw==0.15 in /opt/conda/lib/python3.11/site-packages (from pycaret) (0.15)\r\n",
      "Requirement already satisfied: plotly-resampler>=0.8.3.1 in /opt/conda/lib/python3.11/site-packages (from pycaret) (0.9.2)\r\n",
      "Requirement already satisfied: statsmodels>=0.12.1 in /opt/conda/lib/python3.11/site-packages (from pycaret) (0.14.1)\r\n",
      "Requirement already satisfied: sktime>=0.26.0 in /opt/conda/lib/python3.11/site-packages (from pycaret) (0.27.1)\r\n",
      "Requirement already satisfied: tbats>=1.1.3 in /opt/conda/lib/python3.11/site-packages (from pycaret) (1.1.3)\r\n",
      "Requirement already satisfied: pmdarima>=2.0.4 in /opt/conda/lib/python3.11/site-packages (from pycaret) (2.0.4)\r\n",
      "Requirement already satisfied: wurlitzer in /opt/conda/lib/python3.11/site-packages (from pycaret) (3.0.3)\r\n",
      "Requirement already satisfied: patsy>=0.5.1 in /opt/conda/lib/python3.11/site-packages (from category-encoders>=2.4.0->pycaret) (0.5.6)\r\n",
      "Requirement already satisfied: packaging in /opt/conda/lib/python3.11/site-packages (from deprecation>=2.1.0->pycaret) (23.2)\r\n",
      "Requirement already satisfied: threadpoolctl>=2.0.0 in /opt/conda/lib/python3.11/site-packages (from imbalanced-learn>=0.12.0->pycaret) (3.2.0)\r\n",
      "Requirement already satisfied: zipp>=0.5 in /opt/conda/lib/python3.11/site-packages (from importlib-metadata>=4.12.0->pycaret) (3.17.0)\r\n",
      "Requirement already satisfied: decorator in /opt/conda/lib/python3.11/site-packages (from ipython>=5.5.0->pycaret) (5.1.1)\r\n",
      "Requirement already satisfied: jedi>=0.16 in /opt/conda/lib/python3.11/site-packages (from ipython>=5.5.0->pycaret) (0.19.1)\r\n",
      "Requirement already satisfied: matplotlib-inline in /opt/conda/lib/python3.11/site-packages (from ipython>=5.5.0->pycaret) (0.1.6)\r\n",
      "Requirement already satisfied: prompt-toolkit<3.1.0,>=3.0.41 in /opt/conda/lib/python3.11/site-packages (from ipython>=5.5.0->pycaret) (3.0.42)\r\n",
      "Requirement already satisfied: pygments>=2.4.0 in /opt/conda/lib/python3.11/site-packages (from ipython>=5.5.0->pycaret) (2.17.2)\r\n",
      "Requirement already satisfied: stack-data in /opt/conda/lib/python3.11/site-packages (from ipython>=5.5.0->pycaret) (0.6.2)\r\n",
      "Requirement already satisfied: traitlets>=5 in /opt/conda/lib/python3.11/site-packages (from ipython>=5.5.0->pycaret) (5.14.1)\r\n",
      "Requirement already satisfied: pexpect>4.3 in /opt/conda/lib/python3.11/site-packages (from ipython>=5.5.0->pycaret) (4.8.0)\r\n",
      "Requirement already satisfied: ipykernel>=4.5.1 in /opt/conda/lib/python3.11/site-packages (from ipywidgets>=7.6.5->pycaret) (6.29.0)\r\n",
      "Requirement already satisfied: widgetsnbextension~=4.0 in /opt/conda/lib/python3.11/site-packages (from ipywidgets>=7.6.5->pycaret) (4.0.9)\r\n",
      "Requirement already satisfied: jupyterlab-widgets~=3.0 in /opt/conda/lib/python3.11/site-packages (from ipywidgets>=7.6.5->pycaret) (3.0.9)\r\n",
      "Requirement already satisfied: contourpy>=1.0.1 in /opt/conda/lib/python3.11/site-packages (from matplotlib<3.8.0->pycaret) (1.2.0)\r\n",
      "Requirement already satisfied: cycler>=0.10 in /opt/conda/lib/python3.11/site-packages (from matplotlib<3.8.0->pycaret) (0.12.1)\r\n",
      "Requirement already satisfied: fonttools>=4.22.0 in /opt/conda/lib/python3.11/site-packages (from matplotlib<3.8.0->pycaret) (4.47.2)\r\n",
      "Requirement already satisfied: kiwisolver>=1.0.1 in /opt/conda/lib/python3.11/site-packages (from matplotlib<3.8.0->pycaret) (1.4.5)\r\n",
      "Requirement already satisfied: pillow>=6.2.0 in /opt/conda/lib/python3.11/site-packages (from matplotlib<3.8.0->pycaret) (10.2.0)\r\n",
      "Requirement already satisfied: pyparsing>=2.3.1 in /opt/conda/lib/python3.11/site-packages (from matplotlib<3.8.0->pycaret) (3.1.1)\r\n",
      "Requirement already satisfied: python-dateutil>=2.7 in /opt/conda/lib/python3.11/site-packages (from matplotlib<3.8.0->pycaret) (2.8.2)\r\n",
      "Requirement already satisfied: fastjsonschema in /opt/conda/lib/python3.11/site-packages (from nbformat>=4.2.0->pycaret) (2.19.1)\r\n",
      "Requirement already satisfied: jsonschema>=2.6 in /opt/conda/lib/python3.11/site-packages (from nbformat>=4.2.0->pycaret) (4.21.1)\r\n",
      "Requirement already satisfied: jupyter-core in /opt/conda/lib/python3.11/site-packages (from nbformat>=4.2.0->pycaret) (5.7.1)\r\n",
      "Requirement already satisfied: llvmlite<0.42,>=0.41.0dev0 in /opt/conda/lib/python3.11/site-packages (from numba>=0.55.0->pycaret) (0.41.1)\r\n",
      "Requirement already satisfied: pytz>=2020.1 in /opt/conda/lib/python3.11/site-packages (from pandas<2.2.0->pycaret) (2023.3.post1)\r\n",
      "Requirement already satisfied: tzdata>=2022.1 in /opt/conda/lib/python3.11/site-packages (from pandas<2.2.0->pycaret) (2023.4)\r\n",
      "Requirement already satisfied: tenacity>=6.2.0 in /opt/conda/lib/python3.11/site-packages (from plotly>=5.14.0->pycaret) (8.2.3)\r\n",
      "Requirement already satisfied: dash>=2.9.0 in /opt/conda/lib/python3.11/site-packages (from plotly-resampler>=0.8.3.1->pycaret) (2.16.1)\r\n",
      "Requirement already satisfied: orjson<4.0.0,>=3.8.0 in /opt/conda/lib/python3.11/site-packages (from plotly-resampler>=0.8.3.1->pycaret) (3.9.15)\r\n",
      "Requirement already satisfied: tsdownsample==0.1.2 in /opt/conda/lib/python3.11/site-packages (from plotly-resampler>=0.8.3.1->pycaret) (0.1.2)\r\n",
      "Requirement already satisfied: Cython!=0.29.18,!=0.29.31,>=0.29 in /opt/conda/lib/python3.11/site-packages (from pmdarima>=2.0.4->pycaret) (3.0.7)\r\n",
      "Requirement already satisfied: urllib3 in /opt/conda/lib/python3.11/site-packages (from pmdarima>=2.0.4->pycaret) (2.1.0)\r\n",
      "Requirement already satisfied: setuptools!=50.0.0,>=38.6.0 in /opt/conda/lib/python3.11/site-packages (from pmdarima>=2.0.4->pycaret) (69.0.3)\r\n",
      "Requirement already satisfied: six in /opt/conda/lib/python3.11/site-packages (from pyod>=1.1.3->pycaret) (1.16.0)\r\n",
      "Requirement already satisfied: charset-normalizer<4,>=2 in /opt/conda/lib/python3.11/site-packages (from requests>=2.27.1->pycaret) (3.3.2)\r\n",
      "Requirement already satisfied: idna<4,>=2.5 in /opt/conda/lib/python3.11/site-packages (from requests>=2.27.1->pycaret) (3.6)\r\n",
      "Requirement already satisfied: certifi>=2017.4.17 in /opt/conda/lib/python3.11/site-packages (from requests>=2.27.1->pycaret) (2023.11.17)\r\n",
      "Requirement already satisfied: scikit-base<0.8.0 in /opt/conda/lib/python3.11/site-packages (from sktime>=0.26.0->pycaret) (0.7.5)\r\n",
      "Requirement already satisfied: Flask<3.1,>=1.0.4 in /opt/conda/lib/python3.11/site-packages (from dash>=2.9.0->plotly-resampler>=0.8.3.1->pycaret) (3.0.2)\r\n",
      "Requirement already satisfied: Werkzeug<3.1 in /opt/conda/lib/python3.11/site-packages (from dash>=2.9.0->plotly-resampler>=0.8.3.1->pycaret) (3.0.1)\r\n",
      "Requirement already satisfied: dash-html-components==2.0.0 in /opt/conda/lib/python3.11/site-packages (from dash>=2.9.0->plotly-resampler>=0.8.3.1->pycaret) (2.0.0)\r\n",
      "Requirement already satisfied: dash-core-components==2.0.0 in /opt/conda/lib/python3.11/site-packages (from dash>=2.9.0->plotly-resampler>=0.8.3.1->pycaret) (2.0.0)\r\n",
      "Requirement already satisfied: dash-table==5.0.0 in /opt/conda/lib/python3.11/site-packages (from dash>=2.9.0->plotly-resampler>=0.8.3.1->pycaret) (5.0.0)\r\n",
      "Requirement already satisfied: typing-extensions>=4.1.1 in /opt/conda/lib/python3.11/site-packages (from dash>=2.9.0->plotly-resampler>=0.8.3.1->pycaret) (4.9.0)\r\n",
      "Requirement already satisfied: retrying in /opt/conda/lib/python3.11/site-packages (from dash>=2.9.0->plotly-resampler>=0.8.3.1->pycaret) (1.3.4)\r\n",
      "Requirement already satisfied: nest-asyncio in /opt/conda/lib/python3.11/site-packages (from dash>=2.9.0->plotly-resampler>=0.8.3.1->pycaret) (1.6.0)\r\n",
      "Requirement already satisfied: comm>=0.1.1 in /opt/conda/lib/python3.11/site-packages (from ipykernel>=4.5.1->ipywidgets>=7.6.5->pycaret) (0.2.1)\r\n",
      "Requirement already satisfied: debugpy>=1.6.5 in /opt/conda/lib/python3.11/site-packages (from ipykernel>=4.5.1->ipywidgets>=7.6.5->pycaret) (1.8.0)\r\n",
      "Requirement already satisfied: jupyter-client>=6.1.12 in /opt/conda/lib/python3.11/site-packages (from ipykernel>=4.5.1->ipywidgets>=7.6.5->pycaret) (7.4.9)\r\n",
      "Requirement already satisfied: pyzmq>=24 in /opt/conda/lib/python3.11/site-packages (from ipykernel>=4.5.1->ipywidgets>=7.6.5->pycaret) (24.0.1)\r\n",
      "Requirement already satisfied: tornado>=6.1 in /opt/conda/lib/python3.11/site-packages (from ipykernel>=4.5.1->ipywidgets>=7.6.5->pycaret) (6.3.3)\r\n",
      "Requirement already satisfied: parso<0.9.0,>=0.8.3 in /opt/conda/lib/python3.11/site-packages (from jedi>=0.16->ipython>=5.5.0->pycaret) (0.8.3)\r\n",
      "Requirement already satisfied: attrs>=22.2.0 in /opt/conda/lib/python3.11/site-packages (from jsonschema>=2.6->nbformat>=4.2.0->pycaret) (23.2.0)\r\n",
      "Requirement already satisfied: jsonschema-specifications>=2023.03.6 in /opt/conda/lib/python3.11/site-packages (from jsonschema>=2.6->nbformat>=4.2.0->pycaret) (2023.12.1)\r\n",
      "Requirement already satisfied: referencing>=0.28.4 in /opt/conda/lib/python3.11/site-packages (from jsonschema>=2.6->nbformat>=4.2.0->pycaret) (0.32.1)\r\n",
      "Requirement already satisfied: rpds-py>=0.7.1 in /opt/conda/lib/python3.11/site-packages (from jsonschema>=2.6->nbformat>=4.2.0->pycaret) (0.17.1)\r\n",
      "Requirement already satisfied: platformdirs>=2.5 in /opt/conda/lib/python3.11/site-packages (from jupyter-core->nbformat>=4.2.0->pycaret) (4.1.0)\r\n",
      "Requirement already satisfied: ptyprocess>=0.5 in /opt/conda/lib/python3.11/site-packages (from pexpect>4.3->ipython>=5.5.0->pycaret) (0.7.0)\r\n",
      "Requirement already satisfied: wcwidth in /opt/conda/lib/python3.11/site-packages (from prompt-toolkit<3.1.0,>=3.0.41->ipython>=5.5.0->pycaret) (0.2.13)\r\n",
      "Requirement already satisfied: executing>=1.2.0 in /opt/conda/lib/python3.11/site-packages (from stack-data->ipython>=5.5.0->pycaret) (2.0.1)\r\n",
      "Requirement already satisfied: asttokens>=2.1.0 in /opt/conda/lib/python3.11/site-packages (from stack-data->ipython>=5.5.0->pycaret) (2.4.1)\r\n",
      "Requirement already satisfied: pure-eval in /opt/conda/lib/python3.11/site-packages (from stack-data->ipython>=5.5.0->pycaret) (0.2.2)\r\n",
      "Requirement already satisfied: itsdangerous>=2.1.2 in /opt/conda/lib/python3.11/site-packages (from Flask<3.1,>=1.0.4->dash>=2.9.0->plotly-resampler>=0.8.3.1->pycaret) (2.1.2)\r\n",
      "Requirement already satisfied: click>=8.1.3 in /opt/conda/lib/python3.11/site-packages (from Flask<3.1,>=1.0.4->dash>=2.9.0->plotly-resampler>=0.8.3.1->pycaret) (8.1.7)\r\n",
      "Requirement already satisfied: blinker>=1.6.2 in /opt/conda/lib/python3.11/site-packages (from Flask<3.1,>=1.0.4->dash>=2.9.0->plotly-resampler>=0.8.3.1->pycaret) (1.7.0)\r\n",
      "Requirement already satisfied: entrypoints in /opt/conda/lib/python3.11/site-packages (from jupyter-client>=6.1.12->ipykernel>=4.5.1->ipywidgets>=7.6.5->pycaret) (0.4)\r\n",
      "Looking in indexes: https://pypi.org/simple, https://pypi.ngc.nvidia.com\r\n",
      "Requirement already satisfied: mlflow in /opt/conda/lib/python3.11/site-packages (2.11.3)\r\n",
      "Requirement already satisfied: click<9,>=7.0 in /opt/conda/lib/python3.11/site-packages (from mlflow) (8.1.7)\r\n",
      "Requirement already satisfied: cloudpickle<4 in /opt/conda/lib/python3.11/site-packages (from mlflow) (3.0.0)\r\n",
      "Requirement already satisfied: entrypoints<1 in /opt/conda/lib/python3.11/site-packages (from mlflow) (0.4)\r\n",
      "Requirement already satisfied: gitpython<4,>=3.1.9 in /opt/conda/lib/python3.11/site-packages (from mlflow) (3.1.41)\r\n",
      "Requirement already satisfied: pyyaml<7,>=5.1 in /opt/conda/lib/python3.11/site-packages (from mlflow) (6.0.1)\r\n",
      "Requirement already satisfied: protobuf<5,>=3.12.0 in /opt/conda/lib/python3.11/site-packages (from mlflow) (4.23.4)\r\n",
      "Requirement already satisfied: pytz<2025 in /opt/conda/lib/python3.11/site-packages (from mlflow) (2023.3.post1)\r\n",
      "Requirement already satisfied: requests<3,>=2.17.3 in /opt/conda/lib/python3.11/site-packages (from mlflow) (2.31.0)\r\n",
      "Requirement already satisfied: packaging<24 in /opt/conda/lib/python3.11/site-packages (from mlflow) (23.2)\r\n",
      "Requirement already satisfied: importlib-metadata!=4.7.0,<8,>=3.7.0 in /opt/conda/lib/python3.11/site-packages (from mlflow) (7.0.1)\r\n",
      "Requirement already satisfied: sqlparse<1,>=0.4.0 in /opt/conda/lib/python3.11/site-packages (from mlflow) (0.4.4)\r\n",
      "Requirement already satisfied: alembic!=1.10.0,<2 in /opt/conda/lib/python3.11/site-packages (from mlflow) (1.13.1)\r\n",
      "Requirement already satisfied: docker<8,>=4.0.0 in /opt/conda/lib/python3.11/site-packages (from mlflow) (7.0.0)\r\n",
      "Requirement already satisfied: Flask<4 in /opt/conda/lib/python3.11/site-packages (from mlflow) (3.0.2)\r\n",
      "Requirement already satisfied: numpy<2 in /opt/conda/lib/python3.11/site-packages (from mlflow) (1.26.3)\r\n",
      "Requirement already satisfied: scipy<2 in /opt/conda/lib/python3.11/site-packages (from mlflow) (1.11.4)\r\n",
      "Requirement already satisfied: pandas<3 in /opt/conda/lib/python3.11/site-packages (from mlflow) (2.1.4)\r\n",
      "Requirement already satisfied: querystring-parser<2 in /opt/conda/lib/python3.11/site-packages (from mlflow) (1.2.4)\r\n",
      "Requirement already satisfied: sqlalchemy<3,>=1.4.0 in /opt/conda/lib/python3.11/site-packages (from mlflow) (2.0.25)\r\n",
      "Requirement already satisfied: scikit-learn<2 in /opt/conda/lib/python3.11/site-packages (from mlflow) (1.4.1.post1)\r\n",
      "Requirement already satisfied: pyarrow<16,>=4.0.0 in /opt/conda/lib/python3.11/site-packages (from mlflow) (14.0.2)\r\n",
      "Requirement already satisfied: markdown<4,>=3.3 in /opt/conda/lib/python3.11/site-packages (from mlflow) (3.5.2)\r\n",
      "Requirement already satisfied: matplotlib<4 in /opt/conda/lib/python3.11/site-packages (from mlflow) (3.7.5)\r\n",
      "Requirement already satisfied: graphene<4 in /opt/conda/lib/python3.11/site-packages (from mlflow) (3.3)\r\n",
      "Requirement already satisfied: gunicorn<22 in /opt/conda/lib/python3.11/site-packages (from mlflow) (21.2.0)\r\n",
      "Requirement already satisfied: Jinja2<4,>=2.11 in /opt/conda/lib/python3.11/site-packages (from mlflow) (3.1.3)\r\n",
      "Requirement already satisfied: Mako in /opt/conda/lib/python3.11/site-packages (from alembic!=1.10.0,<2->mlflow) (1.3.1)\r\n",
      "Requirement already satisfied: typing-extensions>=4 in /opt/conda/lib/python3.11/site-packages (from alembic!=1.10.0,<2->mlflow) (4.9.0)\r\n",
      "Requirement already satisfied: urllib3>=1.26.0 in /opt/conda/lib/python3.11/site-packages (from docker<8,>=4.0.0->mlflow) (2.1.0)\r\n",
      "Requirement already satisfied: Werkzeug>=3.0.0 in /opt/conda/lib/python3.11/site-packages (from Flask<4->mlflow) (3.0.1)\r\n",
      "Requirement already satisfied: itsdangerous>=2.1.2 in /opt/conda/lib/python3.11/site-packages (from Flask<4->mlflow) (2.1.2)\r\n",
      "Requirement already satisfied: blinker>=1.6.2 in /opt/conda/lib/python3.11/site-packages (from Flask<4->mlflow) (1.7.0)\r\n",
      "Requirement already satisfied: gitdb<5,>=4.0.1 in /opt/conda/lib/python3.11/site-packages (from gitpython<4,>=3.1.9->mlflow) (4.0.11)\r\n",
      "Requirement already satisfied: graphql-core<3.3,>=3.1 in /opt/conda/lib/python3.11/site-packages (from graphene<4->mlflow) (3.2.3)\r\n",
      "Requirement already satisfied: graphql-relay<3.3,>=3.1 in /opt/conda/lib/python3.11/site-packages (from graphene<4->mlflow) (3.2.0)\r\n",
      "Requirement already satisfied: aniso8601<10,>=8 in /opt/conda/lib/python3.11/site-packages (from graphene<4->mlflow) (9.0.1)\r\n",
      "Requirement already satisfied: zipp>=0.5 in /opt/conda/lib/python3.11/site-packages (from importlib-metadata!=4.7.0,<8,>=3.7.0->mlflow) (3.17.0)\r\n",
      "Requirement already satisfied: MarkupSafe>=2.0 in /opt/conda/lib/python3.11/site-packages (from Jinja2<4,>=2.11->mlflow) (2.1.4)\r\n",
      "Requirement already satisfied: contourpy>=1.0.1 in /opt/conda/lib/python3.11/site-packages (from matplotlib<4->mlflow) (1.2.0)\r\n",
      "Requirement already satisfied: cycler>=0.10 in /opt/conda/lib/python3.11/site-packages (from matplotlib<4->mlflow) (0.12.1)\r\n",
      "Requirement already satisfied: fonttools>=4.22.0 in /opt/conda/lib/python3.11/site-packages (from matplotlib<4->mlflow) (4.47.2)\r\n",
      "Requirement already satisfied: kiwisolver>=1.0.1 in /opt/conda/lib/python3.11/site-packages (from matplotlib<4->mlflow) (1.4.5)\r\n",
      "Requirement already satisfied: pillow>=6.2.0 in /opt/conda/lib/python3.11/site-packages (from matplotlib<4->mlflow) (10.2.0)\r\n",
      "Requirement already satisfied: pyparsing>=2.3.1 in /opt/conda/lib/python3.11/site-packages (from matplotlib<4->mlflow) (3.1.1)\r\n",
      "Requirement already satisfied: python-dateutil>=2.7 in /opt/conda/lib/python3.11/site-packages (from matplotlib<4->mlflow) (2.8.2)\r\n",
      "Requirement already satisfied: tzdata>=2022.1 in /opt/conda/lib/python3.11/site-packages (from pandas<3->mlflow) (2023.4)\r\n",
      "Requirement already satisfied: six in /opt/conda/lib/python3.11/site-packages (from querystring-parser<2->mlflow) (1.16.0)\r\n",
      "Requirement already satisfied: charset-normalizer<4,>=2 in /opt/conda/lib/python3.11/site-packages (from requests<3,>=2.17.3->mlflow) (3.3.2)\r\n",
      "Requirement already satisfied: idna<4,>=2.5 in /opt/conda/lib/python3.11/site-packages (from requests<3,>=2.17.3->mlflow) (3.6)\r\n",
      "Requirement already satisfied: certifi>=2017.4.17 in /opt/conda/lib/python3.11/site-packages (from requests<3,>=2.17.3->mlflow) (2023.11.17)\r\n",
      "Requirement already satisfied: joblib>=1.2.0 in /opt/conda/lib/python3.11/site-packages (from scikit-learn<2->mlflow) (1.3.2)\r\n",
      "Requirement already satisfied: threadpoolctl>=2.0.0 in /opt/conda/lib/python3.11/site-packages (from scikit-learn<2->mlflow) (3.2.0)\r\n",
      "Requirement already satisfied: greenlet!=0.4.17 in /opt/conda/lib/python3.11/site-packages (from sqlalchemy<3,>=1.4.0->mlflow) (3.0.3)\r\n",
      "Requirement already satisfied: smmap<6,>=3.0.1 in /opt/conda/lib/python3.11/site-packages (from gitdb<5,>=4.0.1->gitpython<4,>=3.1.9->mlflow) (5.0.0)\r\n",
      "Looking in indexes: https://pypi.org/simple, https://pypi.ngc.nvidia.com\r\n",
      "Requirement already satisfied: scipy==1.11.4 in /opt/conda/lib/python3.11/site-packages (1.11.4)\r\n",
      "Requirement already satisfied: numpy<1.28.0,>=1.21.6 in /opt/conda/lib/python3.11/site-packages (from scipy==1.11.4) (1.26.3)\r\n",
      "Note: you may need to restart the kernel to use updated packages.\n"
     ]
    }
   ],
   "source": [
    "!pip install pycaret\n",
    "!pip install mlflow\n",
    "%pip install scipy==1.11.4\n",
    "\n",
    "from pycaret.classification import *\n",
    "\n",
    "from pycaret.regression import RegressionExperiment"
   ]
  },
  {
   "cell_type": "code",
   "execution_count": 6,
   "id": "fa8a3a7e9ca5e07d",
   "metadata": {
    "collapsed": false,
    "tags": [],
    "ExecuteTime": {
     "end_time": "2024-03-27T11:22:05.272206Z",
     "start_time": "2024-03-27T11:22:04.897788Z"
    }
   },
   "outputs": [
    {
     "name": "stdout",
     "output_type": "stream",
     "text": [
      "<class 'pandas.core.frame.DataFrame'>\n",
      "RangeIndex: 239257 entries, 0 to 239256\n",
      "Data columns (total 19 columns):\n",
      " #   Column            Non-Null Count   Dtype  \n",
      "---  ------            --------------   -----  \n",
      " 0   domain            239257 non-null  object \n",
      " 1   tld               239257 non-null  object \n",
      " 2   levels_count      239257 non-null  int64  \n",
      " 3   levels_mad        239257 non-null  float64\n",
      " 4   symbols_count     239257 non-null  int64  \n",
      " 5   vowels_ratio      239257 non-null  float64\n",
      " 6   consonants_ratio  239257 non-null  float64\n",
      " 7   numbers_ratio     239257 non-null  float64\n",
      " 8   points_ratio      239257 non-null  float64\n",
      " 9   special_ratio     239257 non-null  float64\n",
      " 10  unique_ratio      239257 non-null  float64\n",
      " 11  max_repeated      239257 non-null  int64  \n",
      " 12  a_records         239257 non-null  int64  \n",
      " 13  mx_records        239257 non-null  int64  \n",
      " 14  cname_records     239257 non-null  int64  \n",
      " 15  txt_records       239257 non-null  int64  \n",
      " 16  ptr_records       239257 non-null  int64  \n",
      " 17  ptr_ratio         239257 non-null  float64\n",
      " 18  is_legit          239257 non-null  int64  \n",
      "dtypes: float64(8), int64(9), object(2)\n",
      "memory usage: 34.7+ MB\n"
     ]
    }
   ],
   "source": [
    "df = pd.read_csv('work/datasets/processed_actual/merged_full_2024_03_27.csv')\n",
    "df.set_index('domain')\n",
    "\n",
    "df.info()"
   ]
  },
  {
   "cell_type": "code",
   "execution_count": 12,
   "id": "a773a0af3ed07d11",
   "metadata": {
    "collapsed": false,
    "tags": [],
    "ExecuteTime": {
     "end_time": "2024-03-27T09:25:43.054082Z",
     "start_time": "2024-03-27T09:25:43.050851Z"
    }
   },
   "outputs": [],
   "source": [
    "plt.style.use('fivethirtyeight')"
   ]
  },
  {
   "cell_type": "code",
   "execution_count": 7,
   "id": "3faeca80fbbeb3b3",
   "metadata": {
    "collapsed": false,
    "tags": [],
    "ExecuteTime": {
     "end_time": "2024-03-27T11:22:07.213059Z",
     "start_time": "2024-03-27T11:22:07.194363Z"
    }
   },
   "outputs": [],
   "source": [
    "df_semantic = df[\n",
    "    [\"domain\", \"levels_count\", \"levels_mad\", \"symbols_count\", \"vowels_ratio\", \"consonants_ratio\", \"numbers_ratio\",\n",
    "     \"points_ratio\", \"special_ratio\", \"unique_ratio\", \"max_repeated\", \"is_legit\"]]\n",
    "\n",
    "df_semantic = df_semantic.astype({'domain': 'string'})"
   ]
  },
  {
   "cell_type": "code",
   "execution_count": null,
   "id": "cf9798b7542163fa",
   "metadata": {
    "collapsed": false
   },
   "outputs": [],
   "source": [
    "r = RegressionExperiment()\n",
    "r.setup(data=df_semantic, target='is_legit', session_id=123, use_gpu=True, log_experiment=False,\n",
    "        experiment_name='semantic_regression', normalize=True)"
   ]
  },
  {
   "cell_type": "code",
   "outputs": [
    {
     "name": "stdout",
     "output_type": "stream",
     "text": [
      "[LightGBM] [Warning] There are no meaningful features which satisfy the provided configuration. Decreasing Dataset parameters min_data_in_bin or min_data_in_leaf and re-constructing Dataset might resolve this warning.\n",
      "[LightGBM] [Info] This is the GPU trainer!!\n",
      "[LightGBM] [Info] Total Bins 0\n",
      "[LightGBM] [Info] Number of data points in the train set: 2, number of used features: 0\n",
      "[LightGBM] [Warning] There are no meaningful features which satisfy the provided configuration. Decreasing Dataset parameters min_data_in_bin or min_data_in_leaf and re-constructing Dataset might resolve this warning.\n",
      "[LightGBM] [Warning] Using sparse features with CUDA is currently not supported.\n",
      "[LightGBM] [Warning] There are no meaningful features which satisfy the provided configuration. Decreasing Dataset parameters min_data_in_bin or min_data_in_leaf and re-constructing Dataset might resolve this warning.\n",
      "[LightGBM] [Info] This is the GPU trainer!!\n",
      "[LightGBM] [Info] Total Bins 0\n",
      "[LightGBM] [Info] Number of data points in the train set: 2, number of used features: 0\n",
      "[LightGBM] [Warning] There are no meaningful features which satisfy the provided configuration. Decreasing Dataset parameters min_data_in_bin or min_data_in_leaf and re-constructing Dataset might resolve this warning.\n",
      "[LightGBM] [Warning] Using sparse features with CUDA is currently not supported.\n"
     ]
    },
    {
     "name": "stderr",
     "output_type": "stream",
     "text": [
      "[LightGBM] [Fatal] CUDA Tree Learner was not enabled in this build.\n",
      "Please recompile with CMake option -DUSE_CUDA=1\n",
      "[LightGBM] [Fatal] CUDA Tree Learner was not enabled in this build.\n",
      "Please recompile with CMake option -DUSE_CUDA=1\n"
     ]
    },
    {
     "name": "stdout",
     "output_type": "stream",
     "text": [
      "[LightGBM] [Warning] There are no meaningful features which satisfy the provided configuration. Decreasing Dataset parameters min_data_in_bin or min_data_in_leaf and re-constructing Dataset might resolve this warning.\n",
      "[LightGBM] [Info] This is the GPU trainer!!\n",
      "[LightGBM] [Info] Total Bins 0\n",
      "[LightGBM] [Info] Number of data points in the train set: 2, number of used features: 0\n",
      "[LightGBM] [Warning] There are no meaningful features which satisfy the provided configuration. Decreasing Dataset parameters min_data_in_bin or min_data_in_leaf and re-constructing Dataset might resolve this warning.\n",
      "[LightGBM] [Warning] Using sparse features with CUDA is currently not supported.\n",
      "[LightGBM] [Warning] There are no meaningful features which satisfy the provided configuration. Decreasing Dataset parameters min_data_in_bin or min_data_in_leaf and re-constructing Dataset might resolve this warning.\n",
      "[LightGBM] [Info] This is the GPU trainer!!\n",
      "[LightGBM] [Info] Total Bins 0\n",
      "[LightGBM] [Info] Number of data points in the train set: 2, number of used features: 0\n",
      "[LightGBM] [Warning] There are no meaningful features which satisfy the provided configuration. Decreasing Dataset parameters min_data_in_bin or min_data_in_leaf and re-constructing Dataset might resolve this warning.\n",
      "[LightGBM] [Warning] Using sparse features with CUDA is currently not supported.\n"
     ]
    },
    {
     "name": "stderr",
     "output_type": "stream",
     "text": [
      "[LightGBM] [Fatal] CUDA Tree Learner was not enabled in this build.\n",
      "Please recompile with CMake option -DUSE_CUDA=1\n",
      "[LightGBM] [Fatal] CUDA Tree Learner was not enabled in this build.\n",
      "Please recompile with CMake option -DUSE_CUDA=1\n"
     ]
    },
    {
     "name": "stdout",
     "output_type": "stream",
     "text": [
      "[LightGBM] [Warning] There are no meaningful features which satisfy the provided configuration. Decreasing Dataset parameters min_data_in_bin or min_data_in_leaf and re-constructing Dataset might resolve this warning.\n",
      "[LightGBM] [Info] This is the GPU trainer!!\n",
      "[LightGBM] [Info] Total Bins 0\n",
      "[LightGBM] [Info] Number of data points in the train set: 2, number of used features: 0\n",
      "[LightGBM] [Warning] There are no meaningful features which satisfy the provided configuration. Decreasing Dataset parameters min_data_in_bin or min_data_in_leaf and re-constructing Dataset might resolve this warning.\n",
      "[LightGBM] [Warning] Using sparse features with CUDA is currently not supported.\n",
      "[LightGBM] [Warning] There are no meaningful features which satisfy the provided configuration. Decreasing Dataset parameters min_data_in_bin or min_data_in_leaf and re-constructing Dataset might resolve this warning.\n",
      "[LightGBM] [Info] This is the GPU trainer!!\n",
      "[LightGBM] [Info] Total Bins 0\n",
      "[LightGBM] [Info] Number of data points in the train set: 2, number of used features: 0\n",
      "[LightGBM] [Warning] There are no meaningful features which satisfy the provided configuration. Decreasing Dataset parameters min_data_in_bin or min_data_in_leaf and re-constructing Dataset might resolve this warning.\n",
      "[LightGBM] [Warning] Using sparse features with CUDA is currently not supported.\n"
     ]
    },
    {
     "name": "stderr",
     "output_type": "stream",
     "text": [
      "[LightGBM] [Fatal] CUDA Tree Learner was not enabled in this build.\n",
      "Please recompile with CMake option -DUSE_CUDA=1\n",
      "[LightGBM] [Fatal] CUDA Tree Learner was not enabled in this build.\n",
      "Please recompile with CMake option -DUSE_CUDA=1\n"
     ]
    },
    {
     "name": "stdout",
     "output_type": "stream",
     "text": [
      "[LightGBM] [Warning] There are no meaningful features which satisfy the provided configuration. Decreasing Dataset parameters min_data_in_bin or min_data_in_leaf and re-constructing Dataset might resolve this warning.\n",
      "[LightGBM] [Info] This is the GPU trainer!!\n",
      "[LightGBM] [Info] Total Bins 0\n",
      "[LightGBM] [Info] Number of data points in the train set: 2, number of used features: 0\n",
      "[LightGBM] [Warning] There are no meaningful features which satisfy the provided configuration. Decreasing Dataset parameters min_data_in_bin or min_data_in_leaf and re-constructing Dataset might resolve this warning.\n",
      "[LightGBM] [Warning] Using sparse features with CUDA is currently not supported.\n",
      "[LightGBM] [Warning] There are no meaningful features which satisfy the provided configuration. Decreasing Dataset parameters min_data_in_bin or min_data_in_leaf and re-constructing Dataset might resolve this warning.\n",
      "[LightGBM] [Info] This is the GPU trainer!!\n",
      "[LightGBM] [Info] Total Bins 0\n",
      "[LightGBM] [Info] Number of data points in the train set: 2, number of used features: 0\n",
      "[LightGBM] [Warning] There are no meaningful features which satisfy the provided configuration. Decreasing Dataset parameters min_data_in_bin or min_data_in_leaf and re-constructing Dataset might resolve this warning.\n",
      "[LightGBM] [Warning] Using sparse features with CUDA is currently not supported.\n"
     ]
    },
    {
     "name": "stderr",
     "output_type": "stream",
     "text": [
      "[LightGBM] [Fatal] CUDA Tree Learner was not enabled in this build.\n",
      "Please recompile with CMake option -DUSE_CUDA=1\n",
      "[LightGBM] [Fatal] CUDA Tree Learner was not enabled in this build.\n",
      "Please recompile with CMake option -DUSE_CUDA=1\n"
     ]
    },
    {
     "name": "stdout",
     "output_type": "stream",
     "text": [
      "[LightGBM] [Warning] There are no meaningful features which satisfy the provided configuration. Decreasing Dataset parameters min_data_in_bin or min_data_in_leaf and re-constructing Dataset might resolve this warning.\n",
      "[LightGBM] [Info] This is the GPU trainer!!\n",
      "[LightGBM] [Info] Total Bins 0\n",
      "[LightGBM] [Info] Number of data points in the train set: 2, number of used features: 0\n",
      "[LightGBM] [Warning] There are no meaningful features which satisfy the provided configuration. Decreasing Dataset parameters min_data_in_bin or min_data_in_leaf and re-constructing Dataset might resolve this warning.\n",
      "[LightGBM] [Warning] Using sparse features with CUDA is currently not supported.\n",
      "[LightGBM] [Warning] There are no meaningful features which satisfy the provided configuration. Decreasing Dataset parameters min_data_in_bin or min_data_in_leaf and re-constructing Dataset might resolve this warning.\n",
      "[LightGBM] [Info] This is the GPU trainer!!\n",
      "[LightGBM] [Info] Total Bins 0\n",
      "[LightGBM] [Info] Number of data points in the train set: 2, number of used features: 0\n",
      "[LightGBM] [Warning] There are no meaningful features which satisfy the provided configuration. Decreasing Dataset parameters min_data_in_bin or min_data_in_leaf and re-constructing Dataset might resolve this warning.\n",
      "[LightGBM] [Warning] Using sparse features with CUDA is currently not supported.\n"
     ]
    },
    {
     "name": "stderr",
     "output_type": "stream",
     "text": [
      "[LightGBM] [Fatal] CUDA Tree Learner was not enabled in this build.\n",
      "Please recompile with CMake option -DUSE_CUDA=1\n",
      "[LightGBM] [Fatal] CUDA Tree Learner was not enabled in this build.\n",
      "Please recompile with CMake option -DUSE_CUDA=1\n"
     ]
    },
    {
     "name": "stdout",
     "output_type": "stream",
     "text": [
      "[LightGBM] [Warning] There are no meaningful features which satisfy the provided configuration. Decreasing Dataset parameters min_data_in_bin or min_data_in_leaf and re-constructing Dataset might resolve this warning.\n",
      "[LightGBM] [Info] This is the GPU trainer!!\n",
      "[LightGBM] [Info] Total Bins 0\n",
      "[LightGBM] [Info] Number of data points in the train set: 2, number of used features: 0\n",
      "[LightGBM] [Warning] There are no meaningful features which satisfy the provided configuration. Decreasing Dataset parameters min_data_in_bin or min_data_in_leaf and re-constructing Dataset might resolve this warning.\n",
      "[LightGBM] [Warning] Using sparse features with CUDA is currently not supported.\n",
      "[LightGBM] [Warning] There are no meaningful features which satisfy the provided configuration. Decreasing Dataset parameters min_data_in_bin or min_data_in_leaf and re-constructing Dataset might resolve this warning.\n",
      "[LightGBM] [Info] This is the GPU trainer!!\n",
      "[LightGBM] [Info] Total Bins 0\n",
      "[LightGBM] [Info] Number of data points in the train set: 2, number of used features: 0\n",
      "[LightGBM] [Warning] There are no meaningful features which satisfy the provided configuration. Decreasing Dataset parameters min_data_in_bin or min_data_in_leaf and re-constructing Dataset might resolve this warning.\n",
      "[LightGBM] [Warning] Using sparse features with CUDA is currently not supported.\n"
     ]
    },
    {
     "name": "stderr",
     "output_type": "stream",
     "text": [
      "[LightGBM] [Fatal] CUDA Tree Learner was not enabled in this build.\n",
      "Please recompile with CMake option -DUSE_CUDA=1\n",
      "[LightGBM] [Fatal] CUDA Tree Learner was not enabled in this build.\n",
      "Please recompile with CMake option -DUSE_CUDA=1\n"
     ]
    },
    {
     "data": {
      "text/plain": "<pandas.io.formats.style.Styler at 0x7fb5be6088d0>",
      "text/html": "<style type=\"text/css\">\n#T_a90e6_row9_col1, #T_a90e6_row15_col1, #T_a90e6_row20_col1 {\n  background-color: lightgreen;\n}\n</style>\n<table id=\"T_a90e6\">\n  <thead>\n    <tr>\n      <th class=\"blank level0\" >&nbsp;</th>\n      <th id=\"T_a90e6_level0_col0\" class=\"col_heading level0 col0\" >Description</th>\n      <th id=\"T_a90e6_level0_col1\" class=\"col_heading level0 col1\" >Value</th>\n    </tr>\n  </thead>\n  <tbody>\n    <tr>\n      <th id=\"T_a90e6_level0_row0\" class=\"row_heading level0 row0\" >0</th>\n      <td id=\"T_a90e6_row0_col0\" class=\"data row0 col0\" >Session id</td>\n      <td id=\"T_a90e6_row0_col1\" class=\"data row0 col1\" >123</td>\n    </tr>\n    <tr>\n      <th id=\"T_a90e6_level0_row1\" class=\"row_heading level0 row1\" >1</th>\n      <td id=\"T_a90e6_row1_col0\" class=\"data row1 col0\" >Target</td>\n      <td id=\"T_a90e6_row1_col1\" class=\"data row1 col1\" >is_legit</td>\n    </tr>\n    <tr>\n      <th id=\"T_a90e6_level0_row2\" class=\"row_heading level0 row2\" >2</th>\n      <td id=\"T_a90e6_row2_col0\" class=\"data row2 col0\" >Target type</td>\n      <td id=\"T_a90e6_row2_col1\" class=\"data row2 col1\" >Regression</td>\n    </tr>\n    <tr>\n      <th id=\"T_a90e6_level0_row3\" class=\"row_heading level0 row3\" >3</th>\n      <td id=\"T_a90e6_row3_col0\" class=\"data row3 col0\" >Original data shape</td>\n      <td id=\"T_a90e6_row3_col1\" class=\"data row3 col1\" >(239257, 12)</td>\n    </tr>\n    <tr>\n      <th id=\"T_a90e6_level0_row4\" class=\"row_heading level0 row4\" >4</th>\n      <td id=\"T_a90e6_row4_col0\" class=\"data row4 col0\" >Transformed data shape</td>\n      <td id=\"T_a90e6_row4_col1\" class=\"data row4 col1\" >(239257, 12)</td>\n    </tr>\n    <tr>\n      <th id=\"T_a90e6_level0_row5\" class=\"row_heading level0 row5\" >5</th>\n      <td id=\"T_a90e6_row5_col0\" class=\"data row5 col0\" >Transformed train set shape</td>\n      <td id=\"T_a90e6_row5_col1\" class=\"data row5 col1\" >(167479, 12)</td>\n    </tr>\n    <tr>\n      <th id=\"T_a90e6_level0_row6\" class=\"row_heading level0 row6\" >6</th>\n      <td id=\"T_a90e6_row6_col0\" class=\"data row6 col0\" >Transformed test set shape</td>\n      <td id=\"T_a90e6_row6_col1\" class=\"data row6 col1\" >(71778, 12)</td>\n    </tr>\n    <tr>\n      <th id=\"T_a90e6_level0_row7\" class=\"row_heading level0 row7\" >7</th>\n      <td id=\"T_a90e6_row7_col0\" class=\"data row7 col0\" >Numeric features</td>\n      <td id=\"T_a90e6_row7_col1\" class=\"data row7 col1\" >10</td>\n    </tr>\n    <tr>\n      <th id=\"T_a90e6_level0_row8\" class=\"row_heading level0 row8\" >8</th>\n      <td id=\"T_a90e6_row8_col0\" class=\"data row8 col0\" >Categorical features</td>\n      <td id=\"T_a90e6_row8_col1\" class=\"data row8 col1\" >1</td>\n    </tr>\n    <tr>\n      <th id=\"T_a90e6_level0_row9\" class=\"row_heading level0 row9\" >9</th>\n      <td id=\"T_a90e6_row9_col0\" class=\"data row9 col0\" >Preprocess</td>\n      <td id=\"T_a90e6_row9_col1\" class=\"data row9 col1\" >True</td>\n    </tr>\n    <tr>\n      <th id=\"T_a90e6_level0_row10\" class=\"row_heading level0 row10\" >10</th>\n      <td id=\"T_a90e6_row10_col0\" class=\"data row10 col0\" >Imputation type</td>\n      <td id=\"T_a90e6_row10_col1\" class=\"data row10 col1\" >simple</td>\n    </tr>\n    <tr>\n      <th id=\"T_a90e6_level0_row11\" class=\"row_heading level0 row11\" >11</th>\n      <td id=\"T_a90e6_row11_col0\" class=\"data row11 col0\" >Numeric imputation</td>\n      <td id=\"T_a90e6_row11_col1\" class=\"data row11 col1\" >mean</td>\n    </tr>\n    <tr>\n      <th id=\"T_a90e6_level0_row12\" class=\"row_heading level0 row12\" >12</th>\n      <td id=\"T_a90e6_row12_col0\" class=\"data row12 col0\" >Categorical imputation</td>\n      <td id=\"T_a90e6_row12_col1\" class=\"data row12 col1\" >mode</td>\n    </tr>\n    <tr>\n      <th id=\"T_a90e6_level0_row13\" class=\"row_heading level0 row13\" >13</th>\n      <td id=\"T_a90e6_row13_col0\" class=\"data row13 col0\" >Maximum one-hot encoding</td>\n      <td id=\"T_a90e6_row13_col1\" class=\"data row13 col1\" >25</td>\n    </tr>\n    <tr>\n      <th id=\"T_a90e6_level0_row14\" class=\"row_heading level0 row14\" >14</th>\n      <td id=\"T_a90e6_row14_col0\" class=\"data row14 col0\" >Encoding method</td>\n      <td id=\"T_a90e6_row14_col1\" class=\"data row14 col1\" >None</td>\n    </tr>\n    <tr>\n      <th id=\"T_a90e6_level0_row15\" class=\"row_heading level0 row15\" >15</th>\n      <td id=\"T_a90e6_row15_col0\" class=\"data row15 col0\" >Normalize</td>\n      <td id=\"T_a90e6_row15_col1\" class=\"data row15 col1\" >True</td>\n    </tr>\n    <tr>\n      <th id=\"T_a90e6_level0_row16\" class=\"row_heading level0 row16\" >16</th>\n      <td id=\"T_a90e6_row16_col0\" class=\"data row16 col0\" >Normalize method</td>\n      <td id=\"T_a90e6_row16_col1\" class=\"data row16 col1\" >zscore</td>\n    </tr>\n    <tr>\n      <th id=\"T_a90e6_level0_row17\" class=\"row_heading level0 row17\" >17</th>\n      <td id=\"T_a90e6_row17_col0\" class=\"data row17 col0\" >Fold Generator</td>\n      <td id=\"T_a90e6_row17_col1\" class=\"data row17 col1\" >KFold</td>\n    </tr>\n    <tr>\n      <th id=\"T_a90e6_level0_row18\" class=\"row_heading level0 row18\" >18</th>\n      <td id=\"T_a90e6_row18_col0\" class=\"data row18 col0\" >Fold Number</td>\n      <td id=\"T_a90e6_row18_col1\" class=\"data row18 col1\" >10</td>\n    </tr>\n    <tr>\n      <th id=\"T_a90e6_level0_row19\" class=\"row_heading level0 row19\" >19</th>\n      <td id=\"T_a90e6_row19_col0\" class=\"data row19 col0\" >CPU Jobs</td>\n      <td id=\"T_a90e6_row19_col1\" class=\"data row19 col1\" >-1</td>\n    </tr>\n    <tr>\n      <th id=\"T_a90e6_level0_row20\" class=\"row_heading level0 row20\" >20</th>\n      <td id=\"T_a90e6_row20_col0\" class=\"data row20 col0\" >Use GPU</td>\n      <td id=\"T_a90e6_row20_col1\" class=\"data row20 col1\" >True</td>\n    </tr>\n    <tr>\n      <th id=\"T_a90e6_level0_row21\" class=\"row_heading level0 row21\" >21</th>\n      <td id=\"T_a90e6_row21_col0\" class=\"data row21 col0\" >Log Experiment</td>\n      <td id=\"T_a90e6_row21_col1\" class=\"data row21 col1\" >False</td>\n    </tr>\n    <tr>\n      <th id=\"T_a90e6_level0_row22\" class=\"row_heading level0 row22\" >22</th>\n      <td id=\"T_a90e6_row22_col0\" class=\"data row22 col0\" >Experiment Name</td>\n      <td id=\"T_a90e6_row22_col1\" class=\"data row22 col1\" >semantic_regression</td>\n    </tr>\n    <tr>\n      <th id=\"T_a90e6_level0_row23\" class=\"row_heading level0 row23\" >23</th>\n      <td id=\"T_a90e6_row23_col0\" class=\"data row23 col0\" >USI</td>\n      <td id=\"T_a90e6_row23_col1\" class=\"data row23 col1\" >92d6</td>\n    </tr>\n  </tbody>\n</table>\n"
     },
     "metadata": {},
     "output_type": "display_data"
    },
    {
     "name": "stdout",
     "output_type": "stream",
     "text": [
      "[LightGBM] [Warning] There are no meaningful features which satisfy the provided configuration. Decreasing Dataset parameters min_data_in_bin or min_data_in_leaf and re-constructing Dataset might resolve this warning.\n",
      "[LightGBM] [Info] This is the GPU trainer!!\n",
      "[LightGBM] [Info] Total Bins 0\n",
      "[LightGBM] [Info] Number of data points in the train set: 2, number of used features: 0\n",
      "[LightGBM] [Warning] There are no meaningful features which satisfy the provided configuration. Decreasing Dataset parameters min_data_in_bin or min_data_in_leaf and re-constructing Dataset might resolve this warning.\n",
      "[LightGBM] [Warning] Using sparse features with CUDA is currently not supported.\n",
      "[LightGBM] [Warning] There are no meaningful features which satisfy the provided configuration. Decreasing Dataset parameters min_data_in_bin or min_data_in_leaf and re-constructing Dataset might resolve this warning.\n",
      "[LightGBM] [Info] This is the GPU trainer!!\n",
      "[LightGBM] [Info] Total Bins 0\n",
      "[LightGBM] [Info] Number of data points in the train set: 2, number of used features: 0\n",
      "[LightGBM] [Warning] There are no meaningful features which satisfy the provided configuration. Decreasing Dataset parameters min_data_in_bin or min_data_in_leaf and re-constructing Dataset might resolve this warning.\n",
      "[LightGBM] [Warning] Using sparse features with CUDA is currently not supported.\n"
     ]
    },
    {
     "name": "stderr",
     "output_type": "stream",
     "text": [
      "[LightGBM] [Fatal] CUDA Tree Learner was not enabled in this build.\n",
      "Please recompile with CMake option -DUSE_CUDA=1\n",
      "[LightGBM] [Fatal] CUDA Tree Learner was not enabled in this build.\n",
      "Please recompile with CMake option -DUSE_CUDA=1\n"
     ]
    },
    {
     "data": {
      "text/plain": "                                                                    \n                                                                    \nInitiated  . . . . . . . . . . . . . . . . . .              09:27:56\nStatus     . . . . . . . . . . . . . . . . . .  Loading Dependencies\nEstimator  . . . . . . . . . . . . . . . . . .     Compiling Library",
      "text/html": "<div>\n<style scoped>\n    .dataframe tbody tr th:only-of-type {\n        vertical-align: middle;\n    }\n\n    .dataframe tbody tr th {\n        vertical-align: top;\n    }\n\n    .dataframe thead th {\n        text-align: right;\n    }\n</style>\n<table border=\"1\" class=\"dataframe\">\n  <thead>\n    <tr style=\"text-align: right;\">\n      <th></th>\n      <th></th>\n      <th></th>\n    </tr>\n    <tr>\n      <th></th>\n      <th></th>\n      <th></th>\n    </tr>\n  </thead>\n  <tbody>\n    <tr>\n      <th>Initiated</th>\n      <td>. . . . . . . . . . . . . . . . . .</td>\n      <td>09:27:56</td>\n    </tr>\n    <tr>\n      <th>Status</th>\n      <td>. . . . . . . . . . . . . . . . . .</td>\n      <td>Loading Dependencies</td>\n    </tr>\n    <tr>\n      <th>Estimator</th>\n      <td>. . . . . . . . . . . . . . . . . .</td>\n      <td>Compiling Library</td>\n    </tr>\n  </tbody>\n</table>\n</div>"
     },
     "metadata": {},
     "output_type": "display_data"
    },
    {
     "data": {
      "text/plain": "<IPython.core.display.HTML object>",
      "text/html": ""
     },
     "metadata": {},
     "output_type": "display_data"
    },
    {
     "data": {
      "text/plain": "<pandas.io.formats.style.Styler at 0x7fb5be4253d0>",
      "text/html": "<style type=\"text/css\">\n#T_7544b th {\n  text-align: left;\n}\n#T_7544b_row0_col0, #T_7544b_row0_col1, #T_7544b_row0_col6, #T_7544b_row1_col0, #T_7544b_row1_col1, #T_7544b_row1_col2, #T_7544b_row1_col3, #T_7544b_row1_col4, #T_7544b_row1_col5, #T_7544b_row1_col6, #T_7544b_row2_col0, #T_7544b_row2_col1, #T_7544b_row2_col2, #T_7544b_row2_col3, #T_7544b_row2_col4, #T_7544b_row2_col5, #T_7544b_row2_col6, #T_7544b_row3_col0, #T_7544b_row3_col1, #T_7544b_row3_col2, #T_7544b_row3_col3, #T_7544b_row3_col4, #T_7544b_row3_col5, #T_7544b_row3_col6, #T_7544b_row4_col0, #T_7544b_row4_col1, #T_7544b_row4_col2, #T_7544b_row4_col3, #T_7544b_row4_col4, #T_7544b_row4_col5, #T_7544b_row4_col6, #T_7544b_row5_col0, #T_7544b_row5_col1, #T_7544b_row5_col2, #T_7544b_row5_col3, #T_7544b_row5_col4, #T_7544b_row5_col5, #T_7544b_row5_col6, #T_7544b_row6_col0, #T_7544b_row6_col1, #T_7544b_row6_col2, #T_7544b_row6_col3, #T_7544b_row6_col4, #T_7544b_row6_col5, #T_7544b_row6_col6, #T_7544b_row7_col0, #T_7544b_row7_col1, #T_7544b_row7_col2, #T_7544b_row7_col3, #T_7544b_row7_col4, #T_7544b_row7_col5, #T_7544b_row7_col6, #T_7544b_row8_col0, #T_7544b_row8_col1, #T_7544b_row8_col2, #T_7544b_row8_col3, #T_7544b_row8_col4, #T_7544b_row8_col5, #T_7544b_row8_col6, #T_7544b_row9_col0, #T_7544b_row9_col1, #T_7544b_row9_col2, #T_7544b_row9_col3, #T_7544b_row9_col4, #T_7544b_row9_col5, #T_7544b_row9_col6, #T_7544b_row10_col0, #T_7544b_row10_col1, #T_7544b_row10_col2, #T_7544b_row10_col3, #T_7544b_row10_col4, #T_7544b_row10_col5, #T_7544b_row10_col6, #T_7544b_row11_col0, #T_7544b_row11_col1, #T_7544b_row11_col2, #T_7544b_row11_col3, #T_7544b_row11_col4, #T_7544b_row11_col5, #T_7544b_row11_col6, #T_7544b_row12_col0, #T_7544b_row12_col1, #T_7544b_row12_col2, #T_7544b_row12_col3, #T_7544b_row12_col4, #T_7544b_row12_col5, #T_7544b_row12_col6, #T_7544b_row13_col0, #T_7544b_row13_col1, #T_7544b_row13_col2, #T_7544b_row13_col3, #T_7544b_row13_col4, #T_7544b_row13_col5, #T_7544b_row13_col6, #T_7544b_row14_col0, #T_7544b_row14_col1, #T_7544b_row14_col2, #T_7544b_row14_col3, #T_7544b_row14_col4, #T_7544b_row14_col5, #T_7544b_row14_col6, #T_7544b_row15_col0, #T_7544b_row15_col2, #T_7544b_row15_col3, #T_7544b_row15_col4, #T_7544b_row15_col5, #T_7544b_row15_col6, #T_7544b_row16_col0, #T_7544b_row16_col1, #T_7544b_row16_col2, #T_7544b_row16_col3, #T_7544b_row16_col4, #T_7544b_row16_col5, #T_7544b_row17_col0, #T_7544b_row17_col1, #T_7544b_row17_col2, #T_7544b_row17_col3, #T_7544b_row17_col4, #T_7544b_row17_col5, #T_7544b_row17_col6 {\n  text-align: left;\n}\n#T_7544b_row0_col2, #T_7544b_row0_col3, #T_7544b_row0_col4, #T_7544b_row0_col5, #T_7544b_row15_col1, #T_7544b_row16_col6 {\n  text-align: left;\n  background-color: yellow;\n}\n#T_7544b_row0_col7, #T_7544b_row1_col7, #T_7544b_row2_col7, #T_7544b_row3_col7, #T_7544b_row4_col7, #T_7544b_row5_col7, #T_7544b_row6_col7, #T_7544b_row7_col7, #T_7544b_row8_col7, #T_7544b_row9_col7, #T_7544b_row10_col7, #T_7544b_row11_col7, #T_7544b_row13_col7, #T_7544b_row14_col7, #T_7544b_row15_col7, #T_7544b_row16_col7, #T_7544b_row17_col7 {\n  text-align: left;\n  background-color: lightgrey;\n}\n#T_7544b_row12_col7 {\n  text-align: left;\n  background-color: yellow;\n  background-color: lightgrey;\n}\n</style>\n<table id=\"T_7544b\">\n  <thead>\n    <tr>\n      <th class=\"blank level0\" >&nbsp;</th>\n      <th id=\"T_7544b_level0_col0\" class=\"col_heading level0 col0\" >Model</th>\n      <th id=\"T_7544b_level0_col1\" class=\"col_heading level0 col1\" >MAE</th>\n      <th id=\"T_7544b_level0_col2\" class=\"col_heading level0 col2\" >MSE</th>\n      <th id=\"T_7544b_level0_col3\" class=\"col_heading level0 col3\" >RMSE</th>\n      <th id=\"T_7544b_level0_col4\" class=\"col_heading level0 col4\" >R2</th>\n      <th id=\"T_7544b_level0_col5\" class=\"col_heading level0 col5\" >RMSLE</th>\n      <th id=\"T_7544b_level0_col6\" class=\"col_heading level0 col6\" >MAPE</th>\n      <th id=\"T_7544b_level0_col7\" class=\"col_heading level0 col7\" >TT (Sec)</th>\n    </tr>\n  </thead>\n  <tbody>\n    <tr>\n      <th id=\"T_7544b_level0_row0\" class=\"row_heading level0 row0\" >et</th>\n      <td id=\"T_7544b_row0_col0\" class=\"data row0 col0\" >Extra Trees Regressor</td>\n      <td id=\"T_7544b_row0_col1\" class=\"data row0 col1\" >0.4124</td>\n      <td id=\"T_7544b_row0_col2\" class=\"data row0 col2\" >0.2076</td>\n      <td id=\"T_7544b_row0_col3\" class=\"data row0 col3\" >0.4556</td>\n      <td id=\"T_7544b_row0_col4\" class=\"data row0 col4\" >0.0405</td>\n      <td id=\"T_7544b_row0_col5\" class=\"data row0 col5\" >0.3187</td>\n      <td id=\"T_7544b_row0_col6\" class=\"data row0 col6\" >0.6706</td>\n      <td id=\"T_7544b_row0_col7\" class=\"data row0 col7\" >0.7260</td>\n    </tr>\n    <tr>\n      <th id=\"T_7544b_level0_row1\" class=\"row_heading level0 row1\" >dt</th>\n      <td id=\"T_7544b_row1_col0\" class=\"data row1 col0\" >Decision Tree Regressor</td>\n      <td id=\"T_7544b_row1_col1\" class=\"data row1 col1\" >0.4178</td>\n      <td id=\"T_7544b_row1_col2\" class=\"data row1 col2\" >0.2079</td>\n      <td id=\"T_7544b_row1_col3\" class=\"data row1 col3\" >0.4559</td>\n      <td id=\"T_7544b_row1_col4\" class=\"data row1 col4\" >0.0392</td>\n      <td id=\"T_7544b_row1_col5\" class=\"data row1 col5\" >0.3212</td>\n      <td id=\"T_7544b_row1_col6\" class=\"data row1 col6\" >0.6518</td>\n      <td id=\"T_7544b_row1_col7\" class=\"data row1 col7\" >0.4440</td>\n    </tr>\n    <tr>\n      <th id=\"T_7544b_level0_row2\" class=\"row_heading level0 row2\" >gbr</th>\n      <td id=\"T_7544b_row2_col0\" class=\"data row2 col0\" >Gradient Boosting Regressor</td>\n      <td id=\"T_7544b_row2_col1\" class=\"data row2 col1\" >0.4210</td>\n      <td id=\"T_7544b_row2_col2\" class=\"data row2 col2\" >0.2081</td>\n      <td id=\"T_7544b_row2_col3\" class=\"data row2 col3\" >0.4561</td>\n      <td id=\"T_7544b_row2_col4\" class=\"data row2 col4\" >0.0383</td>\n      <td id=\"T_7544b_row2_col5\" class=\"data row2 col5\" >0.3220</td>\n      <td id=\"T_7544b_row2_col6\" class=\"data row2 col6\" >0.6485</td>\n      <td id=\"T_7544b_row2_col7\" class=\"data row2 col7\" >5.4640</td>\n    </tr>\n    <tr>\n      <th id=\"T_7544b_level0_row3\" class=\"row_heading level0 row3\" >huber</th>\n      <td id=\"T_7544b_row3_col0\" class=\"data row3 col0\" >Huber Regressor</td>\n      <td id=\"T_7544b_row3_col1\" class=\"data row3 col1\" >0.4229</td>\n      <td id=\"T_7544b_row3_col2\" class=\"data row3 col2\" >0.2114</td>\n      <td id=\"T_7544b_row3_col3\" class=\"data row3 col3\" >0.4597</td>\n      <td id=\"T_7544b_row3_col4\" class=\"data row3 col4\" >0.0231</td>\n      <td id=\"T_7544b_row3_col5\" class=\"data row3 col5\" >0.3240</td>\n      <td id=\"T_7544b_row3_col6\" class=\"data row3 col6\" >0.6607</td>\n      <td id=\"T_7544b_row3_col7\" class=\"data row3 col7\" >2.1140</td>\n    </tr>\n    <tr>\n      <th id=\"T_7544b_level0_row4\" class=\"row_heading level0 row4\" >omp</th>\n      <td id=\"T_7544b_row4_col0\" class=\"data row4 col0\" >Orthogonal Matching Pursuit</td>\n      <td id=\"T_7544b_row4_col1\" class=\"data row4 col1\" >0.4228</td>\n      <td id=\"T_7544b_row4_col2\" class=\"data row4 col2\" >0.2113</td>\n      <td id=\"T_7544b_row4_col3\" class=\"data row4 col3\" >0.4597</td>\n      <td id=\"T_7544b_row4_col4\" class=\"data row4 col4\" >0.0231</td>\n      <td id=\"T_7544b_row4_col5\" class=\"data row4 col5\" >0.3240</td>\n      <td id=\"T_7544b_row4_col6\" class=\"data row4 col6\" >0.6611</td>\n      <td id=\"T_7544b_row4_col7\" class=\"data row4 col7\" >0.4700</td>\n    </tr>\n    <tr>\n      <th id=\"T_7544b_level0_row5\" class=\"row_heading level0 row5\" >lr</th>\n      <td id=\"T_7544b_row5_col0\" class=\"data row5 col0\" >Linear Regression</td>\n      <td id=\"T_7544b_row5_col1\" class=\"data row5 col1\" >0.4228</td>\n      <td id=\"T_7544b_row5_col2\" class=\"data row5 col2\" >0.2114</td>\n      <td id=\"T_7544b_row5_col3\" class=\"data row5 col3\" >0.4597</td>\n      <td id=\"T_7544b_row5_col4\" class=\"data row5 col4\" >0.0230</td>\n      <td id=\"T_7544b_row5_col5\" class=\"data row5 col5\" >0.3240</td>\n      <td id=\"T_7544b_row5_col6\" class=\"data row5 col6\" >0.6612</td>\n      <td id=\"T_7544b_row5_col7\" class=\"data row5 col7\" >0.4360</td>\n    </tr>\n    <tr>\n      <th id=\"T_7544b_level0_row6\" class=\"row_heading level0 row6\" >br</th>\n      <td id=\"T_7544b_row6_col0\" class=\"data row6 col0\" >Bayesian Ridge</td>\n      <td id=\"T_7544b_row6_col1\" class=\"data row6 col1\" >0.4228</td>\n      <td id=\"T_7544b_row6_col2\" class=\"data row6 col2\" >0.2114</td>\n      <td id=\"T_7544b_row6_col3\" class=\"data row6 col3\" >0.4597</td>\n      <td id=\"T_7544b_row6_col4\" class=\"data row6 col4\" >0.0230</td>\n      <td id=\"T_7544b_row6_col5\" class=\"data row6 col5\" >0.3240</td>\n      <td id=\"T_7544b_row6_col6\" class=\"data row6 col6\" >0.6612</td>\n      <td id=\"T_7544b_row6_col7\" class=\"data row6 col7\" >0.6240</td>\n    </tr>\n    <tr>\n      <th id=\"T_7544b_level0_row7\" class=\"row_heading level0 row7\" >ridge</th>\n      <td id=\"T_7544b_row7_col0\" class=\"data row7 col0\" >Ridge Regression</td>\n      <td id=\"T_7544b_row7_col1\" class=\"data row7 col1\" >0.4228</td>\n      <td id=\"T_7544b_row7_col2\" class=\"data row7 col2\" >0.2114</td>\n      <td id=\"T_7544b_row7_col3\" class=\"data row7 col3\" >0.4597</td>\n      <td id=\"T_7544b_row7_col4\" class=\"data row7 col4\" >0.0230</td>\n      <td id=\"T_7544b_row7_col5\" class=\"data row7 col5\" >0.3240</td>\n      <td id=\"T_7544b_row7_col6\" class=\"data row7 col6\" >0.6612</td>\n      <td id=\"T_7544b_row7_col7\" class=\"data row7 col7\" >0.6020</td>\n    </tr>\n    <tr>\n      <th id=\"T_7544b_level0_row8\" class=\"row_heading level0 row8\" >lar</th>\n      <td id=\"T_7544b_row8_col0\" class=\"data row8 col0\" >Least Angle Regression</td>\n      <td id=\"T_7544b_row8_col1\" class=\"data row8 col1\" >0.4228</td>\n      <td id=\"T_7544b_row8_col2\" class=\"data row8 col2\" >0.2114</td>\n      <td id=\"T_7544b_row8_col3\" class=\"data row8 col3\" >0.4597</td>\n      <td id=\"T_7544b_row8_col4\" class=\"data row8 col4\" >0.0230</td>\n      <td id=\"T_7544b_row8_col5\" class=\"data row8 col5\" >0.3240</td>\n      <td id=\"T_7544b_row8_col6\" class=\"data row8 col6\" >0.6612</td>\n      <td id=\"T_7544b_row8_col7\" class=\"data row8 col7\" >0.4400</td>\n    </tr>\n    <tr>\n      <th id=\"T_7544b_level0_row9\" class=\"row_heading level0 row9\" >en</th>\n      <td id=\"T_7544b_row9_col0\" class=\"data row9 col0\" >Elastic Net</td>\n      <td id=\"T_7544b_row9_col1\" class=\"data row9 col1\" >0.4327</td>\n      <td id=\"T_7544b_row9_col2\" class=\"data row9 col2\" >0.2164</td>\n      <td id=\"T_7544b_row9_col3\" class=\"data row9 col3\" >0.4651</td>\n      <td id=\"T_7544b_row9_col4\" class=\"data row9 col4\" >-0.0000</td>\n      <td id=\"T_7544b_row9_col5\" class=\"data row9 col5\" >0.3273</td>\n      <td id=\"T_7544b_row9_col6\" class=\"data row9 col6\" >0.6834</td>\n      <td id=\"T_7544b_row9_col7\" class=\"data row9 col7\" >0.4640</td>\n    </tr>\n    <tr>\n      <th id=\"T_7544b_level0_row10\" class=\"row_heading level0 row10\" >llar</th>\n      <td id=\"T_7544b_row10_col0\" class=\"data row10 col0\" >Lasso Least Angle Regression</td>\n      <td id=\"T_7544b_row10_col1\" class=\"data row10 col1\" >0.4327</td>\n      <td id=\"T_7544b_row10_col2\" class=\"data row10 col2\" >0.2164</td>\n      <td id=\"T_7544b_row10_col3\" class=\"data row10 col3\" >0.4651</td>\n      <td id=\"T_7544b_row10_col4\" class=\"data row10 col4\" >-0.0000</td>\n      <td id=\"T_7544b_row10_col5\" class=\"data row10 col5\" >0.3273</td>\n      <td id=\"T_7544b_row10_col6\" class=\"data row10 col6\" >0.6834</td>\n      <td id=\"T_7544b_row10_col7\" class=\"data row10 col7\" >0.4740</td>\n    </tr>\n    <tr>\n      <th id=\"T_7544b_level0_row11\" class=\"row_heading level0 row11\" >lasso</th>\n      <td id=\"T_7544b_row11_col0\" class=\"data row11 col0\" >Lasso Regression</td>\n      <td id=\"T_7544b_row11_col1\" class=\"data row11 col1\" >0.4327</td>\n      <td id=\"T_7544b_row11_col2\" class=\"data row11 col2\" >0.2164</td>\n      <td id=\"T_7544b_row11_col3\" class=\"data row11 col3\" >0.4651</td>\n      <td id=\"T_7544b_row11_col4\" class=\"data row11 col4\" >-0.0000</td>\n      <td id=\"T_7544b_row11_col5\" class=\"data row11 col5\" >0.3273</td>\n      <td id=\"T_7544b_row11_col6\" class=\"data row11 col6\" >0.6834</td>\n      <td id=\"T_7544b_row11_col7\" class=\"data row11 col7\" >0.4780</td>\n    </tr>\n    <tr>\n      <th id=\"T_7544b_level0_row12\" class=\"row_heading level0 row12\" >dummy</th>\n      <td id=\"T_7544b_row12_col0\" class=\"data row12 col0\" >Dummy Regressor</td>\n      <td id=\"T_7544b_row12_col1\" class=\"data row12 col1\" >0.4327</td>\n      <td id=\"T_7544b_row12_col2\" class=\"data row12 col2\" >0.2164</td>\n      <td id=\"T_7544b_row12_col3\" class=\"data row12 col3\" >0.4651</td>\n      <td id=\"T_7544b_row12_col4\" class=\"data row12 col4\" >-0.0000</td>\n      <td id=\"T_7544b_row12_col5\" class=\"data row12 col5\" >0.3273</td>\n      <td id=\"T_7544b_row12_col6\" class=\"data row12 col6\" >0.6834</td>\n      <td id=\"T_7544b_row12_col7\" class=\"data row12 col7\" >0.4040</td>\n    </tr>\n    <tr>\n      <th id=\"T_7544b_level0_row13\" class=\"row_heading level0 row13\" >par</th>\n      <td id=\"T_7544b_row13_col0\" class=\"data row13 col0\" >Passive Aggressive Regressor</td>\n      <td id=\"T_7544b_row13_col1\" class=\"data row13 col1\" >0.4236</td>\n      <td id=\"T_7544b_row13_col2\" class=\"data row13 col2\" >0.2170</td>\n      <td id=\"T_7544b_row13_col3\" class=\"data row13 col3\" >0.4658</td>\n      <td id=\"T_7544b_row13_col4\" class=\"data row13 col4\" >-0.0028</td>\n      <td id=\"T_7544b_row13_col5\" class=\"data row13 col5\" >0.3270</td>\n      <td id=\"T_7544b_row13_col6\" class=\"data row13 col6\" >0.6792</td>\n      <td id=\"T_7544b_row13_col7\" class=\"data row13 col7\" >0.4720</td>\n    </tr>\n    <tr>\n      <th id=\"T_7544b_level0_row14\" class=\"row_heading level0 row14\" >rf</th>\n      <td id=\"T_7544b_row14_col0\" class=\"data row14 col0\" >Random Forest Regressor</td>\n      <td id=\"T_7544b_row14_col1\" class=\"data row14 col1\" >0.4483</td>\n      <td id=\"T_7544b_row14_col2\" class=\"data row14 col2\" >0.2202</td>\n      <td id=\"T_7544b_row14_col3\" class=\"data row14 col3\" >0.4693</td>\n      <td id=\"T_7544b_row14_col4\" class=\"data row14 col4\" >-0.0180</td>\n      <td id=\"T_7544b_row14_col5\" class=\"data row14 col5\" >0.3381</td>\n      <td id=\"T_7544b_row14_col6\" class=\"data row14 col6\" >0.6099</td>\n      <td id=\"T_7544b_row14_col7\" class=\"data row14 col7\" >0.8500</td>\n    </tr>\n    <tr>\n      <th id=\"T_7544b_level0_row15\" class=\"row_heading level0 row15\" >knn</th>\n      <td id=\"T_7544b_row15_col0\" class=\"data row15 col0\" >K Neighbors Regressor</td>\n      <td id=\"T_7544b_row15_col1\" class=\"data row15 col1\" >0.3165</td>\n      <td id=\"T_7544b_row15_col2\" class=\"data row15 col2\" >0.2712</td>\n      <td id=\"T_7544b_row15_col3\" class=\"data row15 col3\" >0.5207</td>\n      <td id=\"T_7544b_row15_col4\" class=\"data row15 col4\" >-0.2533</td>\n      <td id=\"T_7544b_row15_col5\" class=\"data row15 col5\" >0.3596</td>\n      <td id=\"T_7544b_row15_col6\" class=\"data row15 col6\" >0.8698</td>\n      <td id=\"T_7544b_row15_col7\" class=\"data row15 col7\" >2.2540</td>\n    </tr>\n    <tr>\n      <th id=\"T_7544b_level0_row16\" class=\"row_heading level0 row16\" >ada</th>\n      <td id=\"T_7544b_row16_col0\" class=\"data row16 col0\" >AdaBoost Regressor</td>\n      <td id=\"T_7544b_row16_col1\" class=\"data row16 col1\" >0.4858</td>\n      <td id=\"T_7544b_row16_col2\" class=\"data row16 col2\" >0.2737</td>\n      <td id=\"T_7544b_row16_col3\" class=\"data row16 col3\" >0.5193</td>\n      <td id=\"T_7544b_row16_col4\" class=\"data row16 col4\" >-0.2645</td>\n      <td id=\"T_7544b_row16_col5\" class=\"data row16 col5\" >0.3794</td>\n      <td id=\"T_7544b_row16_col6\" class=\"data row16 col6\" >0.4546</td>\n      <td id=\"T_7544b_row16_col7\" class=\"data row16 col7\" >0.9300</td>\n    </tr>\n    <tr>\n      <th id=\"T_7544b_level0_row17\" class=\"row_heading level0 row17\" >lightgbm</th>\n      <td id=\"T_7544b_row17_col0\" class=\"data row17 col0\" >Light Gradient Boosting Machine</td>\n      <td id=\"T_7544b_row17_col1\" class=\"data row17 col1\" >0.3340</td>\n      <td id=\"T_7544b_row17_col2\" class=\"data row17 col2\" >0.2748</td>\n      <td id=\"T_7544b_row17_col3\" class=\"data row17 col3\" >0.5228</td>\n      <td id=\"T_7544b_row17_col4\" class=\"data row17 col4\" >-0.2699</td>\n      <td id=\"T_7544b_row17_col5\" class=\"data row17 col5\" >0.3592</td>\n      <td id=\"T_7544b_row17_col6\" class=\"data row17 col6\" >0.8940</td>\n      <td id=\"T_7544b_row17_col7\" class=\"data row17 col7\" >1.2720</td>\n    </tr>\n  </tbody>\n</table>\n"
     },
     "metadata": {},
     "output_type": "display_data"
    }
   ],
   "source": [
    "best_regression_model = r.compare_models(fold=5)"
   ],
   "metadata": {
    "collapsed": false,
    "tags": [],
    "ExecuteTime": {
     "end_time": "2024-03-27T09:29:37.528294Z",
     "start_time": "2024-03-27T09:27:52.352862Z"
    }
   },
   "id": "ccb21b2418747d88",
   "execution_count": 17
  },
  {
   "cell_type": "code",
   "outputs": [
    {
     "name": "stdout",
     "output_type": "stream",
     "text": [
      "ExtraTreesRegressor(n_jobs=-1, random_state=123)\n"
     ]
    }
   ],
   "source": [
    "print(best_regression_model)"
   ],
   "metadata": {
    "collapsed": false,
    "ExecuteTime": {
     "end_time": "2024-03-27T09:30:00.294072Z",
     "start_time": "2024-03-27T09:30:00.290456Z"
    }
   },
   "id": "e63c3e9df74e5eda",
   "execution_count": 18
  },
  {
   "cell_type": "code",
   "outputs": [
    {
     "data": {
      "text/plain": "interactive(children=(ToggleButtons(description='Plot Type:', icons=('',), options=(('Pipeline Plot', 'pipelin…",
      "application/vnd.jupyter.widget-view+json": {
       "version_major": 2,
       "version_minor": 0,
       "model_id": "1c9f173fe9504c67a07039c1669760d7"
      }
     },
     "metadata": {},
     "output_type": "display_data"
    }
   ],
   "source": [
    "r.evaluate_model(best_regression_model)\n",
    "\n",
    "# model_decision_tree = create_model('dt')"
   ],
   "metadata": {
    "collapsed": false,
    "ExecuteTime": {
     "end_time": "2024-03-27T09:30:02.766982Z",
     "start_time": "2024-03-27T09:30:02.457648Z"
    }
   },
   "id": "357cdcb6af60f6ce",
   "execution_count": 19
  },
  {
   "cell_type": "code",
   "outputs": [
    {
     "data": {
      "text/plain": "<pandas.io.formats.style.Styler at 0x7fb5bed0fa10>",
      "text/html": "<style type=\"text/css\">\n</style>\n<table id=\"T_90c44\">\n  <thead>\n    <tr>\n      <th class=\"blank level0\" >&nbsp;</th>\n      <th id=\"T_90c44_level0_col0\" class=\"col_heading level0 col0\" >Model</th>\n      <th id=\"T_90c44_level0_col1\" class=\"col_heading level0 col1\" >MAE</th>\n      <th id=\"T_90c44_level0_col2\" class=\"col_heading level0 col2\" >MSE</th>\n      <th id=\"T_90c44_level0_col3\" class=\"col_heading level0 col3\" >RMSE</th>\n      <th id=\"T_90c44_level0_col4\" class=\"col_heading level0 col4\" >R2</th>\n      <th id=\"T_90c44_level0_col5\" class=\"col_heading level0 col5\" >RMSLE</th>\n      <th id=\"T_90c44_level0_col6\" class=\"col_heading level0 col6\" >MAPE</th>\n    </tr>\n  </thead>\n  <tbody>\n    <tr>\n      <th id=\"T_90c44_level0_row0\" class=\"row_heading level0 row0\" >0</th>\n      <td id=\"T_90c44_row0_col0\" class=\"data row0 col0\" >Extra Trees Regressor</td>\n      <td id=\"T_90c44_row0_col1\" class=\"data row0 col1\" >0.1231</td>\n      <td id=\"T_90c44_row0_col2\" class=\"data row0 col2\" >0.0625</td>\n      <td id=\"T_90c44_row0_col3\" class=\"data row0 col3\" >0.2500</td>\n      <td id=\"T_90c44_row0_col4\" class=\"data row0 col4\" >0.7111</td>\n      <td id=\"T_90c44_row0_col5\" class=\"data row0 col5\" >0.1744</td>\n      <td id=\"T_90c44_row0_col6\" class=\"data row0 col6\" >0.2034</td>\n    </tr>\n  </tbody>\n</table>\n"
     },
     "metadata": {},
     "output_type": "display_data"
    },
    {
     "data": {
      "text/plain": "                 domain  levels_count  levels_mad  symbols_count  \\\n0          facebook.com             2         2.5             12   \n1  fonts.googleapis.com             3         2.0             20   \n2           youtube.com             2         2.0             11   \n3            google.com             2         1.5             10   \n4  googletagmanager.com             2         6.5             20   \n\n   vowels_ratio  consonants_ratio  numbers_ratio  points_ratio  special_ratio  \\\n0        0.4167            0.5000            0.0        0.0833            0.0   \n1        0.3500            0.5500            0.0        0.1000            0.0   \n2        0.4545            0.4545            0.0        0.0909            0.0   \n3        0.4000            0.5000            0.0        0.1000            0.0   \n4        0.4000            0.5500            0.0        0.0500            0.0   \n\n   unique_ratio  max_repeated  is_legit  prediction_label  \n0        0.7500             2         1               1.0  \n1        0.7000             2         1               1.0  \n2        0.8182             1         1               1.0  \n3        0.7000             2         1               1.0  \n4        0.5500             2         1               1.0  ",
      "text/html": "<div>\n<style scoped>\n    .dataframe tbody tr th:only-of-type {\n        vertical-align: middle;\n    }\n\n    .dataframe tbody tr th {\n        vertical-align: top;\n    }\n\n    .dataframe thead th {\n        text-align: right;\n    }\n</style>\n<table border=\"1\" class=\"dataframe\">\n  <thead>\n    <tr style=\"text-align: right;\">\n      <th></th>\n      <th>domain</th>\n      <th>levels_count</th>\n      <th>levels_mad</th>\n      <th>symbols_count</th>\n      <th>vowels_ratio</th>\n      <th>consonants_ratio</th>\n      <th>numbers_ratio</th>\n      <th>points_ratio</th>\n      <th>special_ratio</th>\n      <th>unique_ratio</th>\n      <th>max_repeated</th>\n      <th>is_legit</th>\n      <th>prediction_label</th>\n    </tr>\n  </thead>\n  <tbody>\n    <tr>\n      <th>0</th>\n      <td>facebook.com</td>\n      <td>2</td>\n      <td>2.5</td>\n      <td>12</td>\n      <td>0.4167</td>\n      <td>0.5000</td>\n      <td>0.0</td>\n      <td>0.0833</td>\n      <td>0.0</td>\n      <td>0.7500</td>\n      <td>2</td>\n      <td>1</td>\n      <td>1.0</td>\n    </tr>\n    <tr>\n      <th>1</th>\n      <td>fonts.googleapis.com</td>\n      <td>3</td>\n      <td>2.0</td>\n      <td>20</td>\n      <td>0.3500</td>\n      <td>0.5500</td>\n      <td>0.0</td>\n      <td>0.1000</td>\n      <td>0.0</td>\n      <td>0.7000</td>\n      <td>2</td>\n      <td>1</td>\n      <td>1.0</td>\n    </tr>\n    <tr>\n      <th>2</th>\n      <td>youtube.com</td>\n      <td>2</td>\n      <td>2.0</td>\n      <td>11</td>\n      <td>0.4545</td>\n      <td>0.4545</td>\n      <td>0.0</td>\n      <td>0.0909</td>\n      <td>0.0</td>\n      <td>0.8182</td>\n      <td>1</td>\n      <td>1</td>\n      <td>1.0</td>\n    </tr>\n    <tr>\n      <th>3</th>\n      <td>google.com</td>\n      <td>2</td>\n      <td>1.5</td>\n      <td>10</td>\n      <td>0.4000</td>\n      <td>0.5000</td>\n      <td>0.0</td>\n      <td>0.1000</td>\n      <td>0.0</td>\n      <td>0.7000</td>\n      <td>2</td>\n      <td>1</td>\n      <td>1.0</td>\n    </tr>\n    <tr>\n      <th>4</th>\n      <td>googletagmanager.com</td>\n      <td>2</td>\n      <td>6.5</td>\n      <td>20</td>\n      <td>0.4000</td>\n      <td>0.5500</td>\n      <td>0.0</td>\n      <td>0.0500</td>\n      <td>0.0</td>\n      <td>0.5500</td>\n      <td>2</td>\n      <td>1</td>\n      <td>1.0</td>\n    </tr>\n  </tbody>\n</table>\n</div>"
     },
     "execution_count": 21,
     "metadata": {},
     "output_type": "execute_result"
    }
   ],
   "source": [
    "predictions = r.predict_model(best_regression_model, data=df_semantic)\n",
    "predictions.head()"
   ],
   "metadata": {
    "collapsed": false,
    "ExecuteTime": {
     "end_time": "2024-03-27T09:36:52.026483Z",
     "start_time": "2024-03-27T09:36:50.560356Z"
    }
   },
   "id": "215d25138ac1336f",
   "execution_count": 21
  },
  {
   "cell_type": "code",
   "outputs": [
    {
     "data": {
      "text/plain": "                                                                    \n                                                                    \nInitiated  . . . . . . . . . . . . . . . . . .              09:37:23\nStatus     . . . . . . . . . . . . . . . . . .  Loading Dependencies\nEstimator  . . . . . . . . . . . . . . . . . .     Compiling Library",
      "text/html": "<div>\n<style scoped>\n    .dataframe tbody tr th:only-of-type {\n        vertical-align: middle;\n    }\n\n    .dataframe tbody tr th {\n        vertical-align: top;\n    }\n\n    .dataframe thead th {\n        text-align: right;\n    }\n</style>\n<table border=\"1\" class=\"dataframe\">\n  <thead>\n    <tr style=\"text-align: right;\">\n      <th></th>\n      <th></th>\n      <th></th>\n    </tr>\n    <tr>\n      <th></th>\n      <th></th>\n      <th></th>\n    </tr>\n  </thead>\n  <tbody>\n    <tr>\n      <th>Initiated</th>\n      <td>. . . . . . . . . . . . . . . . . .</td>\n      <td>09:37:23</td>\n    </tr>\n    <tr>\n      <th>Status</th>\n      <td>. . . . . . . . . . . . . . . . . .</td>\n      <td>Loading Dependencies</td>\n    </tr>\n    <tr>\n      <th>Estimator</th>\n      <td>. . . . . . . . . . . . . . . . . .</td>\n      <td>Compiling Library</td>\n    </tr>\n  </tbody>\n</table>\n</div>"
     },
     "metadata": {},
     "output_type": "display_data"
    },
    {
     "data": {
      "text/plain": "<IPython.core.display.HTML object>",
      "text/html": ""
     },
     "metadata": {},
     "output_type": "display_data"
    },
    {
     "data": {
      "text/plain": "                                                                         \n                                                                         \nInitiated  . . . . . . . . . . . . . . . . . .                   09:37:23\nStatus     . . . . . . . . . . . . . . . . . .  Searching Hyperparameters\nEstimator  . . . . . . . . . . . . . . . . . .      Extra Trees Regressor",
      "text/html": "<div>\n<style scoped>\n    .dataframe tbody tr th:only-of-type {\n        vertical-align: middle;\n    }\n\n    .dataframe tbody tr th {\n        vertical-align: top;\n    }\n\n    .dataframe thead th {\n        text-align: right;\n    }\n</style>\n<table border=\"1\" class=\"dataframe\">\n  <thead>\n    <tr style=\"text-align: right;\">\n      <th></th>\n      <th></th>\n      <th></th>\n    </tr>\n    <tr>\n      <th></th>\n      <th></th>\n      <th></th>\n    </tr>\n  </thead>\n  <tbody>\n    <tr>\n      <th>Initiated</th>\n      <td>. . . . . . . . . . . . . . . . . .</td>\n      <td>09:37:23</td>\n    </tr>\n    <tr>\n      <th>Status</th>\n      <td>. . . . . . . . . . . . . . . . . .</td>\n      <td>Searching Hyperparameters</td>\n    </tr>\n    <tr>\n      <th>Estimator</th>\n      <td>. . . . . . . . . . . . . . . . . .</td>\n      <td>Extra Trees Regressor</td>\n    </tr>\n  </tbody>\n</table>\n</div>"
     },
     "metadata": {},
     "output_type": "display_data"
    },
    {
     "data": {
      "text/plain": "<pandas.io.formats.style.Styler at 0x7fb58d074d90>",
      "text/html": "<style type=\"text/css\">\n#T_0a245_row10_col0, #T_0a245_row10_col1, #T_0a245_row10_col2, #T_0a245_row10_col3, #T_0a245_row10_col4, #T_0a245_row10_col5 {\n  background: yellow;\n}\n</style>\n<table id=\"T_0a245\">\n  <thead>\n    <tr>\n      <th class=\"blank level0\" >&nbsp;</th>\n      <th id=\"T_0a245_level0_col0\" class=\"col_heading level0 col0\" >MAE</th>\n      <th id=\"T_0a245_level0_col1\" class=\"col_heading level0 col1\" >MSE</th>\n      <th id=\"T_0a245_level0_col2\" class=\"col_heading level0 col2\" >RMSE</th>\n      <th id=\"T_0a245_level0_col3\" class=\"col_heading level0 col3\" >R2</th>\n      <th id=\"T_0a245_level0_col4\" class=\"col_heading level0 col4\" >RMSLE</th>\n      <th id=\"T_0a245_level0_col5\" class=\"col_heading level0 col5\" >MAPE</th>\n    </tr>\n    <tr>\n      <th class=\"index_name level0\" >Fold</th>\n      <th class=\"blank col0\" >&nbsp;</th>\n      <th class=\"blank col1\" >&nbsp;</th>\n      <th class=\"blank col2\" >&nbsp;</th>\n      <th class=\"blank col3\" >&nbsp;</th>\n      <th class=\"blank col4\" >&nbsp;</th>\n      <th class=\"blank col5\" >&nbsp;</th>\n    </tr>\n  </thead>\n  <tbody>\n    <tr>\n      <th id=\"T_0a245_level0_row0\" class=\"row_heading level0 row0\" >0</th>\n      <td id=\"T_0a245_row0_col0\" class=\"data row0 col0\" >0.4137</td>\n      <td id=\"T_0a245_row0_col1\" class=\"data row0 col1\" >0.2015</td>\n      <td id=\"T_0a245_row0_col2\" class=\"data row0 col2\" >0.4489</td>\n      <td id=\"T_0a245_row0_col3\" class=\"data row0 col3\" >0.0682</td>\n      <td id=\"T_0a245_row0_col4\" class=\"data row0 col4\" >0.3152</td>\n      <td id=\"T_0a245_row0_col5\" class=\"data row0 col5\" >0.6557</td>\n    </tr>\n    <tr>\n      <th id=\"T_0a245_level0_row1\" class=\"row_heading level0 row1\" >1</th>\n      <td id=\"T_0a245_row1_col0\" class=\"data row1 col0\" >0.4132</td>\n      <td id=\"T_0a245_row1_col1\" class=\"data row1 col1\" >0.2024</td>\n      <td id=\"T_0a245_row1_col2\" class=\"data row1 col2\" >0.4499</td>\n      <td id=\"T_0a245_row1_col3\" class=\"data row1 col3\" >0.0626</td>\n      <td id=\"T_0a245_row1_col4\" class=\"data row1 col4\" >0.3155</td>\n      <td id=\"T_0a245_row1_col5\" class=\"data row1 col5\" >0.6621</td>\n    </tr>\n    <tr>\n      <th id=\"T_0a245_level0_row2\" class=\"row_heading level0 row2\" >2</th>\n      <td id=\"T_0a245_row2_col0\" class=\"data row2 col0\" >0.4142</td>\n      <td id=\"T_0a245_row2_col1\" class=\"data row2 col1\" >0.2022</td>\n      <td id=\"T_0a245_row2_col2\" class=\"data row2 col2\" >0.4497</td>\n      <td id=\"T_0a245_row2_col3\" class=\"data row2 col3\" >0.0668</td>\n      <td id=\"T_0a245_row2_col4\" class=\"data row2 col4\" >0.3155</td>\n      <td id=\"T_0a245_row2_col5\" class=\"data row2 col5\" >0.6574</td>\n    </tr>\n    <tr>\n      <th id=\"T_0a245_level0_row3\" class=\"row_heading level0 row3\" >3</th>\n      <td id=\"T_0a245_row3_col0\" class=\"data row3 col0\" >0.4082</td>\n      <td id=\"T_0a245_row3_col1\" class=\"data row3 col1\" >0.2015</td>\n      <td id=\"T_0a245_row3_col2\" class=\"data row3 col2\" >0.4489</td>\n      <td id=\"T_0a245_row3_col3\" class=\"data row3 col3\" >0.0711</td>\n      <td id=\"T_0a245_row3_col4\" class=\"data row3 col4\" >0.3131</td>\n      <td id=\"T_0a245_row3_col5\" class=\"data row3 col5\" >0.6674</td>\n    </tr>\n    <tr>\n      <th id=\"T_0a245_level0_row4\" class=\"row_heading level0 row4\" >4</th>\n      <td id=\"T_0a245_row4_col0\" class=\"data row4 col0\" >0.4122</td>\n      <td id=\"T_0a245_row4_col1\" class=\"data row4 col1\" >0.2016</td>\n      <td id=\"T_0a245_row4_col2\" class=\"data row4 col2\" >0.4490</td>\n      <td id=\"T_0a245_row4_col3\" class=\"data row4 col3\" >0.0679</td>\n      <td id=\"T_0a245_row4_col4\" class=\"data row4 col4\" >0.3147</td>\n      <td id=\"T_0a245_row4_col5\" class=\"data row4 col5\" >0.6601</td>\n    </tr>\n    <tr>\n      <th id=\"T_0a245_level0_row5\" class=\"row_heading level0 row5\" >5</th>\n      <td id=\"T_0a245_row5_col0\" class=\"data row5 col0\" >0.4097</td>\n      <td id=\"T_0a245_row5_col1\" class=\"data row5 col1\" >0.2019</td>\n      <td id=\"T_0a245_row5_col2\" class=\"data row5 col2\" >0.4494</td>\n      <td id=\"T_0a245_row5_col3\" class=\"data row5 col3\" >0.0671</td>\n      <td id=\"T_0a245_row5_col4\" class=\"data row5 col4\" >0.3139</td>\n      <td id=\"T_0a245_row5_col5\" class=\"data row5 col5\" >0.6679</td>\n    </tr>\n    <tr>\n      <th id=\"T_0a245_level0_row6\" class=\"row_heading level0 row6\" >6</th>\n      <td id=\"T_0a245_row6_col0\" class=\"data row6 col0\" >0.4088</td>\n      <td id=\"T_0a245_row6_col1\" class=\"data row6 col1\" >0.1985</td>\n      <td id=\"T_0a245_row6_col2\" class=\"data row6 col2\" >0.4455</td>\n      <td id=\"T_0a245_row6_col3\" class=\"data row6 col3\" >0.0774</td>\n      <td id=\"T_0a245_row6_col4\" class=\"data row6 col4\" >0.3127</td>\n      <td id=\"T_0a245_row6_col5\" class=\"data row6 col5\" >0.6545</td>\n    </tr>\n    <tr>\n      <th id=\"T_0a245_level0_row7\" class=\"row_heading level0 row7\" >7</th>\n      <td id=\"T_0a245_row7_col0\" class=\"data row7 col0\" >0.4071</td>\n      <td id=\"T_0a245_row7_col1\" class=\"data row7 col1\" >0.1996</td>\n      <td id=\"T_0a245_row7_col2\" class=\"data row7 col2\" >0.4468</td>\n      <td id=\"T_0a245_row7_col3\" class=\"data row7 col3\" >0.0705</td>\n      <td id=\"T_0a245_row7_col4\" class=\"data row7 col4\" >0.3126</td>\n      <td id=\"T_0a245_row7_col5\" class=\"data row7 col5\" >0.6659</td>\n    </tr>\n    <tr>\n      <th id=\"T_0a245_level0_row8\" class=\"row_heading level0 row8\" >8</th>\n      <td id=\"T_0a245_row8_col0\" class=\"data row8 col0\" >0.4069</td>\n      <td id=\"T_0a245_row8_col1\" class=\"data row8 col1\" >0.2021</td>\n      <td id=\"T_0a245_row8_col2\" class=\"data row8 col2\" >0.4495</td>\n      <td id=\"T_0a245_row8_col3\" class=\"data row8 col3\" >0.0721</td>\n      <td id=\"T_0a245_row8_col4\" class=\"data row8 col4\" >0.3125</td>\n      <td id=\"T_0a245_row8_col5\" class=\"data row8 col5\" >0.6717</td>\n    </tr>\n    <tr>\n      <th id=\"T_0a245_level0_row9\" class=\"row_heading level0 row9\" >9</th>\n      <td id=\"T_0a245_row9_col0\" class=\"data row9 col0\" >0.4106</td>\n      <td id=\"T_0a245_row9_col1\" class=\"data row9 col1\" >0.2011</td>\n      <td id=\"T_0a245_row9_col2\" class=\"data row9 col2\" >0.4484</td>\n      <td id=\"T_0a245_row9_col3\" class=\"data row9 col3\" >0.0741</td>\n      <td id=\"T_0a245_row9_col4\" class=\"data row9 col4\" >0.3136</td>\n      <td id=\"T_0a245_row9_col5\" class=\"data row9 col5\" >0.6608</td>\n    </tr>\n    <tr>\n      <th id=\"T_0a245_level0_row10\" class=\"row_heading level0 row10\" >Mean</th>\n      <td id=\"T_0a245_row10_col0\" class=\"data row10 col0\" >0.4104</td>\n      <td id=\"T_0a245_row10_col1\" class=\"data row10 col1\" >0.2012</td>\n      <td id=\"T_0a245_row10_col2\" class=\"data row10 col2\" >0.4486</td>\n      <td id=\"T_0a245_row10_col3\" class=\"data row10 col3\" >0.0698</td>\n      <td id=\"T_0a245_row10_col4\" class=\"data row10 col4\" >0.3139</td>\n      <td id=\"T_0a245_row10_col5\" class=\"data row10 col5\" >0.6624</td>\n    </tr>\n    <tr>\n      <th id=\"T_0a245_level0_row11\" class=\"row_heading level0 row11\" >Std</th>\n      <td id=\"T_0a245_row11_col0\" class=\"data row11 col0\" >0.0026</td>\n      <td id=\"T_0a245_row11_col1\" class=\"data row11 col1\" >0.0012</td>\n      <td id=\"T_0a245_row11_col2\" class=\"data row11 col2\" >0.0013</td>\n      <td id=\"T_0a245_row11_col3\" class=\"data row11 col3\" >0.0040</td>\n      <td id=\"T_0a245_row11_col4\" class=\"data row11 col4\" >0.0012</td>\n      <td id=\"T_0a245_row11_col5\" class=\"data row11 col5\" >0.0054</td>\n    </tr>\n  </tbody>\n</table>\n"
     },
     "metadata": {},
     "output_type": "display_data"
    }
   ],
   "source": [
    "r_tuned = r.tune_model(best_regression_model)"
   ],
   "metadata": {
    "collapsed": false,
    "ExecuteTime": {
     "end_time": "2024-03-27T10:52:32.627993Z",
     "start_time": "2024-03-27T09:37:23.799297Z"
    }
   },
   "id": "32bf4edd9ccf2ea3",
   "execution_count": 23
  },
  {
   "cell_type": "code",
   "outputs": [
    {
     "data": {
      "text/plain": "interactive(children=(ToggleButtons(description='Plot Type:', icons=('',), options=(('Pipeline Plot', 'pipelin…",
      "application/vnd.jupyter.widget-view+json": {
       "version_major": 2,
       "version_minor": 0,
       "model_id": "08bd26a2a85f4c598c699d9334e1f38d"
      }
     },
     "metadata": {},
     "output_type": "display_data"
    }
   ],
   "source": [
    "r.evaluate_model(best_regression_model)"
   ],
   "metadata": {
    "collapsed": false,
    "ExecuteTime": {
     "end_time": "2024-03-27T11:00:20.644752Z",
     "start_time": "2024-03-27T11:00:20.306382Z"
    }
   },
   "id": "3a0a0887931fcc2b",
   "execution_count": 25
  },
  {
   "cell_type": "code",
   "outputs": [
    {
     "name": "stdout",
     "output_type": "stream",
     "text": [
      "Transformation Pipeline and Model Successfully Saved\n"
     ]
    },
    {
     "data": {
      "text/plain": "(Pipeline(memory=Memory(location=None),\n          steps=[('numerical_imputer',\n                  TransformerWrapper(include=['levels_count', 'levels_mad',\n                                              'symbols_count', 'vowels_ratio',\n                                              'consonants_ratio',\n                                              'numbers_ratio', 'points_ratio',\n                                              'special_ratio', 'unique_ratio',\n                                              'max_repeated'],\n                                     transformer=SimpleImputer())),\n                 ('categorical_imputer',\n                  TransformerWrapper(include=['domain'],\n                                     transformer=SimpleImputer(strategy='most_frequent'))),\n                 ('rest_encoding',\n                  TransformerWrapper(include=['domain'],\n                                     transformer=TargetEncoder(cols=['domain'],\n                                                               handle_missing='return_nan'))),\n                 ('normalize', TransformerWrapper(transformer=StandardScaler())),\n                 ('trained_model',\n                  ExtraTreesRegressor(n_jobs=-1, random_state=123))]),\n 'semantic_regression_et.pkl')"
     },
     "execution_count": 34,
     "metadata": {},
     "output_type": "execute_result"
    }
   ],
   "source": [
    "r.save_model(best_regression_model, model_name='semantic_regression_et')"
   ],
   "metadata": {
    "collapsed": false,
    "ExecuteTime": {
     "end_time": "2024-03-27T11:07:27.937760Z",
     "start_time": "2024-03-27T11:07:27.733551Z"
    }
   },
   "id": "bb3bc2e62b2c53dc",
   "execution_count": 34
  },
  {
   "cell_type": "code",
   "outputs": [
    {
     "name": "stdout",
     "output_type": "stream",
     "text": [
      "Looking in indexes: https://pypi.org/simple, https://pypi.ngc.nvidia.com\r\n",
      "Requirement already satisfied: m2cgen in /opt/conda/lib/python3.11/site-packages (0.10.0)\r\n",
      "Requirement already satisfied: numpy in /opt/conda/lib/python3.11/site-packages (from m2cgen) (1.26.3)\r\n"
     ]
    }
   ],
   "source": [
    "!pip install m2cgen\n",
    "\n",
    "from pycaret.regression import load_model\n",
    "from pycaret.regression import *"
   ],
   "metadata": {
    "collapsed": false,
    "ExecuteTime": {
     "end_time": "2024-03-27T11:21:43.869329Z",
     "start_time": "2024-03-27T11:21:39.809850Z"
    }
   },
   "id": "71ed9fbf56fd2816",
   "execution_count": 1
  },
  {
   "cell_type": "code",
   "outputs": [
    {
     "name": "stdout",
     "output_type": "stream",
     "text": [
      "[LightGBM] [Warning] There are no meaningful features which satisfy the provided configuration. Decreasing Dataset parameters min_data_in_bin or min_data_in_leaf and re-constructing Dataset might resolve this warning.\n",
      "[LightGBM] [Info] This is the GPU trainer!!\n",
      "[LightGBM] [Info] Total Bins 0\n",
      "[LightGBM] [Info] Number of data points in the train set: 2, number of used features: 0\n",
      "[LightGBM] [Warning] There are no meaningful features which satisfy the provided configuration. Decreasing Dataset parameters min_data_in_bin or min_data_in_leaf and re-constructing Dataset might resolve this warning.\n",
      "[LightGBM] [Warning] Using sparse features with CUDA is currently not supported.\n",
      "[LightGBM] [Warning] There are no meaningful features which satisfy the provided configuration. Decreasing Dataset parameters min_data_in_bin or min_data_in_leaf and re-constructing Dataset might resolve this warning.\n",
      "[LightGBM] [Info] This is the GPU trainer!!\n",
      "[LightGBM] [Info] Total Bins 0\n",
      "[LightGBM] [Info] Number of data points in the train set: 2, number of used features: 0\n",
      "[LightGBM] [Warning] There are no meaningful features which satisfy the provided configuration. Decreasing Dataset parameters min_data_in_bin or min_data_in_leaf and re-constructing Dataset might resolve this warning.\n",
      "[LightGBM] [Warning] Using sparse features with CUDA is currently not supported.\n"
     ]
    },
    {
     "name": "stderr",
     "output_type": "stream",
     "text": [
      "[LightGBM] [Fatal] CUDA Tree Learner was not enabled in this build.\n",
      "Please recompile with CMake option -DUSE_CUDA=1\n",
      "[LightGBM] [Fatal] CUDA Tree Learner was not enabled in this build.\n",
      "Please recompile with CMake option -DUSE_CUDA=1\n"
     ]
    },
    {
     "name": "stdout",
     "output_type": "stream",
     "text": [
      "[LightGBM] [Warning] There are no meaningful features which satisfy the provided configuration. Decreasing Dataset parameters min_data_in_bin or min_data_in_leaf and re-constructing Dataset might resolve this warning.\n",
      "[LightGBM] [Info] This is the GPU trainer!!\n",
      "[LightGBM] [Info] Total Bins 0\n",
      "[LightGBM] [Info] Number of data points in the train set: 2, number of used features: 0\n",
      "[LightGBM] [Warning] There are no meaningful features which satisfy the provided configuration. Decreasing Dataset parameters min_data_in_bin or min_data_in_leaf and re-constructing Dataset might resolve this warning.\n",
      "[LightGBM] [Warning] Using sparse features with CUDA is currently not supported.\n",
      "[LightGBM] [Warning] There are no meaningful features which satisfy the provided configuration. Decreasing Dataset parameters min_data_in_bin or min_data_in_leaf and re-constructing Dataset might resolve this warning.\n",
      "[LightGBM] [Info] This is the GPU trainer!!\n",
      "[LightGBM] [Info] Total Bins 0\n",
      "[LightGBM] [Info] Number of data points in the train set: 2, number of used features: 0\n",
      "[LightGBM] [Warning] There are no meaningful features which satisfy the provided configuration. Decreasing Dataset parameters min_data_in_bin or min_data_in_leaf and re-constructing Dataset might resolve this warning.\n",
      "[LightGBM] [Warning] Using sparse features with CUDA is currently not supported.\n"
     ]
    },
    {
     "name": "stderr",
     "output_type": "stream",
     "text": [
      "[LightGBM] [Fatal] CUDA Tree Learner was not enabled in this build.\n",
      "Please recompile with CMake option -DUSE_CUDA=1\n",
      "[LightGBM] [Fatal] CUDA Tree Learner was not enabled in this build.\n",
      "Please recompile with CMake option -DUSE_CUDA=1\n"
     ]
    },
    {
     "name": "stdout",
     "output_type": "stream",
     "text": [
      "[LightGBM] [Warning] There are no meaningful features which satisfy the provided configuration. Decreasing Dataset parameters min_data_in_bin or min_data_in_leaf and re-constructing Dataset might resolve this warning.\n",
      "[LightGBM] [Info] This is the GPU trainer!!\n",
      "[LightGBM] [Info] Total Bins 0\n",
      "[LightGBM] [Info] Number of data points in the train set: 2, number of used features: 0\n",
      "[LightGBM] [Warning] There are no meaningful features which satisfy the provided configuration. Decreasing Dataset parameters min_data_in_bin or min_data_in_leaf and re-constructing Dataset might resolve this warning.\n",
      "[LightGBM] [Warning] Using sparse features with CUDA is currently not supported.\n",
      "[LightGBM] [Warning] There are no meaningful features which satisfy the provided configuration. Decreasing Dataset parameters min_data_in_bin or min_data_in_leaf and re-constructing Dataset might resolve this warning.\n",
      "[LightGBM] [Info] This is the GPU trainer!!\n",
      "[LightGBM] [Info] Total Bins 0\n",
      "[LightGBM] [Info] Number of data points in the train set: 2, number of used features: 0\n",
      "[LightGBM] [Warning] There are no meaningful features which satisfy the provided configuration. Decreasing Dataset parameters min_data_in_bin or min_data_in_leaf and re-constructing Dataset might resolve this warning.\n",
      "[LightGBM] [Warning] Using sparse features with CUDA is currently not supported.\n"
     ]
    },
    {
     "name": "stderr",
     "output_type": "stream",
     "text": [
      "[LightGBM] [Fatal] CUDA Tree Learner was not enabled in this build.\n",
      "Please recompile with CMake option -DUSE_CUDA=1\n",
      "[LightGBM] [Fatal] CUDA Tree Learner was not enabled in this build.\n",
      "Please recompile with CMake option -DUSE_CUDA=1\n"
     ]
    },
    {
     "name": "stdout",
     "output_type": "stream",
     "text": [
      "[LightGBM] [Warning] There are no meaningful features which satisfy the provided configuration. Decreasing Dataset parameters min_data_in_bin or min_data_in_leaf and re-constructing Dataset might resolve this warning.\n",
      "[LightGBM] [Info] This is the GPU trainer!!\n",
      "[LightGBM] [Info] Total Bins 0\n",
      "[LightGBM] [Info] Number of data points in the train set: 2, number of used features: 0\n",
      "[LightGBM] [Warning] There are no meaningful features which satisfy the provided configuration. Decreasing Dataset parameters min_data_in_bin or min_data_in_leaf and re-constructing Dataset might resolve this warning.\n",
      "[LightGBM] [Warning] Using sparse features with CUDA is currently not supported.\n",
      "[LightGBM] [Warning] There are no meaningful features which satisfy the provided configuration. Decreasing Dataset parameters min_data_in_bin or min_data_in_leaf and re-constructing Dataset might resolve this warning.\n",
      "[LightGBM] [Info] This is the GPU trainer!!\n",
      "[LightGBM] [Info] Total Bins 0\n",
      "[LightGBM] [Info] Number of data points in the train set: 2, number of used features: 0\n",
      "[LightGBM] [Warning] There are no meaningful features which satisfy the provided configuration. Decreasing Dataset parameters min_data_in_bin or min_data_in_leaf and re-constructing Dataset might resolve this warning.\n",
      "[LightGBM] [Warning] Using sparse features with CUDA is currently not supported.\n"
     ]
    },
    {
     "name": "stderr",
     "output_type": "stream",
     "text": [
      "[LightGBM] [Fatal] CUDA Tree Learner was not enabled in this build.\n",
      "Please recompile with CMake option -DUSE_CUDA=1\n",
      "[LightGBM] [Fatal] CUDA Tree Learner was not enabled in this build.\n",
      "Please recompile with CMake option -DUSE_CUDA=1\n"
     ]
    },
    {
     "name": "stdout",
     "output_type": "stream",
     "text": [
      "[LightGBM] [Warning] There are no meaningful features which satisfy the provided configuration. Decreasing Dataset parameters min_data_in_bin or min_data_in_leaf and re-constructing Dataset might resolve this warning.\n",
      "[LightGBM] [Info] This is the GPU trainer!!\n",
      "[LightGBM] [Info] Total Bins 0\n",
      "[LightGBM] [Info] Number of data points in the train set: 2, number of used features: 0\n",
      "[LightGBM] [Warning] There are no meaningful features which satisfy the provided configuration. Decreasing Dataset parameters min_data_in_bin or min_data_in_leaf and re-constructing Dataset might resolve this warning.\n",
      "[LightGBM] [Warning] Using sparse features with CUDA is currently not supported.\n",
      "[LightGBM] [Warning] There are no meaningful features which satisfy the provided configuration. Decreasing Dataset parameters min_data_in_bin or min_data_in_leaf and re-constructing Dataset might resolve this warning.\n",
      "[LightGBM] [Info] This is the GPU trainer!!\n",
      "[LightGBM] [Info] Total Bins 0\n",
      "[LightGBM] [Info] Number of data points in the train set: 2, number of used features: 0\n",
      "[LightGBM] [Warning] There are no meaningful features which satisfy the provided configuration. Decreasing Dataset parameters min_data_in_bin or min_data_in_leaf and re-constructing Dataset might resolve this warning.\n",
      "[LightGBM] [Warning] Using sparse features with CUDA is currently not supported.\n"
     ]
    },
    {
     "name": "stderr",
     "output_type": "stream",
     "text": [
      "[LightGBM] [Fatal] CUDA Tree Learner was not enabled in this build.\n",
      "Please recompile with CMake option -DUSE_CUDA=1\n",
      "[LightGBM] [Fatal] CUDA Tree Learner was not enabled in this build.\n",
      "Please recompile with CMake option -DUSE_CUDA=1\n"
     ]
    },
    {
     "name": "stdout",
     "output_type": "stream",
     "text": [
      "[LightGBM] [Warning] There are no meaningful features which satisfy the provided configuration. Decreasing Dataset parameters min_data_in_bin or min_data_in_leaf and re-constructing Dataset might resolve this warning.\n",
      "[LightGBM] [Info] This is the GPU trainer!!\n",
      "[LightGBM] [Info] Total Bins 0\n",
      "[LightGBM] [Info] Number of data points in the train set: 2, number of used features: 0\n",
      "[LightGBM] [Warning] There are no meaningful features which satisfy the provided configuration. Decreasing Dataset parameters min_data_in_bin or min_data_in_leaf and re-constructing Dataset might resolve this warning.\n",
      "[LightGBM] [Warning] Using sparse features with CUDA is currently not supported.\n",
      "[LightGBM] [Warning] There are no meaningful features which satisfy the provided configuration. Decreasing Dataset parameters min_data_in_bin or min_data_in_leaf and re-constructing Dataset might resolve this warning.\n",
      "[LightGBM] [Info] This is the GPU trainer!!\n",
      "[LightGBM] [Info] Total Bins 0\n",
      "[LightGBM] [Info] Number of data points in the train set: 2, number of used features: 0\n",
      "[LightGBM] [Warning] There are no meaningful features which satisfy the provided configuration. Decreasing Dataset parameters min_data_in_bin or min_data_in_leaf and re-constructing Dataset might resolve this warning.\n",
      "[LightGBM] [Warning] Using sparse features with CUDA is currently not supported.\n"
     ]
    },
    {
     "name": "stderr",
     "output_type": "stream",
     "text": [
      "[LightGBM] [Fatal] CUDA Tree Learner was not enabled in this build.\n",
      "Please recompile with CMake option -DUSE_CUDA=1\n",
      "[LightGBM] [Fatal] CUDA Tree Learner was not enabled in this build.\n",
      "Please recompile with CMake option -DUSE_CUDA=1\n"
     ]
    },
    {
     "data": {
      "text/plain": "<pandas.io.formats.style.Styler at 0x7f92c232b990>",
      "text/html": "<style type=\"text/css\">\n#T_0bed9_row9_col1, #T_0bed9_row15_col1, #T_0bed9_row20_col1 {\n  background-color: lightgreen;\n}\n</style>\n<table id=\"T_0bed9\">\n  <thead>\n    <tr>\n      <th class=\"blank level0\" >&nbsp;</th>\n      <th id=\"T_0bed9_level0_col0\" class=\"col_heading level0 col0\" >Description</th>\n      <th id=\"T_0bed9_level0_col1\" class=\"col_heading level0 col1\" >Value</th>\n    </tr>\n  </thead>\n  <tbody>\n    <tr>\n      <th id=\"T_0bed9_level0_row0\" class=\"row_heading level0 row0\" >0</th>\n      <td id=\"T_0bed9_row0_col0\" class=\"data row0 col0\" >Session id</td>\n      <td id=\"T_0bed9_row0_col1\" class=\"data row0 col1\" >812</td>\n    </tr>\n    <tr>\n      <th id=\"T_0bed9_level0_row1\" class=\"row_heading level0 row1\" >1</th>\n      <td id=\"T_0bed9_row1_col0\" class=\"data row1 col0\" >Target</td>\n      <td id=\"T_0bed9_row1_col1\" class=\"data row1 col1\" >is_legit</td>\n    </tr>\n    <tr>\n      <th id=\"T_0bed9_level0_row2\" class=\"row_heading level0 row2\" >2</th>\n      <td id=\"T_0bed9_row2_col0\" class=\"data row2 col0\" >Target type</td>\n      <td id=\"T_0bed9_row2_col1\" class=\"data row2 col1\" >Regression</td>\n    </tr>\n    <tr>\n      <th id=\"T_0bed9_level0_row3\" class=\"row_heading level0 row3\" >3</th>\n      <td id=\"T_0bed9_row3_col0\" class=\"data row3 col0\" >Original data shape</td>\n      <td id=\"T_0bed9_row3_col1\" class=\"data row3 col1\" >(239257, 12)</td>\n    </tr>\n    <tr>\n      <th id=\"T_0bed9_level0_row4\" class=\"row_heading level0 row4\" >4</th>\n      <td id=\"T_0bed9_row4_col0\" class=\"data row4 col0\" >Transformed data shape</td>\n      <td id=\"T_0bed9_row4_col1\" class=\"data row4 col1\" >(239257, 12)</td>\n    </tr>\n    <tr>\n      <th id=\"T_0bed9_level0_row5\" class=\"row_heading level0 row5\" >5</th>\n      <td id=\"T_0bed9_row5_col0\" class=\"data row5 col0\" >Transformed train set shape</td>\n      <td id=\"T_0bed9_row5_col1\" class=\"data row5 col1\" >(167479, 12)</td>\n    </tr>\n    <tr>\n      <th id=\"T_0bed9_level0_row6\" class=\"row_heading level0 row6\" >6</th>\n      <td id=\"T_0bed9_row6_col0\" class=\"data row6 col0\" >Transformed test set shape</td>\n      <td id=\"T_0bed9_row6_col1\" class=\"data row6 col1\" >(71778, 12)</td>\n    </tr>\n    <tr>\n      <th id=\"T_0bed9_level0_row7\" class=\"row_heading level0 row7\" >7</th>\n      <td id=\"T_0bed9_row7_col0\" class=\"data row7 col0\" >Numeric features</td>\n      <td id=\"T_0bed9_row7_col1\" class=\"data row7 col1\" >10</td>\n    </tr>\n    <tr>\n      <th id=\"T_0bed9_level0_row8\" class=\"row_heading level0 row8\" >8</th>\n      <td id=\"T_0bed9_row8_col0\" class=\"data row8 col0\" >Categorical features</td>\n      <td id=\"T_0bed9_row8_col1\" class=\"data row8 col1\" >1</td>\n    </tr>\n    <tr>\n      <th id=\"T_0bed9_level0_row9\" class=\"row_heading level0 row9\" >9</th>\n      <td id=\"T_0bed9_row9_col0\" class=\"data row9 col0\" >Preprocess</td>\n      <td id=\"T_0bed9_row9_col1\" class=\"data row9 col1\" >True</td>\n    </tr>\n    <tr>\n      <th id=\"T_0bed9_level0_row10\" class=\"row_heading level0 row10\" >10</th>\n      <td id=\"T_0bed9_row10_col0\" class=\"data row10 col0\" >Imputation type</td>\n      <td id=\"T_0bed9_row10_col1\" class=\"data row10 col1\" >simple</td>\n    </tr>\n    <tr>\n      <th id=\"T_0bed9_level0_row11\" class=\"row_heading level0 row11\" >11</th>\n      <td id=\"T_0bed9_row11_col0\" class=\"data row11 col0\" >Numeric imputation</td>\n      <td id=\"T_0bed9_row11_col1\" class=\"data row11 col1\" >mean</td>\n    </tr>\n    <tr>\n      <th id=\"T_0bed9_level0_row12\" class=\"row_heading level0 row12\" >12</th>\n      <td id=\"T_0bed9_row12_col0\" class=\"data row12 col0\" >Categorical imputation</td>\n      <td id=\"T_0bed9_row12_col1\" class=\"data row12 col1\" >mode</td>\n    </tr>\n    <tr>\n      <th id=\"T_0bed9_level0_row13\" class=\"row_heading level0 row13\" >13</th>\n      <td id=\"T_0bed9_row13_col0\" class=\"data row13 col0\" >Maximum one-hot encoding</td>\n      <td id=\"T_0bed9_row13_col1\" class=\"data row13 col1\" >25</td>\n    </tr>\n    <tr>\n      <th id=\"T_0bed9_level0_row14\" class=\"row_heading level0 row14\" >14</th>\n      <td id=\"T_0bed9_row14_col0\" class=\"data row14 col0\" >Encoding method</td>\n      <td id=\"T_0bed9_row14_col1\" class=\"data row14 col1\" >None</td>\n    </tr>\n    <tr>\n      <th id=\"T_0bed9_level0_row15\" class=\"row_heading level0 row15\" >15</th>\n      <td id=\"T_0bed9_row15_col0\" class=\"data row15 col0\" >Normalize</td>\n      <td id=\"T_0bed9_row15_col1\" class=\"data row15 col1\" >True</td>\n    </tr>\n    <tr>\n      <th id=\"T_0bed9_level0_row16\" class=\"row_heading level0 row16\" >16</th>\n      <td id=\"T_0bed9_row16_col0\" class=\"data row16 col0\" >Normalize method</td>\n      <td id=\"T_0bed9_row16_col1\" class=\"data row16 col1\" >zscore</td>\n    </tr>\n    <tr>\n      <th id=\"T_0bed9_level0_row17\" class=\"row_heading level0 row17\" >17</th>\n      <td id=\"T_0bed9_row17_col0\" class=\"data row17 col0\" >Fold Generator</td>\n      <td id=\"T_0bed9_row17_col1\" class=\"data row17 col1\" >KFold</td>\n    </tr>\n    <tr>\n      <th id=\"T_0bed9_level0_row18\" class=\"row_heading level0 row18\" >18</th>\n      <td id=\"T_0bed9_row18_col0\" class=\"data row18 col0\" >Fold Number</td>\n      <td id=\"T_0bed9_row18_col1\" class=\"data row18 col1\" >10</td>\n    </tr>\n    <tr>\n      <th id=\"T_0bed9_level0_row19\" class=\"row_heading level0 row19\" >19</th>\n      <td id=\"T_0bed9_row19_col0\" class=\"data row19 col0\" >CPU Jobs</td>\n      <td id=\"T_0bed9_row19_col1\" class=\"data row19 col1\" >-1</td>\n    </tr>\n    <tr>\n      <th id=\"T_0bed9_level0_row20\" class=\"row_heading level0 row20\" >20</th>\n      <td id=\"T_0bed9_row20_col0\" class=\"data row20 col0\" >Use GPU</td>\n      <td id=\"T_0bed9_row20_col1\" class=\"data row20 col1\" >True</td>\n    </tr>\n    <tr>\n      <th id=\"T_0bed9_level0_row21\" class=\"row_heading level0 row21\" >21</th>\n      <td id=\"T_0bed9_row21_col0\" class=\"data row21 col0\" >Log Experiment</td>\n      <td id=\"T_0bed9_row21_col1\" class=\"data row21 col1\" >False</td>\n    </tr>\n    <tr>\n      <th id=\"T_0bed9_level0_row22\" class=\"row_heading level0 row22\" >22</th>\n      <td id=\"T_0bed9_row22_col0\" class=\"data row22 col0\" >Experiment Name</td>\n      <td id=\"T_0bed9_row22_col1\" class=\"data row22 col1\" >semantic_regression</td>\n    </tr>\n    <tr>\n      <th id=\"T_0bed9_level0_row23\" class=\"row_heading level0 row23\" >23</th>\n      <td id=\"T_0bed9_row23_col0\" class=\"data row23 col0\" >USI</td>\n      <td id=\"T_0bed9_row23_col1\" class=\"data row23 col1\" >ce24</td>\n    </tr>\n  </tbody>\n</table>\n"
     },
     "metadata": {},
     "output_type": "display_data"
    },
    {
     "name": "stdout",
     "output_type": "stream",
     "text": [
      "[LightGBM] [Warning] There are no meaningful features which satisfy the provided configuration. Decreasing Dataset parameters min_data_in_bin or min_data_in_leaf and re-constructing Dataset might resolve this warning.\n",
      "[LightGBM] [Info] This is the GPU trainer!!\n",
      "[LightGBM] [Info] Total Bins 0\n",
      "[LightGBM] [Info] Number of data points in the train set: 2, number of used features: 0\n",
      "[LightGBM] [Warning] There are no meaningful features which satisfy the provided configuration. Decreasing Dataset parameters min_data_in_bin or min_data_in_leaf and re-constructing Dataset might resolve this warning.\n",
      "[LightGBM] [Warning] Using sparse features with CUDA is currently not supported.\n",
      "[LightGBM] [Warning] There are no meaningful features which satisfy the provided configuration. Decreasing Dataset parameters min_data_in_bin or min_data_in_leaf and re-constructing Dataset might resolve this warning.\n",
      "[LightGBM] [Info] This is the GPU trainer!!\n",
      "[LightGBM] [Info] Total Bins 0\n",
      "[LightGBM] [Info] Number of data points in the train set: 2, number of used features: 0\n",
      "[LightGBM] [Warning] There are no meaningful features which satisfy the provided configuration. Decreasing Dataset parameters min_data_in_bin or min_data_in_leaf and re-constructing Dataset might resolve this warning.\n",
      "[LightGBM] [Warning] Using sparse features with CUDA is currently not supported.\n"
     ]
    },
    {
     "name": "stderr",
     "output_type": "stream",
     "text": [
      "[LightGBM] [Fatal] CUDA Tree Learner was not enabled in this build.\n",
      "Please recompile with CMake option -DUSE_CUDA=1\n",
      "[LightGBM] [Fatal] CUDA Tree Learner was not enabled in this build.\n",
      "Please recompile with CMake option -DUSE_CUDA=1\n"
     ]
    },
    {
     "name": "stdout",
     "output_type": "stream",
     "text": [
      "Transformation Pipeline and Model Successfully Loaded\n"
     ]
    },
    {
     "ename": "NotImplementedError",
     "evalue": "Model 'builtins_str' is not supported",
     "output_type": "error",
     "traceback": [
      "\u001B[0;31m---------------------------------------------------------------------------\u001B[0m",
      "\u001B[0;31mNotImplementedError\u001B[0m                       Traceback (most recent call last)",
      "Cell \u001B[0;32mIn[9], line 4\u001B[0m\n\u001B[1;32m      1\u001B[0m model_setup \u001B[38;5;241m=\u001B[39m setup(data\u001B[38;5;241m=\u001B[39mdf_semantic, target\u001B[38;5;241m=\u001B[39m\u001B[38;5;124m'\u001B[39m\u001B[38;5;124mis_legit\u001B[39m\u001B[38;5;124m'\u001B[39m, session_id\u001B[38;5;241m=\u001B[39m\u001B[38;5;241m812\u001B[39m, use_gpu\u001B[38;5;241m=\u001B[39m\u001B[38;5;28;01mTrue\u001B[39;00m, log_experiment\u001B[38;5;241m=\u001B[39m\u001B[38;5;28;01mFalse\u001B[39;00m, experiment_name\u001B[38;5;241m=\u001B[39m\u001B[38;5;124m'\u001B[39m\u001B[38;5;124msemantic_regression\u001B[39m\u001B[38;5;124m'\u001B[39m, normalize\u001B[38;5;241m=\u001B[39m\u001B[38;5;28;01mTrue\u001B[39;00m)\n\u001B[1;32m      3\u001B[0m model \u001B[38;5;241m=\u001B[39m load_model(\u001B[38;5;124m'\u001B[39m\u001B[38;5;124msemantic_regression_et\u001B[39m\u001B[38;5;124m'\u001B[39m)\n\u001B[0;32m----> 4\u001B[0m model_go \u001B[38;5;241m=\u001B[39m \u001B[43mconvert_model\u001B[49m\u001B[43m(\u001B[49m\u001B[38;5;124;43m'\u001B[39;49m\u001B[38;5;124;43met\u001B[39;49m\u001B[38;5;124;43m'\u001B[39;49m\u001B[43m,\u001B[49m\u001B[43m \u001B[49m\u001B[38;5;124;43m'\u001B[39;49m\u001B[38;5;124;43mgo\u001B[39;49m\u001B[38;5;124;43m'\u001B[39;49m\u001B[43m)\u001B[49m\n",
      "File \u001B[0;32m/opt/conda/lib/python3.11/site-packages/pycaret/utils/generic.py:964\u001B[0m, in \u001B[0;36mcheck_if_global_is_not_none.<locals>.decorator.<locals>.wrapper\u001B[0;34m(*args, **kwargs)\u001B[0m\n\u001B[1;32m    962\u001B[0m     \u001B[38;5;28;01mif\u001B[39;00m globals_d[name] \u001B[38;5;129;01mis\u001B[39;00m \u001B[38;5;28;01mNone\u001B[39;00m:\n\u001B[1;32m    963\u001B[0m         \u001B[38;5;28;01mraise\u001B[39;00m \u001B[38;5;167;01mValueError\u001B[39;00m(message)\n\u001B[0;32m--> 964\u001B[0m \u001B[38;5;28;01mreturn\u001B[39;00m \u001B[43mfunc\u001B[49m\u001B[43m(\u001B[49m\u001B[38;5;241;43m*\u001B[39;49m\u001B[43margs\u001B[49m\u001B[43m,\u001B[49m\u001B[43m \u001B[49m\u001B[38;5;241;43m*\u001B[39;49m\u001B[38;5;241;43m*\u001B[39;49m\u001B[43mkwargs\u001B[49m\u001B[43m)\u001B[49m\n",
      "File \u001B[0;32m/opt/conda/lib/python3.11/site-packages/pycaret/regression/functional.py:2797\u001B[0m, in \u001B[0;36mconvert_model\u001B[0;34m(estimator, language)\u001B[0m\n\u001B[1;32m   2748\u001B[0m \u001B[38;5;129m@check_if_global_is_not_none\u001B[39m(\u001B[38;5;28mglobals\u001B[39m(), _CURRENT_EXPERIMENT_DECORATOR_DICT)\n\u001B[1;32m   2749\u001B[0m \u001B[38;5;28;01mdef\u001B[39;00m \u001B[38;5;21mconvert_model\u001B[39m(estimator, language: \u001B[38;5;28mstr\u001B[39m \u001B[38;5;241m=\u001B[39m \u001B[38;5;124m\"\u001B[39m\u001B[38;5;124mpython\u001B[39m\u001B[38;5;124m\"\u001B[39m) \u001B[38;5;241m-\u001B[39m\u001B[38;5;241m>\u001B[39m \u001B[38;5;28mstr\u001B[39m:\n\u001B[1;32m   2750\u001B[0m \u001B[38;5;250m    \u001B[39m\u001B[38;5;124;03m\"\"\"\u001B[39;00m\n\u001B[1;32m   2751\u001B[0m \u001B[38;5;124;03m    This function transpiles trained machine learning models into native\u001B[39;00m\n\u001B[1;32m   2752\u001B[0m \u001B[38;5;124;03m    inference script in different programming languages (Python, C, Java,\u001B[39;00m\n\u001B[0;32m   (...)\u001B[0m\n\u001B[1;32m   2795\u001B[0m \n\u001B[1;32m   2796\u001B[0m \u001B[38;5;124;03m    \"\"\"\u001B[39;00m\n\u001B[0;32m-> 2797\u001B[0m     \u001B[38;5;28;01mreturn\u001B[39;00m \u001B[43m_CURRENT_EXPERIMENT\u001B[49m\u001B[38;5;241;43m.\u001B[39;49m\u001B[43mconvert_model\u001B[49m\u001B[43m(\u001B[49m\u001B[43mestimator\u001B[49m\u001B[43m,\u001B[49m\u001B[43m \u001B[49m\u001B[43mlanguage\u001B[49m\u001B[43m)\u001B[49m\n",
      "File \u001B[0;32m/opt/conda/lib/python3.11/site-packages/pycaret/internal/pycaret_experiment/tabular_experiment.py:2507\u001B[0m, in \u001B[0;36m_TabularExperiment.convert_model\u001B[0;34m(estimator, language)\u001B[0m\n\u001B[1;32m   2505\u001B[0m     \u001B[38;5;28;01mreturn\u001B[39;00m m2c\u001B[38;5;241m.\u001B[39mexport_to_f_sharp(estimator)\n\u001B[1;32m   2506\u001B[0m \u001B[38;5;28;01melif\u001B[39;00m language \u001B[38;5;241m==\u001B[39m \u001B[38;5;124m\"\u001B[39m\u001B[38;5;124mgo\u001B[39m\u001B[38;5;124m\"\u001B[39m:\n\u001B[0;32m-> 2507\u001B[0m     \u001B[38;5;28;01mreturn\u001B[39;00m \u001B[43mm2c\u001B[49m\u001B[38;5;241;43m.\u001B[39;49m\u001B[43mexport_to_go\u001B[49m\u001B[43m(\u001B[49m\u001B[43mestimator\u001B[49m\u001B[43m)\u001B[49m\n\u001B[1;32m   2508\u001B[0m \u001B[38;5;28;01melif\u001B[39;00m language \u001B[38;5;241m==\u001B[39m \u001B[38;5;124m\"\u001B[39m\u001B[38;5;124mhaskell\u001B[39m\u001B[38;5;124m\"\u001B[39m:\n\u001B[1;32m   2509\u001B[0m     \u001B[38;5;28;01mreturn\u001B[39;00m m2c\u001B[38;5;241m.\u001B[39mexport_to_haskell(estimator)\n",
      "File \u001B[0;32m/opt/conda/lib/python3.11/site-packages/m2cgen/exporters.py:105\u001B[0m, in \u001B[0;36mexport_to_go\u001B[0;34m(model, indent, function_name)\u001B[0m\n\u001B[1;32m     85\u001B[0m \u001B[38;5;250m\u001B[39m\u001B[38;5;124;03m\"\"\"\u001B[39;00m\n\u001B[1;32m     86\u001B[0m \u001B[38;5;124;03mGenerates a Go code representation of the given model.\u001B[39;00m\n\u001B[1;32m     87\u001B[0m \n\u001B[0;32m   (...)\u001B[0m\n\u001B[1;32m     99\u001B[0m \u001B[38;5;124;03mcode : string\u001B[39;00m\n\u001B[1;32m    100\u001B[0m \u001B[38;5;124;03m\"\"\"\u001B[39;00m\n\u001B[1;32m    101\u001B[0m interpreter \u001B[38;5;241m=\u001B[39m interpreters\u001B[38;5;241m.\u001B[39mGoInterpreter(\n\u001B[1;32m    102\u001B[0m     indent\u001B[38;5;241m=\u001B[39mindent,\n\u001B[1;32m    103\u001B[0m     function_name\u001B[38;5;241m=\u001B[39mfunction_name\n\u001B[1;32m    104\u001B[0m )\n\u001B[0;32m--> 105\u001B[0m \u001B[38;5;28;01mreturn\u001B[39;00m \u001B[43m_export\u001B[49m\u001B[43m(\u001B[49m\u001B[43mmodel\u001B[49m\u001B[43m,\u001B[49m\u001B[43m \u001B[49m\u001B[43minterpreter\u001B[49m\u001B[43m)\u001B[49m\n",
      "File \u001B[0;32m/opt/conda/lib/python3.11/site-packages/m2cgen/exporters.py:458\u001B[0m, in \u001B[0;36m_export\u001B[0;34m(model, interpreter)\u001B[0m\n\u001B[1;32m    457\u001B[0m \u001B[38;5;28;01mdef\u001B[39;00m \u001B[38;5;21m_export\u001B[39m(model, interpreter):\n\u001B[0;32m--> 458\u001B[0m     assembler_cls \u001B[38;5;241m=\u001B[39m \u001B[43mget_assembler_cls\u001B[49m\u001B[43m(\u001B[49m\u001B[43mmodel\u001B[49m\u001B[43m)\u001B[49m\n\u001B[1;32m    459\u001B[0m     model_ast \u001B[38;5;241m=\u001B[39m assembler_cls(model)\u001B[38;5;241m.\u001B[39massemble()\n\u001B[1;32m    460\u001B[0m     \u001B[38;5;28;01mreturn\u001B[39;00m interpreter\u001B[38;5;241m.\u001B[39minterpret(model_ast)\n",
      "File \u001B[0;32m/opt/conda/lib/python3.11/site-packages/m2cgen/assemblers/__init__.py:147\u001B[0m, in \u001B[0;36mget_assembler_cls\u001B[0;34m(model)\u001B[0m\n\u001B[1;32m    144\u001B[0m assembler_cls \u001B[38;5;241m=\u001B[39m SUPPORTED_MODELS\u001B[38;5;241m.\u001B[39mget(model_name)\n\u001B[1;32m    146\u001B[0m \u001B[38;5;28;01mif\u001B[39;00m \u001B[38;5;129;01mnot\u001B[39;00m assembler_cls:\n\u001B[0;32m--> 147\u001B[0m     \u001B[38;5;28;01mraise\u001B[39;00m \u001B[38;5;167;01mNotImplementedError\u001B[39;00m(\u001B[38;5;124mf\u001B[39m\u001B[38;5;124m\"\u001B[39m\u001B[38;5;124mModel \u001B[39m\u001B[38;5;124m'\u001B[39m\u001B[38;5;132;01m{\u001B[39;00mmodel_name\u001B[38;5;132;01m}\u001B[39;00m\u001B[38;5;124m'\u001B[39m\u001B[38;5;124m is not supported\u001B[39m\u001B[38;5;124m\"\u001B[39m)\n\u001B[1;32m    149\u001B[0m \u001B[38;5;28;01mreturn\u001B[39;00m assembler_cls\n",
      "\u001B[0;31mNotImplementedError\u001B[0m: Model 'builtins_str' is not supported"
     ]
    }
   ],
   "source": [
    "model_setup = setup(data=df_semantic, target='is_legit', session_id=812, use_gpu=True, log_experiment=False,\n",
    "                    experiment_name='semantic_regression', normalize=True)"
   ],
   "metadata": {
    "collapsed": false,
    "ExecuteTime": {
     "end_time": "2024-03-27T11:22:32.813538Z",
     "start_time": "2024-03-27T11:22:28.200018Z"
    }
   },
   "id": "2a5fceb279825afa",
   "execution_count": 9
  },
  {
   "cell_type": "code",
   "outputs": [
    {
     "name": "stdout",
     "output_type": "stream",
     "text": [
      "[LightGBM] [Warning] There are no meaningful features which satisfy the provided configuration. Decreasing Dataset parameters min_data_in_bin or min_data_in_leaf and re-constructing Dataset might resolve this warning.\n",
      "[LightGBM] [Info] This is the GPU trainer!!\n",
      "[LightGBM] [Info] Total Bins 0\n",
      "[LightGBM] [Info] Number of data points in the train set: 2, number of used features: 0\n",
      "[LightGBM] [Warning] There are no meaningful features which satisfy the provided configuration. Decreasing Dataset parameters min_data_in_bin or min_data_in_leaf and re-constructing Dataset might resolve this warning.\n",
      "[LightGBM] [Warning] Using sparse features with CUDA is currently not supported.\n",
      "[LightGBM] [Warning] There are no meaningful features which satisfy the provided configuration. Decreasing Dataset parameters min_data_in_bin or min_data_in_leaf and re-constructing Dataset might resolve this warning.\n",
      "[LightGBM] [Info] This is the GPU trainer!!\n",
      "[LightGBM] [Info] Total Bins 0\n",
      "[LightGBM] [Info] Number of data points in the train set: 2, number of used features: 0\n",
      "[LightGBM] [Warning] There are no meaningful features which satisfy the provided configuration. Decreasing Dataset parameters min_data_in_bin or min_data_in_leaf and re-constructing Dataset might resolve this warning.\n",
      "[LightGBM] [Warning] Using sparse features with CUDA is currently not supported.\n"
     ]
    },
    {
     "name": "stderr",
     "output_type": "stream",
     "text": [
      "[LightGBM] [Fatal] CUDA Tree Learner was not enabled in this build.\n",
      "Please recompile with CMake option -DUSE_CUDA=1\n",
      "[LightGBM] [Fatal] CUDA Tree Learner was not enabled in this build.\n",
      "Please recompile with CMake option -DUSE_CUDA=1\n"
     ]
    },
    {
     "data": {
      "text/plain": "                                       Name  \\\nID                                            \nlr                        Linear Regression   \nlasso                      Lasso Regression   \nridge                      Ridge Regression   \nen                              Elastic Net   \nlar                  Least Angle Regression   \nllar           Lasso Least Angle Regression   \nomp             Orthogonal Matching Pursuit   \nbr                           Bayesian Ridge   \nard       Automatic Relevance Determination   \npar            Passive Aggressive Regressor   \nransac              Random Sample Consensus   \ntr                       TheilSen Regressor   \nhuber                       Huber Regressor   \nkr                             Kernel Ridge   \nsvm               Support Vector Regression   \nknn                   K Neighbors Regressor   \ndt                  Decision Tree Regressor   \nrf                  Random Forest Regressor   \net                    Extra Trees Regressor   \nada                      AdaBoost Regressor   \ngbr             Gradient Boosting Regressor   \nmlp                           MLP Regressor   \nlightgbm    Light Gradient Boosting Machine   \ndummy                       Dummy Regressor   \n\n                                                  Reference  Turbo  \nID                                                                  \nlr              sklearn.linear_model._base.LinearRegression   True  \nlasso        sklearn.linear_model._coordinate_descent.Lasso   True  \nridge                     sklearn.linear_model._ridge.Ridge   True  \nen        sklearn.linear_model._coordinate_descent.Elast...   True  \nlar                  sklearn.linear_model._least_angle.Lars   True  \nllar            sklearn.linear_model._least_angle.LassoLars   True  \nomp       sklearn.linear_model._omp.OrthogonalMatchingPu...   True  \nbr                sklearn.linear_model._bayes.BayesianRidge   True  \nard               sklearn.linear_model._bayes.ARDRegression  False  \npar       sklearn.linear_model._passive_aggressive.Passi...   True  \nransac         sklearn.linear_model._ransac.RANSACRegressor  False  \ntr        sklearn.linear_model._theil_sen.TheilSenRegressor  False  \nhuber            sklearn.linear_model._huber.HuberRegressor   True  \nkr                         sklearn.kernel_ridge.KernelRidge  False  \nsvm                                sklearn.svm._classes.SVR  False  \nknn       sklearn.neighbors._regression.KNeighborsRegressor   True  \ndt              sklearn.tree._classes.DecisionTreeRegressor   True  \nrf           sklearn.ensemble._forest.RandomForestRegressor   True  \net             sklearn.ensemble._forest.ExtraTreesRegressor   True  \nada       sklearn.ensemble._weight_boosting.AdaBoostRegr...   True  \ngbr          sklearn.ensemble._gb.GradientBoostingRegressor   True  \nmlp       sklearn.neural_network._multilayer_perceptron....  False  \nlightgbm                     lightgbm.sklearn.LGBMRegressor   True  \ndummy                          sklearn.dummy.DummyRegressor   True  ",
      "text/html": "<div>\n<style scoped>\n    .dataframe tbody tr th:only-of-type {\n        vertical-align: middle;\n    }\n\n    .dataframe tbody tr th {\n        vertical-align: top;\n    }\n\n    .dataframe thead th {\n        text-align: right;\n    }\n</style>\n<table border=\"1\" class=\"dataframe\">\n  <thead>\n    <tr style=\"text-align: right;\">\n      <th></th>\n      <th>Name</th>\n      <th>Reference</th>\n      <th>Turbo</th>\n    </tr>\n    <tr>\n      <th>ID</th>\n      <th></th>\n      <th></th>\n      <th></th>\n    </tr>\n  </thead>\n  <tbody>\n    <tr>\n      <th>lr</th>\n      <td>Linear Regression</td>\n      <td>sklearn.linear_model._base.LinearRegression</td>\n      <td>True</td>\n    </tr>\n    <tr>\n      <th>lasso</th>\n      <td>Lasso Regression</td>\n      <td>sklearn.linear_model._coordinate_descent.Lasso</td>\n      <td>True</td>\n    </tr>\n    <tr>\n      <th>ridge</th>\n      <td>Ridge Regression</td>\n      <td>sklearn.linear_model._ridge.Ridge</td>\n      <td>True</td>\n    </tr>\n    <tr>\n      <th>en</th>\n      <td>Elastic Net</td>\n      <td>sklearn.linear_model._coordinate_descent.Elast...</td>\n      <td>True</td>\n    </tr>\n    <tr>\n      <th>lar</th>\n      <td>Least Angle Regression</td>\n      <td>sklearn.linear_model._least_angle.Lars</td>\n      <td>True</td>\n    </tr>\n    <tr>\n      <th>llar</th>\n      <td>Lasso Least Angle Regression</td>\n      <td>sklearn.linear_model._least_angle.LassoLars</td>\n      <td>True</td>\n    </tr>\n    <tr>\n      <th>omp</th>\n      <td>Orthogonal Matching Pursuit</td>\n      <td>sklearn.linear_model._omp.OrthogonalMatchingPu...</td>\n      <td>True</td>\n    </tr>\n    <tr>\n      <th>br</th>\n      <td>Bayesian Ridge</td>\n      <td>sklearn.linear_model._bayes.BayesianRidge</td>\n      <td>True</td>\n    </tr>\n    <tr>\n      <th>ard</th>\n      <td>Automatic Relevance Determination</td>\n      <td>sklearn.linear_model._bayes.ARDRegression</td>\n      <td>False</td>\n    </tr>\n    <tr>\n      <th>par</th>\n      <td>Passive Aggressive Regressor</td>\n      <td>sklearn.linear_model._passive_aggressive.Passi...</td>\n      <td>True</td>\n    </tr>\n    <tr>\n      <th>ransac</th>\n      <td>Random Sample Consensus</td>\n      <td>sklearn.linear_model._ransac.RANSACRegressor</td>\n      <td>False</td>\n    </tr>\n    <tr>\n      <th>tr</th>\n      <td>TheilSen Regressor</td>\n      <td>sklearn.linear_model._theil_sen.TheilSenRegressor</td>\n      <td>False</td>\n    </tr>\n    <tr>\n      <th>huber</th>\n      <td>Huber Regressor</td>\n      <td>sklearn.linear_model._huber.HuberRegressor</td>\n      <td>True</td>\n    </tr>\n    <tr>\n      <th>kr</th>\n      <td>Kernel Ridge</td>\n      <td>sklearn.kernel_ridge.KernelRidge</td>\n      <td>False</td>\n    </tr>\n    <tr>\n      <th>svm</th>\n      <td>Support Vector Regression</td>\n      <td>sklearn.svm._classes.SVR</td>\n      <td>False</td>\n    </tr>\n    <tr>\n      <th>knn</th>\n      <td>K Neighbors Regressor</td>\n      <td>sklearn.neighbors._regression.KNeighborsRegressor</td>\n      <td>True</td>\n    </tr>\n    <tr>\n      <th>dt</th>\n      <td>Decision Tree Regressor</td>\n      <td>sklearn.tree._classes.DecisionTreeRegressor</td>\n      <td>True</td>\n    </tr>\n    <tr>\n      <th>rf</th>\n      <td>Random Forest Regressor</td>\n      <td>sklearn.ensemble._forest.RandomForestRegressor</td>\n      <td>True</td>\n    </tr>\n    <tr>\n      <th>et</th>\n      <td>Extra Trees Regressor</td>\n      <td>sklearn.ensemble._forest.ExtraTreesRegressor</td>\n      <td>True</td>\n    </tr>\n    <tr>\n      <th>ada</th>\n      <td>AdaBoost Regressor</td>\n      <td>sklearn.ensemble._weight_boosting.AdaBoostRegr...</td>\n      <td>True</td>\n    </tr>\n    <tr>\n      <th>gbr</th>\n      <td>Gradient Boosting Regressor</td>\n      <td>sklearn.ensemble._gb.GradientBoostingRegressor</td>\n      <td>True</td>\n    </tr>\n    <tr>\n      <th>mlp</th>\n      <td>MLP Regressor</td>\n      <td>sklearn.neural_network._multilayer_perceptron....</td>\n      <td>False</td>\n    </tr>\n    <tr>\n      <th>lightgbm</th>\n      <td>Light Gradient Boosting Machine</td>\n      <td>lightgbm.sklearn.LGBMRegressor</td>\n      <td>True</td>\n    </tr>\n    <tr>\n      <th>dummy</th>\n      <td>Dummy Regressor</td>\n      <td>sklearn.dummy.DummyRegressor</td>\n      <td>True</td>\n    </tr>\n  </tbody>\n</table>\n</div>"
     },
     "execution_count": 13,
     "metadata": {},
     "output_type": "execute_result"
    }
   ],
   "source": [
    "all_models = models()\n",
    "all_models"
   ],
   "metadata": {
    "collapsed": false,
    "ExecuteTime": {
     "end_time": "2024-03-27T11:23:28.287355Z",
     "start_time": "2024-03-27T11:23:28.020990Z"
    }
   },
   "id": "c9be7090e6dc8349",
   "execution_count": 13
  },
  {
   "cell_type": "code",
   "outputs": [
    {
     "name": "stdout",
     "output_type": "stream",
     "text": [
      "Transformation Pipeline and Model Successfully Loaded\n"
     ]
    },
    {
     "data": {
      "text/plain": "                                                                    \n                                                                    \nInitiated  . . . . . . . . . . . . . . . . . .              11:25:41\nStatus     . . . . . . . . . . . . . . . . . .  Loading Dependencies\nEstimator  . . . . . . . . . . . . . . . . . .     Compiling Library",
      "text/html": "<div>\n<style scoped>\n    .dataframe tbody tr th:only-of-type {\n        vertical-align: middle;\n    }\n\n    .dataframe tbody tr th {\n        vertical-align: top;\n    }\n\n    .dataframe thead th {\n        text-align: right;\n    }\n</style>\n<table border=\"1\" class=\"dataframe\">\n  <thead>\n    <tr style=\"text-align: right;\">\n      <th></th>\n      <th></th>\n      <th></th>\n    </tr>\n    <tr>\n      <th></th>\n      <th></th>\n      <th></th>\n    </tr>\n  </thead>\n  <tbody>\n    <tr>\n      <th>Initiated</th>\n      <td>. . . . . . . . . . . . . . . . . .</td>\n      <td>11:25:41</td>\n    </tr>\n    <tr>\n      <th>Status</th>\n      <td>. . . . . . . . . . . . . . . . . .</td>\n      <td>Loading Dependencies</td>\n    </tr>\n    <tr>\n      <th>Estimator</th>\n      <td>. . . . . . . . . . . . . . . . . .</td>\n      <td>Compiling Library</td>\n    </tr>\n  </tbody>\n</table>\n</div>"
     },
     "metadata": {},
     "output_type": "display_data"
    },
    {
     "data": {
      "text/plain": "<IPython.core.display.HTML object>",
      "text/html": ""
     },
     "metadata": {},
     "output_type": "display_data"
    },
    {
     "data": {
      "text/plain": "<pandas.io.formats.style.Styler at 0x7f92c36987d0>",
      "text/html": "<style type=\"text/css\">\n#T_cd076_row10_col0, #T_cd076_row10_col1, #T_cd076_row10_col2, #T_cd076_row10_col3, #T_cd076_row10_col4, #T_cd076_row10_col5 {\n  background: yellow;\n}\n</style>\n<table id=\"T_cd076\">\n  <thead>\n    <tr>\n      <th class=\"blank level0\" >&nbsp;</th>\n      <th id=\"T_cd076_level0_col0\" class=\"col_heading level0 col0\" >MAE</th>\n      <th id=\"T_cd076_level0_col1\" class=\"col_heading level0 col1\" >MSE</th>\n      <th id=\"T_cd076_level0_col2\" class=\"col_heading level0 col2\" >RMSE</th>\n      <th id=\"T_cd076_level0_col3\" class=\"col_heading level0 col3\" >R2</th>\n      <th id=\"T_cd076_level0_col4\" class=\"col_heading level0 col4\" >RMSLE</th>\n      <th id=\"T_cd076_level0_col5\" class=\"col_heading level0 col5\" >MAPE</th>\n    </tr>\n    <tr>\n      <th class=\"index_name level0\" >Fold</th>\n      <th class=\"blank col0\" >&nbsp;</th>\n      <th class=\"blank col1\" >&nbsp;</th>\n      <th class=\"blank col2\" >&nbsp;</th>\n      <th class=\"blank col3\" >&nbsp;</th>\n      <th class=\"blank col4\" >&nbsp;</th>\n      <th class=\"blank col5\" >&nbsp;</th>\n    </tr>\n  </thead>\n  <tbody>\n    <tr>\n      <th id=\"T_cd076_level0_row0\" class=\"row_heading level0 row0\" >0</th>\n      <td id=\"T_cd076_row0_col0\" class=\"data row0 col0\" >0.4135</td>\n      <td id=\"T_cd076_row0_col1\" class=\"data row0 col1\" >0.2090</td>\n      <td id=\"T_cd076_row0_col2\" class=\"data row0 col2\" >0.4572</td>\n      <td id=\"T_cd076_row0_col3\" class=\"data row0 col3\" >0.0334</td>\n      <td id=\"T_cd076_row0_col4\" class=\"data row0 col4\" >0.3200</td>\n      <td id=\"T_cd076_row0_col5\" class=\"data row0 col5\" >0.6724</td>\n    </tr>\n    <tr>\n      <th id=\"T_cd076_level0_row1\" class=\"row_heading level0 row1\" >1</th>\n      <td id=\"T_cd076_row1_col0\" class=\"data row1 col0\" >0.4108</td>\n      <td id=\"T_cd076_row1_col1\" class=\"data row1 col1\" >0.2071</td>\n      <td id=\"T_cd076_row1_col2\" class=\"data row1 col2\" >0.4551</td>\n      <td id=\"T_cd076_row1_col3\" class=\"data row1 col3\" >0.0389</td>\n      <td id=\"T_cd076_row1_col4\" class=\"data row1 col4\" >0.3185</td>\n      <td id=\"T_cd076_row1_col5\" class=\"data row1 col5\" >0.6719</td>\n    </tr>\n    <tr>\n      <th id=\"T_cd076_level0_row2\" class=\"row_heading level0 row2\" >2</th>\n      <td id=\"T_cd076_row2_col0\" class=\"data row2 col0\" >0.4108</td>\n      <td id=\"T_cd076_row2_col1\" class=\"data row2 col1\" >0.2096</td>\n      <td id=\"T_cd076_row2_col2\" class=\"data row2 col2\" >0.4579</td>\n      <td id=\"T_cd076_row2_col3\" class=\"data row2 col3\" >0.0390</td>\n      <td id=\"T_cd076_row2_col4\" class=\"data row2 col4\" >0.3187</td>\n      <td id=\"T_cd076_row2_col5\" class=\"data row2 col5\" >0.6761</td>\n    </tr>\n    <tr>\n      <th id=\"T_cd076_level0_row3\" class=\"row_heading level0 row3\" >3</th>\n      <td id=\"T_cd076_row3_col0\" class=\"data row3 col0\" >0.4124</td>\n      <td id=\"T_cd076_row3_col1\" class=\"data row3 col1\" >0.2061</td>\n      <td id=\"T_cd076_row3_col2\" class=\"data row3 col2\" >0.4540</td>\n      <td id=\"T_cd076_row3_col3\" class=\"data row3 col3\" >0.0428</td>\n      <td id=\"T_cd076_row3_col4\" class=\"data row3 col4\" >0.3184</td>\n      <td id=\"T_cd076_row3_col5\" class=\"data row3 col5\" >0.6641</td>\n    </tr>\n    <tr>\n      <th id=\"T_cd076_level0_row4\" class=\"row_heading level0 row4\" >4</th>\n      <td id=\"T_cd076_row4_col0\" class=\"data row4 col0\" >0.4207</td>\n      <td id=\"T_cd076_row4_col1\" class=\"data row4 col1\" >0.2117</td>\n      <td id=\"T_cd076_row4_col2\" class=\"data row4 col2\" >0.4601</td>\n      <td id=\"T_cd076_row4_col3\" class=\"data row4 col3\" >0.0298</td>\n      <td id=\"T_cd076_row4_col4\" class=\"data row4 col4\" >0.3228</td>\n      <td id=\"T_cd076_row4_col5\" class=\"data row4 col5\" >0.6631</td>\n    </tr>\n    <tr>\n      <th id=\"T_cd076_level0_row5\" class=\"row_heading level0 row5\" >5</th>\n      <td id=\"T_cd076_row5_col0\" class=\"data row5 col0\" >0.4086</td>\n      <td id=\"T_cd076_row5_col1\" class=\"data row5 col1\" >0.2068</td>\n      <td id=\"T_cd076_row5_col2\" class=\"data row5 col2\" >0.4547</td>\n      <td id=\"T_cd076_row5_col3\" class=\"data row5 col3\" >0.0426</td>\n      <td id=\"T_cd076_row5_col4\" class=\"data row5 col4\" >0.3174</td>\n      <td id=\"T_cd076_row5_col5\" class=\"data row5 col5\" >0.6738</td>\n    </tr>\n    <tr>\n      <th id=\"T_cd076_level0_row6\" class=\"row_heading level0 row6\" >6</th>\n      <td id=\"T_cd076_row6_col0\" class=\"data row6 col0\" >0.4096</td>\n      <td id=\"T_cd076_row6_col1\" class=\"data row6 col1\" >0.2082</td>\n      <td id=\"T_cd076_row6_col2\" class=\"data row6 col2\" >0.4563</td>\n      <td id=\"T_cd076_row6_col3\" class=\"data row6 col3\" >0.0428</td>\n      <td id=\"T_cd076_row6_col4\" class=\"data row6 col4\" >0.3178</td>\n      <td id=\"T_cd076_row6_col5\" class=\"data row6 col5\" >0.6762</td>\n    </tr>\n    <tr>\n      <th id=\"T_cd076_level0_row7\" class=\"row_heading level0 row7\" >7</th>\n      <td id=\"T_cd076_row7_col0\" class=\"data row7 col0\" >0.4120</td>\n      <td id=\"T_cd076_row7_col1\" class=\"data row7 col1\" >0.2061</td>\n      <td id=\"T_cd076_row7_col2\" class=\"data row7 col2\" >0.4540</td>\n      <td id=\"T_cd076_row7_col3\" class=\"data row7 col3\" >0.0444</td>\n      <td id=\"T_cd076_row7_col4\" class=\"data row7 col4\" >0.3186</td>\n      <td id=\"T_cd076_row7_col5\" class=\"data row7 col5\" >0.6614</td>\n    </tr>\n    <tr>\n      <th id=\"T_cd076_level0_row8\" class=\"row_heading level0 row8\" >8</th>\n      <td id=\"T_cd076_row8_col0\" class=\"data row8 col0\" >0.4115</td>\n      <td id=\"T_cd076_row8_col1\" class=\"data row8 col1\" >0.2076</td>\n      <td id=\"T_cd076_row8_col2\" class=\"data row8 col2\" >0.4556</td>\n      <td id=\"T_cd076_row8_col3\" class=\"data row8 col3\" >0.0386</td>\n      <td id=\"T_cd076_row8_col4\" class=\"data row8 col4\" >0.3189</td>\n      <td id=\"T_cd076_row8_col5\" class=\"data row8 col5\" >0.6693</td>\n    </tr>\n    <tr>\n      <th id=\"T_cd076_level0_row9\" class=\"row_heading level0 row9\" >9</th>\n      <td id=\"T_cd076_row9_col0\" class=\"data row9 col0\" >0.4078</td>\n      <td id=\"T_cd076_row9_col1\" class=\"data row9 col1\" >0.2064</td>\n      <td id=\"T_cd076_row9_col2\" class=\"data row9 col2\" >0.4543</td>\n      <td id=\"T_cd076_row9_col3\" class=\"data row9 col3\" >0.0460</td>\n      <td id=\"T_cd076_row9_col4\" class=\"data row9 col4\" >0.3167</td>\n      <td id=\"T_cd076_row9_col5\" class=\"data row9 col5\" >0.6738</td>\n    </tr>\n    <tr>\n      <th id=\"T_cd076_level0_row10\" class=\"row_heading level0 row10\" >Mean</th>\n      <td id=\"T_cd076_row10_col0\" class=\"data row10 col0\" >0.4118</td>\n      <td id=\"T_cd076_row10_col1\" class=\"data row10 col1\" >0.2079</td>\n      <td id=\"T_cd076_row10_col2\" class=\"data row10 col2\" >0.4559</td>\n      <td id=\"T_cd076_row10_col3\" class=\"data row10 col3\" >0.0398</td>\n      <td id=\"T_cd076_row10_col4\" class=\"data row10 col4\" >0.3188</td>\n      <td id=\"T_cd076_row10_col5\" class=\"data row10 col5\" >0.6702</td>\n    </tr>\n    <tr>\n      <th id=\"T_cd076_level0_row11\" class=\"row_heading level0 row11\" >Std</th>\n      <td id=\"T_cd076_row11_col0\" class=\"data row11 col0\" >0.0034</td>\n      <td id=\"T_cd076_row11_col1\" class=\"data row11 col1\" >0.0017</td>\n      <td id=\"T_cd076_row11_col2\" class=\"data row11 col2\" >0.0019</td>\n      <td id=\"T_cd076_row11_col3\" class=\"data row11 col3\" >0.0048</td>\n      <td id=\"T_cd076_row11_col4\" class=\"data row11 col4\" >0.0016</td>\n      <td id=\"T_cd076_row11_col5\" class=\"data row11 col5\" >0.0052</td>\n    </tr>\n  </tbody>\n</table>\n"
     },
     "metadata": {},
     "output_type": "display_data"
    },
    {
     "ename": "AttributeError",
     "evalue": "'ExtraTreesRegressor' object has no attribute 'load_model'",
     "output_type": "error",
     "traceback": [
      "\u001B[0;31m---------------------------------------------------------------------------\u001B[0m",
      "\u001B[0;31mAttributeError\u001B[0m                            Traceback (most recent call last)",
      "Cell \u001B[0;32mIn[18], line 4\u001B[0m\n\u001B[1;32m      1\u001B[0m model \u001B[38;5;241m=\u001B[39m load_model(\u001B[38;5;124m'\u001B[39m\u001B[38;5;124msemantic_regression_et\u001B[39m\u001B[38;5;124m'\u001B[39m)\n\u001B[1;32m      2\u001B[0m et \u001B[38;5;241m=\u001B[39m create_model(\u001B[38;5;124m'\u001B[39m\u001B[38;5;124met\u001B[39m\u001B[38;5;124m'\u001B[39m)\n\u001B[0;32m----> 4\u001B[0m \u001B[43met\u001B[49m\u001B[38;5;241;43m.\u001B[39;49m\u001B[43mload_model\u001B[49m(\u001B[38;5;124m'\u001B[39m\u001B[38;5;124msemantic_regression_et\u001B[39m\u001B[38;5;124m'\u001B[39m)\n\u001B[1;32m      6\u001B[0m \u001B[38;5;66;03m# model_go = convert_model(et, 'go')\u001B[39;00m\n",
      "\u001B[0;31mAttributeError\u001B[0m: 'ExtraTreesRegressor' object has no attribute 'load_model'"
     ]
    }
   ],
   "source": [
    "model = load_model('semantic_regression_et')\n",
    "et = create_model('et')\n",
    "\n",
    "et.load_model('semantic_regression_et')\n",
    "\n",
    "model_go = convert_model(et, 'go')"
   ],
   "metadata": {
    "collapsed": false,
    "ExecuteTime": {
     "end_time": "2024-03-27T11:25:48.901491Z",
     "start_time": "2024-03-27T11:25:41.497593Z"
    }
   },
   "id": "1e9c10ab5307757",
   "execution_count": 18
  },
  {
   "cell_type": "code",
   "outputs": [],
   "source": [
    "f = open(\"golang_semantics_extra_trees.go\", \"a\")\n",
    "f.write(model_go)\n",
    "f.close()"
   ],
   "metadata": {
    "collapsed": false,
    "ExecuteTime": {
     "end_time": "2024-03-27T11:27:32.267814Z",
     "start_time": "2024-03-27T11:27:32.263114Z"
    }
   },
   "id": "f6c7c6f63ee8755a",
   "execution_count": 20
  }
 ],
 "metadata": {
  "kernelspec": {
   "display_name": "Python 3 (ipykernel)",
   "language": "python",
   "name": "python3"
  },
  "language_info": {
   "codemirror_mode": {
    "name": "ipython",
    "version": 3
   },
   "file_extension": ".py",
   "mimetype": "text/x-python",
   "name": "python",
   "nbconvert_exporter": "python",
   "pygments_lexer": "ipython3",
   "version": "3.11.7"
  }
 },
 "nbformat": 4,
 "nbformat_minor": 5
}
